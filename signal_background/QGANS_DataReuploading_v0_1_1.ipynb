{
  "nbformat": 4,
  "nbformat_minor": 0,
  "metadata": {
    "colab": {
      "name": "QGANS_DataReuploading_v0.1.1.ipynb",
      "provenance": [],
      "collapsed_sections": [],
      "authorship_tag": "ABX9TyNFplDnkjhqBXHG8hHkbaQ6"
    },
    "kernelspec": {
      "name": "python3",
      "display_name": "Python 3"
    },
    "language_info": {
      "name": "python"
    },
    "gpuClass": "standard"
  },
  "cells": [
    {
      "cell_type": "code",
      "execution_count": null,
      "metadata": {
        "colab": {
          "base_uri": "https://localhost:8080/"
        },
        "id": "N-jSMFMw3vaV",
        "outputId": "16792781-7c96-4985-c3f7-0b400341157d"
      },
      "outputs": [
        {
          "output_type": "stream",
          "name": "stdout",
          "text": [
            "Looking in indexes: https://pypi.org/simple, https://us-python.pkg.dev/colab-wheels/public/simple/\n",
            "Collecting tensorflow==2.7.0\n",
            "  Downloading https://us-python.pkg.dev/colab-wheels/public/tensorflow/tensorflow-2.7.0%2Bzzzcolab20220506150900-cp37-cp37m-linux_x86_64.whl\n",
            "\u001b[K     / 665.5 MB 39 kB/s\n",
            "\u001b[?25hRequirement already satisfied: grpcio<2.0,>=1.24.3 in /usr/local/lib/python3.7/dist-packages (from tensorflow==2.7.0) (1.46.3)\n",
            "Requirement already satisfied: six>=1.12.0 in /usr/local/lib/python3.7/dist-packages (from tensorflow==2.7.0) (1.15.0)\n",
            "Requirement already satisfied: astunparse>=1.6.0 in /usr/local/lib/python3.7/dist-packages (from tensorflow==2.7.0) (1.6.3)\n",
            "Requirement already satisfied: protobuf>=3.9.2 in /usr/local/lib/python3.7/dist-packages (from tensorflow==2.7.0) (3.17.3)\n",
            "Collecting gast<0.5.0,>=0.2.1\n",
            "  Downloading gast-0.4.0-py3-none-any.whl (9.8 kB)\n",
            "Requirement already satisfied: keras-preprocessing>=1.1.1 in /usr/local/lib/python3.7/dist-packages (from tensorflow==2.7.0) (1.1.2)\n",
            "Requirement already satisfied: absl-py>=0.4.0 in /usr/local/lib/python3.7/dist-packages (from tensorflow==2.7.0) (1.1.0)\n",
            "Requirement already satisfied: wrapt>=1.11.0 in /usr/local/lib/python3.7/dist-packages (from tensorflow==2.7.0) (1.14.1)\n",
            "Requirement already satisfied: opt-einsum>=2.3.2 in /usr/local/lib/python3.7/dist-packages (from tensorflow==2.7.0) (3.3.0)\n",
            "Collecting tensorflow-estimator<2.8,~=2.7.0rc0\n",
            "  Downloading tensorflow_estimator-2.7.0-py2.py3-none-any.whl (463 kB)\n",
            "\u001b[K     |████████████████████████████████| 463 kB 5.2 MB/s \n",
            "\u001b[?25hRequirement already satisfied: wheel<1.0,>=0.32.0 in /usr/local/lib/python3.7/dist-packages (from tensorflow==2.7.0) (0.37.1)\n",
            "Requirement already satisfied: libclang>=9.0.1 in /usr/local/lib/python3.7/dist-packages (from tensorflow==2.7.0) (14.0.1)\n",
            "Requirement already satisfied: numpy>=1.14.5 in /usr/local/lib/python3.7/dist-packages (from tensorflow==2.7.0) (1.21.6)\n",
            "Requirement already satisfied: google-pasta>=0.1.1 in /usr/local/lib/python3.7/dist-packages (from tensorflow==2.7.0) (0.2.0)\n",
            "Requirement already satisfied: termcolor>=1.1.0 in /usr/local/lib/python3.7/dist-packages (from tensorflow==2.7.0) (1.1.0)\n",
            "Requirement already satisfied: flatbuffers<3.0,>=1.12 in /usr/local/lib/python3.7/dist-packages (from tensorflow==2.7.0) (2.0)\n",
            "Collecting keras<2.8,>=2.7.0rc0\n",
            "  Downloading keras-2.7.0-py2.py3-none-any.whl (1.3 MB)\n",
            "\u001b[K     |████████████████████████████████| 1.3 MB 31.0 MB/s \n",
            "\u001b[?25hRequirement already satisfied: h5py>=2.9.0 in /usr/local/lib/python3.7/dist-packages (from tensorflow==2.7.0) (3.1.0)\n",
            "Requirement already satisfied: tensorboard~=2.6 in /usr/local/lib/python3.7/dist-packages (from tensorflow==2.7.0) (2.8.0)\n",
            "Requirement already satisfied: typing-extensions>=3.6.6 in /usr/local/lib/python3.7/dist-packages (from tensorflow==2.7.0) (3.10.0.0)\n",
            "Requirement already satisfied: tensorflow-io-gcs-filesystem>=0.21.0 in /usr/local/lib/python3.7/dist-packages (from tensorflow==2.7.0) (0.26.0)\n",
            "Requirement already satisfied: cached-property in /usr/local/lib/python3.7/dist-packages (from h5py>=2.9.0->tensorflow==2.7.0) (1.5.2)\n",
            "Requirement already satisfied: tensorboard-plugin-wit>=1.6.0 in /usr/local/lib/python3.7/dist-packages (from tensorboard~=2.6->tensorflow==2.7.0) (1.8.1)\n",
            "Requirement already satisfied: requests<3,>=2.21.0 in /usr/local/lib/python3.7/dist-packages (from tensorboard~=2.6->tensorflow==2.7.0) (2.23.0)\n",
            "Requirement already satisfied: setuptools>=41.0.0 in /usr/local/lib/python3.7/dist-packages (from tensorboard~=2.6->tensorflow==2.7.0) (57.4.0)\n",
            "Requirement already satisfied: tensorboard-data-server<0.7.0,>=0.6.0 in /usr/local/lib/python3.7/dist-packages (from tensorboard~=2.6->tensorflow==2.7.0) (0.6.1)\n",
            "Requirement already satisfied: google-auth<3,>=1.6.3 in /usr/local/lib/python3.7/dist-packages (from tensorboard~=2.6->tensorflow==2.7.0) (1.18.0)\n",
            "Requirement already satisfied: werkzeug>=0.11.15 in /usr/local/lib/python3.7/dist-packages (from tensorboard~=2.6->tensorflow==2.7.0) (1.0.1)\n",
            "Requirement already satisfied: markdown>=2.6.8 in /usr/local/lib/python3.7/dist-packages (from tensorboard~=2.6->tensorflow==2.7.0) (3.3.7)\n",
            "Requirement already satisfied: google-auth-oauthlib<0.5,>=0.4.1 in /usr/local/lib/python3.7/dist-packages (from tensorboard~=2.6->tensorflow==2.7.0) (0.4.6)\n",
            "Requirement already satisfied: pyasn1-modules>=0.2.1 in /usr/local/lib/python3.7/dist-packages (from google-auth<3,>=1.6.3->tensorboard~=2.6->tensorflow==2.7.0) (0.2.8)\n",
            "Requirement already satisfied: cachetools<5.0,>=2.0.0 in /usr/local/lib/python3.7/dist-packages (from google-auth<3,>=1.6.3->tensorboard~=2.6->tensorflow==2.7.0) (4.2.4)\n",
            "Requirement already satisfied: rsa<5,>=3.1.4 in /usr/local/lib/python3.7/dist-packages (from google-auth<3,>=1.6.3->tensorboard~=2.6->tensorflow==2.7.0) (4.8)\n",
            "Requirement already satisfied: requests-oauthlib>=0.7.0 in /usr/local/lib/python3.7/dist-packages (from google-auth-oauthlib<0.5,>=0.4.1->tensorboard~=2.6->tensorflow==2.7.0) (1.3.1)\n",
            "Requirement already satisfied: importlib-metadata>=4.4 in /usr/local/lib/python3.7/dist-packages (from markdown>=2.6.8->tensorboard~=2.6->tensorflow==2.7.0) (4.11.4)\n",
            "Requirement already satisfied: zipp>=0.5 in /usr/local/lib/python3.7/dist-packages (from importlib-metadata>=4.4->markdown>=2.6.8->tensorboard~=2.6->tensorflow==2.7.0) (3.8.0)\n",
            "Requirement already satisfied: pyasn1<0.5.0,>=0.4.6 in /usr/local/lib/python3.7/dist-packages (from pyasn1-modules>=0.2.1->google-auth<3,>=1.6.3->tensorboard~=2.6->tensorflow==2.7.0) (0.4.8)\n",
            "Requirement already satisfied: certifi>=2017.4.17 in /usr/local/lib/python3.7/dist-packages (from requests<3,>=2.21.0->tensorboard~=2.6->tensorflow==2.7.0) (2022.6.15)\n",
            "Requirement already satisfied: idna<3,>=2.5 in /usr/local/lib/python3.7/dist-packages (from requests<3,>=2.21.0->tensorboard~=2.6->tensorflow==2.7.0) (2.10)\n",
            "Requirement already satisfied: urllib3!=1.25.0,!=1.25.1,<1.26,>=1.21.1 in /usr/local/lib/python3.7/dist-packages (from requests<3,>=2.21.0->tensorboard~=2.6->tensorflow==2.7.0) (1.24.3)\n",
            "Requirement already satisfied: chardet<4,>=3.0.2 in /usr/local/lib/python3.7/dist-packages (from requests<3,>=2.21.0->tensorboard~=2.6->tensorflow==2.7.0) (3.0.4)\n",
            "Requirement already satisfied: oauthlib>=3.0.0 in /usr/local/lib/python3.7/dist-packages (from requests-oauthlib>=0.7.0->google-auth-oauthlib<0.5,>=0.4.1->tensorboard~=2.6->tensorflow==2.7.0) (3.2.0)\n",
            "Installing collected packages: tensorflow-estimator, keras, gast, tensorflow\n",
            "  Attempting uninstall: tensorflow-estimator\n",
            "    Found existing installation: tensorflow-estimator 2.8.0\n",
            "    Uninstalling tensorflow-estimator-2.8.0:\n",
            "      Successfully uninstalled tensorflow-estimator-2.8.0\n",
            "  Attempting uninstall: keras\n",
            "    Found existing installation: keras 2.8.0\n",
            "    Uninstalling keras-2.8.0:\n",
            "      Successfully uninstalled keras-2.8.0\n",
            "  Attempting uninstall: gast\n",
            "    Found existing installation: gast 0.5.3\n",
            "    Uninstalling gast-0.5.3:\n",
            "      Successfully uninstalled gast-0.5.3\n",
            "  Attempting uninstall: tensorflow\n",
            "    Found existing installation: tensorflow 2.8.2+zzzcolab20220527125636\n",
            "    Uninstalling tensorflow-2.8.2+zzzcolab20220527125636:\n",
            "      Successfully uninstalled tensorflow-2.8.2+zzzcolab20220527125636\n",
            "Successfully installed gast-0.4.0 keras-2.7.0 tensorflow-2.7.0+zzzcolab20220506150900 tensorflow-estimator-2.7.0\n"
          ]
        }
      ],
      "source": [
        "pip install tensorflow==2.7.0"
      ]
    },
    {
      "cell_type": "code",
      "source": [
        "# pip install tensorflow==2.4.1"
      ],
      "metadata": {
        "id": "NM-_Rh7GSy_6"
      },
      "execution_count": null,
      "outputs": []
    },
    {
      "cell_type": "code",
      "source": [
        "pip install tensorflow-quantum==0.6.0 --use-deprecated=legacy-resolver"
      ],
      "metadata": {
        "colab": {
          "base_uri": "https://localhost:8080/"
        },
        "id": "9AafjU6W31EY",
        "outputId": "ba6ffbe9-25d2-44bb-cc71-e50d099d2041"
      },
      "execution_count": 1,
      "outputs": [
        {
          "output_type": "stream",
          "name": "stdout",
          "text": [
            "Looking in indexes: https://pypi.org/simple, https://us-python.pkg.dev/colab-wheels/public/simple/\n",
            "Requirement already satisfied: tensorflow-quantum==0.6.0 in /usr/local/lib/python3.7/dist-packages (0.6.0)\n",
            "Requirement already satisfied: sympy==1.8 in /usr/local/lib/python3.7/dist-packages (from tensorflow-quantum==0.6.0) (1.8)\n",
            "Requirement already satisfied: google-auth==1.18.0 in /usr/local/lib/python3.7/dist-packages (from tensorflow-quantum==0.6.0) (1.18.0)\n",
            "Requirement already satisfied: cirq-google>=0.13.1 in /usr/local/lib/python3.7/dist-packages (from tensorflow-quantum==0.6.0) (1.0.0)\n",
            "Requirement already satisfied: google-api-core==1.21.0 in /usr/local/lib/python3.7/dist-packages (from tensorflow-quantum==0.6.0) (1.21.0)\n",
            "Requirement already satisfied: googleapis-common-protos==1.52.0 in /usr/local/lib/python3.7/dist-packages (from tensorflow-quantum==0.6.0) (1.52.0)\n",
            "Requirement already satisfied: cirq-core>=0.13.1 in /usr/local/lib/python3.7/dist-packages (from tensorflow-quantum==0.6.0) (1.0.0)\n",
            "Requirement already satisfied: protobuf==3.17.3 in /usr/local/lib/python3.7/dist-packages (from tensorflow-quantum==0.6.0) (3.17.3)\n",
            "Requirement already satisfied: mpmath>=0.19 in /usr/local/lib/python3.7/dist-packages (from sympy==1.8->tensorflow-quantum==0.6.0) (1.2.1)\n",
            "Requirement already satisfied: cachetools<5.0,>=2.0.0 in /usr/local/lib/python3.7/dist-packages (from google-auth==1.18.0->tensorflow-quantum==0.6.0) (4.2.4)\n",
            "Requirement already satisfied: six>=1.9.0 in /usr/local/lib/python3.7/dist-packages (from google-auth==1.18.0->tensorflow-quantum==0.6.0) (1.15.0)\n",
            "Requirement already satisfied: rsa<5,>=3.1.4; python_version >= \"3\" in /usr/local/lib/python3.7/dist-packages (from google-auth==1.18.0->tensorflow-quantum==0.6.0) (4.9)\n",
            "Requirement already satisfied: setuptools>=40.3.0 in /usr/local/lib/python3.7/dist-packages (from google-auth==1.18.0->tensorflow-quantum==0.6.0) (57.4.0)\n",
            "Requirement already satisfied: pyasn1-modules>=0.2.1 in /usr/local/lib/python3.7/dist-packages (from google-auth==1.18.0->tensorflow-quantum==0.6.0) (0.2.8)\n",
            "Requirement already satisfied: proto-plus>=1.20.0 in /usr/local/lib/python3.7/dist-packages (from cirq-google>=0.13.1->tensorflow-quantum==0.6.0) (1.20.6)\n",
            "Requirement already satisfied: pytz in /usr/local/lib/python3.7/dist-packages (from google-api-core==1.21.0->tensorflow-quantum==0.6.0) (2022.1)\n",
            "Requirement already satisfied: requests<3.0.0dev,>=2.18.0 in /usr/local/lib/python3.7/dist-packages (from google-api-core==1.21.0->tensorflow-quantum==0.6.0) (2.23.0)\n",
            "Requirement already satisfied: numpy~=1.16 in /usr/local/lib/python3.7/dist-packages (from cirq-core>=0.13.1->tensorflow-quantum==0.6.0) (1.21.6)\n",
            "Requirement already satisfied: matplotlib~=3.0 in /usr/local/lib/python3.7/dist-packages (from cirq-core>=0.13.1->tensorflow-quantum==0.6.0) (3.2.2)\n",
            "Requirement already satisfied: sortedcontainers~=2.0 in /usr/local/lib/python3.7/dist-packages (from cirq-core>=0.13.1->tensorflow-quantum==0.6.0) (2.4.0)\n",
            "Requirement already satisfied: typing-extensions in /usr/local/lib/python3.7/dist-packages (from cirq-core>=0.13.1->tensorflow-quantum==0.6.0) (4.1.1)\n",
            "Requirement already satisfied: pandas in /usr/local/lib/python3.7/dist-packages (from cirq-core>=0.13.1->tensorflow-quantum==0.6.0) (1.3.5)\n",
            "Requirement already satisfied: networkx~=2.4 in /usr/local/lib/python3.7/dist-packages (from cirq-core>=0.13.1->tensorflow-quantum==0.6.0) (2.6.3)\n",
            "Requirement already satisfied: backports.cached-property~=1.0.1; python_version < \"3.8\" in /usr/local/lib/python3.7/dist-packages (from cirq-core>=0.13.1->tensorflow-quantum==0.6.0) (1.0.2)\n",
            "Requirement already satisfied: duet~=0.2.7 in /usr/local/lib/python3.7/dist-packages (from cirq-core>=0.13.1->tensorflow-quantum==0.6.0) (0.2.7)\n",
            "Requirement already satisfied: scipy in /usr/local/lib/python3.7/dist-packages (from cirq-core>=0.13.1->tensorflow-quantum==0.6.0) (1.7.3)\n",
            "Requirement already satisfied: tqdm in /usr/local/lib/python3.7/dist-packages (from cirq-core>=0.13.1->tensorflow-quantum==0.6.0) (4.64.0)\n",
            "Requirement already satisfied: pyasn1>=0.1.3 in /usr/local/lib/python3.7/dist-packages (from rsa<5,>=3.1.4; python_version >= \"3\"->google-auth==1.18.0->tensorflow-quantum==0.6.0) (0.4.8)\n",
            "Requirement already satisfied: chardet<4,>=3.0.2 in /usr/local/lib/python3.7/dist-packages (from requests<3.0.0dev,>=2.18.0->google-api-core==1.21.0->tensorflow-quantum==0.6.0) (3.0.4)\n",
            "Requirement already satisfied: certifi>=2017.4.17 in /usr/local/lib/python3.7/dist-packages (from requests<3.0.0dev,>=2.18.0->google-api-core==1.21.0->tensorflow-quantum==0.6.0) (2022.6.15)\n",
            "Requirement already satisfied: urllib3!=1.25.0,!=1.25.1,<1.26,>=1.21.1 in /usr/local/lib/python3.7/dist-packages (from requests<3.0.0dev,>=2.18.0->google-api-core==1.21.0->tensorflow-quantum==0.6.0) (1.24.3)\n",
            "Requirement already satisfied: idna<3,>=2.5 in /usr/local/lib/python3.7/dist-packages (from requests<3.0.0dev,>=2.18.0->google-api-core==1.21.0->tensorflow-quantum==0.6.0) (2.10)\n",
            "Requirement already satisfied: cycler>=0.10 in /usr/local/lib/python3.7/dist-packages (from matplotlib~=3.0->cirq-core>=0.13.1->tensorflow-quantum==0.6.0) (0.11.0)\n",
            "Requirement already satisfied: kiwisolver>=1.0.1 in /usr/local/lib/python3.7/dist-packages (from matplotlib~=3.0->cirq-core>=0.13.1->tensorflow-quantum==0.6.0) (1.4.4)\n",
            "Requirement already satisfied: python-dateutil>=2.1 in /usr/local/lib/python3.7/dist-packages (from matplotlib~=3.0->cirq-core>=0.13.1->tensorflow-quantum==0.6.0) (2.8.2)\n",
            "Requirement already satisfied: pyparsing!=2.0.4,!=2.1.2,!=2.1.6,>=2.0.1 in /usr/local/lib/python3.7/dist-packages (from matplotlib~=3.0->cirq-core>=0.13.1->tensorflow-quantum==0.6.0) (3.0.9)\n"
          ]
        }
      ]
    },
    {
      "cell_type": "code",
      "source": [
        "# pip install tensorflow-quantum==0.2.0"
      ],
      "metadata": {
        "id": "hAcM9VIQKVQt"
      },
      "execution_count": null,
      "outputs": []
    },
    {
      "cell_type": "code",
      "source": [
        "# pip install quple"
      ],
      "metadata": {
        "id": "OYTVH6F_Aaz6"
      },
      "execution_count": null,
      "outputs": []
    },
    {
      "cell_type": "code",
      "source": [
        "import numpy as np \n",
        "import sympy as sp\n",
        "import pandas as pd\n",
        "import tensorflow as tf\n",
        "import tensorflow_quantum as tfq\n",
        "import cirq\n",
        "from cirq.contrib.svg import SVGCircuit\n",
        "from tensorflow_quantum.python.layers.circuit_construction import elementary\n",
        "# from quple import ParameterisedCircuit\n",
        "# import quple\n",
        "\n",
        "%matplotlib inline\n",
        "import matplotlib.pyplot as plt"
      ],
      "metadata": {
        "id": "iv7w62Gc5goE"
      },
      "execution_count": 2,
      "outputs": []
    },
    {
      "cell_type": "code",
      "source": [
        "# print(quple._version)"
      ],
      "metadata": {
        "id": "TCzkOwIISVX9"
      },
      "execution_count": 2,
      "outputs": []
    },
    {
      "cell_type": "code",
      "source": [
        "from google.colab import files\n",
        "upload_file = files.upload()"
      ],
      "metadata": {
        "colab": {
          "resources": {
            "http://localhost:8080/nbextensions/google.colab/files.js": {
              "data": "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",
              "ok": true,
              "headers": [
                [
                  "content-type",
                  "application/javascript"
                ]
              ],
              "status": 200,
              "status_text": ""
            }
          },
          "base_uri": "https://localhost:8080/",
          "height": 74
        },
        "id": "UFRCTAa-5ypm",
        "outputId": "8bde7209-d80d-40f7-faa6-baa72d8988a6"
      },
      "execution_count": 3,
      "outputs": [
        {
          "output_type": "display_data",
          "data": {
            "text/plain": [
              "<IPython.core.display.HTML object>"
            ],
            "text/html": [
              "\n",
              "     <input type=\"file\" id=\"files-af6ff302-ce24-4d9d-a243-9a672f684c3e\" name=\"files[]\" multiple disabled\n",
              "        style=\"border:none\" />\n",
              "     <output id=\"result-af6ff302-ce24-4d9d-a243-9a672f684c3e\">\n",
              "      Upload widget is only available when the cell has been executed in the\n",
              "      current browser session. Please rerun this cell to enable.\n",
              "      </output>\n",
              "      <script src=\"/nbextensions/google.colab/files.js\"></script> "
            ]
          },
          "metadata": {}
        },
        {
          "output_type": "stream",
          "name": "stdout",
          "text": [
            "Saving QIS_EXAM_200Events.npz to QIS_EXAM_200Events (2).npz\n"
          ]
        }
      ]
    },
    {
      "cell_type": "code",
      "source": [
        "data = np.load('./QIS_EXAM_200Events.npz',allow_pickle = True)\n",
        "X_train = data['training_input'].item()\n",
        "X_test = data['test_input'].item()\n",
        "# print(X_train['0'])\n",
        "X_train_0 = X_train['0']\n",
        "X_test_0 = X_test['0']\n",
        "X_train_1 = X_train['1']\n",
        "X_test_1 = X_test['1']\n",
        "\n",
        "\n",
        "X_train = np.concatenate((X_train_0,X_train_1),axis=0)\n",
        "X_test = np.concatenate((X_test_0,X_test_1),axis=0)\n",
        "\n",
        "y_train = np.zeros((len(X_train),1))\n",
        "y_test = np.zeros((len(X_test),1))\n",
        "y_train[len(X_train_0):] = 1\n",
        "y_test[len(X_test_0):] = 1\n",
        "# print([d.T for d in [X_train_1, X_train_0] ])\n",
        "\n",
        "print(X_train_0[0].shape)"
      ],
      "metadata": {
        "id": "PMKhRorq54d7",
        "colab": {
          "base_uri": "https://localhost:8080/"
        },
        "outputId": "4630b604-8c5a-4e53-c95f-407faf791f4f"
      },
      "execution_count": 4,
      "outputs": [
        {
          "output_type": "stream",
          "name": "stdout",
          "text": [
            "(5,)\n"
          ]
        }
      ]
    },
    {
      "cell_type": "code",
      "source": [
        "def make_plots(data, labels, binning=20, columns=3):\n",
        "    X = [d.T for d in data]\n",
        "    fig=plt.figure(figsize=(20, 10))\n",
        "    rows =  1 + (X[0].shape[0] // columns)\n",
        "    bins = np.histogram(np.hstack(tuple(X)), bins=binning)[1]\n",
        "    plt.subplots_adjust(hspace=0.3)\n",
        "    for i in range(X[0].shape[0]):\n",
        "        ax = fig.add_subplot(rows, columns, i+1)\n",
        "        ax.set_title('Variable {}'.format(i+1), fontsize=15)\n",
        "        for j, x in enumerate(X):\n",
        "            ax.hist(x[i], bins=bins, alpha=.5, label=labels[j])\n",
        "        ax.legend(loc='lower center', bbox_to_anchor=(0.5, -.2), ncol=len(data), fontsize=10)\n",
        "    plt.show()"
      ],
      "metadata": {
        "id": "nGHD7RAc6BxI"
      },
      "execution_count": 5,
      "outputs": []
    },
    {
      "cell_type": "code",
      "source": [
        "make_plots([X_train_1, X_train_0], ['signal', 'background'])"
      ],
      "metadata": {
        "colab": {
          "base_uri": "https://localhost:8080/",
          "height": 635
        },
        "id": "rY5Cr-Hu6Or_",
        "outputId": "ed038a87-baa9-42a6-d49f-493955a8d5ee"
      },
      "execution_count": 6,
      "outputs": [
        {
          "output_type": "display_data",
          "data": {
            "text/plain": [
              "<Figure size 1440x720 with 5 Axes>"
            ],
            "image/png": "[encoded data removed]"
          },
          "metadata": {
            "needs_background": "light"
          }
        }
      ]
    },
    {
      "cell_type": "code",
      "source": [
        "def one_qubit_unitary(qubits,symbols) -> cirq.Circuit :\n",
        "  circuit = cirq.Circuit()\n",
        "  # num_qubits = len(qubits)\n",
        "  # k=0\n",
        "  # for i in range(num_qubits):\n",
        "  #   circuit.append(cirq.rx(symbols[k])(qubits[i]))\n",
        "  #   k+=1\n",
        "  # for i in range(num_qubits):\n",
        "  #   circuit.append(cirq.ry(symbols[k])(qubits[i]))\n",
        "  #   k+=1\n",
        "  # for i in range(num_qubits):\n",
        "  #   circuit.append(cirq.rz(symbols[k])(qubits[i]))\n",
        "  #   k+=1\n",
        "  circuit.append(cirq.rx(symbols[0])(qubits))\n",
        "  circuit.append(cirq.ry(symbols[1])(qubits))\n",
        "  circuit.append(cirq.rz(symbols[2])(qubits))\n",
        "  return circuit"
      ],
      "metadata": {
        "id": "4bNP1p_96gA-"
      },
      "execution_count": 7,
      "outputs": []
    },
    {
      "cell_type": "code",
      "source": [
        "def two_qubit_unitary(qubits,symbols):\n",
        "  circuit = cirq.Circuit()\n",
        "  num_qubits = len(qubits)\n",
        "  k=0\n",
        "  for i in range(1,num_qubits,2):\n",
        "    circuit.append(cirq.CNOT(qubits[i-1],qubits[i]))\n",
        "    circuit.append(cirq.rz(symbols[k])(qubits[i]))\n",
        "    circuit.append(cirq.CNOT(qubits[i-1],qubits[i]))\n",
        "    k+=1\n",
        "  \n",
        "  return circuit"
      ],
      "metadata": {
        "id": "dwwaMAZM5M8g"
      },
      "execution_count": 8,
      "outputs": []
    },
    {
      "cell_type": "code",
      "source": [
        "def entanglement_unitary(qubits,num_qubits):\n",
        "  circuit = cirq.Circuit()\n",
        "  for i in range(num_qubits):\n",
        "    if i<num_qubits-1:\n",
        "      circuit += cirq.CZ(qubits[i],qubits[i+1])\n",
        "  if num_qubits!=2 : \n",
        "    circuit += cirq.CZ(qubits[num_qubits-1],qubits[0])\n",
        "  return circuit"
      ],
      "metadata": {
        "id": "Y7221tvsKVM3"
      },
      "execution_count": 9,
      "outputs": []
    },
    {
      "cell_type": "code",
      "source": [
        "def generator_drc_circuit(qubits,features_size,use_entanglement=False, layers=1):\n",
        "  circuit = cirq.Circuit()\n",
        "  num_qubits = len(qubits)\n",
        "  if(features_size % 3 != 0):\n",
        "    padding = (3-(features_size % 3)) % 3\n",
        "  else:\n",
        "    padding = 0\n",
        "\n",
        "  bias_symbols = sp.symbols('theta_:'+str((features_size + padding)*layers*num_qubits)) \n",
        "  bias_symbols = np.asarray(bias_symbols).reshape(layers,num_qubits,features_size+padding) \n",
        "  features_symbols = sp.symbols('x_:'+str((features_size + padding)*layers*num_qubits))\n",
        "  features_symbols = np.asarray(features_symbols).reshape(layers,num_qubits,features_size+padding)\n",
        "  for layer in range(layers):\n",
        "    for gate in range(int(np.ceil(features_size/3))):\n",
        "      circuit += [one_qubit_unitary(q, features_symbols[layer,i,gate*3:(gate+1)*3]) for i,q in enumerate(qubits)]\n",
        "      circuit += [one_qubit_unitary(q, bias_symbols[layer,i,gate*3:(gate+1)*3]) for i,q in enumerate(qubits)]\n",
        "    \n",
        "    if num_qubits>1 and (layer != layers-1 or layers == 1) and use_entanglement :\n",
        "      circuit += entanglement_unitary(qubits,num_qubits)\n",
        "  \n",
        "  return circuit"
      ],
      "metadata": {
        "id": "PxJj00r38e3S"
      },
      "execution_count": 10,
      "outputs": []
    },
    {
      "cell_type": "code",
      "source": [
        "SVGCircuit(generator_drc_circuit(cirq.GridQubit.rect(1,2),5,use_entanglement = True, layers=3))\n",
        "#print(generator_circuit(cirq.GridQubit.rect(1,2),5,use_entanglement = True, layers=2))"
      ],
      "metadata": {
        "colab": {
          "base_uri": "https://localhost:8080/",
          "height": 159
        },
        "id": "vP3G6yh-uI2j",
        "outputId": "fb710fc8-a61e-4c00-8bf0-f414c7a9d602"
      },
      "execution_count": 11,
      "outputs": [
        {
          "output_type": "stream",
          "name": "stderr",
          "text": [
            "findfont: Font family ['Arial'] not found. Falling back to DejaVu Sans.\n"
          ]
        },
        {
          "output_type": "execute_result",
          "data": {
            "text/plain": [
              "<cirq.contrib.svg.svg.SVGCircuit at 0x7f4858799590>"
            ],
            "image/svg+xml": "<svg xmlns=\"http://www.w3.org/2000/svg\" width=\"7486.819296874994\" height=\"100.0\"><line x1=\"34.7588671875\" x2=\"7456.819296874994\" y1=\"25.0\" y2=\"25.0\" stroke=\"#1967d2\" stroke-width=\"1\" /><line x1=\"34.7588671875\" x2=\"7456.819296874994\" y1=\"75.0\" y2=\"75.0\" stroke=\"#1967d2\" stroke-width=\"1\" /><line x1=\"2399.8552343750007\" x2=\"2399.8552343750007\" y1=\"25.0\" y2=\"75.0\" stroke=\"black\" stroke-width=\"3\" /><line x1=\"4938.337265624999\" x2=\"4938.337265624999\" y1=\"25.0\" y2=\"75.0\" stroke=\"black\" stroke-width=\"3\" /><rect x=\"10.0\" y=\"5.0\" width=\"49.517734375\" height=\"40\" stroke=\"black\" fill=\"white\" stroke-width=\"0\" /><text x=\"34.7588671875\" y=\"25.0\" dominant-baseline=\"middle\" text-anchor=\"middle\" font-size=\"14px\" font-family=\"Arial\">(0, 0): </text><rect x=\"10.0\" y=\"55.0\" width=\"49.517734375\" height=\"40\" stroke=\"black\" fill=\"white\" stroke-width=\"0\" /><text x=\"34.7588671875\" y=\"75.0\" dominant-baseline=\"middle\" text-anchor=\"middle\" font-size=\"14px\" font-family=\"Arial\">(0, 1): </text><rect x=\"79.517734375\" y=\"5.0\" width=\"60.5523046875\" height=\"40\" stroke=\"black\" fill=\"white\" stroke-width=\"1\" /><text x=\"109.79388671875\" y=\"25.0\" dominant-baseline=\"middle\" text-anchor=\"middle\" font-size=\"14px\" font-family=\"Arial\">Rx(x_0)</text><rect x=\"160.0700390625\" y=\"5.0\" width=\"59.7823046875\" height=\"40\" stroke=\"black\" fill=\"white\" stroke-width=\"1\" /><text x=\"189.96119140625\" y=\"25.0\" dominant-baseline=\"middle\" text-anchor=\"middle\" font-size=\"14px\" font-family=\"Arial\">Ry(x_1)</text><rect x=\"239.85234374999996\" y=\"5.0\" width=\"59.61578125\" height=\"40\" stroke=\"black\" fill=\"white\" stroke-width=\"1\" /><text x=\"269.66023437499996\" y=\"25.0\" dominant-baseline=\"middle\" text-anchor=\"middle\" font-size=\"14px\" font-family=\"Arial\">Rz(x_2)</text><rect x=\"319.468125\" y=\"55.0\" width=\"60.5523046875\" height=\"40\" stroke=\"black\" fill=\"white\" stroke-width=\"1\" /><text x=\"349.74427734375\" y=\"75.0\" dominant-baseline=\"middle\" text-anchor=\"middle\" font-size=\"14px\" font-family=\"Arial\">Rx(x_6)</text><rect x=\"400.0204296875\" y=\"55.0\" width=\"59.7823046875\" height=\"40\" stroke=\"black\" fill=\"white\" stroke-width=\"1\" /><text x=\"429.91158203124996\" y=\"75.0\" dominant-baseline=\"middle\" text-anchor=\"middle\" font-size=\"14px\" font-family=\"Arial\">Ry(x_7)</text><rect x=\"479.802734375\" y=\"55.0\" width=\"59.61578125\" height=\"40\" stroke=\"black\" fill=\"white\" stroke-width=\"1\" /><text x=\"509.610625\" y=\"75.0\" dominant-baseline=\"middle\" text-anchor=\"middle\" font-size=\"14px\" font-family=\"Arial\">Rz(x_8)</text><rect x=\"559.418515625\" y=\"5.0\" width=\"89.31109375000001\" height=\"40\" stroke=\"black\" fill=\"white\" stroke-width=\"1\" /><text x=\"604.0740625000001\" y=\"25.0\" dominant-baseline=\"middle\" text-anchor=\"middle\" font-size=\"14px\" font-family=\"Arial\">Rx(theta_0)</text><rect x=\"668.7296093750001\" y=\"5.0\" width=\"88.54109375\" height=\"40\" stroke=\"black\" fill=\"white\" stroke-width=\"1\" /><text x=\"713.0001562500001\" y=\"25.0\" dominant-baseline=\"middle\" text-anchor=\"middle\" font-size=\"14px\" font-family=\"Arial\">Ry(theta_1)</text><rect x=\"777.2707031250001\" y=\"5.0\" width=\"88.37457031250001\" height=\"40\" stroke=\"black\" fill=\"white\" stroke-width=\"1\" /><text x=\"821.4579882812501\" y=\"25.0\" dominant-baseline=\"middle\" text-anchor=\"middle\" font-size=\"14px\" font-family=\"Arial\">Rz(theta_2)</text><rect x=\"885.6452734375001\" y=\"55.0\" width=\"89.31109375000001\" height=\"40\" stroke=\"black\" fill=\"white\" stroke-width=\"1\" /><text x=\"930.3008203125002\" y=\"75.0\" dominant-baseline=\"middle\" text-anchor=\"middle\" font-size=\"14px\" font-family=\"Arial\">Rx(theta_6)</text><rect x=\"994.9563671875001\" y=\"55.0\" width=\"88.54109375\" height=\"40\" stroke=\"black\" fill=\"white\" stroke-width=\"1\" /><text x=\"1039.2269140625\" y=\"75.0\" dominant-baseline=\"middle\" text-anchor=\"middle\" font-size=\"14px\" font-family=\"Arial\">Ry(theta_7)</text><rect x=\"1103.4974609375001\" y=\"55.0\" width=\"88.37457031250001\" height=\"40\" stroke=\"black\" fill=\"white\" stroke-width=\"1\" /><text x=\"1147.6847460937502\" y=\"75.0\" dominant-baseline=\"middle\" text-anchor=\"middle\" font-size=\"14px\" font-family=\"Arial\">Rz(theta_8)</text><rect x=\"1211.8720312500002\" y=\"5.0\" width=\"60.5523046875\" height=\"40\" stroke=\"black\" fill=\"white\" stroke-width=\"1\" /><text x=\"1242.1481835937502\" y=\"25.0\" dominant-baseline=\"middle\" text-anchor=\"middle\" font-size=\"14px\" font-family=\"Arial\">Rx(x_3)</text><rect x=\"1292.4243359375002\" y=\"5.0\" width=\"59.7823046875\" height=\"40\" stroke=\"black\" fill=\"white\" stroke-width=\"1\" /><text x=\"1322.3154882812503\" y=\"25.0\" dominant-baseline=\"middle\" text-anchor=\"middle\" font-size=\"14px\" font-family=\"Arial\">Ry(x_4)</text><rect x=\"1372.2066406250003\" y=\"5.0\" width=\"59.61578125\" height=\"40\" stroke=\"black\" fill=\"white\" stroke-width=\"1\" /><text x=\"1402.0145312500003\" y=\"25.0\" dominant-baseline=\"middle\" text-anchor=\"middle\" font-size=\"14px\" font-family=\"Arial\">Rz(x_5)</text><rect x=\"1451.8224218750004\" y=\"55.0\" width=\"60.5523046875\" height=\"40\" stroke=\"black\" fill=\"white\" stroke-width=\"1\" /><text x=\"1482.0985742187504\" y=\"75.0\" dominant-baseline=\"middle\" text-anchor=\"middle\" font-size=\"14px\" font-family=\"Arial\">Rx(x_9)</text><rect x=\"1532.3747265625004\" y=\"55.0\" width=\"68.68953125\" height=\"40\" stroke=\"black\" fill=\"white\" stroke-width=\"1\" /><text x=\"1566.7194921875005\" y=\"75.0\" dominant-baseline=\"middle\" text-anchor=\"middle\" font-size=\"14px\" font-family=\"Arial\">Ry(x_10)</text><rect x=\"1621.0642578125005\" y=\"55.0\" width=\"68.5230078125\" height=\"40\" stroke=\"black\" fill=\"white\" stroke-width=\"1\" /><text x=\"1655.3257617187505\" y=\"75.0\" dominant-baseline=\"middle\" text-anchor=\"middle\" font-size=\"14px\" font-family=\"Arial\">Rz(x_11)</text><rect x=\"1709.5872656250006\" y=\"5.0\" width=\"89.31109375000001\" height=\"40\" stroke=\"black\" fill=\"white\" stroke-width=\"1\" /><text x=\"1754.2428125000006\" y=\"25.0\" dominant-baseline=\"middle\" text-anchor=\"middle\" font-size=\"14px\" font-family=\"Arial\">Rx(theta_3)</text><rect x=\"1818.8983593750006\" y=\"5.0\" width=\"88.54109375\" height=\"40\" stroke=\"black\" fill=\"white\" stroke-width=\"1\" /><text x=\"1863.1689062500006\" y=\"25.0\" dominant-baseline=\"middle\" text-anchor=\"middle\" font-size=\"14px\" font-family=\"Arial\">Ry(theta_4)</text><rect x=\"1927.4394531250007\" y=\"5.0\" width=\"88.37457031250001\" height=\"40\" stroke=\"black\" fill=\"white\" stroke-width=\"1\" /><text x=\"1971.6267382812507\" y=\"25.0\" dominant-baseline=\"middle\" text-anchor=\"middle\" font-size=\"14px\" font-family=\"Arial\">Rz(theta_5)</text><rect x=\"2035.8140234375007\" y=\"55.0\" width=\"89.31109375000001\" height=\"40\" stroke=\"black\" fill=\"white\" stroke-width=\"1\" /><text x=\"2080.4695703125008\" y=\"75.0\" dominant-baseline=\"middle\" text-anchor=\"middle\" font-size=\"14px\" font-family=\"Arial\">Rx(theta_9)</text><rect x=\"2145.1251171875006\" y=\"55.0\" width=\"97.4483203125\" height=\"40\" stroke=\"black\" fill=\"white\" stroke-width=\"1\" /><text x=\"2193.8492773437506\" y=\"75.0\" dominant-baseline=\"middle\" text-anchor=\"middle\" font-size=\"14px\" font-family=\"Arial\">Ry(theta_10)</text><rect x=\"2262.5734375000006\" y=\"55.0\" width=\"97.28179687500001\" height=\"40\" stroke=\"black\" fill=\"white\" stroke-width=\"1\" /><text x=\"2311.2143359375004\" y=\"75.0\" dominant-baseline=\"middle\" text-anchor=\"middle\" font-size=\"14px\" font-family=\"Arial\">Rz(theta_11)</text><circle cx=\"2399.8552343750007\" cy=\"25.0\" r=\"10.0\" /><circle cx=\"2399.8552343750007\" cy=\"75.0\" r=\"10.0\" /><rect x=\"2439.8552343750007\" y=\"5.0\" width=\"69.45953125\" height=\"40\" stroke=\"black\" fill=\"white\" stroke-width=\"1\" /><text x=\"2474.5850000000005\" y=\"25.0\" dominant-baseline=\"middle\" text-anchor=\"middle\" font-size=\"14px\" font-family=\"Arial\">Rx(x_12)</text><rect x=\"2529.3147656250007\" y=\"5.0\" width=\"68.68953125\" height=\"40\" stroke=\"black\" fill=\"white\" stroke-width=\"1\" /><text x=\"2563.659531250001\" y=\"25.0\" dominant-baseline=\"middle\" text-anchor=\"middle\" font-size=\"14px\" font-family=\"Arial\">Ry(x_13)</text><rect x=\"2618.004296875001\" y=\"5.0\" width=\"68.5230078125\" height=\"40\" stroke=\"black\" fill=\"white\" stroke-width=\"1\" /><text x=\"2652.2658007812506\" y=\"25.0\" dominant-baseline=\"middle\" text-anchor=\"middle\" font-size=\"14px\" font-family=\"Arial\">Rz(x_14)</text><rect x=\"2706.527304687501\" y=\"55.0\" width=\"69.45953125\" height=\"40\" stroke=\"black\" fill=\"white\" stroke-width=\"1\" /><text x=\"2741.2570703125007\" y=\"75.0\" dominant-baseline=\"middle\" text-anchor=\"middle\" font-size=\"14px\" font-family=\"Arial\">Rx(x_18)</text><rect x=\"2795.986835937501\" y=\"55.0\" width=\"68.68953125\" height=\"40\" stroke=\"black\" fill=\"white\" stroke-width=\"1\" /><text x=\"2830.331601562501\" y=\"75.0\" dominant-baseline=\"middle\" text-anchor=\"middle\" font-size=\"14px\" font-family=\"Arial\">Ry(x_19)</text><rect x=\"2884.676367187501\" y=\"55.0\" width=\"68.5230078125\" height=\"40\" stroke=\"black\" fill=\"white\" stroke-width=\"1\" /><text x=\"2918.937871093751\" y=\"75.0\" dominant-baseline=\"middle\" text-anchor=\"middle\" font-size=\"14px\" font-family=\"Arial\">Rz(x_20)</text><rect x=\"2973.199375000001\" y=\"5.0\" width=\"98.21832031250001\" height=\"40\" stroke=\"black\" fill=\"white\" stroke-width=\"1\" /><text x=\"3022.308535156251\" y=\"25.0\" dominant-baseline=\"middle\" text-anchor=\"middle\" font-size=\"14px\" font-family=\"Arial\">Rx(theta_12)</text><rect x=\"3091.417695312501\" y=\"5.0\" width=\"97.4483203125\" height=\"40\" stroke=\"black\" fill=\"white\" stroke-width=\"1\" /><text x=\"3140.141855468751\" y=\"25.0\" dominant-baseline=\"middle\" text-anchor=\"middle\" font-size=\"14px\" font-family=\"Arial\">Ry(theta_13)</text><rect x=\"3208.866015625001\" y=\"5.0\" width=\"97.28179687500001\" height=\"40\" stroke=\"black\" fill=\"white\" stroke-width=\"1\" /><text x=\"3257.506914062501\" y=\"25.0\" dominant-baseline=\"middle\" text-anchor=\"middle\" font-size=\"14px\" font-family=\"Arial\">Rz(theta_14)</text><rect x=\"3326.1478125000012\" y=\"55.0\" width=\"98.21832031250001\" height=\"40\" stroke=\"black\" fill=\"white\" stroke-width=\"1\" /><text x=\"3375.256972656251\" y=\"75.0\" dominant-baseline=\"middle\" text-anchor=\"middle\" font-size=\"14px\" font-family=\"Arial\">Rx(theta_18)</text><rect x=\"3444.3661328125013\" y=\"55.0\" width=\"97.4483203125\" height=\"40\" stroke=\"black\" fill=\"white\" stroke-width=\"1\" /><text x=\"3493.0902929687513\" y=\"75.0\" dominant-baseline=\"middle\" text-anchor=\"middle\" font-size=\"14px\" font-family=\"Arial\">Ry(theta_19)</text><rect x=\"3561.8144531250014\" y=\"55.0\" width=\"97.28179687500001\" height=\"40\" stroke=\"black\" fill=\"white\" stroke-width=\"1\" /><text x=\"3610.455351562501\" y=\"75.0\" dominant-baseline=\"middle\" text-anchor=\"middle\" font-size=\"14px\" font-family=\"Arial\">Rz(theta_20)</text><rect x=\"3679.0962500000014\" y=\"5.0\" width=\"69.45953125\" height=\"40\" stroke=\"black\" fill=\"white\" stroke-width=\"1\" /><text x=\"3713.826015625001\" y=\"25.0\" dominant-baseline=\"middle\" text-anchor=\"middle\" font-size=\"14px\" font-family=\"Arial\">Rx(x_15)</text><rect x=\"3768.5557812500015\" y=\"5.0\" width=\"68.68953125\" height=\"40\" stroke=\"black\" fill=\"white\" stroke-width=\"1\" /><text x=\"3802.9005468750015\" y=\"25.0\" dominant-baseline=\"middle\" text-anchor=\"middle\" font-size=\"14px\" font-family=\"Arial\">Ry(x_16)</text><rect x=\"3857.2453125000015\" y=\"5.0\" width=\"68.5230078125\" height=\"40\" stroke=\"black\" fill=\"white\" stroke-width=\"1\" /><text x=\"3891.5068164062513\" y=\"25.0\" dominant-baseline=\"middle\" text-anchor=\"middle\" font-size=\"14px\" font-family=\"Arial\">Rz(x_17)</text><rect x=\"3945.7683203125016\" y=\"55.0\" width=\"69.45953125\" height=\"40\" stroke=\"black\" fill=\"white\" stroke-width=\"1\" /><text x=\"3980.4980859375014\" y=\"75.0\" dominant-baseline=\"middle\" text-anchor=\"middle\" font-size=\"14px\" font-family=\"Arial\">Rx(x_21)</text><rect x=\"4035.2278515625017\" y=\"55.0\" width=\"68.68953125\" height=\"40\" stroke=\"black\" fill=\"white\" stroke-width=\"1\" /><text x=\"4069.5726171875017\" y=\"75.0\" dominant-baseline=\"middle\" text-anchor=\"middle\" font-size=\"14px\" font-family=\"Arial\">Ry(x_22)</text><rect x=\"4123.917382812501\" y=\"55.0\" width=\"68.5230078125\" height=\"40\" stroke=\"black\" fill=\"white\" stroke-width=\"1\" /><text x=\"4158.1788867187515\" y=\"75.0\" dominant-baseline=\"middle\" text-anchor=\"middle\" font-size=\"14px\" font-family=\"Arial\">Rz(x_23)</text><rect x=\"4212.440390625001\" y=\"5.0\" width=\"98.21832031250001\" height=\"40\" stroke=\"black\" fill=\"white\" stroke-width=\"1\" /><text x=\"4261.549550781251\" y=\"25.0\" dominant-baseline=\"middle\" text-anchor=\"middle\" font-size=\"14px\" font-family=\"Arial\">Rx(theta_15)</text><rect x=\"4330.6587109375005\" y=\"5.0\" width=\"97.4483203125\" height=\"40\" stroke=\"black\" fill=\"white\" stroke-width=\"1\" /><text x=\"4379.3828710937505\" y=\"25.0\" dominant-baseline=\"middle\" text-anchor=\"middle\" font-size=\"14px\" font-family=\"Arial\">Ry(theta_16)</text><rect x=\"4448.107031250001\" y=\"5.0\" width=\"97.28179687500001\" height=\"40\" stroke=\"black\" fill=\"white\" stroke-width=\"1\" /><text x=\"4496.747929687501\" y=\"25.0\" dominant-baseline=\"middle\" text-anchor=\"middle\" font-size=\"14px\" font-family=\"Arial\">Rz(theta_17)</text><rect x=\"4565.388828125\" y=\"55.0\" width=\"98.21832031250001\" height=\"40\" stroke=\"black\" fill=\"white\" stroke-width=\"1\" /><text x=\"4614.49798828125\" y=\"75.0\" dominant-baseline=\"middle\" text-anchor=\"middle\" font-size=\"14px\" font-family=\"Arial\">Rx(theta_21)</text><rect x=\"4683.6071484375\" y=\"55.0\" width=\"97.4483203125\" height=\"40\" stroke=\"black\" fill=\"white\" stroke-width=\"1\" /><text x=\"4732.33130859375\" y=\"75.0\" dominant-baseline=\"middle\" text-anchor=\"middle\" font-size=\"14px\" font-family=\"Arial\">Ry(theta_22)</text><rect x=\"4801.05546875\" y=\"55.0\" width=\"97.28179687500001\" height=\"40\" stroke=\"black\" fill=\"white\" stroke-width=\"1\" /><text x=\"4849.6963671875\" y=\"75.0\" dominant-baseline=\"middle\" text-anchor=\"middle\" font-size=\"14px\" font-family=\"Arial\">Rz(theta_23)</text><circle cx=\"4938.337265624999\" cy=\"25.0\" r=\"10.0\" /><circle cx=\"4938.337265624999\" cy=\"75.0\" r=\"10.0\" /><rect x=\"4978.337265624999\" y=\"5.0\" width=\"69.45953125\" height=\"40\" stroke=\"black\" fill=\"white\" stroke-width=\"1\" /><text x=\"5013.06703125\" y=\"25.0\" dominant-baseline=\"middle\" text-anchor=\"middle\" font-size=\"14px\" font-family=\"Arial\">Rx(x_24)</text><rect x=\"5067.796796874999\" y=\"5.0\" width=\"68.68953125\" height=\"40\" stroke=\"black\" fill=\"white\" stroke-width=\"1\" /><text x=\"5102.141562499999\" y=\"25.0\" dominant-baseline=\"middle\" text-anchor=\"middle\" font-size=\"14px\" font-family=\"Arial\">Ry(x_25)</text><rect x=\"5156.486328124999\" y=\"5.0\" width=\"68.5230078125\" height=\"40\" stroke=\"black\" fill=\"white\" stroke-width=\"1\" /><text x=\"5190.747832031249\" y=\"25.0\" dominant-baseline=\"middle\" text-anchor=\"middle\" font-size=\"14px\" font-family=\"Arial\">Rz(x_26)</text><rect x=\"5245.009335937499\" y=\"55.0\" width=\"69.45953125\" height=\"40\" stroke=\"black\" fill=\"white\" stroke-width=\"1\" /><text x=\"5279.739101562499\" y=\"75.0\" dominant-baseline=\"middle\" text-anchor=\"middle\" font-size=\"14px\" font-family=\"Arial\">Rx(x_30)</text><rect x=\"5334.468867187498\" y=\"55.0\" width=\"68.68953125\" height=\"40\" stroke=\"black\" fill=\"white\" stroke-width=\"1\" /><text x=\"5368.813632812498\" y=\"75.0\" dominant-baseline=\"middle\" text-anchor=\"middle\" font-size=\"14px\" font-family=\"Arial\">Ry(x_31)</text><rect x=\"5423.158398437498\" y=\"55.0\" width=\"68.5230078125\" height=\"40\" stroke=\"black\" fill=\"white\" stroke-width=\"1\" /><text x=\"5457.419902343749\" y=\"75.0\" dominant-baseline=\"middle\" text-anchor=\"middle\" font-size=\"14px\" font-family=\"Arial\">Rz(x_32)</text><rect x=\"5511.681406249998\" y=\"5.0\" width=\"98.21832031250001\" height=\"40\" stroke=\"black\" fill=\"white\" stroke-width=\"1\" /><text x=\"5560.790566406248\" y=\"25.0\" dominant-baseline=\"middle\" text-anchor=\"middle\" font-size=\"14px\" font-family=\"Arial\">Rx(theta_24)</text><rect x=\"5629.899726562498\" y=\"5.0\" width=\"97.4483203125\" height=\"40\" stroke=\"black\" fill=\"white\" stroke-width=\"1\" /><text x=\"5678.623886718748\" y=\"25.0\" dominant-baseline=\"middle\" text-anchor=\"middle\" font-size=\"14px\" font-family=\"Arial\">Ry(theta_25)</text><rect x=\"5747.348046874998\" y=\"5.0\" width=\"97.28179687500001\" height=\"40\" stroke=\"black\" fill=\"white\" stroke-width=\"1\" /><text x=\"5795.988945312498\" y=\"25.0\" dominant-baseline=\"middle\" text-anchor=\"middle\" font-size=\"14px\" font-family=\"Arial\">Rz(theta_26)</text><rect x=\"5864.629843749997\" y=\"55.0\" width=\"98.21832031250001\" height=\"40\" stroke=\"black\" fill=\"white\" stroke-width=\"1\" /><text x=\"5913.7390039062475\" y=\"75.0\" dominant-baseline=\"middle\" text-anchor=\"middle\" font-size=\"14px\" font-family=\"Arial\">Rx(theta_30)</text><rect x=\"5982.848164062497\" y=\"55.0\" width=\"97.4483203125\" height=\"40\" stroke=\"black\" fill=\"white\" stroke-width=\"1\" /><text x=\"6031.572324218747\" y=\"75.0\" dominant-baseline=\"middle\" text-anchor=\"middle\" font-size=\"14px\" font-family=\"Arial\">Ry(theta_31)</text><rect x=\"6100.296484374997\" y=\"55.0\" width=\"97.28179687500001\" height=\"40\" stroke=\"black\" fill=\"white\" stroke-width=\"1\" /><text x=\"6148.937382812497\" y=\"75.0\" dominant-baseline=\"middle\" text-anchor=\"middle\" font-size=\"14px\" font-family=\"Arial\">Rz(theta_32)</text><rect x=\"6217.5782812499965\" y=\"5.0\" width=\"69.45953125\" height=\"40\" stroke=\"black\" fill=\"white\" stroke-width=\"1\" /><text x=\"6252.308046874997\" y=\"25.0\" dominant-baseline=\"middle\" text-anchor=\"middle\" font-size=\"14px\" font-family=\"Arial\">Rx(x_27)</text><rect x=\"6307.037812499996\" y=\"5.0\" width=\"68.68953125\" height=\"40\" stroke=\"black\" fill=\"white\" stroke-width=\"1\" /><text x=\"6341.382578124996\" y=\"25.0\" dominant-baseline=\"middle\" text-anchor=\"middle\" font-size=\"14px\" font-family=\"Arial\">Ry(x_28)</text><rect x=\"6395.727343749996\" y=\"5.0\" width=\"68.5230078125\" height=\"40\" stroke=\"black\" fill=\"white\" stroke-width=\"1\" /><text x=\"6429.988847656246\" y=\"25.0\" dominant-baseline=\"middle\" text-anchor=\"middle\" font-size=\"14px\" font-family=\"Arial\">Rz(x_29)</text><rect x=\"6484.250351562496\" y=\"55.0\" width=\"69.45953125\" height=\"40\" stroke=\"black\" fill=\"white\" stroke-width=\"1\" /><text x=\"6518.980117187496\" y=\"75.0\" dominant-baseline=\"middle\" text-anchor=\"middle\" font-size=\"14px\" font-family=\"Arial\">Rx(x_33)</text><rect x=\"6573.709882812495\" y=\"55.0\" width=\"68.68953125\" height=\"40\" stroke=\"black\" fill=\"white\" stroke-width=\"1\" /><text x=\"6608.054648437495\" y=\"75.0\" dominant-baseline=\"middle\" text-anchor=\"middle\" font-size=\"14px\" font-family=\"Arial\">Ry(x_34)</text><rect x=\"6662.399414062495\" y=\"55.0\" width=\"68.5230078125\" height=\"40\" stroke=\"black\" fill=\"white\" stroke-width=\"1\" /><text x=\"6696.660917968746\" y=\"75.0\" dominant-baseline=\"middle\" text-anchor=\"middle\" font-size=\"14px\" font-family=\"Arial\">Rz(x_35)</text><rect x=\"6750.922421874995\" y=\"5.0\" width=\"98.21832031250001\" height=\"40\" stroke=\"black\" fill=\"white\" stroke-width=\"1\" /><text x=\"6800.031582031245\" y=\"25.0\" dominant-baseline=\"middle\" text-anchor=\"middle\" font-size=\"14px\" font-family=\"Arial\">Rx(theta_27)</text><rect x=\"6869.140742187495\" y=\"5.0\" width=\"97.4483203125\" height=\"40\" stroke=\"black\" fill=\"white\" stroke-width=\"1\" /><text x=\"6917.864902343745\" y=\"25.0\" dominant-baseline=\"middle\" text-anchor=\"middle\" font-size=\"14px\" font-family=\"Arial\">Ry(theta_28)</text><rect x=\"6986.589062499995\" y=\"5.0\" width=\"97.28179687500001\" height=\"40\" stroke=\"black\" fill=\"white\" stroke-width=\"1\" /><text x=\"7035.229960937495\" y=\"25.0\" dominant-baseline=\"middle\" text-anchor=\"middle\" font-size=\"14px\" font-family=\"Arial\">Rz(theta_29)</text><rect x=\"7103.870859374994\" y=\"55.0\" width=\"98.21832031250001\" height=\"40\" stroke=\"black\" fill=\"white\" stroke-width=\"1\" /><text x=\"7152.980019531245\" y=\"75.0\" dominant-baseline=\"middle\" text-anchor=\"middle\" font-size=\"14px\" font-family=\"Arial\">Rx(theta_33)</text><rect x=\"7222.089179687494\" y=\"55.0\" width=\"97.4483203125\" height=\"40\" stroke=\"black\" fill=\"white\" stroke-width=\"1\" /><text x=\"7270.813339843744\" y=\"75.0\" dominant-baseline=\"middle\" text-anchor=\"middle\" font-size=\"14px\" font-family=\"Arial\">Ry(theta_34)</text><rect x=\"7339.537499999994\" y=\"55.0\" width=\"97.28179687500001\" height=\"40\" stroke=\"black\" fill=\"white\" stroke-width=\"1\" /><text x=\"7388.178398437494\" y=\"75.0\" dominant-baseline=\"middle\" text-anchor=\"middle\" font-size=\"14px\" font-family=\"Arial\">Rz(theta_35)</text></svg>"
          },
          "metadata": {},
          "execution_count": 11
        }
      ]
    },
    {
      "cell_type": "code",
      "source": [
        "def discriminator_drc_circuit(qubits,features_size,use_entanglement=False, layers=1):\n",
        "  circuit = cirq.Circuit()\n",
        "  num_qubits = len(qubits)\n",
        "  if(features_size % 3 != 0):\n",
        "    padding = (3-(features_size % 3)) % 3\n",
        "  else:\n",
        "    padding = 0\n",
        "\n",
        "  bias_symbols = sp.symbols('theta_:'+str((features_size + padding)*layers*num_qubits)) \n",
        "  bias_symbols = np.asarray(bias_symbols).reshape(layers,num_qubits,features_size+padding) \n",
        "  features_symbols = sp.symbols('x_:'+str((features_size + padding)*layers*num_qubits))\n",
        "  features_symbols = np.asarray(features_symbols).reshape(layers,num_qubits,features_size+padding)\n",
        "  for layer in range(layers):\n",
        "    for gate in range(int(np.ceil(features_size/3))):\n",
        "      circuit += [one_qubit_unitary(q, features_symbols[layer,i,gate*3:(gate+1)*3]) for i,q in enumerate(qubits)]\n",
        "      circuit += [one_qubit_unitary(q, bias_symbols[layer,i,gate*3:(gate+1)*3]) for i,q in enumerate(qubits)]\n",
        "    \n",
        "    if num_qubits>1 and (layer != layers-1 or layers == 1) and use_entanglement :\n",
        "      circuit += entanglement_unitary(qubits,num_qubits)\n",
        "  \n",
        "  return circuit, list(bias_symbols.flat), list(features_symbols.flat)"
      ],
      "metadata": {
        "id": "f3A3D9SKv5Kx"
      },
      "execution_count": 12,
      "outputs": []
    },
    {
      "cell_type": "code",
      "source": [
        "disc,symbols1,symbols2=discriminator_drc_circuit(cirq.GridQubit.rect(1,1),5,use_entanglement=True,layers=2)\n",
        "print(disc)\n",
        "print(symbols1)\n",
        "print(symbols2)\n",
        "symbols = [str(symb) for symb in symbols1 + symbols2]\n",
        "print(symbols)\n",
        "print(sorted(symbols))\n",
        "indices = tf.constant([sorted(symbols).index(a) for a in symbols])\n",
        "print(indices)"
      ],
      "metadata": {
        "colab": {
          "base_uri": "https://localhost:8080/"
        },
        "id": "hyUoSF_bYiwX",
        "outputId": "e21c14aa-04c4-4ef8-cac4-3dd3fed32be8"
      },
      "execution_count": 13,
      "outputs": [
        {
          "output_type": "stream",
          "name": "stdout",
          "text": [
            "(0, 0): ───Rx(x_0)───Ry(x_1)───Rz(x_2)───Rx(theta_0)───Ry(theta_1)───Rz(theta_2)───Rx(x_3)───Ry(x_4)───Rz(x_5)───Rx(theta_3)───Ry(theta_4)───Rz(theta_5)───Rx(x_6)───Ry(x_7)───Rz(x_8)───Rx(theta_6)───Ry(theta_7)───Rz(theta_8)───Rx(x_9)───Ry(x_10)───Rz(x_11)───Rx(theta_9)───Ry(theta_10)───Rz(theta_11)───\n",
            "[theta_0, theta_1, theta_2, theta_3, theta_4, theta_5, theta_6, theta_7, theta_8, theta_9, theta_10, theta_11]\n",
            "[x_0, x_1, x_2, x_3, x_4, x_5, x_6, x_7, x_8, x_9, x_10, x_11]\n",
            "['theta_0', 'theta_1', 'theta_2', 'theta_3', 'theta_4', 'theta_5', 'theta_6', 'theta_7', 'theta_8', 'theta_9', 'theta_10', 'theta_11', 'x_0', 'x_1', 'x_2', 'x_3', 'x_4', 'x_5', 'x_6', 'x_7', 'x_8', 'x_9', 'x_10', 'x_11']\n",
            "['theta_0', 'theta_1', 'theta_10', 'theta_11', 'theta_2', 'theta_3', 'theta_4', 'theta_5', 'theta_6', 'theta_7', 'theta_8', 'theta_9', 'x_0', 'x_1', 'x_10', 'x_11', 'x_2', 'x_3', 'x_4', 'x_5', 'x_6', 'x_7', 'x_8', 'x_9']\n",
            "tf.Tensor([ 0  1  4  5  6  7  8  9 10 11  2  3 12 13 16 17 18 19 20 21 22 23 14 15], shape=(24,), dtype=int32)\n"
          ]
        }
      ]
    },
    {
      "cell_type": "code",
      "source": [
        "\"\"\"This does not work because \n",
        "1. We did not subclass a tf.layers.Layers object for below expressions\n",
        "2. So the w and thetas Variable objects are wrapped as a Layer object using Lambda layer object\n",
        "3. But Lambda layer creates bugs and Variables in Lambda layer are not counted as trainable parameters sometimes and here is one of the case where this \n",
        "happens as the model summary shows 0 trainable parameters\"\"\"\n",
        "\n",
        "\n",
        "# def data_reuploading(qubits,features_size,inputs,use_entanglement=False,layers=1):\n",
        "  \n",
        "#   circuit,bias_symbols,input_symbols = discriminator_circuit(qubits,features_size,use_entanglement,layers=layers)\n",
        "\n",
        "#   symbols = [str(symb) for symb in bias_symbols + input_symbols]\n",
        "#   indices = tf.constant([sorted(symbols).index(a) for a in symbols])\n",
        " \n",
        "#   padding = 3 - features_size % 3\n",
        "#   if padding!=0:\n",
        "#     inputs = tf.pad(inputs,tf.constant([[0,0],[0,padding]]),mode=\"CONSTANT\")\n",
        "#     # for i in range(padding):\n",
        "#     #    np.append(inputs,np.array([0]),axis=0)\n",
        "#   # batch_size = tf.shape(inputs)[1]\n",
        "\n",
        "#   total_inputs = tf.tile(inputs, tf.constant([1,layers*len(qubits)]))\n",
        "\n",
        "#   w_init = tf.random_uniform_initializer(minval=-1, maxval=1)\n",
        "#   w = tf.Variable(\n",
        "#             initial_value=w_init(shape=(1,len(input_symbols)), dtype=\"float32\"),\n",
        "#             trainable=True, name=\"discriminator-weights\")\n",
        "  \n",
        "#   inputs_weighted = tf.math.multiply(w,total_inputs,name=\"discriminator_weighted_inputs\")\n",
        "#   # inputs_weighted = tf.math.multiply(w,inputs,name=\"discriminator_weighted_inputs\")\n",
        "#   thetas_init = tf.random_uniform_initializer(minval=-np.pi/2, maxval=np.pi/2)\n",
        "#   thetas = tf.Variable(\n",
        "#             initial_value=thetas_init(shape=(1,len(bias_symbols)), dtype=\"float32\"),\n",
        "#             trainable=True, name= \"discriminator-thetas\")\n",
        "  \n",
        "\n",
        "#   # thetas_batch = tf.tile(thetas, multiples=[batch_size, 1], name='discriminator_tiled_up_thetas')\n",
        "\n",
        "#   drc_empty_circuit = tfq.convert_to_tensor([cirq.Circuit()])\n",
        "#   # empty_circuit_batch = tf.repeat(drc_empty_circuit, repeats=batch_size, name= 'discriminator_tiled_up_empty_circuits')\n",
        "#   joined_params = tf.concat([thetas,inputs_weighted],axis=-1)\n",
        "#   # joined_params = tf.concat([thetas_batch,inputs_weighted],axis=-1)\n",
        "#   # joined_params = tf.gather(joined_params,indices,name=\"discriminator_joined_params\")\n",
        "#   observables = [cirq.Z(qubits[-1])]\n",
        "\n",
        "#   pqc_layer = tfq.layers.ControlledPQC(circuit,observables)\n",
        "  \n",
        "#   # return pqc_layer([empty_circuit_batch,joined_params])\n",
        "#   return pqc_layer([drc_empty_circuit,joined_params])"
      ],
      "metadata": {
        "id": "XzT-k5ZBd94O",
        "colab": {
          "base_uri": "https://localhost:8080/",
          "height": 71
        },
        "outputId": "c6bf7a16-90d6-4ac3-ad1b-026ecc5f5d45"
      },
      "execution_count": 14,
      "outputs": [
        {
          "output_type": "execute_result",
          "data": {
            "text/plain": [
              "'This does not work because \\n1. We did not subclass a tf.layers.Layers object for below expressions\\n2. So the w and thetas Variable objects are wrapped as a Layer object using Lambda layer object\\n3. But Lambda layer creates bugs and Variables in Lambda layer are not counted as trainable parameters sometimes and here is one of the case where this \\nhappens as the model summary shows 0 trainable parameters'"
            ],
            "application/vnd.google.colaboratory.intrinsic+json": {
              "type": "string"
            }
          },
          "metadata": {},
          "execution_count": 14
        }
      ]
    },
    {
      "cell_type": "code",
      "source": [
        "class ReUploadingPQC(tf.keras.layers.Layer):\n",
        "    def __init__(self, n_qubits, n_layers,features_size , use_entanglement=True, name=\"re-uploading_PQC\"):     #filter_size\n",
        "        super(ReUploadingPQC, self).__init__(name=name)\n",
        "        self.n_layers = n_layers\n",
        "        self.n_qubits = n_qubits\n",
        "        # self.filter_size = filter_size\n",
        "        self.features_size = features_size\n",
        "        self.use_entanglement = use_entanglement\n",
        "        self.main_name = name\n",
        "\n",
        "        self.qubits = cirq.GridQubit.rect(1, n_qubits)\n",
        "        self.observables = [cirq.Z(self.qubits[-1])]  # Measure only the last qubit\n",
        "\n",
        "        # generate the data re-uploading circuit\n",
        "        # circuit, bias_symbols, input_symbols = generate_circuit(self.qubits, self.n_layers, self.filter_size, use_entanglement=self.use_entanglement)\n",
        "        circuit, bias_symbols, input_symbols = discriminator_drc_circuit(qubits=self.qubits,features_size = self.features_size,layers= self.n_layers, use_entanglement=self.use_entanglement)\n",
        "\n",
        "        # Define explicit symbol order.\n",
        "        symbols = [str(symb) for symb in bias_symbols + input_symbols]\n",
        "        self.indices = tf.constant([sorted(symbols).index(a) for a in symbols])\n",
        "\n",
        "        # thetas (bias) initialization\n",
        "        thetas_init = tf.random_uniform_initializer(minval=-1, maxval=1)\n",
        "        self.thetas = tf.Variable(\n",
        "            initial_value=thetas_init(shape=(1, len(bias_symbols)), dtype=\"float32\"),\n",
        "            trainable=True, name=self.main_name + \"-thetas\"\n",
        "        )\n",
        "        \n",
        "        # weights initialization\n",
        "        w_init = tf.random_uniform_initializer(minval=-1, maxval=1)\n",
        "        self.w = tf.Variable(\n",
        "            initial_value=w_init(shape=(1, len(input_symbols)), dtype=\"float32\"),\n",
        "            trainable=True, name=self.main_name + \"-weights\"\n",
        "        )\n",
        "\n",
        "        # dummy inputs initialization\n",
        "        # using the empty circuits as hacks for ControlledPQC\n",
        "        self.empty_circuit = tfq.convert_to_tensor([cirq.Circuit()])\n",
        "\n",
        "        self.computation_layer = tfq.layers.ControlledPQC(circuit, self.observables)\n",
        "    \n",
        "    def get_config(self):\n",
        "\n",
        "        config = super().get_config().copy()\n",
        "        config.update({\n",
        "            'n_qubits': self.n_qubits,\n",
        "            'n_layers': self.n_layers,\n",
        "            'features_size': self.features_size,\n",
        "            'use_entanglement': self.use_entanglement,\n",
        "            'name': self.main_name,\n",
        "        })\n",
        "        return config\n",
        "    \n",
        "    def call(self, inputs):\n",
        "        batch_size = tf.shape(inputs)[0]\n",
        "\n",
        "        # Flatten inputs (from 2D images to 1D array)\n",
        "        # inputs_flattened = tf.keras.layers.Flatten()(inputs)\n",
        "\n",
        "        # Pad the inputs if it is not a multiple of 3\n",
        "        # padding = 3 - inputs_flattened.shape[1]%3\n",
        "        # padding = 3 - inputs.shape[0]%3\n",
        "        padding = 3 - inputs.shape[1]%3\n",
        "        # padding = 1\n",
        "        if padding%3 != 0:\n",
        "            # inputs_flattened = tf.pad(inputs_flattened, tf.constant([[0, 0,], [0, padding]]))\n",
        "            inputs = tf.pad(inputs,tf.constant([[0,0],[0,padding]]),mode=\"CONSTANT\")\n",
        "        # Repeat the inputs for every layer and qubit\n",
        "        # inputs_flattened = tf.tile(inputs_flattened, tf.constant([1,self.n_layers*self.n_qubits]))\n",
        "        total_inputs = tf.tile(inputs, multiples=[1,self.n_layers*self.n_qubits])\n",
        "        # total_inputs = tf.tile(inputs, multiples=[1,self.n_layers])\n",
        "        # Weight the inputs\n",
        "        # inputs_weighted = tf.math.multiply(self.w, inputs_flattened, name=self.main_name + '-weighted_inputs')  \n",
        "        inputs_weighted = tf.math.multiply(self.w, total_inputs, name=self.main_name + '-weighted_inputs')\n",
        "        # Duplicate parameters and dummy inputs\n",
        "        # One for every batch\n",
        "        thetas_batch = tf.tile(self.thetas, multiples=[batch_size, 1], name=self.main_name + '-tiled_up_thetas')    \n",
        "        empty_circuit_batch = tf.repeat(self.empty_circuit, repeats=batch_size, name=self.main_name + '-tiled_up_empty_circuits')\n",
        "\n",
        "        joined_params = tf.concat([thetas_batch, inputs_weighted], axis=-1)               \n",
        "        # joined_params = tf.concat([self.thetas, inputs_weighted], axis=-1)\n",
        "        joined_params = tf.gather(joined_params, self.indices, axis=-1, name=self.main_name + '-joined_params')\n",
        "        \n",
        "        return self.computation_layer([empty_circuit_batch, joined_params])\n",
        "        # return self.computation_layer([self.empty_circuit, joined_params])"
      ],
      "metadata": {
        "id": "z_VLYzGNn9DI"
      },
      "execution_count": 15,
      "outputs": []
    },
    {
      "cell_type": "code",
      "source": [
        "def discriminator_layer(n_qubits,features_size,inputs,use_entanglement=False,layers=1,name=\"discriminator_drc_layer\"):\n",
        "  # inputs_tensor = tf.keras.Input(shape=(features_size,),dtype=tf.dtypes.float32,name=\"inputs\")\n",
        "  # drc = data_reuploading(qubits,features_size,use_entanglement=True,layers=layers,inputs=inputs_tensor)\n",
        "  # model = tf.keras.Sequential()\n",
        "  # model.add(tf.keras.layers.Input(shape=(5),name=\"input\"))\n",
        "  # model.add(data_reuploading(qubits,features_size,use_entanglement=True,layers=layers,inputs=))\n",
        "  # model = tf.keras.Model(inputs=[inputs_tensor],outputs=[drc])\n",
        "  # return model\n",
        "  pqc = ReUploadingPQC(n_qubits=n_qubits,features_size=features_size,use_entanglement=use_entanglement,n_layers=layers,name= name)\n",
        "  computations = pqc(inputs)\n",
        "  return computations"
      ],
      "metadata": {
        "id": "m2dFZsFfYjTF"
      },
      "execution_count": 16,
      "outputs": []
    },
    {
      "cell_type": "code",
      "source": [
        "qubits = 2\n",
        "features=len(X_train_0[0])\n",
        "layers= 3\n",
        "inputs_tensor = tf.keras.Input(shape=(features,),dtype = tf.dtypes.float32,name='input')\n",
        "d_layer = discriminator_layer(n_qubits=qubits,features_size=features,inputs=inputs_tensor, use_entanglement=True,layers=layers)\n",
        "discriminator_model = tf.keras.Model(inputs=[inputs_tensor], outputs=d_layer)\n",
        "\n",
        "# discriminator_model = discriminator(cirq.GridQubit.rect(1,2),5,use_entanglement=True,layers=3)"
      ],
      "metadata": {
        "id": "FSExRs3KxZpU"
      },
      "execution_count": 17,
      "outputs": []
    },
    {
      "cell_type": "code",
      "source": [
        "inputs_tensor = tf.keras.Input(shape=(5,),dtype=tf.dtypes.float32,name=\"inputs\")\n",
        "print(inputs_tensor)\n",
        "inputs_tensor = tf.pad(inputs_tensor,tf.constant([[0,0],[0,1]]),mode=\"CONSTANT\")\n",
        "print(inputs_tensor)\n",
        "tf.shape(inputs_tensor)[0]"
      ],
      "metadata": {
        "colab": {
          "base_uri": "https://localhost:8080/"
        },
        "id": "iT_lsDG5Dtmf",
        "outputId": "44fdea80-9f0b-4c67-d300-2fa22d047690"
      },
      "execution_count": 18,
      "outputs": [
        {
          "output_type": "stream",
          "name": "stdout",
          "text": [
            "KerasTensor(type_spec=TensorSpec(shape=(None, 5), dtype=tf.float32, name='inputs'), name='inputs', description=\"created by layer 'inputs'\")\n",
            "KerasTensor(type_spec=TensorSpec(shape=(None, 6), dtype=tf.float32, name=None), name='tf.compat.v1.pad/Pad:0', description=\"created by layer 'tf.compat.v1.pad'\")\n"
          ]
        },
        {
          "output_type": "execute_result",
          "data": {
            "text/plain": [
              "<KerasTensor: shape=() dtype=int32 inferred_value=[None] (created by layer 'tf.__operators__.getitem')>"
            ]
          },
          "metadata": {},
          "execution_count": 18
        }
      ]
    },
    {
      "cell_type": "code",
      "source": [
        "discriminator_model.summary()"
      ],
      "metadata": {
        "colab": {
          "base_uri": "https://localhost:8080/"
        },
        "id": "F-pTv0oTxw7Q",
        "outputId": "cf50d334-3d05-4813-be2a-6f094b430549"
      },
      "execution_count": 70,
      "outputs": [
        {
          "output_type": "stream",
          "name": "stdout",
          "text": [
            "Model: \"model_2\"\n",
            "_________________________________________________________________\n",
            " Layer (type)                Output Shape              Param #   \n",
            "=================================================================\n",
            " input (InputLayer)          [(None, 5)]               0         \n",
            "                                                                 \n",
            " discriminator_drc_layer (Re  (None, 1)                72        \n",
            " UploadingPQC)                                                   \n",
            "                                                                 \n",
            "=================================================================\n",
            "Total params: 72\n",
            "Trainable params: 72\n",
            "Non-trainable params: 0\n",
            "_________________________________________________________________\n"
          ]
        }
      ]
    },
    {
      "cell_type": "code",
      "source": [
        "def one_qubit_unitary_pqc(qubits,symbols) -> cirq.Circuit :\n",
        "  num_qubits = len(qubits)\n",
        "  circuit = cirq.Circuit()\n",
        "  k=0\n",
        "  for i in range(num_qubits):\n",
        "    circuit.append(cirq.rx(symbols[k])(qubits[i]))\n",
        "    k+=1\n",
        "  for i in range(num_qubits):\n",
        "    circuit.append(cirq.rz(symbols[k])(qubits[i]))\n",
        "    k+=1\n",
        "  \n",
        "  return circuit"
      ],
      "metadata": {
        "id": "NgB0F_2LUbCn"
      },
      "execution_count": 19,
      "outputs": []
    },
    {
      "cell_type": "code",
      "source": [
        "def two_qubit_unitary_pqc(qubits,symbols):\n",
        "  num_qubits = len(qubits)\n",
        "  circuit = cirq.Circuit()\n",
        "  k=0\n",
        "  for i in range(1,num_qubits,2):\n",
        "    circuit.append(cirq.CNOT(qubits[i-1],qubits[i]))\n",
        "    circuit.append(cirq.rz(symbols[k])(qubits[i]))\n",
        "    circuit.append(cirq.CNOT(qubits[i-1],qubits[i]))\n",
        "    k+=1\n",
        "  \n",
        "  for i in range(2,num_qubits,2):\n",
        "    circuit.append(cirq.CNOT(qubits[i-1],qubits[i]))\n",
        "    circuit.append(cirq.rz(symbols[k])(qubits[i]))\n",
        "    circuit.append(cirq.CNOT(qubits[i-1],qubits[i]))\n",
        "    k+=1\n",
        "  return circuit"
      ],
      "metadata": {
        "id": "8Oi6KEr1UlMw"
      },
      "execution_count": 20,
      "outputs": []
    },
    {
      "cell_type": "code",
      "source": [
        "def generator_pqc_circuit(qubits,use_entanglement=True,layers=1):\n",
        "  circuit = cirq.Circuit()\n",
        "  num_qubits = len(qubits)\n",
        "  # num_data_qubits = int(num_qubits/2)\n",
        "  # input_symbols = sp.symbols('x_:'+str(num_qubits))\n",
        "  symbols = sp.symbols('G_theta1_:'+str(2*layers*num_qubits)) + sp.symbols('G_theta2_:'+str(layers*(num_qubits-1)))\n",
        "  symbols_one = symbols[:2*layers*num_qubits]\n",
        "  symbols_two = symbols[2*layers*num_qubits:]\n",
        "  # random_rotations = np.random.normal(loc=0.0,scale=np.pi/4,size=num_qubits)\n",
        "  # for i in range(num_qubits):\n",
        "  #   circuit.append(cirq.ry(input_symbols[i])(qubits[i]))\n",
        "  # k=0\n",
        "  for l in range(layers):\n",
        "    circuit += one_qubit_unitary_pqc(qubits,symbols_one[l*2*num_qubits:(l+1)*2*num_qubits])\n",
        "    if(use_entanglement):\n",
        "      circuit += two_qubit_unitary_pqc(qubits,symbols_two[l*(num_qubits-1):(l+1)*(num_qubits-1)])\n",
        "  \n",
        "  return circuit,symbols"
      ],
      "metadata": {
        "id": "FJ2IRWc8do-6"
      },
      "execution_count": 21,
      "outputs": []
    },
    {
      "cell_type": "code",
      "source": [
        "circ,symbols = generator_pqc_circuit(cirq.GridQubit.rect(5,1),layers=3)\n",
        "SVGCircuit(circ)\n",
        "# print(symbols)"
      ],
      "metadata": {
        "id": "4UU-tWVHgImP",
        "colab": {
          "base_uri": "https://localhost:8080/",
          "height": 291
        },
        "outputId": "3fe63918-634a-4570-e6b8-dac9534d4f01"
      },
      "execution_count": 22,
      "outputs": [
        {
          "output_type": "execute_result",
          "data": {
            "text/plain": [
              "<cirq.contrib.svg.svg.SVGCircuit at 0x7f4858083650>"
            ],
            "image/svg+xml": "<svg xmlns=\"http://www.w3.org/2000/svg\" width=\"2498.4285937500003\" height=\"250.0\"><line x1=\"34.7588671875\" x2=\"2468.4285937500003\" y1=\"25.0\" y2=\"25.0\" stroke=\"#1967d2\" stroke-width=\"1\" /><line x1=\"34.7588671875\" x2=\"2468.4285937500003\" y1=\"75.0\" y2=\"75.0\" stroke=\"#1967d2\" stroke-width=\"1\" /><line x1=\"34.7588671875\" x2=\"2468.4285937500003\" y1=\"125.0\" y2=\"125.0\" stroke=\"#1967d2\" stroke-width=\"1\" /><line x1=\"34.7588671875\" x2=\"2468.4285937500003\" y1=\"175.0\" y2=\"175.0\" stroke=\"#1967d2\" stroke-width=\"1\" /><line x1=\"34.7588671875\" x2=\"2468.4285937500003\" y1=\"225.0\" y2=\"225.0\" stroke=\"#1967d2\" stroke-width=\"1\" /><line x1=\"370.7151171875\" x2=\"370.7151171875\" y1=\"25.0\" y2=\"75.0\" stroke=\"black\" stroke-width=\"3\" /><line x1=\"370.7151171875\" x2=\"370.7151171875\" y1=\"125.0\" y2=\"175.0\" stroke=\"black\" stroke-width=\"3\" /><line x1=\"565.8455468750001\" x2=\"565.8455468750001\" y1=\"25.0\" y2=\"75.0\" stroke=\"black\" stroke-width=\"3\" /><line x1=\"565.8455468750001\" x2=\"565.8455468750001\" y1=\"125.0\" y2=\"175.0\" stroke=\"black\" stroke-width=\"3\" /><line x1=\"625.8455468750001\" x2=\"625.8455468750001\" y1=\"75.0\" y2=\"125.0\" stroke=\"black\" stroke-width=\"3\" /><line x1=\"625.8455468750001\" x2=\"625.8455468750001\" y1=\"175.0\" y2=\"225.0\" stroke=\"black\" stroke-width=\"3\" /><line x1=\"820.9759765625001\" x2=\"820.9759765625001\" y1=\"75.0\" y2=\"125.0\" stroke=\"black\" stroke-width=\"3\" /><line x1=\"820.9759765625001\" x2=\"820.9759765625001\" y1=\"175.0\" y2=\"225.0\" stroke=\"black\" stroke-width=\"3\" /><line x1=\"1169.9878125000002\" x2=\"1169.9878125000002\" y1=\"25.0\" y2=\"75.0\" stroke=\"black\" stroke-width=\"3\" /><line x1=\"1169.9878125000002\" x2=\"1169.9878125000002\" y1=\"125.0\" y2=\"175.0\" stroke=\"black\" stroke-width=\"3\" /><line x1=\"1365.1182421875003\" x2=\"1365.1182421875003\" y1=\"25.0\" y2=\"75.0\" stroke=\"black\" stroke-width=\"3\" /><line x1=\"1365.1182421875003\" x2=\"1365.1182421875003\" y1=\"125.0\" y2=\"175.0\" stroke=\"black\" stroke-width=\"3\" /><line x1=\"1425.1182421875003\" x2=\"1425.1182421875003\" y1=\"75.0\" y2=\"125.0\" stroke=\"black\" stroke-width=\"3\" /><line x1=\"1425.1182421875003\" x2=\"1425.1182421875003\" y1=\"175.0\" y2=\"225.0\" stroke=\"black\" stroke-width=\"3\" /><line x1=\"1620.2486718750004\" x2=\"1620.2486718750004\" y1=\"75.0\" y2=\"125.0\" stroke=\"black\" stroke-width=\"3\" /><line x1=\"1620.2486718750004\" x2=\"1620.2486718750004\" y1=\"175.0\" y2=\"225.0\" stroke=\"black\" stroke-width=\"3\" /><line x1=\"1969.2605078125005\" x2=\"1969.2605078125005\" y1=\"25.0\" y2=\"75.0\" stroke=\"black\" stroke-width=\"3\" /><line x1=\"1969.2605078125005\" x2=\"1969.2605078125005\" y1=\"125.0\" y2=\"175.0\" stroke=\"black\" stroke-width=\"3\" /><line x1=\"2164.3909375000003\" x2=\"2164.3909375000003\" y1=\"25.0\" y2=\"75.0\" stroke=\"black\" stroke-width=\"3\" /><line x1=\"2164.3909375000003\" x2=\"2164.3909375000003\" y1=\"125.0\" y2=\"175.0\" stroke=\"black\" stroke-width=\"3\" /><line x1=\"2224.3909375000003\" x2=\"2224.3909375000003\" y1=\"75.0\" y2=\"125.0\" stroke=\"black\" stroke-width=\"3\" /><line x1=\"2224.3909375000003\" x2=\"2224.3909375000003\" y1=\"175.0\" y2=\"225.0\" stroke=\"black\" stroke-width=\"3\" /><line x1=\"2428.4285937500003\" x2=\"2428.4285937500003\" y1=\"75.0\" y2=\"125.0\" stroke=\"black\" stroke-width=\"3\" /><line x1=\"2428.4285937500003\" x2=\"2428.4285937500003\" y1=\"175.0\" y2=\"225.0\" stroke=\"black\" stroke-width=\"3\" /><rect x=\"10.0\" y=\"5.0\" width=\"49.517734375\" height=\"40\" stroke=\"black\" fill=\"white\" stroke-width=\"0\" /><text x=\"34.7588671875\" y=\"25.0\" dominant-baseline=\"middle\" text-anchor=\"middle\" font-size=\"14px\" font-family=\"Arial\">(0, 0): </text><rect x=\"10.0\" y=\"55.0\" width=\"49.517734375\" height=\"40\" stroke=\"black\" fill=\"white\" stroke-width=\"0\" /><text x=\"34.7588671875\" y=\"75.0\" dominant-baseline=\"middle\" text-anchor=\"middle\" font-size=\"14px\" font-family=\"Arial\">(1, 0): </text><rect x=\"10.0\" y=\"105.0\" width=\"49.517734375\" height=\"40\" stroke=\"black\" fill=\"white\" stroke-width=\"0\" /><text x=\"34.7588671875\" y=\"125.0\" dominant-baseline=\"middle\" text-anchor=\"middle\" font-size=\"14px\" font-family=\"Arial\">(2, 0): </text><rect x=\"10.0\" y=\"155.0\" width=\"49.517734375\" height=\"40\" stroke=\"black\" fill=\"white\" stroke-width=\"0\" /><text x=\"34.7588671875\" y=\"175.0\" dominant-baseline=\"middle\" text-anchor=\"middle\" font-size=\"14px\" font-family=\"Arial\">(3, 0): </text><rect x=\"10.0\" y=\"205.0\" width=\"49.517734375\" height=\"40\" stroke=\"black\" fill=\"white\" stroke-width=\"0\" /><text x=\"34.7588671875\" y=\"225.0\" dominant-baseline=\"middle\" text-anchor=\"middle\" font-size=\"14px\" font-family=\"Arial\">(4, 0): </text><rect x=\"79.517734375\" y=\"5.0\" width=\"116.066953125\" height=\"40\" stroke=\"black\" fill=\"white\" stroke-width=\"1\" /><text x=\"137.5512109375\" y=\"25.0\" dominant-baseline=\"middle\" text-anchor=\"middle\" font-size=\"14px\" font-family=\"Arial\">Rx(G_theta1_0)</text><rect x=\"79.517734375\" y=\"55.0\" width=\"116.066953125\" height=\"40\" stroke=\"black\" fill=\"white\" stroke-width=\"1\" /><text x=\"137.5512109375\" y=\"75.0\" dominant-baseline=\"middle\" text-anchor=\"middle\" font-size=\"14px\" font-family=\"Arial\">Rx(G_theta1_1)</text><rect x=\"79.517734375\" y=\"105.0\" width=\"116.066953125\" height=\"40\" stroke=\"black\" fill=\"white\" stroke-width=\"1\" /><text x=\"137.5512109375\" y=\"125.0\" dominant-baseline=\"middle\" text-anchor=\"middle\" font-size=\"14px\" font-family=\"Arial\">Rx(G_theta1_2)</text><rect x=\"79.517734375\" y=\"155.0\" width=\"116.066953125\" height=\"40\" stroke=\"black\" fill=\"white\" stroke-width=\"1\" /><text x=\"137.5512109375\" y=\"175.0\" dominant-baseline=\"middle\" text-anchor=\"middle\" font-size=\"14px\" font-family=\"Arial\">Rx(G_theta1_3)</text><rect x=\"79.517734375\" y=\"205.0\" width=\"116.066953125\" height=\"40\" stroke=\"black\" fill=\"white\" stroke-width=\"1\" /><text x=\"137.5512109375\" y=\"225.0\" dominant-baseline=\"middle\" text-anchor=\"middle\" font-size=\"14px\" font-family=\"Arial\">Rx(G_theta1_4)</text><rect x=\"215.5846875\" y=\"5.0\" width=\"115.1304296875\" height=\"40\" stroke=\"black\" fill=\"white\" stroke-width=\"1\" /><text x=\"273.14990234375\" y=\"25.0\" dominant-baseline=\"middle\" text-anchor=\"middle\" font-size=\"14px\" font-family=\"Arial\">Rz(G_theta1_5)</text><rect x=\"215.5846875\" y=\"55.0\" width=\"115.1304296875\" height=\"40\" stroke=\"black\" fill=\"white\" stroke-width=\"1\" /><text x=\"273.14990234375\" y=\"75.0\" dominant-baseline=\"middle\" text-anchor=\"middle\" font-size=\"14px\" font-family=\"Arial\">Rz(G_theta1_6)</text><rect x=\"215.5846875\" y=\"105.0\" width=\"115.1304296875\" height=\"40\" stroke=\"black\" fill=\"white\" stroke-width=\"1\" /><text x=\"273.14990234375\" y=\"125.0\" dominant-baseline=\"middle\" text-anchor=\"middle\" font-size=\"14px\" font-family=\"Arial\">Rz(G_theta1_7)</text><rect x=\"215.5846875\" y=\"155.0\" width=\"115.1304296875\" height=\"40\" stroke=\"black\" fill=\"white\" stroke-width=\"1\" /><text x=\"273.14990234375\" y=\"175.0\" dominant-baseline=\"middle\" text-anchor=\"middle\" font-size=\"14px\" font-family=\"Arial\">Rz(G_theta1_8)</text><rect x=\"215.5846875\" y=\"205.0\" width=\"115.1304296875\" height=\"40\" stroke=\"black\" fill=\"white\" stroke-width=\"1\" /><text x=\"273.14990234375\" y=\"225.0\" dominant-baseline=\"middle\" text-anchor=\"middle\" font-size=\"14px\" font-family=\"Arial\">Rz(G_theta1_9)</text><circle cx=\"370.7151171875\" cy=\"25.0\" r=\"10.0\" /><rect x=\"350.7151171875\" y=\"55.0\" width=\"40\" height=\"40\" stroke=\"black\" fill=\"white\" stroke-width=\"1\" /><text x=\"370.7151171875\" y=\"75.0\" dominant-baseline=\"middle\" text-anchor=\"middle\" font-size=\"18px\" font-family=\"Arial\">X</text><circle cx=\"370.7151171875\" cy=\"125.0\" r=\"10.0\" /><rect x=\"350.7151171875\" y=\"155.0\" width=\"40\" height=\"40\" stroke=\"black\" fill=\"white\" stroke-width=\"1\" /><text x=\"370.7151171875\" y=\"175.0\" dominant-baseline=\"middle\" text-anchor=\"middle\" font-size=\"18px\" font-family=\"Arial\">X</text><rect x=\"410.7151171875\" y=\"55.0\" width=\"115.1304296875\" height=\"40\" stroke=\"black\" fill=\"white\" stroke-width=\"1\" /><text x=\"468.28033203125005\" y=\"75.0\" dominant-baseline=\"middle\" text-anchor=\"middle\" font-size=\"14px\" font-family=\"Arial\">Rz(G_theta2_0)</text><rect x=\"410.7151171875\" y=\"155.0\" width=\"115.1304296875\" height=\"40\" stroke=\"black\" fill=\"white\" stroke-width=\"1\" /><text x=\"468.28033203125005\" y=\"175.0\" dominant-baseline=\"middle\" text-anchor=\"middle\" font-size=\"14px\" font-family=\"Arial\">Rz(G_theta2_1)</text><circle cx=\"565.8455468750001\" cy=\"25.0\" r=\"10.0\" /><rect x=\"545.8455468750001\" y=\"55.0\" width=\"40\" height=\"40\" stroke=\"black\" fill=\"white\" stroke-width=\"1\" /><text x=\"565.8455468750001\" y=\"75.0\" dominant-baseline=\"middle\" text-anchor=\"middle\" font-size=\"18px\" font-family=\"Arial\">X</text><circle cx=\"565.8455468750001\" cy=\"125.0\" r=\"10.0\" /><rect x=\"545.8455468750001\" y=\"155.0\" width=\"40\" height=\"40\" stroke=\"black\" fill=\"white\" stroke-width=\"1\" /><text x=\"565.8455468750001\" y=\"175.0\" dominant-baseline=\"middle\" text-anchor=\"middle\" font-size=\"18px\" font-family=\"Arial\">X</text><circle cx=\"625.8455468750001\" cy=\"75.0\" r=\"10.0\" /><rect x=\"605.8455468750001\" y=\"105.0\" width=\"40\" height=\"40\" stroke=\"black\" fill=\"white\" stroke-width=\"1\" /><text x=\"625.8455468750001\" y=\"125.0\" dominant-baseline=\"middle\" text-anchor=\"middle\" font-size=\"18px\" font-family=\"Arial\">X</text><circle cx=\"625.8455468750001\" cy=\"175.0\" r=\"10.0\" /><rect x=\"605.8455468750001\" y=\"205.0\" width=\"40\" height=\"40\" stroke=\"black\" fill=\"white\" stroke-width=\"1\" /><text x=\"625.8455468750001\" y=\"225.0\" dominant-baseline=\"middle\" text-anchor=\"middle\" font-size=\"18px\" font-family=\"Arial\">X</text><rect x=\"665.8455468750001\" y=\"105.0\" width=\"115.1304296875\" height=\"40\" stroke=\"black\" fill=\"white\" stroke-width=\"1\" /><text x=\"723.4107617187501\" y=\"125.0\" dominant-baseline=\"middle\" text-anchor=\"middle\" font-size=\"14px\" font-family=\"Arial\">Rz(G_theta2_2)</text><rect x=\"665.8455468750001\" y=\"205.0\" width=\"115.1304296875\" height=\"40\" stroke=\"black\" fill=\"white\" stroke-width=\"1\" /><text x=\"723.4107617187501\" y=\"225.0\" dominant-baseline=\"middle\" text-anchor=\"middle\" font-size=\"14px\" font-family=\"Arial\">Rz(G_theta2_3)</text><circle cx=\"820.9759765625001\" cy=\"75.0\" r=\"10.0\" /><rect x=\"800.9759765625001\" y=\"105.0\" width=\"40\" height=\"40\" stroke=\"black\" fill=\"white\" stroke-width=\"1\" /><text x=\"820.9759765625001\" y=\"125.0\" dominant-baseline=\"middle\" text-anchor=\"middle\" font-size=\"18px\" font-family=\"Arial\">X</text><circle cx=\"820.9759765625001\" cy=\"175.0\" r=\"10.0\" /><rect x=\"800.9759765625001\" y=\"205.0\" width=\"40\" height=\"40\" stroke=\"black\" fill=\"white\" stroke-width=\"1\" /><text x=\"820.9759765625001\" y=\"225.0\" dominant-baseline=\"middle\" text-anchor=\"middle\" font-size=\"18px\" font-family=\"Arial\">X</text><rect x=\"860.9759765625001\" y=\"5.0\" width=\"124.9741796875\" height=\"40\" stroke=\"black\" fill=\"white\" stroke-width=\"1\" /><text x=\"923.4630664062502\" y=\"25.0\" dominant-baseline=\"middle\" text-anchor=\"middle\" font-size=\"14px\" font-family=\"Arial\">Rx(G_theta1_10)</text><rect x=\"860.9759765625001\" y=\"55.0\" width=\"124.9741796875\" height=\"40\" stroke=\"black\" fill=\"white\" stroke-width=\"1\" /><text x=\"923.4630664062502\" y=\"75.0\" dominant-baseline=\"middle\" text-anchor=\"middle\" font-size=\"14px\" font-family=\"Arial\">Rx(G_theta1_11)</text><rect x=\"860.9759765625001\" y=\"105.0\" width=\"124.9741796875\" height=\"40\" stroke=\"black\" fill=\"white\" stroke-width=\"1\" /><text x=\"923.4630664062502\" y=\"125.0\" dominant-baseline=\"middle\" text-anchor=\"middle\" font-size=\"14px\" font-family=\"Arial\">Rx(G_theta1_12)</text><rect x=\"860.9759765625001\" y=\"155.0\" width=\"124.9741796875\" height=\"40\" stroke=\"black\" fill=\"white\" stroke-width=\"1\" /><text x=\"923.4630664062502\" y=\"175.0\" dominant-baseline=\"middle\" text-anchor=\"middle\" font-size=\"14px\" font-family=\"Arial\">Rx(G_theta1_13)</text><rect x=\"860.9759765625001\" y=\"205.0\" width=\"124.9741796875\" height=\"40\" stroke=\"black\" fill=\"white\" stroke-width=\"1\" /><text x=\"923.4630664062502\" y=\"225.0\" dominant-baseline=\"middle\" text-anchor=\"middle\" font-size=\"14px\" font-family=\"Arial\">Rx(G_theta1_14)</text><rect x=\"1005.9501562500002\" y=\"5.0\" width=\"124.03765625\" height=\"40\" stroke=\"black\" fill=\"white\" stroke-width=\"1\" /><text x=\"1067.9689843750002\" y=\"25.0\" dominant-baseline=\"middle\" text-anchor=\"middle\" font-size=\"14px\" font-family=\"Arial\">Rz(G_theta1_15)</text><rect x=\"1005.9501562500002\" y=\"55.0\" width=\"124.03765625\" height=\"40\" stroke=\"black\" fill=\"white\" stroke-width=\"1\" /><text x=\"1067.9689843750002\" y=\"75.0\" dominant-baseline=\"middle\" text-anchor=\"middle\" font-size=\"14px\" font-family=\"Arial\">Rz(G_theta1_16)</text><rect x=\"1005.9501562500002\" y=\"105.0\" width=\"124.03765625\" height=\"40\" stroke=\"black\" fill=\"white\" stroke-width=\"1\" /><text x=\"1067.9689843750002\" y=\"125.0\" dominant-baseline=\"middle\" text-anchor=\"middle\" font-size=\"14px\" font-family=\"Arial\">Rz(G_theta1_17)</text><rect x=\"1005.9501562500002\" y=\"155.0\" width=\"124.03765625\" height=\"40\" stroke=\"black\" fill=\"white\" stroke-width=\"1\" /><text x=\"1067.9689843750002\" y=\"175.0\" dominant-baseline=\"middle\" text-anchor=\"middle\" font-size=\"14px\" font-family=\"Arial\">Rz(G_theta1_18)</text><rect x=\"1005.9501562500002\" y=\"205.0\" width=\"124.03765625\" height=\"40\" stroke=\"black\" fill=\"white\" stroke-width=\"1\" /><text x=\"1067.9689843750002\" y=\"225.0\" dominant-baseline=\"middle\" text-anchor=\"middle\" font-size=\"14px\" font-family=\"Arial\">Rz(G_theta1_19)</text><circle cx=\"1169.9878125000002\" cy=\"25.0\" r=\"10.0\" /><rect x=\"1149.9878125000002\" y=\"55.0\" width=\"40\" height=\"40\" stroke=\"black\" fill=\"white\" stroke-width=\"1\" /><text x=\"1169.9878125000002\" y=\"75.0\" dominant-baseline=\"middle\" text-anchor=\"middle\" font-size=\"18px\" font-family=\"Arial\">X</text><circle cx=\"1169.9878125000002\" cy=\"125.0\" r=\"10.0\" /><rect x=\"1149.9878125000002\" y=\"155.0\" width=\"40\" height=\"40\" stroke=\"black\" fill=\"white\" stroke-width=\"1\" /><text x=\"1169.9878125000002\" y=\"175.0\" dominant-baseline=\"middle\" text-anchor=\"middle\" font-size=\"18px\" font-family=\"Arial\">X</text><rect x=\"1209.9878125000002\" y=\"55.0\" width=\"115.1304296875\" height=\"40\" stroke=\"black\" fill=\"white\" stroke-width=\"1\" /><text x=\"1267.5530273437503\" y=\"75.0\" dominant-baseline=\"middle\" text-anchor=\"middle\" font-size=\"14px\" font-family=\"Arial\">Rz(G_theta2_4)</text><rect x=\"1209.9878125000002\" y=\"155.0\" width=\"115.1304296875\" height=\"40\" stroke=\"black\" fill=\"white\" stroke-width=\"1\" /><text x=\"1267.5530273437503\" y=\"175.0\" dominant-baseline=\"middle\" text-anchor=\"middle\" font-size=\"14px\" font-family=\"Arial\">Rz(G_theta2_5)</text><circle cx=\"1365.1182421875003\" cy=\"25.0\" r=\"10.0\" /><rect x=\"1345.1182421875003\" y=\"55.0\" width=\"40\" height=\"40\" stroke=\"black\" fill=\"white\" stroke-width=\"1\" /><text x=\"1365.1182421875003\" y=\"75.0\" dominant-baseline=\"middle\" text-anchor=\"middle\" font-size=\"18px\" font-family=\"Arial\">X</text><circle cx=\"1365.1182421875003\" cy=\"125.0\" r=\"10.0\" /><rect x=\"1345.1182421875003\" y=\"155.0\" width=\"40\" height=\"40\" stroke=\"black\" fill=\"white\" stroke-width=\"1\" /><text x=\"1365.1182421875003\" y=\"175.0\" dominant-baseline=\"middle\" text-anchor=\"middle\" font-size=\"18px\" font-family=\"Arial\">X</text><circle cx=\"1425.1182421875003\" cy=\"75.0\" r=\"10.0\" /><rect x=\"1405.1182421875003\" y=\"105.0\" width=\"40\" height=\"40\" stroke=\"black\" fill=\"white\" stroke-width=\"1\" /><text x=\"1425.1182421875003\" y=\"125.0\" dominant-baseline=\"middle\" text-anchor=\"middle\" font-size=\"18px\" font-family=\"Arial\">X</text><circle cx=\"1425.1182421875003\" cy=\"175.0\" r=\"10.0\" /><rect x=\"1405.1182421875003\" y=\"205.0\" width=\"40\" height=\"40\" stroke=\"black\" fill=\"white\" stroke-width=\"1\" /><text x=\"1425.1182421875003\" y=\"225.0\" dominant-baseline=\"middle\" text-anchor=\"middle\" font-size=\"18px\" font-family=\"Arial\">X</text><rect x=\"1465.1182421875003\" y=\"105.0\" width=\"115.1304296875\" height=\"40\" stroke=\"black\" fill=\"white\" stroke-width=\"1\" /><text x=\"1522.6834570312503\" y=\"125.0\" dominant-baseline=\"middle\" text-anchor=\"middle\" font-size=\"14px\" font-family=\"Arial\">Rz(G_theta2_6)</text><rect x=\"1465.1182421875003\" y=\"205.0\" width=\"115.1304296875\" height=\"40\" stroke=\"black\" fill=\"white\" stroke-width=\"1\" /><text x=\"1522.6834570312503\" y=\"225.0\" dominant-baseline=\"middle\" text-anchor=\"middle\" font-size=\"14px\" font-family=\"Arial\">Rz(G_theta2_7)</text><circle cx=\"1620.2486718750004\" cy=\"75.0\" r=\"10.0\" /><rect x=\"1600.2486718750004\" y=\"105.0\" width=\"40\" height=\"40\" stroke=\"black\" fill=\"white\" stroke-width=\"1\" /><text x=\"1620.2486718750004\" y=\"125.0\" dominant-baseline=\"middle\" text-anchor=\"middle\" font-size=\"18px\" font-family=\"Arial\">X</text><circle cx=\"1620.2486718750004\" cy=\"175.0\" r=\"10.0\" /><rect x=\"1600.2486718750004\" y=\"205.0\" width=\"40\" height=\"40\" stroke=\"black\" fill=\"white\" stroke-width=\"1\" /><text x=\"1620.2486718750004\" y=\"225.0\" dominant-baseline=\"middle\" text-anchor=\"middle\" font-size=\"18px\" font-family=\"Arial\">X</text><rect x=\"1660.2486718750004\" y=\"5.0\" width=\"124.9741796875\" height=\"40\" stroke=\"black\" fill=\"white\" stroke-width=\"1\" /><text x=\"1722.7357617187504\" y=\"25.0\" dominant-baseline=\"middle\" text-anchor=\"middle\" font-size=\"14px\" font-family=\"Arial\">Rx(G_theta1_20)</text><rect x=\"1660.2486718750004\" y=\"55.0\" width=\"124.9741796875\" height=\"40\" stroke=\"black\" fill=\"white\" stroke-width=\"1\" /><text x=\"1722.7357617187504\" y=\"75.0\" dominant-baseline=\"middle\" text-anchor=\"middle\" font-size=\"14px\" font-family=\"Arial\">Rx(G_theta1_21)</text><rect x=\"1660.2486718750004\" y=\"105.0\" width=\"124.9741796875\" height=\"40\" stroke=\"black\" fill=\"white\" stroke-width=\"1\" /><text x=\"1722.7357617187504\" y=\"125.0\" dominant-baseline=\"middle\" text-anchor=\"middle\" font-size=\"14px\" font-family=\"Arial\">Rx(G_theta1_22)</text><rect x=\"1660.2486718750004\" y=\"155.0\" width=\"124.9741796875\" height=\"40\" stroke=\"black\" fill=\"white\" stroke-width=\"1\" /><text x=\"1722.7357617187504\" y=\"175.0\" dominant-baseline=\"middle\" text-anchor=\"middle\" font-size=\"14px\" font-family=\"Arial\">Rx(G_theta1_23)</text><rect x=\"1660.2486718750004\" y=\"205.0\" width=\"124.9741796875\" height=\"40\" stroke=\"black\" fill=\"white\" stroke-width=\"1\" /><text x=\"1722.7357617187504\" y=\"225.0\" dominant-baseline=\"middle\" text-anchor=\"middle\" font-size=\"14px\" font-family=\"Arial\">Rx(G_theta1_24)</text><rect x=\"1805.2228515625004\" y=\"5.0\" width=\"124.03765625\" height=\"40\" stroke=\"black\" fill=\"white\" stroke-width=\"1\" /><text x=\"1867.2416796875004\" y=\"25.0\" dominant-baseline=\"middle\" text-anchor=\"middle\" font-size=\"14px\" font-family=\"Arial\">Rz(G_theta1_25)</text><rect x=\"1805.2228515625004\" y=\"55.0\" width=\"124.03765625\" height=\"40\" stroke=\"black\" fill=\"white\" stroke-width=\"1\" /><text x=\"1867.2416796875004\" y=\"75.0\" dominant-baseline=\"middle\" text-anchor=\"middle\" font-size=\"14px\" font-family=\"Arial\">Rz(G_theta1_26)</text><rect x=\"1805.2228515625004\" y=\"105.0\" width=\"124.03765625\" height=\"40\" stroke=\"black\" fill=\"white\" stroke-width=\"1\" /><text x=\"1867.2416796875004\" y=\"125.0\" dominant-baseline=\"middle\" text-anchor=\"middle\" font-size=\"14px\" font-family=\"Arial\">Rz(G_theta1_27)</text><rect x=\"1805.2228515625004\" y=\"155.0\" width=\"124.03765625\" height=\"40\" stroke=\"black\" fill=\"white\" stroke-width=\"1\" /><text x=\"1867.2416796875004\" y=\"175.0\" dominant-baseline=\"middle\" text-anchor=\"middle\" font-size=\"14px\" font-family=\"Arial\">Rz(G_theta1_28)</text><rect x=\"1805.2228515625004\" y=\"205.0\" width=\"124.03765625\" height=\"40\" stroke=\"black\" fill=\"white\" stroke-width=\"1\" /><text x=\"1867.2416796875004\" y=\"225.0\" dominant-baseline=\"middle\" text-anchor=\"middle\" font-size=\"14px\" font-family=\"Arial\">Rz(G_theta1_29)</text><circle cx=\"1969.2605078125005\" cy=\"25.0\" r=\"10.0\" /><rect x=\"1949.2605078125005\" y=\"55.0\" width=\"40\" height=\"40\" stroke=\"black\" fill=\"white\" stroke-width=\"1\" /><text x=\"1969.2605078125005\" y=\"75.0\" dominant-baseline=\"middle\" text-anchor=\"middle\" font-size=\"18px\" font-family=\"Arial\">X</text><circle cx=\"1969.2605078125005\" cy=\"125.0\" r=\"10.0\" /><rect x=\"1949.2605078125005\" y=\"155.0\" width=\"40\" height=\"40\" stroke=\"black\" fill=\"white\" stroke-width=\"1\" /><text x=\"1969.2605078125005\" y=\"175.0\" dominant-baseline=\"middle\" text-anchor=\"middle\" font-size=\"18px\" font-family=\"Arial\">X</text><rect x=\"2009.2605078125005\" y=\"55.0\" width=\"115.1304296875\" height=\"40\" stroke=\"black\" fill=\"white\" stroke-width=\"1\" /><text x=\"2066.8257226562505\" y=\"75.0\" dominant-baseline=\"middle\" text-anchor=\"middle\" font-size=\"14px\" font-family=\"Arial\">Rz(G_theta2_8)</text><rect x=\"2009.2605078125005\" y=\"155.0\" width=\"115.1304296875\" height=\"40\" stroke=\"black\" fill=\"white\" stroke-width=\"1\" /><text x=\"2066.8257226562505\" y=\"175.0\" dominant-baseline=\"middle\" text-anchor=\"middle\" font-size=\"14px\" font-family=\"Arial\">Rz(G_theta2_9)</text><circle cx=\"2164.3909375000003\" cy=\"25.0\" r=\"10.0\" /><rect x=\"2144.3909375000003\" y=\"55.0\" width=\"40\" height=\"40\" stroke=\"black\" fill=\"white\" stroke-width=\"1\" /><text x=\"2164.3909375000003\" y=\"75.0\" dominant-baseline=\"middle\" text-anchor=\"middle\" font-size=\"18px\" font-family=\"Arial\">X</text><circle cx=\"2164.3909375000003\" cy=\"125.0\" r=\"10.0\" /><rect x=\"2144.3909375000003\" y=\"155.0\" width=\"40\" height=\"40\" stroke=\"black\" fill=\"white\" stroke-width=\"1\" /><text x=\"2164.3909375000003\" y=\"175.0\" dominant-baseline=\"middle\" text-anchor=\"middle\" font-size=\"18px\" font-family=\"Arial\">X</text><circle cx=\"2224.3909375000003\" cy=\"75.0\" r=\"10.0\" /><rect x=\"2204.3909375000003\" y=\"105.0\" width=\"40\" height=\"40\" stroke=\"black\" fill=\"white\" stroke-width=\"1\" /><text x=\"2224.3909375000003\" y=\"125.0\" dominant-baseline=\"middle\" text-anchor=\"middle\" font-size=\"18px\" font-family=\"Arial\">X</text><circle cx=\"2224.3909375000003\" cy=\"175.0\" r=\"10.0\" /><rect x=\"2204.3909375000003\" y=\"205.0\" width=\"40\" height=\"40\" stroke=\"black\" fill=\"white\" stroke-width=\"1\" /><text x=\"2224.3909375000003\" y=\"225.0\" dominant-baseline=\"middle\" text-anchor=\"middle\" font-size=\"18px\" font-family=\"Arial\">X</text><rect x=\"2264.3909375000003\" y=\"105.0\" width=\"124.03765625\" height=\"40\" stroke=\"black\" fill=\"white\" stroke-width=\"1\" /><text x=\"2326.409765625\" y=\"125.0\" dominant-baseline=\"middle\" text-anchor=\"middle\" font-size=\"14px\" font-family=\"Arial\">Rz(G_theta2_10)</text><rect x=\"2264.3909375000003\" y=\"205.0\" width=\"124.03765625\" height=\"40\" stroke=\"black\" fill=\"white\" stroke-width=\"1\" /><text x=\"2326.409765625\" y=\"225.0\" dominant-baseline=\"middle\" text-anchor=\"middle\" font-size=\"14px\" font-family=\"Arial\">Rz(G_theta2_11)</text><circle cx=\"2428.4285937500003\" cy=\"75.0\" r=\"10.0\" /><rect x=\"2408.4285937500003\" y=\"105.0\" width=\"40\" height=\"40\" stroke=\"black\" fill=\"white\" stroke-width=\"1\" /><text x=\"2428.4285937500003\" y=\"125.0\" dominant-baseline=\"middle\" text-anchor=\"middle\" font-size=\"18px\" font-family=\"Arial\">X</text><circle cx=\"2428.4285937500003\" cy=\"175.0\" r=\"10.0\" /><rect x=\"2408.4285937500003\" y=\"205.0\" width=\"40\" height=\"40\" stroke=\"black\" fill=\"white\" stroke-width=\"1\" /><text x=\"2428.4285937500003\" y=\"225.0\" dominant-baseline=\"middle\" text-anchor=\"middle\" font-size=\"18px\" font-family=\"Arial\">X</text></svg>"
          },
          "metadata": {},
          "execution_count": 22
        }
      ]
    },
    {
      "cell_type": "code",
      "source": [
        "def data_encoding_circuit(qubits):\n",
        "  circuit = cirq.Circuit()\n",
        "  input_symbols = sp.symbols('x_:'+str(len(qubits)))\n",
        "  for i,q in enumerate(qubits):\n",
        "    circuit += cirq.ry(input_symbols[i])(q)\n",
        "  return circuit,input_symbols"
      ],
      "metadata": {
        "id": "7w0bQ2Tcuq1y"
      },
      "execution_count": 23,
      "outputs": []
    },
    {
      "cell_type": "code",
      "source": [
        "SVGCircuit(data_encoding_circuit(cirq.GridQubit.rect(1,5))[0])"
      ],
      "metadata": {
        "colab": {
          "base_uri": "https://localhost:8080/",
          "height": 271
        },
        "id": "rbIM5uBCOvD8",
        "outputId": "3ed522b3-eb63-4883-d265-1080e543df8e"
      },
      "execution_count": 24,
      "outputs": [
        {
          "output_type": "execute_result",
          "data": {
            "text/plain": [
              "<cirq.contrib.svg.svg.SVGCircuit at 0x7f485814d1d0>"
            ],
            "image/svg+xml": "<svg xmlns=\"http://www.w3.org/2000/svg\" width=\"189.3000390625\" height=\"250.0\"><line x1=\"34.7588671875\" x2=\"159.3000390625\" y1=\"25.0\" y2=\"25.0\" stroke=\"#1967d2\" stroke-width=\"1\" /><line x1=\"34.7588671875\" x2=\"159.3000390625\" y1=\"75.0\" y2=\"75.0\" stroke=\"#1967d2\" stroke-width=\"1\" /><line x1=\"34.7588671875\" x2=\"159.3000390625\" y1=\"125.0\" y2=\"125.0\" stroke=\"#1967d2\" stroke-width=\"1\" /><line x1=\"34.7588671875\" x2=\"159.3000390625\" y1=\"175.0\" y2=\"175.0\" stroke=\"#1967d2\" stroke-width=\"1\" /><line x1=\"34.7588671875\" x2=\"159.3000390625\" y1=\"225.0\" y2=\"225.0\" stroke=\"#1967d2\" stroke-width=\"1\" /><rect x=\"10.0\" y=\"5.0\" width=\"49.517734375\" height=\"40\" stroke=\"black\" fill=\"white\" stroke-width=\"0\" /><text x=\"34.7588671875\" y=\"25.0\" dominant-baseline=\"middle\" text-anchor=\"middle\" font-size=\"14px\" font-family=\"Arial\">(0, 0): </text><rect x=\"10.0\" y=\"55.0\" width=\"49.517734375\" height=\"40\" stroke=\"black\" fill=\"white\" stroke-width=\"0\" /><text x=\"34.7588671875\" y=\"75.0\" dominant-baseline=\"middle\" text-anchor=\"middle\" font-size=\"14px\" font-family=\"Arial\">(0, 1): </text><rect x=\"10.0\" y=\"105.0\" width=\"49.517734375\" height=\"40\" stroke=\"black\" fill=\"white\" stroke-width=\"0\" /><text x=\"34.7588671875\" y=\"125.0\" dominant-baseline=\"middle\" text-anchor=\"middle\" font-size=\"14px\" font-family=\"Arial\">(0, 2): </text><rect x=\"10.0\" y=\"155.0\" width=\"49.517734375\" height=\"40\" stroke=\"black\" fill=\"white\" stroke-width=\"0\" /><text x=\"34.7588671875\" y=\"175.0\" dominant-baseline=\"middle\" text-anchor=\"middle\" font-size=\"14px\" font-family=\"Arial\">(0, 3): </text><rect x=\"10.0\" y=\"205.0\" width=\"49.517734375\" height=\"40\" stroke=\"black\" fill=\"white\" stroke-width=\"0\" /><text x=\"34.7588671875\" y=\"225.0\" dominant-baseline=\"middle\" text-anchor=\"middle\" font-size=\"14px\" font-family=\"Arial\">(0, 4): </text><rect x=\"79.517734375\" y=\"5.0\" width=\"59.7823046875\" height=\"40\" stroke=\"black\" fill=\"white\" stroke-width=\"1\" /><text x=\"109.40888671875001\" y=\"25.0\" dominant-baseline=\"middle\" text-anchor=\"middle\" font-size=\"14px\" font-family=\"Arial\">Ry(x_0)</text><rect x=\"79.517734375\" y=\"55.0\" width=\"59.7823046875\" height=\"40\" stroke=\"black\" fill=\"white\" stroke-width=\"1\" /><text x=\"109.40888671875001\" y=\"75.0\" dominant-baseline=\"middle\" text-anchor=\"middle\" font-size=\"14px\" font-family=\"Arial\">Ry(x_1)</text><rect x=\"79.517734375\" y=\"105.0\" width=\"59.7823046875\" height=\"40\" stroke=\"black\" fill=\"white\" stroke-width=\"1\" /><text x=\"109.40888671875001\" y=\"125.0\" dominant-baseline=\"middle\" text-anchor=\"middle\" font-size=\"14px\" font-family=\"Arial\">Ry(x_2)</text><rect x=\"79.517734375\" y=\"155.0\" width=\"59.7823046875\" height=\"40\" stroke=\"black\" fill=\"white\" stroke-width=\"1\" /><text x=\"109.40888671875001\" y=\"175.0\" dominant-baseline=\"middle\" text-anchor=\"middle\" font-size=\"14px\" font-family=\"Arial\">Ry(x_3)</text><rect x=\"79.517734375\" y=\"205.0\" width=\"59.7823046875\" height=\"40\" stroke=\"black\" fill=\"white\" stroke-width=\"1\" /><text x=\"109.40888671875001\" y=\"225.0\" dominant-baseline=\"middle\" text-anchor=\"middle\" font-size=\"14px\" font-family=\"Arial\">Ry(x_4)</text></svg>"
          },
          "metadata": {},
          "execution_count": 24
        }
      ]
    },
    {
      "cell_type": "code",
      "source": [
        "# def generator_layer(qubits,use_entanglement=True,layers=1,name = \"generator_pqc_\"):\n",
        "#   observables = [cirq.Z(q) for q in qubits]\n",
        "#   circuit,symbols = generator_pqc_circuit(qubits,layers)\n",
        "#   g_layer = tfq.layers.ControlledPQC(circuit,observables)\n",
        "#   thetas_init = tf.random_uniform_initializer(minval=-np.pi/2, maxval=np.pi/2)\n",
        "#   params = tf.Variable(\n",
        "#             initial_value=thetas_init(shape=(1, len(symbols)), dtype=\"float32\"),\n",
        "#             trainable=True, name=name + \"thetas\")\n",
        "#   empty_circuit = tfq.convert_to_tensor([cirq.Circuit()])\n",
        "#   return g_layer([empty_circuit,params])"
      ],
      "metadata": {
        "id": "h5uE45TfKAjm"
      },
      "execution_count": 25,
      "outputs": []
    },
    {
      "cell_type": "code",
      "source": [
        "class GeneratorPQC(tf.keras.layers.Layer):\n",
        "  def __init__(self,data_circuit,variational_circuit,n_qubits,use_entanglement=True,name = \"GeneratorPQC\"):\n",
        "    super(GeneratorPQC,self).__init__(name=name)\n",
        "    self.n_qubits=n_qubits\n",
        "    # self.n_layers=n_layers\n",
        "    self.use_entanglement=use_entanglement\n",
        "    self.main_name = name\n",
        "    # self.empty_circuit = tfq.convert_to_tensor([cirq.Circuit()])\n",
        "    # self.qubits = cirq.GridQubit.rect(1, n_qubits)\n",
        "    # self.observables = [cirq.Z(q) for q in self.qubits]\n",
        "    self.append_layer = elementary.AddCircuit()\n",
        "    # circuit,symbols,input_symbols = generator_pqc_circuit(qubits=self.qubits,layers=self.n_layers)\n",
        "    self.encoding_circuit,self.input_symbols = data_circuit\n",
        "    self.encoding_circuit = tfq.convert_to_tensor([self.encoding_circuit])\n",
        "    # data_circuit = QuantumCircuit.from_cirq(data_circuit)\n",
        "    self.op_circuit,self.param_symbols = variational_circuit\n",
        "    self.op_circuit = tfq.convert_to_tensor([self.op_circuit])\n",
        "    # variational_circuit = QuantumCircuit.from_cirq(variational_circuit)\n",
        "    self.operators = [cirq.Z(q) for q in variational_circuit[0].all_qubits()]\n",
        "    self.parameters = self.add_weight('parameters',\n",
        "                                          shape=(1,len(self.param_symbols)),\n",
        "                                          # initializer=self.initializer,\n",
        "                                          # regularizer=self.regularizer,\n",
        "                                          # constraint=self.constraint,\n",
        "                                          dtype=tf.float32,\n",
        "                                          trainable=True)\n",
        "    self.demo_circuit = data_circuit[0] +variational_circuit[0]\n",
        "    symbols = [str(symb) for symb in self.input_symbols + self.param_symbols]\n",
        "    self.indices = tf.constant([sorted(symbols).index(a) for a in symbols])\n",
        "    # thetas_init = tf.random_uniform_initializer(minval=-np.pi/2, maxval=np.pi/2)\n",
        "    # self.params = tf.Variable(\n",
        "    #         initial_value=thetas_init(shape=(1, symbols), dtype=\"float32\"),\n",
        "    #         trainable=True, name=self.main_name + \"thetas\")\n",
        "    self.computation_layer = tfq.layers.ControlledPQC(self.demo_circuit,self.operators)\n",
        "    \n",
        "  def get_config(self):\n",
        "    config = super().get_config().copy()\n",
        "    config.update({\n",
        "            'n_qubits': self.n_qubits,\n",
        "            'n_layers': self.n_layers,\n",
        "            'use_entanglement': self.use_entanglement,\n",
        "            'name': self.main_name,\n",
        "    })\n",
        "    return config\n",
        "  \n",
        "  def call(self,inputs):\n",
        "    batch_size = tf.shape(inputs)[0]\n",
        "    tiled_encoding_circuit = tf.tile(self.encoding_circuit,[batch_size])\n",
        "    tiled_variational_circuit = tf.tile(self.op_circuit,[batch_size])\n",
        "    # full_circuit_batch = self.append_layer(tiled_encoding_circuit,tiled_variational_circuit)\n",
        "    full_circuit_batch = tfq.layers.AddCircuit()(tiled_encoding_circuit,append=tiled_variational_circuit)\n",
        "    # empty_circuit_batch = tf.repeat(self.empty_circuit, repeats=batch_size, name=self.main_name + '-tiled_up_empty_circuits') \n",
        "    tiled_parameters = tf.tile(self.parameters, multiples=[batch_size,1], name=self.main_name + '-tiled_up_empty_thetas') \n",
        "    joined_params = tf.concat([inputs,tiled_parameters],axis=-1)\n",
        "    \n",
        "    # joined_params = tf.gather(joined_params,self.indices,axis=-1,name=self.main_name + '-joined_parameters')\n",
        "    # tiled_operators = tf.tile(self.operators,[batch_size,1])\n",
        "    # return self.computation_layer([empty_circuit_batch,self.parameters])\n",
        "    return self.computation_layer([full_circuit_batch,joined_params])"
      ],
      "metadata": {
        "id": "56mFH_qAMyov"
      },
      "execution_count": 26,
      "outputs": []
    },
    {
      "cell_type": "code",
      "source": [
        "n_gen_qubits = len(X_train_0[0])\n",
        "qubits = cirq.GridQubit.rect(n_gen_qubits,1)\n",
        "layers = 5\n",
        "observables = [cirq.Z(q) for q in qubits]\n",
        "inputs = tf.keras.Input(shape=(n_gen_qubits,))      #,dtype = tf.dtypes.float32\n",
        "gen_pqc = GeneratorPQC(data_circuit=data_encoding_circuit(cirq.GridQubit.rect(n_gen_qubits,1)),variational_circuit=generator_pqc_circuit(cirq.GridQubit.rect(n_gen_qubits,1),layers=layers),n_qubits=n_gen_qubits)\n",
        "gen_pqc_layer = gen_pqc(inputs)\n",
        "# g_layers = tfq.layers.ControlledPQC(generator_pqc_circuit(qubits,layers),observables)(inputs)\n",
        "generator_model = tf.keras.Model(inputs=[inputs],outputs=[gen_pqc_layer])"
      ],
      "metadata": {
        "id": "C8ftToRvcCqT"
      },
      "execution_count": 27,
      "outputs": []
    },
    {
      "cell_type": "code",
      "source": [
        "generator_model.summary()"
      ],
      "metadata": {
        "colab": {
          "base_uri": "https://localhost:8080/"
        },
        "id": "7xTwaETMeNnQ",
        "outputId": "bcd26122-a7e6-41e6-de6c-826f48ee2c62"
      },
      "execution_count": 28,
      "outputs": [
        {
          "output_type": "stream",
          "name": "stdout",
          "text": [
            "Model: \"model_1\"\n",
            "_________________________________________________________________\n",
            " Layer (type)                Output Shape              Param #   \n",
            "=================================================================\n",
            " input_1 (InputLayer)        [(None, 5)]               0         \n",
            "                                                                 \n",
            " GeneratorPQC (GeneratorPQC)  (None, 5)                70        \n",
            "                                                                 \n",
            "=================================================================\n",
            "Total params: 70\n",
            "Trainable params: 70\n",
            "Non-trainable params: 0\n",
            "_________________________________________________________________\n"
          ]
        }
      ]
    },
    {
      "cell_type": "markdown",
      "source": [
        "# Dataset"
      ],
      "metadata": {
        "id": "r4rwK2JdHDVQ"
      }
    },
    {
      "cell_type": "code",
      "source": [
        "def prepare_dataset(data,batch_size,seed=None,drop_remainder=True,buffer_size=100):\n",
        "  buffer_size =len(data[0])\n",
        "  ds = tf.data.Dataset.from_tensor_slices(data)\n",
        "  ds = ds.shuffle(buffer_size=buffer_size,seed=seed,reshuffle_each_iteration=True)\n",
        "  ds = ds.batch(batch_size,drop_remainder)\n",
        "  # ds = ds.prefetch(tf.data.AUTOTUNE)\n",
        "  return ds"
      ],
      "metadata": {
        "id": "81ZafMJqHD6U"
      },
      "execution_count": 29,
      "outputs": []
    },
    {
      "cell_type": "code",
      "source": [
        "def train_preprocess(random_state):\n",
        "  tf.random.set_seed(random_state)\n",
        "  np.random.seed(random_state)"
      ],
      "metadata": {
        "id": "StgBsSU4KKYC"
      },
      "execution_count": 30,
      "outputs": []
    },
    {
      "cell_type": "markdown",
      "source": [
        "# Loss"
      ],
      "metadata": {
        "id": "vnSCp0UCBI2f"
      }
    },
    {
      "cell_type": "code",
      "source": [
        "loss = tf.keras.losses.BinaryCrossentropy(from_logits=True)\n",
        "\n",
        "@tf.function\n",
        "def generator_loss(fake_output):\n",
        "  return loss(tf.ones_like(fake_output),fake_output)\n",
        "\n",
        "@tf.function\n",
        "def discriminator_loss(real_output,fake_output):\n",
        "  real_loss = loss(tf.ones_like(real_output),real_output)\n",
        "  fake_loss = loss(tf.zeros_like(fake_output),fake_output)\n",
        "  return real_loss + fake_loss"
      ],
      "metadata": {
        "id": "u0z8f8DAcPut"
      },
      "execution_count": 31,
      "outputs": []
    },
    {
      "cell_type": "code",
      "source": [
        "# batch_size = 50\n",
        "# z_shape = (batch_size,) \n",
        "# print( generator_model.input_shape[1:])\n",
        "# discriminator_optimizer = tf.keras.optimizers.get('adam')\n",
        "# generator_optimizer = tf.keras.optimizers.get('adam')\n",
        "discriminator_optimizer = tf.keras.optimizers.Adam(learning_rate=0.001)\n",
        "generator_optimizer = tf.keras.optimizers.Adam(learning_rate=0.005)"
      ],
      "metadata": {
        "id": "0FfJNSHLFmfq"
      },
      "execution_count": 33,
      "outputs": []
    },
    {
      "cell_type": "markdown",
      "source": [
        "# Gradient descent"
      ],
      "metadata": {
        "id": "ip7GhmS9HfDZ"
      }
    },
    {
      "cell_type": "code",
      "source": [
        "from tensorflow.python.eager.backprop import GradientTape\n",
        "@tf.function\n",
        "def discriminator_step(x_real,batch_size):\n",
        "  fake_data_shape = (batch_size,) + generator_model.input_shape[1:]\n",
        "  x_real = tf.reshape(x_real,fake_data_shape)\n",
        "  z = tf.random.normal(shape=fake_data_shape)\n",
        "  with tf.GradientTape() as gradient_tape:\n",
        "    real_output = discriminator_model(x_real,training = True)\n",
        "    fake_input = generator_model(z, training = True)\n",
        "    # fake_input = tf.reshape(fake_input, tf.shape(x_real))\n",
        "    fake_output = discriminator_model(fake_input,training = True)\n",
        "    cost = discriminator_loss(real_output,fake_output)\n",
        "  grad = gradient_tape.gradient(cost,discriminator_model.trainable_variables)\n",
        "  discriminator_optimizer.apply_gradients(zip(grad,discriminator_model.trainable_variables))\n",
        "  return cost"
      ],
      "metadata": {
        "id": "zHNzrK5rDo3e"
      },
      "execution_count": 34,
      "outputs": []
    },
    {
      "cell_type": "code",
      "source": [
        "@tf.function\n",
        "def generator_step(batch_size):\n",
        "  fake_data_shape = (batch_size,) + generator_model.input_shape[1:]\n",
        "  z = tf.random.normal(shape=fake_data_shape)\n",
        "  with tf.GradientTape() as gradient_tape:\n",
        "    fake_input = generator_model(z,training=True)\n",
        "    fake_output = discriminator_model(fake_input,training= True) \n",
        "    loss = generator_loss(fake_output)\n",
        "  grad = gradient_tape.gradient(loss,generator_model.trainable_variables)\n",
        "  generator_optimizer.apply_gradients(zip(grad,generator_model.trainable_variables))\n",
        "  return loss"
      ],
      "metadata": {
        "id": "ElBeAQs9MVNu"
      },
      "execution_count": 35,
      "outputs": []
    },
    {
      "cell_type": "code",
      "source": [
        "@tf.function\n",
        "def train_step_1v1(x_real,batch_size):\n",
        "  \n",
        "  \"\"\"Training step for one epoch with 1 generator step and 1 discriminator step\n",
        "        \"\"\"\n",
        "  fake_data_shape = (batch_size,) + generator_model.input_shape[1:]\n",
        "  z = tf.random.normal(shape=fake_data_shape)\n",
        "  with tf.GradientTape() as gen_tape, tf.GradientTape() as disc_tape:\n",
        "    x_fake_ = generator_model(z, training=True)\n",
        "    # x_fake = tf.reshape(x_fake_, tf.shape(x_real))\n",
        "    real_output = discriminator_model(x_real, training=True)\n",
        "    fake_output = discriminator_model(x_fake_, training=True)\n",
        "    gen_loss = generator_loss(fake_output)\n",
        "    disc_loss = discriminator_loss(real_output, fake_output)\n",
        "  grad_gen = gen_tape.gradient(gen_loss, generator_model.trainable_variables)\n",
        "  grad_disc = disc_tape.gradient(disc_loss, discriminator_model.trainable_variables)\n",
        "  generator_optimizer.apply_gradients(zip(grad_gen, generator_model.trainable_variables))\n",
        "  discriminator_optimizer.apply_gradients(zip(grad_disc, discriminator_model.trainable_variables))  \n",
        "  return gen_loss, disc_loss"
      ],
      "metadata": {
        "id": "DrFJb66tOY-F"
      },
      "execution_count": 36,
      "outputs": []
    },
    {
      "cell_type": "code",
      "source": [
        "@tf.function\n",
        "def train_step_nv1(x_real,n_disc,batch_size):\n",
        "  for i in range(n_disc):\n",
        "    x_real_batch = tf.gather(x_real,i)\n",
        "    d_loss = discriminator_step(x_real_batch,batch_size)\n",
        "  g_loss = generator_step(batch_size)\n",
        "  return g_loss, d_loss"
      ],
      "metadata": {
        "id": "AX6ybv6nBb4r"
      },
      "execution_count": 37,
      "outputs": []
    },
    {
      "cell_type": "code",
      "source": [
        "@tf.function\n",
        "def train_step_1vn(x_real,n_gen,batch_size):\n",
        "  for i in range(n_gen):\n",
        "    g_loss = generator_step(batch_size)\n",
        "  d_loss = discriminator_step(x_real,batch_size)\n",
        "  return g_loss, d_loss "
      ],
      "metadata": {
        "id": "vqgMSSLzD1JM"
      },
      "execution_count": 38,
      "outputs": []
    },
    {
      "cell_type": "code",
      "source": [
        "gen_loss_ = []\n",
        "disc_loss_ = []\n",
        "epochs_ = []"
      ],
      "metadata": {
        "id": "XzpzQOyWtLG-"
      },
      "execution_count": 39,
      "outputs": []
    },
    {
      "cell_type": "code",
      "source": [
        "# Define one training step\n",
        "# train_step = train_step_nv1"
      ],
      "metadata": {
        "id": "RNp_4knQEvoa"
      },
      "execution_count": 91,
      "outputs": []
    },
    {
      "cell_type": "code",
      "source": [
        "def train_qgans(x,epochs,batch_size,seed=1024,n_disc=1,n_gen=1):\n",
        "  input_shape = x.shape[1:]\n",
        "  train_preprocess(seed)\n",
        "  data = prepare_dataset(data=x,batch_size=batch_size*n_disc,seed=seed)\n",
        "  g_metric = tf.keras.metrics.Mean()\n",
        "  d_metric = tf.keras.metrics.Mean()\n",
        "  for epoch in range(epochs):\n",
        "    for step,training_batch_data_ in enumerate(data):\n",
        "      # training_batch_data = tf.reshape(training_batch_data_,input_batch_shape)\n",
        "      if( n_disc == 1 and n_gen == 1):\n",
        "        input_batch_shape = (batch_size,) + input_shape\n",
        "        training_batch_data = tf.reshape(training_batch_data_,input_batch_shape)\n",
        "        gen_loss,disc_loss = train_step_1v1(x_real=training_batch_data, batch_size=batch_size)\n",
        "      if n_disc > 1 and n_gen == 1:\n",
        "        input_batch_shape = (n_disc, batch_size) + input_shape\n",
        "        training_batch_data = tf.reshape(training_batch_data_,input_batch_shape)        \n",
        "        gen_loss,disc_loss = train_step_nv1(x_real=training_batch_data, batch_size=batch_size,n_disc=n_disc)\n",
        "      if n_gen > 1 and n_disc == 1:\n",
        "        input_batch_shape = (batch_size,) + input_shape\n",
        "        training_batch_data = tf.reshape(training_batch_data_,input_batch_shape)\n",
        "        gen_loss,disc_loss = train_step_1vn(x_real=training_batch_data, batch_size=batch_size,n_gen=n_gen)\n",
        "      g_metric(gen_loss)\n",
        "      d_metric(disc_loss)\n",
        "    gen_loss_.append(g_metric.result().numpy())\n",
        "    disc_loss_.append(d_metric.result().numpy())\n",
        "    epochs_.append(epoch)\n",
        "    print(\"Epoch:{} ;   generator_loss:{} ;   discriminator_loss:{}\".format(epoch,g_metric.result().numpy(),d_metric.result().numpy()))\n",
        "  \n",
        "    g_metric.reset_state()\n",
        "    d_metric.reset_state()\n",
        "  # samples = generate_samples(batch_size=50).numpy()\n",
        "  # make_plots([X_train_1, samples], ['true signal', 'fake signal']) "
      ],
      "metadata": {
        "id": "ahpOJdvJHwNl"
      },
      "execution_count": 40,
      "outputs": []
    },
    {
      "cell_type": "code",
      "source": [
        "train_qgans(X_train_1,epochs=300,batch_size=20)"
      ],
      "metadata": {
        "id": "3FAZin-psKVL",
        "colab": {
          "base_uri": "https://localhost:8080/"
        },
        "outputId": "e78a6572-671c-4a5e-fef0-4da2e601d1bc"
      },
      "execution_count": 41,
      "outputs": [
        {
          "output_type": "stream",
          "name": "stdout",
          "text": [
            "Epoch:0 ;   generator_loss:0.8293592929840088 ;   discriminator_loss:1.4733424186706543\n",
            "Epoch:1 ;   generator_loss:0.7969458103179932 ;   discriminator_loss:1.505016565322876\n",
            "Epoch:2 ;   generator_loss:0.7838195562362671 ;   discriminator_loss:1.487831711769104\n",
            "Epoch:3 ;   generator_loss:0.803507924079895 ;   discriminator_loss:1.4781676530838013\n",
            "Epoch:4 ;   generator_loss:0.8659464120864868 ;   discriminator_loss:1.4121270179748535\n",
            "Epoch:5 ;   generator_loss:0.829437792301178 ;   discriminator_loss:1.4226863384246826\n",
            "Epoch:6 ;   generator_loss:0.8235759735107422 ;   discriminator_loss:1.4215484857559204\n",
            "Epoch:7 ;   generator_loss:0.8107163310050964 ;   discriminator_loss:1.4325706958770752\n",
            "Epoch:8 ;   generator_loss:0.8279823064804077 ;   discriminator_loss:1.4196256399154663\n",
            "Epoch:9 ;   generator_loss:0.8632715940475464 ;   discriminator_loss:1.3771781921386719\n",
            "Epoch:10 ;   generator_loss:0.8543287515640259 ;   discriminator_loss:1.401258111000061\n",
            "Epoch:11 ;   generator_loss:0.81336510181427 ;   discriminator_loss:1.415938138961792\n",
            "Epoch:12 ;   generator_loss:0.8148216009140015 ;   discriminator_loss:1.4024332761764526\n",
            "Epoch:13 ;   generator_loss:0.8976484537124634 ;   discriminator_loss:1.3268566131591797\n",
            "Epoch:14 ;   generator_loss:0.8633224964141846 ;   discriminator_loss:1.3636903762817383\n",
            "Epoch:15 ;   generator_loss:0.8282216191291809 ;   discriminator_loss:1.3856227397918701\n",
            "Epoch:16 ;   generator_loss:0.8702700138092041 ;   discriminator_loss:1.345689058303833\n",
            "Epoch:17 ;   generator_loss:0.8231699466705322 ;   discriminator_loss:1.3825244903564453\n",
            "Epoch:18 ;   generator_loss:0.8473830223083496 ;   discriminator_loss:1.3610882759094238\n",
            "Epoch:19 ;   generator_loss:0.8503332734107971 ;   discriminator_loss:1.3226094245910645\n",
            "Epoch:20 ;   generator_loss:0.7925199270248413 ;   discriminator_loss:1.3816231489181519\n",
            "Epoch:21 ;   generator_loss:0.902714729309082 ;   discriminator_loss:1.298874855041504\n",
            "Epoch:22 ;   generator_loss:0.8509982824325562 ;   discriminator_loss:1.3340890407562256\n",
            "Epoch:23 ;   generator_loss:0.8768197894096375 ;   discriminator_loss:1.3151880502700806\n",
            "Epoch:24 ;   generator_loss:0.8388181924819946 ;   discriminator_loss:1.328211784362793\n",
            "Epoch:25 ;   generator_loss:0.7385413646697998 ;   discriminator_loss:1.4235914945602417\n",
            "Epoch:26 ;   generator_loss:0.8123195171356201 ;   discriminator_loss:1.3662259578704834\n",
            "Epoch:27 ;   generator_loss:0.8278156518936157 ;   discriminator_loss:1.3406057357788086\n",
            "Epoch:28 ;   generator_loss:0.8561347723007202 ;   discriminator_loss:1.2865345478057861\n",
            "Epoch:29 ;   generator_loss:0.9178370833396912 ;   discriminator_loss:1.2354570627212524\n",
            "Epoch:30 ;   generator_loss:0.825975775718689 ;   discriminator_loss:1.3198081254959106\n",
            "Epoch:31 ;   generator_loss:0.8427556753158569 ;   discriminator_loss:1.2909586429595947\n",
            "Epoch:32 ;   generator_loss:0.8808702230453491 ;   discriminator_loss:1.2467128038406372\n",
            "Epoch:33 ;   generator_loss:0.8204727172851562 ;   discriminator_loss:1.2890381813049316\n",
            "Epoch:34 ;   generator_loss:0.8087649941444397 ;   discriminator_loss:1.2957254648208618\n",
            "Epoch:35 ;   generator_loss:0.7744201421737671 ;   discriminator_loss:1.3362910747528076\n",
            "Epoch:36 ;   generator_loss:0.8260411620140076 ;   discriminator_loss:1.287969946861267\n",
            "Epoch:37 ;   generator_loss:0.8750914931297302 ;   discriminator_loss:1.2462172508239746\n",
            "Epoch:38 ;   generator_loss:0.7954689264297485 ;   discriminator_loss:1.3117029666900635\n",
            "Epoch:39 ;   generator_loss:0.8864566087722778 ;   discriminator_loss:1.205734372138977\n",
            "Epoch:40 ;   generator_loss:0.8587468266487122 ;   discriminator_loss:1.2479958534240723\n",
            "Epoch:41 ;   generator_loss:0.871248722076416 ;   discriminator_loss:1.2167112827301025\n",
            "Epoch:42 ;   generator_loss:0.8800240755081177 ;   discriminator_loss:1.2208080291748047\n",
            "Epoch:43 ;   generator_loss:0.8420025110244751 ;   discriminator_loss:1.237506628036499\n",
            "Epoch:44 ;   generator_loss:0.8986042737960815 ;   discriminator_loss:1.1954625844955444\n",
            "Epoch:45 ;   generator_loss:0.8952093124389648 ;   discriminator_loss:1.1771855354309082\n",
            "Epoch:46 ;   generator_loss:0.8455183506011963 ;   discriminator_loss:1.2114461660385132\n",
            "Epoch:47 ;   generator_loss:0.8719251155853271 ;   discriminator_loss:1.2014245986938477\n",
            "Epoch:48 ;   generator_loss:0.9441189169883728 ;   discriminator_loss:1.1304187774658203\n",
            "Epoch:49 ;   generator_loss:0.8942610621452332 ;   discriminator_loss:1.1730746030807495\n",
            "Epoch:50 ;   generator_loss:0.8705058097839355 ;   discriminator_loss:1.1725900173187256\n",
            "Epoch:51 ;   generator_loss:0.9287518262863159 ;   discriminator_loss:1.1342287063598633\n",
            "Epoch:52 ;   generator_loss:0.9516595602035522 ;   discriminator_loss:1.0996100902557373\n",
            "Epoch:53 ;   generator_loss:0.8770853281021118 ;   discriminator_loss:1.1664165258407593\n",
            "Epoch:54 ;   generator_loss:0.8974236249923706 ;   discriminator_loss:1.1547127962112427\n",
            "Epoch:55 ;   generator_loss:0.9420369267463684 ;   discriminator_loss:1.1193064451217651\n",
            "Epoch:56 ;   generator_loss:0.9247245788574219 ;   discriminator_loss:1.1289942264556885\n",
            "Epoch:57 ;   generator_loss:0.9439940452575684 ;   discriminator_loss:1.0883867740631104\n",
            "Epoch:58 ;   generator_loss:0.9605550765991211 ;   discriminator_loss:1.0871243476867676\n",
            "Epoch:59 ;   generator_loss:0.9549697637557983 ;   discriminator_loss:1.0823678970336914\n",
            "Epoch:60 ;   generator_loss:0.9303467273712158 ;   discriminator_loss:1.102981686592102\n",
            "Epoch:61 ;   generator_loss:0.9331599473953247 ;   discriminator_loss:1.0890069007873535\n",
            "Epoch:62 ;   generator_loss:1.028597116470337 ;   discriminator_loss:1.0300519466400146\n",
            "Epoch:63 ;   generator_loss:0.9601958990097046 ;   discriminator_loss:1.063706636428833\n",
            "Epoch:64 ;   generator_loss:1.0191997289657593 ;   discriminator_loss:1.041987657546997\n",
            "Epoch:65 ;   generator_loss:1.0113277435302734 ;   discriminator_loss:1.03803551197052\n",
            "Epoch:66 ;   generator_loss:0.9694561958312988 ;   discriminator_loss:1.067909598350525\n",
            "Epoch:67 ;   generator_loss:0.99137282371521 ;   discriminator_loss:1.0449345111846924\n",
            "Epoch:68 ;   generator_loss:1.0238999128341675 ;   discriminator_loss:1.0226764678955078\n",
            "Epoch:69 ;   generator_loss:1.0520544052124023 ;   discriminator_loss:0.9999613165855408\n",
            "Epoch:70 ;   generator_loss:1.0259528160095215 ;   discriminator_loss:1.003844141960144\n",
            "Epoch:71 ;   generator_loss:1.0748326778411865 ;   discriminator_loss:0.988767147064209\n",
            "Epoch:72 ;   generator_loss:1.05021071434021 ;   discriminator_loss:0.9978107213973999\n",
            "Epoch:73 ;   generator_loss:1.0605463981628418 ;   discriminator_loss:0.9699780941009521\n",
            "Epoch:74 ;   generator_loss:1.0771827697753906 ;   discriminator_loss:0.9747868180274963\n",
            "Epoch:75 ;   generator_loss:1.091090202331543 ;   discriminator_loss:0.9604365825653076\n",
            "Epoch:76 ;   generator_loss:1.0978409051895142 ;   discriminator_loss:0.945789635181427\n",
            "Epoch:77 ;   generator_loss:1.0786385536193848 ;   discriminator_loss:0.9520843625068665\n",
            "Epoch:78 ;   generator_loss:1.1143157482147217 ;   discriminator_loss:0.9246107339859009\n",
            "Epoch:79 ;   generator_loss:1.1092185974121094 ;   discriminator_loss:0.9248340129852295\n",
            "Epoch:80 ;   generator_loss:1.113632082939148 ;   discriminator_loss:0.9333076477050781\n",
            "Epoch:81 ;   generator_loss:1.0935770273208618 ;   discriminator_loss:0.9411130547523499\n",
            "Epoch:82 ;   generator_loss:1.1127216815948486 ;   discriminator_loss:0.9294562935829163\n",
            "Epoch:83 ;   generator_loss:1.1182116270065308 ;   discriminator_loss:0.9250064492225647\n",
            "Epoch:84 ;   generator_loss:1.0953173637390137 ;   discriminator_loss:0.9366921782493591\n",
            "Epoch:85 ;   generator_loss:1.125411868095398 ;   discriminator_loss:0.9143079519271851\n",
            "Epoch:86 ;   generator_loss:1.0885460376739502 ;   discriminator_loss:0.9236007332801819\n",
            "Epoch:87 ;   generator_loss:1.0575288534164429 ;   discriminator_loss:0.9435088634490967\n",
            "Epoch:88 ;   generator_loss:1.0911180973052979 ;   discriminator_loss:0.9232139587402344\n",
            "Epoch:89 ;   generator_loss:1.0723657608032227 ;   discriminator_loss:0.9356412291526794\n",
            "Epoch:90 ;   generator_loss:1.0178757905960083 ;   discriminator_loss:0.9692453742027283\n",
            "Epoch:91 ;   generator_loss:0.9651758670806885 ;   discriminator_loss:0.9900366067886353\n",
            "Epoch:92 ;   generator_loss:0.8385974168777466 ;   discriminator_loss:1.0806968212127686\n",
            "Epoch:93 ;   generator_loss:0.7984098196029663 ;   discriminator_loss:1.112144947052002\n",
            "Epoch:94 ;   generator_loss:0.7370740175247192 ;   discriminator_loss:1.1690583229064941\n",
            "Epoch:95 ;   generator_loss:0.6363312005996704 ;   discriminator_loss:1.2611452341079712\n",
            "Epoch:96 ;   generator_loss:0.5948633551597595 ;   discriminator_loss:1.3104766607284546\n",
            "Epoch:97 ;   generator_loss:0.5286052227020264 ;   discriminator_loss:1.398514986038208\n",
            "Epoch:98 ;   generator_loss:0.5454176068305969 ;   discriminator_loss:1.3859632015228271\n",
            "Epoch:99 ;   generator_loss:0.46528369188308716 ;   discriminator_loss:1.4844119548797607\n",
            "Epoch:100 ;   generator_loss:0.4539982080459595 ;   discriminator_loss:1.499171495437622\n",
            "Epoch:101 ;   generator_loss:0.48338228464126587 ;   discriminator_loss:1.4615952968597412\n",
            "Epoch:102 ;   generator_loss:0.4666752517223358 ;   discriminator_loss:1.4828171730041504\n",
            "Epoch:103 ;   generator_loss:0.5086902976036072 ;   discriminator_loss:1.4309296607971191\n",
            "Epoch:104 ;   generator_loss:0.4837392568588257 ;   discriminator_loss:1.4491584300994873\n",
            "Epoch:105 ;   generator_loss:0.4767135679721832 ;   discriminator_loss:1.4460517168045044\n",
            "Epoch:106 ;   generator_loss:0.46977055072784424 ;   discriminator_loss:1.4744925498962402\n",
            "Epoch:107 ;   generator_loss:0.45269668102264404 ;   discriminator_loss:1.4897637367248535\n",
            "Epoch:108 ;   generator_loss:0.4534871578216553 ;   discriminator_loss:1.4925658702850342\n",
            "Epoch:109 ;   generator_loss:0.44981321692466736 ;   discriminator_loss:1.4938430786132812\n",
            "Epoch:110 ;   generator_loss:0.4443167448043823 ;   discriminator_loss:1.495375156402588\n",
            "Epoch:111 ;   generator_loss:0.44756394624710083 ;   discriminator_loss:1.4880261421203613\n",
            "Epoch:112 ;   generator_loss:0.4474722146987915 ;   discriminator_loss:1.4918766021728516\n",
            "Epoch:113 ;   generator_loss:0.4483805000782013 ;   discriminator_loss:1.4915485382080078\n",
            "Epoch:114 ;   generator_loss:0.45407283306121826 ;   discriminator_loss:1.4777766466140747\n",
            "Epoch:115 ;   generator_loss:0.45882830023765564 ;   discriminator_loss:1.469794750213623\n",
            "Epoch:116 ;   generator_loss:0.44769230484962463 ;   discriminator_loss:1.48362398147583\n",
            "Epoch:117 ;   generator_loss:0.4822850823402405 ;   discriminator_loss:1.436650037765503\n",
            "Epoch:118 ;   generator_loss:0.4491591155529022 ;   discriminator_loss:1.4841806888580322\n",
            "Epoch:119 ;   generator_loss:0.4632245898246765 ;   discriminator_loss:1.4665995836257935\n",
            "Epoch:120 ;   generator_loss:0.4982917904853821 ;   discriminator_loss:1.4142119884490967\n",
            "Epoch:121 ;   generator_loss:0.4776158630847931 ;   discriminator_loss:1.4488539695739746\n",
            "Epoch:122 ;   generator_loss:0.47505682706832886 ;   discriminator_loss:1.445114016532898\n",
            "Epoch:123 ;   generator_loss:0.4758358597755432 ;   discriminator_loss:1.4464681148529053\n",
            "Epoch:124 ;   generator_loss:0.4837610125541687 ;   discriminator_loss:1.4343401193618774\n",
            "Epoch:125 ;   generator_loss:0.5129984617233276 ;   discriminator_loss:1.3968307971954346\n",
            "Epoch:126 ;   generator_loss:0.5111511945724487 ;   discriminator_loss:1.402904987335205\n",
            "Epoch:127 ;   generator_loss:0.5073068141937256 ;   discriminator_loss:1.4107387065887451\n",
            "Epoch:128 ;   generator_loss:0.49220579862594604 ;   discriminator_loss:1.4445621967315674\n",
            "Epoch:129 ;   generator_loss:0.4922245144844055 ;   discriminator_loss:1.4411811828613281\n",
            "Epoch:130 ;   generator_loss:0.5156564712524414 ;   discriminator_loss:1.4200390577316284\n",
            "Epoch:131 ;   generator_loss:0.5222145318984985 ;   discriminator_loss:1.416879415512085\n",
            "Epoch:132 ;   generator_loss:0.5195661783218384 ;   discriminator_loss:1.4151934385299683\n",
            "Epoch:133 ;   generator_loss:0.4837394058704376 ;   discriminator_loss:1.4629192352294922\n",
            "Epoch:134 ;   generator_loss:0.4509490728378296 ;   discriminator_loss:1.522423505783081\n",
            "Epoch:135 ;   generator_loss:0.4769999384880066 ;   discriminator_loss:1.4841911792755127\n",
            "Epoch:136 ;   generator_loss:0.4319717586040497 ;   discriminator_loss:1.5570178031921387\n",
            "Epoch:137 ;   generator_loss:0.4817489981651306 ;   discriminator_loss:1.4835803508758545\n",
            "Epoch:138 ;   generator_loss:0.4464067220687866 ;   discriminator_loss:1.5283242464065552\n",
            "Epoch:139 ;   generator_loss:0.4256766438484192 ;   discriminator_loss:1.5646159648895264\n",
            "Epoch:140 ;   generator_loss:0.4291377663612366 ;   discriminator_loss:1.560908555984497\n",
            "Epoch:141 ;   generator_loss:0.45183247327804565 ;   discriminator_loss:1.5163064002990723\n",
            "Epoch:142 ;   generator_loss:0.4599228501319885 ;   discriminator_loss:1.5122900009155273\n",
            "Epoch:143 ;   generator_loss:0.4411594867706299 ;   discriminator_loss:1.5345940589904785\n",
            "Epoch:144 ;   generator_loss:0.4494873881340027 ;   discriminator_loss:1.5250647068023682\n",
            "Epoch:145 ;   generator_loss:0.4902465343475342 ;   discriminator_loss:1.4557666778564453\n",
            "Epoch:146 ;   generator_loss:0.46275365352630615 ;   discriminator_loss:1.4935674667358398\n",
            "Epoch:147 ;   generator_loss:0.47094494104385376 ;   discriminator_loss:1.4755432605743408\n",
            "Epoch:148 ;   generator_loss:0.45724278688430786 ;   discriminator_loss:1.5001347064971924\n",
            "Epoch:149 ;   generator_loss:0.4665357172489166 ;   discriminator_loss:1.4866938591003418\n",
            "Epoch:150 ;   generator_loss:0.4671260714530945 ;   discriminator_loss:1.4834730625152588\n",
            "Epoch:151 ;   generator_loss:0.4615541398525238 ;   discriminator_loss:1.4879108667373657\n",
            "Epoch:152 ;   generator_loss:0.45271167159080505 ;   discriminator_loss:1.48905348777771\n",
            "Epoch:153 ;   generator_loss:0.4696827530860901 ;   discriminator_loss:1.4711987972259521\n",
            "Epoch:154 ;   generator_loss:0.4546237587928772 ;   discriminator_loss:1.4940327405929565\n",
            "Epoch:155 ;   generator_loss:0.4692666232585907 ;   discriminator_loss:1.464876413345337\n",
            "Epoch:156 ;   generator_loss:0.4544919729232788 ;   discriminator_loss:1.4931421279907227\n",
            "Epoch:157 ;   generator_loss:0.4428960084915161 ;   discriminator_loss:1.5160967111587524\n",
            "Epoch:158 ;   generator_loss:0.4474523663520813 ;   discriminator_loss:1.507774829864502\n",
            "Epoch:159 ;   generator_loss:0.44583243131637573 ;   discriminator_loss:1.511946678161621\n",
            "Epoch:160 ;   generator_loss:0.47220563888549805 ;   discriminator_loss:1.4682044982910156\n",
            "Epoch:161 ;   generator_loss:0.4511345624923706 ;   discriminator_loss:1.502260684967041\n",
            "Epoch:162 ;   generator_loss:0.44298672676086426 ;   discriminator_loss:1.5160467624664307\n",
            "Epoch:163 ;   generator_loss:0.439797967672348 ;   discriminator_loss:1.522850513458252\n",
            "Epoch:164 ;   generator_loss:0.4426290988922119 ;   discriminator_loss:1.518916130065918\n",
            "Epoch:165 ;   generator_loss:0.44458216428756714 ;   discriminator_loss:1.516589879989624\n",
            "Epoch:166 ;   generator_loss:0.4479817748069763 ;   discriminator_loss:1.510058879852295\n",
            "Epoch:167 ;   generator_loss:0.43755006790161133 ;   discriminator_loss:1.5307778120040894\n",
            "Epoch:168 ;   generator_loss:0.43910592794418335 ;   discriminator_loss:1.5286171436309814\n",
            "Epoch:169 ;   generator_loss:0.4365242123603821 ;   discriminator_loss:1.5337361097335815\n",
            "Epoch:170 ;   generator_loss:0.43925929069519043 ;   discriminator_loss:1.5314072370529175\n",
            "Epoch:171 ;   generator_loss:0.44629988074302673 ;   discriminator_loss:1.5110862255096436\n",
            "Epoch:172 ;   generator_loss:0.44385141134262085 ;   discriminator_loss:1.5263019800186157\n",
            "Epoch:173 ;   generator_loss:0.42845362424850464 ;   discriminator_loss:1.554388403892517\n",
            "Epoch:174 ;   generator_loss:0.4554353952407837 ;   discriminator_loss:1.5092363357543945\n",
            "Epoch:175 ;   generator_loss:0.4483835697174072 ;   discriminator_loss:1.5149505138397217\n",
            "Epoch:176 ;   generator_loss:0.4377135634422302 ;   discriminator_loss:1.5432255268096924\n",
            "Epoch:177 ;   generator_loss:0.4577997624874115 ;   discriminator_loss:1.50995934009552\n",
            "Epoch:178 ;   generator_loss:0.46460670232772827 ;   discriminator_loss:1.4920766353607178\n",
            "Epoch:179 ;   generator_loss:0.44392281770706177 ;   discriminator_loss:1.5296220779418945\n",
            "Epoch:180 ;   generator_loss:0.4586774408817291 ;   discriminator_loss:1.515040397644043\n",
            "Epoch:181 ;   generator_loss:0.47269177436828613 ;   discriminator_loss:1.4934406280517578\n",
            "Epoch:182 ;   generator_loss:0.4745185375213623 ;   discriminator_loss:1.491719126701355\n",
            "Epoch:183 ;   generator_loss:0.4700097143650055 ;   discriminator_loss:1.500001072883606\n",
            "Epoch:184 ;   generator_loss:0.49420255422592163 ;   discriminator_loss:1.4544888734817505\n",
            "Epoch:185 ;   generator_loss:0.4828715920448303 ;   discriminator_loss:1.4826246500015259\n",
            "Epoch:186 ;   generator_loss:0.4809988737106323 ;   discriminator_loss:1.4891961812973022\n",
            "Epoch:187 ;   generator_loss:0.48245638608932495 ;   discriminator_loss:1.489150047302246\n",
            "Epoch:188 ;   generator_loss:0.49790865182876587 ;   discriminator_loss:1.464019536972046\n",
            "Epoch:189 ;   generator_loss:0.4905489683151245 ;   discriminator_loss:1.4770185947418213\n",
            "Epoch:190 ;   generator_loss:0.5139637589454651 ;   discriminator_loss:1.443983793258667\n",
            "Epoch:191 ;   generator_loss:0.5137905478477478 ;   discriminator_loss:1.4445456266403198\n",
            "Epoch:192 ;   generator_loss:0.5217587947845459 ;   discriminator_loss:1.4356342554092407\n",
            "Epoch:193 ;   generator_loss:0.5414630174636841 ;   discriminator_loss:1.409640908241272\n",
            "Epoch:194 ;   generator_loss:0.5413550138473511 ;   discriminator_loss:1.409290075302124\n",
            "Epoch:195 ;   generator_loss:0.5271100997924805 ;   discriminator_loss:1.4245326519012451\n",
            "Epoch:196 ;   generator_loss:0.547390341758728 ;   discriminator_loss:1.4087610244750977\n",
            "Epoch:197 ;   generator_loss:0.5277782678604126 ;   discriminator_loss:1.4349849224090576\n",
            "Epoch:198 ;   generator_loss:0.5470701456069946 ;   discriminator_loss:1.4052603244781494\n",
            "Epoch:199 ;   generator_loss:0.5632675886154175 ;   discriminator_loss:1.3871243000030518\n",
            "Epoch:200 ;   generator_loss:0.5807159543037415 ;   discriminator_loss:1.3671913146972656\n",
            "Epoch:201 ;   generator_loss:0.5741254091262817 ;   discriminator_loss:1.3735448122024536\n",
            "Epoch:202 ;   generator_loss:0.6030697822570801 ;   discriminator_loss:1.3380558490753174\n",
            "Epoch:203 ;   generator_loss:0.6022778749465942 ;   discriminator_loss:1.3443899154663086\n",
            "Epoch:204 ;   generator_loss:0.5825747847557068 ;   discriminator_loss:1.3733415603637695\n",
            "Epoch:205 ;   generator_loss:0.605279803276062 ;   discriminator_loss:1.337306261062622\n",
            "Epoch:206 ;   generator_loss:0.5976136922836304 ;   discriminator_loss:1.3531031608581543\n",
            "Epoch:207 ;   generator_loss:0.6031745076179504 ;   discriminator_loss:1.3329596519470215\n",
            "Epoch:208 ;   generator_loss:0.5911012887954712 ;   discriminator_loss:1.3512934446334839\n",
            "Epoch:209 ;   generator_loss:0.5860847234725952 ;   discriminator_loss:1.3689690828323364\n",
            "Epoch:210 ;   generator_loss:0.5902162790298462 ;   discriminator_loss:1.3671724796295166\n",
            "Epoch:211 ;   generator_loss:0.591767430305481 ;   discriminator_loss:1.358212947845459\n",
            "Epoch:212 ;   generator_loss:0.568641185760498 ;   discriminator_loss:1.3804210424423218\n",
            "Epoch:213 ;   generator_loss:0.5524300336837769 ;   discriminator_loss:1.4172587394714355\n",
            "Epoch:214 ;   generator_loss:0.5450727343559265 ;   discriminator_loss:1.426381230354309\n",
            "Epoch:215 ;   generator_loss:0.5597056150436401 ;   discriminator_loss:1.4075570106506348\n",
            "Epoch:216 ;   generator_loss:0.552371621131897 ;   discriminator_loss:1.4188653230667114\n",
            "Epoch:217 ;   generator_loss:0.5389218330383301 ;   discriminator_loss:1.4285898208618164\n",
            "Epoch:218 ;   generator_loss:0.5579571723937988 ;   discriminator_loss:1.410509467124939\n",
            "Epoch:219 ;   generator_loss:0.5702787637710571 ;   discriminator_loss:1.388838529586792\n",
            "Epoch:220 ;   generator_loss:0.564868688583374 ;   discriminator_loss:1.409637212753296\n",
            "Epoch:221 ;   generator_loss:0.5870600938796997 ;   discriminator_loss:1.3784929513931274\n",
            "Epoch:222 ;   generator_loss:0.5981149673461914 ;   discriminator_loss:1.3652254343032837\n",
            "Epoch:223 ;   generator_loss:0.6084102988243103 ;   discriminator_loss:1.3602967262268066\n",
            "Epoch:224 ;   generator_loss:0.6242905855178833 ;   discriminator_loss:1.3380368947982788\n",
            "Epoch:225 ;   generator_loss:0.6401318311691284 ;   discriminator_loss:1.3304046392440796\n",
            "Epoch:226 ;   generator_loss:0.661432147026062 ;   discriminator_loss:1.296512484550476\n",
            "Epoch:227 ;   generator_loss:0.6745312213897705 ;   discriminator_loss:1.288784384727478\n",
            "Epoch:228 ;   generator_loss:0.6919831037521362 ;   discriminator_loss:1.2697815895080566\n",
            "Epoch:229 ;   generator_loss:0.7046141624450684 ;   discriminator_loss:1.255597710609436\n",
            "Epoch:230 ;   generator_loss:0.7233476638793945 ;   discriminator_loss:1.2484767436981201\n",
            "Epoch:231 ;   generator_loss:0.7380707859992981 ;   discriminator_loss:1.2450196743011475\n",
            "Epoch:232 ;   generator_loss:0.7490247488021851 ;   discriminator_loss:1.2177801132202148\n",
            "Epoch:233 ;   generator_loss:0.7687647938728333 ;   discriminator_loss:1.193805456161499\n",
            "Epoch:234 ;   generator_loss:0.7727869749069214 ;   discriminator_loss:1.2023136615753174\n",
            "Epoch:235 ;   generator_loss:0.7845064401626587 ;   discriminator_loss:1.2001378536224365\n",
            "Epoch:236 ;   generator_loss:0.8011026382446289 ;   discriminator_loss:1.1868400573730469\n",
            "Epoch:237 ;   generator_loss:0.8016653060913086 ;   discriminator_loss:1.1909849643707275\n",
            "Epoch:238 ;   generator_loss:0.8273494839668274 ;   discriminator_loss:1.1603419780731201\n",
            "Epoch:239 ;   generator_loss:0.8327065706253052 ;   discriminator_loss:1.155208706855774\n",
            "Epoch:240 ;   generator_loss:0.8281319737434387 ;   discriminator_loss:1.1604135036468506\n",
            "Epoch:241 ;   generator_loss:0.8485121726989746 ;   discriminator_loss:1.144219160079956\n",
            "Epoch:242 ;   generator_loss:0.8682997226715088 ;   discriminator_loss:1.1351567506790161\n",
            "Epoch:243 ;   generator_loss:0.8530681133270264 ;   discriminator_loss:1.1325490474700928\n",
            "Epoch:244 ;   generator_loss:0.8454592227935791 ;   discriminator_loss:1.1553869247436523\n",
            "Epoch:245 ;   generator_loss:0.8453233242034912 ;   discriminator_loss:1.1445335149765015\n",
            "Epoch:246 ;   generator_loss:0.865034818649292 ;   discriminator_loss:1.143688440322876\n",
            "Epoch:247 ;   generator_loss:0.8646044731140137 ;   discriminator_loss:1.1501808166503906\n",
            "Epoch:248 ;   generator_loss:0.8615387082099915 ;   discriminator_loss:1.1430295705795288\n",
            "Epoch:249 ;   generator_loss:0.8465008735656738 ;   discriminator_loss:1.1457512378692627\n",
            "Epoch:250 ;   generator_loss:0.835706353187561 ;   discriminator_loss:1.175470232963562\n",
            "Epoch:251 ;   generator_loss:0.8647301197052002 ;   discriminator_loss:1.1316747665405273\n",
            "Epoch:252 ;   generator_loss:0.837766706943512 ;   discriminator_loss:1.1449520587921143\n",
            "Epoch:253 ;   generator_loss:0.8323677778244019 ;   discriminator_loss:1.1557097434997559\n",
            "Epoch:254 ;   generator_loss:0.8498920202255249 ;   discriminator_loss:1.1481831073760986\n",
            "Epoch:255 ;   generator_loss:0.8344295024871826 ;   discriminator_loss:1.1580626964569092\n",
            "Epoch:256 ;   generator_loss:0.8544159531593323 ;   discriminator_loss:1.140445351600647\n",
            "Epoch:257 ;   generator_loss:0.8534998893737793 ;   discriminator_loss:1.1426265239715576\n",
            "Epoch:258 ;   generator_loss:0.873394250869751 ;   discriminator_loss:1.1274936199188232\n",
            "Epoch:259 ;   generator_loss:0.8824950456619263 ;   discriminator_loss:1.1133379936218262\n",
            "Epoch:260 ;   generator_loss:0.8655277490615845 ;   discriminator_loss:1.113372802734375\n",
            "Epoch:261 ;   generator_loss:0.8813514709472656 ;   discriminator_loss:1.1251850128173828\n",
            "Epoch:262 ;   generator_loss:0.8559247851371765 ;   discriminator_loss:1.124377965927124\n",
            "Epoch:263 ;   generator_loss:0.8793783783912659 ;   discriminator_loss:1.099973440170288\n",
            "Epoch:264 ;   generator_loss:0.866981029510498 ;   discriminator_loss:1.1215152740478516\n",
            "Epoch:265 ;   generator_loss:0.8520485162734985 ;   discriminator_loss:1.1301883459091187\n",
            "Epoch:266 ;   generator_loss:0.8426022529602051 ;   discriminator_loss:1.1439794301986694\n",
            "Epoch:267 ;   generator_loss:0.8637567162513733 ;   discriminator_loss:1.1324611902236938\n",
            "Epoch:268 ;   generator_loss:0.8145198822021484 ;   discriminator_loss:1.1531730890274048\n",
            "Epoch:269 ;   generator_loss:0.8333850502967834 ;   discriminator_loss:1.159278392791748\n",
            "Epoch:270 ;   generator_loss:0.8381685018539429 ;   discriminator_loss:1.1411664485931396\n",
            "Epoch:271 ;   generator_loss:0.8679602742195129 ;   discriminator_loss:1.1207082271575928\n",
            "Epoch:272 ;   generator_loss:0.8228685855865479 ;   discriminator_loss:1.14393150806427\n",
            "Epoch:273 ;   generator_loss:0.8590647578239441 ;   discriminator_loss:1.1385712623596191\n",
            "Epoch:274 ;   generator_loss:0.8621709942817688 ;   discriminator_loss:1.124950885772705\n",
            "Epoch:275 ;   generator_loss:0.8754864931106567 ;   discriminator_loss:1.112903356552124\n",
            "Epoch:276 ;   generator_loss:0.8432184457778931 ;   discriminator_loss:1.1431403160095215\n",
            "Epoch:277 ;   generator_loss:0.8581869602203369 ;   discriminator_loss:1.1308443546295166\n",
            "Epoch:278 ;   generator_loss:0.8229743242263794 ;   discriminator_loss:1.182126522064209\n",
            "Epoch:279 ;   generator_loss:0.8222091197967529 ;   discriminator_loss:1.1515932083129883\n",
            "Epoch:280 ;   generator_loss:0.7568253874778748 ;   discriminator_loss:1.2168246507644653\n",
            "Epoch:281 ;   generator_loss:0.7603126764297485 ;   discriminator_loss:1.220224380493164\n",
            "Epoch:282 ;   generator_loss:0.8136024475097656 ;   discriminator_loss:1.1739367246627808\n",
            "Epoch:283 ;   generator_loss:0.8074280023574829 ;   discriminator_loss:1.1709449291229248\n",
            "Epoch:284 ;   generator_loss:0.7485222816467285 ;   discriminator_loss:1.2359066009521484\n",
            "Epoch:285 ;   generator_loss:0.7865687608718872 ;   discriminator_loss:1.1926144361495972\n",
            "Epoch:286 ;   generator_loss:0.8240600228309631 ;   discriminator_loss:1.1428643465042114\n",
            "Epoch:287 ;   generator_loss:0.8074808120727539 ;   discriminator_loss:1.1759495735168457\n",
            "Epoch:288 ;   generator_loss:0.8198906183242798 ;   discriminator_loss:1.1457786560058594\n",
            "Epoch:289 ;   generator_loss:0.8321022391319275 ;   discriminator_loss:1.1389046907424927\n",
            "Epoch:290 ;   generator_loss:0.8121112585067749 ;   discriminator_loss:1.1546128988265991\n",
            "Epoch:291 ;   generator_loss:0.8252580165863037 ;   discriminator_loss:1.1467368602752686\n",
            "Epoch:292 ;   generator_loss:0.8391448259353638 ;   discriminator_loss:1.138413906097412\n",
            "Epoch:293 ;   generator_loss:0.8903578519821167 ;   discriminator_loss:1.094408631324768\n",
            "Epoch:294 ;   generator_loss:0.8782525062561035 ;   discriminator_loss:1.128743052482605\n",
            "Epoch:295 ;   generator_loss:0.8961696624755859 ;   discriminator_loss:1.0889866352081299\n",
            "Epoch:296 ;   generator_loss:0.9023099541664124 ;   discriminator_loss:1.088954210281372\n",
            "Epoch:297 ;   generator_loss:0.9215445518493652 ;   discriminator_loss:1.0664154291152954\n",
            "Epoch:298 ;   generator_loss:0.8741588592529297 ;   discriminator_loss:1.0935066938400269\n",
            "Epoch:299 ;   generator_loss:0.9037492871284485 ;   discriminator_loss:1.0692026615142822\n"
          ]
        }
      ]
    },
    {
      "cell_type": "code",
      "source": [
        "print(gen_loss_)\n",
        "print(disc_loss_)\n",
        "print(min(gen_loss_))\n",
        "print(min(disc_loss_))"
      ],
      "metadata": {
        "colab": {
          "base_uri": "https://localhost:8080/"
        },
        "id": "VLId-ZtLxSFI",
        "outputId": "510f57a1-9cb0-4645-a436-b051a9547e44"
      },
      "execution_count": 42,
      "outputs": [
        {
          "output_type": "stream",
          "name": "stdout",
          "text": [
            "[0.8293593, 0.7969458, 0.78381956, 0.8035079, 0.8659464, 0.8294378, 0.823576, 0.81071633, 0.8279823, 0.8632716, 0.85432875, 0.8133651, 0.8148216, 0.89764845, 0.8633225, 0.8282216, 0.87027, 0.82316995, 0.847383, 0.8503333, 0.7925199, 0.9027147, 0.8509983, 0.8768198, 0.8388182, 0.73854136, 0.8123195, 0.82781565, 0.8561348, 0.9178371, 0.8259758, 0.8427557, 0.8808702, 0.8204727, 0.808765, 0.77442014, 0.82604116, 0.8750915, 0.7954689, 0.8864566, 0.8587468, 0.8712487, 0.8800241, 0.8420025, 0.8986043, 0.8952093, 0.84551835, 0.8719251, 0.9441189, 0.89426106, 0.8705058, 0.9287518, 0.95165956, 0.8770853, 0.8974236, 0.9420369, 0.9247246, 0.94399405, 0.9605551, 0.95496976, 0.9303467, 0.93315995, 1.0285971, 0.9601959, 1.0191997, 1.0113277, 0.9694562, 0.9913728, 1.0238999, 1.0520544, 1.0259528, 1.0748327, 1.0502107, 1.0605464, 1.0771828, 1.0910902, 1.0978409, 1.0786386, 1.1143157, 1.1092186, 1.1136321, 1.093577, 1.1127217, 1.1182116, 1.0953174, 1.1254119, 1.088546, 1.0575289, 1.0911181, 1.0723658, 1.0178758, 0.96517587, 0.8385974, 0.7984098, 0.737074, 0.6363312, 0.59486336, 0.5286052, 0.5454176, 0.4652837, 0.4539982, 0.48338228, 0.46667525, 0.5086903, 0.48373926, 0.47671357, 0.46977055, 0.45269668, 0.45348716, 0.44981322, 0.44431674, 0.44756395, 0.4474722, 0.4483805, 0.45407283, 0.4588283, 0.4476923, 0.48228508, 0.44915912, 0.4632246, 0.4982918, 0.47761586, 0.47505683, 0.47583586, 0.483761, 0.51299846, 0.5111512, 0.5073068, 0.4922058, 0.4922245, 0.5156565, 0.52221453, 0.5195662, 0.4837394, 0.45094907, 0.47699994, 0.43197176, 0.481749, 0.44640672, 0.42567664, 0.42913777, 0.45183247, 0.45992285, 0.4411595, 0.4494874, 0.49024653, 0.46275365, 0.47094494, 0.4572428, 0.46653572, 0.46712607, 0.46155414, 0.45271167, 0.46968275, 0.45462376, 0.46926662, 0.45449197, 0.442896, 0.44745237, 0.44583243, 0.47220564, 0.45113456, 0.44298673, 0.43979797, 0.4426291, 0.44458216, 0.44798177, 0.43755007, 0.43910593, 0.4365242, 0.4392593, 0.44629988, 0.4438514, 0.42845362, 0.4554354, 0.44838357, 0.43771356, 0.45779976, 0.4646067, 0.44392282, 0.45867744, 0.47269177, 0.47451854, 0.4700097, 0.49420255, 0.4828716, 0.48099887, 0.4824564, 0.49790865, 0.49054897, 0.51396376, 0.51379055, 0.5217588, 0.541463, 0.541355, 0.5271101, 0.54739034, 0.52777827, 0.54707015, 0.5632676, 0.58071595, 0.5741254, 0.6030698, 0.6022779, 0.5825748, 0.6052798, 0.5976137, 0.6031745, 0.5911013, 0.5860847, 0.5902163, 0.59176743, 0.5686412, 0.55243003, 0.54507273, 0.5597056, 0.5523716, 0.53892183, 0.5579572, 0.57027876, 0.5648687, 0.5870601, 0.59811497, 0.6084103, 0.6242906, 0.64013183, 0.66143215, 0.6745312, 0.6919831, 0.70461416, 0.72334766, 0.7380708, 0.74902475, 0.7687648, 0.772787, 0.78450644, 0.80110264, 0.8016653, 0.8273495, 0.8327066, 0.828132, 0.8485122, 0.8682997, 0.8530681, 0.8454592, 0.8453233, 0.8650348, 0.8646045, 0.8615387, 0.8465009, 0.83570635, 0.8647301, 0.8377667, 0.8323678, 0.849892, 0.8344295, 0.85441595, 0.8534999, 0.87339425, 0.88249505, 0.86552775, 0.8813515, 0.8559248, 0.8793784, 0.866981, 0.8520485, 0.84260225, 0.8637567, 0.8145199, 0.83338505, 0.8381685, 0.8679603, 0.8228686, 0.85906476, 0.862171, 0.8754865, 0.84321845, 0.85818696, 0.8229743, 0.8222091, 0.7568254, 0.7603127, 0.81360245, 0.807428, 0.7485223, 0.78656876, 0.82406, 0.8074808, 0.8198906, 0.83210224, 0.81211126, 0.825258, 0.8391448, 0.89035785, 0.8782525, 0.89616966, 0.90230995, 0.92154455, 0.87415886, 0.9037493]\n",
            "[1.4733424, 1.5050166, 1.4878317, 1.4781677, 1.412127, 1.4226863, 1.4215485, 1.4325707, 1.4196256, 1.3771782, 1.4012581, 1.4159381, 1.4024333, 1.3268566, 1.3636904, 1.3856227, 1.345689, 1.3825245, 1.3610883, 1.3226094, 1.3816231, 1.2988749, 1.334089, 1.315188, 1.3282118, 1.4235915, 1.366226, 1.3406057, 1.2865345, 1.2354571, 1.3198081, 1.2909586, 1.2467128, 1.2890382, 1.2957255, 1.3362911, 1.28797, 1.2462173, 1.311703, 1.2057344, 1.2479959, 1.2167113, 1.220808, 1.2375066, 1.1954626, 1.1771855, 1.2114462, 1.2014246, 1.1304188, 1.1730746, 1.17259, 1.1342287, 1.0996101, 1.1664165, 1.1547128, 1.1193064, 1.1289942, 1.0883868, 1.0871243, 1.0823679, 1.1029817, 1.0890069, 1.030052, 1.0637066, 1.0419877, 1.0380355, 1.0679096, 1.0449345, 1.0226765, 0.9999613, 1.0038441, 0.98876715, 0.9978107, 0.9699781, 0.9747868, 0.9604366, 0.94578964, 0.95208436, 0.92461073, 0.924834, 0.93330765, 0.94111305, 0.9294563, 0.92500645, 0.9366922, 0.91430795, 0.92360073, 0.94350886, 0.92321396, 0.9356412, 0.9692454, 0.9900366, 1.0806968, 1.112145, 1.1690583, 1.2611452, 1.3104767, 1.398515, 1.3859632, 1.484412, 1.4991715, 1.4615953, 1.4828172, 1.4309297, 1.4491584, 1.4460517, 1.4744925, 1.4897637, 1.4925659, 1.4938431, 1.4953752, 1.4880261, 1.4918766, 1.4915485, 1.4777766, 1.4697948, 1.483624, 1.43665, 1.4841807, 1.4665996, 1.414212, 1.448854, 1.445114, 1.4464681, 1.4343401, 1.3968308, 1.402905, 1.4107387, 1.4445622, 1.4411812, 1.420039, 1.4168794, 1.4151934, 1.4629192, 1.5224235, 1.4841912, 1.5570178, 1.4835804, 1.5283242, 1.564616, 1.5609086, 1.5163064, 1.51229, 1.534594, 1.5250647, 1.4557667, 1.4935675, 1.4755433, 1.5001347, 1.4866939, 1.4834731, 1.4879109, 1.4890535, 1.4711988, 1.4940327, 1.4648764, 1.4931421, 1.5160967, 1.5077748, 1.5119467, 1.4682045, 1.5022607, 1.5160468, 1.5228505, 1.5189161, 1.5165899, 1.5100589, 1.5307778, 1.5286171, 1.5337361, 1.5314072, 1.5110862, 1.526302, 1.5543884, 1.5092363, 1.5149505, 1.5432255, 1.5099593, 1.4920766, 1.5296221, 1.5150404, 1.4934406, 1.4917191, 1.5000011, 1.4544889, 1.4826247, 1.4891962, 1.48915, 1.4640195, 1.4770186, 1.4439838, 1.4445456, 1.4356343, 1.4096409, 1.4092901, 1.4245327, 1.408761, 1.4349849, 1.4052603, 1.3871243, 1.3671913, 1.3735448, 1.3380558, 1.3443899, 1.3733416, 1.3373063, 1.3531032, 1.3329597, 1.3512934, 1.3689691, 1.3671725, 1.358213, 1.380421, 1.4172587, 1.4263812, 1.407557, 1.4188653, 1.4285898, 1.4105095, 1.3888385, 1.4096372, 1.378493, 1.3652254, 1.3602967, 1.3380369, 1.3304046, 1.2965125, 1.2887844, 1.2697816, 1.2555977, 1.2484767, 1.2450197, 1.2177801, 1.1938055, 1.2023137, 1.2001379, 1.18684, 1.190985, 1.160342, 1.1552087, 1.1604135, 1.1442192, 1.1351568, 1.132549, 1.1553869, 1.1445335, 1.1436884, 1.1501808, 1.1430296, 1.1457512, 1.1754702, 1.1316748, 1.144952, 1.1557097, 1.1481831, 1.1580627, 1.1404454, 1.1426265, 1.1274936, 1.113338, 1.1133728, 1.125185, 1.124378, 1.0999734, 1.1215153, 1.1301883, 1.1439794, 1.1324612, 1.1531731, 1.1592784, 1.1411664, 1.1207082, 1.1439315, 1.1385713, 1.1249509, 1.1129034, 1.1431403, 1.1308444, 1.1821265, 1.1515932, 1.2168247, 1.2202244, 1.1739367, 1.1709449, 1.2359066, 1.1926144, 1.1428643, 1.1759496, 1.1457787, 1.1389047, 1.1546129, 1.1467369, 1.1384139, 1.0944086, 1.128743, 1.0889866, 1.0889542, 1.0664154, 1.0935067, 1.0692027]\n",
            "0.42567664\n",
            "0.91430795\n"
          ]
        }
      ]
    },
    {
      "cell_type": "code",
      "source": [
        "import matplotlib.pyplot as plt\n",
        "import matplotlib.gridspec as gridspec\n",
        "\n",
        "def plot_loss(gen_loss,disc_loss,epochs):\n",
        "  fig = plt.figure(figsize=(16,9))\n",
        "  gs = gridspec.GridSpec(ncols=8, nrows=8, figure=fig)\n",
        "  epoch = epochs[-1]\n",
        "  # plot loss curve\n",
        "  ax_loss = plt.subplot(gs[:,:4])\n",
        "  ax_loss.set_xlim(0, 1.1*epoch)\n",
        "  ax_loss.plot(epochs, gen_loss, label=\"Generator\")\n",
        "  ax_loss.plot(epochs, disc_loss, label=\"Discriminator\")\n",
        "  ax_loss.set_xlabel('Epoch', fontsize=20)\n",
        "  ax_loss.set_ylabel('Loss', fontsize=20)\n",
        "  ax_loss.grid(True)\n",
        "  ax_loss.legend(fontsize=15)\n"
      ],
      "metadata": {
        "id": "hnKvZeZ_s7Dk"
      },
      "execution_count": 43,
      "outputs": []
    },
    {
      "cell_type": "code",
      "source": [
        "plot_loss(gen_loss_,disc_loss_,epochs_)"
      ],
      "metadata": {
        "colab": {
          "base_uri": "https://localhost:8080/",
          "height": 560
        },
        "id": "smG0rva_vInv",
        "outputId": "c455d2ef-84ce-4535-f39d-fe5e9c7d25d8"
      },
      "execution_count": 44,
      "outputs": [
        {
          "output_type": "display_data",
          "data": {
            "text/plain": [
              "<Figure size 1152x648 with 1 Axes>"
            ],
            "image/png": "[encoded data removed]"
          },
          "metadata": {
            "needs_background": "light"
          }
        }
      ]
    },
    {
      "cell_type": "code",
      "source": [
        "input_batch_shape = (5, 20) + (5,)\n",
        "data = prepare_dataset(X_train_1,batch_size=20,seed=1024)\n",
        "# print(tf.shape(data))\n",
        "# data = tf.reshape(data,input_batch_shape)\n",
        "print(input_batch_shape)"
      ],
      "metadata": {
        "id": "vBLQgy4b7Oed",
        "colab": {
          "base_uri": "https://localhost:8080/"
        },
        "outputId": "522baa92-be11-4df2-f456-69f0e874d4fc"
      },
      "execution_count": 45,
      "outputs": [
        {
          "output_type": "stream",
          "name": "stdout",
          "text": [
            "(5, 20, 5)\n"
          ]
        }
      ]
    },
    {
      "cell_type": "code",
      "source": [
        "# print(X_train_1.shape[1:])\n",
        "# print()"
      ],
      "metadata": {
        "id": "15Lfa_6Sh4QY"
      },
      "execution_count": null,
      "outputs": []
    },
    {
      "cell_type": "code",
      "source": [
        "# batch_size = 50\n",
        "# z_batch_shape = (batch_size,) + generator_model.input_shape[1:]\n",
        "# z_batch_shape = generator_model.input_shape[1:]\n",
        "# z = tf.random.normal(z_batch_shape)\n",
        "# print(z.numpy())"
      ],
      "metadata": {
        "id": "dg-67O90G_7w"
      },
      "execution_count": null,
      "outputs": []
    },
    {
      "cell_type": "code",
      "source": [
        "def generate_samples( batch_size, shape=None):\n",
        "\n",
        "  \"\"\"Generates sample using random inputs\n",
        "        \n",
        "            Arguments:\n",
        "                batch_size: int\n",
        "                    Number of samples to generate.\n",
        "                shape: (Optional) tuple of int\n",
        "                    Reshape the output to the given shape.\n",
        "        \"\"\"\n",
        "  z_batch_shape = (batch_size,) + generator_model.input_shape[1:]\n",
        "  z = tf.random.normal(z_batch_shape)\n",
        "  print(z.shape[0])\n",
        "  samples = generator_model(z,training = False)\n",
        "  # samples = generator_model\n",
        "  # if shape is not None:\n",
        "  #   shape = (batch_size,) + shape\n",
        "  #   samples = tf.reshape(samples, shape)\n",
        "  return samples\n",
        "\n",
        "# generate_samples(batch_size=10)"
      ],
      "metadata": {
        "id": "T1ZAtKzJIAvK"
      },
      "execution_count": 46,
      "outputs": []
    },
    {
      "cell_type": "code",
      "source": [
        "# samples = generate_samples(batch_size=50,shape=(5,)).numpy()\n",
        "samples = np.array(generate_samples(batch_size=50,shape=(5,)))\n",
        "make_plots([X_train_1, samples], ['true signal', 'fake signal'])\n",
        "# print(type(samples))\n",
        "print(samples.shape)"
      ],
      "metadata": {
        "id": "HPLwgrzPW08K",
        "colab": {
          "base_uri": "https://localhost:8080/",
          "height": 671
        },
        "outputId": "3b704fa1-afc5-492d-9022-592085cefb86"
      },
      "execution_count": 47,
      "outputs": [
        {
          "output_type": "stream",
          "name": "stdout",
          "text": [
            "50\n"
          ]
        },
        {
          "output_type": "display_data",
          "data": {
            "text/plain": [
              "<Figure size 1440x720 with 5 Axes>"
            ],
            "image/png": "[encoded data removed]"
          },
          "metadata": {
            "needs_background": "light"
          }
        },
        {
          "output_type": "stream",
          "name": "stdout",
          "text": [
            "(50, 5)\n"
          ]
        }
      ]
    },
    {
      "cell_type": "code",
      "source": [
        "def predict_gans(x):\n",
        "  return discriminator_model(x,training=False)\n",
        "\n",
        "# predict_gans(X_train_0[40:,])"
      ],
      "metadata": {
        "id": "W7_hBUA1TPez"
      },
      "execution_count": 48,
      "outputs": []
    },
    {
      "cell_type": "code",
      "source": [
        "def plot_roc_curve(fpr_list,tpr_list,name='QGANS',title='ROC Curve', with_auc=True,labels=''):\n",
        "  n = len(fpr_list)\n",
        "  if labels =='':\n",
        "    labels = ['']*n\n",
        "\n",
        "  plt.clf()\n",
        "  plt.rcParams[\"font.weight\"] = \"bold\"\n",
        "  plt.xlabel(\"Signal Efficiency\", fontsize=18,fontweight='bold')\n",
        "  plt.ylabel(\"Background Rejection\", fontsize=18,fontweight='bold')\n",
        "  plt.title(title, fontsize=16,fontweight='bold')\n",
        "  plt.xlim(0.0, 1.0)\n",
        "  plt.ylim(0.0, 1.0)\n",
        "  plt.grid(color='gray', linestyle='--', linewidth=1)  \n",
        "  for fpr,tpr,label in zip(fpr_list, tpr_list, labels):\n",
        "    if with_auc:\n",
        "      roc_auc = auc(fpr, tpr)\n",
        "      label += ', AUC={:.4f}'.format(roc_auc)\n",
        "    plt.plot(tpr,1-fpr, linestyle='-',label=label,linewidth=2)\n",
        "  plt.plot([0, 1], [1, 0], linestyle='--', color='black', label=' AUC= 0.5')\n",
        "  plt.legend(loc='best',prop={'size': 8})    \n",
        "  return plt  \n"
      ],
      "metadata": {
        "id": "9AORdxYn6xzp"
      },
      "execution_count": 49,
      "outputs": []
    },
    {
      "cell_type": "code",
      "source": [
        "from sklearn.metrics import roc_curve, auc, roc_auc_score\n",
        "def test_gans( x, y, plot=True):\n",
        "  score = predict_gans(x)\n",
        "  fpr, tpr, thresholds = roc_curve(y, score)\n",
        "  roc_auc = auc(fpr, tpr)\n",
        "  print(\"AUC = \",roc_auc)\n",
        "  if plot:\n",
        "    return plot_roc_curve(fpr_list=[fpr],tpr_list=[tpr], name='QGAN_with_DataReuploading')\n",
        "  else:\n",
        "    return roc_auc"
      ],
      "metadata": {
        "id": "EQHiG77G4Xxe"
      },
      "execution_count": 50,
      "outputs": []
    },
    {
      "cell_type": "code",
      "source": [
        "test_gans(X_test,y_test)"
      ],
      "metadata": {
        "colab": {
          "base_uri": "https://localhost:8080/",
          "height": 341
        },
        "id": "gYKz5ePL5EfH",
        "outputId": "bea39439-ce69-4ca6-c35d-c9960b4fb926"
      },
      "execution_count": 51,
      "outputs": [
        {
          "output_type": "stream",
          "name": "stdout",
          "text": [
            "AUC =  0.5232000000000001\n"
          ]
        },
        {
          "output_type": "execute_result",
          "data": {
            "text/plain": [
              "<module 'matplotlib.pyplot' from '/usr/local/lib/python3.7/dist-packages/matplotlib/pyplot.py'>"
            ]
          },
          "metadata": {},
          "execution_count": 51
        },
        {
          "output_type": "display_data",
          "data": {
            "text/plain": [
              "<Figure size 432x288 with 1 Axes>"
            ],
            "image/png": "[encoded data removed]"
          },
          "metadata": {
            "needs_background": "light"
          }
        }
      ]
    },
    {
      "cell_type": "code",
      "source": [
        "# H = discriminator_model.trainable_variables\n",
        "# H_ = discriminator_model.weights\n",
        "\n",
        "# print(H)\n",
        "# print(H_)"
      ],
      "metadata": {
        "id": "fUkQEIoylnuH"
      },
      "execution_count": null,
      "outputs": []
    },
    {
      "cell_type": "code",
      "source": [
        ""
      ],
      "metadata": {
        "id": "48fKdOwN1I1O"
      },
      "execution_count": null,
      "outputs": []
    }
  ]
}