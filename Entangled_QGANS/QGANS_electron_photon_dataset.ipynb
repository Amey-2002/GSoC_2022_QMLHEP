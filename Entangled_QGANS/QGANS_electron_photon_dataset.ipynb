{
  "cells": [
    {
      "cell_type": "code",
      "execution_count": null,
      "metadata": {
        "id": "onZo0u7wkF-6"
      },
      "outputs": [],
      "source": [
        "from IPython.display import clear_output\n",
        "!pip install tensorflow==2.7.0\n",
        "clear_output()"
      ]
    },
    {
      "cell_type": "code",
      "execution_count": null,
      "metadata": {
        "id": "gJoxJG02kLDK"
      },
      "outputs": [],
      "source": [
        "from IPython.display import clear_output\n",
        "!pip install tensorflow-quantum==0.6.0 --use-deprecated=legacy-resolver\n",
        "clear_output()"
      ]
    },
    {
      "cell_type": "code",
      "execution_count": null,
      "metadata": {
        "id": "ENzdhA-Bc8vd"
      },
      "outputs": [],
      "source": [
        "from IPython.display import clear_output\n",
        "!pip install pennylane\n",
        "clear_output()"
      ]
    },
    {
      "cell_type": "code",
      "execution_count": null,
      "metadata": {
        "id": "2j4O8MtikR4W"
      },
      "outputs": [],
      "source": [
        "import numpy as np \n",
        "import sympy as sp\n",
        "import pandas as pd\n",
        "import tensorflow as tf\n",
        "import tensorflow_quantum as tfq\n",
        "import cirq\n",
        "import pennylane as qml\n",
        "from cirq.contrib.svg import SVGCircuit\n",
        "from keras.applications.inception_v3 import InceptionV3, preprocess_input\n",
        "from skimage.transform import resize\n",
        "from numpy import asarray\n",
        "from numpy import cov\n",
        "from numpy import trace\n",
        "from numpy import iscomplexobj\n",
        "from scipy.linalg import sqrtm\n",
        "\n",
        "from h5py import File as HDF5File\n",
        "%matplotlib inline\n",
        "import matplotlib.pyplot as plt\n",
        "\n",
        "import keras.backend as K\n",
        "# tf.config.run_functions_eagerly(True)"
      ]
    },
    {
      "cell_type": "code",
      "execution_count": null,
      "metadata": {
        "id": "Px6jNzbG6_LU"
      },
      "outputs": [],
      "source": [
        "# tpu = tf.distribute.cluster_resolver.TPUClusterResolver()  # TPU detection\n",
        "# print('Running on TPU ', tpu.cluster_spec().as_dict()['worker'])"
      ]
    },
    {
      "cell_type": "code",
      "execution_count": null,
      "metadata": {
        "id": "g--S8doB7VQN"
      },
      "outputs": [],
      "source": [
        "# tf.config.experimental_connect_to_cluster(tpu)\n",
        "# tf.tpu.experimental.initialize_tpu_system(tpu)\n",
        "# tpu_strategy = tf.distribute.TPUStrategy(tpu)"
      ]
    },
    {
      "cell_type": "code",
      "execution_count": null,
      "metadata": {
        "colab": {
          "base_uri": "https://localhost:8080/"
        },
        "id": "A1qtj_KNkapm",
        "outputId": "e01d44c0-9a35-4b73-d4fe-87f64fc0a265"
      },
      "outputs": [
        {
          "output_type": "stream",
          "name": "stdout",
          "text": [
            "Mounted at /content/gdrive/\n"
          ]
        }
      ],
      "source": [
        "from google.colab import drive\n",
        "\n",
        "drive.mount('/content/gdrive/', force_remount=True)"
      ]
    },
    {
      "cell_type": "code",
      "execution_count": null,
      "metadata": {
        "id": "BTq_CtOfkkX6"
      },
      "outputs": [],
      "source": [
        "electron_datafile = '/content/gdrive/MyDrive//electron.hdf5'\n",
        "photon_datafile = '/content/gdrive/MyDrive//photon.hdf5'"
      ]
    },
    {
      "cell_type": "code",
      "execution_count": null,
      "metadata": {
        "id": "57so8vJBlE-b"
      },
      "outputs": [],
      "source": [
        "electron_data = HDF5File(electron_datafile, 'r')\n",
        "photon_data = HDF5File(photon_datafile, 'r')"
      ]
    },
    {
      "cell_type": "code",
      "execution_count": null,
      "metadata": {
        "colab": {
          "base_uri": "https://localhost:8080/"
        },
        "id": "vgD9n2QHlV01",
        "outputId": "7c4b94cf-ef96-4bcb-80ce-7832302d9312"
      },
      "outputs": [
        {
          "output_type": "stream",
          "name": "stdout",
          "text": [
            "<KeysViewHDF5 ['X', 'y']>\n"
          ]
        }
      ],
      "source": [
        "print(electron_data.keys())"
      ]
    },
    {
      "cell_type": "code",
      "execution_count": null,
      "metadata": {
        "colab": {
          "base_uri": "https://localhost:8080/"
        },
        "id": "462hdoHrmNJh",
        "outputId": "cdaa0aee-da06-4c60-fb7f-82091e67bc71"
      },
      "outputs": [
        {
          "output_type": "stream",
          "name": "stdout",
          "text": [
            "(249000, 32, 32)\n",
            "(249000,)\n"
          ]
        }
      ],
      "source": [
        "X_e, y_e = electron_data['X'], electron_data['y']\n",
        "X_e_0 = X_e[:,:,:,0]\n",
        "X_e_1 = X_e[:,:,:,1]\n",
        "print(X_e_0.shape)\n",
        "print(y_e.shape)"
      ]
    },
    {
      "cell_type": "code",
      "execution_count": null,
      "metadata": {
        "colab": {
          "base_uri": "https://localhost:8080/",
          "height": 284
        },
        "id": "Z21Ue4Vvmc-9",
        "outputId": "ee28dca4-ce2d-4a98-9e0d-87bccaef4643"
      },
      "outputs": [
        {
          "data": {
            "text/plain": [
              "<matplotlib.image.AxesImage at 0x7fa759beb790>"
            ]
          },
          "execution_count": 8,
          "metadata": {},
          "output_type": "execute_result"
        },
        {
          "data": {
            "image/png": "[encoded data removed]",
            "text/plain": [
              "<Figure size 432x288 with 1 Axes>"
            ]
          },
          "metadata": {},
          "output_type": "display_data"
        }
      ],
      "source": [
        "plt.imshow(X_e_0[0,:,:])"
      ]
    },
    {
      "cell_type": "code",
      "execution_count": null,
      "metadata": {
        "colab": {
          "base_uri": "https://localhost:8080/",
          "height": 284
        },
        "id": "TQKc2HQ0morP",
        "outputId": "127f7038-0db6-4708-87c5-804f354a4662"
      },
      "outputs": [
        {
          "data": {
            "text/plain": [
              "<matplotlib.image.AxesImage at 0x7fa752edb950>"
            ]
          },
          "execution_count": 9,
          "metadata": {},
          "output_type": "execute_result"
        },
        {
          "data": {
            "image/png": "[encoded data removed]",
            "text/plain": [
              "<Figure size 432x288 with 1 Axes>"
            ]
          },
          "metadata": {},
          "output_type": "display_data"
        }
      ],
      "source": [
        "plt.imshow(X_e_1[0,:,:])"
      ]
    },
    {
      "cell_type": "code",
      "execution_count": null,
      "metadata": {
        "colab": {
          "base_uri": "https://localhost:8080/"
        },
        "id": "D9_V5Mr-mtjw",
        "outputId": "9816711b-db17-4956-a700-f18da3da70c2"
      },
      "outputs": [
        {
          "output_type": "stream",
          "name": "stdout",
          "text": [
            "(249000, 32, 32)\n",
            "(249000,)\n"
          ]
        }
      ],
      "source": [
        "X_p, y_p = photon_data['X'], photon_data['y']\n",
        "X_p_0 = X_p[:,:,:,0]\n",
        "X_p_1 = X_p[:,:,:,1]\n",
        "print(X_p_0.shape)\n",
        "print(y_p.shape)"
      ]
    },
    {
      "cell_type": "code",
      "execution_count": null,
      "metadata": {
        "colab": {
          "base_uri": "https://localhost:8080/",
          "height": 284
        },
        "id": "KVUleGapm8yz",
        "outputId": "c4954622-957b-4c92-d1a9-04619bdcd6b3"
      },
      "outputs": [
        {
          "data": {
            "text/plain": [
              "<matplotlib.image.AxesImage at 0x7fa752e5d490>"
            ]
          },
          "execution_count": 11,
          "metadata": {},
          "output_type": "execute_result"
        },
        {
          "data": {
            "image/png": "[encoded data removed]",
            "text/plain": [
              "<Figure size 432x288 with 1 Axes>"
            ]
          },
          "metadata": {},
          "output_type": "display_data"
        }
      ],
      "source": [
        "plt.imshow(X_p_0[0,:,:])"
      ]
    },
    {
      "cell_type": "code",
      "execution_count": null,
      "metadata": {
        "colab": {
          "base_uri": "https://localhost:8080/",
          "height": 284
        },
        "id": "XrvkHuL8nMmf",
        "outputId": "b550f109-8174-461e-dcc5-7565fa03b908"
      },
      "outputs": [
        {
          "data": {
            "text/plain": [
              "<matplotlib.image.AxesImage at 0x7fa752dcb850>"
            ]
          },
          "execution_count": 12,
          "metadata": {},
          "output_type": "execute_result"
        },
        {
          "data": {
            "image/png": "[encoded data removed]",
            "text/plain": [
              "<Figure size 432x288 with 1 Axes>"
            ]
          },
          "metadata": {},
          "output_type": "display_data"
        }
      ],
      "source": [
        "plt.imshow(X_p_1[0,:,:])"
      ]
    },
    {
      "cell_type": "code",
      "execution_count": null,
      "metadata": {
        "id": "ASdkh_CkN_1j"
      },
      "outputs": [],
      "source": [
        "import operator\n",
        "\n",
        "def crop_images(image,dimension):\n",
        "  start = tuple(map(lambda a, da: a//2-da//2, image.shape, dimension))\n",
        "  end = tuple(map(operator.add, start, dimension))\n",
        "  slices = tuple(map(slice, start, end))\n",
        "  return image[slices]\n",
        "      "
      ]
    },
    {
      "cell_type": "code",
      "execution_count": null,
      "metadata": {
        "colab": {
          "base_uri": "https://localhost:8080/"
        },
        "id": "awsKo_jjONT_",
        "outputId": "da3e7769-f52c-419b-9126-7798de4221b4"
      },
      "outputs": [
        {
          "output_type": "stream",
          "name": "stdout",
          "text": [
            "(100, 8, 8) (100, 8, 8)\n"
          ]
        }
      ],
      "source": [
        "center = [int(528/32), 528%32]\n",
        "\n",
        "img_size = 8\n",
        "X_e_0 = X_e_0[:100, (center[0]-int(img_size/2)):(center[0]+int(img_size/2)), (center[1]-int(img_size/2)):(center[1]+int(img_size/2))]\n",
        "X_p_0 = X_p_0[:100, (center[0]-int(img_size/2)):(center[0]+int(img_size/2)), (center[1]-int(img_size/2)):(center[1]+int(img_size/2))]\n",
        "\n",
        "print(X_e_0.shape,X_p_0.shape)\n",
        "# slices = crop_images(X_e[25000,:,:,0],(16,16))\n",
        "# plt.imshow(crop_images(X_e[25000,:,:,0],(16,16)))"
      ]
    },
    {
      "cell_type": "code",
      "execution_count": null,
      "metadata": {
        "colab": {
          "base_uri": "https://localhost:8080/",
          "height": 283
        },
        "id": "kP8ox01uwVat",
        "outputId": "8de31229-a483-40d0-c311-1e7aa52bf0b3"
      },
      "outputs": [
        {
          "data": {
            "text/plain": [
              "<matplotlib.image.AxesImage at 0x7fdf3b1d4410>"
            ]
          },
          "execution_count": 14,
          "metadata": {},
          "output_type": "execute_result"
        },
        {
          "data": {
            "image/png": "[encoded data removed]",
            "text/plain": [
              "<Figure size 432x288 with 1 Axes>"
            ]
          },
          "metadata": {},
          "output_type": "display_data"
        }
      ],
      "source": [
        "plt.imshow(X_e_0[0])"
      ]
    },
    {
      "cell_type": "code",
      "execution_count": null,
      "metadata": {
        "id": "sUuGb6kcbKjJ"
      },
      "outputs": [],
      "source": [
        "from sklearn.decomposition import PCA\n",
        "\n",
        "X_flatten = X_e_0.reshape(-1,X_e_0.shape[1]*X_e_0.shape[2])\n",
        "pca = PCA(n_components=4)\n",
        "pca.fit(X_flatten)\n",
        "X_pca_transform = pca.transform(X_flatten)\n",
        "print(X_pca_transform.shape)\n",
        "# X_pca_transform[1].reshape((20,20))\n",
        "print(np.cumsum(pca.explained_variance_ratio_))"
      ]
    },
    {
      "cell_type": "code",
      "execution_count": null,
      "metadata": {
        "colab": {
          "base_uri": "https://localhost:8080/",
          "height": 283
        },
        "id": "2djuGTITWMZf",
        "outputId": "dc23b0c0-0858-4d42-f687-d1e3bc7bffdd"
      },
      "outputs": [
        {
          "data": {
            "text/plain": [
              "<matplotlib.image.AxesImage at 0x7fdf3b14a590>"
            ]
          },
          "execution_count": 15,
          "metadata": {},
          "output_type": "execute_result"
        },
        {
          "data": {
            "image/png": "[encoded data removed]",
            "text/plain": [
              "<Figure size 432x288 with 1 Axes>"
            ]
          },
          "metadata": {},
          "output_type": "display_data"
        }
      ],
      "source": [
        "z_shape = (16,16)\n",
        "z = tf.random.normal(z_shape)\n",
        "z = z.numpy()\n",
        "plt.imshow(z)"
      ]
    },
    {
      "cell_type": "code",
      "execution_count": null,
      "metadata": {
        "id": "BBVJC0dm50em"
      },
      "outputs": [],
      "source": [
        "def one_proj(a):\n",
        "    return 0.5 * (1 - cirq.Z(a))"
      ]
    },
    {
      "cell_type": "code",
      "execution_count": null,
      "metadata": {
        "colab": {
          "base_uri": "https://localhost:8080/"
        },
        "id": "UK6TPy0tnVd-",
        "outputId": "be9d7c6e-2444-459d-e40c-80f98f293632"
      },
      "outputs": [
        {
          "name": "stdout",
          "output_type": "stream",
          "text": [
            "5\n",
            "0b101\n",
            "20\n",
            "0b10100\n"
          ]
        }
      ],
      "source": [
        "l = 5\n",
        "print(l)\n",
        "print(bin(l))\n",
        "m = 5 << 2\n",
        "print(m)\n",
        "print(bin(m))"
      ]
    },
    {
      "cell_type": "code",
      "execution_count": null,
      "metadata": {
        "colab": {
          "base_uri": "https://localhost:8080/"
        },
        "id": "QcFp2ckm80P2",
        "outputId": "05d9a594-d36e-4bef-e282-e1bb17a96092"
      },
      "outputs": [
        {
          "name": "stdout",
          "output_type": "stream",
          "text": [
            "-0.500*Z(q(1, 1))+0.500*I\n",
            "0.500*I-0.500*Z(q(1, 1))\n"
          ]
        }
      ],
      "source": [
        "qubit1 = cirq.GridQubit(1,1)\n",
        "qubit2 = cirq.GridQubit(1,1)\n",
        "k = one_proj(qubit1) * one_proj(qubit2)\n",
        "print(one_proj(qubit1))\n",
        "print(k)"
      ]
    },
    {
      "cell_type": "code",
      "execution_count": null,
      "metadata": {
        "colab": {
          "base_uri": "https://localhost:8080/"
        },
        "id": "f3p5Otdo9N0I",
        "outputId": "06961659-1787-4d44-a403-315b0f71092a"
      },
      "outputs": [
        {
          "name": "stdout",
          "output_type": "stream",
          "text": [
            "[[-1.0119802e-03  1.9063383e-01 -1.6093738e+00 -1.0551535e+00\n",
            "   4.9614340e-01]\n",
            " [ 7.8770453e-01 -4.6049950e-01 -3.8391042e-01  1.6465148e-01\n",
            "  -1.4932785e+00]\n",
            " [-1.1492304e+00 -2.0368380e-02  9.2384130e-01 -6.1044919e-01\n",
            "  -1.3990656e-01]\n",
            " [ 2.0169294e+00  5.4266024e-01 -1.6061226e+00 -1.8086742e+00\n",
            "   1.2880011e+00]\n",
            " [-1.4543334e+00  1.3902817e+00 -1.2583441e+00  5.3861130e-02\n",
            "  -1.7481257e+00]]\n"
          ]
        }
      ],
      "source": [
        "z_shape = (5,5)\n",
        "z = tf.random.normal(z_shape)\n",
        "print(z.numpy())"
      ]
    },
    {
      "cell_type": "markdown",
      "metadata": {
        "id": "0dsefmv_W5tb"
      },
      "source": [
        "# Circuits"
      ]
    },
    {
      "cell_type": "code",
      "execution_count": null,
      "metadata": {
        "colab": {
          "base_uri": "https://localhost:8080/",
          "height": 36
        },
        "id": "QxK2GlqFdNcC",
        "outputId": "a864f020-dfee-4163-c1e1-1314b07c490f"
      },
      "outputs": [
        {
          "data": {
            "application/vnd.google.colaboratory.intrinsic+json": {
              "type": "string"
            },
            "text/plain": [
              "'/device:GPU:0'"
            ]
          },
          "execution_count": 23,
          "metadata": {},
          "output_type": "execute_result"
        }
      ],
      "source": [
        "tf.test.gpu_device_name()"
      ]
    },
    {
      "cell_type": "code",
      "execution_count": null,
      "metadata": {
        "id": "r0lSHLXmTapS"
      },
      "outputs": [],
      "source": [
        "def one_qubit_unitary(qubit, symbols):\n",
        "  return cirq.Circuit(\n",
        "    [cirq.rz(symbols[0])(qubit),\n",
        "      cirq.ry(symbols[1])(qubit),\n",
        "      cirq.rz(symbols[2])(qubit)]\n",
        "  )"
      ]
    },
    {
      "cell_type": "code",
      "execution_count": null,
      "metadata": {
        "id": "1R8lZgBtX4sA"
      },
      "outputs": [],
      "source": [
        "def two_qubit_unitary(qubits):\n",
        "  cx_ops = [cirq.CX(q0, q1) for q0, q1 in zip(qubits, qubits[1:])]\n",
        "  cx_ops += ([cirq.CX(qubits[-1], qubits[0])] if len(qubits) != 2 else [])\n",
        "  return cx_ops"
      ]
    },
    {
      "cell_type": "code",
      "execution_count": null,
      "metadata": {
        "id": "3QOXlA62ZXAf"
      },
      "outputs": [],
      "source": [
        "def pqc_circuit_for_conv(qubits,layers):\n",
        "  circuit = cirq.Circuit()\n",
        "  num_qubits = len(qubits)\n",
        "  input_symbols = sp.symbols('x_:'+str(num_qubits))\n",
        "  param_symbols = sp.symbols('theta_:'+str(3*num_qubits*layers))\n",
        "  param_symbols = np.reshape(param_symbols,(layers,num_qubits,3))\n",
        "  for i in range(num_qubits):\n",
        "    circuit += cirq.ry(input_symbols[i])(qubits[i])\n",
        "  \n",
        "  for layer in range(layers):\n",
        "    for i,q in enumerate(qubits):\n",
        "      circuit += one_qubit_unitary(q,param_symbols[layer,i,:])\n",
        "    circuit += two_qubit_unitary(qubits)\n",
        "  \n",
        "  return circuit,input_symbols,list(param_symbols.flat)"
      ]
    },
    {
      "cell_type": "code",
      "execution_count": null,
      "metadata": {
        "colab": {
          "base_uri": "https://localhost:8080/",
          "height": 259
        },
        "id": "LlqJxArYac8m",
        "outputId": "81861cc4-6ea6-446f-bdad-bcd4cdc4718b"
      },
      "outputs": [
        {
          "output_type": "stream",
          "name": "stderr",
          "text": [
            "WARNING:matplotlib.font_manager:findfont: Font family ['Arial'] not found. Falling back to DejaVu Sans.\n"
          ]
        },
        {
          "output_type": "execute_result",
          "data": {
            "text/plain": [
              "<cirq.contrib.svg.svg.SVGCircuit at 0x7fefa0d0c790>"
            ],
            "image/svg+xml": "<svg xmlns=\"http://www.w3.org/2000/svg\" width=\"3156.3230859375008\" height=\"200.0\"><line x1=\"34.7588671875\" x2=\"3126.3230859375008\" y1=\"25.0\" y2=\"25.0\" stroke=\"#1967d2\" stroke-width=\"1\" /><line x1=\"34.7588671875\" x2=\"3126.3230859375008\" y1=\"75.0\" y2=\"75.0\" stroke=\"#1967d2\" stroke-width=\"1\" /><line x1=\"34.7588671875\" x2=\"3126.3230859375008\" y1=\"125.0\" y2=\"125.0\" stroke=\"#1967d2\" stroke-width=\"1\" /><line x1=\"34.7588671875\" x2=\"3126.3230859375008\" y1=\"175.0\" y2=\"175.0\" stroke=\"#1967d2\" stroke-width=\"1\" /><line x1=\"854.06779296875\" x2=\"854.06779296875\" y1=\"25.0\" y2=\"75.0\" stroke=\"black\" stroke-width=\"3\" /><line x1=\"1179.35802734375\" x2=\"1179.35802734375\" y1=\"75.0\" y2=\"125.0\" stroke=\"black\" stroke-width=\"3\" /><line x1=\"1498.2754296875003\" x2=\"1498.2754296875003\" y1=\"125.0\" y2=\"175.0\" stroke=\"black\" stroke-width=\"3\" /><line x1=\"1558.2754296875003\" x2=\"1558.2754296875003\" y1=\"25.0\" y2=\"175.0\" stroke=\"black\" stroke-width=\"3\" /><line x1=\"2350.94015625\" x2=\"2350.94015625\" y1=\"25.0\" y2=\"75.0\" stroke=\"black\" stroke-width=\"3\" /><line x1=\"2702.9520703125004\" x2=\"2702.9520703125004\" y1=\"75.0\" y2=\"125.0\" stroke=\"black\" stroke-width=\"3\" /><line x1=\"3026.3230859375008\" x2=\"3026.3230859375008\" y1=\"125.0\" y2=\"175.0\" stroke=\"black\" stroke-width=\"3\" /><line x1=\"3086.3230859375008\" x2=\"3086.3230859375008\" y1=\"25.0\" y2=\"175.0\" stroke=\"black\" stroke-width=\"3\" /><rect x=\"10.0\" y=\"5.0\" width=\"49.517734375\" height=\"40\" stroke=\"black\" fill=\"white\" stroke-width=\"0\" /><text x=\"34.7588671875\" y=\"25.0\" dominant-baseline=\"middle\" text-anchor=\"middle\" font-size=\"14px\" font-family=\"Arial\">(0, 0): </text><rect x=\"10.0\" y=\"55.0\" width=\"49.517734375\" height=\"40\" stroke=\"black\" fill=\"white\" stroke-width=\"0\" /><text x=\"34.7588671875\" y=\"75.0\" dominant-baseline=\"middle\" text-anchor=\"middle\" font-size=\"14px\" font-family=\"Arial\">(0, 1): </text><rect x=\"10.0\" y=\"105.0\" width=\"49.517734375\" height=\"40\" stroke=\"black\" fill=\"white\" stroke-width=\"0\" /><text x=\"34.7588671875\" y=\"125.0\" dominant-baseline=\"middle\" text-anchor=\"middle\" font-size=\"14px\" font-family=\"Arial\">(0, 2): </text><rect x=\"10.0\" y=\"155.0\" width=\"49.517734375\" height=\"40\" stroke=\"black\" fill=\"white\" stroke-width=\"0\" /><text x=\"34.7588671875\" y=\"175.0\" dominant-baseline=\"middle\" text-anchor=\"middle\" font-size=\"14px\" font-family=\"Arial\">(0, 3): </text><rect x=\"79.517734375\" y=\"5.0\" width=\"59.7823046875\" height=\"40\" stroke=\"black\" fill=\"white\" stroke-width=\"1\" /><text x=\"109.40888671875001\" y=\"25.0\" dominant-baseline=\"middle\" text-anchor=\"middle\" font-size=\"14px\" font-family=\"Arial\">Ry(x_0)</text><rect x=\"79.517734375\" y=\"55.0\" width=\"59.7823046875\" height=\"40\" stroke=\"black\" fill=\"white\" stroke-width=\"1\" /><text x=\"109.40888671875001\" y=\"75.0\" dominant-baseline=\"middle\" text-anchor=\"middle\" font-size=\"14px\" font-family=\"Arial\">Ry(x_1)</text><rect x=\"79.517734375\" y=\"105.0\" width=\"59.7823046875\" height=\"40\" stroke=\"black\" fill=\"white\" stroke-width=\"1\" /><text x=\"109.40888671875001\" y=\"125.0\" dominant-baseline=\"middle\" text-anchor=\"middle\" font-size=\"14px\" font-family=\"Arial\">Ry(x_2)</text><rect x=\"79.517734375\" y=\"155.0\" width=\"59.7823046875\" height=\"40\" stroke=\"black\" fill=\"white\" stroke-width=\"1\" /><text x=\"109.40888671875001\" y=\"175.0\" dominant-baseline=\"middle\" text-anchor=\"middle\" font-size=\"14px\" font-family=\"Arial\">Ry(x_3)</text><rect x=\"159.3000390625\" y=\"5.0\" width=\"88.37457031250001\" height=\"40\" stroke=\"black\" fill=\"white\" stroke-width=\"1\" /><text x=\"203.48732421875\" y=\"25.0\" dominant-baseline=\"middle\" text-anchor=\"middle\" font-size=\"14px\" font-family=\"Arial\">Rz(theta_0)</text><rect x=\"267.674609375\" y=\"5.0\" width=\"88.54109375\" height=\"40\" stroke=\"black\" fill=\"white\" stroke-width=\"1\" /><text x=\"311.94515624999997\" y=\"25.0\" dominant-baseline=\"middle\" text-anchor=\"middle\" font-size=\"14px\" font-family=\"Arial\">Ry(theta_1)</text><rect x=\"376.215703125\" y=\"5.0\" width=\"88.37457031250001\" height=\"40\" stroke=\"black\" fill=\"white\" stroke-width=\"1\" /><text x=\"420.40298828125003\" y=\"25.0\" dominant-baseline=\"middle\" text-anchor=\"middle\" font-size=\"14px\" font-family=\"Arial\">Rz(theta_2)</text><rect x=\"484.59027343749995\" y=\"55.0\" width=\"88.37457031250001\" height=\"40\" stroke=\"black\" fill=\"white\" stroke-width=\"1\" /><text x=\"528.77755859375\" y=\"75.0\" dominant-baseline=\"middle\" text-anchor=\"middle\" font-size=\"14px\" font-family=\"Arial\">Rz(theta_3)</text><rect x=\"592.96484375\" y=\"55.0\" width=\"88.54109375\" height=\"40\" stroke=\"black\" fill=\"white\" stroke-width=\"1\" /><text x=\"637.235390625\" y=\"75.0\" dominant-baseline=\"middle\" text-anchor=\"middle\" font-size=\"14px\" font-family=\"Arial\">Ry(theta_4)</text><rect x=\"701.5059375\" y=\"55.0\" width=\"88.37457031250001\" height=\"40\" stroke=\"black\" fill=\"white\" stroke-width=\"1\" /><text x=\"745.69322265625\" y=\"75.0\" dominant-baseline=\"middle\" text-anchor=\"middle\" font-size=\"14px\" font-family=\"Arial\">Rz(theta_5)</text><rect x=\"809.8805078125\" y=\"105.0\" width=\"88.37457031250001\" height=\"40\" stroke=\"black\" fill=\"white\" stroke-width=\"1\" /><text x=\"854.06779296875\" y=\"125.0\" dominant-baseline=\"middle\" text-anchor=\"middle\" font-size=\"14px\" font-family=\"Arial\">Rz(theta_6)</text><circle cx=\"854.06779296875\" cy=\"25.0\" r=\"10.0\" /><rect x=\"809.8805078125\" y=\"55.0\" width=\"88.37457031250001\" height=\"40\" stroke=\"black\" fill=\"white\" stroke-width=\"1\" /><text x=\"854.06779296875\" y=\"75.0\" dominant-baseline=\"middle\" text-anchor=\"middle\" font-size=\"18px\" font-family=\"Arial\">X</text><rect x=\"918.2550781250001\" y=\"105.0\" width=\"88.54109375\" height=\"40\" stroke=\"black\" fill=\"white\" stroke-width=\"1\" /><text x=\"962.5256250000001\" y=\"125.0\" dominant-baseline=\"middle\" text-anchor=\"middle\" font-size=\"14px\" font-family=\"Arial\">Ry(theta_7)</text><rect x=\"1026.796171875\" y=\"105.0\" width=\"88.37457031250001\" height=\"40\" stroke=\"black\" fill=\"white\" stroke-width=\"1\" /><text x=\"1070.98345703125\" y=\"125.0\" dominant-baseline=\"middle\" text-anchor=\"middle\" font-size=\"14px\" font-family=\"Arial\">Rz(theta_8)</text><rect x=\"1135.1707421875\" y=\"155.0\" width=\"88.37457031250001\" height=\"40\" stroke=\"black\" fill=\"white\" stroke-width=\"1\" /><text x=\"1179.35802734375\" y=\"175.0\" dominant-baseline=\"middle\" text-anchor=\"middle\" font-size=\"14px\" font-family=\"Arial\">Rz(theta_9)</text><circle cx=\"1179.35802734375\" cy=\"75.0\" r=\"10.0\" /><rect x=\"1135.1707421875\" y=\"105.0\" width=\"88.37457031250001\" height=\"40\" stroke=\"black\" fill=\"white\" stroke-width=\"1\" /><text x=\"1179.35802734375\" y=\"125.0\" dominant-baseline=\"middle\" text-anchor=\"middle\" font-size=\"18px\" font-family=\"Arial\">X</text><rect x=\"1243.5453125000001\" y=\"155.0\" width=\"97.4483203125\" height=\"40\" stroke=\"black\" fill=\"white\" stroke-width=\"1\" /><text x=\"1292.2694726562502\" y=\"175.0\" dominant-baseline=\"middle\" text-anchor=\"middle\" font-size=\"14px\" font-family=\"Arial\">Ry(theta_10)</text><rect x=\"1360.9936328125002\" y=\"155.0\" width=\"97.28179687500001\" height=\"40\" stroke=\"black\" fill=\"white\" stroke-width=\"1\" /><text x=\"1409.6345312500002\" y=\"175.0\" dominant-baseline=\"middle\" text-anchor=\"middle\" font-size=\"14px\" font-family=\"Arial\">Rz(theta_11)</text><circle cx=\"1498.2754296875003\" cy=\"125.0\" r=\"10.0\" /><rect x=\"1478.2754296875003\" y=\"155.0\" width=\"40\" height=\"40\" stroke=\"black\" fill=\"white\" stroke-width=\"1\" /><text x=\"1498.2754296875003\" y=\"175.0\" dominant-baseline=\"middle\" text-anchor=\"middle\" font-size=\"18px\" font-family=\"Arial\">X</text><circle cx=\"1558.2754296875003\" cy=\"175.0\" r=\"10.0\" /><rect x=\"1538.2754296875003\" y=\"5.0\" width=\"40\" height=\"40\" stroke=\"black\" fill=\"white\" stroke-width=\"1\" /><text x=\"1558.2754296875003\" y=\"25.0\" dominant-baseline=\"middle\" text-anchor=\"middle\" font-size=\"18px\" font-family=\"Arial\">X</text><rect x=\"1598.2754296875003\" y=\"5.0\" width=\"97.28179687500001\" height=\"40\" stroke=\"black\" fill=\"white\" stroke-width=\"1\" /><text x=\"1646.9163281250003\" y=\"25.0\" dominant-baseline=\"middle\" text-anchor=\"middle\" font-size=\"14px\" font-family=\"Arial\">Rz(theta_12)</text><rect x=\"1715.5572265625003\" y=\"5.0\" width=\"97.4483203125\" height=\"40\" stroke=\"black\" fill=\"white\" stroke-width=\"1\" /><text x=\"1764.2813867187504\" y=\"25.0\" dominant-baseline=\"middle\" text-anchor=\"middle\" font-size=\"14px\" font-family=\"Arial\">Ry(theta_13)</text><rect x=\"1833.0055468750004\" y=\"5.0\" width=\"97.28179687500001\" height=\"40\" stroke=\"black\" fill=\"white\" stroke-width=\"1\" /><text x=\"1881.6464453125004\" y=\"25.0\" dominant-baseline=\"middle\" text-anchor=\"middle\" font-size=\"14px\" font-family=\"Arial\">Rz(theta_14)</text><rect x=\"1950.2873437500004\" y=\"55.0\" width=\"97.28179687500001\" height=\"40\" stroke=\"black\" fill=\"white\" stroke-width=\"1\" /><text x=\"1998.9282421875005\" y=\"75.0\" dominant-baseline=\"middle\" text-anchor=\"middle\" font-size=\"14px\" font-family=\"Arial\">Rz(theta_15)</text><rect x=\"2067.5691406250003\" y=\"55.0\" width=\"97.4483203125\" height=\"40\" stroke=\"black\" fill=\"white\" stroke-width=\"1\" /><text x=\"2116.2933007812503\" y=\"75.0\" dominant-baseline=\"middle\" text-anchor=\"middle\" font-size=\"14px\" font-family=\"Arial\">Ry(theta_16)</text><rect x=\"2185.0174609375003\" y=\"55.0\" width=\"97.28179687500001\" height=\"40\" stroke=\"black\" fill=\"white\" stroke-width=\"1\" /><text x=\"2233.658359375\" y=\"75.0\" dominant-baseline=\"middle\" text-anchor=\"middle\" font-size=\"14px\" font-family=\"Arial\">Rz(theta_17)</text><rect x=\"2302.2992578125004\" y=\"105.0\" width=\"97.28179687500001\" height=\"40\" stroke=\"black\" fill=\"white\" stroke-width=\"1\" /><text x=\"2350.94015625\" y=\"125.0\" dominant-baseline=\"middle\" text-anchor=\"middle\" font-size=\"14px\" font-family=\"Arial\">Rz(theta_18)</text><circle cx=\"2350.94015625\" cy=\"25.0\" r=\"10.0\" /><rect x=\"2302.2992578125004\" y=\"55.0\" width=\"97.28179687500001\" height=\"40\" stroke=\"black\" fill=\"white\" stroke-width=\"1\" /><text x=\"2350.94015625\" y=\"75.0\" dominant-baseline=\"middle\" text-anchor=\"middle\" font-size=\"18px\" font-family=\"Arial\">X</text><rect x=\"2419.5810546875005\" y=\"105.0\" width=\"97.4483203125\" height=\"40\" stroke=\"black\" fill=\"white\" stroke-width=\"1\" /><text x=\"2468.3052148437505\" y=\"125.0\" dominant-baseline=\"middle\" text-anchor=\"middle\" font-size=\"14px\" font-family=\"Arial\">Ry(theta_19)</text><rect x=\"2537.0293750000005\" y=\"105.0\" width=\"97.28179687500001\" height=\"40\" stroke=\"black\" fill=\"white\" stroke-width=\"1\" /><text x=\"2585.6702734375003\" y=\"125.0\" dominant-baseline=\"middle\" text-anchor=\"middle\" font-size=\"14px\" font-family=\"Arial\">Rz(theta_20)</text><rect x=\"2654.3111718750006\" y=\"155.0\" width=\"97.28179687500001\" height=\"40\" stroke=\"black\" fill=\"white\" stroke-width=\"1\" /><text x=\"2702.9520703125004\" y=\"175.0\" dominant-baseline=\"middle\" text-anchor=\"middle\" font-size=\"14px\" font-family=\"Arial\">Rz(theta_21)</text><circle cx=\"2702.9520703125004\" cy=\"75.0\" r=\"10.0\" /><rect x=\"2654.3111718750006\" y=\"105.0\" width=\"97.28179687500001\" height=\"40\" stroke=\"black\" fill=\"white\" stroke-width=\"1\" /><text x=\"2702.9520703125004\" y=\"125.0\" dominant-baseline=\"middle\" text-anchor=\"middle\" font-size=\"18px\" font-family=\"Arial\">X</text><rect x=\"2771.5929687500006\" y=\"155.0\" width=\"97.4483203125\" height=\"40\" stroke=\"black\" fill=\"white\" stroke-width=\"1\" /><text x=\"2820.3171289062507\" y=\"175.0\" dominant-baseline=\"middle\" text-anchor=\"middle\" font-size=\"14px\" font-family=\"Arial\">Ry(theta_22)</text><rect x=\"2889.0412890625007\" y=\"155.0\" width=\"97.28179687500001\" height=\"40\" stroke=\"black\" fill=\"white\" stroke-width=\"1\" /><text x=\"2937.6821875000005\" y=\"175.0\" dominant-baseline=\"middle\" text-anchor=\"middle\" font-size=\"14px\" font-family=\"Arial\">Rz(theta_23)</text><circle cx=\"3026.3230859375008\" cy=\"125.0\" r=\"10.0\" /><rect x=\"3006.3230859375008\" y=\"155.0\" width=\"40\" height=\"40\" stroke=\"black\" fill=\"white\" stroke-width=\"1\" /><text x=\"3026.3230859375008\" y=\"175.0\" dominant-baseline=\"middle\" text-anchor=\"middle\" font-size=\"18px\" font-family=\"Arial\">X</text><circle cx=\"3086.3230859375008\" cy=\"175.0\" r=\"10.0\" /><rect x=\"3066.3230859375008\" y=\"5.0\" width=\"40\" height=\"40\" stroke=\"black\" fill=\"white\" stroke-width=\"1\" /><text x=\"3086.3230859375008\" y=\"25.0\" dominant-baseline=\"middle\" text-anchor=\"middle\" font-size=\"18px\" font-family=\"Arial\">X</text></svg>"
          },
          "metadata": {},
          "execution_count": 14
        }
      ],
      "source": [
        "demo_circuit,i_symbols,p_symbols = pqc_circuit_for_conv(cirq.GridQubit.rect(1,4),layers=2)\n",
        "SVGCircuit(demo_circuit)\n",
        "# print(p_symbols)"
      ]
    },
    {
      "cell_type": "code",
      "execution_count": null,
      "metadata": {
        "id": "qXY1SXOLant1"
      },
      "outputs": [],
      "source": [
        "class QConvPQC(tf.keras.layers.Layer):\n",
        "   def __init__(self,n_qubits,layers,name='Quantum Convolutional layer'):\n",
        "     super(QConvPQC,self).__init__(name=name)\n",
        "     self.num_qubits = n_qubits\n",
        "    #  self.symbols = symbols\n",
        "     self.layers = layers\n",
        "     self.main_name = name\n",
        "     self.qubits = cirq.GridQubit.rect(1, n_qubits)\n",
        "     self.observables = cirq.Z(self.qubits[-1])\n",
        "     circuit, input_symbols, param_symbols = pqc_circuit_for_conv(cirq.GridQubit.rect(1,self.num_qubits),layers=self.layers)\n",
        "     param_vals = tf.random_uniform_initializer(minval=-np.pi,maxval=np.pi)\n",
        "     self.params = tf.Variable(\n",
        "         initial_value=param_vals(shape=(1,len(param_symbols)),dtype='float32'),\n",
        "         trainable = True,\n",
        "         name = self.name + '-parameters'\n",
        "     ) \n",
        "     self.empty_circuit = tfq.convert_to_tensor([cirq.Circuit()])\n",
        "\n",
        "     self.computation_layer = tfq.layers.ControlledPQC(circuit, self.observables)\n",
        "    \n",
        "   def get_config(self):\n",
        "     config = super().get_config().copy()\n",
        "     config.update({\n",
        "         'qubit_count':self.num_qubits,\n",
        "        #  'symbols':self.symbols,\n",
        "         'layer_count':self.layers,\n",
        "         'layer_name':self.name\n",
        "     })\n",
        "     return config\n",
        "   def call(self,inputs):\n",
        "     batch_size = tf.shape(inputs)[0]\n",
        "     \n",
        "     inputs_flattened = tf.keras.layers.Flatten()(inputs)\n",
        "     quantum_inputs = tf.math.atan(inputs_flattened)\n",
        "     params_batch = tf.tile(self.params, multiples=[batch_size,1], name=self.name + '-tiled_up_parameters')\n",
        "     empty_circuits_batch = tf.repeat(self.empty_circuit, repeats = batch_size, name=self.name + '-empty_circuits')\n",
        "     \n",
        "     joined_params = tf.concat([quantum_inputs,params_batch],axis=-1)\n",
        "\n",
        "     return self.computation_layer([empty_circuits_batch,joined_params])"
      ]
    },
    {
      "cell_type": "code",
      "execution_count": null,
      "metadata": {
        "id": "qoP9HRaIQMtn"
      },
      "outputs": [],
      "source": [
        "def QConv_layer(inputs,layers,filter_size,stride,conv_id='',name='QConv_layer_'):\n",
        "  iter = int(1 + (inputs.shape[1]-filter_size)/stride)\n",
        "  n_qubits = filter_size*filter_size\n",
        "  pqc = QConvPQC(n_qubits=n_qubits,layers=layers,name=name+conv_id) # \n",
        "  conv = []\n",
        "  for i in range(iter):\n",
        "    for j in range(iter):\n",
        "      temp = pqc(inputs[:,stride*i:filter_size+i*stride,stride*i:filter_size+i*stride])\n",
        "      conv += [temp]\n",
        "  output_concat = tf.keras.layers.Concatenate(axis=1)(conv)\n",
        "  output_reshape = tf.keras.layers.Reshape((iter,iter),name='Reshape_'+conv_id)(output_concat)\n",
        "  return output_reshape"
      ]
    },
    {
      "cell_type": "code",
      "execution_count": null,
      "metadata": {
        "id": "je0XYcDJTCX9"
      },
      "outputs": [],
      "source": [
        "layers = 2\n",
        "filter_size = [4,3,2]\n",
        "stride = [1,1,1]\n",
        "\n",
        "data_inputs = tf.keras.Input(shape=(X_e_0.shape[1], X_e_0.shape[2], ),dtype=tf.dtypes.float32,name='Input_layer')\n",
        "conv_1 = QConv_layer(inputs=data_inputs,layers=layers,filter_size=filter_size[0],stride=stride[0],conv_id='1') #\n",
        "conv_2 = QConv_layer(inputs=conv_1,layers=layers,filter_size=filter_size[1],stride=stride[1],conv_id='2')  #\n",
        "conv_3 = QConv_layer(inputs=conv_2,layers=layers,filter_size=filter_size[2],stride=stride[2],conv_id='3')  #\n",
        "conv_output = tf.keras.layers.Flatten()(conv_3)\n",
        "normalized_conv_output = tf.keras.layers.BatchNormalization(trainable=True)(conv_output)\n",
        "model = tf.keras.Model(inputs=[data_inputs],outputs=[normalized_conv_output])"
      ]
    },
    {
      "cell_type": "code",
      "execution_count": null,
      "metadata": {
        "colab": {
          "base_uri": "https://localhost:8080/"
        },
        "id": "2fr_dGkBmd7x",
        "outputId": "4150d725-31dc-4e8b-ff0b-0d591cadbd54"
      },
      "outputs": [
        {
          "name": "stdout",
          "output_type": "stream",
          "text": [
            "Model: \"model\"\n",
            "__________________________________________________________________________________________________\n",
            " Layer (type)                   Output Shape         Param #     Connected to                     \n",
            "==================================================================================================\n",
            " Input_layer (InputLayer)       [(None, 8, 8)]       0           []                               \n",
            "                                                                                                  \n",
            " tf.__operators__.getitem (Slic  (None, 4, 4)        0           ['Input_layer[0][0]']            \n",
            " ingOpLambda)                                                                                     \n",
            "                                                                                                  \n",
            " tf.__operators__.getitem_1 (Sl  (None, 4, 4)        0           ['Input_layer[0][0]']            \n",
            " icingOpLambda)                                                                                   \n",
            "                                                                                                  \n",
            " tf.__operators__.getitem_2 (Sl  (None, 4, 4)        0           ['Input_layer[0][0]']            \n",
            " icingOpLambda)                                                                                   \n",
            "                                                                                                  \n",
            " tf.__operators__.getitem_3 (Sl  (None, 4, 4)        0           ['Input_layer[0][0]']            \n",
            " icingOpLambda)                                                                                   \n",
            "                                                                                                  \n",
            " tf.__operators__.getitem_4 (Sl  (None, 4, 4)        0           ['Input_layer[0][0]']            \n",
            " icingOpLambda)                                                                                   \n",
            "                                                                                                  \n",
            " tf.__operators__.getitem_5 (Sl  (None, 4, 4)        0           ['Input_layer[0][0]']            \n",
            " icingOpLambda)                                                                                   \n",
            "                                                                                                  \n",
            " tf.__operators__.getitem_6 (Sl  (None, 4, 4)        0           ['Input_layer[0][0]']            \n",
            " icingOpLambda)                                                                                   \n",
            "                                                                                                  \n",
            " tf.__operators__.getitem_7 (Sl  (None, 4, 4)        0           ['Input_layer[0][0]']            \n",
            " icingOpLambda)                                                                                   \n",
            "                                                                                                  \n",
            " tf.__operators__.getitem_8 (Sl  (None, 4, 4)        0           ['Input_layer[0][0]']            \n",
            " icingOpLambda)                                                                                   \n",
            "                                                                                                  \n",
            " tf.__operators__.getitem_9 (Sl  (None, 4, 4)        0           ['Input_layer[0][0]']            \n",
            " icingOpLambda)                                                                                   \n",
            "                                                                                                  \n",
            " tf.__operators__.getitem_10 (S  (None, 4, 4)        0           ['Input_layer[0][0]']            \n",
            " licingOpLambda)                                                                                  \n",
            "                                                                                                  \n",
            " tf.__operators__.getitem_11 (S  (None, 4, 4)        0           ['Input_layer[0][0]']            \n",
            " licingOpLambda)                                                                                  \n",
            "                                                                                                  \n",
            " tf.__operators__.getitem_12 (S  (None, 4, 4)        0           ['Input_layer[0][0]']            \n",
            " licingOpLambda)                                                                                  \n",
            "                                                                                                  \n",
            " tf.__operators__.getitem_13 (S  (None, 4, 4)        0           ['Input_layer[0][0]']            \n",
            " licingOpLambda)                                                                                  \n",
            "                                                                                                  \n",
            " tf.__operators__.getitem_14 (S  (None, 4, 4)        0           ['Input_layer[0][0]']            \n",
            " licingOpLambda)                                                                                  \n",
            "                                                                                                  \n",
            " tf.__operators__.getitem_15 (S  (None, 4, 4)        0           ['Input_layer[0][0]']            \n",
            " licingOpLambda)                                                                                  \n",
            "                                                                                                  \n",
            " tf.__operators__.getitem_16 (S  (None, 4, 4)        0           ['Input_layer[0][0]']            \n",
            " licingOpLambda)                                                                                  \n",
            "                                                                                                  \n",
            " tf.__operators__.getitem_17 (S  (None, 4, 4)        0           ['Input_layer[0][0]']            \n",
            " licingOpLambda)                                                                                  \n",
            "                                                                                                  \n",
            " tf.__operators__.getitem_18 (S  (None, 4, 4)        0           ['Input_layer[0][0]']            \n",
            " licingOpLambda)                                                                                  \n",
            "                                                                                                  \n",
            " tf.__operators__.getitem_19 (S  (None, 4, 4)        0           ['Input_layer[0][0]']            \n",
            " licingOpLambda)                                                                                  \n",
            "                                                                                                  \n",
            " tf.__operators__.getitem_20 (S  (None, 4, 4)        0           ['Input_layer[0][0]']            \n",
            " licingOpLambda)                                                                                  \n",
            "                                                                                                  \n",
            " tf.__operators__.getitem_21 (S  (None, 4, 4)        0           ['Input_layer[0][0]']            \n",
            " licingOpLambda)                                                                                  \n",
            "                                                                                                  \n",
            " tf.__operators__.getitem_22 (S  (None, 4, 4)        0           ['Input_layer[0][0]']            \n",
            " licingOpLambda)                                                                                  \n",
            "                                                                                                  \n",
            " tf.__operators__.getitem_23 (S  (None, 4, 4)        0           ['Input_layer[0][0]']            \n",
            " licingOpLambda)                                                                                  \n",
            "                                                                                                  \n",
            " tf.__operators__.getitem_24 (S  (None, 4, 4)        0           ['Input_layer[0][0]']            \n",
            " licingOpLambda)                                                                                  \n",
            "                                                                                                  \n",
            " QConv_layer_1 (QConvPQC)       (None, 1)            96          ['tf.__operators__.getitem[0][0]'\n",
            "                                                                 , 'tf.__operators__.getitem_1[0][\n",
            "                                                                 0]',                             \n",
            "                                                                  'tf.__operators__.getitem_2[0][0\n",
            "                                                                 ]',                              \n",
            "                                                                  'tf.__operators__.getitem_3[0][0\n",
            "                                                                 ]',                              \n",
            "                                                                  'tf.__operators__.getitem_4[0][0\n",
            "                                                                 ]',                              \n",
            "                                                                  'tf.__operators__.getitem_5[0][0\n",
            "                                                                 ]',                              \n",
            "                                                                  'tf.__operators__.getitem_6[0][0\n",
            "                                                                 ]',                              \n",
            "                                                                  'tf.__operators__.getitem_7[0][0\n",
            "                                                                 ]',                              \n",
            "                                                                  'tf.__operators__.getitem_8[0][0\n",
            "                                                                 ]',                              \n",
            "                                                                  'tf.__operators__.getitem_9[0][0\n",
            "                                                                 ]',                              \n",
            "                                                                  'tf.__operators__.getitem_10[0][\n",
            "                                                                 0]',                             \n",
            "                                                                  'tf.__operators__.getitem_11[0][\n",
            "                                                                 0]',                             \n",
            "                                                                  'tf.__operators__.getitem_12[0][\n",
            "                                                                 0]',                             \n",
            "                                                                  'tf.__operators__.getitem_13[0][\n",
            "                                                                 0]',                             \n",
            "                                                                  'tf.__operators__.getitem_14[0][\n",
            "                                                                 0]',                             \n",
            "                                                                  'tf.__operators__.getitem_15[0][\n",
            "                                                                 0]',                             \n",
            "                                                                  'tf.__operators__.getitem_16[0][\n",
            "                                                                 0]',                             \n",
            "                                                                  'tf.__operators__.getitem_17[0][\n",
            "                                                                 0]',                             \n",
            "                                                                  'tf.__operators__.getitem_18[0][\n",
            "                                                                 0]',                             \n",
            "                                                                  'tf.__operators__.getitem_19[0][\n",
            "                                                                 0]',                             \n",
            "                                                                  'tf.__operators__.getitem_20[0][\n",
            "                                                                 0]',                             \n",
            "                                                                  'tf.__operators__.getitem_21[0][\n",
            "                                                                 0]',                             \n",
            "                                                                  'tf.__operators__.getitem_22[0][\n",
            "                                                                 0]',                             \n",
            "                                                                  'tf.__operators__.getitem_23[0][\n",
            "                                                                 0]',                             \n",
            "                                                                  'tf.__operators__.getitem_24[0][\n",
            "                                                                 0]']                             \n",
            "                                                                                                  \n",
            " concatenate (Concatenate)      (None, 25)           0           ['QConv_layer_1[0][0]',          \n",
            "                                                                  'QConv_layer_1[1][0]',          \n",
            "                                                                  'QConv_layer_1[2][0]',          \n",
            "                                                                  'QConv_layer_1[3][0]',          \n",
            "                                                                  'QConv_layer_1[4][0]',          \n",
            "                                                                  'QConv_layer_1[5][0]',          \n",
            "                                                                  'QConv_layer_1[6][0]',          \n",
            "                                                                  'QConv_layer_1[7][0]',          \n",
            "                                                                  'QConv_layer_1[8][0]',          \n",
            "                                                                  'QConv_layer_1[9][0]',          \n",
            "                                                                  'QConv_layer_1[10][0]',         \n",
            "                                                                  'QConv_layer_1[11][0]',         \n",
            "                                                                  'QConv_layer_1[12][0]',         \n",
            "                                                                  'QConv_layer_1[13][0]',         \n",
            "                                                                  'QConv_layer_1[14][0]',         \n",
            "                                                                  'QConv_layer_1[15][0]',         \n",
            "                                                                  'QConv_layer_1[16][0]',         \n",
            "                                                                  'QConv_layer_1[17][0]',         \n",
            "                                                                  'QConv_layer_1[18][0]',         \n",
            "                                                                  'QConv_layer_1[19][0]',         \n",
            "                                                                  'QConv_layer_1[20][0]',         \n",
            "                                                                  'QConv_layer_1[21][0]',         \n",
            "                                                                  'QConv_layer_1[22][0]',         \n",
            "                                                                  'QConv_layer_1[23][0]',         \n",
            "                                                                  'QConv_layer_1[24][0]']         \n",
            "                                                                                                  \n",
            " Reshape_1 (Reshape)            (None, 5, 5)         0           ['concatenate[0][0]']            \n",
            "                                                                                                  \n",
            " tf.__operators__.getitem_25 (S  (None, 3, 3)        0           ['Reshape_1[0][0]']              \n",
            " licingOpLambda)                                                                                  \n",
            "                                                                                                  \n",
            " tf.__operators__.getitem_26 (S  (None, 3, 3)        0           ['Reshape_1[0][0]']              \n",
            " licingOpLambda)                                                                                  \n",
            "                                                                                                  \n",
            " tf.__operators__.getitem_27 (S  (None, 3, 3)        0           ['Reshape_1[0][0]']              \n",
            " licingOpLambda)                                                                                  \n",
            "                                                                                                  \n",
            " tf.__operators__.getitem_28 (S  (None, 3, 3)        0           ['Reshape_1[0][0]']              \n",
            " licingOpLambda)                                                                                  \n",
            "                                                                                                  \n",
            " tf.__operators__.getitem_29 (S  (None, 3, 3)        0           ['Reshape_1[0][0]']              \n",
            " licingOpLambda)                                                                                  \n",
            "                                                                                                  \n",
            " tf.__operators__.getitem_30 (S  (None, 3, 3)        0           ['Reshape_1[0][0]']              \n",
            " licingOpLambda)                                                                                  \n",
            "                                                                                                  \n",
            " tf.__operators__.getitem_31 (S  (None, 3, 3)        0           ['Reshape_1[0][0]']              \n",
            " licingOpLambda)                                                                                  \n",
            "                                                                                                  \n",
            " tf.__operators__.getitem_32 (S  (None, 3, 3)        0           ['Reshape_1[0][0]']              \n",
            " licingOpLambda)                                                                                  \n",
            "                                                                                                  \n",
            " tf.__operators__.getitem_33 (S  (None, 3, 3)        0           ['Reshape_1[0][0]']              \n",
            " licingOpLambda)                                                                                  \n",
            "                                                                                                  \n",
            " QConv_layer_2 (QConvPQC)       (None, 1)            54          ['tf.__operators__.getitem_25[0][\n",
            "                                                                 0]',                             \n",
            "                                                                  'tf.__operators__.getitem_26[0][\n",
            "                                                                 0]',                             \n",
            "                                                                  'tf.__operators__.getitem_27[0][\n",
            "                                                                 0]',                             \n",
            "                                                                  'tf.__operators__.getitem_28[0][\n",
            "                                                                 0]',                             \n",
            "                                                                  'tf.__operators__.getitem_29[0][\n",
            "                                                                 0]',                             \n",
            "                                                                  'tf.__operators__.getitem_30[0][\n",
            "                                                                 0]',                             \n",
            "                                                                  'tf.__operators__.getitem_31[0][\n",
            "                                                                 0]',                             \n",
            "                                                                  'tf.__operators__.getitem_32[0][\n",
            "                                                                 0]',                             \n",
            "                                                                  'tf.__operators__.getitem_33[0][\n",
            "                                                                 0]']                             \n",
            "                                                                                                  \n",
            " concatenate_1 (Concatenate)    (None, 9)            0           ['QConv_layer_2[0][0]',          \n",
            "                                                                  'QConv_layer_2[1][0]',          \n",
            "                                                                  'QConv_layer_2[2][0]',          \n",
            "                                                                  'QConv_layer_2[3][0]',          \n",
            "                                                                  'QConv_layer_2[4][0]',          \n",
            "                                                                  'QConv_layer_2[5][0]',          \n",
            "                                                                  'QConv_layer_2[6][0]',          \n",
            "                                                                  'QConv_layer_2[7][0]',          \n",
            "                                                                  'QConv_layer_2[8][0]']          \n",
            "                                                                                                  \n",
            " Reshape_2 (Reshape)            (None, 3, 3)         0           ['concatenate_1[0][0]']          \n",
            "                                                                                                  \n",
            " tf.__operators__.getitem_34 (S  (None, 2, 2)        0           ['Reshape_2[0][0]']              \n",
            " licingOpLambda)                                                                                  \n",
            "                                                                                                  \n",
            " tf.__operators__.getitem_35 (S  (None, 2, 2)        0           ['Reshape_2[0][0]']              \n",
            " licingOpLambda)                                                                                  \n",
            "                                                                                                  \n",
            " tf.__operators__.getitem_36 (S  (None, 2, 2)        0           ['Reshape_2[0][0]']              \n",
            " licingOpLambda)                                                                                  \n",
            "                                                                                                  \n",
            " tf.__operators__.getitem_37 (S  (None, 2, 2)        0           ['Reshape_2[0][0]']              \n",
            " licingOpLambda)                                                                                  \n",
            "                                                                                                  \n",
            " QConv_layer_3 (QConvPQC)       (None, 1)            24          ['tf.__operators__.getitem_34[0][\n",
            "                                                                 0]',                             \n",
            "                                                                  'tf.__operators__.getitem_35[0][\n",
            "                                                                 0]',                             \n",
            "                                                                  'tf.__operators__.getitem_36[0][\n",
            "                                                                 0]',                             \n",
            "                                                                  'tf.__operators__.getitem_37[0][\n",
            "                                                                 0]']                             \n",
            "                                                                                                  \n",
            " concatenate_2 (Concatenate)    (None, 4)            0           ['QConv_layer_3[0][0]',          \n",
            "                                                                  'QConv_layer_3[1][0]',          \n",
            "                                                                  'QConv_layer_3[2][0]',          \n",
            "                                                                  'QConv_layer_3[3][0]']          \n",
            "                                                                                                  \n",
            " Reshape_3 (Reshape)            (None, 2, 2)         0           ['concatenate_2[0][0]']          \n",
            "                                                                                                  \n",
            " flatten (Flatten)              (None, 4)            0           ['Reshape_3[0][0]']              \n",
            "                                                                                                  \n",
            " batch_normalization (BatchNorm  (None, 4)           16          ['flatten[0][0]']                \n",
            " alization)                                                                                       \n",
            "                                                                                                  \n",
            "==================================================================================================\n",
            "Total params: 190\n",
            "Trainable params: 182\n",
            "Non-trainable params: 8\n",
            "__________________________________________________________________________________________________\n"
          ]
        }
      ],
      "source": [
        "model.summary()"
      ]
    },
    {
      "cell_type": "code",
      "execution_count": null,
      "metadata": {
        "id": "yWgRWIC0cZxw"
      },
      "outputs": [],
      "source": [
        "def generate_data(data_inputs,layers,filter_size,stride,c_id=''):\n",
        "  conv_1 = QConv_layer(inputs=data_inputs,layers=layers,filter_size=filter_size[0],stride=stride[0],conv_id='1'+c_id) #\n",
        "  conv_2 = QConv_layer(inputs=conv_1,layers=layers,filter_size=filter_size[1],stride=stride[1],conv_id='2'+c_id)  #\n",
        "  conv_3 = QConv_layer(inputs=conv_2,layers=layers,filter_size=filter_size[2],stride=stride[2],conv_id='3'+c_id)  #\n",
        "  conv_output = tf.keras.layers.Flatten(name='Intermediate_output_layer_'+c_id)(conv_3)\n",
        "  # normalized_conv_output = tf.keras.layers.BatchNormalization(trainable=True,name='Batch_Normalization_'+c_id)(conv_output)\n",
        "  \n",
        "  # return normalized_conv_output\n",
        "  return conv_output"
      ]
    },
    {
      "cell_type": "code",
      "execution_count": null,
      "metadata": {
        "id": "KldztCh0szYQ"
      },
      "outputs": [],
      "source": [
        "def get_output_shape(input_shape,filter_shape,stride,padding='same'):\n",
        "  if (input_shape[0] % stride[0] == 0):\n",
        "    pad_along_height = max(filter_shape[0] - stride[0], 0)\n",
        "  else:\n",
        "    pad_along_height = max(filter_shape[0] - (input_shape[0] % stride[0]), 0)\n",
        "  if (input_shape[1] % stride[1] == 0):\n",
        "    pad_along_width = max(filter_shape[1] - stride[1], 0)\n",
        "  else:\n",
        "    pad_along_width = max(filter_shape[1] - (input_shape[1] % stride[1]), 0)\n",
        "  pad_top = pad_along_height // 2\n",
        "  pad_bottom = pad_along_height - pad_top\n",
        "  pad_left = pad_along_width // 2\n",
        "  pad_right = pad_along_width - pad_left\n",
        "  paddings = tf.constant([[pad_top,pad_bottom],[pad_left,pad_right]])\n",
        "  rows = input_shape[0]+paddings[0][0]+paddings[0][1]\n",
        "  cols = input_shape[1]+paddings[1][0]+paddings[1][1]\n",
        "  padded_shape = tf.TensorShape([rows,cols])\n",
        "  new_rows = np.ceil(float(padded_shape[0] - filter_shape[0] + 1) / float(stride[0]))\n",
        "  new_cols = np.ceil(float(padded_shape[1] - filter_shape[1] + 1) / float(stride[1]))\n",
        "  return tf.TensorShape([int(new_rows), int(new_cols)])"
      ]
    },
    {
      "cell_type": "code",
      "execution_count": null,
      "metadata": {
        "id": "P02jmuo1s4LT"
      },
      "outputs": [],
      "source": [
        "class QConv2D_layer(tf.keras.layers.Layer):\n",
        "  def __init__(self,layers,filters,filter_shape,stride,seed,parameter_sharing=True,padding='same',conv_id='',name='Quantum_Convolutional_Layer_with_padding'):\n",
        "    super(QConv2D_layer,self).__init__(name=name+conv_id)\n",
        "    self.layers = layers\n",
        "    self.filters = filters\n",
        "    self.parameter_sharing = parameter_sharing\n",
        "    self.filter_shape = filter_shape\n",
        "    self.stride = stride\n",
        "    self.padding = padding\n",
        "    self.main_name = name\n",
        "    self.qubits = cirq.GridQubit.rect(1, filter_shape[0]*filter_shape[1])\n",
        "    self.observables = tfq.convert_to_tensor([cirq.Z(self.qubits[-1])])\n",
        "    self.circuit, self.input_symbols, self.param_symbols = pqc_circuit_for_conv(self.qubits,layers=self.layers)\n",
        "    self.model_circuit = tfq.convert_to_tensor([self.circuit])\n",
        "    self.all_symbols = np.concatenate((self.input_symbols,self.param_symbols),axis=0)\n",
        "    self.initializer = tf.keras.initializers.RandomUniform(0, 2 * np.pi, seed=seed)\n",
        "    # self.param_symbols = tf.constant(self.param_symbols)\n",
        "  \n",
        "  def build(self,input_shape):\n",
        "    if len(input_shape) == 3:\n",
        "      self.input_rows = input_shape[1]\n",
        "      self.input_cols = input_shape[2]\n",
        "      self.input_channels = 1\n",
        "    else:\n",
        "      self.input_rows = input_shape[1]\n",
        "      self.input_cols = input_shape[2]\n",
        "      self.input_channels = input_shape[3]\n",
        "    output_shape = get_output_shape(input_shape[1:3], self.filter_shape, self.stride, self.padding)\n",
        "    self.output_rows = output_shape[0]\n",
        "    self.output_cols = output_shape[1]\n",
        "    if self.parameter_sharing:\n",
        "      self.kernel_shape = tf.TensorShape([self.filters, self.input_channels, len(self.param_symbols)])\n",
        "    else:\n",
        "      self.kernel_shape = tf.TensorShape([self.filters, self.input_channels, \n",
        "                                               self.output_rows,\n",
        "                                               self.output_cols,\n",
        "                                               len(self.param_symbols)])\n",
        "    self.symbol_names = tfq.util.get_circuit_symbols(tfq.from_tensor(self.model_circuit)[0])\n",
        "    self.kernel = self.add_weight(\n",
        "                        name='kernel',\n",
        "                        shape=self.kernel_shape,\n",
        "                        initializer=self.initializer,\n",
        "                        # regularizer=self.regularizer,\n",
        "                        # constraint=self.constraint,\n",
        "                        trainable=True,\n",
        "                        dtype=self.dtype)\n",
        "    self.inputs_preprocess_ = self.inputs_preprocess()\n",
        "  \n",
        "  def inputs_preprocess(self):\n",
        "      kernel_size = (1, 1) + self.filter_shape + (1,)\n",
        "      strides = (1, 1) + self.stride + (1,)\n",
        "      padding = self.padding.upper()\n",
        "      batchsize = lambda x: tf.gather(tf.shape(x), 0)\n",
        "      # planes = number of channels\n",
        "      planes = self.input_channels\n",
        "      rows = self.input_rows\n",
        "      cols = self.input_cols\n",
        "      depth = 1\n",
        "      reshaped_input_ = lambda x: tf.reshape(x, shape=(batchsize(x), rows, cols, planes))\n",
        "    # change input order to (batchsize, depth, rows, cols)\n",
        "      transposed_input = lambda x: tf.transpose(reshaped_input_(x), [0, 3, 1, 2])\n",
        "      reshaped_input = lambda x: tf.reshape(transposed_input(x), \n",
        "                                              shape=(batchsize(x), planes, rows, cols, depth))\n",
        "      input_patches = lambda x: tf.extract_volume_patches(reshaped_input(x),\n",
        "                                            ksizes=kernel_size, strides=strides, padding=padding)\n",
        "      return input_patches \n",
        "\n",
        "    \n",
        "  def call(self,inputs):\n",
        "    batchsize = tf.gather(tf.shape(inputs), 0)\n",
        "    depth = self.input_channels\n",
        "    rows = self.output_rows\n",
        "    cols = self.output_cols\n",
        "\n",
        "    input_patches = self.inputs_preprocess_(inputs)\n",
        "    # resolved_inputs__ = self._input_resolver(inputs)\n",
        "    inputs = tf.reshape(input_patches, [batchsize, depth, \n",
        "                                      self.output_rows, \n",
        "                                      self.output_cols,\n",
        "                                      len(self.input_symbols)])\n",
        "        # change to (depth, batchsize, rows, cols, symbols)\n",
        "    inputs = tf.transpose(inputs, [1, 0, 2, 3, 4])\n",
        "        # total number of circuit = filters*depth*batchsize*rows*cols\n",
        "    circuit_size = tf.reduce_prod([self.filters, batchsize, depth, rows, cols])\n",
        "        # tile inputs to (filters, depth, batchsize, rows, cols, symbols)\n",
        "    tiled_up_inputs = tf.tile([inputs], [self.filters, 1, 1, 1, 1, 1])\n",
        "        # reshape inputs to (circuit_size, symbols)\n",
        "    tiled_up_inputs = tf.reshape(tiled_up_inputs, (circuit_size, tf.shape(tiled_up_inputs)[-1]))\n",
        "    if self.parameter_sharing:\n",
        "      # tile size for weights = batchsize*rows*cols\n",
        "      tile_size = tf.reduce_prod([batchsize, rows, cols])\n",
        "      tiled_up_weights__ = tf.tile([self.kernel], [tile_size, 1, 1, 1])\n",
        "      # change to (filters, depth, batchsize*rows*cols, weight_symbols)\n",
        "      tiled_up_weights_ = tf.transpose(tiled_up_weights__, [1, 2, 0, 3])\n",
        "    else:\n",
        "      # tile size for weights = batchsize\n",
        "      # weight now has shape (batchsize, filters, depth, rows, cols, weight_symbols)\n",
        "      tiled_up_weights__ = tf.tile([self.kernel], [batchsize, 1, 1, 1, 1, 1])\n",
        "      # change to (filters, depth, batchsize, rows, cols, weight_symbols)\n",
        "      tiled_up_weights_ = tf.transpose(tiled_up_weights__, [1, 2, 0, 3, 4, 5])\n",
        "      # reshape to (circuit_size, weight_symbols)\n",
        "    tiled_up_weights = tf.reshape(tiled_up_weights_, (circuit_size, tf.shape(tiled_up_weights_)[-1]))\n",
        "    tiled_up_parameters = tf.concat([tiled_up_inputs, tiled_up_weights], 1)\n",
        "        \n",
        "    # tiled_up_data_circuit = tf.tile(self._data_circuit, [circuit_size])\n",
        "    tiled_up_circuits = tf.tile(self.model_circuit, [circuit_size])\n",
        "    # model_appended = self._append_layer(tiled_up_data_circuit, append=tiled_up_model)\n",
        "    tiled_up_operators = tf.tile([self.observables], [circuit_size, 1])\n",
        "    \n",
        "    result = tfq.layers.Expectation()(tiled_up_circuits,\n",
        "                                    symbol_names=self.symbol_names,\n",
        "                                    symbol_values=tiled_up_parameters,\n",
        "                                    operators=tiled_up_operators)\n",
        "\n",
        "    reshaped_output = tf.reshape(result,(self.filters, self.input_channels, batchsize, self.output_rows, self.output_cols))\n",
        "    summed_output = tf.reduce_mean(reshaped_output, axis=1)\n",
        "    final_output = tf.transpose(summed_output, [1, 2, 3, 0])\n",
        "    return tf.reshape(final_output, (batchsize, self.output_rows, self.output_cols, self.filters))"
      ]
    },
    {
      "cell_type": "code",
      "execution_count": null,
      "metadata": {
        "id": "5Fjn7hwEqLQi"
      },
      "outputs": [],
      "source": [
        "def generate_data_improved(data_inputs,layers,filters,filter_shape,stride,c_id=''):\n",
        "  # inputs = tf.keras.Input(shape=(data_inputs.shape[1],data_inputs.shape[2]), dtype=tf.dtypes.float32,name='Input_layer')\n",
        "  conv_1 = QConv2D_layer(layers=layers[0], filter_shape=filter_shape[0],conv_id ='1'+c_id,\n",
        "                      filters=filters[0], stride=stride[0], padding=\"same\", parameter_sharing=False,seed=2021)(data_inputs)\n",
        "  conv_2 = QConv2D_layer(layers=layers[1], filter_shape=filter_shape[1],conv_id = '2'+c_id,\n",
        "                      filters=filters[1], stride=stride[1], padding=\"same\", parameter_sharing=False,seed=2022)(conv_1)\n",
        "  conv_output = tf.keras.layers.Flatten(name='Intermediate_output_layer_'+c_id)(conv_2)\n",
        "\n",
        "  return conv_output"
      ]
    },
    {
      "cell_type": "code",
      "execution_count": null,
      "metadata": {
        "id": "py5-cjecCf0l"
      },
      "outputs": [],
      "source": [
        "def count_set_bits(n):\n",
        "  count=0\n",
        "  while(n>0):\n",
        "    count += n&1\n",
        "    n >>= 1\n",
        "  return count\n",
        "\n",
        "def swap_test_op(qubits_a,qubits_b):\n",
        "  ret_op = 0\n",
        "  for i in range(1<<len(qubits_a)):\n",
        "    if count_set_bits(i)%2 == 0:\n",
        "      tmp_op = 1\n",
        "      for j,ch in enumerate(bin(i)[2:].zfill(len(qubits_a))):\n",
        "        intermediate = one_proj(qubits_a[j]) * one_proj(qubits_b[j])\n",
        "        if ch =='0':\n",
        "          intermediate = 1 - intermediate\n",
        "        tmp_op *= intermediate\n",
        "      ret_op += tmp_op\n",
        "  return 1-(2*ret_op - 1)"
      ]
    },
    {
      "cell_type": "code",
      "execution_count": null,
      "metadata": {
        "id": "dDDcdo3IB84A"
      },
      "outputs": [],
      "source": [
        "def variational_swap_test_circuit(qubits_a,qubits_b,rotations):\n",
        "  circuit = cirq.Circuit()\n",
        "  for q0,q1 in zip(qubits_a,qubits_b):\n",
        "    circuit += (cirq.CNOT(q0,q1))\n",
        "  rotations = np.reshape(rotations,(-1,2))\n",
        "  for i, q in enumerate(qubits_a):\n",
        "    circuit += cirq.Y(q)**(rotations[i][0])\n",
        "    circuit += cirq.X(q)**(rotations[i][1])\n",
        "  \n",
        "  return circuit,np.ndarray.flatten(rotations)"
      ]
    },
    {
      "cell_type": "code",
      "execution_count": null,
      "metadata": {
        "colab": {
          "base_uri": "https://localhost:8080/",
          "height": 461
        },
        "id": "JOHY8565qGK9",
        "outputId": "eea05e90-c06e-49eb-f581-c81a222504ee"
      },
      "outputs": [
        {
          "output_type": "execute_result",
          "data": {
            "text/plain": [
              "<cirq.contrib.svg.svg.SVGCircuit at 0x7fef97aac990>"
            ],
            "image/svg+xml": "<svg xmlns=\"http://www.w3.org/2000/svg\" width=\"468.70914062500003\" height=\"440.0\"><line x1=\"34.7588671875\" x2=\"438.70914062500003\" y1=\"45.0\" y2=\"45.0\" stroke=\"#1967d2\" stroke-width=\"1\" /><line x1=\"34.7588671875\" x2=\"438.70914062500003\" y1=\"95.0\" y2=\"95.0\" stroke=\"#1967d2\" stroke-width=\"1\" /><line x1=\"34.7588671875\" x2=\"438.70914062500003\" y1=\"145.0\" y2=\"145.0\" stroke=\"#1967d2\" stroke-width=\"1\" /><line x1=\"34.7588671875\" x2=\"438.70914062500003\" y1=\"195.0\" y2=\"195.0\" stroke=\"#1967d2\" stroke-width=\"1\" /><line x1=\"34.7588671875\" x2=\"438.70914062500003\" y1=\"245.0\" y2=\"245.0\" stroke=\"#1967d2\" stroke-width=\"1\" /><line x1=\"34.7588671875\" x2=\"438.70914062500003\" y1=\"295.0\" y2=\"295.0\" stroke=\"#1967d2\" stroke-width=\"1\" /><line x1=\"34.7588671875\" x2=\"438.70914062500003\" y1=\"345.0\" y2=\"345.0\" stroke=\"#1967d2\" stroke-width=\"1\" /><line x1=\"34.7588671875\" x2=\"438.70914062500003\" y1=\"395.0\" y2=\"395.0\" stroke=\"#1967d2\" stroke-width=\"1\" /><line x1=\"69.517734375\" x2=\"239.517734375\" y1=\"5.0\" y2=\"5.0\" stroke=\"black\" stroke-width=\"1\" /><line x1=\"69.517734375\" x2=\"239.517734375\" y1=\"435.0\" y2=\"435.0\" stroke=\"black\" stroke-width=\"1\" /><line x1=\"89.517734375\" x2=\"89.517734375\" y1=\"45.0\" y2=\"245.0\" stroke=\"black\" stroke-width=\"3\" /><line x1=\"129.517734375\" x2=\"129.517734375\" y1=\"95.0\" y2=\"295.0\" stroke=\"black\" stroke-width=\"3\" /><line x1=\"169.517734375\" x2=\"169.517734375\" y1=\"145.0\" y2=\"345.0\" stroke=\"black\" stroke-width=\"3\" /><line x1=\"209.517734375\" x2=\"209.517734375\" y1=\"195.0\" y2=\"395.0\" stroke=\"black\" stroke-width=\"3\" /><line x1=\"69.517734375\" x2=\"69.517734375\" y1=\"5.0\" y2=\"15.0\" stroke=\"black\" stroke-width=\"3\" /><line x1=\"239.517734375\" x2=\"239.517734375\" y1=\"5.0\" y2=\"15.0\" stroke=\"black\" stroke-width=\"3\" /><line x1=\"69.517734375\" x2=\"69.517734375\" y1=\"425.0\" y2=\"435.0\" stroke=\"black\" stroke-width=\"3\" /><line x1=\"239.517734375\" x2=\"239.517734375\" y1=\"425.0\" y2=\"435.0\" stroke=\"black\" stroke-width=\"3\" /><rect x=\"10.0\" y=\"25.0\" width=\"49.517734375\" height=\"40\" stroke=\"black\" fill=\"white\" stroke-width=\"0\" /><text x=\"34.7588671875\" y=\"45.0\" dominant-baseline=\"middle\" text-anchor=\"middle\" font-size=\"14px\" font-family=\"Arial\">(0, 0): </text><rect x=\"10.0\" y=\"75.0\" width=\"49.517734375\" height=\"40\" stroke=\"black\" fill=\"white\" stroke-width=\"0\" /><text x=\"34.7588671875\" y=\"95.0\" dominant-baseline=\"middle\" text-anchor=\"middle\" font-size=\"14px\" font-family=\"Arial\">(0, 1): </text><rect x=\"10.0\" y=\"125.0\" width=\"49.517734375\" height=\"40\" stroke=\"black\" fill=\"white\" stroke-width=\"0\" /><text x=\"34.7588671875\" y=\"145.0\" dominant-baseline=\"middle\" text-anchor=\"middle\" font-size=\"14px\" font-family=\"Arial\">(0, 2): </text><rect x=\"10.0\" y=\"175.0\" width=\"49.517734375\" height=\"40\" stroke=\"black\" fill=\"white\" stroke-width=\"0\" /><text x=\"34.7588671875\" y=\"195.0\" dominant-baseline=\"middle\" text-anchor=\"middle\" font-size=\"14px\" font-family=\"Arial\">(0, 3): </text><rect x=\"10.0\" y=\"225.0\" width=\"49.517734375\" height=\"40\" stroke=\"black\" fill=\"white\" stroke-width=\"0\" /><text x=\"34.7588671875\" y=\"245.0\" dominant-baseline=\"middle\" text-anchor=\"middle\" font-size=\"14px\" font-family=\"Arial\">(0, 4): </text><rect x=\"10.0\" y=\"275.0\" width=\"49.517734375\" height=\"40\" stroke=\"black\" fill=\"white\" stroke-width=\"0\" /><text x=\"34.7588671875\" y=\"295.0\" dominant-baseline=\"middle\" text-anchor=\"middle\" font-size=\"14px\" font-family=\"Arial\">(0, 5): </text><rect x=\"10.0\" y=\"325.0\" width=\"49.517734375\" height=\"40\" stroke=\"black\" fill=\"white\" stroke-width=\"0\" /><text x=\"34.7588671875\" y=\"345.0\" dominant-baseline=\"middle\" text-anchor=\"middle\" font-size=\"14px\" font-family=\"Arial\">(0, 6): </text><rect x=\"10.0\" y=\"375.0\" width=\"49.517734375\" height=\"40\" stroke=\"black\" fill=\"white\" stroke-width=\"0\" /><text x=\"34.7588671875\" y=\"395.0\" dominant-baseline=\"middle\" text-anchor=\"middle\" font-size=\"14px\" font-family=\"Arial\">(0, 7): </text><circle cx=\"89.517734375\" cy=\"45.0\" r=\"10.0\" /><rect x=\"69.517734375\" y=\"225.0\" width=\"40\" height=\"40\" stroke=\"black\" fill=\"white\" stroke-width=\"1\" /><text x=\"89.517734375\" y=\"245.0\" dominant-baseline=\"middle\" text-anchor=\"middle\" font-size=\"18px\" font-family=\"Arial\">X</text><circle cx=\"129.517734375\" cy=\"95.0\" r=\"10.0\" /><rect x=\"109.517734375\" y=\"275.0\" width=\"40\" height=\"40\" stroke=\"black\" fill=\"white\" stroke-width=\"1\" /><text x=\"129.517734375\" y=\"295.0\" dominant-baseline=\"middle\" text-anchor=\"middle\" font-size=\"18px\" font-family=\"Arial\">X</text><circle cx=\"169.517734375\" cy=\"145.0\" r=\"10.0\" /><rect x=\"149.517734375\" y=\"325.0\" width=\"40\" height=\"40\" stroke=\"black\" fill=\"white\" stroke-width=\"1\" /><text x=\"169.517734375\" y=\"345.0\" dominant-baseline=\"middle\" text-anchor=\"middle\" font-size=\"18px\" font-family=\"Arial\">X</text><circle cx=\"209.517734375\" cy=\"195.0\" r=\"10.0\" /><rect x=\"189.517734375\" y=\"375.0\" width=\"40\" height=\"40\" stroke=\"black\" fill=\"white\" stroke-width=\"1\" /><text x=\"209.517734375\" y=\"395.0\" dominant-baseline=\"middle\" text-anchor=\"middle\" font-size=\"18px\" font-family=\"Arial\">X</text><rect x=\"259.517734375\" y=\"25.0\" width=\"69.48085937500001\" height=\"40\" stroke=\"black\" fill=\"white\" stroke-width=\"1\" /><text x=\"294.2581640625\" y=\"45.0\" dominant-baseline=\"middle\" text-anchor=\"middle\" font-size=\"14px\" font-family=\"Arial\">Y^x_0_0</text><rect x=\"259.517734375\" y=\"75.0\" width=\"69.48085937500001\" height=\"40\" stroke=\"black\" fill=\"white\" stroke-width=\"1\" /><text x=\"294.2581640625\" y=\"95.0\" dominant-baseline=\"middle\" text-anchor=\"middle\" font-size=\"14px\" font-family=\"Arial\">Y^x_1_0</text><rect x=\"259.517734375\" y=\"125.0\" width=\"69.48085937500001\" height=\"40\" stroke=\"black\" fill=\"white\" stroke-width=\"1\" /><text x=\"294.2581640625\" y=\"145.0\" dominant-baseline=\"middle\" text-anchor=\"middle\" font-size=\"14px\" font-family=\"Arial\">Y^x_2_0</text><rect x=\"259.517734375\" y=\"175.0\" width=\"69.48085937500001\" height=\"40\" stroke=\"black\" fill=\"white\" stroke-width=\"1\" /><text x=\"294.2581640625\" y=\"195.0\" dominant-baseline=\"middle\" text-anchor=\"middle\" font-size=\"14px\" font-family=\"Arial\">Y^x_3_0</text><rect x=\"348.99859375\" y=\"25.0\" width=\"69.710546875\" height=\"40\" stroke=\"black\" fill=\"white\" stroke-width=\"1\" /><text x=\"383.8538671875\" y=\"45.0\" dominant-baseline=\"middle\" text-anchor=\"middle\" font-size=\"14px\" font-family=\"Arial\">X^x_0_1</text><rect x=\"348.99859375\" y=\"75.0\" width=\"69.710546875\" height=\"40\" stroke=\"black\" fill=\"white\" stroke-width=\"1\" /><text x=\"383.8538671875\" y=\"95.0\" dominant-baseline=\"middle\" text-anchor=\"middle\" font-size=\"14px\" font-family=\"Arial\">X^x_1_1</text><rect x=\"348.99859375\" y=\"125.0\" width=\"69.710546875\" height=\"40\" stroke=\"black\" fill=\"white\" stroke-width=\"1\" /><text x=\"383.8538671875\" y=\"145.0\" dominant-baseline=\"middle\" text-anchor=\"middle\" font-size=\"14px\" font-family=\"Arial\">X^x_2_1</text><rect x=\"348.99859375\" y=\"175.0\" width=\"69.710546875\" height=\"40\" stroke=\"black\" fill=\"white\" stroke-width=\"1\" /><text x=\"383.8538671875\" y=\"195.0\" dominant-baseline=\"middle\" text-anchor=\"middle\" font-size=\"14px\" font-family=\"Arial\">X^x_3_1</text></svg>"
          },
          "metadata": {},
          "execution_count": 20
        }
      ],
      "source": [
        "qubits = cirq.GridQubit.rect(1,8)\n",
        "SVGCircuit(variational_swap_test_circuit(qubits[:4],qubits[4:8],np.reshape(sp.symbols('x_:4_:'+str(2)),(-1,2)))[0])\n",
        "# print(variational_swap_test_circuit(qubits[:4],qubits[4:8],np.reshape(sp.symbols('x_:4_:'+str(2)),(-1,2)))[1])"
      ]
    },
    {
      "cell_type": "code",
      "execution_count": null,
      "metadata": {
        "id": "yJDMH_UvTuq4"
      },
      "outputs": [],
      "source": [
        "def data_encoding_circuit(qubits,rotations):\n",
        "  \n",
        "  circuit =  cirq.Circuit()\n",
        "  for i,q in enumerate(qubits):\n",
        "    circuit += cirq.ry(rotations[i])(q)\n",
        "  return circuit,rotations"
      ]
    },
    {
      "cell_type": "code",
      "execution_count": null,
      "metadata": {
        "id": "HFXKdxDkOZWS"
      },
      "outputs": [],
      "source": [
        "class SwapTestLayer(tf.keras.layers.Layer):\n",
        "  def __init__(self,d_encoding_circuit,g_encoding_circuit,swap_test_circuit,swap_test_symbol_values,operators,use_sampled=False,name='Swap_Test_Layer'):\n",
        "    super(SwapTestLayer,self).__init__(name=name)\n",
        "    self.data_encoding_circuit_ = data_encoding_circuit\n",
        "    self.data_encoding_circuit,self.real_input_symbols = d_encoding_circuit\n",
        "    self.gen_encoding_circuit,self.gen_input_symbols = g_encoding_circuit\n",
        "    self.fidelity_circuit,self.param_symbols = swap_test_circuit\n",
        "    self.param_symbols_values = swap_test_symbol_values\n",
        "    self.operators = operators\n",
        "    self.use_sampled = use_sampled\n",
        "    self.main_name = name\n",
        "   \n",
        "  def get_config(self):\n",
        "    config = super().get_config().copy()\n",
        "    config.update({\n",
        "        'name':self.main_name,\n",
        "        'param_symbol_names':np.reshape(self.param_symbols,(-1,2))\n",
        "    })\n",
        "    return config\n",
        "  \n",
        "  def build(self,input_shape):\n",
        "    self.parameters = tf.Variable(self.param_symbols_values,\n",
        "                                  trainable=True,\n",
        "                                  dtype = tf.dtypes.float32)\n",
        "    self.full_circuit = tfq.layers.AddCircuit()(self.data_encoding_circuit,append=self.fidelity_circuit)\n",
        "    self.full_circuit = tfq.layers.AddCircuit()(self.gen_encoding_circuit,append=self.full_circuit)\n",
        "    self.symbol_names = tfq.util.get_circuit_symbols(tfq.from_tensor(self.full_circuit)[0])\n",
        "    \n",
        "  def call(self,inputs):\n",
        "    real_data_inputs = inputs[0]\n",
        "    generated_data_inputs = inputs[1]\n",
        "    batch_size = tf.shape(real_data_inputs)[0]\n",
        "    full_circuit_batch = tf.repeat(self.full_circuit,repeats=batch_size,name=self.main_name+'-tiled_fidelity_circuits') \n",
        "    tiled_parameters = tf.tile(tf.expand_dims(self.parameters,0),multiples=[batch_size,1])\n",
        "    joined_parameters = tf.concat([real_data_inputs,generated_data_inputs],axis=-1)\n",
        "    joined_parameters = tf.concat([joined_parameters,tiled_parameters],axis=-1)\n",
        "    # q_overlap = tf.function(quantum_overlap)\n",
        "    # overlap = quantum_overlap(self.data_encoding_circuit_,tf.reduce_mean(real_data_inputs,axis=0),tf.reduce_mean(generated_data_inputs,axis=0))\n",
        "    if not self.use_sampled:\n",
        "      return tfq.layers.Expectation()(full_circuit_batch,\n",
        "                                      symbol_names=self.symbol_names,\n",
        "                                      operators=self.operators,\n",
        "                                      symbol_values=joined_parameters)  #,overlap\n",
        "    else:\n",
        "      return tfq.layers.SampledExpectation()(full_circuit_batch,\n",
        "                                      symbol_names=self.symbol_names,\n",
        "                                      operators=self.operators,\n",
        "                                      symbol_values=joined_parameters,\n",
        "                                      repetitions=1000)                #,overlap"
      ]
    },
    {
      "cell_type": "code",
      "execution_count": null,
      "metadata": {
        "id": "xnRgu-0pEu5U"
      },
      "outputs": [],
      "source": [
        "def create_discriminator(real_data_inputs,gen_data_inputs,layers,filters,filter_size,stride,fidelity_test_params,optimizer,use_sampled=False,backend=None,name='Discriminator'):\n",
        "  d_qubits = cirq.GridQubit.rect(1,8)\n",
        "  data_qubits = d_qubits[:4]\n",
        "  generator_qubits = d_qubits[4:]\n",
        "  # normalized_conv_output_gen = tf.keras.Input(shape=(len(generator_qubits),),dtype=tf.dtypes.float32)    #generated data\n",
        "  input_symbols = sp.symbols('i_:'+str(len(d_qubits)))\n",
        "  swap_test_symbols = sp.symbols('x_:'+str(len(d_qubits)/2)+'_:'+str(2))\n",
        "  normalized_conv_output_gen = generate_data_improved(gen_data_inputs,layers=layers,filters=filters,filter_shape=filter_size,stride=stride,c_id='gen')\n",
        "  normalized_conv_output_real = generate_data_improved(real_data_inputs,layers=layers,filters=filters,filter_shape=filter_size,stride=stride,c_id='real')\n",
        "  fidelity_test = SwapTestLayer(\n",
        "                                d_encoding_circuit=data_encoding_circuit(qubits=data_qubits,rotations=input_symbols[:len(data_qubits)]),\n",
        "                                g_encoding_circuit=data_encoding_circuit(qubits=generator_qubits,rotations=input_symbols[len(generator_qubits):]),\n",
        "                                swap_test_circuit=variational_swap_test_circuit(qubits_a=data_qubits,qubits_b=generator_qubits,rotations=swap_test_symbols),\n",
        "                                swap_test_symbol_values=fidelity_test_params,\n",
        "                                operators=swap_test_op(data_qubits,generator_qubits) )\n",
        "  expectation_gen = fidelity_test([normalized_conv_output_real,normalized_conv_output_gen])   #,gen_overlap\n",
        "  # expectation_real = fidelity_test(normalized_conv_output_real,normalized_conv_output_real)  #,real_overlap\n",
        "  expectation_gen = tf.add(expectation_gen,tf.constant(0.000001)) #regularization\n",
        "  log_disc_dist = tf.math.log(tf.keras.backend.flatten(expectation_gen))\n",
        "  # log_real_dist = tf.math.log(tf.keras.backend.flatten(expectation_real))\n",
        "  final_output = -log_disc_dist\n",
        "\n",
        "  discriminator_model = tf.keras.Model(inputs=[real_data_inputs,gen_data_inputs],outputs=[final_output],name=name)    #expectation_gen,expectation_real,\n",
        "  disc_optimizer = optimizer(learning_rate=0.0001)  \n",
        "  disc_loss = lambda x,y: -tf.reduce_mean(y)\n",
        "  discriminator_model.compile(optimizer=disc_optimizer,loss=disc_loss)  #,loss_weights=[0,0,1]\n",
        "\n",
        "  return discriminator_model      #,normalized_conv_output_gen,normalized_conv_output_real"
      ]
    },
    {
      "cell_type": "code",
      "execution_count": null,
      "metadata": {
        "id": "zdh8SumDA7uY"
      },
      "outputs": [],
      "source": [
        "real_data_inputs = tf.keras.Input(shape=(X_e_0.shape[1], X_e_0.shape[2], ),dtype=tf.dtypes.float32,name='Input_layer_real')\n",
        "gen_data_inputs = tf.keras.Input(shape=(X_e_0.shape[1], X_e_0.shape[2], ),dtype=tf.dtypes.float32,name='Input_layer_generated')\n",
        "# disc_layers = 2\n",
        "# disc_filter_size = [4,3,2]\n",
        "# disc_stride = [1,1,1]\n",
        "#######    #for improved\n",
        "disc_layers = [2,2]\n",
        "disc_filters = [1,1]\n",
        "disc_filter_shape = [(3,3),(2,2)]  \n",
        "disc_stride = [(2,2),(2,2)]\n",
        "#######\n",
        "discriminator_model = create_discriminator(                        #,gen_data,real_data \n",
        "    real_data_inputs=real_data_inputs,\n",
        "    gen_data_inputs=gen_data_inputs,\n",
        "    layers=disc_layers,\n",
        "    filters=disc_filters,\n",
        "    filter_size=disc_filter_shape,\n",
        "    stride=disc_stride,\n",
        "    fidelity_test_params= np.ndarray.flatten(np.array([0.5 , 1.0] * 4)),\n",
        "    optimizer=tf.keras.optimizers.Adam,\n",
        "    use_sampled=False,\n",
        "    backend=None,name='Discriminator_Model')"
      ]
    },
    {
      "cell_type": "code",
      "execution_count": null,
      "metadata": {
        "colab": {
          "base_uri": "https://localhost:8080/"
        },
        "id": "3KCFNQ4CDCFu",
        "outputId": "4dff1303-57d7-4b25-a57a-7fbb88e5c766"
      },
      "outputs": [
        {
          "output_type": "execute_result",
          "data": {
            "text/plain": [
              "(8,)"
            ]
          },
          "metadata": {},
          "execution_count": 25
        }
      ],
      "source": [
        "np.ndarray.flatten(np.array([0.5 , 1.0] * 4)).shape"
      ]
    },
    {
      "cell_type": "code",
      "execution_count": null,
      "metadata": {
        "colab": {
          "base_uri": "https://localhost:8080/"
        },
        "id": "IaPLN70-SoeY",
        "outputId": "6d59f285-e63c-4d01-d651-3cde586e98bc"
      },
      "outputs": [
        {
          "output_type": "stream",
          "name": "stdout",
          "text": [
            "Model: \"Discriminator_Model\"\n",
            "__________________________________________________________________________________________________\n",
            " Layer (type)                   Output Shape         Param #     Connected to                     \n",
            "==================================================================================================\n",
            " Input_layer_real (InputLayer)  [(None, 8, 8)]       0           []                               \n",
            "                                                                                                  \n",
            " Input_layer_generated (InputLa  [(None, 8, 8)]      0           []                               \n",
            " yer)                                                                                             \n",
            "                                                                                                  \n",
            " Quantum_Convolutional_Layer_wi  (None, 4, 4, 1)     864         ['Input_layer_real[0][0]']       \n",
            " th_padding1real (QConv2D_layer                                                                   \n",
            " )                                                                                                \n",
            "                                                                                                  \n",
            " Quantum_Convolutional_Layer_wi  (None, 4, 4, 1)     864         ['Input_layer_generated[0][0]']  \n",
            " th_padding1gen (QConv2D_layer)                                                                   \n",
            "                                                                                                  \n",
            " Quantum_Convolutional_Layer_wi  (None, 2, 2, 1)     96          ['Quantum_Convolutional_Layer_wit\n",
            " th_padding2real (QConv2D_layer                                  h_padding1real[0][0]']           \n",
            " )                                                                                                \n",
            "                                                                                                  \n",
            " Quantum_Convolutional_Layer_wi  (None, 2, 2, 1)     96          ['Quantum_Convolutional_Layer_wit\n",
            " th_padding2gen (QConv2D_layer)                                  h_padding1gen[0][0]']            \n",
            "                                                                                                  \n",
            " Intermediate_output_layer_real  (None, 4)           0           ['Quantum_Convolutional_Layer_wit\n",
            "  (Flatten)                                                      h_padding2real[0][0]']           \n",
            "                                                                                                  \n",
            " Intermediate_output_layer_gen   (None, 4)           0           ['Quantum_Convolutional_Layer_wit\n",
            " (Flatten)                                                       h_padding2gen[0][0]']            \n",
            "                                                                                                  \n",
            " Swap_Test_Layer (SwapTestLayer  (None, 1)           8           ['Intermediate_output_layer_real[\n",
            " )                                                               0][0]',                          \n",
            "                                                                  'Intermediate_output_layer_gen[0\n",
            "                                                                 ][0]']                           \n",
            "                                                                                                  \n",
            " tf.math.add (TFOpLambda)       (None, 1)            0           ['Swap_Test_Layer[0][0]']        \n",
            "                                                                                                  \n",
            " tf.reshape (TFOpLambda)        (None,)              0           ['tf.math.add[0][0]']            \n",
            "                                                                                                  \n",
            " tf.math.log (TFOpLambda)       (None,)              0           ['tf.reshape[0][0]']             \n",
            "                                                                                                  \n",
            " tf.math.negative (TFOpLambda)  (None,)              0           ['tf.math.log[0][0]']            \n",
            "                                                                                                  \n",
            "==================================================================================================\n",
            "Total params: 1,928\n",
            "Trainable params: 1,928\n",
            "Non-trainable params: 0\n",
            "__________________________________________________________________________________________________\n"
          ]
        }
      ],
      "source": [
        "discriminator_model.summary()"
      ]
    },
    {
      "cell_type": "code",
      "execution_count": null,
      "metadata": {
        "id": "BeW_PrUYQWnA"
      },
      "outputs": [],
      "source": [
        "def create_generator(real_data_inputs,gen_data_inputs,layers,filters,filter_size,stride,fidelity_test_params,optimizer,use_sampled=False,backend=None,name='Generator'):\n",
        "  g_qubits = cirq.GridQubit.rect(1,8)\n",
        "  data_qubits = g_qubits[:4]\n",
        "  generator_qubits = g_qubits[4:]\n",
        "  normalized_conv_output_real = tf.keras.Input(shape=(len(generator_qubits),),dtype=tf.dtypes.float32) \n",
        "  input_symbols = sp.symbols('i_:'+str(len(g_qubits)))\n",
        "  swap_test_symbols = sp.symbols('x_:'+str(len(g_qubits)/2)+'_:'+str(2))\n",
        "  normalized_conv_output_gen = generate_data_improved(gen_data_inputs,layers=layers,filters=filters,filter_shape=filter_size,stride=stride,c_id='gen')\n",
        "  normalized_conv_output_real = generate_data_improved(real_data_inputs,layers=layers,filters=filters,filter_shape=filter_size,stride=stride,c_id='real')\n",
        "  fidelity_test = SwapTestLayer(\n",
        "                                d_encoding_circuit=data_encoding_circuit(qubits=data_qubits,rotations=input_symbols[:len(data_qubits)]),\n",
        "                                g_encoding_circuit=data_encoding_circuit(qubits=generator_qubits,rotations=input_symbols[len(generator_qubits):]),\n",
        "                                swap_test_circuit=variational_swap_test_circuit(qubits_a=data_qubits,qubits_b=generator_qubits,rotations=swap_test_symbols),\n",
        "                                swap_test_symbol_values=fidelity_test_params,\n",
        "                                operators=swap_test_op(data_qubits,generator_qubits) )\n",
        "  expectation_gen = fidelity_test([normalized_conv_output_real,normalized_conv_output_gen])\n",
        "  expectation_gen = tf.add(expectation_gen,tf.constant(0.000001))\n",
        "  log_gen_dist = tf.math.log(tf.keras.backend.flatten(expectation_gen))\n",
        "  generator_model = tf.keras.Model(inputs=[real_data_inputs,gen_data_inputs],outputs=[expectation_gen,log_gen_dist],name=name)\n",
        "  gen_optimizer = optimizer(learning_rate=0.0001)  \n",
        "  gen_loss = lambda x,y: tf.reduce_mean(y)\n",
        "  generator_model.compile(optimizer=gen_optimizer,loss=gen_loss,loss_weights=[0,1])\n",
        "\n",
        "  return generator_model"
      ]
    },
    {
      "cell_type": "code",
      "execution_count": null,
      "metadata": {
        "id": "6S_BkEILqbC1"
      },
      "outputs": [],
      "source": [
        "real_data_inputs = tf.keras.Input(shape=(X_e_0.shape[1], X_e_0.shape[2], ),dtype=tf.dtypes.float32,name='Input_layer_real')\n",
        "gen_data_inputs = tf.keras.Input(shape=(X_e_0.shape[1], X_e_0.shape[2], ),dtype=tf.dtypes.float32,name='Input_layer_generated')\n",
        "# gen_layers = 2\n",
        "# gen_filter_size = [4,3,2]\n",
        "# gen_stride = [1,1,1]\n",
        "######\n",
        "gen_layers = [2,2]\n",
        "gen_filters = [1,1]\n",
        "gen_filter_shape = [(3,3),(2,2)]  \n",
        "gen_stride = [(2,2),(2,2)]\n",
        "######\n",
        "generator_model = create_generator(\n",
        "    real_data_inputs=real_data_inputs,\n",
        "    gen_data_inputs=gen_data_inputs,\n",
        "    layers=gen_layers,\n",
        "    filters=gen_filters,\n",
        "    filter_size=gen_filter_shape,\n",
        "    stride=gen_stride,\n",
        "    fidelity_test_params= np.ndarray.flatten(np.array([0.5 , 1.0] * 4)),\n",
        "    optimizer=tf.keras.optimizers.Adam,\n",
        "    use_sampled=False,\n",
        "    backend=None,name='Generator_Model')"
      ]
    },
    {
      "cell_type": "code",
      "execution_count": null,
      "metadata": {
        "colab": {
          "base_uri": "https://localhost:8080/"
        },
        "id": "NainP8dgrN3b",
        "outputId": "bffcd6de-dd73-49a6-c55a-39ade93aede7"
      },
      "outputs": [
        {
          "output_type": "stream",
          "name": "stdout",
          "text": [
            "Model: \"Generator_Model\"\n",
            "__________________________________________________________________________________________________\n",
            " Layer (type)                   Output Shape         Param #     Connected to                     \n",
            "==================================================================================================\n",
            " Input_layer_real (InputLayer)  [(None, 8, 8)]       0           []                               \n",
            "                                                                                                  \n",
            " Input_layer_generated (InputLa  [(None, 8, 8)]      0           []                               \n",
            " yer)                                                                                             \n",
            "                                                                                                  \n",
            " Quantum_Convolutional_Layer_wi  (None, 4, 4, 1)     864         ['Input_layer_real[0][0]']       \n",
            " th_padding1real (QConv2D_layer                                                                   \n",
            " )                                                                                                \n",
            "                                                                                                  \n",
            " Quantum_Convolutional_Layer_wi  (None, 4, 4, 1)     864         ['Input_layer_generated[0][0]']  \n",
            " th_padding1gen (QConv2D_layer)                                                                   \n",
            "                                                                                                  \n",
            " Quantum_Convolutional_Layer_wi  (None, 2, 2, 1)     96          ['Quantum_Convolutional_Layer_wit\n",
            " th_padding2real (QConv2D_layer                                  h_padding1real[0][0]']           \n",
            " )                                                                                                \n",
            "                                                                                                  \n",
            " Quantum_Convolutional_Layer_wi  (None, 2, 2, 1)     96          ['Quantum_Convolutional_Layer_wit\n",
            " th_padding2gen (QConv2D_layer)                                  h_padding1gen[0][0]']            \n",
            "                                                                                                  \n",
            " Intermediate_output_layer_real  (None, 4)           0           ['Quantum_Convolutional_Layer_wit\n",
            "  (Flatten)                                                      h_padding2real[0][0]']           \n",
            "                                                                                                  \n",
            " Intermediate_output_layer_gen   (None, 4)           0           ['Quantum_Convolutional_Layer_wit\n",
            " (Flatten)                                                       h_padding2gen[0][0]']            \n",
            "                                                                                                  \n",
            " Swap_Test_Layer (SwapTestLayer  (None, 1)           8           ['Intermediate_output_layer_real[\n",
            " )                                                               0][0]',                          \n",
            "                                                                  'Intermediate_output_layer_gen[0\n",
            "                                                                 ][0]']                           \n",
            "                                                                                                  \n",
            " tf.math.add_1 (TFOpLambda)     (None, 1)            0           ['Swap_Test_Layer[0][0]']        \n",
            "                                                                                                  \n",
            " tf.reshape_1 (TFOpLambda)      (None,)              0           ['tf.math.add_1[0][0]']          \n",
            "                                                                                                  \n",
            " tf.math.log_1 (TFOpLambda)     (None,)              0           ['tf.reshape_1[0][0]']           \n",
            "                                                                                                  \n",
            "==================================================================================================\n",
            "Total params: 1,928\n",
            "Trainable params: 1,928\n",
            "Non-trainable params: 0\n",
            "__________________________________________________________________________________________________\n"
          ]
        }
      ],
      "source": [
        "generator_model.summary()"
      ]
    },
    {
      "cell_type": "code",
      "execution_count": null,
      "metadata": {
        "colab": {
          "base_uri": "https://localhost:8080/"
        },
        "id": "d43X26Gj23IU",
        "outputId": "c32bbd81-3f20-4f54-d3c9-4cde43eef67b"
      },
      "outputs": [
        {
          "output_type": "execute_result",
          "data": {
            "text/plain": [
              "[<KerasTensor: shape=(None, 4) dtype=float32 (created by layer 'Intermediate_output_layer_real')>,\n",
              " <KerasTensor: shape=(None, 4) dtype=float32 (created by layer 'Intermediate_output_layer_gen')>]"
            ]
          },
          "metadata": {},
          "execution_count": 54
        }
      ],
      "source": [
        "# generator_model.trainable_variables\n",
        "generator_model.get_layer('Swap_Test_Layer').input\n",
        "# generator_model.get_input_at('Batch_Normalization_real')"
      ]
    },
    {
      "cell_type": "code",
      "execution_count": null,
      "metadata": {
        "id": "SDYRlwbJ40na"
      },
      "outputs": [],
      "source": [
        "def quantum_state_overlap(generator_model_,real_data,random_data):\n",
        "  # intermediate_output_gen = generator_model_.get_layer('Intermediate_output_layer_gen').output\n",
        "  intermediate_output_gen = generator_model_.get_layer('Swap_Test_Layer').input[1]\n",
        "  # intermediate_output_real = generator_model_.get_layer('Intermediate_output_layer_real').output\n",
        "  intermediate_output_real = generator_model_.get_layer('Swap_Test_Layer').input[0]\n",
        "  generator_model_1 = tf.keras.models.Model(inputs=[generator_model_.input],outputs=[intermediate_output_real,intermediate_output_gen])\n",
        "  random_data_samples = generator_model_1.predict([real_data,random_data])\n",
        "  rotations_r = sp.symbols('real_x_:'+str(intermediate_output_real.shape[1]))\n",
        "  rotations_g = sp.symbols('gen_x_:'+str(intermediate_output_gen.shape[1]))\n",
        "  circuit1 =  cirq.Circuit()\n",
        "  circuit2 = cirq.Circuit()\n",
        "  qubits1 = cirq.GridQubit.rect(1,4)\n",
        "  qubits2 = cirq.GridQubit.rect(1,4)\n",
        "  for i,q in enumerate(qubits1):\n",
        "    circuit1 += cirq.ry(rotations_r[i])(q)\n",
        "  for i,q in enumerate(qubits2):\n",
        "    circuit2 += cirq.ry(rotations_g[i])(q)\n",
        "  # real_state = tfq.layers.State()(circuit1,symbol_names=rotations_r,symbol_values=tf.reshape(tf.reduce_mean(random_data_samples[0],axis=0),(1,random_data_samples[0].shape[1])))\n",
        "  real_state = tfq.layers.State()(circuit1,symbol_names=rotations_r,symbol_values=np.mean(random_data_samples[0],axis=0).reshape(1,len(random_data_samples[0][0])))\n",
        "  real_state = real_state.to_tensor(default_value=0).numpy()\n",
        "  # gen_state = tfq.layers.State()(circuit2,symbol_names=rotations_g,symbol_values=tf.reshape(tf.reduce_mean(random_data_samples[1],axis=0),(1,random_data_samples[1].shape[1])))\n",
        "  gen_state = tfq.layers.State()(circuit2,symbol_names=rotations_g,symbol_values=np.mean(random_data_samples[1],axis=0).reshape(1,len(random_data_samples[0][0])))\n",
        "  gen_state = gen_state.to_tensor(default_value=0).numpy()\n",
        "  # gen_state = tf.reshape(gen_state.to_tensor(default_value=0),(random_data_samples[1].shape[1],1))\n",
        "  # state_overlap = tf.tensordot(real_state,gen_state,1)\n",
        "  state_overlap = np.dot(real_state[0],gen_state[0])\n",
        "  return state_overlap"
      ]
    },
    {
      "cell_type": "code",
      "execution_count": null,
      "metadata": {
        "colab": {
          "base_uri": "https://localhost:8080/"
        },
        "id": "Zs62oPXGPw34",
        "outputId": "2e571455-413f-4aaa-f2a4-fcf48b1646e5"
      },
      "outputs": [
        {
          "name": "stdout",
          "output_type": "stream",
          "text": [
            "tf.Tensor([[1 2 3 4]], shape=(1, 4), dtype=int32)\n"
          ]
        }
      ],
      "source": [
        "r = tf.ragged.constant([[1,2,3,4]])\n",
        "r.shape\n",
        "print(r.to_tensor(default_value=0))"
      ]
    },
    {
      "cell_type": "code",
      "source": [
        "class EntangledQGAN():\n",
        "  def __init__(self, filters,filter_size,stride,layers,\n",
        "               generator_model, discriminator_model, fidelity_test_params=None,\n",
        "               use_sampled=False,backend=None,name='QGAN_Model'):\n",
        "    self.layers = layers\n",
        "    self.filters = filters\n",
        "    self.filter_size = filter_size\n",
        "    self.stride = stride\n",
        "    self.d_loss = []\n",
        "    self.g_loss = []\n",
        "    self.param_history = []\n",
        "    self.state_overlap_l = []\n",
        "    self.generator_model = generator_model\n",
        "    self.discriminator_model = discriminator_model\n",
        "    self.use_sampled = use_sampled\n",
        "  \n",
        "  def train(self,real_data_inputs, generator_data_inputs, batch_size, g_epochs, d_epochs, n_episodes):\n",
        "    real_data = tf.keras.Input(shape=(real_data_inputs.shape[1], real_data_inputs.shape[2], ),dtype=tf.dtypes.float32,name='Input_layer_real')\n",
        "    gen_data = tf.keras.Input(shape=(generator_data_inputs.shape[1], generator_data_inputs.shape[2], ),dtype=tf.dtypes.float32,name='Input_layer_generated')\n",
        "    for episode in range(n_episodes):\n",
        "      self.param_history.append(discriminator_model.get_layer('Swap_Test_Layer').get_weights())\n",
        "      d_history = discriminator_model.fit(x=[real_data_inputs,gen_data_inputs],\n",
        "                                          y=[tf.zeros_like(real_data_inputs,dtype=tf.dtypes.float32),\n",
        "                                             tf.zeros_like(real_data_inputs,dtype=tf.dtypes.float32),\n",
        "                                             tf.zeros_like(real_data_inputs,dtype=tf.dtypes.float32)],\n",
        "                                             epochs=d_epochs,batch_size=batch_size,verbose=0)\n",
        "      self.d_loss.append(d_history.history['loss'])\n",
        "      updated_fidelity_test_params = np.array(discriminator_model.get_layer('Swap_Test_Layer').get_weights())\n",
        "      self.generator_model.get_layer('Swap_Test_Layer').set_weights(np.reshape(updated_fidelity_test_params,(-1,8)))\n",
        "\n",
        "      g_history = generator_model.fit(x=[real_data_inputs,gen_data_inputs],\n",
        "                                      y=[tf.zeros_like(real_data_inputs,dtype=tf.dtypes.float32),\n",
        "                                        tf.zeros_like(real_data_inputs,dtype=tf.dtypes.float32)],\n",
        "                                        epochs=g_epochs,batch_size=batch_size,verbose=0)\n",
        "      self.g_loss.append(g_history.history['loss'])\n",
        "\n",
        "      state_overlap = quantum_state_overlap(self.generator_model,real_data_inputs,generator_data_inputs)\n",
        "      self.state_overlap_l += [state_overlap]\n",
        "      print(f'Step = {episode}:')\n",
        "      print(f'discriminator_loss={self.d_loss[-1]}')\n",
        "      print(f'generator_loss={self.g_loss[-1]}')\n",
        "      print(f'overlap={self.state_overlap}')\n",
        "      print('-'*50) \n",
        "\n",
        "    return self.g_loss,self.d_loss,self.param_history,self.state_overlap_l   \n",
        "\n",
        "  def create_images(self,generator_model_,real_data,random_data):\n",
        "    intermediate_output = self.generator_model.get_layer('Quantum_Convolutional_Layer_with_padding2gen').output\n",
        "    generator_model_1 = tf.keras.models.Model(inputs=[self.generator_model_.input],outputs=[intermediate_output])\n",
        "    print(\"Generating samples\")\n",
        "    samples = generator_model_1.predict([real_data,random_data])\n",
        "    print(\"Applying PCA to real data\")\n",
        "    flattened_real_data = real_data.reshape(-1,real_data.shape[1]*real_data.shape[2])\n",
        "    pca = PCA(n_components=4)\n",
        "    pca.fit(X_flatten)\n",
        "    print(\"Applying inverse PCA to generated samples\")\n",
        "    X_pca_inv_transform = pca.inverse_transform([tf.keras.backend.flatten(samples_) for samples_ in samples])\n",
        "    X_pca_inv_transform = np.reshape(X_pca_inv_transform,real_data.shape)\n",
        "    print(\"Generated Images:\")\n",
        "    fig = plt.figure(figsize=(26,18))\n",
        "    gs = gridspec.GridSpec(ncols=8, nrows=8, figure=fig)\n",
        "    for i in range(8):\n",
        "      ax = plt.subplot(gs[i//4, 4 + i%4])\n",
        "      plt.imshow(X_pca_inv_transform[i])"
      ],
      "metadata": {
        "id": "9CRMXYmtXii2"
      },
      "execution_count": null,
      "outputs": []
    },
    {
      "cell_type": "code",
      "execution_count": null,
      "metadata": {
        "id": "WDRYiUq3r-pN"
      },
      "outputs": [],
      "source": [
        "def qgan_train(real_data_inputs,gen_data_inputs,filters,\n",
        "               filter_size,stride,\n",
        "               batch_size,g_epochs,d_epochs,n_episodes,layers,\n",
        "               use_sampled=False,backend=None,name='QGAN_Model'):\n",
        "  \n",
        "  real_data = tf.keras.Input(shape=(real_data_inputs.shape[1], real_data_inputs.shape[2], ),dtype=tf.dtypes.float32,name='Input_layer_real')\n",
        "  gen_data = tf.keras.Input(shape=(gen_data_inputs.shape[1], gen_data_inputs.shape[2], ),dtype=tf.dtypes.float32,name='Input_layer_generated')\n",
        "  # fidelity_test_params = np.ndarray.flatten(np.array([[0.5 , 1.0]] * 4))\n",
        "  # fidelity_test_params = np.array([0.0]*8)\n",
        "  fidelity_test_params = tf.random.normal([8,])\n",
        "  generator_model = create_generator(real_data_inputs=real_data,\n",
        "                                     gen_data_inputs=gen_data,\n",
        "                                     layers=layers,\n",
        "                                     filters=filters,\n",
        "                                     filter_size=filter_size,\n",
        "                                     stride=stride,\n",
        "                                     fidelity_test_params=fidelity_test_params ,\n",
        "                                     optimizer=tf.keras.optimizers.Adam,\n",
        "                                     use_sampled=False,\n",
        "                                     backend=None,name='Generator_Model')\n",
        "  \n",
        "  discriminator_model = create_discriminator(real_data_inputs=real_data,\n",
        "                                     gen_data_inputs=gen_data,\n",
        "                                     layers=layers,\n",
        "                                     filter_size=filter_size,\n",
        "                                     filters=filters,\n",
        "                                     stride=stride,\n",
        "                                     fidelity_test_params=fidelity_test_params,\n",
        "                                     optimizer=tf.keras.optimizers.Adam,\n",
        "                                     use_sampled=False,\n",
        "                                     backend=None,name='Discriminator_Model')\n",
        "  d_loss = []\n",
        "  g_loss = []\n",
        "  param_history = []\n",
        "  state_overlap_l = []  \n",
        "  for episode in range(n_episodes):\n",
        "    param_history.append(discriminator_model.get_layer('Swap_Test_Layer').get_weights())\n",
        "    d_history = discriminator_model.fit(x=[real_data_inputs,gen_data_inputs],\n",
        "                                        y=[tf.zeros_like(real_data_inputs,dtype=tf.dtypes.float32),\n",
        "                                           tf.zeros_like(real_data_inputs,dtype=tf.dtypes.float32),\n",
        "                                           tf.zeros_like(real_data_inputs,dtype=tf.dtypes.float32)],\n",
        "                                        epochs=d_epochs,batch_size=batch_size,verbose=0)\n",
        "    d_loss.append(d_history.history['loss'])\n",
        "    updated_fidelity_test_params = np.array(discriminator_model.get_layer('Swap_Test_Layer').get_weights())\n",
        "    generator_model.get_layer('Swap_Test_Layer').set_weights(np.reshape(updated_fidelity_test_params,(-1,8)))\n",
        "\n",
        "    g_history = generator_model.fit(x=[real_data_inputs,gen_data_inputs],\n",
        "                                    y=[tf.zeros_like(real_data_inputs,dtype=tf.dtypes.float32),\n",
        "                                      tf.zeros_like(real_data_inputs,dtype=tf.dtypes.float32)],\n",
        "                                    epochs=g_epochs,batch_size=batch_size,verbose=0)\n",
        "    g_loss.append(g_history.history['loss'])\n",
        "\n",
        "    state_overlap = quantum_state_overlap(generator_model,real_data_inputs,gen_data_inputs)\n",
        "    state_overlap_l += [state_overlap]\n",
        "    print(f'Step = {episode}:')\n",
        "    print(f'discriminator_loss={d_loss[-1]}')\n",
        "    print(f'generator_loss={g_loss[-1]}')\n",
        "    print(f'overlap={state_overlap}')\n",
        "    print('-'*50)\n",
        "\n",
        "  return g_loss,d_loss,param_history,state_overlap_l  #,discriminator_model.get_output_at('Swap_Test_Layer').numpy(),generator_model.get_output_at('Swap_Test_Layer').numpy()"
      ]
    },
    {
      "cell_type": "code",
      "execution_count": null,
      "metadata": {
        "colab": {
          "base_uri": "https://localhost:8080/"
        },
        "id": "D-hc3BFu4l0S",
        "outputId": "81797908-4ae8-4228-d181-70134d030f6e"
      },
      "outputs": [
        {
          "output_type": "stream",
          "name": "stdout",
          "text": [
            "tf.Tensor([100   8   8], shape=(3,), dtype=int32)\n"
          ]
        }
      ],
      "source": [
        "z_shape = tf.shape(X_e_0)\n",
        "z = tf.random.normal(z_shape)\n",
        "print(tf.shape(z))"
      ]
    },
    {
      "cell_type": "code",
      "execution_count": null,
      "metadata": {
        "colab": {
          "base_uri": "https://localhost:8080/"
        },
        "id": "7GtnbGWt0tmC",
        "outputId": "15db89c5-876f-4681-dff6-49aa02e92363"
      },
      "outputs": [
        {
          "output_type": "stream",
          "name": "stdout",
          "text": [
            "Model Training Initiated:\n",
            "Step = 0:\n",
            "discriminator_loss=[-0.32625746726989746]\n",
            "generator_loss=[-0.5132628083229065, -0.5156253576278687, -0.5179876089096069, -0.5203539133071899, -0.5227224826812744]\n",
            "overlap=(0.9349516034126282+0j)\n",
            "--------------------------------------------------\n",
            "Step = 1:\n",
            "discriminator_loss=[-0.3283003270626068]\n",
            "generator_loss=[-0.5183403491973877, -0.520693838596344, -0.5230486392974854, -0.5254048705101013, -0.5277643203735352]\n",
            "overlap=(0.9381131529808044+0j)\n",
            "--------------------------------------------------\n",
            "Step = 2:\n",
            "discriminator_loss=[-0.3303511440753937]\n",
            "generator_loss=[-0.5233169794082642, -0.5256615877151489, -0.5280106067657471, -0.5303590297698975, -0.5327135324478149]\n",
            "overlap=(0.9411754608154297+0j)\n",
            "--------------------------------------------------\n",
            "Step = 3:\n",
            "discriminator_loss=[-0.33241331577301025]\n",
            "generator_loss=[-0.528191328048706, -0.5305306911468506, -0.5328733921051025, -0.5352190136909485, -0.5375686883926392]\n",
            "overlap=(0.9441469311714172+0j)\n",
            "--------------------------------------------------\n",
            "Step = 4:\n",
            "discriminator_loss=[-0.3344869315624237]\n",
            "generator_loss=[-0.5329797267913818, -0.5353162884712219, -0.5376541614532471, -0.5399975776672363, -0.542344868183136]\n",
            "overlap=(0.9470296502113342+0j)\n",
            "--------------------------------------------------\n",
            "Step = 5:\n",
            "discriminator_loss=[-0.3365705609321594]\n",
            "generator_loss=[-0.5376871228218079, -0.5400230884552002, -0.5423579812049866, -0.5446979403495789, -0.5470430254936218]\n",
            "overlap=(0.9498296976089478+0j)\n",
            "--------------------------------------------------\n",
            "Step = 6:\n",
            "discriminator_loss=[-0.33866631984710693]\n",
            "generator_loss=[-0.5423231720924377, -0.5446549654006958, -0.5469879508018494, -0.5493238568305969, -0.5516657829284668]\n",
            "overlap=(0.9525484442710876+0j)\n",
            "--------------------------------------------------\n",
            "Step = 7:\n",
            "discriminator_loss=[-0.34077322483062744]\n",
            "generator_loss=[-0.5468841791152954, -0.5492126941680908, -0.5515415668487549, -0.553873598575592, -0.5562110543251038]\n",
            "overlap=(0.9551860094070435+0j)\n",
            "--------------------------------------------------\n",
            "Step = 8:\n",
            "discriminator_loss=[-0.3428933024406433]\n",
            "generator_loss=[-0.551369845867157, -0.5536924600601196, -0.5560156106948853, -0.5583429932594299, -0.5606738924980164]\n",
            "overlap=(0.9577393531799316+0j)\n",
            "--------------------------------------------------\n",
            "Step = 9:\n",
            "discriminator_loss=[-0.34502556920051575]\n",
            "generator_loss=[-0.5557736754417419, -0.5580903887748718, -0.5604090690612793, -0.5627293586730957, -0.5650542378425598]\n",
            "overlap=(0.9602083563804626+0j)\n",
            "--------------------------------------------------\n"
          ]
        }
      ],
      "source": [
        "# filter_size = [4,3,2]\n",
        "# stride = [1,1,1]\n",
        "layers = [2,2]\n",
        "filters = [1,1]\n",
        "filter_size = [(3,3),(2,2)]  \n",
        "stride = [(2,2),(2,2)]\n",
        "batch_size = 20\n",
        "g_epochs = 5\n",
        "d_epochs = 1\n",
        "n_episodes = 10\n",
        "\n",
        "print('Model Training Initiated:')\n",
        "gen_per,disc_per,param_history,state_overlap = qgan_train(X_e_0 , z ,filters=filters, layers=layers,\n",
        "                                            filter_size = filter_size,stride = stride,batch_size = batch_size,\n",
        "                                            g_epochs = g_epochs,d_epochs = d_epochs,n_episodes = n_episodes)"
      ]
    },
    {
      "cell_type": "code",
      "execution_count": null,
      "metadata": {
        "colab": {
          "base_uri": "https://localhost:8080/"
        },
        "id": "Z08O-ILfAAUf",
        "outputId": "f72b75a2-f937-42ae-8c40-a8b0e65c4d56"
      },
      "outputs": [
        {
          "data": {
            "text/plain": [
              "[<tf.Variable 'batch_normalization_2/moving_mean:0' shape=(4,) dtype=float32, numpy=array([0., 0., 0., 0.], dtype=float32)>,\n",
              " <tf.Variable 'batch_normalization_2/moving_variance:0' shape=(4,) dtype=float32, numpy=array([1., 1., 1., 1.], dtype=float32)>,\n",
              " <tf.Variable 'batch_normalization_1/moving_mean:0' shape=(4,) dtype=float32, numpy=array([0., 0., 0., 0.], dtype=float32)>,\n",
              " <tf.Variable 'batch_normalization_1/moving_variance:0' shape=(4,) dtype=float32, numpy=array([1., 1., 1., 1.], dtype=float32)>,\n",
              " <tf.Variable 'Swap_Test_Layer/Variable:0' shape=(8,) dtype=float32, numpy=array([0.5, 1. , 0.5, 1. , 0.5, 1. , 0.5, 1. ], dtype=float32)>]"
            ]
          },
          "execution_count": 56,
          "metadata": {},
          "output_type": "execute_result"
        }
      ],
      "source": [
        "discriminator_model.non_trainable_variables"
      ]
    },
    {
      "cell_type": "code",
      "execution_count": null,
      "metadata": {
        "colab": {
          "base_uri": "https://localhost:8080/"
        },
        "id": "uAgrCSaq8ims",
        "outputId": "890e0ef8-2dd1-45b0-d6da-b0518529d9be"
      },
      "outputs": [
        {
          "data": {
            "text/plain": [
              "[<KerasTensor: shape=(None, 1) dtype=float32 (created by layer 'tf.math.add')>,\n",
              " <KerasTensor: shape=(None, 1) dtype=float32 (created by layer 'Swap_Test_Layer')>,\n",
              " <KerasTensor: shape=(None,) dtype=float32 (created by layer 'tf.math.negative')>]"
            ]
          },
          "execution_count": 57,
          "metadata": {},
          "output_type": "execute_result"
        }
      ],
      "source": [
        "discriminator_model.outputs   #get_output_at('BatchNormalization')"
      ]
    },
    {
      "cell_type": "code",
      "execution_count": null,
      "metadata": {
        "colab": {
          "base_uri": "https://localhost:8080/"
        },
        "id": "oERlrq2qMfxE",
        "outputId": "cf85024c-ded7-4e96-dffb-50043223ca87"
      },
      "outputs": [
        {
          "name": "stdout",
          "output_type": "stream",
          "text": [
            "[-2.16324854 -2.16326189 -2.16328502 -2.16330576 -2.16332173 -2.16334033\n",
            " -2.16335821 -2.16336775 -2.16337657 -2.16338658 -2.16339922 -2.16340518\n",
            " -2.16340995 -2.16341519 -2.16342163 -2.16342688 -2.16343045 -2.16343212\n",
            " -2.16343546 -2.16343904 -2.16344213 -2.16344452 -2.16344523 -2.1634469\n",
            " -2.16344929 -2.16345096 -2.16345072 -2.16345215 -2.16345286 -2.16345549\n",
            " -2.16345644 -2.16345668 -2.16345692 -2.16345716 -2.16345811 -2.16345835\n",
            " -2.16346049 -2.1634593  -2.16346097 -2.16346073 -2.16346097 -2.16346121\n",
            " -2.16346216 -2.16346216 -2.16346216 -2.16346288 -2.16346359 -2.16346359\n",
            " -2.16346407 -2.16346407]\n",
            "[-2.16022873 -2.16046166 -2.16075373 -2.16097641 -2.16117501 -2.16137671\n",
            " -2.1615665  -2.16173148 -2.16187215 -2.16200066 -2.16212249 -2.16223764\n",
            " -2.16234183 -2.16243029 -2.16250873 -2.16258097 -2.16264987 -2.162714\n",
            " -2.16276884 -2.16281915 -2.16286278 -2.16290402 -2.16294217 -2.16297793\n",
            " -2.16300917 -2.16303682 -2.16306162 -2.16308594 -2.16310835 -2.16312909\n",
            " -2.16314626 -2.16316342 -2.16317892 -2.16319227 -2.1632061  -2.16321945\n",
            " -2.16323161 -2.16324019 -2.16325116 -2.16325927 -2.16326857 -2.16327691\n",
            " -2.16328382 -2.16329074 -2.16329694 -2.1633029  -2.16330862 -2.16331387\n",
            " -2.16331911 -2.16332388]\n"
          ]
        }
      ],
      "source": [
        "print(np.ndarray.flatten(np.array(gen_per)))\n",
        "print(np.ndarray.flatten(np.array(disc_per)))\n",
        "gen_per = np.ndarray.flatten(np.array(gen_per))\n",
        "disc_per = np.ndarray.flatten(np.array(disc_per))"
      ]
    },
    {
      "cell_type": "code",
      "execution_count": null,
      "metadata": {
        "id": "rq0Fot9iu3ew"
      },
      "outputs": [],
      "source": [
        "import matplotlib.gridspec as gridspec\n",
        "\n",
        "def plot_loss(gen_loss,disc_loss,epochs):\n",
        "  fig = plt.figure(figsize=(16,9))\n",
        "  gs = gridspec.GridSpec(ncols=8, nrows=8, figure=fig)\n",
        "  epochs = [i for i in range(epochs)]\n",
        "  epoch = epochs[-1]\n",
        "  # plot loss curve\n",
        "  ax_loss = plt.subplot(gs[:,:4])\n",
        "  ax_loss.set_xlim(0, 1.1*epoch)\n",
        "  ax_loss.plot(epochs, np.mean(gen_loss,axis=1), label=\"Generator\")\n",
        "  ax_loss.plot(epochs, np.mean(disc_loss,axis=1), label=\"Discriminator\")\n",
        "  ax_loss.set_xlabel('Epoch', fontsize=20)\n",
        "  ax_loss.set_ylabel('Loss', fontsize=20)\n",
        "  ax_loss.grid(True)\n",
        "  ax_loss.legend(fontsize=15)"
      ]
    },
    {
      "cell_type": "code",
      "execution_count": null,
      "metadata": {
        "id": "LZNtgVLR2eCC"
      },
      "outputs": [],
      "source": [
        "def plot_state_overlap(overlap,epochs):\n",
        "  fig = plt.figure(figsize=(16,9))\n",
        "  gs = gridspec.GridSpec(ncols=8, nrows=8, figure=fig)\n",
        "  epochs = [i for i in range(epochs)]\n",
        "  epoch = epochs[-1]\n",
        "  ax_loss = plt.subplot(gs[:,:4])\n",
        "  ax_loss.set_xlim(0, 1.1*epoch)\n",
        "  ax_loss.plot(epochs, overlap, label=\"State Overlap\")\n",
        "  ax_loss.set_xlabel('Epoch', fontsize=20)\n",
        "  ax_loss.set_ylabel('Overlap', fontsize=20)\n",
        "  ax_loss.grid(True)\n",
        "  ax_loss.legend(fontsize=15)"
      ]
    },
    {
      "cell_type": "code",
      "execution_count": null,
      "metadata": {
        "id": "KQ0qZYYeASo2",
        "colab": {
          "base_uri": "https://localhost:8080/",
          "height": 560
        },
        "outputId": "4b84666e-c2f3-432a-93b9-66971ae593be"
      },
      "outputs": [
        {
          "output_type": "display_data",
          "data": {
            "text/plain": [
              "<Figure size 1152x648 with 1 Axes>"
            ],
            "image/png": "[encoded data removed]"
          },
          "metadata": {
            "needs_background": "light"
          }
        }
      ],
      "source": [
        "plot_loss(gen_loss=gen_per,disc_loss=disc_per,epochs=n_episodes)"
      ]
    },
    {
      "cell_type": "code",
      "execution_count": null,
      "metadata": {
        "id": "YKsOs33440tY",
        "colab": {
          "base_uri": "https://localhost:8080/",
          "height": 596
        },
        "outputId": "42ee8774-5376-4d78-8d82-fbbe58be91aa"
      },
      "outputs": [
        {
          "output_type": "stream",
          "name": "stderr",
          "text": [
            "/usr/local/lib/python3.7/dist-packages/matplotlib/cbook/__init__.py:1317: ComplexWarning: Casting complex values to real discards the imaginary part\n",
            "  return np.asarray(x, float)\n"
          ]
        },
        {
          "output_type": "display_data",
          "data": {
            "text/plain": [
              "<Figure size 1152x648 with 1 Axes>"
            ],
            "image/png": "[encoded data removed]"
          },
          "metadata": {
            "needs_background": "light"
          }
        }
      ],
      "source": [
        "plot_state_overlap(state_overlap,epochs=n_episodes)"
      ]
    },
    {
      "cell_type": "code",
      "execution_count": null,
      "metadata": {
        "id": "iyYcj71F7wOA"
      },
      "outputs": [],
      "source": [
        "def create_images(generator_model_,real_data,random_data):\n",
        "  intermediate_output = generator_model_.get_layer('Swap_Test_Layer').input[1]\n",
        " \n",
        "  generator_model_1 = tf.keras.models.Model(inputs=[generator_model_.input],outputs=[intermediate_output])\n",
        " \n",
        "  random_data_samples = generator_model_1.predict([real_data,random_data])\n",
        " \n",
        "  return random_data_samples"
      ]
    },
    {
      "cell_type": "code",
      "execution_count": null,
      "metadata": {
        "id": "DowhlvAe8tGy"
      },
      "outputs": [],
      "source": [
        "samples = create_images(generator_model,X_e_0,z)"
      ]
    },
    {
      "cell_type": "code",
      "execution_count": null,
      "metadata": {
        "colab": {
          "base_uri": "https://localhost:8080/"
        },
        "id": "S1mx3BJYtiRy",
        "outputId": "a12246b1-91ff-4c96-992e-2ba5b7d2c68b"
      },
      "outputs": [
        {
          "name": "stdout",
          "output_type": "stream",
          "text": [
            "(0.9027532+0j)\n"
          ]
        }
      ],
      "source": [
        "print(samples)"
      ]
    },
    {
      "cell_type": "code",
      "execution_count": null,
      "metadata": {
        "id": "B6VasXq28vzK",
        "colab": {
          "base_uri": "https://localhost:8080/"
        },
        "outputId": "c0c51735-4f42-45de-e931-003bfda46fa7"
      },
      "outputs": [
        {
          "output_type": "execute_result",
          "data": {
            "text/plain": [
              "PCA(n_components=4)"
            ]
          },
          "metadata": {},
          "execution_count": 40
        }
      ],
      "source": [
        "from sklearn.decomposition import PCA\n",
        "X_flatten = X_e_0.reshape(-1,X_e_0.shape[1]*X_e_0.shape[2])\n",
        "pca = PCA(n_components=4)\n",
        "pca.fit(X_flatten)"
      ]
    },
    {
      "cell_type": "code",
      "execution_count": null,
      "metadata": {
        "id": "JeC93SGFDvvn"
      },
      "outputs": [],
      "source": [
        "samples.shape"
      ]
    },
    {
      "cell_type": "code",
      "execution_count": null,
      "metadata": {
        "id": "3g2mJRXw8ypy"
      },
      "outputs": [],
      "source": [
        "X_pca_inv_transform = pca.inverse_transform([tf.keras.backend.flatten(samples_) for samples_ in samples])"
      ]
    },
    {
      "cell_type": "code",
      "execution_count": null,
      "metadata": {
        "id": "0gYHJxPW81Sz",
        "colab": {
          "base_uri": "https://localhost:8080/"
        },
        "outputId": "bb51ced8-7ad2-420e-d429-71f62407089b"
      },
      "outputs": [
        {
          "output_type": "stream",
          "name": "stdout",
          "text": [
            "(100, 8, 8)\n"
          ]
        }
      ],
      "source": [
        "X_pca_inv_transform = np.reshape(X_pca_inv_transform,X_e_0.shape)\n",
        "print(X_pca_inv_transform.shape)"
      ]
    },
    {
      "cell_type": "code",
      "execution_count": null,
      "metadata": {
        "id": "DeG2hbBD84EM",
        "colab": {
          "base_uri": "https://localhost:8080/",
          "height": 283
        },
        "outputId": "433d364a-7078-4892-d4e9-e75599a2eca1"
      },
      "outputs": [
        {
          "output_type": "execute_result",
          "data": {
            "text/plain": [
              "<matplotlib.image.AxesImage at 0x7f7ecaaa4850>"
            ]
          },
          "metadata": {},
          "execution_count": 67
        },
        {
          "output_type": "display_data",
          "data": {
            "text/plain": [
              "<Figure size 432x288 with 1 Axes>"
            ],
            "image/png": "[encoded data removed]"
          },
          "metadata": {
            "needs_background": "light"
          }
        }
      ],
      "source": [
        "plt.imshow(X_pca_inv_transform[6,:,:])"
      ]
    },
    {
      "cell_type": "code",
      "execution_count": null,
      "metadata": {
        "colab": {
          "base_uri": "https://localhost:8080/",
          "height": 283
        },
        "id": "E5nat_zeETpS",
        "outputId": "9a6ba819-3862-43f7-f46a-5f0784c74c00"
      },
      "outputs": [
        {
          "output_type": "execute_result",
          "data": {
            "text/plain": [
              "<matplotlib.image.AxesImage at 0x7f28852e5a90>"
            ]
          },
          "metadata": {},
          "execution_count": 44
        },
        {
          "output_type": "display_data",
          "data": {
            "text/plain": [
              "<Figure size 432x288 with 1 Axes>"
            ],
            "image/png": "[encoded data removed]"
          },
          "metadata": {
            "needs_background": "light"
          }
        }
      ],
      "source": [
        "plt.imshow(X_e_0[6,:,:])"
      ]
    },
    {
      "cell_type": "code",
      "source": [
        "fig = plt.figure(figsize=(26,18))\n",
        "gs = gridspec.GridSpec(ncols=8, nrows=8, figure=fig)\n",
        "for i in range(8):\n",
        "  ax = plt.subplot(gs[i//4, 4 + i%4])\n",
        "  plt.imshow(X_pca_inv_transform[i])"
      ],
      "metadata": {
        "colab": {
          "base_uri": "https://localhost:8080/",
          "height": 277
        },
        "id": "3-NMj2d4B5Wp",
        "outputId": "8d4d9855-675c-462e-9e23-b4e5b91ecb1b"
      },
      "execution_count": null,
      "outputs": [
        {
          "output_type": "display_data",
          "data": {
            "text/plain": [
              "<Figure size 1872x1296 with 8 Axes>"
            ],
            "image/png": "[encoded data removed]"
          },
          "metadata": {
            "needs_background": "light"
          }
        }
      ]
    },
    {
      "cell_type": "code",
      "execution_count": null,
      "metadata": {
        "id": "g9UrNRpDEeLc"
      },
      "outputs": [],
      "source": [
        "def FID(model,images_1,images_2):\n",
        "  images_1 = preprocess_input(images_1)\n",
        "  images_2 = preprocess_input(images_2)\n",
        "  \n",
        "  act1 = model.predict(images_1)\n",
        "  act2 = model.predict(images_2)\n",
        "  mu1, sigma1 = act1.mean(axis=0), cov(act1, rowvar=False)\n",
        "  mu2, sigma2 = act2.mean(axis=0), cov(act2, rowvar=False)\n",
        "  ssdiff = np.sum((mu1-mu2)**2)\n",
        "  covmean = sqrtm(sigma1.dot(sigma2))\n",
        "  if iscomplexobj(covmean):\n",
        "    covmean =covmean.real\n",
        "  \n",
        "  fid = ssdiff + trace(sigma1 + sigma2 - 2.0*covmean)\n",
        "  return fid"
      ]
    },
    {
      "cell_type": "code",
      "execution_count": null,
      "metadata": {
        "id": "jehNhoZCFa-C"
      },
      "outputs": [],
      "source": [
        "def scale_images(images,size):\n",
        "  images_list = []\n",
        "  for image in images:\n",
        "    new_image = resize(image,size,0)\n",
        "    images_list.append(new_image)\n",
        "  return asarray(images_list)"
      ]
    },
    {
      "cell_type": "code",
      "execution_count": null,
      "metadata": {
        "id": "UOwmdUYUFy3w"
      },
      "outputs": [],
      "source": [
        "inc_model = InceptionV3(include_top=False, pooling='avg', input_shape=(299,299,3))"
      ]
    },
    {
      "cell_type": "code",
      "execution_count": null,
      "metadata": {
        "id": "jWTrfAZcFzqw"
      },
      "outputs": [],
      "source": [
        "new_images_e = scale_images(X_e_0[:1000],(299,299,3))\n",
        "new_images_inv = scale_images(X_pca_inv_transform[:1000],(299,299,3))\n",
        "new_images_z = scale_images(z[:1000],(299,299,3))\n",
        "FID(inc_model,new_images_e,new_images_inv)"
      ]
    },
    {
      "cell_type": "code",
      "execution_count": null,
      "metadata": {
        "id": "dZUUoIGrGaZF"
      },
      "outputs": [],
      "source": [
        "                                            "
      ]
    }
  ],
  "metadata": {
    "colab": {
      "collapsed_sections": [],
      "provenance": []
    },
    "gpuClass": "standard",
    "kernelspec": {
      "display_name": "Python 3",
      "name": "python3"
    },
    "language_info": {
      "name": "python"
    }
  },
  "nbformat": 4,
  "nbformat_minor": 0
}