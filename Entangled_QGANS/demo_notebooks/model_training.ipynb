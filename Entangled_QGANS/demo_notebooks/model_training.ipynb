{
  "nbformat": 4,
  "nbformat_minor": 0,
  "metadata": {
    "colab": {
      "provenance": [],
      "collapsed_sections": []
    },
    "kernelspec": {
      "name": "python3",
      "display_name": "Python 3"
    },
    "language_info": {
      "name": "python"
    }
  },
  "cells": [
    {
      "cell_type": "code",
      "execution_count": null,
      "metadata": {
        "colab": {
          "base_uri": "https://localhost:8080/"
        },
        "id": "gJcecNDlTa24",
        "outputId": "92e95f0f-a6d5-4ba9-c45e-2fb33540127d"
      },
      "outputs": [
        {
          "output_type": "stream",
          "name": "stdout",
          "text": [
            "Mounted at /content/gdrive/\n"
          ]
        }
      ],
      "source": [
        "from google.colab import drive\n",
        "\n",
        "drive.mount('/content/gdrive/', force_remount=True)"
      ]
    },
    {
      "cell_type": "code",
      "source": [
        "!git clone https://github.com/Amey-2002/GSoC_2022_QMLHEP"
      ],
      "metadata": {
        "colab": {
          "base_uri": "https://localhost:8080/"
        },
        "id": "voV6XMIQUPRE",
        "outputId": "04817876-a86b-4b96-8e07-8755eee315d9"
      },
      "execution_count": null,
      "outputs": [
        {
          "output_type": "stream",
          "name": "stdout",
          "text": [
            "Cloning into 'GSoC_2022_QMLHEP'...\n",
            "remote: Enumerating objects: 111, done.\u001b[K\n",
            "remote: Counting objects: 100% (111/111), done.\u001b[K\n",
            "remote: Compressing objects: 100% (85/85), done.\u001b[K\n",
            "remote: Total 111 (delta 61), reused 58 (delta 24), pack-reused 0\u001b[K\n",
            "Receiving objects: 100% (111/111), 789.84 KiB | 2.18 MiB/s, done.\n",
            "Resolving deltas: 100% (61/61), done.\n"
          ]
        }
      ]
    },
    {
      "cell_type": "code",
      "source": [
        "!rm -rf GSoC_2022_QMLHEP"
      ],
      "metadata": {
        "id": "B2iMnj-JgUEL"
      },
      "execution_count": null,
      "outputs": []
    },
    {
      "cell_type": "code",
      "source": [
        "from IPython.display import clear_output\n",
        "from google.colab import files\n",
        "files.upload()\n",
        "clear_output()"
      ],
      "metadata": {
        "id": "aLdijgcfrTWj"
      },
      "execution_count": null,
      "outputs": []
    },
    {
      "cell_type": "code",
      "source": [
        "from IPython.display import clear_output\n",
        "from google.colab import files\n",
        "files.upload()\n",
        "clear_output()"
      ],
      "metadata": {
        "id": "eEpsCny-rx4P"
      },
      "execution_count": null,
      "outputs": []
    },
    {
      "cell_type": "code",
      "source": [
        "!pip install tensorflow-quantum==0.6.0 --use-deprecated=legacy-resolver"
      ],
      "metadata": {
        "colab": {
          "base_uri": "https://localhost:8080/"
        },
        "id": "lIC-_5GvsUK8",
        "outputId": "fc62ceb0-a535-4487-f565-4346e680c9c0"
      },
      "execution_count": null,
      "outputs": [
        {
          "output_type": "stream",
          "name": "stdout",
          "text": [
            "Looking in indexes: https://pypi.org/simple, https://us-python.pkg.dev/colab-wheels/public/simple/\n",
            "Requirement already satisfied: tensorflow-quantum==0.6.0 in /usr/local/lib/python3.7/dist-packages (0.6.0)\n",
            "Requirement already satisfied: protobuf==3.17.3 in /usr/local/lib/python3.7/dist-packages (from tensorflow-quantum==0.6.0) (3.17.3)\n",
            "Requirement already satisfied: googleapis-common-protos==1.52.0 in /usr/local/lib/python3.7/dist-packages (from tensorflow-quantum==0.6.0) (1.52.0)\n",
            "Requirement already satisfied: cirq-google>=0.13.1 in /usr/local/lib/python3.7/dist-packages (from tensorflow-quantum==0.6.0) (1.0.0)\n",
            "Requirement already satisfied: google-auth==1.18.0 in /usr/local/lib/python3.7/dist-packages (from tensorflow-quantum==0.6.0) (1.18.0)\n",
            "Requirement already satisfied: sympy==1.8 in /usr/local/lib/python3.7/dist-packages (from tensorflow-quantum==0.6.0) (1.8)\n",
            "Requirement already satisfied: google-api-core==1.21.0 in /usr/local/lib/python3.7/dist-packages (from tensorflow-quantum==0.6.0) (1.21.0)\n",
            "Requirement already satisfied: cirq-core>=0.13.1 in /usr/local/lib/python3.7/dist-packages (from tensorflow-quantum==0.6.0) (1.0.0)\n",
            "Requirement already satisfied: six>=1.9 in /usr/local/lib/python3.7/dist-packages (from protobuf==3.17.3->tensorflow-quantum==0.6.0) (1.15.0)\n",
            "Requirement already satisfied: proto-plus>=1.20.0 in /usr/local/lib/python3.7/dist-packages (from cirq-google>=0.13.1->tensorflow-quantum==0.6.0) (1.22.1)\n",
            "Requirement already satisfied: setuptools>=40.3.0 in /usr/local/lib/python3.7/dist-packages (from google-auth==1.18.0->tensorflow-quantum==0.6.0) (57.4.0)\n",
            "Requirement already satisfied: pyasn1-modules>=0.2.1 in /usr/local/lib/python3.7/dist-packages (from google-auth==1.18.0->tensorflow-quantum==0.6.0) (0.2.8)\n",
            "Requirement already satisfied: cachetools<5.0,>=2.0.0 in /usr/local/lib/python3.7/dist-packages (from google-auth==1.18.0->tensorflow-quantum==0.6.0) (4.2.4)\n",
            "Requirement already satisfied: rsa<5,>=3.1.4; python_version >= \"3\" in /usr/local/lib/python3.7/dist-packages (from google-auth==1.18.0->tensorflow-quantum==0.6.0) (4.9)\n",
            "Requirement already satisfied: mpmath>=0.19 in /usr/local/lib/python3.7/dist-packages (from sympy==1.8->tensorflow-quantum==0.6.0) (1.2.1)\n",
            "Requirement already satisfied: pytz in /usr/local/lib/python3.7/dist-packages (from google-api-core==1.21.0->tensorflow-quantum==0.6.0) (2022.2.1)\n",
            "Requirement already satisfied: requests<3.0.0dev,>=2.18.0 in /usr/local/lib/python3.7/dist-packages (from google-api-core==1.21.0->tensorflow-quantum==0.6.0) (2.23.0)\n",
            "Requirement already satisfied: numpy~=1.16 in /usr/local/lib/python3.7/dist-packages (from cirq-core>=0.13.1->tensorflow-quantum==0.6.0) (1.21.6)\n",
            "Requirement already satisfied: duet~=0.2.7 in /usr/local/lib/python3.7/dist-packages (from cirq-core>=0.13.1->tensorflow-quantum==0.6.0) (0.2.7)\n",
            "Requirement already satisfied: pandas in /usr/local/lib/python3.7/dist-packages (from cirq-core>=0.13.1->tensorflow-quantum==0.6.0) (1.3.5)\n",
            "Requirement already satisfied: sortedcontainers~=2.0 in /usr/local/lib/python3.7/dist-packages (from cirq-core>=0.13.1->tensorflow-quantum==0.6.0) (2.4.0)\n",
            "Requirement already satisfied: backports.cached-property~=1.0.1; python_version < \"3.8\" in /usr/local/lib/python3.7/dist-packages (from cirq-core>=0.13.1->tensorflow-quantum==0.6.0) (1.0.2)\n",
            "Requirement already satisfied: scipy in /usr/local/lib/python3.7/dist-packages (from cirq-core>=0.13.1->tensorflow-quantum==0.6.0) (1.7.3)\n",
            "Requirement already satisfied: tqdm in /usr/local/lib/python3.7/dist-packages (from cirq-core>=0.13.1->tensorflow-quantum==0.6.0) (4.64.1)\n",
            "Requirement already satisfied: typing-extensions in /usr/local/lib/python3.7/dist-packages (from cirq-core>=0.13.1->tensorflow-quantum==0.6.0) (4.1.1)\n",
            "Requirement already satisfied: networkx~=2.4 in /usr/local/lib/python3.7/dist-packages (from cirq-core>=0.13.1->tensorflow-quantum==0.6.0) (2.6.3)\n",
            "Requirement already satisfied: matplotlib~=3.0 in /usr/local/lib/python3.7/dist-packages (from cirq-core>=0.13.1->tensorflow-quantum==0.6.0) (3.2.2)\n",
            "Requirement already satisfied: pyasn1<0.5.0,>=0.4.6 in /usr/local/lib/python3.7/dist-packages (from pyasn1-modules>=0.2.1->google-auth==1.18.0->tensorflow-quantum==0.6.0) (0.4.8)\n",
            "Requirement already satisfied: chardet<4,>=3.0.2 in /usr/local/lib/python3.7/dist-packages (from requests<3.0.0dev,>=2.18.0->google-api-core==1.21.0->tensorflow-quantum==0.6.0) (3.0.4)\n",
            "Requirement already satisfied: idna<3,>=2.5 in /usr/local/lib/python3.7/dist-packages (from requests<3.0.0dev,>=2.18.0->google-api-core==1.21.0->tensorflow-quantum==0.6.0) (2.10)\n",
            "Requirement already satisfied: urllib3!=1.25.0,!=1.25.1,<1.26,>=1.21.1 in /usr/local/lib/python3.7/dist-packages (from requests<3.0.0dev,>=2.18.0->google-api-core==1.21.0->tensorflow-quantum==0.6.0) (1.24.3)\n",
            "Requirement already satisfied: certifi>=2017.4.17 in /usr/local/lib/python3.7/dist-packages (from requests<3.0.0dev,>=2.18.0->google-api-core==1.21.0->tensorflow-quantum==0.6.0) (2022.6.15)\n",
            "Requirement already satisfied: python-dateutil>=2.7.3 in /usr/local/lib/python3.7/dist-packages (from pandas->cirq-core>=0.13.1->tensorflow-quantum==0.6.0) (2.8.2)\n",
            "Requirement already satisfied: kiwisolver>=1.0.1 in /usr/local/lib/python3.7/dist-packages (from matplotlib~=3.0->cirq-core>=0.13.1->tensorflow-quantum==0.6.0) (1.4.4)\n",
            "Requirement already satisfied: pyparsing!=2.0.4,!=2.1.2,!=2.1.6,>=2.0.1 in /usr/local/lib/python3.7/dist-packages (from matplotlib~=3.0->cirq-core>=0.13.1->tensorflow-quantum==0.6.0) (3.0.9)\n",
            "Requirement already satisfied: cycler>=0.10 in /usr/local/lib/python3.7/dist-packages (from matplotlib~=3.0->cirq-core>=0.13.1->tensorflow-quantum==0.6.0) (0.11.0)\n"
          ]
        }
      ]
    },
    {
      "cell_type": "code",
      "source": [
        "%cd /content/GSoC_2022_QMLHEP/"
      ],
      "metadata": {
        "colab": {
          "base_uri": "https://localhost:8080/"
        },
        "id": "GrS9tcV9SRN4",
        "outputId": "226666b3-e1d2-49ab-b7ba-3d58f5da37b1"
      },
      "execution_count": null,
      "outputs": [
        {
          "output_type": "stream",
          "name": "stdout",
          "text": [
            "/content/GSoC_2022_QMLHEP\n"
          ]
        }
      ]
    },
    {
      "cell_type": "markdown",
      "source": [
        "## Getting the imports "
      ],
      "metadata": {
        "id": "_R2jMUaWw2ee"
      }
    },
    {
      "cell_type": "code",
      "source": [
        "import numpy as np\n",
        "import tensorflow as tf\n",
        "from h5py import File as HDF5File\n",
        "from Quantum_Conv2D_layer import QConv2D_layer\n",
        "from Entangled_QGANS import preprocess_utils, demo_circuits, model, swap_test_layer, frechet_inception_distance\n",
        "%matplotlib inline\n",
        "import matplotlib.pyplot as plt"
      ],
      "metadata": {
        "id": "7WZea5Lda1z2"
      },
      "execution_count": null,
      "outputs": []
    },
    {
      "cell_type": "markdown",
      "source": [
        "## Fetching and Preprocessing the dataset"
      ],
      "metadata": {
        "id": "qbFZeVpGxDM2"
      }
    },
    {
      "cell_type": "code",
      "source": [
        "electron_datafile = '/content/gdrive/MyDrive//electron.hdf5'\n",
        "photon_datafile = '/content/gdrive/MyDrive//photon.hdf5'"
      ],
      "metadata": {
        "id": "mAph_y04whCs"
      },
      "execution_count": null,
      "outputs": []
    },
    {
      "cell_type": "code",
      "source": [
        "electron_data = HDF5File(electron_datafile, 'r')\n",
        "photon_data = HDF5File(photon_datafile, 'r')"
      ],
      "metadata": {
        "id": "KcysZkOuhict"
      },
      "execution_count": null,
      "outputs": []
    },
    {
      "cell_type": "code",
      "source": [
        "X_electron = electron_data['X']"
      ],
      "metadata": {
        "id": "p-P8xP4hsn2w"
      },
      "execution_count": null,
      "outputs": []
    },
    {
      "cell_type": "code",
      "source": [
        "X_electron.shape"
      ],
      "metadata": {
        "colab": {
          "base_uri": "https://localhost:8080/"
        },
        "id": "PX6dzxa8syEx",
        "outputId": "9f70a101-68fd-4619-d7d5-eeea4a445336"
      },
      "execution_count": null,
      "outputs": [
        {
          "output_type": "execute_result",
          "data": {
            "text/plain": [
              "(249000, 32, 32, 2)"
            ]
          },
          "metadata": {},
          "execution_count": 10
        }
      ]
    },
    {
      "cell_type": "code",
      "source": [
        "plt.imshow(X_electron[0,:,:,0])"
      ],
      "metadata": {
        "colab": {
          "base_uri": "https://localhost:8080/",
          "height": 284
        },
        "id": "PqerKs9Qsp8A",
        "outputId": "dd5a7682-3d26-40f0-96b7-734e1b015053"
      },
      "execution_count": null,
      "outputs": [
        {
          "output_type": "execute_result",
          "data": {
            "text/plain": [
              "<matplotlib.image.AxesImage at 0x7fd5ac89e210>"
            ]
          },
          "metadata": {},
          "execution_count": 11
        },
        {
          "output_type": "display_data",
          "data": {
            "text/plain": [
              "<Figure size 432x288 with 1 Axes>"
            ],
            "image/png": "[encoded data removed]"
          },
          "metadata": {
            "needs_background": "light"
          }
        }
      ]
    },
    {
      "cell_type": "code",
      "source": [
        "X_electron = electron_data['X'][:,:,:,0]"
      ],
      "metadata": {
        "id": "DFL1NJnowqGF"
      },
      "execution_count": null,
      "outputs": []
    },
    {
      "cell_type": "code",
      "source": [
        "X_electron.shape"
      ],
      "metadata": {
        "colab": {
          "base_uri": "https://localhost:8080/"
        },
        "id": "O5gDbSQktDxJ",
        "outputId": "90b5a22a-c8d8-4500-fe9a-b0ea91c98e6b"
      },
      "execution_count": null,
      "outputs": [
        {
          "output_type": "execute_result",
          "data": {
            "text/plain": [
              "(249000, 32, 32)"
            ]
          },
          "metadata": {},
          "execution_count": 13
        }
      ]
    },
    {
      "cell_type": "code",
      "source": [
        "#preprocess the images(here: crop the images)\n",
        "X_electron = preprocess_utils.crop_images(X_electron,(8,8))\n",
        "X_electron = X_electron[:100]"
      ],
      "metadata": {
        "id": "OHmFIkaztXR3"
      },
      "execution_count": null,
      "outputs": []
    },
    {
      "cell_type": "code",
      "source": [
        "X_electron.shape"
      ],
      "metadata": {
        "colab": {
          "base_uri": "https://localhost:8080/"
        },
        "id": "ovK8mhzWtdHr",
        "outputId": "e11c6a58-7932-4cca-9c0a-594418d374b0"
      },
      "execution_count": null,
      "outputs": [
        {
          "output_type": "execute_result",
          "data": {
            "text/plain": [
              "(100, 8, 8)"
            ]
          },
          "metadata": {},
          "execution_count": 15
        }
      ]
    },
    {
      "cell_type": "code",
      "source": [
        "plt.imshow(X_electron[0])"
      ],
      "metadata": {
        "colab": {
          "base_uri": "https://localhost:8080/",
          "height": 283
        },
        "id": "cbPdk2YsY4l3",
        "outputId": "5798f439-1b18-4fe0-857a-53e6a00c56c9"
      },
      "execution_count": null,
      "outputs": [
        {
          "output_type": "execute_result",
          "data": {
            "text/plain": [
              "<matplotlib.image.AxesImage at 0x7fd5ac389490>"
            ]
          },
          "metadata": {},
          "execution_count": 16
        },
        {
          "output_type": "display_data",
          "data": {
            "text/plain": [
              "<Figure size 432x288 with 1 Axes>"
            ],
            "image/png": "[encoded data removed]"
          },
          "metadata": {
            "needs_background": "light"
          }
        }
      ]
    },
    {
      "cell_type": "markdown",
      "source": [
        "## Creating the Convolutional layers"
      ],
      "metadata": {
        "id": "wFcMgJlUxZHN"
      }
    },
    {
      "cell_type": "code",
      "source": [
        "def generate_data(data_inputs,circuit_layers,filters,filter_shape,stride,c_id=''):\n",
        "\n",
        "  conv_1 = QConv2D_layer(circuit_layers=circuit_layers[0], filter_shape=filter_shape[0],conv_id ='1'+c_id,\n",
        "                      filters=filters[0], stride=stride[0], padding=\"same\", parameter_sharing=False,seed=2021)(data_inputs)\n",
        "  conv_2 = QConv2D_layer(circuit_layers=circuit_layers[1], filter_shape=filter_shape[1],conv_id = '2'+c_id,\n",
        "                      filters=filters[1], stride=stride[1], padding=\"same\", parameter_sharing=False,seed=2022)(conv_1)\n",
        "  conv_output = tf.keras.layers.Flatten(name='Intermediate_output_layer_'+c_id)(conv_2)\n",
        "\n",
        "  return conv_output"
      ],
      "metadata": {
        "id": "F5vO8Lfhxxat"
      },
      "execution_count": null,
      "outputs": []
    },
    {
      "cell_type": "code",
      "source": [
        "def create_discriminator(real_data_inputs,gen_data_inputs,\n",
        "                         circuit_layers,filters,filter_size,stride,\n",
        "                         fidelity_test_params,optimizer,\n",
        "                         use_sampled=False,backend=None,name='Discriminator'):\n",
        "  \n",
        "  conv_output_gen = generate_data(gen_data_inputs,circuit_layers=circuit_layers,filters=filters,filter_shape=filter_size,stride=stride,c_id='gen')\n",
        "  conv_output_real = generate_data(real_data_inputs,circuit_layers=circuit_layers,filters=filters,filter_shape=filter_size,stride=stride,c_id='real')\n",
        "  fidelity_test = swap_test_layer.SwapTestLayer(swap_test_symbol_values=fidelity_test_params)\n",
        "  expectation_gen = fidelity_test([conv_output_real,conv_output_gen])\n",
        "  expectation_gen = tf.add(expectation_gen,tf.constant(0.000001))\n",
        "  log_disc_dist = tf.math.log(tf.keras.backend.flatten(expectation_gen))\n",
        "  final_output = -log_disc_dist\n",
        "  discriminator_model = tf.keras.Model(inputs=[real_data_inputs,gen_data_inputs],outputs=[final_output],name=name)\n",
        "  disc_optimizer = optimizer(learning_rate=0.0001)\n",
        "  disc_loss = lambda x,y: -tf.reduce_mean(y)\n",
        "  discriminator_model.compile(optimizer=disc_optimizer,loss=disc_loss)\n",
        "\n",
        "  return discriminator_model "
      ],
      "metadata": {
        "id": "JEFldUH40Umu"
      },
      "execution_count": null,
      "outputs": []
    },
    {
      "cell_type": "code",
      "source": [
        "def create_generator(real_data_inputs,gen_data_inputs,\n",
        "                         circuit_layers,filters,filter_size,stride,\n",
        "                         fidelity_test_params,optimizer,\n",
        "                         use_sampled=False,backend=None,name='Generator'):\n",
        "  \n",
        "  conv_output_gen = generate_data(gen_data_inputs,circuit_layers=circuit_layers,filters=filters,filter_shape=filter_size,stride=stride,c_id='gen')\n",
        "  conv_output_real = generate_data(real_data_inputs,circuit_layers=circuit_layers,filters=filters,filter_shape=filter_size,stride=stride,c_id='real')\n",
        "  fidelity_test = swap_test_layer.SwapTestLayer(swap_test_symbol_values=fidelity_test_params)\n",
        "  expectation_gen = fidelity_test([conv_output_real,conv_output_gen])\n",
        "  expectation_gen = tf.add(expectation_gen,tf.constant(0.000001))\n",
        "  log_gen_dist = tf.math.log(tf.keras.backend.flatten(expectation_gen))\n",
        "  discriminator_model = tf.keras.Model(inputs=[real_data_inputs,gen_data_inputs],outputs=[expectation_gen,log_gen_dist],name=name)\n",
        "  disc_optimizer = optimizer(learning_rate=0.0001)\n",
        "  disc_loss = lambda x,y: -tf.reduce_mean(y)\n",
        "  discriminator_model.compile(optimizer=disc_optimizer,loss=disc_loss,loss_weights=[0,1])\n",
        "  \n",
        "  return discriminator_model"
      ],
      "metadata": {
        "id": "h5kp1bdX_giQ"
      },
      "execution_count": null,
      "outputs": []
    },
    {
      "cell_type": "code",
      "source": [
        "real_data_inputs = tf.keras.Input(shape=(X_electron.shape[1], X_electron.shape[2], ),dtype=tf.dtypes.float32,name='Input_layer_real')\n",
        "gen_data_inputs = tf.keras.Input(shape=(X_electron.shape[1], X_electron.shape[2], ),dtype=tf.dtypes.float32,name='Input_layer_generated')\n",
        "gen_layers = [2,2]\n",
        "gen_filters = [1,1]\n",
        "gen_filter_shape = [(3,3),(2,2)]  \n",
        "gen_stride = [(2,2),(2,2)]\n",
        "\n",
        "generator_model = create_generator(\n",
        "    real_data_inputs=real_data_inputs,\n",
        "    gen_data_inputs=gen_data_inputs,\n",
        "    circuit_layers=gen_layers,\n",
        "    filters=gen_filters,\n",
        "    filter_size=gen_filter_shape,\n",
        "    stride=gen_stride,\n",
        "    fidelity_test_params= np.ndarray.flatten(np.array([0.5 , 1.0] * 4)),\n",
        "    optimizer=tf.keras.optimizers.Adam,\n",
        "    use_sampled=False,\n",
        "    backend=None,name='Generator_Model')"
      ],
      "metadata": {
        "id": "FyLnTECIa6ZV"
      },
      "execution_count": null,
      "outputs": []
    },
    {
      "cell_type": "code",
      "source": [
        "real_data_inputs = tf.keras.Input(shape=(X_electron.shape[1], X_electron.shape[2], ),dtype=tf.dtypes.float32,name='Input_layer_real')\n",
        "gen_data_inputs = tf.keras.Input(shape=(X_electron.shape[1], X_electron.shape[2], ),dtype=tf.dtypes.float32,name='Input_layer_generated')\n",
        "disc_layers = [2,2]\n",
        "disc_filters = [1,1]\n",
        "disc_filter_shape = [(3,3),(2,2)]  \n",
        "disc_stride = [(2,2),(2,2)]\n",
        "\n",
        "discriminator_model = discriminator_model = create_discriminator(                       \n",
        "    real_data_inputs=real_data_inputs,\n",
        "    gen_data_inputs=gen_data_inputs,\n",
        "    circuit_layers=disc_layers,\n",
        "    filters=disc_filters,\n",
        "    filter_size=disc_filter_shape,\n",
        "    stride=disc_stride,\n",
        "    fidelity_test_params= np.ndarray.flatten(np.array([0.5 , 1.0] * 4)),\n",
        "    optimizer=tf.keras.optimizers.Adam,\n",
        "    use_sampled=False,\n",
        "    backend=None,name='Discriminator_Model')"
      ],
      "metadata": {
        "id": "k-4L1MGlkZKx"
      },
      "execution_count": null,
      "outputs": []
    },
    {
      "cell_type": "code",
      "source": [
        "generator_model.summary()\n",
        "discriminator_model.summary()"
      ],
      "metadata": {
        "colab": {
          "base_uri": "https://localhost:8080/"
        },
        "id": "vk_JmpsBGWv_",
        "outputId": "441d57e0-3ee6-4908-8f0e-243a0722643f"
      },
      "execution_count": null,
      "outputs": [
        {
          "output_type": "stream",
          "name": "stdout",
          "text": [
            "Model: \"Generator_Model\"\n",
            "__________________________________________________________________________________________________\n",
            " Layer (type)                   Output Shape         Param #     Connected to                     \n",
            "==================================================================================================\n",
            " Input_layer_real (InputLayer)  [(None, 8, 8)]       0           []                               \n",
            "                                                                                                  \n",
            " Input_layer_generated (InputLa  [(None, 8, 8)]      0           []                               \n",
            " yer)                                                                                             \n",
            "                                                                                                  \n",
            " Quantum_Convolutional_Layer_wi  (None, 4, 4, 1)     864         ['Input_layer_real[0][0]']       \n",
            " th_padding1real (QConv2D_layer                                                                   \n",
            " )                                                                                                \n",
            "                                                                                                  \n",
            " Quantum_Convolutional_Layer_wi  (None, 4, 4, 1)     864         ['Input_layer_generated[0][0]']  \n",
            " th_padding1gen (QConv2D_layer)                                                                   \n",
            "                                                                                                  \n",
            " Quantum_Convolutional_Layer_wi  (None, 2, 2, 1)     96          ['Quantum_Convolutional_Layer_wit\n",
            " th_padding2real (QConv2D_layer                                  h_padding1real[0][0]']           \n",
            " )                                                                                                \n",
            "                                                                                                  \n",
            " Quantum_Convolutional_Layer_wi  (None, 2, 2, 1)     96          ['Quantum_Convolutional_Layer_wit\n",
            " th_padding2gen (QConv2D_layer)                                  h_padding1gen[0][0]']            \n",
            "                                                                                                  \n",
            " Intermediate_output_layer_real  (None, 4)           0           ['Quantum_Convolutional_Layer_wit\n",
            "  (Flatten)                                                      h_padding2real[0][0]']           \n",
            "                                                                                                  \n",
            " Intermediate_output_layer_gen   (None, 4)           0           ['Quantum_Convolutional_Layer_wit\n",
            " (Flatten)                                                       h_padding2gen[0][0]']            \n",
            "                                                                                                  \n",
            " Swap_Test_Layer (SwapTestLayer  (None, 1)           8           ['Intermediate_output_layer_real[\n",
            " )                                                               0][0]',                          \n",
            "                                                                  'Intermediate_output_layer_gen[0\n",
            "                                                                 ][0]']                           \n",
            "                                                                                                  \n",
            " tf.math.add (TFOpLambda)       (None, 1)            0           ['Swap_Test_Layer[0][0]']        \n",
            "                                                                                                  \n",
            " tf.reshape (TFOpLambda)        (None,)              0           ['tf.math.add[0][0]']            \n",
            "                                                                                                  \n",
            " tf.math.log (TFOpLambda)       (None,)              0           ['tf.reshape[0][0]']             \n",
            "                                                                                                  \n",
            "==================================================================================================\n",
            "Total params: 1,928\n",
            "Trainable params: 1,928\n",
            "Non-trainable params: 0\n",
            "__________________________________________________________________________________________________\n",
            "Model: \"Discriminator_Model\"\n",
            "__________________________________________________________________________________________________\n",
            " Layer (type)                   Output Shape         Param #     Connected to                     \n",
            "==================================================================================================\n",
            " Input_layer_real (InputLayer)  [(None, 8, 8)]       0           []                               \n",
            "                                                                                                  \n",
            " Input_layer_generated (InputLa  [(None, 8, 8)]      0           []                               \n",
            " yer)                                                                                             \n",
            "                                                                                                  \n",
            " Quantum_Convolutional_Layer_wi  (None, 4, 4, 1)     864         ['Input_layer_real[0][0]']       \n",
            " th_padding1real (QConv2D_layer                                                                   \n",
            " )                                                                                                \n",
            "                                                                                                  \n",
            " Quantum_Convolutional_Layer_wi  (None, 4, 4, 1)     864         ['Input_layer_generated[0][0]']  \n",
            " th_padding1gen (QConv2D_layer)                                                                   \n",
            "                                                                                                  \n",
            " Quantum_Convolutional_Layer_wi  (None, 2, 2, 1)     96          ['Quantum_Convolutional_Layer_wit\n",
            " th_padding2real (QConv2D_layer                                  h_padding1real[0][0]']           \n",
            " )                                                                                                \n",
            "                                                                                                  \n",
            " Quantum_Convolutional_Layer_wi  (None, 2, 2, 1)     96          ['Quantum_Convolutional_Layer_wit\n",
            " th_padding2gen (QConv2D_layer)                                  h_padding1gen[0][0]']            \n",
            "                                                                                                  \n",
            " Intermediate_output_layer_real  (None, 4)           0           ['Quantum_Convolutional_Layer_wit\n",
            "  (Flatten)                                                      h_padding2real[0][0]']           \n",
            "                                                                                                  \n",
            " Intermediate_output_layer_gen   (None, 4)           0           ['Quantum_Convolutional_Layer_wit\n",
            " (Flatten)                                                       h_padding2gen[0][0]']            \n",
            "                                                                                                  \n",
            " Swap_Test_Layer (SwapTestLayer  (None, 1)           8           ['Intermediate_output_layer_real[\n",
            " )                                                               0][0]',                          \n",
            "                                                                  'Intermediate_output_layer_gen[0\n",
            "                                                                 ][0]']                           \n",
            "                                                                                                  \n",
            " tf.math.add_1 (TFOpLambda)     (None, 1)            0           ['Swap_Test_Layer[0][0]']        \n",
            "                                                                                                  \n",
            " tf.reshape_1 (TFOpLambda)      (None,)              0           ['tf.math.add_1[0][0]']          \n",
            "                                                                                                  \n",
            " tf.math.log_1 (TFOpLambda)     (None,)              0           ['tf.reshape_1[0][0]']           \n",
            "                                                                                                  \n",
            " tf.math.negative (TFOpLambda)  (None,)              0           ['tf.math.log_1[0][0]']          \n",
            "                                                                                                  \n",
            "==================================================================================================\n",
            "Total params: 1,928\n",
            "Trainable params: 1,928\n",
            "Non-trainable params: 0\n",
            "__________________________________________________________________________________________________\n"
          ]
        }
      ]
    },
    {
      "cell_type": "code",
      "source": [
        "z_shape = tf.shape(X_electron)\n",
        "z = tf.random.normal(z_shape)\n",
        "print(tf.shape(z))"
      ],
      "metadata": {
        "colab": {
          "base_uri": "https://localhost:8080/"
        },
        "id": "12mGfxX4J-BF",
        "outputId": "32ffedea-c3cd-45db-c741-a121cc0d8f98"
      },
      "execution_count": null,
      "outputs": [
        {
          "output_type": "stream",
          "name": "stdout",
          "text": [
            "tf.Tensor([100   8   8], shape=(3,), dtype=int32)\n"
          ]
        }
      ]
    },
    {
      "cell_type": "code",
      "source": [
        "qgan = model.EntangledQGAN(generator_model=generator_model,discriminator_model=discriminator_model)"
      ],
      "metadata": {
        "id": "DTlzFm-8Gm23"
      },
      "execution_count": null,
      "outputs": []
    },
    {
      "cell_type": "code",
      "source": [
        "gen_loss,disc_loss,param_history,state_overlap_list = qgan.train(real_data_inputs=X_electron,generator_data_inputs=z,\n",
        "                                                                 batch_size=20,g_epochs=1,d_epochs=1,n_episodes=10) "
      ],
      "metadata": {
        "colab": {
          "base_uri": "https://localhost:8080/"
        },
        "id": "Mv_viWYMJQmU",
        "outputId": "064d3fdd-775e-4716-e7a2-302c2645db71"
      },
      "execution_count": null,
      "outputs": [
        {
          "output_type": "stream",
          "name": "stdout",
          "text": [
            "Step = 0:\n",
            "discriminator_loss=[-0.4315235912799835]\n",
            "generator_loss=[0.4586741328239441]\n",
            "overlap=(0.9823477268218994+0j)\n",
            "--------------------------------------------------\n",
            "Step = 1:\n",
            "discriminator_loss=[-0.4329822063446045]\n",
            "generator_loss=[0.4594189524650574]\n",
            "overlap=(0.9823113083839417+0j)\n",
            "--------------------------------------------------\n",
            "Step = 2:\n",
            "discriminator_loss=[-0.43444332480430603]\n",
            "generator_loss=[0.46016448736190796]\n",
            "overlap=(0.9822737574577332+0j)\n",
            "--------------------------------------------------\n",
            "Step = 3:\n",
            "discriminator_loss=[-0.4359079599380493]\n",
            "generator_loss=[0.4609121084213257]\n",
            "overlap=(0.982235848903656+0j)\n",
            "--------------------------------------------------\n",
            "Step = 4:\n",
            "discriminator_loss=[-0.43737342953681946]\n",
            "generator_loss=[0.46166062355041504]\n",
            "overlap=(0.9821972846984863+0j)\n",
            "--------------------------------------------------\n",
            "Step = 5:\n",
            "discriminator_loss=[-0.4388430714607239]\n",
            "generator_loss=[0.4624113440513611]\n",
            "overlap=(0.9821582436561584+0j)\n",
            "--------------------------------------------------\n",
            "Step = 6:\n",
            "discriminator_loss=[-0.4403160512447357]\n",
            "generator_loss=[0.46316367387771606]\n",
            "overlap=(0.9821189641952515+0j)\n",
            "--------------------------------------------------\n",
            "Step = 7:\n",
            "discriminator_loss=[-0.4417920708656311]\n",
            "generator_loss=[0.46391773223876953]\n",
            "overlap=(0.9820793271064758+0j)\n",
            "--------------------------------------------------\n",
            "Step = 8:\n",
            "discriminator_loss=[-0.4432717263698578]\n",
            "generator_loss=[0.4646739959716797]\n",
            "overlap=(0.982039213180542+0j)\n",
            "--------------------------------------------------\n",
            "Step = 9:\n",
            "discriminator_loss=[-0.4447559714317322]\n",
            "generator_loss=[0.46543243527412415]\n",
            "overlap=(0.9819983839988708+0j)\n",
            "--------------------------------------------------\n"
          ]
        }
      ]
    },
    {
      "cell_type": "code",
      "source": [
        "qgan.create_images(X_electron,z)"
      ],
      "metadata": {
        "colab": {
          "base_uri": "https://localhost:8080/",
          "height": 350
        },
        "id": "E7F4GnDNKg_Y",
        "outputId": "4322f110-69b0-45f6-d0ef-2339ef29526a"
      },
      "execution_count": null,
      "outputs": [
        {
          "output_type": "stream",
          "name": "stdout",
          "text": [
            "Generating samples\n",
            "Applying PCA to real data\n",
            "Applying inverse PCA to generated samples\n",
            "Generated Images:\n"
          ]
        },
        {
          "output_type": "display_data",
          "data": {
            "text/plain": [
              "<Figure size 1872x1296 with 8 Axes>"
            ],
            "image/png": "[encoded data removed]"
          },
          "metadata": {
            "needs_background": "light"
          }
        }
      ]
    },
    {
      "cell_type": "code",
      "source": [],
      "metadata": {
        "id": "S06I8PaTMkDq"
      },
      "execution_count": null,
      "outputs": []
    }
  ]
}