{
  "nbformat": 4,
  "nbformat_minor": 0,
  "metadata": {
    "colab": {
      "name": "QGANS_DataReuploading_v0.1.1.ipynb",
      "provenance": [],
      "collapsed_sections": [],
      "authorship_tag": "ABX9TyOmTjlFNx8Psx7q4Iz2z6YG"
    },
    "kernelspec": {
      "name": "python3",
      "display_name": "Python 3"
    },
    "language_info": {
      "name": "python"
    },
    "gpuClass": "standard"
  },
  "cells": [
    {
      "cell_type": "code",
      "execution_count": null,
      "metadata": {
        "colab": {
          "base_uri": "https://localhost:8080/"
        },
        "id": "N-jSMFMw3vaV",
        "outputId": "16792781-7c96-4985-c3f7-0b400341157d"
      },
      "outputs": [
        {
          "output_type": "stream",
          "name": "stdout",
          "text": [
            "Looking in indexes: https://pypi.org/simple, https://us-python.pkg.dev/colab-wheels/public/simple/\n",
            "Collecting tensorflow==2.7.0\n",
            "  Downloading https://us-python.pkg.dev/colab-wheels/public/tensorflow/tensorflow-2.7.0%2Bzzzcolab20220506150900-cp37-cp37m-linux_x86_64.whl\n",
            "\u001b[K     / 665.5 MB 39 kB/s\n",
            "\u001b[?25hRequirement already satisfied: grpcio<2.0,>=1.24.3 in /usr/local/lib/python3.7/dist-packages (from tensorflow==2.7.0) (1.46.3)\n",
            "Requirement already satisfied: six>=1.12.0 in /usr/local/lib/python3.7/dist-packages (from tensorflow==2.7.0) (1.15.0)\n",
            "Requirement already satisfied: astunparse>=1.6.0 in /usr/local/lib/python3.7/dist-packages (from tensorflow==2.7.0) (1.6.3)\n",
            "Requirement already satisfied: protobuf>=3.9.2 in /usr/local/lib/python3.7/dist-packages (from tensorflow==2.7.0) (3.17.3)\n",
            "Collecting gast<0.5.0,>=0.2.1\n",
            "  Downloading gast-0.4.0-py3-none-any.whl (9.8 kB)\n",
            "Requirement already satisfied: keras-preprocessing>=1.1.1 in /usr/local/lib/python3.7/dist-packages (from tensorflow==2.7.0) (1.1.2)\n",
            "Requirement already satisfied: absl-py>=0.4.0 in /usr/local/lib/python3.7/dist-packages (from tensorflow==2.7.0) (1.1.0)\n",
            "Requirement already satisfied: wrapt>=1.11.0 in /usr/local/lib/python3.7/dist-packages (from tensorflow==2.7.0) (1.14.1)\n",
            "Requirement already satisfied: opt-einsum>=2.3.2 in /usr/local/lib/python3.7/dist-packages (from tensorflow==2.7.0) (3.3.0)\n",
            "Collecting tensorflow-estimator<2.8,~=2.7.0rc0\n",
            "  Downloading tensorflow_estimator-2.7.0-py2.py3-none-any.whl (463 kB)\n",
            "\u001b[K     |████████████████████████████████| 463 kB 5.2 MB/s \n",
            "\u001b[?25hRequirement already satisfied: wheel<1.0,>=0.32.0 in /usr/local/lib/python3.7/dist-packages (from tensorflow==2.7.0) (0.37.1)\n",
            "Requirement already satisfied: libclang>=9.0.1 in /usr/local/lib/python3.7/dist-packages (from tensorflow==2.7.0) (14.0.1)\n",
            "Requirement already satisfied: numpy>=1.14.5 in /usr/local/lib/python3.7/dist-packages (from tensorflow==2.7.0) (1.21.6)\n",
            "Requirement already satisfied: google-pasta>=0.1.1 in /usr/local/lib/python3.7/dist-packages (from tensorflow==2.7.0) (0.2.0)\n",
            "Requirement already satisfied: termcolor>=1.1.0 in /usr/local/lib/python3.7/dist-packages (from tensorflow==2.7.0) (1.1.0)\n",
            "Requirement already satisfied: flatbuffers<3.0,>=1.12 in /usr/local/lib/python3.7/dist-packages (from tensorflow==2.7.0) (2.0)\n",
            "Collecting keras<2.8,>=2.7.0rc0\n",
            "  Downloading keras-2.7.0-py2.py3-none-any.whl (1.3 MB)\n",
            "\u001b[K     |████████████████████████████████| 1.3 MB 31.0 MB/s \n",
            "\u001b[?25hRequirement already satisfied: h5py>=2.9.0 in /usr/local/lib/python3.7/dist-packages (from tensorflow==2.7.0) (3.1.0)\n",
            "Requirement already satisfied: tensorboard~=2.6 in /usr/local/lib/python3.7/dist-packages (from tensorflow==2.7.0) (2.8.0)\n",
            "Requirement already satisfied: typing-extensions>=3.6.6 in /usr/local/lib/python3.7/dist-packages (from tensorflow==2.7.0) (3.10.0.0)\n",
            "Requirement already satisfied: tensorflow-io-gcs-filesystem>=0.21.0 in /usr/local/lib/python3.7/dist-packages (from tensorflow==2.7.0) (0.26.0)\n",
            "Requirement already satisfied: cached-property in /usr/local/lib/python3.7/dist-packages (from h5py>=2.9.0->tensorflow==2.7.0) (1.5.2)\n",
            "Requirement already satisfied: tensorboard-plugin-wit>=1.6.0 in /usr/local/lib/python3.7/dist-packages (from tensorboard~=2.6->tensorflow==2.7.0) (1.8.1)\n",
            "Requirement already satisfied: requests<3,>=2.21.0 in /usr/local/lib/python3.7/dist-packages (from tensorboard~=2.6->tensorflow==2.7.0) (2.23.0)\n",
            "Requirement already satisfied: setuptools>=41.0.0 in /usr/local/lib/python3.7/dist-packages (from tensorboard~=2.6->tensorflow==2.7.0) (57.4.0)\n",
            "Requirement already satisfied: tensorboard-data-server<0.7.0,>=0.6.0 in /usr/local/lib/python3.7/dist-packages (from tensorboard~=2.6->tensorflow==2.7.0) (0.6.1)\n",
            "Requirement already satisfied: google-auth<3,>=1.6.3 in /usr/local/lib/python3.7/dist-packages (from tensorboard~=2.6->tensorflow==2.7.0) (1.18.0)\n",
            "Requirement already satisfied: werkzeug>=0.11.15 in /usr/local/lib/python3.7/dist-packages (from tensorboard~=2.6->tensorflow==2.7.0) (1.0.1)\n",
            "Requirement already satisfied: markdown>=2.6.8 in /usr/local/lib/python3.7/dist-packages (from tensorboard~=2.6->tensorflow==2.7.0) (3.3.7)\n",
            "Requirement already satisfied: google-auth-oauthlib<0.5,>=0.4.1 in /usr/local/lib/python3.7/dist-packages (from tensorboard~=2.6->tensorflow==2.7.0) (0.4.6)\n",
            "Requirement already satisfied: pyasn1-modules>=0.2.1 in /usr/local/lib/python3.7/dist-packages (from google-auth<3,>=1.6.3->tensorboard~=2.6->tensorflow==2.7.0) (0.2.8)\n",
            "Requirement already satisfied: cachetools<5.0,>=2.0.0 in /usr/local/lib/python3.7/dist-packages (from google-auth<3,>=1.6.3->tensorboard~=2.6->tensorflow==2.7.0) (4.2.4)\n",
            "Requirement already satisfied: rsa<5,>=3.1.4 in /usr/local/lib/python3.7/dist-packages (from google-auth<3,>=1.6.3->tensorboard~=2.6->tensorflow==2.7.0) (4.8)\n",
            "Requirement already satisfied: requests-oauthlib>=0.7.0 in /usr/local/lib/python3.7/dist-packages (from google-auth-oauthlib<0.5,>=0.4.1->tensorboard~=2.6->tensorflow==2.7.0) (1.3.1)\n",
            "Requirement already satisfied: importlib-metadata>=4.4 in /usr/local/lib/python3.7/dist-packages (from markdown>=2.6.8->tensorboard~=2.6->tensorflow==2.7.0) (4.11.4)\n",
            "Requirement already satisfied: zipp>=0.5 in /usr/local/lib/python3.7/dist-packages (from importlib-metadata>=4.4->markdown>=2.6.8->tensorboard~=2.6->tensorflow==2.7.0) (3.8.0)\n",
            "Requirement already satisfied: pyasn1<0.5.0,>=0.4.6 in /usr/local/lib/python3.7/dist-packages (from pyasn1-modules>=0.2.1->google-auth<3,>=1.6.3->tensorboard~=2.6->tensorflow==2.7.0) (0.4.8)\n",
            "Requirement already satisfied: certifi>=2017.4.17 in /usr/local/lib/python3.7/dist-packages (from requests<3,>=2.21.0->tensorboard~=2.6->tensorflow==2.7.0) (2022.6.15)\n",
            "Requirement already satisfied: idna<3,>=2.5 in /usr/local/lib/python3.7/dist-packages (from requests<3,>=2.21.0->tensorboard~=2.6->tensorflow==2.7.0) (2.10)\n",
            "Requirement already satisfied: urllib3!=1.25.0,!=1.25.1,<1.26,>=1.21.1 in /usr/local/lib/python3.7/dist-packages (from requests<3,>=2.21.0->tensorboard~=2.6->tensorflow==2.7.0) (1.24.3)\n",
            "Requirement already satisfied: chardet<4,>=3.0.2 in /usr/local/lib/python3.7/dist-packages (from requests<3,>=2.21.0->tensorboard~=2.6->tensorflow==2.7.0) (3.0.4)\n",
            "Requirement already satisfied: oauthlib>=3.0.0 in /usr/local/lib/python3.7/dist-packages (from requests-oauthlib>=0.7.0->google-auth-oauthlib<0.5,>=0.4.1->tensorboard~=2.6->tensorflow==2.7.0) (3.2.0)\n",
            "Installing collected packages: tensorflow-estimator, keras, gast, tensorflow\n",
            "  Attempting uninstall: tensorflow-estimator\n",
            "    Found existing installation: tensorflow-estimator 2.8.0\n",
            "    Uninstalling tensorflow-estimator-2.8.0:\n",
            "      Successfully uninstalled tensorflow-estimator-2.8.0\n",
            "  Attempting uninstall: keras\n",
            "    Found existing installation: keras 2.8.0\n",
            "    Uninstalling keras-2.8.0:\n",
            "      Successfully uninstalled keras-2.8.0\n",
            "  Attempting uninstall: gast\n",
            "    Found existing installation: gast 0.5.3\n",
            "    Uninstalling gast-0.5.3:\n",
            "      Successfully uninstalled gast-0.5.3\n",
            "  Attempting uninstall: tensorflow\n",
            "    Found existing installation: tensorflow 2.8.2+zzzcolab20220527125636\n",
            "    Uninstalling tensorflow-2.8.2+zzzcolab20220527125636:\n",
            "      Successfully uninstalled tensorflow-2.8.2+zzzcolab20220527125636\n",
            "Successfully installed gast-0.4.0 keras-2.7.0 tensorflow-2.7.0+zzzcolab20220506150900 tensorflow-estimator-2.7.0\n"
          ]
        }
      ],
      "source": [
        "pip install tensorflow==2.7.0"
      ]
    },
    {
      "cell_type": "code",
      "source": [
        "# pip install tensorflow==2.4.1"
      ],
      "metadata": {
        "id": "NM-_Rh7GSy_6"
      },
      "execution_count": null,
      "outputs": []
    },
    {
      "cell_type": "code",
      "source": [
        "pip install tensorflow-quantum==0.6.0 --use-deprecated=legacy-resolver"
      ],
      "metadata": {
        "colab": {
          "base_uri": "https://localhost:8080/"
        },
        "id": "9AafjU6W31EY",
        "outputId": "ca5e6714-0dae-4ed6-8dc9-477bbeb8a0e7"
      },
      "execution_count": null,
      "outputs": [
        {
          "output_type": "stream",
          "name": "stdout",
          "text": [
            "Looking in indexes: https://pypi.org/simple, https://us-python.pkg.dev/colab-wheels/public/simple/\n",
            "Requirement already satisfied: tensorflow-quantum==0.6.0 in /usr/local/lib/python3.7/dist-packages (0.6.0)\n",
            "Requirement already satisfied: sympy==1.8 in /usr/local/lib/python3.7/dist-packages (from tensorflow-quantum==0.6.0) (1.8)\n",
            "Requirement already satisfied: cirq-core>=0.13.1 in /usr/local/lib/python3.7/dist-packages (from tensorflow-quantum==0.6.0) (0.15.0)\n",
            "Requirement already satisfied: googleapis-common-protos==1.52.0 in /usr/local/lib/python3.7/dist-packages (from tensorflow-quantum==0.6.0) (1.52.0)\n",
            "Requirement already satisfied: protobuf==3.17.3 in /usr/local/lib/python3.7/dist-packages (from tensorflow-quantum==0.6.0) (3.17.3)\n",
            "Requirement already satisfied: google-auth==1.18.0 in /usr/local/lib/python3.7/dist-packages (from tensorflow-quantum==0.6.0) (1.18.0)\n",
            "Requirement already satisfied: google-api-core==1.21.0 in /usr/local/lib/python3.7/dist-packages (from tensorflow-quantum==0.6.0) (1.21.0)\n",
            "Requirement already satisfied: cirq-google>=0.13.1 in /usr/local/lib/python3.7/dist-packages (from tensorflow-quantum==0.6.0) (0.15.0)\n",
            "Requirement already satisfied: mpmath>=0.19 in /usr/local/lib/python3.7/dist-packages (from sympy==1.8->tensorflow-quantum==0.6.0) (1.2.1)\n",
            "Requirement already satisfied: matplotlib~=3.0 in /usr/local/lib/python3.7/dist-packages (from cirq-core>=0.13.1->tensorflow-quantum==0.6.0) (3.2.2)\n",
            "Requirement already satisfied: scipy in /usr/local/lib/python3.7/dist-packages (from cirq-core>=0.13.1->tensorflow-quantum==0.6.0) (1.5.4)\n",
            "Requirement already satisfied: sortedcontainers~=2.0 in /usr/local/lib/python3.7/dist-packages (from cirq-core>=0.13.1->tensorflow-quantum==0.6.0) (2.4.0)\n",
            "Requirement already satisfied: backports.cached-property~=1.0.1; python_version < \"3.8\" in /usr/local/lib/python3.7/dist-packages (from cirq-core>=0.13.1->tensorflow-quantum==0.6.0) (1.0.2)\n",
            "Requirement already satisfied: networkx~=2.4 in /usr/local/lib/python3.7/dist-packages (from cirq-core>=0.13.1->tensorflow-quantum==0.6.0) (2.6.3)\n",
            "Requirement already satisfied: duet~=0.2.6 in /usr/local/lib/python3.7/dist-packages (from cirq-core>=0.13.1->tensorflow-quantum==0.6.0) (0.2.7)\n",
            "Requirement already satisfied: numpy~=1.16 in /usr/local/lib/python3.7/dist-packages (from cirq-core>=0.13.1->tensorflow-quantum==0.6.0) (1.21.6)\n",
            "Requirement already satisfied: pandas in /usr/local/lib/python3.7/dist-packages (from cirq-core>=0.13.1->tensorflow-quantum==0.6.0) (1.3.5)\n",
            "Requirement already satisfied: typing-extensions in /usr/local/lib/python3.7/dist-packages (from cirq-core>=0.13.1->tensorflow-quantum==0.6.0) (4.1.1)\n",
            "Requirement already satisfied: tqdm in /usr/local/lib/python3.7/dist-packages (from cirq-core>=0.13.1->tensorflow-quantum==0.6.0) (4.64.0)\n",
            "Requirement already satisfied: six>=1.9 in /usr/local/lib/python3.7/dist-packages (from protobuf==3.17.3->tensorflow-quantum==0.6.0) (1.15.0)\n",
            "Requirement already satisfied: rsa<5,>=3.1.4; python_version >= \"3\" in /usr/local/lib/python3.7/dist-packages (from google-auth==1.18.0->tensorflow-quantum==0.6.0) (4.8)\n",
            "Requirement already satisfied: setuptools>=40.3.0 in /usr/local/lib/python3.7/dist-packages (from google-auth==1.18.0->tensorflow-quantum==0.6.0) (57.4.0)\n",
            "Requirement already satisfied: cachetools<5.0,>=2.0.0 in /usr/local/lib/python3.7/dist-packages (from google-auth==1.18.0->tensorflow-quantum==0.6.0) (4.2.4)\n",
            "Requirement already satisfied: pyasn1-modules>=0.2.1 in /usr/local/lib/python3.7/dist-packages (from google-auth==1.18.0->tensorflow-quantum==0.6.0) (0.2.8)\n",
            "Requirement already satisfied: requests<3.0.0dev,>=2.18.0 in /usr/local/lib/python3.7/dist-packages (from google-api-core==1.21.0->tensorflow-quantum==0.6.0) (2.23.0)\n",
            "Requirement already satisfied: pytz in /usr/local/lib/python3.7/dist-packages (from google-api-core==1.21.0->tensorflow-quantum==0.6.0) (2022.1)\n",
            "Requirement already satisfied: proto-plus>=1.20.0 in /usr/local/lib/python3.7/dist-packages (from cirq-google>=0.13.1->tensorflow-quantum==0.6.0) (1.20.6)\n",
            "Requirement already satisfied: kiwisolver>=1.0.1 in /usr/local/lib/python3.7/dist-packages (from matplotlib~=3.0->cirq-core>=0.13.1->tensorflow-quantum==0.6.0) (1.4.3)\n",
            "Requirement already satisfied: python-dateutil>=2.1 in /usr/local/lib/python3.7/dist-packages (from matplotlib~=3.0->cirq-core>=0.13.1->tensorflow-quantum==0.6.0) (2.8.2)\n",
            "Requirement already satisfied: cycler>=0.10 in /usr/local/lib/python3.7/dist-packages (from matplotlib~=3.0->cirq-core>=0.13.1->tensorflow-quantum==0.6.0) (0.11.0)\n",
            "Requirement already satisfied: pyparsing!=2.0.4,!=2.1.2,!=2.1.6,>=2.0.1 in /usr/local/lib/python3.7/dist-packages (from matplotlib~=3.0->cirq-core>=0.13.1->tensorflow-quantum==0.6.0) (3.0.9)\n",
            "Requirement already satisfied: pyasn1>=0.1.3 in /usr/local/lib/python3.7/dist-packages (from rsa<5,>=3.1.4; python_version >= \"3\"->google-auth==1.18.0->tensorflow-quantum==0.6.0) (0.4.8)\n",
            "Requirement already satisfied: chardet<4,>=3.0.2 in /usr/local/lib/python3.7/dist-packages (from requests<3.0.0dev,>=2.18.0->google-api-core==1.21.0->tensorflow-quantum==0.6.0) (3.0.4)\n",
            "Requirement already satisfied: certifi>=2017.4.17 in /usr/local/lib/python3.7/dist-packages (from requests<3.0.0dev,>=2.18.0->google-api-core==1.21.0->tensorflow-quantum==0.6.0) (2022.6.15)\n",
            "Requirement already satisfied: urllib3!=1.25.0,!=1.25.1,<1.26,>=1.21.1 in /usr/local/lib/python3.7/dist-packages (from requests<3.0.0dev,>=2.18.0->google-api-core==1.21.0->tensorflow-quantum==0.6.0) (1.24.3)\n",
            "Requirement already satisfied: idna<3,>=2.5 in /usr/local/lib/python3.7/dist-packages (from requests<3.0.0dev,>=2.18.0->google-api-core==1.21.0->tensorflow-quantum==0.6.0) (2.10)\n"
          ]
        }
      ]
    },
    {
      "cell_type": "code",
      "source": [
        "# pip install tensorflow-quantum==0.2.0"
      ],
      "metadata": {
        "id": "hAcM9VIQKVQt"
      },
      "execution_count": null,
      "outputs": []
    },
    {
      "cell_type": "code",
      "source": [
        "# pip install quple"
      ],
      "metadata": {
        "id": "OYTVH6F_Aaz6"
      },
      "execution_count": null,
      "outputs": []
    },
    {
      "cell_type": "code",
      "source": [
        "import numpy as np \n",
        "import sympy as sp\n",
        "import pandas as pd\n",
        "import tensorflow as tf\n",
        "import tensorflow_quantum as tfq\n",
        "import cirq\n",
        "from cirq.contrib.svg import SVGCircuit\n",
        "from tensorflow_quantum.python.layers.circuit_construction import elementary\n",
        "# from quple import ParameterisedCircuit\n",
        "# import quple\n",
        "\n",
        "%matplotlib inline\n",
        "import matplotlib.pyplot as plt"
      ],
      "metadata": {
        "id": "iv7w62Gc5goE",
        "colab": {
          "base_uri": "https://localhost:8080/"
        },
        "outputId": "d8986738-9f42-4225-f7d5-31b0da846270"
      },
      "execution_count": null,
      "outputs": [
        {
          "output_type": "stream",
          "name": "stderr",
          "text": [
            "/usr/local/lib/python3.7/dist-packages/cirq/ops/gateset.py:377: UserWarning: v0.14.1 is the last release `cirq.GlobalPhaseGate` is included by default. If you were relying on this behavior, you can include a `cirq.GlobalPhaseGate` in your `*gates`. If not, then you can ignore this warning. It will be removed in v0.16\n",
            "  'v0.14.1 is the last release `cirq.GlobalPhaseGate` is included by default. If'\n"
          ]
        }
      ]
    },
    {
      "cell_type": "code",
      "source": [
        "# print(quple._version)"
      ],
      "metadata": {
        "id": "TCzkOwIISVX9"
      },
      "execution_count": null,
      "outputs": []
    },
    {
      "cell_type": "code",
      "source": [
        "from google.colab import files\n",
        "upload_file = files.upload()"
      ],
      "metadata": {
        "colab": {
          "resources": {
            "http://localhost:8080/nbextensions/google.colab/files.js": {
              "data": "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",
              "ok": true,
              "headers": [
                [
                  "content-type",
                  "application/javascript"
                ]
              ],
              "status": 200,
              "status_text": ""
            }
          },
          "base_uri": "https://localhost:8080/",
          "height": 74
        },
        "id": "UFRCTAa-5ypm",
        "outputId": "1fe6de09-4cde-4b4f-d91b-25c5a0659984"
      },
      "execution_count": null,
      "outputs": [
        {
          "output_type": "display_data",
          "data": {
            "text/plain": [
              "<IPython.core.display.HTML object>"
            ],
            "text/html": [
              "\n",
              "     <input type=\"file\" id=\"files-0ce893f5-0aff-45be-b6b4-30b967654384\" name=\"files[]\" multiple disabled\n",
              "        style=\"border:none\" />\n",
              "     <output id=\"result-0ce893f5-0aff-45be-b6b4-30b967654384\">\n",
              "      Upload widget is only available when the cell has been executed in the\n",
              "      current browser session. Please rerun this cell to enable.\n",
              "      </output>\n",
              "      <script src=\"/nbextensions/google.colab/files.js\"></script> "
            ]
          },
          "metadata": {}
        },
        {
          "output_type": "stream",
          "name": "stdout",
          "text": [
            "Saving QIS_EXAM_200Events.npz to QIS_EXAM_200Events (2).npz\n"
          ]
        }
      ]
    },
    {
      "cell_type": "code",
      "source": [
        "data = np.load('./QIS_EXAM_200Events.npz',allow_pickle = True)\n",
        "X_train = data['training_input'].item()\n",
        "X_test = data['test_input'].item()\n",
        "# print(X_train['0'])\n",
        "X_train_0 = X_train['0']\n",
        "X_test_0 = X_test['0']\n",
        "X_train_1 = X_train['1']\n",
        "X_test_1 = X_test['1']\n",
        "\n",
        "\n",
        "X_train = np.concatenate((X_train_0,X_train_1),axis=0)\n",
        "X_test = np.concatenate((X_test_0,X_test_1),axis=0)\n",
        "\n",
        "y_train = np.zeros((len(X_train),1))\n",
        "y_test = np.zeros((len(X_test),1))\n",
        "y_train[len(X_train_0):] = 1\n",
        "y_test[len(X_test_0):] = 1\n",
        "# print([d.T for d in [X_train_1, X_train_0] ])\n",
        "\n",
        "print(X_train_0[0].shape)"
      ],
      "metadata": {
        "id": "PMKhRorq54d7",
        "colab": {
          "base_uri": "https://localhost:8080/"
        },
        "outputId": "9dae67f0-0d1f-4e2a-9eb2-6c43c0e794f6"
      },
      "execution_count": null,
      "outputs": [
        {
          "output_type": "stream",
          "name": "stdout",
          "text": [
            "(5,)\n"
          ]
        }
      ]
    },
    {
      "cell_type": "code",
      "source": [
        "def make_plots(data, labels, binning=20, columns=3):\n",
        "    X = [d.T for d in data]\n",
        "    fig=plt.figure(figsize=(20, 10))\n",
        "    rows =  1 + (X[0].shape[0] // columns)\n",
        "    bins = np.histogram(np.hstack(tuple(X)), bins=binning)[1]\n",
        "    plt.subplots_adjust(hspace=0.3)\n",
        "    for i in range(X[0].shape[0]):\n",
        "        ax = fig.add_subplot(rows, columns, i+1)\n",
        "        ax.set_title('Variable {}'.format(i+1), fontsize=15)\n",
        "        for j, x in enumerate(X):\n",
        "            ax.hist(x[i], bins=bins, alpha=.5, label=labels[j])\n",
        "        ax.legend(loc='lower center', bbox_to_anchor=(0.5, -.2), ncol=len(data), fontsize=10)\n",
        "    plt.show()"
      ],
      "metadata": {
        "id": "nGHD7RAc6BxI"
      },
      "execution_count": null,
      "outputs": []
    },
    {
      "cell_type": "code",
      "source": [
        "make_plots([X_train_1, X_train_0], ['signal', 'background'])"
      ],
      "metadata": {
        "colab": {
          "base_uri": "https://localhost:8080/",
          "height": 635
        },
        "id": "rY5Cr-Hu6Or_",
        "outputId": "97828318-d164-4618-edeb-abbbdd106ab3"
      },
      "execution_count": null,
      "outputs": [
        {
          "output_type": "display_data",
          "data": {
            "text/plain": [
              "<Figure size 1440x720 with 5 Axes>"
            ],
            "image/png": "[encoded data removed]"
          },
          "metadata": {
            "needs_background": "light"
          }
        }
      ]
    },
    {
      "cell_type": "code",
      "source": [
        "def one_qubit_unitary(qubits,symbols) -> cirq.Circuit :\n",
        "  circuit = cirq.Circuit()\n",
        "  # num_qubits = len(qubits)\n",
        "  # k=0\n",
        "  # for i in range(num_qubits):\n",
        "  #   circuit.append(cirq.rx(symbols[k])(qubits[i]))\n",
        "  #   k+=1\n",
        "  # for i in range(num_qubits):\n",
        "  #   circuit.append(cirq.ry(symbols[k])(qubits[i]))\n",
        "  #   k+=1\n",
        "  # for i in range(num_qubits):\n",
        "  #   circuit.append(cirq.rz(symbols[k])(qubits[i]))\n",
        "  #   k+=1\n",
        "  circuit.append(cirq.rx(symbols[0])(qubits))\n",
        "  circuit.append(cirq.ry(symbols[1])(qubits))\n",
        "  circuit.append(cirq.rz(symbols[2])(qubits))\n",
        "  return circuit"
      ],
      "metadata": {
        "id": "4bNP1p_96gA-"
      },
      "execution_count": null,
      "outputs": []
    },
    {
      "cell_type": "code",
      "source": [
        "def two_qubit_unitary(qubits,symbols):\n",
        "  circuit = cirq.Circuit()\n",
        "  num_qubits = len(qubits)\n",
        "  k=0\n",
        "  for i in range(1,num_qubits,2):\n",
        "    circuit.append(cirq.CNOT(qubits[i-1],qubits[i]))\n",
        "    circuit.append(cirq.rz(symbols[k])(qubits[i]))\n",
        "    circuit.append(cirq.CNOT(qubits[i-1],qubits[i]))\n",
        "    k+=1\n",
        "  \n",
        "  return circuit"
      ],
      "metadata": {
        "id": "dwwaMAZM5M8g"
      },
      "execution_count": null,
      "outputs": []
    },
    {
      "cell_type": "code",
      "source": [
        "def entanglement_unitary(qubits,num_qubits):\n",
        "  circuit = cirq.Circuit()\n",
        "  for i in range(num_qubits):\n",
        "    if i<num_qubits-1:\n",
        "      circuit += cirq.CZ(qubits[i],qubits[i+1])\n",
        "  if num_qubits!=2 : \n",
        "    circuit += cirq.CZ(qubits[num_qubits-1],qubits[0])\n",
        "  return circuit"
      ],
      "metadata": {
        "id": "Y7221tvsKVM3"
      },
      "execution_count": null,
      "outputs": []
    },
    {
      "cell_type": "code",
      "source": [
        "def generator_drc_circuit(qubits,features_size,use_entanglement=False, layers=1):\n",
        "  circuit = cirq.Circuit()\n",
        "  num_qubits = len(qubits)\n",
        "  if(features_size % 3 != 0):\n",
        "    padding = (3-(features_size % 3)) % 3\n",
        "  else:\n",
        "    padding = 0\n",
        "\n",
        "  bias_symbols = sp.symbols('theta_:'+str((features_size + padding)*layers*num_qubits)) \n",
        "  bias_symbols = np.asarray(bias_symbols).reshape(layers,num_qubits,features_size+padding) \n",
        "  features_symbols = sp.symbols('x_:'+str((features_size + padding)*layers*num_qubits))\n",
        "  features_symbols = np.asarray(features_symbols).reshape(layers,num_qubits,features_size+padding)\n",
        "  for layer in range(layers):\n",
        "    for gate in range(int(np.ceil(features_size/3))):\n",
        "      circuit += [one_qubit_unitary(q, features_symbols[layer,i,gate*3:(gate+1)*3]) for i,q in enumerate(qubits)]\n",
        "      circuit += [one_qubit_unitary(q, bias_symbols[layer,i,gate*3:(gate+1)*3]) for i,q in enumerate(qubits)]\n",
        "    \n",
        "    if num_qubits>1 and (layer != layers-1 or layers == 1) and use_entanglement :\n",
        "      circuit += entanglement_unitary(qubits,num_qubits)\n",
        "  \n",
        "  return circuit"
      ],
      "metadata": {
        "id": "PxJj00r38e3S"
      },
      "execution_count": null,
      "outputs": []
    },
    {
      "cell_type": "code",
      "source": [
        "SVGCircuit(generator_drc_circuit(cirq.GridQubit.rect(1,2),5,use_entanglement = True, layers=3))\n",
        "#print(generator_circuit(cirq.GridQubit.rect(1,2),5,use_entanglement = True, layers=2))"
      ],
      "metadata": {
        "colab": {
          "base_uri": "https://localhost:8080/",
          "height": 159
        },
        "id": "vP3G6yh-uI2j",
        "outputId": "9889f259-bda6-4091-94bb-77939a7ad91d"
      },
      "execution_count": null,
      "outputs": [
        {
          "output_type": "stream",
          "name": "stderr",
          "text": [
            "findfont: Font family ['Arial'] not found. Falling back to DejaVu Sans.\n"
          ]
        },
        {
          "output_type": "execute_result",
          "data": {
            "text/plain": [
              "<cirq.contrib.svg.svg.SVGCircuit at 0x7f051fa2a890>"
            ],
            "image/svg+xml": "<svg xmlns=\"http://www.w3.org/2000/svg\" width=\"7486.819296874994\" height=\"100.0\"><line x1=\"34.7588671875\" x2=\"7456.819296874994\" y1=\"25.0\" y2=\"25.0\" stroke=\"#1967d2\" stroke-width=\"1\" /><line x1=\"34.7588671875\" x2=\"7456.819296874994\" y1=\"75.0\" y2=\"75.0\" stroke=\"#1967d2\" stroke-width=\"1\" /><line x1=\"2399.8552343750007\" x2=\"2399.8552343750007\" y1=\"25.0\" y2=\"75.0\" stroke=\"black\" stroke-width=\"3\" /><line x1=\"4938.337265624999\" x2=\"4938.337265624999\" y1=\"25.0\" y2=\"75.0\" stroke=\"black\" stroke-width=\"3\" /><rect x=\"10.0\" y=\"5.0\" width=\"49.517734375\" height=\"40\" stroke=\"black\" fill=\"white\" stroke-width=\"0\" /><text x=\"34.7588671875\" y=\"25.0\" dominant-baseline=\"middle\" text-anchor=\"middle\" font-size=\"14px\" font-family=\"Arial\">(0, 0): </text><rect x=\"10.0\" y=\"55.0\" width=\"49.517734375\" height=\"40\" stroke=\"black\" fill=\"white\" stroke-width=\"0\" /><text x=\"34.7588671875\" y=\"75.0\" dominant-baseline=\"middle\" text-anchor=\"middle\" font-size=\"14px\" font-family=\"Arial\">(0, 1): </text><rect x=\"79.517734375\" y=\"5.0\" width=\"60.5523046875\" height=\"40\" stroke=\"black\" fill=\"white\" stroke-width=\"1\" /><text x=\"109.79388671875\" y=\"25.0\" dominant-baseline=\"middle\" text-anchor=\"middle\" font-size=\"14px\" font-family=\"Arial\">Rx(x_0)</text><rect x=\"160.0700390625\" y=\"5.0\" width=\"59.7823046875\" height=\"40\" stroke=\"black\" fill=\"white\" stroke-width=\"1\" /><text x=\"189.96119140625\" y=\"25.0\" dominant-baseline=\"middle\" text-anchor=\"middle\" font-size=\"14px\" font-family=\"Arial\">Ry(x_1)</text><rect x=\"239.85234374999996\" y=\"5.0\" width=\"59.61578125\" height=\"40\" stroke=\"black\" fill=\"white\" stroke-width=\"1\" /><text x=\"269.66023437499996\" y=\"25.0\" dominant-baseline=\"middle\" text-anchor=\"middle\" font-size=\"14px\" font-family=\"Arial\">Rz(x_2)</text><rect x=\"319.468125\" y=\"55.0\" width=\"60.5523046875\" height=\"40\" stroke=\"black\" fill=\"white\" stroke-width=\"1\" /><text x=\"349.74427734375\" y=\"75.0\" dominant-baseline=\"middle\" text-anchor=\"middle\" font-size=\"14px\" font-family=\"Arial\">Rx(x_6)</text><rect x=\"400.0204296875\" y=\"55.0\" width=\"59.7823046875\" height=\"40\" stroke=\"black\" fill=\"white\" stroke-width=\"1\" /><text x=\"429.91158203124996\" y=\"75.0\" dominant-baseline=\"middle\" text-anchor=\"middle\" font-size=\"14px\" font-family=\"Arial\">Ry(x_7)</text><rect x=\"479.802734375\" y=\"55.0\" width=\"59.61578125\" height=\"40\" stroke=\"black\" fill=\"white\" stroke-width=\"1\" /><text x=\"509.610625\" y=\"75.0\" dominant-baseline=\"middle\" text-anchor=\"middle\" font-size=\"14px\" font-family=\"Arial\">Rz(x_8)</text><rect x=\"559.418515625\" y=\"5.0\" width=\"89.31109375000001\" height=\"40\" stroke=\"black\" fill=\"white\" stroke-width=\"1\" /><text x=\"604.0740625000001\" y=\"25.0\" dominant-baseline=\"middle\" text-anchor=\"middle\" font-size=\"14px\" font-family=\"Arial\">Rx(theta_0)</text><rect x=\"668.7296093750001\" y=\"5.0\" width=\"88.54109375\" height=\"40\" stroke=\"black\" fill=\"white\" stroke-width=\"1\" /><text x=\"713.0001562500001\" y=\"25.0\" dominant-baseline=\"middle\" text-anchor=\"middle\" font-size=\"14px\" font-family=\"Arial\">Ry(theta_1)</text><rect x=\"777.2707031250001\" y=\"5.0\" width=\"88.37457031250001\" height=\"40\" stroke=\"black\" fill=\"white\" stroke-width=\"1\" /><text x=\"821.4579882812501\" y=\"25.0\" dominant-baseline=\"middle\" text-anchor=\"middle\" font-size=\"14px\" font-family=\"Arial\">Rz(theta_2)</text><rect x=\"885.6452734375001\" y=\"55.0\" width=\"89.31109375000001\" height=\"40\" stroke=\"black\" fill=\"white\" stroke-width=\"1\" /><text x=\"930.3008203125002\" y=\"75.0\" dominant-baseline=\"middle\" text-anchor=\"middle\" font-size=\"14px\" font-family=\"Arial\">Rx(theta_6)</text><rect x=\"994.9563671875001\" y=\"55.0\" width=\"88.54109375\" height=\"40\" stroke=\"black\" fill=\"white\" stroke-width=\"1\" /><text x=\"1039.2269140625\" y=\"75.0\" dominant-baseline=\"middle\" text-anchor=\"middle\" font-size=\"14px\" font-family=\"Arial\">Ry(theta_7)</text><rect x=\"1103.4974609375001\" y=\"55.0\" width=\"88.37457031250001\" height=\"40\" stroke=\"black\" fill=\"white\" stroke-width=\"1\" /><text x=\"1147.6847460937502\" y=\"75.0\" dominant-baseline=\"middle\" text-anchor=\"middle\" font-size=\"14px\" font-family=\"Arial\">Rz(theta_8)</text><rect x=\"1211.8720312500002\" y=\"5.0\" width=\"60.5523046875\" height=\"40\" stroke=\"black\" fill=\"white\" stroke-width=\"1\" /><text x=\"1242.1481835937502\" y=\"25.0\" dominant-baseline=\"middle\" text-anchor=\"middle\" font-size=\"14px\" font-family=\"Arial\">Rx(x_3)</text><rect x=\"1292.4243359375002\" y=\"5.0\" width=\"59.7823046875\" height=\"40\" stroke=\"black\" fill=\"white\" stroke-width=\"1\" /><text x=\"1322.3154882812503\" y=\"25.0\" dominant-baseline=\"middle\" text-anchor=\"middle\" font-size=\"14px\" font-family=\"Arial\">Ry(x_4)</text><rect x=\"1372.2066406250003\" y=\"5.0\" width=\"59.61578125\" height=\"40\" stroke=\"black\" fill=\"white\" stroke-width=\"1\" /><text x=\"1402.0145312500003\" y=\"25.0\" dominant-baseline=\"middle\" text-anchor=\"middle\" font-size=\"14px\" font-family=\"Arial\">Rz(x_5)</text><rect x=\"1451.8224218750004\" y=\"55.0\" width=\"60.5523046875\" height=\"40\" stroke=\"black\" fill=\"white\" stroke-width=\"1\" /><text x=\"1482.0985742187504\" y=\"75.0\" dominant-baseline=\"middle\" text-anchor=\"middle\" font-size=\"14px\" font-family=\"Arial\">Rx(x_9)</text><rect x=\"1532.3747265625004\" y=\"55.0\" width=\"68.68953125\" height=\"40\" stroke=\"black\" fill=\"white\" stroke-width=\"1\" /><text x=\"1566.7194921875005\" y=\"75.0\" dominant-baseline=\"middle\" text-anchor=\"middle\" font-size=\"14px\" font-family=\"Arial\">Ry(x_10)</text><rect x=\"1621.0642578125005\" y=\"55.0\" width=\"68.5230078125\" height=\"40\" stroke=\"black\" fill=\"white\" stroke-width=\"1\" /><text x=\"1655.3257617187505\" y=\"75.0\" dominant-baseline=\"middle\" text-anchor=\"middle\" font-size=\"14px\" font-family=\"Arial\">Rz(x_11)</text><rect x=\"1709.5872656250006\" y=\"5.0\" width=\"89.31109375000001\" height=\"40\" stroke=\"black\" fill=\"white\" stroke-width=\"1\" /><text x=\"1754.2428125000006\" y=\"25.0\" dominant-baseline=\"middle\" text-anchor=\"middle\" font-size=\"14px\" font-family=\"Arial\">Rx(theta_3)</text><rect x=\"1818.8983593750006\" y=\"5.0\" width=\"88.54109375\" height=\"40\" stroke=\"black\" fill=\"white\" stroke-width=\"1\" /><text x=\"1863.1689062500006\" y=\"25.0\" dominant-baseline=\"middle\" text-anchor=\"middle\" font-size=\"14px\" font-family=\"Arial\">Ry(theta_4)</text><rect x=\"1927.4394531250007\" y=\"5.0\" width=\"88.37457031250001\" height=\"40\" stroke=\"black\" fill=\"white\" stroke-width=\"1\" /><text x=\"1971.6267382812507\" y=\"25.0\" dominant-baseline=\"middle\" text-anchor=\"middle\" font-size=\"14px\" font-family=\"Arial\">Rz(theta_5)</text><rect x=\"2035.8140234375007\" y=\"55.0\" width=\"89.31109375000001\" height=\"40\" stroke=\"black\" fill=\"white\" stroke-width=\"1\" /><text x=\"2080.4695703125008\" y=\"75.0\" dominant-baseline=\"middle\" text-anchor=\"middle\" font-size=\"14px\" font-family=\"Arial\">Rx(theta_9)</text><rect x=\"2145.1251171875006\" y=\"55.0\" width=\"97.4483203125\" height=\"40\" stroke=\"black\" fill=\"white\" stroke-width=\"1\" /><text x=\"2193.8492773437506\" y=\"75.0\" dominant-baseline=\"middle\" text-anchor=\"middle\" font-size=\"14px\" font-family=\"Arial\">Ry(theta_10)</text><rect x=\"2262.5734375000006\" y=\"55.0\" width=\"97.28179687500001\" height=\"40\" stroke=\"black\" fill=\"white\" stroke-width=\"1\" /><text x=\"2311.2143359375004\" y=\"75.0\" dominant-baseline=\"middle\" text-anchor=\"middle\" font-size=\"14px\" font-family=\"Arial\">Rz(theta_11)</text><circle cx=\"2399.8552343750007\" cy=\"25.0\" r=\"10.0\" /><circle cx=\"2399.8552343750007\" cy=\"75.0\" r=\"10.0\" /><rect x=\"2439.8552343750007\" y=\"5.0\" width=\"69.45953125\" height=\"40\" stroke=\"black\" fill=\"white\" stroke-width=\"1\" /><text x=\"2474.5850000000005\" y=\"25.0\" dominant-baseline=\"middle\" text-anchor=\"middle\" font-size=\"14px\" font-family=\"Arial\">Rx(x_12)</text><rect x=\"2529.3147656250007\" y=\"5.0\" width=\"68.68953125\" height=\"40\" stroke=\"black\" fill=\"white\" stroke-width=\"1\" /><text x=\"2563.659531250001\" y=\"25.0\" dominant-baseline=\"middle\" text-anchor=\"middle\" font-size=\"14px\" font-family=\"Arial\">Ry(x_13)</text><rect x=\"2618.004296875001\" y=\"5.0\" width=\"68.5230078125\" height=\"40\" stroke=\"black\" fill=\"white\" stroke-width=\"1\" /><text x=\"2652.2658007812506\" y=\"25.0\" dominant-baseline=\"middle\" text-anchor=\"middle\" font-size=\"14px\" font-family=\"Arial\">Rz(x_14)</text><rect x=\"2706.527304687501\" y=\"55.0\" width=\"69.45953125\" height=\"40\" stroke=\"black\" fill=\"white\" stroke-width=\"1\" /><text x=\"2741.2570703125007\" y=\"75.0\" dominant-baseline=\"middle\" text-anchor=\"middle\" font-size=\"14px\" font-family=\"Arial\">Rx(x_18)</text><rect x=\"2795.986835937501\" y=\"55.0\" width=\"68.68953125\" height=\"40\" stroke=\"black\" fill=\"white\" stroke-width=\"1\" /><text x=\"2830.331601562501\" y=\"75.0\" dominant-baseline=\"middle\" text-anchor=\"middle\" font-size=\"14px\" font-family=\"Arial\">Ry(x_19)</text><rect x=\"2884.676367187501\" y=\"55.0\" width=\"68.5230078125\" height=\"40\" stroke=\"black\" fill=\"white\" stroke-width=\"1\" /><text x=\"2918.937871093751\" y=\"75.0\" dominant-baseline=\"middle\" text-anchor=\"middle\" font-size=\"14px\" font-family=\"Arial\">Rz(x_20)</text><rect x=\"2973.199375000001\" y=\"5.0\" width=\"98.21832031250001\" height=\"40\" stroke=\"black\" fill=\"white\" stroke-width=\"1\" /><text x=\"3022.308535156251\" y=\"25.0\" dominant-baseline=\"middle\" text-anchor=\"middle\" font-size=\"14px\" font-family=\"Arial\">Rx(theta_12)</text><rect x=\"3091.417695312501\" y=\"5.0\" width=\"97.4483203125\" height=\"40\" stroke=\"black\" fill=\"white\" stroke-width=\"1\" /><text x=\"3140.141855468751\" y=\"25.0\" dominant-baseline=\"middle\" text-anchor=\"middle\" font-size=\"14px\" font-family=\"Arial\">Ry(theta_13)</text><rect x=\"3208.866015625001\" y=\"5.0\" width=\"97.28179687500001\" height=\"40\" stroke=\"black\" fill=\"white\" stroke-width=\"1\" /><text x=\"3257.506914062501\" y=\"25.0\" dominant-baseline=\"middle\" text-anchor=\"middle\" font-size=\"14px\" font-family=\"Arial\">Rz(theta_14)</text><rect x=\"3326.1478125000012\" y=\"55.0\" width=\"98.21832031250001\" height=\"40\" stroke=\"black\" fill=\"white\" stroke-width=\"1\" /><text x=\"3375.256972656251\" y=\"75.0\" dominant-baseline=\"middle\" text-anchor=\"middle\" font-size=\"14px\" font-family=\"Arial\">Rx(theta_18)</text><rect x=\"3444.3661328125013\" y=\"55.0\" width=\"97.4483203125\" height=\"40\" stroke=\"black\" fill=\"white\" stroke-width=\"1\" /><text x=\"3493.0902929687513\" y=\"75.0\" dominant-baseline=\"middle\" text-anchor=\"middle\" font-size=\"14px\" font-family=\"Arial\">Ry(theta_19)</text><rect x=\"3561.8144531250014\" y=\"55.0\" width=\"97.28179687500001\" height=\"40\" stroke=\"black\" fill=\"white\" stroke-width=\"1\" /><text x=\"3610.455351562501\" y=\"75.0\" dominant-baseline=\"middle\" text-anchor=\"middle\" font-size=\"14px\" font-family=\"Arial\">Rz(theta_20)</text><rect x=\"3679.0962500000014\" y=\"5.0\" width=\"69.45953125\" height=\"40\" stroke=\"black\" fill=\"white\" stroke-width=\"1\" /><text x=\"3713.826015625001\" y=\"25.0\" dominant-baseline=\"middle\" text-anchor=\"middle\" font-size=\"14px\" font-family=\"Arial\">Rx(x_15)</text><rect x=\"3768.5557812500015\" y=\"5.0\" width=\"68.68953125\" height=\"40\" stroke=\"black\" fill=\"white\" stroke-width=\"1\" /><text x=\"3802.9005468750015\" y=\"25.0\" dominant-baseline=\"middle\" text-anchor=\"middle\" font-size=\"14px\" font-family=\"Arial\">Ry(x_16)</text><rect x=\"3857.2453125000015\" y=\"5.0\" width=\"68.5230078125\" height=\"40\" stroke=\"black\" fill=\"white\" stroke-width=\"1\" /><text x=\"3891.5068164062513\" y=\"25.0\" dominant-baseline=\"middle\" text-anchor=\"middle\" font-size=\"14px\" font-family=\"Arial\">Rz(x_17)</text><rect x=\"3945.7683203125016\" y=\"55.0\" width=\"69.45953125\" height=\"40\" stroke=\"black\" fill=\"white\" stroke-width=\"1\" /><text x=\"3980.4980859375014\" y=\"75.0\" dominant-baseline=\"middle\" text-anchor=\"middle\" font-size=\"14px\" font-family=\"Arial\">Rx(x_21)</text><rect x=\"4035.2278515625017\" y=\"55.0\" width=\"68.68953125\" height=\"40\" stroke=\"black\" fill=\"white\" stroke-width=\"1\" /><text x=\"4069.5726171875017\" y=\"75.0\" dominant-baseline=\"middle\" text-anchor=\"middle\" font-size=\"14px\" font-family=\"Arial\">Ry(x_22)</text><rect x=\"4123.917382812501\" y=\"55.0\" width=\"68.5230078125\" height=\"40\" stroke=\"black\" fill=\"white\" stroke-width=\"1\" /><text x=\"4158.1788867187515\" y=\"75.0\" dominant-baseline=\"middle\" text-anchor=\"middle\" font-size=\"14px\" font-family=\"Arial\">Rz(x_23)</text><rect x=\"4212.440390625001\" y=\"5.0\" width=\"98.21832031250001\" height=\"40\" stroke=\"black\" fill=\"white\" stroke-width=\"1\" /><text x=\"4261.549550781251\" y=\"25.0\" dominant-baseline=\"middle\" text-anchor=\"middle\" font-size=\"14px\" font-family=\"Arial\">Rx(theta_15)</text><rect x=\"4330.6587109375005\" y=\"5.0\" width=\"97.4483203125\" height=\"40\" stroke=\"black\" fill=\"white\" stroke-width=\"1\" /><text x=\"4379.3828710937505\" y=\"25.0\" dominant-baseline=\"middle\" text-anchor=\"middle\" font-size=\"14px\" font-family=\"Arial\">Ry(theta_16)</text><rect x=\"4448.107031250001\" y=\"5.0\" width=\"97.28179687500001\" height=\"40\" stroke=\"black\" fill=\"white\" stroke-width=\"1\" /><text x=\"4496.747929687501\" y=\"25.0\" dominant-baseline=\"middle\" text-anchor=\"middle\" font-size=\"14px\" font-family=\"Arial\">Rz(theta_17)</text><rect x=\"4565.388828125\" y=\"55.0\" width=\"98.21832031250001\" height=\"40\" stroke=\"black\" fill=\"white\" stroke-width=\"1\" /><text x=\"4614.49798828125\" y=\"75.0\" dominant-baseline=\"middle\" text-anchor=\"middle\" font-size=\"14px\" font-family=\"Arial\">Rx(theta_21)</text><rect x=\"4683.6071484375\" y=\"55.0\" width=\"97.4483203125\" height=\"40\" stroke=\"black\" fill=\"white\" stroke-width=\"1\" /><text x=\"4732.33130859375\" y=\"75.0\" dominant-baseline=\"middle\" text-anchor=\"middle\" font-size=\"14px\" font-family=\"Arial\">Ry(theta_22)</text><rect x=\"4801.05546875\" y=\"55.0\" width=\"97.28179687500001\" height=\"40\" stroke=\"black\" fill=\"white\" stroke-width=\"1\" /><text x=\"4849.6963671875\" y=\"75.0\" dominant-baseline=\"middle\" text-anchor=\"middle\" font-size=\"14px\" font-family=\"Arial\">Rz(theta_23)</text><circle cx=\"4938.337265624999\" cy=\"25.0\" r=\"10.0\" /><circle cx=\"4938.337265624999\" cy=\"75.0\" r=\"10.0\" /><rect x=\"4978.337265624999\" y=\"5.0\" width=\"69.45953125\" height=\"40\" stroke=\"black\" fill=\"white\" stroke-width=\"1\" /><text x=\"5013.06703125\" y=\"25.0\" dominant-baseline=\"middle\" text-anchor=\"middle\" font-size=\"14px\" font-family=\"Arial\">Rx(x_24)</text><rect x=\"5067.796796874999\" y=\"5.0\" width=\"68.68953125\" height=\"40\" stroke=\"black\" fill=\"white\" stroke-width=\"1\" /><text x=\"5102.141562499999\" y=\"25.0\" dominant-baseline=\"middle\" text-anchor=\"middle\" font-size=\"14px\" font-family=\"Arial\">Ry(x_25)</text><rect x=\"5156.486328124999\" y=\"5.0\" width=\"68.5230078125\" height=\"40\" stroke=\"black\" fill=\"white\" stroke-width=\"1\" /><text x=\"5190.747832031249\" y=\"25.0\" dominant-baseline=\"middle\" text-anchor=\"middle\" font-size=\"14px\" font-family=\"Arial\">Rz(x_26)</text><rect x=\"5245.009335937499\" y=\"55.0\" width=\"69.45953125\" height=\"40\" stroke=\"black\" fill=\"white\" stroke-width=\"1\" /><text x=\"5279.739101562499\" y=\"75.0\" dominant-baseline=\"middle\" text-anchor=\"middle\" font-size=\"14px\" font-family=\"Arial\">Rx(x_30)</text><rect x=\"5334.468867187498\" y=\"55.0\" width=\"68.68953125\" height=\"40\" stroke=\"black\" fill=\"white\" stroke-width=\"1\" /><text x=\"5368.813632812498\" y=\"75.0\" dominant-baseline=\"middle\" text-anchor=\"middle\" font-size=\"14px\" font-family=\"Arial\">Ry(x_31)</text><rect x=\"5423.158398437498\" y=\"55.0\" width=\"68.5230078125\" height=\"40\" stroke=\"black\" fill=\"white\" stroke-width=\"1\" /><text x=\"5457.419902343749\" y=\"75.0\" dominant-baseline=\"middle\" text-anchor=\"middle\" font-size=\"14px\" font-family=\"Arial\">Rz(x_32)</text><rect x=\"5511.681406249998\" y=\"5.0\" width=\"98.21832031250001\" height=\"40\" stroke=\"black\" fill=\"white\" stroke-width=\"1\" /><text x=\"5560.790566406248\" y=\"25.0\" dominant-baseline=\"middle\" text-anchor=\"middle\" font-size=\"14px\" font-family=\"Arial\">Rx(theta_24)</text><rect x=\"5629.899726562498\" y=\"5.0\" width=\"97.4483203125\" height=\"40\" stroke=\"black\" fill=\"white\" stroke-width=\"1\" /><text x=\"5678.623886718748\" y=\"25.0\" dominant-baseline=\"middle\" text-anchor=\"middle\" font-size=\"14px\" font-family=\"Arial\">Ry(theta_25)</text><rect x=\"5747.348046874998\" y=\"5.0\" width=\"97.28179687500001\" height=\"40\" stroke=\"black\" fill=\"white\" stroke-width=\"1\" /><text x=\"5795.988945312498\" y=\"25.0\" dominant-baseline=\"middle\" text-anchor=\"middle\" font-size=\"14px\" font-family=\"Arial\">Rz(theta_26)</text><rect x=\"5864.629843749997\" y=\"55.0\" width=\"98.21832031250001\" height=\"40\" stroke=\"black\" fill=\"white\" stroke-width=\"1\" /><text x=\"5913.7390039062475\" y=\"75.0\" dominant-baseline=\"middle\" text-anchor=\"middle\" font-size=\"14px\" font-family=\"Arial\">Rx(theta_30)</text><rect x=\"5982.848164062497\" y=\"55.0\" width=\"97.4483203125\" height=\"40\" stroke=\"black\" fill=\"white\" stroke-width=\"1\" /><text x=\"6031.572324218747\" y=\"75.0\" dominant-baseline=\"middle\" text-anchor=\"middle\" font-size=\"14px\" font-family=\"Arial\">Ry(theta_31)</text><rect x=\"6100.296484374997\" y=\"55.0\" width=\"97.28179687500001\" height=\"40\" stroke=\"black\" fill=\"white\" stroke-width=\"1\" /><text x=\"6148.937382812497\" y=\"75.0\" dominant-baseline=\"middle\" text-anchor=\"middle\" font-size=\"14px\" font-family=\"Arial\">Rz(theta_32)</text><rect x=\"6217.5782812499965\" y=\"5.0\" width=\"69.45953125\" height=\"40\" stroke=\"black\" fill=\"white\" stroke-width=\"1\" /><text x=\"6252.308046874997\" y=\"25.0\" dominant-baseline=\"middle\" text-anchor=\"middle\" font-size=\"14px\" font-family=\"Arial\">Rx(x_27)</text><rect x=\"6307.037812499996\" y=\"5.0\" width=\"68.68953125\" height=\"40\" stroke=\"black\" fill=\"white\" stroke-width=\"1\" /><text x=\"6341.382578124996\" y=\"25.0\" dominant-baseline=\"middle\" text-anchor=\"middle\" font-size=\"14px\" font-family=\"Arial\">Ry(x_28)</text><rect x=\"6395.727343749996\" y=\"5.0\" width=\"68.5230078125\" height=\"40\" stroke=\"black\" fill=\"white\" stroke-width=\"1\" /><text x=\"6429.988847656246\" y=\"25.0\" dominant-baseline=\"middle\" text-anchor=\"middle\" font-size=\"14px\" font-family=\"Arial\">Rz(x_29)</text><rect x=\"6484.250351562496\" y=\"55.0\" width=\"69.45953125\" height=\"40\" stroke=\"black\" fill=\"white\" stroke-width=\"1\" /><text x=\"6518.980117187496\" y=\"75.0\" dominant-baseline=\"middle\" text-anchor=\"middle\" font-size=\"14px\" font-family=\"Arial\">Rx(x_33)</text><rect x=\"6573.709882812495\" y=\"55.0\" width=\"68.68953125\" height=\"40\" stroke=\"black\" fill=\"white\" stroke-width=\"1\" /><text x=\"6608.054648437495\" y=\"75.0\" dominant-baseline=\"middle\" text-anchor=\"middle\" font-size=\"14px\" font-family=\"Arial\">Ry(x_34)</text><rect x=\"6662.399414062495\" y=\"55.0\" width=\"68.5230078125\" height=\"40\" stroke=\"black\" fill=\"white\" stroke-width=\"1\" /><text x=\"6696.660917968746\" y=\"75.0\" dominant-baseline=\"middle\" text-anchor=\"middle\" font-size=\"14px\" font-family=\"Arial\">Rz(x_35)</text><rect x=\"6750.922421874995\" y=\"5.0\" width=\"98.21832031250001\" height=\"40\" stroke=\"black\" fill=\"white\" stroke-width=\"1\" /><text x=\"6800.031582031245\" y=\"25.0\" dominant-baseline=\"middle\" text-anchor=\"middle\" font-size=\"14px\" font-family=\"Arial\">Rx(theta_27)</text><rect x=\"6869.140742187495\" y=\"5.0\" width=\"97.4483203125\" height=\"40\" stroke=\"black\" fill=\"white\" stroke-width=\"1\" /><text x=\"6917.864902343745\" y=\"25.0\" dominant-baseline=\"middle\" text-anchor=\"middle\" font-size=\"14px\" font-family=\"Arial\">Ry(theta_28)</text><rect x=\"6986.589062499995\" y=\"5.0\" width=\"97.28179687500001\" height=\"40\" stroke=\"black\" fill=\"white\" stroke-width=\"1\" /><text x=\"7035.229960937495\" y=\"25.0\" dominant-baseline=\"middle\" text-anchor=\"middle\" font-size=\"14px\" font-family=\"Arial\">Rz(theta_29)</text><rect x=\"7103.870859374994\" y=\"55.0\" width=\"98.21832031250001\" height=\"40\" stroke=\"black\" fill=\"white\" stroke-width=\"1\" /><text x=\"7152.980019531245\" y=\"75.0\" dominant-baseline=\"middle\" text-anchor=\"middle\" font-size=\"14px\" font-family=\"Arial\">Rx(theta_33)</text><rect x=\"7222.089179687494\" y=\"55.0\" width=\"97.4483203125\" height=\"40\" stroke=\"black\" fill=\"white\" stroke-width=\"1\" /><text x=\"7270.813339843744\" y=\"75.0\" dominant-baseline=\"middle\" text-anchor=\"middle\" font-size=\"14px\" font-family=\"Arial\">Ry(theta_34)</text><rect x=\"7339.537499999994\" y=\"55.0\" width=\"97.28179687500001\" height=\"40\" stroke=\"black\" fill=\"white\" stroke-width=\"1\" /><text x=\"7388.178398437494\" y=\"75.0\" dominant-baseline=\"middle\" text-anchor=\"middle\" font-size=\"14px\" font-family=\"Arial\">Rz(theta_35)</text></svg>"
          },
          "metadata": {},
          "execution_count": 11
        }
      ]
    },
    {
      "cell_type": "code",
      "source": [
        "def discriminator_drc_circuit(qubits,features_size,use_entanglement=False, layers=1):\n",
        "  circuit = cirq.Circuit()\n",
        "  num_qubits = len(qubits)\n",
        "  if(features_size % 3 != 0):\n",
        "    padding = (3-(features_size % 3)) % 3\n",
        "  else:\n",
        "    padding = 0\n",
        "\n",
        "  bias_symbols = sp.symbols('theta_:'+str((features_size + padding)*layers*num_qubits)) \n",
        "  bias_symbols = np.asarray(bias_symbols).reshape(layers,num_qubits,features_size+padding) \n",
        "  features_symbols = sp.symbols('x_:'+str((features_size + padding)*layers*num_qubits))\n",
        "  features_symbols = np.asarray(features_symbols).reshape(layers,num_qubits,features_size+padding)\n",
        "  for layer in range(layers):\n",
        "    for gate in range(int(np.ceil(features_size/3))):\n",
        "      circuit += [one_qubit_unitary(q, features_symbols[layer,i,gate*3:(gate+1)*3]) for i,q in enumerate(qubits)]\n",
        "      circuit += [one_qubit_unitary(q, bias_symbols[layer,i,gate*3:(gate+1)*3]) for i,q in enumerate(qubits)]\n",
        "    \n",
        "    if num_qubits>1 and (layer != layers-1 or layers == 1) and use_entanglement :\n",
        "      circuit += entanglement_unitary(qubits,num_qubits)\n",
        "  \n",
        "  return circuit, list(bias_symbols.flat), list(features_symbols.flat)"
      ],
      "metadata": {
        "id": "f3A3D9SKv5Kx"
      },
      "execution_count": null,
      "outputs": []
    },
    {
      "cell_type": "code",
      "source": [
        "disc,symbols1,symbols2=discriminator_drc_circuit(cirq.GridQubit.rect(1,1),5,use_entanglement=True,layers=2)\n",
        "print(disc)\n",
        "print(symbols1)\n",
        "print(symbols2)\n",
        "symbols = [str(symb) for symb in symbols1 + symbols2]\n",
        "print(symbols)\n",
        "print(sorted(symbols))\n",
        "indices = tf.constant([sorted(symbols).index(a) for a in symbols])\n",
        "print(indices)"
      ],
      "metadata": {
        "colab": {
          "base_uri": "https://localhost:8080/"
        },
        "id": "hyUoSF_bYiwX",
        "outputId": "a6c34e10-394e-470f-d01e-a601cb6fac34"
      },
      "execution_count": null,
      "outputs": [
        {
          "output_type": "stream",
          "name": "stdout",
          "text": [
            "(0, 0): ───Rx(x_0)───Ry(x_1)───Rz(x_2)───Rx(theta_0)───Ry(theta_1)───Rz(theta_2)───Rx(x_3)───Ry(x_4)───Rz(x_5)───Rx(theta_3)───Ry(theta_4)───Rz(theta_5)───Rx(x_6)───Ry(x_7)───Rz(x_8)───Rx(theta_6)───Ry(theta_7)───Rz(theta_8)───Rx(x_9)───Ry(x_10)───Rz(x_11)───Rx(theta_9)───Ry(theta_10)───Rz(theta_11)───\n",
            "[theta_0, theta_1, theta_2, theta_3, theta_4, theta_5, theta_6, theta_7, theta_8, theta_9, theta_10, theta_11]\n",
            "[x_0, x_1, x_2, x_3, x_4, x_5, x_6, x_7, x_8, x_9, x_10, x_11]\n",
            "['theta_0', 'theta_1', 'theta_2', 'theta_3', 'theta_4', 'theta_5', 'theta_6', 'theta_7', 'theta_8', 'theta_9', 'theta_10', 'theta_11', 'x_0', 'x_1', 'x_2', 'x_3', 'x_4', 'x_5', 'x_6', 'x_7', 'x_8', 'x_9', 'x_10', 'x_11']\n",
            "['theta_0', 'theta_1', 'theta_10', 'theta_11', 'theta_2', 'theta_3', 'theta_4', 'theta_5', 'theta_6', 'theta_7', 'theta_8', 'theta_9', 'x_0', 'x_1', 'x_10', 'x_11', 'x_2', 'x_3', 'x_4', 'x_5', 'x_6', 'x_7', 'x_8', 'x_9']\n",
            "tf.Tensor([ 0  1  4  5  6  7  8  9 10 11  2  3 12 13 16 17 18 19 20 21 22 23 14 15], shape=(24,), dtype=int32)\n"
          ]
        }
      ]
    },
    {
      "cell_type": "code",
      "source": [
        "\"\"\"This does not work because \n",
        "1. We did not subclass a tf.layers.Layers object for below expressions\n",
        "2. So the w and thetas Variable objects are wrapped as a Layer object using Lambda layer object\n",
        "3. But Lambda layer creates bugs and Variables in Lambda layer are not counted as trainable parameters sometimes and here is one of the case where this \n",
        "happens as the model summary shows 0 trainable parameters\"\"\"\n",
        "\n",
        "\n",
        "# def data_reuploading(qubits,features_size,inputs,use_entanglement=False,layers=1):\n",
        "  \n",
        "#   circuit,bias_symbols,input_symbols = discriminator_circuit(qubits,features_size,use_entanglement,layers=layers)\n",
        "\n",
        "#   symbols = [str(symb) for symb in bias_symbols + input_symbols]\n",
        "#   indices = tf.constant([sorted(symbols).index(a) for a in symbols])\n",
        " \n",
        "#   padding = 3 - features_size % 3\n",
        "#   if padding!=0:\n",
        "#     inputs = tf.pad(inputs,tf.constant([[0,0],[0,padding]]),mode=\"CONSTANT\")\n",
        "#     # for i in range(padding):\n",
        "#     #    np.append(inputs,np.array([0]),axis=0)\n",
        "#   # batch_size = tf.shape(inputs)[1]\n",
        "\n",
        "#   total_inputs = tf.tile(inputs, tf.constant([1,layers*len(qubits)]))\n",
        "\n",
        "#   w_init = tf.random_uniform_initializer(minval=-1, maxval=1)\n",
        "#   w = tf.Variable(\n",
        "#             initial_value=w_init(shape=(1,len(input_symbols)), dtype=\"float32\"),\n",
        "#             trainable=True, name=\"discriminator-weights\")\n",
        "  \n",
        "#   inputs_weighted = tf.math.multiply(w,total_inputs,name=\"discriminator_weighted_inputs\")\n",
        "#   # inputs_weighted = tf.math.multiply(w,inputs,name=\"discriminator_weighted_inputs\")\n",
        "#   thetas_init = tf.random_uniform_initializer(minval=-np.pi/2, maxval=np.pi/2)\n",
        "#   thetas = tf.Variable(\n",
        "#             initial_value=thetas_init(shape=(1,len(bias_symbols)), dtype=\"float32\"),\n",
        "#             trainable=True, name= \"discriminator-thetas\")\n",
        "  \n",
        "\n",
        "#   # thetas_batch = tf.tile(thetas, multiples=[batch_size, 1], name='discriminator_tiled_up_thetas')\n",
        "\n",
        "#   drc_empty_circuit = tfq.convert_to_tensor([cirq.Circuit()])\n",
        "#   # empty_circuit_batch = tf.repeat(drc_empty_circuit, repeats=batch_size, name= 'discriminator_tiled_up_empty_circuits')\n",
        "#   joined_params = tf.concat([thetas,inputs_weighted],axis=-1)\n",
        "#   # joined_params = tf.concat([thetas_batch,inputs_weighted],axis=-1)\n",
        "#   # joined_params = tf.gather(joined_params,indices,name=\"discriminator_joined_params\")\n",
        "#   observables = [cirq.Z(qubits[-1])]\n",
        "\n",
        "#   pqc_layer = tfq.layers.ControlledPQC(circuit,observables)\n",
        "  \n",
        "#   # return pqc_layer([empty_circuit_batch,joined_params])\n",
        "#   return pqc_layer([drc_empty_circuit,joined_params])"
      ],
      "metadata": {
        "id": "XzT-k5ZBd94O",
        "colab": {
          "base_uri": "https://localhost:8080/",
          "height": 71
        },
        "outputId": "dd4181cb-8d93-4f35-db25-a751869854a4"
      },
      "execution_count": null,
      "outputs": [
        {
          "output_type": "execute_result",
          "data": {
            "text/plain": [
              "'This does not work because \\n1. We did not subclass a tf.layers.Layers object for below expressions\\n2. So the w and thetas Variable objects are wrapped as a Layer object using Lambda layer object\\n3. But Lambda layer creates bugs and Variables in Lambda layer are not counted as trainable parameters sometimes and here is one of the case where this \\nhappens as the model summary shows 0 trainable parameters'"
            ],
            "application/vnd.google.colaboratory.intrinsic+json": {
              "type": "string"
            }
          },
          "metadata": {},
          "execution_count": 14
        }
      ]
    },
    {
      "cell_type": "code",
      "source": [
        "class ReUploadingPQC(tf.keras.layers.Layer):\n",
        "    def __init__(self, n_qubits, n_layers,features_size , use_entanglement=True, name=\"re-uploading_PQC\"):     #filter_size\n",
        "        super(ReUploadingPQC, self).__init__(name=name)\n",
        "        self.n_layers = n_layers\n",
        "        self.n_qubits = n_qubits\n",
        "        # self.filter_size = filter_size\n",
        "        self.features_size = features_size\n",
        "        self.use_entanglement = use_entanglement\n",
        "        self.main_name = name\n",
        "\n",
        "        self.qubits = cirq.GridQubit.rect(1, n_qubits)\n",
        "        self.observables = [cirq.Z(self.qubits[-1])]  # Measure only the last qubit\n",
        "\n",
        "        # generate the data re-uploading circuit\n",
        "        # circuit, bias_symbols, input_symbols = generate_circuit(self.qubits, self.n_layers, self.filter_size, use_entanglement=self.use_entanglement)\n",
        "        circuit, bias_symbols, input_symbols = discriminator_drc_circuit(qubits=self.qubits,features_size = self.features_size,layers= self.n_layers, use_entanglement=self.use_entanglement)\n",
        "\n",
        "        # Define explicit symbol order.\n",
        "        symbols = [str(symb) for symb in bias_symbols + input_symbols]\n",
        "        self.indices = tf.constant([sorted(symbols).index(a) for a in symbols])\n",
        "\n",
        "        # thetas (bias) initialization\n",
        "        thetas_init = tf.random_uniform_initializer(minval=-1, maxval=1)\n",
        "        self.thetas = tf.Variable(\n",
        "            initial_value=thetas_init(shape=(1, len(bias_symbols)), dtype=\"float32\"),\n",
        "            trainable=True, name=self.main_name + \"-thetas\"\n",
        "        )\n",
        "        \n",
        "        # weights initialization\n",
        "        w_init = tf.random_uniform_initializer(minval=-1, maxval=1)\n",
        "        self.w = tf.Variable(\n",
        "            initial_value=w_init(shape=(1, len(input_symbols)), dtype=\"float32\"),\n",
        "            trainable=True, name=self.main_name + \"-weights\"\n",
        "        )\n",
        "\n",
        "        # dummy inputs initialization\n",
        "        # using the empty circuits as hacks for ControlledPQC\n",
        "        self.empty_circuit = tfq.convert_to_tensor([cirq.Circuit()])\n",
        "\n",
        "        self.computation_layer = tfq.layers.ControlledPQC(circuit, self.observables)\n",
        "    \n",
        "    def get_config(self):\n",
        "\n",
        "        config = super().get_config().copy()\n",
        "        config.update({\n",
        "            'n_qubits': self.n_qubits,\n",
        "            'n_layers': self.n_layers,\n",
        "            'features_size': self.features_size,\n",
        "            'use_entanglement': self.use_entanglement,\n",
        "            'name': self.main_name,\n",
        "        })\n",
        "        return config\n",
        "    \n",
        "    def call(self, inputs):\n",
        "        batch_size = tf.shape(inputs)[0]\n",
        "\n",
        "        # Flatten inputs (from 2D images to 1D array)\n",
        "        # inputs_flattened = tf.keras.layers.Flatten()(inputs)\n",
        "\n",
        "        # Pad the inputs if it is not a multiple of 3\n",
        "        # padding = 3 - inputs_flattened.shape[1]%3\n",
        "        # padding = 3 - inputs.shape[0]%3\n",
        "        padding = 3 - inputs.shape[1]%3\n",
        "        # padding = 1\n",
        "        if padding%3 != 0:\n",
        "            # inputs_flattened = tf.pad(inputs_flattened, tf.constant([[0, 0,], [0, padding]]))\n",
        "            inputs = tf.pad(inputs,tf.constant([[0,0],[0,padding]]),mode=\"CONSTANT\")\n",
        "        # Repeat the inputs for every layer and qubit\n",
        "        # inputs_flattened = tf.tile(inputs_flattened, tf.constant([1,self.n_layers*self.n_qubits]))\n",
        "        total_inputs = tf.tile(inputs, multiples=[1,self.n_layers*self.n_qubits])\n",
        "        # total_inputs = tf.tile(inputs, multiples=[1,self.n_layers])\n",
        "        # Weight the inputs\n",
        "        # inputs_weighted = tf.math.multiply(self.w, inputs_flattened, name=self.main_name + '-weighted_inputs')  \n",
        "        inputs_weighted = tf.math.multiply(self.w, total_inputs, name=self.main_name + '-weighted_inputs')\n",
        "        # Duplicate parameters and dummy inputs\n",
        "        # One for every batch\n",
        "        thetas_batch = tf.tile(self.thetas, multiples=[batch_size, 1], name=self.main_name + '-tiled_up_thetas')    \n",
        "        empty_circuit_batch = tf.repeat(self.empty_circuit, repeats=batch_size, name=self.main_name + '-tiled_up_empty_circuits')\n",
        "\n",
        "        joined_params = tf.concat([thetas_batch, inputs_weighted], axis=-1)               \n",
        "        # joined_params = tf.concat([self.thetas, inputs_weighted], axis=-1)\n",
        "        joined_params = tf.gather(joined_params, self.indices, axis=-1, name=self.main_name + '-joined_params')\n",
        "        \n",
        "        return self.computation_layer([empty_circuit_batch, joined_params])\n",
        "        # return self.computation_layer([self.empty_circuit, joined_params])"
      ],
      "metadata": {
        "id": "z_VLYzGNn9DI"
      },
      "execution_count": null,
      "outputs": []
    },
    {
      "cell_type": "code",
      "source": [
        "def discriminator_layer(n_qubits,features_size,inputs,use_entanglement=False,layers=1,name=\"discriminator_drc_layer\"):\n",
        "  # inputs_tensor = tf.keras.Input(shape=(features_size,),dtype=tf.dtypes.float32,name=\"inputs\")\n",
        "  # drc = data_reuploading(qubits,features_size,use_entanglement=True,layers=layers,inputs=inputs_tensor)\n",
        "  # model = tf.keras.Sequential()\n",
        "  # model.add(tf.keras.layers.Input(shape=(5),name=\"input\"))\n",
        "  # model.add(data_reuploading(qubits,features_size,use_entanglement=True,layers=layers,inputs=))\n",
        "  # model = tf.keras.Model(inputs=[inputs_tensor],outputs=[drc])\n",
        "  # return model\n",
        "  pqc = ReUploadingPQC(n_qubits=n_qubits,features_size=features_size,use_entanglement=use_entanglement,n_layers=layers,name= name)\n",
        "  computations = pqc(inputs)\n",
        "  return computations"
      ],
      "metadata": {
        "id": "m2dFZsFfYjTF"
      },
      "execution_count": null,
      "outputs": []
    },
    {
      "cell_type": "code",
      "source": [
        "qubits = 2\n",
        "features=len(X_train_0[0])\n",
        "layers= 4\n",
        "inputs_tensor = tf.keras.Input(shape=(features,),dtype = tf.dtypes.float32,name='input')\n",
        "d_layer = discriminator_layer(n_qubits=qubits,features_size=features,inputs=inputs_tensor, use_entanglement=True,layers=layers)\n",
        "discriminator_model = tf.keras.Model(inputs=[inputs_tensor], outputs=d_layer)\n",
        "\n",
        "# discriminator_model = discriminator(cirq.GridQubit.rect(1,2),5,use_entanglement=True,layers=3)"
      ],
      "metadata": {
        "id": "FSExRs3KxZpU"
      },
      "execution_count": null,
      "outputs": []
    },
    {
      "cell_type": "code",
      "source": [
        "inputs_tensor = tf.keras.Input(shape=(5,),dtype=tf.dtypes.float32,name=\"inputs\")\n",
        "print(inputs_tensor)\n",
        "inputs_tensor = tf.pad(inputs_tensor,tf.constant([[0,0],[0,1]]),mode=\"CONSTANT\")\n",
        "print(inputs_tensor)\n",
        "tf.shape(inputs_tensor)[0]"
      ],
      "metadata": {
        "colab": {
          "base_uri": "https://localhost:8080/"
        },
        "id": "iT_lsDG5Dtmf",
        "outputId": "4e8d613e-3886-477f-ee21-a7b89ccacf02"
      },
      "execution_count": null,
      "outputs": [
        {
          "output_type": "stream",
          "name": "stdout",
          "text": [
            "KerasTensor(type_spec=TensorSpec(shape=(None, 5), dtype=tf.float32, name='inputs'), name='inputs', description=\"created by layer 'inputs'\")\n",
            "KerasTensor(type_spec=TensorSpec(shape=(None, 6), dtype=tf.float32, name=None), name='tf.compat.v1.pad/Pad:0', description=\"created by layer 'tf.compat.v1.pad'\")\n"
          ]
        },
        {
          "output_type": "execute_result",
          "data": {
            "text/plain": [
              "<KerasTensor: shape=() dtype=int32 inferred_value=[None] (created by layer 'tf.__operators__.getitem')>"
            ]
          },
          "metadata": {},
          "execution_count": 18
        }
      ]
    },
    {
      "cell_type": "code",
      "source": [
        "discriminator_model.summary()"
      ],
      "metadata": {
        "colab": {
          "base_uri": "https://localhost:8080/"
        },
        "id": "F-pTv0oTxw7Q",
        "outputId": "93178fbc-ee3c-4e6f-a018-eaa5a52e8603"
      },
      "execution_count": null,
      "outputs": [
        {
          "output_type": "stream",
          "name": "stdout",
          "text": [
            "Model: \"model\"\n",
            "_________________________________________________________________\n",
            " Layer (type)                Output Shape              Param #   \n",
            "=================================================================\n",
            " input (InputLayer)          [(None, 5)]               0         \n",
            "                                                                 \n",
            " discriminator_drc_layer (Re  (None, 1)                96        \n",
            " UploadingPQC)                                                   \n",
            "                                                                 \n",
            "=================================================================\n",
            "Total params: 96\n",
            "Trainable params: 96\n",
            "Non-trainable params: 0\n",
            "_________________________________________________________________\n"
          ]
        }
      ]
    },
    {
      "cell_type": "code",
      "source": [
        "def one_qubit_unitary_pqc(qubits,symbols) -> cirq.Circuit :\n",
        "  num_qubits = len(qubits)\n",
        "  circuit = cirq.Circuit()\n",
        "  k=0\n",
        "  for i in range(num_qubits):\n",
        "    circuit.append(cirq.rx(symbols[k])(qubits[i]))\n",
        "    k+=1\n",
        "  for i in range(num_qubits):\n",
        "    circuit.append(cirq.rz(symbols[k])(qubits[i]))\n",
        "    k+=1\n",
        "  \n",
        "  return circuit"
      ],
      "metadata": {
        "id": "NgB0F_2LUbCn"
      },
      "execution_count": null,
      "outputs": []
    },
    {
      "cell_type": "code",
      "source": [
        "def two_qubit_unitary_pqc(qubits,symbols):\n",
        "  num_qubits = len(qubits)\n",
        "  circuit = cirq.Circuit()\n",
        "  k=0\n",
        "  for i in range(1,num_qubits,2):\n",
        "    circuit.append(cirq.CNOT(qubits[i-1],qubits[i]))\n",
        "    circuit.append(cirq.rz(symbols[k])(qubits[i]))\n",
        "    circuit.append(cirq.CNOT(qubits[i-1],qubits[i]))\n",
        "    k+=1\n",
        "  \n",
        "  for i in range(2,num_qubits,2):\n",
        "    circuit.append(cirq.CNOT(qubits[i-1],qubits[i]))\n",
        "    circuit.append(cirq.rz(symbols[k])(qubits[i]))\n",
        "    circuit.append(cirq.CNOT(qubits[i-1],qubits[i]))\n",
        "    k+=1\n",
        "  return circuit"
      ],
      "metadata": {
        "id": "8Oi6KEr1UlMw"
      },
      "execution_count": null,
      "outputs": []
    },
    {
      "cell_type": "code",
      "source": [
        "def generator_pqc_circuit(qubits,use_entanglement=True,layers=1):\n",
        "  circuit = cirq.Circuit()\n",
        "  num_qubits = len(qubits)\n",
        "  # num_data_qubits = int(num_qubits/2)\n",
        "  # input_symbols = sp.symbols('x_:'+str(num_qubits))\n",
        "  symbols = sp.symbols('G_theta1_:'+str(2*layers*num_qubits)) + sp.symbols('G_theta2_:'+str(layers*(num_qubits-1)))\n",
        "  symbols_one = symbols[:2*layers*num_qubits]\n",
        "  symbols_two = symbols[2*layers*num_qubits:]\n",
        "  # random_rotations = np.random.normal(loc=0.0,scale=np.pi/4,size=num_qubits)\n",
        "  # for i in range(num_qubits):\n",
        "  #   circuit.append(cirq.ry(input_symbols[i])(qubits[i]))\n",
        "  # k=0\n",
        "  for l in range(layers):\n",
        "    circuit += one_qubit_unitary_pqc(qubits,symbols_one[l*2*num_qubits:(l+1)*2*num_qubits])\n",
        "    if(use_entanglement):\n",
        "      circuit += two_qubit_unitary_pqc(qubits,symbols_two[l*(num_qubits-1):(l+1)*(num_qubits-1)])\n",
        "  \n",
        "  return circuit,symbols"
      ],
      "metadata": {
        "id": "FJ2IRWc8do-6"
      },
      "execution_count": null,
      "outputs": []
    },
    {
      "cell_type": "code",
      "source": [
        "circ,symbols = generator_pqc_circuit(cirq.GridQubit.rect(5,1),layers=3)\n",
        "SVGCircuit(circ)\n",
        "# print(symbols)"
      ],
      "metadata": {
        "id": "4UU-tWVHgImP",
        "colab": {
          "base_uri": "https://localhost:8080/",
          "height": 291
        },
        "outputId": "38a2225b-4eee-4b82-fadb-449b8cff6e58"
      },
      "execution_count": null,
      "outputs": [
        {
          "output_type": "execute_result",
          "data": {
            "text/plain": [
              "<cirq.contrib.svg.svg.SVGCircuit at 0x7f0520130e90>"
            ],
            "image/svg+xml": "<svg xmlns=\"http://www.w3.org/2000/svg\" width=\"2498.4285937500003\" height=\"250.0\"><line x1=\"34.7588671875\" x2=\"2468.4285937500003\" y1=\"25.0\" y2=\"25.0\" stroke=\"#1967d2\" stroke-width=\"1\" /><line x1=\"34.7588671875\" x2=\"2468.4285937500003\" y1=\"75.0\" y2=\"75.0\" stroke=\"#1967d2\" stroke-width=\"1\" /><line x1=\"34.7588671875\" x2=\"2468.4285937500003\" y1=\"125.0\" y2=\"125.0\" stroke=\"#1967d2\" stroke-width=\"1\" /><line x1=\"34.7588671875\" x2=\"2468.4285937500003\" y1=\"175.0\" y2=\"175.0\" stroke=\"#1967d2\" stroke-width=\"1\" /><line x1=\"34.7588671875\" x2=\"2468.4285937500003\" y1=\"225.0\" y2=\"225.0\" stroke=\"#1967d2\" stroke-width=\"1\" /><line x1=\"370.7151171875\" x2=\"370.7151171875\" y1=\"25.0\" y2=\"75.0\" stroke=\"black\" stroke-width=\"3\" /><line x1=\"370.7151171875\" x2=\"370.7151171875\" y1=\"125.0\" y2=\"175.0\" stroke=\"black\" stroke-width=\"3\" /><line x1=\"565.8455468750001\" x2=\"565.8455468750001\" y1=\"25.0\" y2=\"75.0\" stroke=\"black\" stroke-width=\"3\" /><line x1=\"565.8455468750001\" x2=\"565.8455468750001\" y1=\"125.0\" y2=\"175.0\" stroke=\"black\" stroke-width=\"3\" /><line x1=\"625.8455468750001\" x2=\"625.8455468750001\" y1=\"75.0\" y2=\"125.0\" stroke=\"black\" stroke-width=\"3\" /><line x1=\"625.8455468750001\" x2=\"625.8455468750001\" y1=\"175.0\" y2=\"225.0\" stroke=\"black\" stroke-width=\"3\" /><line x1=\"820.9759765625001\" x2=\"820.9759765625001\" y1=\"75.0\" y2=\"125.0\" stroke=\"black\" stroke-width=\"3\" /><line x1=\"820.9759765625001\" x2=\"820.9759765625001\" y1=\"175.0\" y2=\"225.0\" stroke=\"black\" stroke-width=\"3\" /><line x1=\"1169.9878125000002\" x2=\"1169.9878125000002\" y1=\"25.0\" y2=\"75.0\" stroke=\"black\" stroke-width=\"3\" /><line x1=\"1169.9878125000002\" x2=\"1169.9878125000002\" y1=\"125.0\" y2=\"175.0\" stroke=\"black\" stroke-width=\"3\" /><line x1=\"1365.1182421875003\" x2=\"1365.1182421875003\" y1=\"25.0\" y2=\"75.0\" stroke=\"black\" stroke-width=\"3\" /><line x1=\"1365.1182421875003\" x2=\"1365.1182421875003\" y1=\"125.0\" y2=\"175.0\" stroke=\"black\" stroke-width=\"3\" /><line x1=\"1425.1182421875003\" x2=\"1425.1182421875003\" y1=\"75.0\" y2=\"125.0\" stroke=\"black\" stroke-width=\"3\" /><line x1=\"1425.1182421875003\" x2=\"1425.1182421875003\" y1=\"175.0\" y2=\"225.0\" stroke=\"black\" stroke-width=\"3\" /><line x1=\"1620.2486718750004\" x2=\"1620.2486718750004\" y1=\"75.0\" y2=\"125.0\" stroke=\"black\" stroke-width=\"3\" /><line x1=\"1620.2486718750004\" x2=\"1620.2486718750004\" y1=\"175.0\" y2=\"225.0\" stroke=\"black\" stroke-width=\"3\" /><line x1=\"1969.2605078125005\" x2=\"1969.2605078125005\" y1=\"25.0\" y2=\"75.0\" stroke=\"black\" stroke-width=\"3\" /><line x1=\"1969.2605078125005\" x2=\"1969.2605078125005\" y1=\"125.0\" y2=\"175.0\" stroke=\"black\" stroke-width=\"3\" /><line x1=\"2164.3909375000003\" x2=\"2164.3909375000003\" y1=\"25.0\" y2=\"75.0\" stroke=\"black\" stroke-width=\"3\" /><line x1=\"2164.3909375000003\" x2=\"2164.3909375000003\" y1=\"125.0\" y2=\"175.0\" stroke=\"black\" stroke-width=\"3\" /><line x1=\"2224.3909375000003\" x2=\"2224.3909375000003\" y1=\"75.0\" y2=\"125.0\" stroke=\"black\" stroke-width=\"3\" /><line x1=\"2224.3909375000003\" x2=\"2224.3909375000003\" y1=\"175.0\" y2=\"225.0\" stroke=\"black\" stroke-width=\"3\" /><line x1=\"2428.4285937500003\" x2=\"2428.4285937500003\" y1=\"75.0\" y2=\"125.0\" stroke=\"black\" stroke-width=\"3\" /><line x1=\"2428.4285937500003\" x2=\"2428.4285937500003\" y1=\"175.0\" y2=\"225.0\" stroke=\"black\" stroke-width=\"3\" /><rect x=\"10.0\" y=\"5.0\" width=\"49.517734375\" height=\"40\" stroke=\"black\" fill=\"white\" stroke-width=\"0\" /><text x=\"34.7588671875\" y=\"25.0\" dominant-baseline=\"middle\" text-anchor=\"middle\" font-size=\"14px\" font-family=\"Arial\">(0, 0): </text><rect x=\"10.0\" y=\"55.0\" width=\"49.517734375\" height=\"40\" stroke=\"black\" fill=\"white\" stroke-width=\"0\" /><text x=\"34.7588671875\" y=\"75.0\" dominant-baseline=\"middle\" text-anchor=\"middle\" font-size=\"14px\" font-family=\"Arial\">(1, 0): </text><rect x=\"10.0\" y=\"105.0\" width=\"49.517734375\" height=\"40\" stroke=\"black\" fill=\"white\" stroke-width=\"0\" /><text x=\"34.7588671875\" y=\"125.0\" dominant-baseline=\"middle\" text-anchor=\"middle\" font-size=\"14px\" font-family=\"Arial\">(2, 0): </text><rect x=\"10.0\" y=\"155.0\" width=\"49.517734375\" height=\"40\" stroke=\"black\" fill=\"white\" stroke-width=\"0\" /><text x=\"34.7588671875\" y=\"175.0\" dominant-baseline=\"middle\" text-anchor=\"middle\" font-size=\"14px\" font-family=\"Arial\">(3, 0): </text><rect x=\"10.0\" y=\"205.0\" width=\"49.517734375\" height=\"40\" stroke=\"black\" fill=\"white\" stroke-width=\"0\" /><text x=\"34.7588671875\" y=\"225.0\" dominant-baseline=\"middle\" text-anchor=\"middle\" font-size=\"14px\" font-family=\"Arial\">(4, 0): </text><rect x=\"79.517734375\" y=\"5.0\" width=\"116.066953125\" height=\"40\" stroke=\"black\" fill=\"white\" stroke-width=\"1\" /><text x=\"137.5512109375\" y=\"25.0\" dominant-baseline=\"middle\" text-anchor=\"middle\" font-size=\"14px\" font-family=\"Arial\">Rx(G_theta1_0)</text><rect x=\"79.517734375\" y=\"55.0\" width=\"116.066953125\" height=\"40\" stroke=\"black\" fill=\"white\" stroke-width=\"1\" /><text x=\"137.5512109375\" y=\"75.0\" dominant-baseline=\"middle\" text-anchor=\"middle\" font-size=\"14px\" font-family=\"Arial\">Rx(G_theta1_1)</text><rect x=\"79.517734375\" y=\"105.0\" width=\"116.066953125\" height=\"40\" stroke=\"black\" fill=\"white\" stroke-width=\"1\" /><text x=\"137.5512109375\" y=\"125.0\" dominant-baseline=\"middle\" text-anchor=\"middle\" font-size=\"14px\" font-family=\"Arial\">Rx(G_theta1_2)</text><rect x=\"79.517734375\" y=\"155.0\" width=\"116.066953125\" height=\"40\" stroke=\"black\" fill=\"white\" stroke-width=\"1\" /><text x=\"137.5512109375\" y=\"175.0\" dominant-baseline=\"middle\" text-anchor=\"middle\" font-size=\"14px\" font-family=\"Arial\">Rx(G_theta1_3)</text><rect x=\"79.517734375\" y=\"205.0\" width=\"116.066953125\" height=\"40\" stroke=\"black\" fill=\"white\" stroke-width=\"1\" /><text x=\"137.5512109375\" y=\"225.0\" dominant-baseline=\"middle\" text-anchor=\"middle\" font-size=\"14px\" font-family=\"Arial\">Rx(G_theta1_4)</text><rect x=\"215.5846875\" y=\"5.0\" width=\"115.1304296875\" height=\"40\" stroke=\"black\" fill=\"white\" stroke-width=\"1\" /><text x=\"273.14990234375\" y=\"25.0\" dominant-baseline=\"middle\" text-anchor=\"middle\" font-size=\"14px\" font-family=\"Arial\">Rz(G_theta1_5)</text><rect x=\"215.5846875\" y=\"55.0\" width=\"115.1304296875\" height=\"40\" stroke=\"black\" fill=\"white\" stroke-width=\"1\" /><text x=\"273.14990234375\" y=\"75.0\" dominant-baseline=\"middle\" text-anchor=\"middle\" font-size=\"14px\" font-family=\"Arial\">Rz(G_theta1_6)</text><rect x=\"215.5846875\" y=\"105.0\" width=\"115.1304296875\" height=\"40\" stroke=\"black\" fill=\"white\" stroke-width=\"1\" /><text x=\"273.14990234375\" y=\"125.0\" dominant-baseline=\"middle\" text-anchor=\"middle\" font-size=\"14px\" font-family=\"Arial\">Rz(G_theta1_7)</text><rect x=\"215.5846875\" y=\"155.0\" width=\"115.1304296875\" height=\"40\" stroke=\"black\" fill=\"white\" stroke-width=\"1\" /><text x=\"273.14990234375\" y=\"175.0\" dominant-baseline=\"middle\" text-anchor=\"middle\" font-size=\"14px\" font-family=\"Arial\">Rz(G_theta1_8)</text><rect x=\"215.5846875\" y=\"205.0\" width=\"115.1304296875\" height=\"40\" stroke=\"black\" fill=\"white\" stroke-width=\"1\" /><text x=\"273.14990234375\" y=\"225.0\" dominant-baseline=\"middle\" text-anchor=\"middle\" font-size=\"14px\" font-family=\"Arial\">Rz(G_theta1_9)</text><circle cx=\"370.7151171875\" cy=\"25.0\" r=\"10.0\" /><rect x=\"350.7151171875\" y=\"55.0\" width=\"40\" height=\"40\" stroke=\"black\" fill=\"white\" stroke-width=\"1\" /><text x=\"370.7151171875\" y=\"75.0\" dominant-baseline=\"middle\" text-anchor=\"middle\" font-size=\"18px\" font-family=\"Arial\">X</text><circle cx=\"370.7151171875\" cy=\"125.0\" r=\"10.0\" /><rect x=\"350.7151171875\" y=\"155.0\" width=\"40\" height=\"40\" stroke=\"black\" fill=\"white\" stroke-width=\"1\" /><text x=\"370.7151171875\" y=\"175.0\" dominant-baseline=\"middle\" text-anchor=\"middle\" font-size=\"18px\" font-family=\"Arial\">X</text><rect x=\"410.7151171875\" y=\"55.0\" width=\"115.1304296875\" height=\"40\" stroke=\"black\" fill=\"white\" stroke-width=\"1\" /><text x=\"468.28033203125005\" y=\"75.0\" dominant-baseline=\"middle\" text-anchor=\"middle\" font-size=\"14px\" font-family=\"Arial\">Rz(G_theta2_0)</text><rect x=\"410.7151171875\" y=\"155.0\" width=\"115.1304296875\" height=\"40\" stroke=\"black\" fill=\"white\" stroke-width=\"1\" /><text x=\"468.28033203125005\" y=\"175.0\" dominant-baseline=\"middle\" text-anchor=\"middle\" font-size=\"14px\" font-family=\"Arial\">Rz(G_theta2_1)</text><circle cx=\"565.8455468750001\" cy=\"25.0\" r=\"10.0\" /><rect x=\"545.8455468750001\" y=\"55.0\" width=\"40\" height=\"40\" stroke=\"black\" fill=\"white\" stroke-width=\"1\" /><text x=\"565.8455468750001\" y=\"75.0\" dominant-baseline=\"middle\" text-anchor=\"middle\" font-size=\"18px\" font-family=\"Arial\">X</text><circle cx=\"565.8455468750001\" cy=\"125.0\" r=\"10.0\" /><rect x=\"545.8455468750001\" y=\"155.0\" width=\"40\" height=\"40\" stroke=\"black\" fill=\"white\" stroke-width=\"1\" /><text x=\"565.8455468750001\" y=\"175.0\" dominant-baseline=\"middle\" text-anchor=\"middle\" font-size=\"18px\" font-family=\"Arial\">X</text><circle cx=\"625.8455468750001\" cy=\"75.0\" r=\"10.0\" /><rect x=\"605.8455468750001\" y=\"105.0\" width=\"40\" height=\"40\" stroke=\"black\" fill=\"white\" stroke-width=\"1\" /><text x=\"625.8455468750001\" y=\"125.0\" dominant-baseline=\"middle\" text-anchor=\"middle\" font-size=\"18px\" font-family=\"Arial\">X</text><circle cx=\"625.8455468750001\" cy=\"175.0\" r=\"10.0\" /><rect x=\"605.8455468750001\" y=\"205.0\" width=\"40\" height=\"40\" stroke=\"black\" fill=\"white\" stroke-width=\"1\" /><text x=\"625.8455468750001\" y=\"225.0\" dominant-baseline=\"middle\" text-anchor=\"middle\" font-size=\"18px\" font-family=\"Arial\">X</text><rect x=\"665.8455468750001\" y=\"105.0\" width=\"115.1304296875\" height=\"40\" stroke=\"black\" fill=\"white\" stroke-width=\"1\" /><text x=\"723.4107617187501\" y=\"125.0\" dominant-baseline=\"middle\" text-anchor=\"middle\" font-size=\"14px\" font-family=\"Arial\">Rz(G_theta2_2)</text><rect x=\"665.8455468750001\" y=\"205.0\" width=\"115.1304296875\" height=\"40\" stroke=\"black\" fill=\"white\" stroke-width=\"1\" /><text x=\"723.4107617187501\" y=\"225.0\" dominant-baseline=\"middle\" text-anchor=\"middle\" font-size=\"14px\" font-family=\"Arial\">Rz(G_theta2_3)</text><circle cx=\"820.9759765625001\" cy=\"75.0\" r=\"10.0\" /><rect x=\"800.9759765625001\" y=\"105.0\" width=\"40\" height=\"40\" stroke=\"black\" fill=\"white\" stroke-width=\"1\" /><text x=\"820.9759765625001\" y=\"125.0\" dominant-baseline=\"middle\" text-anchor=\"middle\" font-size=\"18px\" font-family=\"Arial\">X</text><circle cx=\"820.9759765625001\" cy=\"175.0\" r=\"10.0\" /><rect x=\"800.9759765625001\" y=\"205.0\" width=\"40\" height=\"40\" stroke=\"black\" fill=\"white\" stroke-width=\"1\" /><text x=\"820.9759765625001\" y=\"225.0\" dominant-baseline=\"middle\" text-anchor=\"middle\" font-size=\"18px\" font-family=\"Arial\">X</text><rect x=\"860.9759765625001\" y=\"5.0\" width=\"124.9741796875\" height=\"40\" stroke=\"black\" fill=\"white\" stroke-width=\"1\" /><text x=\"923.4630664062502\" y=\"25.0\" dominant-baseline=\"middle\" text-anchor=\"middle\" font-size=\"14px\" font-family=\"Arial\">Rx(G_theta1_10)</text><rect x=\"860.9759765625001\" y=\"55.0\" width=\"124.9741796875\" height=\"40\" stroke=\"black\" fill=\"white\" stroke-width=\"1\" /><text x=\"923.4630664062502\" y=\"75.0\" dominant-baseline=\"middle\" text-anchor=\"middle\" font-size=\"14px\" font-family=\"Arial\">Rx(G_theta1_11)</text><rect x=\"860.9759765625001\" y=\"105.0\" width=\"124.9741796875\" height=\"40\" stroke=\"black\" fill=\"white\" stroke-width=\"1\" /><text x=\"923.4630664062502\" y=\"125.0\" dominant-baseline=\"middle\" text-anchor=\"middle\" font-size=\"14px\" font-family=\"Arial\">Rx(G_theta1_12)</text><rect x=\"860.9759765625001\" y=\"155.0\" width=\"124.9741796875\" height=\"40\" stroke=\"black\" fill=\"white\" stroke-width=\"1\" /><text x=\"923.4630664062502\" y=\"175.0\" dominant-baseline=\"middle\" text-anchor=\"middle\" font-size=\"14px\" font-family=\"Arial\">Rx(G_theta1_13)</text><rect x=\"860.9759765625001\" y=\"205.0\" width=\"124.9741796875\" height=\"40\" stroke=\"black\" fill=\"white\" stroke-width=\"1\" /><text x=\"923.4630664062502\" y=\"225.0\" dominant-baseline=\"middle\" text-anchor=\"middle\" font-size=\"14px\" font-family=\"Arial\">Rx(G_theta1_14)</text><rect x=\"1005.9501562500002\" y=\"5.0\" width=\"124.03765625\" height=\"40\" stroke=\"black\" fill=\"white\" stroke-width=\"1\" /><text x=\"1067.9689843750002\" y=\"25.0\" dominant-baseline=\"middle\" text-anchor=\"middle\" font-size=\"14px\" font-family=\"Arial\">Rz(G_theta1_15)</text><rect x=\"1005.9501562500002\" y=\"55.0\" width=\"124.03765625\" height=\"40\" stroke=\"black\" fill=\"white\" stroke-width=\"1\" /><text x=\"1067.9689843750002\" y=\"75.0\" dominant-baseline=\"middle\" text-anchor=\"middle\" font-size=\"14px\" font-family=\"Arial\">Rz(G_theta1_16)</text><rect x=\"1005.9501562500002\" y=\"105.0\" width=\"124.03765625\" height=\"40\" stroke=\"black\" fill=\"white\" stroke-width=\"1\" /><text x=\"1067.9689843750002\" y=\"125.0\" dominant-baseline=\"middle\" text-anchor=\"middle\" font-size=\"14px\" font-family=\"Arial\">Rz(G_theta1_17)</text><rect x=\"1005.9501562500002\" y=\"155.0\" width=\"124.03765625\" height=\"40\" stroke=\"black\" fill=\"white\" stroke-width=\"1\" /><text x=\"1067.9689843750002\" y=\"175.0\" dominant-baseline=\"middle\" text-anchor=\"middle\" font-size=\"14px\" font-family=\"Arial\">Rz(G_theta1_18)</text><rect x=\"1005.9501562500002\" y=\"205.0\" width=\"124.03765625\" height=\"40\" stroke=\"black\" fill=\"white\" stroke-width=\"1\" /><text x=\"1067.9689843750002\" y=\"225.0\" dominant-baseline=\"middle\" text-anchor=\"middle\" font-size=\"14px\" font-family=\"Arial\">Rz(G_theta1_19)</text><circle cx=\"1169.9878125000002\" cy=\"25.0\" r=\"10.0\" /><rect x=\"1149.9878125000002\" y=\"55.0\" width=\"40\" height=\"40\" stroke=\"black\" fill=\"white\" stroke-width=\"1\" /><text x=\"1169.9878125000002\" y=\"75.0\" dominant-baseline=\"middle\" text-anchor=\"middle\" font-size=\"18px\" font-family=\"Arial\">X</text><circle cx=\"1169.9878125000002\" cy=\"125.0\" r=\"10.0\" /><rect x=\"1149.9878125000002\" y=\"155.0\" width=\"40\" height=\"40\" stroke=\"black\" fill=\"white\" stroke-width=\"1\" /><text x=\"1169.9878125000002\" y=\"175.0\" dominant-baseline=\"middle\" text-anchor=\"middle\" font-size=\"18px\" font-family=\"Arial\">X</text><rect x=\"1209.9878125000002\" y=\"55.0\" width=\"115.1304296875\" height=\"40\" stroke=\"black\" fill=\"white\" stroke-width=\"1\" /><text x=\"1267.5530273437503\" y=\"75.0\" dominant-baseline=\"middle\" text-anchor=\"middle\" font-size=\"14px\" font-family=\"Arial\">Rz(G_theta2_4)</text><rect x=\"1209.9878125000002\" y=\"155.0\" width=\"115.1304296875\" height=\"40\" stroke=\"black\" fill=\"white\" stroke-width=\"1\" /><text x=\"1267.5530273437503\" y=\"175.0\" dominant-baseline=\"middle\" text-anchor=\"middle\" font-size=\"14px\" font-family=\"Arial\">Rz(G_theta2_5)</text><circle cx=\"1365.1182421875003\" cy=\"25.0\" r=\"10.0\" /><rect x=\"1345.1182421875003\" y=\"55.0\" width=\"40\" height=\"40\" stroke=\"black\" fill=\"white\" stroke-width=\"1\" /><text x=\"1365.1182421875003\" y=\"75.0\" dominant-baseline=\"middle\" text-anchor=\"middle\" font-size=\"18px\" font-family=\"Arial\">X</text><circle cx=\"1365.1182421875003\" cy=\"125.0\" r=\"10.0\" /><rect x=\"1345.1182421875003\" y=\"155.0\" width=\"40\" height=\"40\" stroke=\"black\" fill=\"white\" stroke-width=\"1\" /><text x=\"1365.1182421875003\" y=\"175.0\" dominant-baseline=\"middle\" text-anchor=\"middle\" font-size=\"18px\" font-family=\"Arial\">X</text><circle cx=\"1425.1182421875003\" cy=\"75.0\" r=\"10.0\" /><rect x=\"1405.1182421875003\" y=\"105.0\" width=\"40\" height=\"40\" stroke=\"black\" fill=\"white\" stroke-width=\"1\" /><text x=\"1425.1182421875003\" y=\"125.0\" dominant-baseline=\"middle\" text-anchor=\"middle\" font-size=\"18px\" font-family=\"Arial\">X</text><circle cx=\"1425.1182421875003\" cy=\"175.0\" r=\"10.0\" /><rect x=\"1405.1182421875003\" y=\"205.0\" width=\"40\" height=\"40\" stroke=\"black\" fill=\"white\" stroke-width=\"1\" /><text x=\"1425.1182421875003\" y=\"225.0\" dominant-baseline=\"middle\" text-anchor=\"middle\" font-size=\"18px\" font-family=\"Arial\">X</text><rect x=\"1465.1182421875003\" y=\"105.0\" width=\"115.1304296875\" height=\"40\" stroke=\"black\" fill=\"white\" stroke-width=\"1\" /><text x=\"1522.6834570312503\" y=\"125.0\" dominant-baseline=\"middle\" text-anchor=\"middle\" font-size=\"14px\" font-family=\"Arial\">Rz(G_theta2_6)</text><rect x=\"1465.1182421875003\" y=\"205.0\" width=\"115.1304296875\" height=\"40\" stroke=\"black\" fill=\"white\" stroke-width=\"1\" /><text x=\"1522.6834570312503\" y=\"225.0\" dominant-baseline=\"middle\" text-anchor=\"middle\" font-size=\"14px\" font-family=\"Arial\">Rz(G_theta2_7)</text><circle cx=\"1620.2486718750004\" cy=\"75.0\" r=\"10.0\" /><rect x=\"1600.2486718750004\" y=\"105.0\" width=\"40\" height=\"40\" stroke=\"black\" fill=\"white\" stroke-width=\"1\" /><text x=\"1620.2486718750004\" y=\"125.0\" dominant-baseline=\"middle\" text-anchor=\"middle\" font-size=\"18px\" font-family=\"Arial\">X</text><circle cx=\"1620.2486718750004\" cy=\"175.0\" r=\"10.0\" /><rect x=\"1600.2486718750004\" y=\"205.0\" width=\"40\" height=\"40\" stroke=\"black\" fill=\"white\" stroke-width=\"1\" /><text x=\"1620.2486718750004\" y=\"225.0\" dominant-baseline=\"middle\" text-anchor=\"middle\" font-size=\"18px\" font-family=\"Arial\">X</text><rect x=\"1660.2486718750004\" y=\"5.0\" width=\"124.9741796875\" height=\"40\" stroke=\"black\" fill=\"white\" stroke-width=\"1\" /><text x=\"1722.7357617187504\" y=\"25.0\" dominant-baseline=\"middle\" text-anchor=\"middle\" font-size=\"14px\" font-family=\"Arial\">Rx(G_theta1_20)</text><rect x=\"1660.2486718750004\" y=\"55.0\" width=\"124.9741796875\" height=\"40\" stroke=\"black\" fill=\"white\" stroke-width=\"1\" /><text x=\"1722.7357617187504\" y=\"75.0\" dominant-baseline=\"middle\" text-anchor=\"middle\" font-size=\"14px\" font-family=\"Arial\">Rx(G_theta1_21)</text><rect x=\"1660.2486718750004\" y=\"105.0\" width=\"124.9741796875\" height=\"40\" stroke=\"black\" fill=\"white\" stroke-width=\"1\" /><text x=\"1722.7357617187504\" y=\"125.0\" dominant-baseline=\"middle\" text-anchor=\"middle\" font-size=\"14px\" font-family=\"Arial\">Rx(G_theta1_22)</text><rect x=\"1660.2486718750004\" y=\"155.0\" width=\"124.9741796875\" height=\"40\" stroke=\"black\" fill=\"white\" stroke-width=\"1\" /><text x=\"1722.7357617187504\" y=\"175.0\" dominant-baseline=\"middle\" text-anchor=\"middle\" font-size=\"14px\" font-family=\"Arial\">Rx(G_theta1_23)</text><rect x=\"1660.2486718750004\" y=\"205.0\" width=\"124.9741796875\" height=\"40\" stroke=\"black\" fill=\"white\" stroke-width=\"1\" /><text x=\"1722.7357617187504\" y=\"225.0\" dominant-baseline=\"middle\" text-anchor=\"middle\" font-size=\"14px\" font-family=\"Arial\">Rx(G_theta1_24)</text><rect x=\"1805.2228515625004\" y=\"5.0\" width=\"124.03765625\" height=\"40\" stroke=\"black\" fill=\"white\" stroke-width=\"1\" /><text x=\"1867.2416796875004\" y=\"25.0\" dominant-baseline=\"middle\" text-anchor=\"middle\" font-size=\"14px\" font-family=\"Arial\">Rz(G_theta1_25)</text><rect x=\"1805.2228515625004\" y=\"55.0\" width=\"124.03765625\" height=\"40\" stroke=\"black\" fill=\"white\" stroke-width=\"1\" /><text x=\"1867.2416796875004\" y=\"75.0\" dominant-baseline=\"middle\" text-anchor=\"middle\" font-size=\"14px\" font-family=\"Arial\">Rz(G_theta1_26)</text><rect x=\"1805.2228515625004\" y=\"105.0\" width=\"124.03765625\" height=\"40\" stroke=\"black\" fill=\"white\" stroke-width=\"1\" /><text x=\"1867.2416796875004\" y=\"125.0\" dominant-baseline=\"middle\" text-anchor=\"middle\" font-size=\"14px\" font-family=\"Arial\">Rz(G_theta1_27)</text><rect x=\"1805.2228515625004\" y=\"155.0\" width=\"124.03765625\" height=\"40\" stroke=\"black\" fill=\"white\" stroke-width=\"1\" /><text x=\"1867.2416796875004\" y=\"175.0\" dominant-baseline=\"middle\" text-anchor=\"middle\" font-size=\"14px\" font-family=\"Arial\">Rz(G_theta1_28)</text><rect x=\"1805.2228515625004\" y=\"205.0\" width=\"124.03765625\" height=\"40\" stroke=\"black\" fill=\"white\" stroke-width=\"1\" /><text x=\"1867.2416796875004\" y=\"225.0\" dominant-baseline=\"middle\" text-anchor=\"middle\" font-size=\"14px\" font-family=\"Arial\">Rz(G_theta1_29)</text><circle cx=\"1969.2605078125005\" cy=\"25.0\" r=\"10.0\" /><rect x=\"1949.2605078125005\" y=\"55.0\" width=\"40\" height=\"40\" stroke=\"black\" fill=\"white\" stroke-width=\"1\" /><text x=\"1969.2605078125005\" y=\"75.0\" dominant-baseline=\"middle\" text-anchor=\"middle\" font-size=\"18px\" font-family=\"Arial\">X</text><circle cx=\"1969.2605078125005\" cy=\"125.0\" r=\"10.0\" /><rect x=\"1949.2605078125005\" y=\"155.0\" width=\"40\" height=\"40\" stroke=\"black\" fill=\"white\" stroke-width=\"1\" /><text x=\"1969.2605078125005\" y=\"175.0\" dominant-baseline=\"middle\" text-anchor=\"middle\" font-size=\"18px\" font-family=\"Arial\">X</text><rect x=\"2009.2605078125005\" y=\"55.0\" width=\"115.1304296875\" height=\"40\" stroke=\"black\" fill=\"white\" stroke-width=\"1\" /><text x=\"2066.8257226562505\" y=\"75.0\" dominant-baseline=\"middle\" text-anchor=\"middle\" font-size=\"14px\" font-family=\"Arial\">Rz(G_theta2_8)</text><rect x=\"2009.2605078125005\" y=\"155.0\" width=\"115.1304296875\" height=\"40\" stroke=\"black\" fill=\"white\" stroke-width=\"1\" /><text x=\"2066.8257226562505\" y=\"175.0\" dominant-baseline=\"middle\" text-anchor=\"middle\" font-size=\"14px\" font-family=\"Arial\">Rz(G_theta2_9)</text><circle cx=\"2164.3909375000003\" cy=\"25.0\" r=\"10.0\" /><rect x=\"2144.3909375000003\" y=\"55.0\" width=\"40\" height=\"40\" stroke=\"black\" fill=\"white\" stroke-width=\"1\" /><text x=\"2164.3909375000003\" y=\"75.0\" dominant-baseline=\"middle\" text-anchor=\"middle\" font-size=\"18px\" font-family=\"Arial\">X</text><circle cx=\"2164.3909375000003\" cy=\"125.0\" r=\"10.0\" /><rect x=\"2144.3909375000003\" y=\"155.0\" width=\"40\" height=\"40\" stroke=\"black\" fill=\"white\" stroke-width=\"1\" /><text x=\"2164.3909375000003\" y=\"175.0\" dominant-baseline=\"middle\" text-anchor=\"middle\" font-size=\"18px\" font-family=\"Arial\">X</text><circle cx=\"2224.3909375000003\" cy=\"75.0\" r=\"10.0\" /><rect x=\"2204.3909375000003\" y=\"105.0\" width=\"40\" height=\"40\" stroke=\"black\" fill=\"white\" stroke-width=\"1\" /><text x=\"2224.3909375000003\" y=\"125.0\" dominant-baseline=\"middle\" text-anchor=\"middle\" font-size=\"18px\" font-family=\"Arial\">X</text><circle cx=\"2224.3909375000003\" cy=\"175.0\" r=\"10.0\" /><rect x=\"2204.3909375000003\" y=\"205.0\" width=\"40\" height=\"40\" stroke=\"black\" fill=\"white\" stroke-width=\"1\" /><text x=\"2224.3909375000003\" y=\"225.0\" dominant-baseline=\"middle\" text-anchor=\"middle\" font-size=\"18px\" font-family=\"Arial\">X</text><rect x=\"2264.3909375000003\" y=\"105.0\" width=\"124.03765625\" height=\"40\" stroke=\"black\" fill=\"white\" stroke-width=\"1\" /><text x=\"2326.409765625\" y=\"125.0\" dominant-baseline=\"middle\" text-anchor=\"middle\" font-size=\"14px\" font-family=\"Arial\">Rz(G_theta2_10)</text><rect x=\"2264.3909375000003\" y=\"205.0\" width=\"124.03765625\" height=\"40\" stroke=\"black\" fill=\"white\" stroke-width=\"1\" /><text x=\"2326.409765625\" y=\"225.0\" dominant-baseline=\"middle\" text-anchor=\"middle\" font-size=\"14px\" font-family=\"Arial\">Rz(G_theta2_11)</text><circle cx=\"2428.4285937500003\" cy=\"75.0\" r=\"10.0\" /><rect x=\"2408.4285937500003\" y=\"105.0\" width=\"40\" height=\"40\" stroke=\"black\" fill=\"white\" stroke-width=\"1\" /><text x=\"2428.4285937500003\" y=\"125.0\" dominant-baseline=\"middle\" text-anchor=\"middle\" font-size=\"18px\" font-family=\"Arial\">X</text><circle cx=\"2428.4285937500003\" cy=\"175.0\" r=\"10.0\" /><rect x=\"2408.4285937500003\" y=\"205.0\" width=\"40\" height=\"40\" stroke=\"black\" fill=\"white\" stroke-width=\"1\" /><text x=\"2428.4285937500003\" y=\"225.0\" dominant-baseline=\"middle\" text-anchor=\"middle\" font-size=\"18px\" font-family=\"Arial\">X</text></svg>"
          },
          "metadata": {},
          "execution_count": 23
        }
      ]
    },
    {
      "cell_type": "code",
      "source": [
        "def data_encoding_circuit(qubits):\n",
        "  circuit = cirq.Circuit()\n",
        "  input_symbols = sp.symbols('x_:'+str(len(qubits)))\n",
        "  for i,q in enumerate(qubits):\n",
        "    circuit += cirq.ry(input_symbols[i])(q)\n",
        "  return circuit,input_symbols"
      ],
      "metadata": {
        "id": "7w0bQ2Tcuq1y"
      },
      "execution_count": null,
      "outputs": []
    },
    {
      "cell_type": "code",
      "source": [
        "SVGCircuit(data_encoding_circuit(cirq.GridQubit.rect(1,5))[0])"
      ],
      "metadata": {
        "colab": {
          "base_uri": "https://localhost:8080/",
          "height": 271
        },
        "id": "rbIM5uBCOvD8",
        "outputId": "3ae22d87-9ebc-4a4c-df44-94b110a52f24"
      },
      "execution_count": null,
      "outputs": [
        {
          "output_type": "execute_result",
          "data": {
            "text/plain": [
              "<cirq.contrib.svg.svg.SVGCircuit at 0x7f051f97e350>"
            ],
            "image/svg+xml": "<svg xmlns=\"http://www.w3.org/2000/svg\" width=\"189.3000390625\" height=\"250.0\"><line x1=\"34.7588671875\" x2=\"159.3000390625\" y1=\"25.0\" y2=\"25.0\" stroke=\"#1967d2\" stroke-width=\"1\" /><line x1=\"34.7588671875\" x2=\"159.3000390625\" y1=\"75.0\" y2=\"75.0\" stroke=\"#1967d2\" stroke-width=\"1\" /><line x1=\"34.7588671875\" x2=\"159.3000390625\" y1=\"125.0\" y2=\"125.0\" stroke=\"#1967d2\" stroke-width=\"1\" /><line x1=\"34.7588671875\" x2=\"159.3000390625\" y1=\"175.0\" y2=\"175.0\" stroke=\"#1967d2\" stroke-width=\"1\" /><line x1=\"34.7588671875\" x2=\"159.3000390625\" y1=\"225.0\" y2=\"225.0\" stroke=\"#1967d2\" stroke-width=\"1\" /><rect x=\"10.0\" y=\"5.0\" width=\"49.517734375\" height=\"40\" stroke=\"black\" fill=\"white\" stroke-width=\"0\" /><text x=\"34.7588671875\" y=\"25.0\" dominant-baseline=\"middle\" text-anchor=\"middle\" font-size=\"14px\" font-family=\"Arial\">(0, 0): </text><rect x=\"10.0\" y=\"55.0\" width=\"49.517734375\" height=\"40\" stroke=\"black\" fill=\"white\" stroke-width=\"0\" /><text x=\"34.7588671875\" y=\"75.0\" dominant-baseline=\"middle\" text-anchor=\"middle\" font-size=\"14px\" font-family=\"Arial\">(0, 1): </text><rect x=\"10.0\" y=\"105.0\" width=\"49.517734375\" height=\"40\" stroke=\"black\" fill=\"white\" stroke-width=\"0\" /><text x=\"34.7588671875\" y=\"125.0\" dominant-baseline=\"middle\" text-anchor=\"middle\" font-size=\"14px\" font-family=\"Arial\">(0, 2): </text><rect x=\"10.0\" y=\"155.0\" width=\"49.517734375\" height=\"40\" stroke=\"black\" fill=\"white\" stroke-width=\"0\" /><text x=\"34.7588671875\" y=\"175.0\" dominant-baseline=\"middle\" text-anchor=\"middle\" font-size=\"14px\" font-family=\"Arial\">(0, 3): </text><rect x=\"10.0\" y=\"205.0\" width=\"49.517734375\" height=\"40\" stroke=\"black\" fill=\"white\" stroke-width=\"0\" /><text x=\"34.7588671875\" y=\"225.0\" dominant-baseline=\"middle\" text-anchor=\"middle\" font-size=\"14px\" font-family=\"Arial\">(0, 4): </text><rect x=\"79.517734375\" y=\"5.0\" width=\"59.7823046875\" height=\"40\" stroke=\"black\" fill=\"white\" stroke-width=\"1\" /><text x=\"109.40888671875001\" y=\"25.0\" dominant-baseline=\"middle\" text-anchor=\"middle\" font-size=\"14px\" font-family=\"Arial\">Ry(x_0)</text><rect x=\"79.517734375\" y=\"55.0\" width=\"59.7823046875\" height=\"40\" stroke=\"black\" fill=\"white\" stroke-width=\"1\" /><text x=\"109.40888671875001\" y=\"75.0\" dominant-baseline=\"middle\" text-anchor=\"middle\" font-size=\"14px\" font-family=\"Arial\">Ry(x_1)</text><rect x=\"79.517734375\" y=\"105.0\" width=\"59.7823046875\" height=\"40\" stroke=\"black\" fill=\"white\" stroke-width=\"1\" /><text x=\"109.40888671875001\" y=\"125.0\" dominant-baseline=\"middle\" text-anchor=\"middle\" font-size=\"14px\" font-family=\"Arial\">Ry(x_2)</text><rect x=\"79.517734375\" y=\"155.0\" width=\"59.7823046875\" height=\"40\" stroke=\"black\" fill=\"white\" stroke-width=\"1\" /><text x=\"109.40888671875001\" y=\"175.0\" dominant-baseline=\"middle\" text-anchor=\"middle\" font-size=\"14px\" font-family=\"Arial\">Ry(x_3)</text><rect x=\"79.517734375\" y=\"205.0\" width=\"59.7823046875\" height=\"40\" stroke=\"black\" fill=\"white\" stroke-width=\"1\" /><text x=\"109.40888671875001\" y=\"225.0\" dominant-baseline=\"middle\" text-anchor=\"middle\" font-size=\"14px\" font-family=\"Arial\">Ry(x_4)</text></svg>"
          },
          "metadata": {},
          "execution_count": 25
        }
      ]
    },
    {
      "cell_type": "code",
      "source": [
        "# def generator_layer(qubits,use_entanglement=True,layers=1,name = \"generator_pqc_\"):\n",
        "#   observables = [cirq.Z(q) for q in qubits]\n",
        "#   circuit,symbols = generator_pqc_circuit(qubits,layers)\n",
        "#   g_layer = tfq.layers.ControlledPQC(circuit,observables)\n",
        "#   thetas_init = tf.random_uniform_initializer(minval=-np.pi/2, maxval=np.pi/2)\n",
        "#   params = tf.Variable(\n",
        "#             initial_value=thetas_init(shape=(1, len(symbols)), dtype=\"float32\"),\n",
        "#             trainable=True, name=name + \"thetas\")\n",
        "#   empty_circuit = tfq.convert_to_tensor([cirq.Circuit()])\n",
        "#   return g_layer([empty_circuit,params])"
      ],
      "metadata": {
        "id": "h5uE45TfKAjm"
      },
      "execution_count": null,
      "outputs": []
    },
    {
      "cell_type": "code",
      "source": [
        "class GeneratorPQC(tf.keras.layers.Layer):\n",
        "  def __init__(self,data_circuit,variational_circuit,n_qubits,use_entanglement=True,name = \"GeneratorPQC\"):\n",
        "    super(GeneratorPQC,self).__init__(name=name)\n",
        "    self.n_qubits=n_qubits\n",
        "    # self.n_layers=n_layers\n",
        "    self.use_entanglement=use_entanglement\n",
        "    self.main_name = name\n",
        "    # self.empty_circuit = tfq.convert_to_tensor([cirq.Circuit()])\n",
        "    # self.qubits = cirq.GridQubit.rect(1, n_qubits)\n",
        "    # self.observables = [cirq.Z(q) for q in self.qubits]\n",
        "    self.append_layer = elementary.AddCircuit()\n",
        "    # circuit,symbols,input_symbols = generator_pqc_circuit(qubits=self.qubits,layers=self.n_layers)\n",
        "    self.encoding_circuit,self.input_symbols = data_circuit\n",
        "    self.encoding_circuit = tfq.convert_to_tensor([self.encoding_circuit])\n",
        "    # data_circuit = QuantumCircuit.from_cirq(data_circuit)\n",
        "    self.op_circuit,self.param_symbols = variational_circuit\n",
        "    self.op_circuit = tfq.convert_to_tensor([self.op_circuit])\n",
        "    # variational_circuit = QuantumCircuit.from_cirq(variational_circuit)\n",
        "    self.operators = [cirq.Z(q) for q in variational_circuit[0].all_qubits()]\n",
        "    self.parameters = self.add_weight('parameters',\n",
        "                                          shape=(1,len(self.param_symbols)),\n",
        "                                          # initializer=self.initializer,\n",
        "                                          # regularizer=self.regularizer,\n",
        "                                          # constraint=self.constraint,\n",
        "                                          dtype=tf.float32,\n",
        "                                          trainable=True)\n",
        "    self.demo_circuit = data_circuit[0] +variational_circuit[0]\n",
        "    symbols = [str(symb) for symb in self.input_symbols + self.param_symbols]\n",
        "    self.indices = tf.constant([sorted(symbols).index(a) for a in symbols])\n",
        "    # thetas_init = tf.random_uniform_initializer(minval=-np.pi/2, maxval=np.pi/2)\n",
        "    # self.params = tf.Variable(\n",
        "    #         initial_value=thetas_init(shape=(1, symbols), dtype=\"float32\"),\n",
        "    #         trainable=True, name=self.main_name + \"thetas\")\n",
        "    self.computation_layer = tfq.layers.ControlledPQC(self.demo_circuit,self.operators)\n",
        "    \n",
        "  def get_config(self):\n",
        "    config = super().get_config().copy()\n",
        "    config.update({\n",
        "            'n_qubits': self.n_qubits,\n",
        "            'n_layers': self.n_layers,\n",
        "            'use_entanglement': self.use_entanglement,\n",
        "            'name': self.main_name,\n",
        "    })\n",
        "    return config\n",
        "  \n",
        "  def call(self,inputs):\n",
        "    batch_size = tf.shape(inputs)[0]\n",
        "    tiled_encoding_circuit = tf.tile(self.encoding_circuit,[batch_size])\n",
        "    tiled_variational_circuit = tf.tile(self.op_circuit,[batch_size])\n",
        "    # full_circuit_batch = self.append_layer(tiled_encoding_circuit,tiled_variational_circuit)\n",
        "    full_circuit_batch = tfq.layers.AddCircuit()(tiled_encoding_circuit,append=tiled_variational_circuit)\n",
        "    # empty_circuit_batch = tf.repeat(self.empty_circuit, repeats=batch_size, name=self.main_name + '-tiled_up_empty_circuits') \n",
        "    tiled_parameters = tf.tile(self.parameters, multiples=[batch_size,1], name=self.main_name + '-tiled_up_empty_thetas') \n",
        "    joined_params = tf.concat([inputs,tiled_parameters],axis=-1)\n",
        "    \n",
        "    # joined_params = tf.gather(joined_params,self.indices,axis=-1,name=self.main_name + '-joined_parameters')\n",
        "    # tiled_operators = tf.tile(self.operators,[batch_size,1])\n",
        "    # return self.computation_layer([empty_circuit_batch,self.parameters])\n",
        "    return self.computation_layer([full_circuit_batch,joined_params])"
      ],
      "metadata": {
        "id": "56mFH_qAMyov"
      },
      "execution_count": null,
      "outputs": []
    },
    {
      "cell_type": "code",
      "source": [
        "n_gen_qubits = len(X_train_0[0])\n",
        "qubits = cirq.GridQubit.rect(n_gen_qubits,1)\n",
        "layers = 3\n",
        "observables = [cirq.Z(q) for q in qubits]\n",
        "inputs = tf.keras.Input(shape=(n_gen_qubits,))      #,dtype = tf.dtypes.float32\n",
        "gen_pqc = GeneratorPQC(data_circuit=data_encoding_circuit(cirq.GridQubit.rect(n_gen_qubits,1)),variational_circuit=generator_pqc_circuit(cirq.GridQubit.rect(n_gen_qubits,1),layers=layers),n_qubits=n_gen_qubits)\n",
        "gen_pqc_layer = gen_pqc(inputs)\n",
        "# g_layers = tfq.layers.ControlledPQC(generator_pqc_circuit(qubits,layers),observables)(inputs)\n",
        "generator_model = tf.keras.Model(inputs=[inputs],outputs=[gen_pqc_layer])"
      ],
      "metadata": {
        "id": "C8ftToRvcCqT"
      },
      "execution_count": null,
      "outputs": []
    },
    {
      "cell_type": "code",
      "source": [
        "generator_model.summary()"
      ],
      "metadata": {
        "colab": {
          "base_uri": "https://localhost:8080/"
        },
        "id": "7xTwaETMeNnQ",
        "outputId": "593792c5-3367-490f-d9c2-a675936f090e"
      },
      "execution_count": null,
      "outputs": [
        {
          "output_type": "stream",
          "name": "stdout",
          "text": [
            "Model: \"model_1\"\n",
            "_________________________________________________________________\n",
            " Layer (type)                Output Shape              Param #   \n",
            "=================================================================\n",
            " input_1 (InputLayer)        [(None, 5)]               0         \n",
            "                                                                 \n",
            " GeneratorPQC (GeneratorPQC)  (None, 5)                42        \n",
            "                                                                 \n",
            "=================================================================\n",
            "Total params: 42\n",
            "Trainable params: 42\n",
            "Non-trainable params: 0\n",
            "_________________________________________________________________\n"
          ]
        }
      ]
    },
    {
      "cell_type": "markdown",
      "source": [
        "# Dataset"
      ],
      "metadata": {
        "id": "r4rwK2JdHDVQ"
      }
    },
    {
      "cell_type": "code",
      "source": [
        "def prepare_dataset(data,batch_size,seed=None,drop_remainder=True,buffer_size=100):\n",
        "  buffer_size =len(data[0])\n",
        "  ds = tf.data.Dataset.from_tensor_slices(data)\n",
        "  ds = ds.shuffle(buffer_size=buffer_size,seed=seed,reshuffle_each_iteration=True)\n",
        "  ds = ds.batch(batch_size,drop_remainder)\n",
        "  # ds = ds.prefetch(tf.data.AUTOTUNE)\n",
        "  return ds"
      ],
      "metadata": {
        "id": "81ZafMJqHD6U"
      },
      "execution_count": null,
      "outputs": []
    },
    {
      "cell_type": "code",
      "source": [
        "def train_preprocess(random_state):\n",
        "  tf.random.set_seed(random_state)\n",
        "  np.random.seed(random_state)"
      ],
      "metadata": {
        "id": "StgBsSU4KKYC"
      },
      "execution_count": null,
      "outputs": []
    },
    {
      "cell_type": "markdown",
      "source": [
        "# Loss"
      ],
      "metadata": {
        "id": "vnSCp0UCBI2f"
      }
    },
    {
      "cell_type": "code",
      "source": [
        "loss = tf.keras.losses.BinaryCrossentropy(from_logits=True)\n",
        "\n",
        "@tf.function\n",
        "def generator_loss(fake_output):\n",
        "  return loss(tf.ones_like(fake_output),fake_output)\n",
        "\n",
        "@tf.function\n",
        "def discriminator_loss(real_output,fake_output):\n",
        "  real_loss = loss(tf.ones_like(real_output),real_output)\n",
        "  fake_loss = loss(tf.ones_like(fake_output),fake_output)\n",
        "  return real_loss + fake_loss"
      ],
      "metadata": {
        "id": "u0z8f8DAcPut"
      },
      "execution_count": null,
      "outputs": []
    },
    {
      "cell_type": "code",
      "source": [
        "# batch_size = 50\n",
        "# z_shape = (batch_size,) \n",
        "# print( generator_model.input_shape[1:])\n",
        "discriminator_optimizer = tf.keras.optimizers.get('adam')\n",
        "generator_optimizer = tf.keras.optimizers.get('adam')"
      ],
      "metadata": {
        "id": "0FfJNSHLFmfq"
      },
      "execution_count": null,
      "outputs": []
    },
    {
      "cell_type": "markdown",
      "source": [
        "# Gradient descent"
      ],
      "metadata": {
        "id": "ip7GhmS9HfDZ"
      }
    },
    {
      "cell_type": "code",
      "source": [
        "from tensorflow.python.eager.backprop import GradientTape\n",
        "@tf.function\n",
        "def discriminator_step(x_real,batch_size):\n",
        "  fake_data_shape = (batch_size,) + generator_model.input_shape[1:]\n",
        "  x_real = tf.reshape(x_real,fake_data_shape)\n",
        "  z = tf.random.normal(shape=fake_data_shape)\n",
        "  with tf.GradientTape() as gradient_tape:\n",
        "    real_output = discriminator_model(x_real,training = True)\n",
        "    fake_input = generator_model(z, training = True)\n",
        "    # fake_input = tf.reshape(fake_input, tf.shape(x_real))\n",
        "    fake_output = discriminator_model(fake_input,training = True)\n",
        "    cost = discriminator_loss(real_output,fake_output)\n",
        "  grad = gradient_tape.gradient(cost,discriminator_model.trainable_variables)\n",
        "  discriminator_optimizer.apply_gradients(zip(grad,discriminator_model.trainable_variables))\n",
        "  return cost"
      ],
      "metadata": {
        "id": "zHNzrK5rDo3e"
      },
      "execution_count": null,
      "outputs": []
    },
    {
      "cell_type": "code",
      "source": [
        "@tf.function\n",
        "def generator_step(batch_size):\n",
        "  fake_data_shape = (batch_size,) + generator_model.input_shape[1:]\n",
        "  z = tf.random.normal(shape=fake_data_shape)\n",
        "  with tf.GradientTape() as gradient_tape:\n",
        "    fake_input = generator_model(z,training=True)\n",
        "    fake_output = discriminator_model(fake_input,training= True) \n",
        "    loss = generator_loss(fake_output)\n",
        "  grad = gradient_tape.gradient(loss,generator_model.trainable_variables)\n",
        "  generator_optimizer.apply_gradients(zip(grad,generator_model.trainable_variables))\n",
        "  return loss"
      ],
      "metadata": {
        "id": "ElBeAQs9MVNu"
      },
      "execution_count": null,
      "outputs": []
    },
    {
      "cell_type": "code",
      "source": [
        "@tf.function\n",
        "def train_step_1v1(x_real,batch_size):\n",
        "  \n",
        "  \"\"\"Training step for one epoch with 1 generator step and 1 discriminator step\n",
        "        \"\"\"\n",
        "  fake_data_shape = (batch_size,) + generator_model.input_shape[1:]\n",
        "  z = tf.random.normal(shape=fake_data_shape)\n",
        "  with tf.GradientTape() as gen_tape, tf.GradientTape() as disc_tape:\n",
        "    x_fake_ = generator_model(z, training=True)\n",
        "    # x_fake = tf.reshape(x_fake_, tf.shape(x_real))\n",
        "    real_output = discriminator_model(x_real, training=True)\n",
        "    fake_output = discriminator_model(x_fake_, training=True)\n",
        "    gen_loss = generator_loss(fake_output)\n",
        "    disc_loss = discriminator_loss(real_output, fake_output)\n",
        "  grad_gen = gen_tape.gradient(gen_loss, generator_model.trainable_variables)\n",
        "  grad_disc = disc_tape.gradient(disc_loss, discriminator_model.trainable_variables)\n",
        "  generator_optimizer.apply_gradients(zip(grad_gen, generator_model.trainable_variables))\n",
        "  discriminator_optimizer.apply_gradients(zip(grad_disc, discriminator_model.trainable_variables))  \n",
        "  return gen_loss, disc_loss"
      ],
      "metadata": {
        "id": "DrFJb66tOY-F"
      },
      "execution_count": null,
      "outputs": []
    },
    {
      "cell_type": "code",
      "source": [
        "@tf.function\n",
        "def train_step_nv1(x_real,n_disc,batch_size):\n",
        "  for i in range(n_disc):\n",
        "    x_real_batch = tf.gather(x_real,i)\n",
        "    d_loss = discriminator_step(x_real_batch,batch_size)\n",
        "  g_loss = generator_step(batch_size)\n",
        "  return g_loss, d_loss"
      ],
      "metadata": {
        "id": "AX6ybv6nBb4r"
      },
      "execution_count": null,
      "outputs": []
    },
    {
      "cell_type": "code",
      "source": [
        "@tf.function\n",
        "def train_step_1vn(x_real,n_gen,batch_size):\n",
        "  for i in range(n_gen):\n",
        "    g_loss = generator_step(batch_size)\n",
        "  d_loss = discriminator_step(x_real,batch_size)\n",
        "  return g_loss, d_loss "
      ],
      "metadata": {
        "id": "vqgMSSLzD1JM"
      },
      "execution_count": null,
      "outputs": []
    },
    {
      "cell_type": "code",
      "source": [
        "gen_loss_ = []\n",
        "disc_loss_ = []\n",
        "epochs_ = []"
      ],
      "metadata": {
        "id": "XzpzQOyWtLG-"
      },
      "execution_count": null,
      "outputs": []
    },
    {
      "cell_type": "code",
      "source": [
        "# Define one training step\n",
        "# train_step = train_step_nv1"
      ],
      "metadata": {
        "id": "RNp_4knQEvoa"
      },
      "execution_count": null,
      "outputs": []
    },
    {
      "cell_type": "code",
      "source": [
        "def train_qgans(x,epochs,batch_size,seed=1024,n_disc=1,n_gen=1):\n",
        "  input_shape = x.shape[1:]\n",
        "  train_preprocess(seed)\n",
        "  data = prepare_dataset(data=x,batch_size=batch_size*n_disc,seed=seed)\n",
        "  g_metric = tf.keras.metrics.Mean()\n",
        "  d_metric = tf.keras.metrics.Mean()\n",
        "  for epoch in range(epochs):\n",
        "    for step,training_batch_data_ in enumerate(data):\n",
        "      # training_batch_data = tf.reshape(training_batch_data_,input_batch_shape)\n",
        "      if( n_disc == 1 and n_gen == 1):\n",
        "        input_batch_shape = (batch_size,) + input_shape\n",
        "        training_batch_data = tf.reshape(training_batch_data_,input_batch_shape)\n",
        "        gen_loss,disc_loss = train_step_1v1(x_real=training_batch_data, batch_size=batch_size)\n",
        "      if n_disc > 1 and n_gen == 1:\n",
        "        input_batch_shape = (n_disc, batch_size) + input_shape\n",
        "        training_batch_data = tf.reshape(training_batch_data_,input_batch_shape)        \n",
        "        gen_loss,disc_loss = train_step_nv1(x_real=training_batch_data, batch_size=batch_size,n_disc=n_disc)\n",
        "      if n_gen > 1 and n_disc == 1:\n",
        "        input_batch_shape = (batch_size,) + input_shape\n",
        "        training_batch_data = tf.reshape(training_batch_data_,input_batch_shape)\n",
        "        gen_loss,disc_loss = train_step_1vn(x_real=training_batch_data, batch_size=batch_size,n_gen=n_gen)\n",
        "      g_metric(gen_loss)\n",
        "      d_metric(disc_loss)\n",
        "    gen_loss_.append(g_metric.result().numpy())\n",
        "    disc_loss_.append(d_metric.result().numpy())\n",
        "    epochs_.append(epoch)\n",
        "    print(\"Epoch:{} ;   generator_loss:{} ;   discriminator_loss:{}\".format(epoch,g_metric.result().numpy(),d_metric.result().numpy()))\n",
        "  \n",
        "    g_metric.reset_state()\n",
        "    d_metric.reset_state()\n",
        "  # samples = generate_samples(batch_size=50).numpy()\n",
        "  # make_plots([X_train_1, samples], ['true signal', 'fake signal']) "
      ],
      "metadata": {
        "id": "ahpOJdvJHwNl"
      },
      "execution_count": null,
      "outputs": []
    },
    {
      "cell_type": "code",
      "source": [
        "train_qgans(X_train_1,epochs=300,batch_size=5,n_disc=5)"
      ],
      "metadata": {
        "id": "3FAZin-psKVL",
        "colab": {
          "base_uri": "https://localhost:8080/"
        },
        "outputId": "bee3f453-9e35-4c80-fe9b-199b608b133d"
      },
      "execution_count": null,
      "outputs": [
        {
          "output_type": "stream",
          "name": "stdout",
          "text": [
            "Epoch:0 ;   generator_loss:0.6270591616630554 ;   discriminator_loss:1.497978925704956\n",
            "Epoch:1 ;   generator_loss:0.5630720257759094 ;   discriminator_loss:1.4342615604400635\n",
            "Epoch:2 ;   generator_loss:0.638034999370575 ;   discriminator_loss:1.5363991260528564\n",
            "Epoch:3 ;   generator_loss:0.5147250890731812 ;   discriminator_loss:1.1918480396270752\n",
            "Epoch:4 ;   generator_loss:0.4784556031227112 ;   discriminator_loss:1.2564575672149658\n",
            "Epoch:5 ;   generator_loss:0.47855451703071594 ;   discriminator_loss:1.242349624633789\n",
            "Epoch:6 ;   generator_loss:0.4446598291397095 ;   discriminator_loss:1.1487302780151367\n",
            "Epoch:7 ;   generator_loss:0.44349583983421326 ;   discriminator_loss:1.0289134979248047\n",
            "Epoch:8 ;   generator_loss:0.4567307233810425 ;   discriminator_loss:1.0567556619644165\n",
            "Epoch:9 ;   generator_loss:0.47690749168395996 ;   discriminator_loss:1.0714387893676758\n",
            "Epoch:10 ;   generator_loss:0.38312506675720215 ;   discriminator_loss:0.9477353692054749\n",
            "Epoch:11 ;   generator_loss:0.4374505281448364 ;   discriminator_loss:0.8689498901367188\n",
            "Epoch:12 ;   generator_loss:0.42102688550949097 ;   discriminator_loss:0.8927373886108398\n",
            "Epoch:13 ;   generator_loss:0.4158385992050171 ;   discriminator_loss:0.9552514553070068\n",
            "Epoch:14 ;   generator_loss:0.4212290048599243 ;   discriminator_loss:0.9323647022247314\n",
            "Epoch:15 ;   generator_loss:0.3679976463317871 ;   discriminator_loss:0.8022679686546326\n",
            "Epoch:16 ;   generator_loss:0.37545788288116455 ;   discriminator_loss:0.8023546934127808\n",
            "Epoch:17 ;   generator_loss:0.40393662452697754 ;   discriminator_loss:0.8157093524932861\n",
            "Epoch:18 ;   generator_loss:0.3540491461753845 ;   discriminator_loss:0.7706890106201172\n",
            "Epoch:19 ;   generator_loss:0.38199424743652344 ;   discriminator_loss:0.8157860040664673\n",
            "Epoch:20 ;   generator_loss:0.36807915568351746 ;   discriminator_loss:0.8059414625167847\n",
            "Epoch:21 ;   generator_loss:0.365043044090271 ;   discriminator_loss:0.74058997631073\n",
            "Epoch:22 ;   generator_loss:0.3568669855594635 ;   discriminator_loss:0.727949857711792\n",
            "Epoch:23 ;   generator_loss:0.3820059299468994 ;   discriminator_loss:0.7180861234664917\n",
            "Epoch:24 ;   generator_loss:0.3544447124004364 ;   discriminator_loss:0.7201091051101685\n",
            "Epoch:25 ;   generator_loss:0.37003880739212036 ;   discriminator_loss:0.7218610644340515\n",
            "Epoch:26 ;   generator_loss:0.34687530994415283 ;   discriminator_loss:0.7049210071563721\n",
            "Epoch:27 ;   generator_loss:0.36610355973243713 ;   discriminator_loss:0.7335259914398193\n",
            "Epoch:28 ;   generator_loss:0.349120557308197 ;   discriminator_loss:0.7127647399902344\n",
            "Epoch:29 ;   generator_loss:0.362501859664917 ;   discriminator_loss:0.703766405582428\n",
            "Epoch:30 ;   generator_loss:0.35583359003067017 ;   discriminator_loss:0.7086818814277649\n",
            "Epoch:31 ;   generator_loss:0.3605014979839325 ;   discriminator_loss:0.6896358132362366\n",
            "Epoch:32 ;   generator_loss:0.33708637952804565 ;   discriminator_loss:0.6616480946540833\n",
            "Epoch:33 ;   generator_loss:0.3567078113555908 ;   discriminator_loss:0.6807168126106262\n",
            "Epoch:34 ;   generator_loss:0.32721537351608276 ;   discriminator_loss:0.6870984435081482\n",
            "Epoch:35 ;   generator_loss:0.34332385659217834 ;   discriminator_loss:0.6682808995246887\n",
            "Epoch:36 ;   generator_loss:0.34315964579582214 ;   discriminator_loss:0.6727534532546997\n",
            "Epoch:37 ;   generator_loss:0.3456001877784729 ;   discriminator_loss:0.6713858246803284\n",
            "Epoch:38 ;   generator_loss:0.34219151735305786 ;   discriminator_loss:0.6734932065010071\n",
            "Epoch:39 ;   generator_loss:0.3435089588165283 ;   discriminator_loss:0.6662905812263489\n",
            "Epoch:40 ;   generator_loss:0.34053850173950195 ;   discriminator_loss:0.6640950441360474\n",
            "Epoch:41 ;   generator_loss:0.33151668310165405 ;   discriminator_loss:0.6534920334815979\n",
            "Epoch:42 ;   generator_loss:0.3366732895374298 ;   discriminator_loss:0.668353796005249\n",
            "Epoch:43 ;   generator_loss:0.3420524001121521 ;   discriminator_loss:0.6659388542175293\n",
            "Epoch:44 ;   generator_loss:0.33117419481277466 ;   discriminator_loss:0.6596819162368774\n",
            "Epoch:45 ;   generator_loss:0.3493915796279907 ;   discriminator_loss:0.6873725056648254\n",
            "Epoch:46 ;   generator_loss:0.3381640911102295 ;   discriminator_loss:0.6623427867889404\n",
            "Epoch:47 ;   generator_loss:0.3336735963821411 ;   discriminator_loss:0.6597082614898682\n",
            "Epoch:48 ;   generator_loss:0.34624969959259033 ;   discriminator_loss:0.6766700744628906\n",
            "Epoch:49 ;   generator_loss:0.3350764513015747 ;   discriminator_loss:0.6591869592666626\n",
            "Epoch:50 ;   generator_loss:0.33806487917900085 ;   discriminator_loss:0.6651725172996521\n",
            "Epoch:51 ;   generator_loss:0.32907354831695557 ;   discriminator_loss:0.6575829982757568\n",
            "Epoch:52 ;   generator_loss:0.3397185802459717 ;   discriminator_loss:0.6644071340560913\n",
            "Epoch:53 ;   generator_loss:0.32962846755981445 ;   discriminator_loss:0.6524239778518677\n",
            "Epoch:54 ;   generator_loss:0.34085583686828613 ;   discriminator_loss:0.6639924049377441\n",
            "Epoch:55 ;   generator_loss:0.325064480304718 ;   discriminator_loss:0.6463519334793091\n",
            "Epoch:56 ;   generator_loss:0.3351404070854187 ;   discriminator_loss:0.6616857647895813\n",
            "Epoch:57 ;   generator_loss:0.3287273645401001 ;   discriminator_loss:0.6496685743331909\n",
            "Epoch:58 ;   generator_loss:0.33217084407806396 ;   discriminator_loss:0.6553708910942078\n",
            "Epoch:59 ;   generator_loss:0.32827162742614746 ;   discriminator_loss:0.6539129614830017\n",
            "Epoch:60 ;   generator_loss:0.3325248956680298 ;   discriminator_loss:0.6576306819915771\n",
            "Epoch:61 ;   generator_loss:0.335571825504303 ;   discriminator_loss:0.6568058133125305\n",
            "Epoch:62 ;   generator_loss:0.32619333267211914 ;   discriminator_loss:0.6526302099227905\n",
            "Epoch:63 ;   generator_loss:0.33263665437698364 ;   discriminator_loss:0.6544358134269714\n",
            "Epoch:64 ;   generator_loss:0.33046823740005493 ;   discriminator_loss:0.6543967127799988\n",
            "Epoch:65 ;   generator_loss:0.33143794536590576 ;   discriminator_loss:0.6517316102981567\n",
            "Epoch:66 ;   generator_loss:0.3298850655555725 ;   discriminator_loss:0.6495026350021362\n",
            "Epoch:67 ;   generator_loss:0.32410258054733276 ;   discriminator_loss:0.6450807452201843\n",
            "Epoch:68 ;   generator_loss:0.3310113549232483 ;   discriminator_loss:0.6514705419540405\n",
            "Epoch:69 ;   generator_loss:0.3237765431404114 ;   discriminator_loss:0.64290452003479\n",
            "Epoch:70 ;   generator_loss:0.33434930443763733 ;   discriminator_loss:0.6532325744628906\n",
            "Epoch:71 ;   generator_loss:0.3288378119468689 ;   discriminator_loss:0.6498034000396729\n",
            "Epoch:72 ;   generator_loss:0.32783472537994385 ;   discriminator_loss:0.6476365327835083\n",
            "Epoch:73 ;   generator_loss:0.3286229372024536 ;   discriminator_loss:0.6507333517074585\n",
            "Epoch:74 ;   generator_loss:0.32357531785964966 ;   discriminator_loss:0.6421029567718506\n",
            "Epoch:75 ;   generator_loss:0.32278889417648315 ;   discriminator_loss:0.6461827754974365\n",
            "Epoch:76 ;   generator_loss:0.319113165140152 ;   discriminator_loss:0.6408251523971558\n",
            "Epoch:77 ;   generator_loss:0.3245864510536194 ;   discriminator_loss:0.6427263021469116\n",
            "Epoch:78 ;   generator_loss:0.32694315910339355 ;   discriminator_loss:0.6454729437828064\n",
            "Epoch:79 ;   generator_loss:0.32527703046798706 ;   discriminator_loss:0.6475335955619812\n",
            "Epoch:80 ;   generator_loss:0.3259972333908081 ;   discriminator_loss:0.6457407474517822\n",
            "Epoch:81 ;   generator_loss:0.3213162422180176 ;   discriminator_loss:0.6395692229270935\n",
            "Epoch:82 ;   generator_loss:0.32118192315101624 ;   discriminator_loss:0.6428635120391846\n",
            "Epoch:83 ;   generator_loss:0.32364362478256226 ;   discriminator_loss:0.6426498889923096\n",
            "Epoch:84 ;   generator_loss:0.3207095265388489 ;   discriminator_loss:0.6404801607131958\n",
            "Epoch:85 ;   generator_loss:0.32434505224227905 ;   discriminator_loss:0.6414229869842529\n",
            "Epoch:86 ;   generator_loss:0.32149913907051086 ;   discriminator_loss:0.6395699977874756\n",
            "Epoch:87 ;   generator_loss:0.3185235857963562 ;   discriminator_loss:0.6367137432098389\n",
            "Epoch:88 ;   generator_loss:0.3196902573108673 ;   discriminator_loss:0.6365998983383179\n",
            "Epoch:89 ;   generator_loss:0.32125741243362427 ;   discriminator_loss:0.6418054103851318\n",
            "Epoch:90 ;   generator_loss:0.3180437684059143 ;   discriminator_loss:0.6345010995864868\n",
            "Epoch:91 ;   generator_loss:0.3267505168914795 ;   discriminator_loss:0.6449462175369263\n",
            "Epoch:92 ;   generator_loss:0.32219070196151733 ;   discriminator_loss:0.6396679878234863\n",
            "Epoch:93 ;   generator_loss:0.3205774426460266 ;   discriminator_loss:0.6379365921020508\n",
            "Epoch:94 ;   generator_loss:0.3199389576911926 ;   discriminator_loss:0.6365982294082642\n",
            "Epoch:95 ;   generator_loss:0.3191819190979004 ;   discriminator_loss:0.6386234164237976\n",
            "Epoch:96 ;   generator_loss:0.32058578729629517 ;   discriminator_loss:0.6371931433677673\n",
            "Epoch:97 ;   generator_loss:0.32141539454460144 ;   discriminator_loss:0.6410195827484131\n",
            "Epoch:98 ;   generator_loss:0.3219282627105713 ;   discriminator_loss:0.643507719039917\n",
            "Epoch:99 ;   generator_loss:0.3208499252796173 ;   discriminator_loss:0.6379739046096802\n",
            "Epoch:100 ;   generator_loss:0.32136958837509155 ;   discriminator_loss:0.6386764049530029\n",
            "Epoch:101 ;   generator_loss:0.3184981346130371 ;   discriminator_loss:0.6368415355682373\n",
            "Epoch:102 ;   generator_loss:0.3239697217941284 ;   discriminator_loss:0.6443870067596436\n",
            "Epoch:103 ;   generator_loss:0.3216559588909149 ;   discriminator_loss:0.6415776014328003\n",
            "Epoch:104 ;   generator_loss:0.321415513753891 ;   discriminator_loss:0.6390271186828613\n",
            "Epoch:105 ;   generator_loss:0.31632018089294434 ;   discriminator_loss:0.6362695693969727\n",
            "Epoch:106 ;   generator_loss:0.32001596689224243 ;   discriminator_loss:0.639396071434021\n",
            "Epoch:107 ;   generator_loss:0.32181137800216675 ;   discriminator_loss:0.6376024484634399\n",
            "Epoch:108 ;   generator_loss:0.3243345618247986 ;   discriminator_loss:0.6464155912399292\n",
            "Epoch:109 ;   generator_loss:0.3219069242477417 ;   discriminator_loss:0.6413518786430359\n",
            "Epoch:110 ;   generator_loss:0.32120707631111145 ;   discriminator_loss:0.6419928073883057\n",
            "Epoch:111 ;   generator_loss:0.31927961111068726 ;   discriminator_loss:0.6360164880752563\n",
            "Epoch:112 ;   generator_loss:0.32718753814697266 ;   discriminator_loss:0.6435207724571228\n",
            "Epoch:113 ;   generator_loss:0.3180748522281647 ;   discriminator_loss:0.6345982551574707\n",
            "Epoch:114 ;   generator_loss:0.32182058691978455 ;   discriminator_loss:0.6379274725914001\n",
            "Epoch:115 ;   generator_loss:0.3196067214012146 ;   discriminator_loss:0.6389746069908142\n",
            "Epoch:116 ;   generator_loss:0.31712424755096436 ;   discriminator_loss:0.6337496638298035\n",
            "Epoch:117 ;   generator_loss:0.3233208954334259 ;   discriminator_loss:0.6406673192977905\n",
            "Epoch:118 ;   generator_loss:0.3169601261615753 ;   discriminator_loss:0.6322981715202332\n",
            "Epoch:119 ;   generator_loss:0.31999048590660095 ;   discriminator_loss:0.6360598802566528\n",
            "Epoch:120 ;   generator_loss:0.31785809993743896 ;   discriminator_loss:0.6338440775871277\n",
            "Epoch:121 ;   generator_loss:0.3210349678993225 ;   discriminator_loss:0.6433956027030945\n",
            "Epoch:122 ;   generator_loss:0.3174193501472473 ;   discriminator_loss:0.6330338716506958\n",
            "Epoch:123 ;   generator_loss:0.3168213963508606 ;   discriminator_loss:0.6354227066040039\n",
            "Epoch:124 ;   generator_loss:0.32098183035850525 ;   discriminator_loss:0.6364576816558838\n",
            "Epoch:125 ;   generator_loss:0.31728363037109375 ;   discriminator_loss:0.6338323354721069\n",
            "Epoch:126 ;   generator_loss:0.3198639750480652 ;   discriminator_loss:0.6360187530517578\n",
            "Epoch:127 ;   generator_loss:0.31638044118881226 ;   discriminator_loss:0.6319911479949951\n",
            "Epoch:128 ;   generator_loss:0.31749120354652405 ;   discriminator_loss:0.632436990737915\n",
            "Epoch:129 ;   generator_loss:0.31665903329849243 ;   discriminator_loss:0.6320832967758179\n",
            "Epoch:130 ;   generator_loss:0.31810328364372253 ;   discriminator_loss:0.6358311176300049\n",
            "Epoch:131 ;   generator_loss:0.32184433937072754 ;   discriminator_loss:0.6369647979736328\n",
            "Epoch:132 ;   generator_loss:0.31812161207199097 ;   discriminator_loss:0.6363447308540344\n",
            "Epoch:133 ;   generator_loss:0.3184184432029724 ;   discriminator_loss:0.6335541009902954\n",
            "Epoch:134 ;   generator_loss:0.32033973932266235 ;   discriminator_loss:0.6398282051086426\n",
            "Epoch:135 ;   generator_loss:0.3178842067718506 ;   discriminator_loss:0.6331222057342529\n",
            "Epoch:136 ;   generator_loss:0.3165440261363983 ;   discriminator_loss:0.6318585872650146\n",
            "Epoch:137 ;   generator_loss:0.31669729948043823 ;   discriminator_loss:0.6316936016082764\n",
            "Epoch:138 ;   generator_loss:0.32145512104034424 ;   discriminator_loss:0.6372676491737366\n",
            "Epoch:139 ;   generator_loss:0.3228186368942261 ;   discriminator_loss:0.6416910886764526\n",
            "Epoch:140 ;   generator_loss:0.31874462962150574 ;   discriminator_loss:0.6343835592269897\n",
            "Epoch:141 ;   generator_loss:0.3216904401779175 ;   discriminator_loss:0.6401565074920654\n",
            "Epoch:142 ;   generator_loss:0.3165134787559509 ;   discriminator_loss:0.6320574283599854\n",
            "Epoch:143 ;   generator_loss:0.31775331497192383 ;   discriminator_loss:0.6331081986427307\n",
            "Epoch:144 ;   generator_loss:0.3179944157600403 ;   discriminator_loss:0.6328408122062683\n",
            "Epoch:145 ;   generator_loss:0.31608790159225464 ;   discriminator_loss:0.6332846283912659\n",
            "Epoch:146 ;   generator_loss:0.3174828886985779 ;   discriminator_loss:0.6362362504005432\n",
            "Epoch:147 ;   generator_loss:0.31743431091308594 ;   discriminator_loss:0.6323598623275757\n",
            "Epoch:148 ;   generator_loss:0.31570112705230713 ;   discriminator_loss:0.630369246006012\n",
            "Epoch:149 ;   generator_loss:0.31751030683517456 ;   discriminator_loss:0.6318776607513428\n",
            "Epoch:150 ;   generator_loss:0.315695583820343 ;   discriminator_loss:0.6298659443855286\n",
            "Epoch:151 ;   generator_loss:0.32036125659942627 ;   discriminator_loss:0.6347514986991882\n",
            "Epoch:152 ;   generator_loss:0.3200318217277527 ;   discriminator_loss:0.634598970413208\n",
            "Epoch:153 ;   generator_loss:0.31570863723754883 ;   discriminator_loss:0.6306225061416626\n",
            "Epoch:154 ;   generator_loss:0.31676217913627625 ;   discriminator_loss:0.633780837059021\n",
            "Epoch:155 ;   generator_loss:0.3150230944156647 ;   discriminator_loss:0.6295897960662842\n",
            "Epoch:156 ;   generator_loss:0.3152862787246704 ;   discriminator_loss:0.6300067901611328\n",
            "Epoch:157 ;   generator_loss:0.3155502378940582 ;   discriminator_loss:0.6325374245643616\n",
            "Epoch:158 ;   generator_loss:0.3185748755931854 ;   discriminator_loss:0.6337479948997498\n",
            "Epoch:159 ;   generator_loss:0.3175755441188812 ;   discriminator_loss:0.6323271989822388\n",
            "Epoch:160 ;   generator_loss:0.31555330753326416 ;   discriminator_loss:0.6306349039077759\n",
            "Epoch:161 ;   generator_loss:0.3167930245399475 ;   discriminator_loss:0.632377028465271\n",
            "Epoch:162 ;   generator_loss:0.3152467608451843 ;   discriminator_loss:0.6307544112205505\n",
            "Epoch:163 ;   generator_loss:0.31582558155059814 ;   discriminator_loss:0.6322928667068481\n",
            "Epoch:164 ;   generator_loss:0.31572431325912476 ;   discriminator_loss:0.6320576667785645\n",
            "Epoch:165 ;   generator_loss:0.3168736398220062 ;   discriminator_loss:0.6311692595481873\n",
            "Epoch:166 ;   generator_loss:0.3165912628173828 ;   discriminator_loss:0.631403386592865\n",
            "Epoch:167 ;   generator_loss:0.3149799108505249 ;   discriminator_loss:0.6300585865974426\n",
            "Epoch:168 ;   generator_loss:0.31908732652664185 ;   discriminator_loss:0.6340399980545044\n",
            "Epoch:169 ;   generator_loss:0.31605958938598633 ;   discriminator_loss:0.6309458017349243\n",
            "Epoch:170 ;   generator_loss:0.31539613008499146 ;   discriminator_loss:0.6307288408279419\n",
            "Epoch:171 ;   generator_loss:0.3167341947555542 ;   discriminator_loss:0.631581723690033\n",
            "Epoch:172 ;   generator_loss:0.31634896993637085 ;   discriminator_loss:0.6306473016738892\n",
            "Epoch:173 ;   generator_loss:0.3145102560520172 ;   discriminator_loss:0.6288876533508301\n",
            "Epoch:174 ;   generator_loss:0.31665223836898804 ;   discriminator_loss:0.6336269378662109\n",
            "Epoch:175 ;   generator_loss:0.31592750549316406 ;   discriminator_loss:0.6329607963562012\n",
            "Epoch:176 ;   generator_loss:0.31663182377815247 ;   discriminator_loss:0.6308053731918335\n",
            "Epoch:177 ;   generator_loss:0.31602412462234497 ;   discriminator_loss:0.6305392980575562\n",
            "Epoch:178 ;   generator_loss:0.317815899848938 ;   discriminator_loss:0.6319472193717957\n",
            "Epoch:179 ;   generator_loss:0.31500643491744995 ;   discriminator_loss:0.631747305393219\n",
            "Epoch:180 ;   generator_loss:0.3154449462890625 ;   discriminator_loss:0.6297801733016968\n",
            "Epoch:181 ;   generator_loss:0.3146241307258606 ;   discriminator_loss:0.6290019750595093\n",
            "Epoch:182 ;   generator_loss:0.31490370631217957 ;   discriminator_loss:0.6289418339729309\n",
            "Epoch:183 ;   generator_loss:0.3157618045806885 ;   discriminator_loss:0.6305097341537476\n",
            "Epoch:184 ;   generator_loss:0.31645724177360535 ;   discriminator_loss:0.6311361193656921\n",
            "Epoch:185 ;   generator_loss:0.31654614210128784 ;   discriminator_loss:0.6306168437004089\n",
            "Epoch:186 ;   generator_loss:0.3157481551170349 ;   discriminator_loss:0.6301268935203552\n",
            "Epoch:187 ;   generator_loss:0.31577783823013306 ;   discriminator_loss:0.6302897930145264\n",
            "Epoch:188 ;   generator_loss:0.31490880250930786 ;   discriminator_loss:0.6290273666381836\n",
            "Epoch:189 ;   generator_loss:0.3152908384799957 ;   discriminator_loss:0.6292757987976074\n",
            "Epoch:190 ;   generator_loss:0.31503579020500183 ;   discriminator_loss:0.6293218731880188\n",
            "Epoch:191 ;   generator_loss:0.3139907121658325 ;   discriminator_loss:0.6287389993667603\n",
            "Epoch:192 ;   generator_loss:0.3152989447116852 ;   discriminator_loss:0.6292256116867065\n",
            "Epoch:193 ;   generator_loss:0.3169163167476654 ;   discriminator_loss:0.6325156688690186\n",
            "Epoch:194 ;   generator_loss:0.31633460521698 ;   discriminator_loss:0.6311758756637573\n",
            "Epoch:195 ;   generator_loss:0.3155704736709595 ;   discriminator_loss:0.6307080984115601\n",
            "Epoch:196 ;   generator_loss:0.3155920207500458 ;   discriminator_loss:0.6315415501594543\n",
            "Epoch:197 ;   generator_loss:0.3146247863769531 ;   discriminator_loss:0.6303632259368896\n",
            "Epoch:198 ;   generator_loss:0.3146970868110657 ;   discriminator_loss:0.6286698579788208\n",
            "Epoch:199 ;   generator_loss:0.3146846890449524 ;   discriminator_loss:0.6287590265274048\n",
            "Epoch:200 ;   generator_loss:0.31943202018737793 ;   discriminator_loss:0.6352457404136658\n",
            "Epoch:201 ;   generator_loss:0.314971387386322 ;   discriminator_loss:0.6287598609924316\n",
            "Epoch:202 ;   generator_loss:0.3173592686653137 ;   discriminator_loss:0.6329047083854675\n",
            "Epoch:203 ;   generator_loss:0.3148704171180725 ;   discriminator_loss:0.6287604570388794\n",
            "Epoch:204 ;   generator_loss:0.31638509035110474 ;   discriminator_loss:0.632421612739563\n",
            "Epoch:205 ;   generator_loss:0.31554487347602844 ;   discriminator_loss:0.6295807361602783\n",
            "Epoch:206 ;   generator_loss:0.314883291721344 ;   discriminator_loss:0.6296983957290649\n",
            "Epoch:207 ;   generator_loss:0.3149946331977844 ;   discriminator_loss:0.6294001340866089\n",
            "Epoch:208 ;   generator_loss:0.3180864751338959 ;   discriminator_loss:0.6320369839668274\n",
            "Epoch:209 ;   generator_loss:0.314907431602478 ;   discriminator_loss:0.6297069787979126\n",
            "Epoch:210 ;   generator_loss:0.3152407109737396 ;   discriminator_loss:0.6290838122367859\n",
            "Epoch:211 ;   generator_loss:0.3158918023109436 ;   discriminator_loss:0.6301375031471252\n",
            "Epoch:212 ;   generator_loss:0.31418943405151367 ;   discriminator_loss:0.6280779838562012\n",
            "Epoch:213 ;   generator_loss:0.31526851654052734 ;   discriminator_loss:0.6304988861083984\n",
            "Epoch:214 ;   generator_loss:0.3146973252296448 ;   discriminator_loss:0.6298474669456482\n",
            "Epoch:215 ;   generator_loss:0.3154226839542389 ;   discriminator_loss:0.6295337080955505\n",
            "Epoch:216 ;   generator_loss:0.31491196155548096 ;   discriminator_loss:0.628517746925354\n",
            "Epoch:217 ;   generator_loss:0.31477177143096924 ;   discriminator_loss:0.6285538673400879\n",
            "Epoch:218 ;   generator_loss:0.31516557931900024 ;   discriminator_loss:0.6288980841636658\n",
            "Epoch:219 ;   generator_loss:0.3144351840019226 ;   discriminator_loss:0.6284761428833008\n",
            "Epoch:220 ;   generator_loss:0.3150082230567932 ;   discriminator_loss:0.6287463903427124\n",
            "Epoch:221 ;   generator_loss:0.31475746631622314 ;   discriminator_loss:0.6287999749183655\n",
            "Epoch:222 ;   generator_loss:0.3152083158493042 ;   discriminator_loss:0.6292754411697388\n",
            "Epoch:223 ;   generator_loss:0.3146088719367981 ;   discriminator_loss:0.6290096044540405\n",
            "Epoch:224 ;   generator_loss:0.31499963998794556 ;   discriminator_loss:0.6300462484359741\n",
            "Epoch:225 ;   generator_loss:0.31447267532348633 ;   discriminator_loss:0.6281448006629944\n",
            "Epoch:226 ;   generator_loss:0.31715846061706543 ;   discriminator_loss:0.6313948631286621\n",
            "Epoch:227 ;   generator_loss:0.3143051862716675 ;   discriminator_loss:0.628595232963562\n",
            "Epoch:228 ;   generator_loss:0.3150908350944519 ;   discriminator_loss:0.6287751793861389\n",
            "Epoch:229 ;   generator_loss:0.3138904571533203 ;   discriminator_loss:0.6278003454208374\n",
            "Epoch:230 ;   generator_loss:0.31475257873535156 ;   discriminator_loss:0.6283292770385742\n",
            "Epoch:231 ;   generator_loss:0.3146902322769165 ;   discriminator_loss:0.6283721923828125\n",
            "Epoch:232 ;   generator_loss:0.31424862146377563 ;   discriminator_loss:0.6281208992004395\n",
            "Epoch:233 ;   generator_loss:0.31419962644577026 ;   discriminator_loss:0.6283931136131287\n",
            "Epoch:234 ;   generator_loss:0.31449875235557556 ;   discriminator_loss:0.628127932548523\n",
            "Epoch:235 ;   generator_loss:0.31521594524383545 ;   discriminator_loss:0.6303480267524719\n",
            "Epoch:236 ;   generator_loss:0.31471192836761475 ;   discriminator_loss:0.6296771168708801\n",
            "Epoch:237 ;   generator_loss:0.31451135873794556 ;   discriminator_loss:0.6293034553527832\n",
            "Epoch:238 ;   generator_loss:0.31400465965270996 ;   discriminator_loss:0.6278340220451355\n",
            "Epoch:239 ;   generator_loss:0.3147618770599365 ;   discriminator_loss:0.6286764144897461\n",
            "Epoch:240 ;   generator_loss:0.315761923789978 ;   discriminator_loss:0.6303852796554565\n",
            "Epoch:241 ;   generator_loss:0.3143220543861389 ;   discriminator_loss:0.6278498768806458\n",
            "Epoch:242 ;   generator_loss:0.31410783529281616 ;   discriminator_loss:0.6292327642440796\n",
            "Epoch:243 ;   generator_loss:0.3150661587715149 ;   discriminator_loss:0.6291388273239136\n",
            "Epoch:244 ;   generator_loss:0.3155882954597473 ;   discriminator_loss:0.629226565361023\n",
            "Epoch:245 ;   generator_loss:0.3138936758041382 ;   discriminator_loss:0.6281003355979919\n",
            "Epoch:246 ;   generator_loss:0.31458961963653564 ;   discriminator_loss:0.6282339692115784\n",
            "Epoch:247 ;   generator_loss:0.31529998779296875 ;   discriminator_loss:0.6290672421455383\n",
            "Epoch:248 ;   generator_loss:0.31387630105018616 ;   discriminator_loss:0.6275315284729004\n",
            "Epoch:249 ;   generator_loss:0.3152763247489929 ;   discriminator_loss:0.6292386054992676\n",
            "Epoch:250 ;   generator_loss:0.3147526979446411 ;   discriminator_loss:0.6283852458000183\n",
            "Epoch:251 ;   generator_loss:0.3143443465232849 ;   discriminator_loss:0.6279388666152954\n",
            "Epoch:252 ;   generator_loss:0.3140842616558075 ;   discriminator_loss:0.6285192966461182\n",
            "Epoch:253 ;   generator_loss:0.3140110671520233 ;   discriminator_loss:0.6275595426559448\n",
            "Epoch:254 ;   generator_loss:0.31399303674697876 ;   discriminator_loss:0.6277115345001221\n",
            "Epoch:255 ;   generator_loss:0.31445401906967163 ;   discriminator_loss:0.6284832954406738\n",
            "Epoch:256 ;   generator_loss:0.31417518854141235 ;   discriminator_loss:0.627937912940979\n",
            "Epoch:257 ;   generator_loss:0.31503555178642273 ;   discriminator_loss:0.6285567283630371\n",
            "Epoch:258 ;   generator_loss:0.3140834867954254 ;   discriminator_loss:0.6276707649230957\n",
            "Epoch:259 ;   generator_loss:0.31476449966430664 ;   discriminator_loss:0.6286997199058533\n",
            "Epoch:260 ;   generator_loss:0.31445372104644775 ;   discriminator_loss:0.6281297206878662\n",
            "Epoch:261 ;   generator_loss:0.31487199664115906 ;   discriminator_loss:0.6300306916236877\n",
            "Epoch:262 ;   generator_loss:0.3144403100013733 ;   discriminator_loss:0.6279984712600708\n",
            "Epoch:263 ;   generator_loss:0.31441500782966614 ;   discriminator_loss:0.627941370010376\n",
            "Epoch:264 ;   generator_loss:0.3144325017929077 ;   discriminator_loss:0.6290915012359619\n",
            "Epoch:265 ;   generator_loss:0.31464558839797974 ;   discriminator_loss:0.6282721161842346\n",
            "Epoch:266 ;   generator_loss:0.31431514024734497 ;   discriminator_loss:0.6287966966629028\n",
            "Epoch:267 ;   generator_loss:0.3138464093208313 ;   discriminator_loss:0.6289314031600952\n",
            "Epoch:268 ;   generator_loss:0.31460684537887573 ;   discriminator_loss:0.6281523704528809\n",
            "Epoch:269 ;   generator_loss:0.3141079843044281 ;   discriminator_loss:0.6284332275390625\n",
            "Epoch:270 ;   generator_loss:0.31429678201675415 ;   discriminator_loss:0.628621518611908\n",
            "Epoch:271 ;   generator_loss:0.3152617812156677 ;   discriminator_loss:0.630223274230957\n",
            "Epoch:272 ;   generator_loss:0.31495848298072815 ;   discriminator_loss:0.6285532712936401\n",
            "Epoch:273 ;   generator_loss:0.31427666544914246 ;   discriminator_loss:0.6279621720314026\n",
            "Epoch:274 ;   generator_loss:0.3139761686325073 ;   discriminator_loss:0.6274358630180359\n",
            "Epoch:275 ;   generator_loss:0.3143027424812317 ;   discriminator_loss:0.6281951665878296\n",
            "Epoch:276 ;   generator_loss:0.3146190643310547 ;   discriminator_loss:0.6281473636627197\n",
            "Epoch:277 ;   generator_loss:0.3140519857406616 ;   discriminator_loss:0.6275954842567444\n",
            "Epoch:278 ;   generator_loss:0.31449851393699646 ;   discriminator_loss:0.6279685497283936\n",
            "Epoch:279 ;   generator_loss:0.3157149851322174 ;   discriminator_loss:0.6296592950820923\n",
            "Epoch:280 ;   generator_loss:0.31458204984664917 ;   discriminator_loss:0.6291614770889282\n",
            "Epoch:281 ;   generator_loss:0.313823401927948 ;   discriminator_loss:0.627371072769165\n",
            "Epoch:282 ;   generator_loss:0.31508439779281616 ;   discriminator_loss:0.6288229823112488\n",
            "Epoch:283 ;   generator_loss:0.31476736068725586 ;   discriminator_loss:0.6283555030822754\n",
            "Epoch:284 ;   generator_loss:0.31441038846969604 ;   discriminator_loss:0.6291074156761169\n",
            "Epoch:285 ;   generator_loss:0.3139945864677429 ;   discriminator_loss:0.6276469230651855\n",
            "Epoch:286 ;   generator_loss:0.31445664167404175 ;   discriminator_loss:0.6279804706573486\n",
            "Epoch:287 ;   generator_loss:0.31416642665863037 ;   discriminator_loss:0.6275898218154907\n",
            "Epoch:288 ;   generator_loss:0.31441810727119446 ;   discriminator_loss:0.6282122135162354\n",
            "Epoch:289 ;   generator_loss:0.31430572271347046 ;   discriminator_loss:0.6277661919593811\n",
            "Epoch:290 ;   generator_loss:0.31451499462127686 ;   discriminator_loss:0.6279401183128357\n",
            "Epoch:291 ;   generator_loss:0.31424230337142944 ;   discriminator_loss:0.6276389956474304\n",
            "Epoch:292 ;   generator_loss:0.3142073154449463 ;   discriminator_loss:0.6276047229766846\n",
            "Epoch:293 ;   generator_loss:0.3141385316848755 ;   discriminator_loss:0.627569317817688\n",
            "Epoch:294 ;   generator_loss:0.31405019760131836 ;   discriminator_loss:0.6274566054344177\n",
            "Epoch:295 ;   generator_loss:0.31392985582351685 ;   discriminator_loss:0.6280375123023987\n",
            "Epoch:296 ;   generator_loss:0.31408530473709106 ;   discriminator_loss:0.62750244140625\n",
            "Epoch:297 ;   generator_loss:0.3141481280326843 ;   discriminator_loss:0.6277875900268555\n",
            "Epoch:298 ;   generator_loss:0.3139970898628235 ;   discriminator_loss:0.6274860501289368\n",
            "Epoch:299 ;   generator_loss:0.3139125406742096 ;   discriminator_loss:0.6274877786636353\n"
          ]
        }
      ]
    },
    {
      "cell_type": "code",
      "source": [
        "print(gen_loss_)\n",
        "print(disc_loss_)\n",
        "print(min(gen_loss_))\n",
        "print(min(disc_loss_))"
      ],
      "metadata": {
        "colab": {
          "base_uri": "https://localhost:8080/"
        },
        "id": "VLId-ZtLxSFI",
        "outputId": "b3a8e323-7387-4fce-c1ea-bbd25248a51d"
      },
      "execution_count": null,
      "outputs": [
        {
          "output_type": "stream",
          "name": "stdout",
          "text": [
            "[0.62705916, 0.563072, 0.638035, 0.5147251, 0.4784556, 0.47855452, 0.44465983, 0.44349584, 0.45673072, 0.4769075, 0.38312507, 0.43745053, 0.4210269, 0.4158386, 0.421229, 0.36799765, 0.37545788, 0.40393662, 0.35404915, 0.38199425, 0.36807916, 0.36504304, 0.356867, 0.38200593, 0.3544447, 0.3700388, 0.3468753, 0.36610356, 0.34912056, 0.36250186, 0.3558336, 0.3605015, 0.33708638, 0.3567078, 0.32721537, 0.34332386, 0.34315965, 0.3456002, 0.34219152, 0.34350896, 0.3405385, 0.33151668, 0.3366733, 0.3420524, 0.3311742, 0.34939158, 0.3381641, 0.3336736, 0.3462497, 0.33507645, 0.33806488, 0.32907355, 0.33971858, 0.32962847, 0.34085584, 0.32506448, 0.3351404, 0.32872736, 0.33217084, 0.32827163, 0.3325249, 0.33557183, 0.32619333, 0.33263665, 0.33046824, 0.33143795, 0.32988507, 0.32410258, 0.33101135, 0.32377654, 0.3343493, 0.3288378, 0.32783473, 0.32862294, 0.32357532, 0.3227889, 0.31911317, 0.32458645, 0.32694316, 0.32527703, 0.32599723, 0.32131624, 0.32118192, 0.32364362, 0.32070953, 0.32434505, 0.32149914, 0.3185236, 0.31969026, 0.3212574, 0.31804377, 0.32675052, 0.3221907, 0.32057744, 0.31993896, 0.31918192, 0.3205858, 0.3214154, 0.32192826, 0.32084993, 0.3213696, 0.31849813, 0.32396972, 0.32165596, 0.3214155, 0.31632018, 0.32001597, 0.32181138, 0.32433456, 0.32190692, 0.32120708, 0.3192796, 0.32718754, 0.31807485, 0.3218206, 0.31960672, 0.31712425, 0.3233209, 0.31696013, 0.3199905, 0.3178581, 0.32103497, 0.31741935, 0.3168214, 0.32098183, 0.31728363, 0.31986398, 0.31638044, 0.3174912, 0.31665903, 0.31810328, 0.32184434, 0.3181216, 0.31841844, 0.32033974, 0.3178842, 0.31654403, 0.3166973, 0.32145512, 0.32281864, 0.31874463, 0.32169044, 0.31651348, 0.31775331, 0.31799442, 0.3160879, 0.3174829, 0.3174343, 0.31570113, 0.3175103, 0.31569558, 0.32036126, 0.32003182, 0.31570864, 0.31676218, 0.3150231, 0.31528628, 0.31555024, 0.31857488, 0.31757554, 0.3155533, 0.31679302, 0.31524676, 0.31582558, 0.3157243, 0.31687364, 0.31659126, 0.3149799, 0.31908733, 0.3160596, 0.31539613, 0.3167342, 0.31634897, 0.31451026, 0.31665224, 0.3159275, 0.31663182, 0.31602412, 0.3178159, 0.31500643, 0.31544495, 0.31462413, 0.3149037, 0.3157618, 0.31645724, 0.31654614, 0.31574816, 0.31577784, 0.3149088, 0.31529084, 0.3150358, 0.3139907, 0.31529894, 0.31691632, 0.3163346, 0.31557047, 0.31559202, 0.3146248, 0.3146971, 0.3146847, 0.31943202, 0.3149714, 0.31735927, 0.31487042, 0.3163851, 0.31554487, 0.3148833, 0.31499463, 0.31808648, 0.31490743, 0.3152407, 0.3158918, 0.31418943, 0.31526852, 0.31469733, 0.31542268, 0.31491196, 0.31477177, 0.31516558, 0.31443518, 0.31500822, 0.31475747, 0.31520832, 0.31460887, 0.31499964, 0.31447268, 0.31715846, 0.3143052, 0.31509084, 0.31389046, 0.31475258, 0.31469023, 0.31424862, 0.31419963, 0.31449875, 0.31521595, 0.31471193, 0.31451136, 0.31400466, 0.31476188, 0.31576192, 0.31432205, 0.31410784, 0.31506616, 0.3155883, 0.31389368, 0.31458962, 0.3153, 0.3138763, 0.31527632, 0.3147527, 0.31434435, 0.31408426, 0.31401107, 0.31399304, 0.31445402, 0.3141752, 0.31503555, 0.3140835, 0.3147645, 0.31445372, 0.314872, 0.3144403, 0.314415, 0.3144325, 0.3146456, 0.31431514, 0.3138464, 0.31460685, 0.31410798, 0.31429678, 0.31526178, 0.31495848, 0.31427667, 0.31397617, 0.31430274, 0.31461906, 0.314052, 0.3144985, 0.315715, 0.31458205, 0.3138234, 0.3150844, 0.31476736, 0.3144104, 0.3139946, 0.31445664, 0.31416643, 0.3144181, 0.31430572, 0.314515, 0.3142423, 0.31420732, 0.31413853, 0.3140502, 0.31392986, 0.3140853, 0.31414813, 0.3139971, 0.31391254]\n",
            "[1.4979789, 1.4342616, 1.5363991, 1.191848, 1.2564576, 1.2423496, 1.1487303, 1.0289135, 1.0567557, 1.0714388, 0.94773537, 0.8689499, 0.8927374, 0.95525146, 0.9323647, 0.80226797, 0.8023547, 0.81570935, 0.770689, 0.815786, 0.80594146, 0.74059, 0.72794986, 0.7180861, 0.7201091, 0.72186106, 0.704921, 0.733526, 0.71276474, 0.7037664, 0.7086819, 0.6896358, 0.6616481, 0.6807168, 0.68709844, 0.6682809, 0.67275345, 0.6713858, 0.6734932, 0.6662906, 0.66409504, 0.65349203, 0.6683538, 0.66593885, 0.6596819, 0.6873725, 0.6623428, 0.65970826, 0.6766701, 0.65918696, 0.6651725, 0.657583, 0.66440713, 0.652424, 0.6639924, 0.64635193, 0.66168576, 0.6496686, 0.6553709, 0.65391296, 0.6576307, 0.6568058, 0.6526302, 0.6544358, 0.6543967, 0.6517316, 0.64950264, 0.64508075, 0.65147054, 0.6429045, 0.6532326, 0.6498034, 0.64763653, 0.65073335, 0.64210296, 0.6461828, 0.64082515, 0.6427263, 0.64547294, 0.6475336, 0.64574075, 0.6395692, 0.6428635, 0.6426499, 0.64048016, 0.641423, 0.63957, 0.63671374, 0.6365999, 0.6418054, 0.6345011, 0.6449462, 0.639668, 0.6379366, 0.6365982, 0.6386234, 0.63719314, 0.6410196, 0.6435077, 0.6379739, 0.6386764, 0.63684154, 0.644387, 0.6415776, 0.6390271, 0.63626957, 0.6393961, 0.63760245, 0.6464156, 0.6413519, 0.6419928, 0.6360165, 0.6435208, 0.63459826, 0.6379275, 0.6389746, 0.63374966, 0.6406673, 0.6322982, 0.6360599, 0.6338441, 0.6433956, 0.6330339, 0.6354227, 0.6364577, 0.63383234, 0.63601875, 0.63199115, 0.632437, 0.6320833, 0.6358311, 0.6369648, 0.63634473, 0.6335541, 0.6398282, 0.6331222, 0.6318586, 0.6316936, 0.63726765, 0.6416911, 0.63438356, 0.6401565, 0.6320574, 0.6331082, 0.6328408, 0.6332846, 0.63623625, 0.63235986, 0.63036925, 0.63187766, 0.62986594, 0.6347515, 0.634599, 0.6306225, 0.63378084, 0.6295898, 0.6300068, 0.6325374, 0.633748, 0.6323272, 0.6306349, 0.632377, 0.6307544, 0.63229287, 0.63205767, 0.63116926, 0.6314034, 0.6300586, 0.63404, 0.6309458, 0.63072884, 0.6315817, 0.6306473, 0.62888765, 0.63362694, 0.6329608, 0.6308054, 0.6305393, 0.6319472, 0.6317473, 0.6297802, 0.629002, 0.62894183, 0.63050973, 0.6311361, 0.63061684, 0.6301269, 0.6302898, 0.62902737, 0.6292758, 0.6293219, 0.628739, 0.6292256, 0.63251567, 0.6311759, 0.6307081, 0.63154155, 0.6303632, 0.62866986, 0.628759, 0.63524574, 0.62875986, 0.6329047, 0.62876046, 0.6324216, 0.62958074, 0.6296984, 0.62940013, 0.632037, 0.629707, 0.6290838, 0.6301375, 0.628078, 0.6304989, 0.62984747, 0.6295337, 0.62851775, 0.62855387, 0.6288981, 0.62847614, 0.6287464, 0.6288, 0.62927544, 0.6290096, 0.63004625, 0.6281448, 0.63139486, 0.62859523, 0.6287752, 0.62780035, 0.6283293, 0.6283722, 0.6281209, 0.6283931, 0.62812793, 0.630348, 0.6296771, 0.62930346, 0.627834, 0.6286764, 0.6303853, 0.6278499, 0.62923276, 0.6291388, 0.62922657, 0.62810034, 0.62823397, 0.62906724, 0.6275315, 0.6292386, 0.62838525, 0.62793887, 0.6285193, 0.62755954, 0.62771153, 0.6284833, 0.6279379, 0.6285567, 0.62767076, 0.6286997, 0.6281297, 0.6300307, 0.6279985, 0.62794137, 0.6290915, 0.6282721, 0.6287967, 0.6289314, 0.6281524, 0.6284332, 0.6286215, 0.6302233, 0.6285533, 0.6279622, 0.62743586, 0.62819517, 0.62814736, 0.6275955, 0.62796855, 0.6296593, 0.6291615, 0.6273711, 0.628823, 0.6283555, 0.6291074, 0.6276469, 0.6279805, 0.6275898, 0.6282122, 0.6277662, 0.6279401, 0.627639, 0.6276047, 0.6275693, 0.6274566, 0.6280375, 0.62750244, 0.6277876, 0.62748605, 0.6274878]\n",
            "0.3138234\n",
            "0.6273711\n"
          ]
        }
      ]
    },
    {
      "cell_type": "code",
      "source": [
        "import matplotlib.pyplot as plt\n",
        "import matplotlib.gridspec as gridspec\n",
        "\n",
        "def plot_loss(gen_loss,disc_loss,epochs):\n",
        "  fig = plt.figure(figsize=(16,9))\n",
        "  gs = gridspec.GridSpec(ncols=8, nrows=8, figure=fig)\n",
        "  epoch = epochs[-1]\n",
        "  # plot loss curve\n",
        "  ax_loss = plt.subplot(gs[:,:4])\n",
        "  ax_loss.set_xlim(0, 1.1*epoch)\n",
        "  ax_loss.plot(epochs, gen_loss, label=\"Generator\")\n",
        "  ax_loss.plot(epochs, disc_loss, label=\"Discriminator\")\n",
        "  ax_loss.set_xlabel('Epoch', fontsize=20)\n",
        "  ax_loss.set_ylabel('Loss', fontsize=20)\n",
        "  ax_loss.grid(True)\n",
        "  ax_loss.legend(fontsize=15)\n"
      ],
      "metadata": {
        "id": "hnKvZeZ_s7Dk"
      },
      "execution_count": null,
      "outputs": []
    },
    {
      "cell_type": "code",
      "source": [
        "plot_loss(gen_loss_,disc_loss_,epochs_)"
      ],
      "metadata": {
        "colab": {
          "base_uri": "https://localhost:8080/",
          "height": 560
        },
        "id": "smG0rva_vInv",
        "outputId": "6bf6e0b2-2217-47b5-b6a3-3fa6aa98ed30"
      },
      "execution_count": null,
      "outputs": [
        {
          "output_type": "display_data",
          "data": {
            "text/plain": [
              "<Figure size 1152x648 with 1 Axes>"
            ],
            "image/png": "[encoded data removed]"
          },
          "metadata": {
            "needs_background": "light"
          }
        }
      ]
    },
    {
      "cell_type": "code",
      "source": [
        "input_batch_shape = (5, 20) + (5,)\n",
        "data = prepare_dataset(X_train_1,batch_size=20,seed=1024)\n",
        "# print(tf.shape(data))\n",
        "# data = tf.reshape(data,input_batch_shape)\n",
        "print(input_batch_shape)"
      ],
      "metadata": {
        "id": "vBLQgy4b7Oed",
        "colab": {
          "base_uri": "https://localhost:8080/"
        },
        "outputId": "7380cadd-6bd5-4e6f-d3a0-df1e5d51b11e"
      },
      "execution_count": null,
      "outputs": [
        {
          "output_type": "stream",
          "name": "stdout",
          "text": [
            "(5, 20, 5)\n"
          ]
        }
      ]
    },
    {
      "cell_type": "code",
      "source": [
        "# print(X_train_1.shape[1:])\n",
        "# print()"
      ],
      "metadata": {
        "id": "15Lfa_6Sh4QY"
      },
      "execution_count": null,
      "outputs": []
    },
    {
      "cell_type": "code",
      "source": [
        "# batch_size = 50\n",
        "# z_batch_shape = (batch_size,) + generator_model.input_shape[1:]\n",
        "# z_batch_shape = generator_model.input_shape[1:]\n",
        "# z = tf.random.normal(z_batch_shape)\n",
        "# print(z.numpy())"
      ],
      "metadata": {
        "id": "dg-67O90G_7w"
      },
      "execution_count": null,
      "outputs": []
    },
    {
      "cell_type": "code",
      "source": [
        "def generate_samples( batch_size, shape=None):\n",
        "\n",
        "  \"\"\"Generates sample using random inputs\n",
        "        \n",
        "            Arguments:\n",
        "                batch_size: int\n",
        "                    Number of samples to generate.\n",
        "                shape: (Optional) tuple of int\n",
        "                    Reshape the output to the given shape.\n",
        "        \"\"\"\n",
        "  z_batch_shape = (batch_size,) + generator_model.input_shape[1:]\n",
        "  z = tf.random.normal(z_batch_shape)\n",
        "  print(z.shape[0])\n",
        "  samples = generator_model(z,training = False)\n",
        "  # samples = generator_model\n",
        "  # if shape is not None:\n",
        "  #   shape = (batch_size,) + shape\n",
        "  #   samples = tf.reshape(samples, shape)\n",
        "  return samples\n",
        "\n",
        "# generate_samples(batch_size=10)"
      ],
      "metadata": {
        "id": "T1ZAtKzJIAvK"
      },
      "execution_count": null,
      "outputs": []
    },
    {
      "cell_type": "code",
      "source": [
        "# samples = generate_samples(batch_size=50,shape=(5,)).numpy()\n",
        "samples = np.array(generate_samples(batch_size=50,shape=(5,)))\n",
        "make_plots([X_train_1, samples], ['true signal', 'fake signal'])\n",
        "# print(type(samples))\n",
        "print(samples.shape)"
      ],
      "metadata": {
        "id": "HPLwgrzPW08K",
        "colab": {
          "base_uri": "https://localhost:8080/",
          "height": 671
        },
        "outputId": "500a07ba-ca53-4f4f-a245-183f5002b9bb"
      },
      "execution_count": null,
      "outputs": [
        {
          "output_type": "stream",
          "name": "stdout",
          "text": [
            "50\n"
          ]
        },
        {
          "output_type": "display_data",
          "data": {
            "text/plain": [
              "<Figure size 1440x720 with 5 Axes>"
            ],
            "image/png": "[encoded data removed]"
          },
          "metadata": {
            "needs_background": "light"
          }
        },
        {
          "output_type": "stream",
          "name": "stdout",
          "text": [
            "(50, 5)\n"
          ]
        }
      ]
    },
    {
      "cell_type": "code",
      "source": [
        "def predict_gans(x):\n",
        "  return discriminator_model(x,training=False)\n",
        "\n",
        "# predict_gans(X_train_0[40:,])"
      ],
      "metadata": {
        "id": "W7_hBUA1TPez"
      },
      "execution_count": null,
      "outputs": []
    },
    {
      "cell_type": "code",
      "source": [
        "def plot_roc_curve(fpr_list,tpr_list,name='QGANS',title='ROC Curve', with_auc=True,labels=''):\n",
        "  n = len(fpr_list)\n",
        "  if labels =='':\n",
        "    labels = ['']*n\n",
        "\n",
        "  plt.clf()\n",
        "  plt.rcParams[\"font.weight\"] = \"bold\"\n",
        "  plt.xlabel(\"Signal Efficiency\", fontsize=18,fontweight='bold')\n",
        "  plt.ylabel(\"Background Rejection\", fontsize=18,fontweight='bold')\n",
        "  plt.title(title, fontsize=16,fontweight='bold')\n",
        "  plt.xlim(0.0, 1.0)\n",
        "  plt.ylim(0.0, 1.0)\n",
        "  plt.grid(color='gray', linestyle='--', linewidth=1)  \n",
        "  for fpr,tpr,label in zip(fpr_list, tpr_list, labels):\n",
        "    if with_auc:\n",
        "      roc_auc = auc(fpr, tpr)\n",
        "      label += ', AUC={:.4f}'.format(roc_auc)\n",
        "    plt.plot(tpr,1-fpr, linestyle='-',label=label,linewidth=2)\n",
        "  plt.plot([0, 1], [1, 0], linestyle='--', color='black', label=' AUC= 0.5')\n",
        "  plt.legend(loc='best',prop={'size': 8})    \n",
        "  return plt  \n"
      ],
      "metadata": {
        "id": "9AORdxYn6xzp"
      },
      "execution_count": null,
      "outputs": []
    },
    {
      "cell_type": "code",
      "source": [
        "from sklearn.metrics import roc_curve, auc, roc_auc_score\n",
        "def test_gans( x, y, plot=True):\n",
        "  score = predict_gans(x)\n",
        "  fpr, tpr, thresholds = roc_curve(y, score)\n",
        "  roc_auc = auc(fpr, tpr)\n",
        "  print(\"AUC = \",roc_auc)\n",
        "  if plot:\n",
        "    return plot_roc_curve(fpr_list=[fpr],tpr_list=[tpr], name='QGAN_with_DataReuploading')\n",
        "  else:\n",
        "    return roc_auc"
      ],
      "metadata": {
        "id": "EQHiG77G4Xxe"
      },
      "execution_count": null,
      "outputs": []
    },
    {
      "cell_type": "code",
      "source": [
        "test_gans(X_test,y_test)"
      ],
      "metadata": {
        "colab": {
          "base_uri": "https://localhost:8080/",
          "height": 341
        },
        "id": "gYKz5ePL5EfH",
        "outputId": "2a3363c7-976d-478d-b910-627a1e86a259"
      },
      "execution_count": null,
      "outputs": [
        {
          "output_type": "stream",
          "name": "stdout",
          "text": [
            "AUC =  0.5984\n"
          ]
        },
        {
          "output_type": "execute_result",
          "data": {
            "text/plain": [
              "<module 'matplotlib.pyplot' from '/usr/local/lib/python3.7/dist-packages/matplotlib/pyplot.py'>"
            ]
          },
          "metadata": {},
          "execution_count": 53
        },
        {
          "output_type": "display_data",
          "data": {
            "text/plain": [
              "<Figure size 432x288 with 1 Axes>"
            ],
            "image/png": "[encoded data removed]"
          },
          "metadata": {
            "needs_background": "light"
          }
        }
      ]
    },
    {
      "cell_type": "code",
      "source": [
        "# H = discriminator_model.trainable_variables\n",
        "# H_ = discriminator_model.weights\n",
        "\n",
        "# print(H)\n",
        "# print(H_)"
      ],
      "metadata": {
        "id": "fUkQEIoylnuH"
      },
      "execution_count": null,
      "outputs": []
    },
    {
      "cell_type": "code",
      "source": [
        ""
      ],
      "metadata": {
        "id": "48fKdOwN1I1O"
      },
      "execution_count": null,
      "outputs": []
    }
  ]
}