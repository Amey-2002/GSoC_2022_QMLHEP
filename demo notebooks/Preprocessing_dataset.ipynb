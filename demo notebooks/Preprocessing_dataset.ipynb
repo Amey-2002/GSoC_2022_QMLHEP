{
  "nbformat": 4,
  "nbformat_minor": 0,
  "metadata": {
    "colab": {
      "provenance": [],
      "collapsed_sections": []
    },
    "kernelspec": {
      "name": "python3",
      "display_name": "Python 3"
    },
    "language_info": {
      "name": "python"
    }
  },
  "cells": [
    {
      "cell_type": "code",
      "source": [
        "from google.colab import drive\n",
        "\n",
        "drive.mount('/content/gdrive/', force_remount=True)"
      ],
      "metadata": {
        "colab": {
          "base_uri": "https://localhost:8080/",
          "height": 0
        },
        "id": "FofYl25hXgfE",
        "outputId": "15b90345-2273-445b-932b-b93c06287398"
      },
      "execution_count": 1,
      "outputs": [
        {
          "output_type": "stream",
          "name": "stdout",
          "text": [
            "Mounted at /content/gdrive/\n"
          ]
        }
      ]
    },
    {
      "cell_type": "code",
      "source": [
        "!git clone https://github.com/Amey-2002/GSoC_2022_QMLHEP"
      ],
      "metadata": {
        "colab": {
          "base_uri": "https://localhost:8080/",
          "height": 0
        },
        "id": "2BVmpbWLV5xE",
        "outputId": "63f48aec-5ed1-4d42-b17e-15ff1da81fbe"
      },
      "execution_count": 2,
      "outputs": [
        {
          "output_type": "stream",
          "name": "stdout",
          "text": [
            "Cloning into 'GSoC_2022_QMLHEP'...\n",
            "remote: Enumerating objects: 111, done.\u001b[K\n",
            "remote: Counting objects: 100% (111/111), done.\u001b[K\n",
            "remote: Compressing objects: 100% (85/85), done.\u001b[K\n",
            "remote: Total 111 (delta 61), reused 58 (delta 24), pack-reused 0\u001b[K\n",
            "Receiving objects: 100% (111/111), 789.84 KiB | 9.75 MiB/s, done.\n",
            "Resolving deltas: 100% (61/61), done.\n"
          ]
        }
      ]
    },
    {
      "cell_type": "code",
      "source": [
        "%cd GSoC_2022_QMLHEP"
      ],
      "metadata": {
        "colab": {
          "base_uri": "https://localhost:8080/",
          "height": 0
        },
        "id": "D4u21amtWbPC",
        "outputId": "578ed98d-0c3c-48d6-ccee-4994d499cdf5"
      },
      "execution_count": 7,
      "outputs": [
        {
          "output_type": "stream",
          "name": "stdout",
          "text": [
            "/content/GSoC_2022_QMLHEP\n"
          ]
        }
      ]
    },
    {
      "cell_type": "code",
      "execution_count": 8,
      "metadata": {
        "id": "j40Xt-tqDuCY"
      },
      "outputs": [],
      "source": [
        "import numpy as np \n",
        "import sympy as sp\n",
        "from h5py import File as HDF5File\n",
        "%matplotlib inline\n",
        "import matplotlib.pyplot as plt\n",
        "from Entangled_QGANS import preprocess_utils, visualizations"
      ]
    },
    {
      "cell_type": "code",
      "source": [
        "# from google.colab import drive\n",
        "# drive.mount('/content/drive')"
      ],
      "metadata": {
        "id": "BS61E6P3cMog"
      },
      "execution_count": null,
      "outputs": []
    },
    {
      "cell_type": "code",
      "source": [
        "jet_mass_datafile = '/content/gdrive/MyDrive//jet-images_Mass60-100_pT250-300_R1.25_Pix25.hdf5'\n",
        "jet_mass_data = HDF5File(jet_mass_datafile, 'r')"
      ],
      "metadata": {
        "id": "YvduhgIFErwM"
      },
      "execution_count": 9,
      "outputs": []
    },
    {
      "cell_type": "code",
      "source": [
        "print(jet_mass_data.keys())"
      ],
      "metadata": {
        "colab": {
          "base_uri": "https://localhost:8080/",
          "height": 0
        },
        "id": "UBEtd_r6E280",
        "outputId": "5b023981-261b-4556-f997-8f9b38b66ed1"
      },
      "execution_count": 10,
      "outputs": [
        {
          "output_type": "stream",
          "name": "stdout",
          "text": [
            "<KeysViewHDF5 ['image', 'jet_delta_R', 'jet_eta', 'jet_mass', 'jet_phi', 'jet_pt', 'signal', 'tau_1', 'tau_2', 'tau_21', 'tau_3', 'tau_32']>\n"
          ]
        }
      ]
    },
    {
      "cell_type": "code",
      "source": [
        "X_jet = jet_mass_data['image']\n",
        "print(X_jet.shape)\n",
        "plt.imshow(X_jet[5,:,:])"
      ],
      "metadata": {
        "colab": {
          "base_uri": "https://localhost:8080/",
          "height": 301
        },
        "id": "4T-HyTfiE6QJ",
        "outputId": "c1cdc377-193e-469c-b481-e29debdffde2"
      },
      "execution_count": 17,
      "outputs": [
        {
          "output_type": "stream",
          "name": "stdout",
          "text": [
            "(872666, 25, 25)\n"
          ]
        },
        {
          "output_type": "execute_result",
          "data": {
            "text/plain": [
              "<matplotlib.image.AxesImage at 0x7fd9077b2d10>"
            ]
          },
          "metadata": {},
          "execution_count": 17
        },
        {
          "output_type": "display_data",
          "data": {
            "text/plain": [
              "<Figure size 432x288 with 1 Axes>"
            ],
            "image/png": "[encoded data removed]"
          },
          "metadata": {
            "needs_background": "light"
          }
        }
      ]
    },
    {
      "cell_type": "code",
      "source": [
        "visualizations.plot_log_scale_image(X_jet[5,:,:])"
      ],
      "metadata": {
        "colab": {
          "base_uri": "https://localhost:8080/",
          "height": 392
        },
        "id": "HdEONpdWX4AM",
        "outputId": "6b88261c-97d5-46cd-8482-a09677cd932f"
      },
      "execution_count": 18,
      "outputs": [
        {
          "output_type": "display_data",
          "data": {
            "text/plain": [
              "<Figure size 504x432 with 2 Axes>"
            ],
            "image/png": "[encoded data removed]"
          },
          "metadata": {
            "needs_background": "light"
          }
        }
      ]
    },
    {
      "cell_type": "code",
      "source": [
        "X_jet = preprocess_utils.crop_images(X_jet[:100,:,:],(8,8))"
      ],
      "metadata": {
        "id": "7URSkIDEdWIf"
      },
      "execution_count": 19,
      "outputs": []
    },
    {
      "cell_type": "code",
      "source": [
        "plt.imshow(X_jet[5,:,:])"
      ],
      "metadata": {
        "colab": {
          "base_uri": "https://localhost:8080/",
          "height": 283
        },
        "id": "Z0xZoxmkKAoX",
        "outputId": "26097ada-51f7-46e3-c9d1-5900698d7057"
      },
      "execution_count": 20,
      "outputs": [
        {
          "output_type": "execute_result",
          "data": {
            "text/plain": [
              "<matplotlib.image.AxesImage at 0x7fd90786b090>"
            ]
          },
          "metadata": {},
          "execution_count": 20
        },
        {
          "output_type": "display_data",
          "data": {
            "text/plain": [
              "<Figure size 432x288 with 1 Axes>"
            ],
            "image/png": "[encoded data removed]"
          },
          "metadata": {
            "needs_background": "light"
          }
        }
      ]
    },
    {
      "cell_type": "code",
      "source": [
        "visualizations.plot_log_scale_image(X_jet[5,:,:]) #rectify by reuploading visualizations.py on drive"
      ],
      "metadata": {
        "id": "Xg_iHMgHLFoy",
        "colab": {
          "base_uri": "https://localhost:8080/",
          "height": 392
        },
        "outputId": "eef21731-09d1-4132-e338-354fd00fd2b3"
      },
      "execution_count": 21,
      "outputs": [
        {
          "output_type": "display_data",
          "data": {
            "text/plain": [
              "<Figure size 504x432 with 2 Axes>"
            ],
            "image/png": "[encoded data removed]"
          },
          "metadata": {
            "needs_background": "light"
          }
        }
      ]
    },
    {
      "cell_type": "code",
      "source": [],
      "metadata": {
        "id": "ZdWyZVJrfdhg"
      },
      "execution_count": null,
      "outputs": []
    }
  ]
}