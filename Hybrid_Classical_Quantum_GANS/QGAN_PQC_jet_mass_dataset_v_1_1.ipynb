{
  "cells": [
    {
      "cell_type": "code",
      "execution_count": null,
      "metadata": {
        "id": "2dYi-RmFsgAp"
      },
      "outputs": [],
      "source": [
        "!pip install tensorflow==2.7.0\n",
        "from IPython.display import clear_output\n",
        "clear_output()"
      ]
    },
    {
      "cell_type": "code",
      "execution_count": null,
      "metadata": {
        "id": "mAbtbpcUsvVB"
      },
      "outputs": [],
      "source": [
        "!pip install tensorflow-quantum==0.6.0 --use-deprecated=legacy-resolver\n",
        "from IPython.display import clear_output  \n",
        "clear_output()"
      ]
    },
    {
      "cell_type": "code",
      "execution_count": null,
      "metadata": {
        "id": "62UGKVVjtDWZ"
      },
      "outputs": [],
      "source": [
        "import numpy as np \n",
        "import sympy as sp\n",
        "import pandas as pd\n",
        "import tensorflow as tf\n",
        "import tensorflow_quantum as tfq\n",
        "import cirq\n",
        "from cirq.contrib.svg import SVGCircuit\n",
        "from h5py import File as HDF5File\n",
        "from PIL import Image\n",
        "import matplotlib.cm as cm\n",
        "from matplotlib.colors import LogNorm, Normalize\n",
        "%matplotlib inline\n",
        "import matplotlib.pyplot as plt"
      ]
    },
    {
      "cell_type": "code",
      "execution_count": null,
      "metadata": {
        "colab": {
          "base_uri": "https://localhost:8080/"
        },
        "id": "8VVhG-MYtFZW",
        "outputId": "e7f0eef5-3e1a-43b9-f60c-d01a9cd216ac"
      },
      "outputs": [
        {
          "output_type": "stream",
          "name": "stdout",
          "text": [
            "Mounted at /content/gdrive/\n"
          ]
        }
      ],
      "source": [
        "from google.colab import drive\n",
        "\n",
        "drive.mount('/content/gdrive/', force_remount=True)"
      ]
    },
    {
      "cell_type": "code",
      "execution_count": null,
      "metadata": {
        "id": "l-58i86ftwRl"
      },
      "outputs": [],
      "source": [
        "jet_mass_datafile = '/content/gdrive/MyDrive//jet-images_Mass60-100_pT250-300_R1.25_Pix25.hdf5'\n",
        "jet_mass_data = HDF5File(jet_mass_datafile, 'r')"
      ]
    },
    {
      "cell_type": "code",
      "execution_count": null,
      "metadata": {
        "colab": {
          "base_uri": "https://localhost:8080/"
        },
        "id": "7aIIZmxTt17C",
        "outputId": "72f50a31-65aa-4f8c-ba7d-e93e2c2a1917"
      },
      "outputs": [
        {
          "output_type": "stream",
          "name": "stdout",
          "text": [
            "<KeysViewHDF5 ['image', 'jet_delta_R', 'jet_eta', 'jet_mass', 'jet_phi', 'jet_pt', 'signal', 'tau_1', 'tau_2', 'tau_21', 'tau_3', 'tau_32']>\n"
          ]
        }
      ],
      "source": [
        "print(jet_mass_data.keys())"
      ]
    },
    {
      "cell_type": "code",
      "execution_count": null,
      "metadata": {
        "colab": {
          "base_uri": "https://localhost:8080/",
          "height": 301
        },
        "id": "MbmyK6b8t5jP",
        "outputId": "730359d6-8bd4-466d-865d-fb289df5b6c8"
      },
      "outputs": [
        {
          "output_type": "stream",
          "name": "stdout",
          "text": [
            "(872666, 25, 25)\n"
          ]
        },
        {
          "output_type": "execute_result",
          "data": {
            "text/plain": [
              "<matplotlib.image.AxesImage at 0x7ff0b148ead0>"
            ]
          },
          "metadata": {},
          "execution_count": 6
        },
        {
          "output_type": "display_data",
          "data": {
            "text/plain": [
              "<Figure size 432x288 with 1 Axes>"
            ],
            "image/png": "[encoded data removed]"
          },
          "metadata": {
            "needs_background": "light"
          }
        }
      ],
      "source": [
        "X_jet = jet_mass_data['image']\n",
        "print(X_jet.shape)\n",
        "plt.imshow(X_jet[5,:,:])"
      ]
    },
    {
      "cell_type": "code",
      "execution_count": null,
      "metadata": {
        "colab": {
          "base_uri": "https://localhost:8080/"
        },
        "id": "VYq0GS8Et5X7",
        "outputId": "9cf60e6d-311e-44b0-d8d9-b1b6d086a30b"
      },
      "outputs": [
        {
          "output_type": "stream",
          "name": "stdout",
          "text": [
            "Maximum pixel value for Jet mass images: 312\n",
            "(1500, 8, 8)\n"
          ]
        }
      ],
      "source": [
        "max_val_pix = np.argmax(np.mean(X_jet[:, :, :], axis=0))\n",
        "print(\"Maximum pixel value for Jet mass images:\",max_val_pix)\n",
        "center = [int(max_val_pix/25), max_val_pix%25]\n",
        "\n",
        "img_size = 8\n",
        "X_jet = X_jet[:1500, (center[0]-int(img_size/2)):(center[0]+int(img_size/2)), (center[1]-int(img_size/2)):(center[1]+int(img_size/2))]\n",
        "\n",
        "print(X_jet.shape)"
      ]
    },
    {
      "cell_type": "code",
      "execution_count": null,
      "metadata": {
        "id": "q8uFnSgyuBYo"
      },
      "outputs": [],
      "source": [
        "def plot_jet_image(content,\n",
        "#                     output_name,\n",
        "                    vmin=1e-6,\n",
        "                    vmax=300,\n",
        "                    title=''):\n",
        "    '''\n",
        "    Function to help you visualize a jet image on a log scale\n",
        "    Args:\n",
        "    -----\n",
        "       content : numpy array of dimensions 25x25, first arg to imshow, content of the image\n",
        "                 e.g.: generated_images.mean(axis=0) --> the average generated image\n",
        "                       real_images.mean(axis=0) --> the average Pythia image\n",
        "                       generated_images[aux_out == 1].mean(axis=0) --> the average generated image labeled as real by the discriminator \n",
        "                       etc...\n",
        "       output_name : string, name of the output file where the plot will be saved. Note: it will be located in ../plots/\n",
        "       vmin : (default = 1e-6) float, lower bound of the pixel intensity scale before saturation\n",
        "       vmax : (default = 300) float, upper bound of the pixel intensity scale before saturation\n",
        "       title : (default = '') string, title of the plot, to be displayed on top of the image\n",
        "    Outputs:\n",
        "    --------\n",
        "       no function returns\n",
        "       saves file in ../plots/output_name\n",
        "    '''\n",
        "    fig, ax = plt.subplots(figsize=(7, 6))\n",
        "    extent=[-1.25, 1.25, -1.25, 1.25]\n",
        "    im = ax.imshow(content, interpolation='nearest', norm=LogNorm(vmin=vmin, vmax=vmax), extent=extent)\n",
        "    cbar = plt.colorbar(im, fraction=0.05, pad=0.05)\n",
        "    cbar.set_label(r'Pixel $p_T$ (GeV)', y=0.85)\n",
        "    plt.xlabel(r'[Transformed] Pseudorapidity $(\\eta)$')\n",
        "    plt.ylabel(r'[Transformed] Azimuthal Angle $(\\phi)$')\n",
        "    plt.title(title)"
      ]
    },
    {
      "cell_type": "code",
      "execution_count": null,
      "metadata": {
        "colab": {
          "base_uri": "https://localhost:8080/",
          "height": 283
        },
        "id": "k_OIGqmfuIBi",
        "outputId": "8334e31b-b869-4808-99d3-cc324f7cca18"
      },
      "outputs": [
        {
          "data": {
            "text/plain": [
              "<matplotlib.image.AxesImage at 0x7fcb7c249590>"
            ]
          },
          "execution_count": 9,
          "metadata": {},
          "output_type": "execute_result"
        },
        {
          "data": {
            "image/png": "[encoded data removed]",
            "text/plain": [
              "<Figure size 432x288 with 1 Axes>"
            ]
          },
          "metadata": {},
          "output_type": "display_data"
        }
      ],
      "source": [
        "plt.imshow(X_jet[5,:,:])"
      ]
    },
    {
      "cell_type": "code",
      "execution_count": null,
      "metadata": {
        "id": "xo_82vRguN9x"
      },
      "outputs": [],
      "source": [
        "def one_qubit_unitary(qubit, symbols):\n",
        "  return cirq.Circuit(\n",
        "    [#cirq.rx(symbols[0])(qubit),\n",
        "      cirq.rz(symbols[0])(qubit),\n",
        "      cirq.ry(symbols[1])(qubit),\n",
        "      cirq.rz(symbols[2])(qubit)]\n",
        "  )"
      ]
    },
    {
      "cell_type": "code",
      "execution_count": null,
      "metadata": {
        "id": "h_cd9-s6uSUS"
      },
      "outputs": [],
      "source": [
        "def two_qubit_unitary(qubits):\n",
        "  # cx_ops = [cirq.CX(q0, q1) for q0, q1 in zip(qubits, qubits[1:])]\n",
        "  # cx_ops += ([cirq.CX(qubits[-1], qubits[0])] if len(qubits) != 2 else [])\n",
        "  cx_ops=[]\n",
        "  for i in range(0,len(qubits),2):\n",
        "    if(i+1 <= len(qubits)-1):\n",
        "      cx_ops += [cirq.CX(qubits[i],qubits[i+1])]\n",
        "  for i in range(1,len(qubits),2):\n",
        "    if(i+1 <= len(qubits)-1):\n",
        "      cx_ops += [cirq.CX(qubits[i],qubits[i+1])]\n",
        "  return cx_ops"
      ]
    },
    {
      "cell_type": "code",
      "execution_count": null,
      "metadata": {
        "id": "keOI1sMMuUy3"
      },
      "outputs": [],
      "source": [
        "def pqc_circuit_for_conv(qubits,layers):\n",
        "  circuit = cirq.Circuit()\n",
        "  num_qubits = len(qubits)\n",
        "  input_symbols = sp.symbols('x_:'+str(num_qubits))\n",
        "  param_symbols = sp.symbols('theta_:'+str(3*num_qubits*layers))\n",
        "  param_symbols = np.reshape(param_symbols,(layers,num_qubits,3))\n",
        "  for i in range(num_qubits):\n",
        "    circuit += cirq.ry(input_symbols[i])(qubits[i])\n",
        "  \n",
        "  for layer in range(layers):\n",
        "    for i,q in enumerate(qubits):\n",
        "      circuit += one_qubit_unitary(q,param_symbols[layer,i,:])\n",
        "    circuit += two_qubit_unitary(qubits)\n",
        "  \n",
        "  return circuit,input_symbols,list(param_symbols.flat)"
      ]
    },
    {
      "cell_type": "code",
      "execution_count": null,
      "metadata": {
        "colab": {
          "base_uri": "https://localhost:8080/",
          "height": 259
        },
        "id": "BMD63zltudaL",
        "outputId": "ac646f48-7b49-4b36-a2b4-ef55ad0dcf49"
      },
      "outputs": [
        {
          "output_type": "stream",
          "name": "stderr",
          "text": [
            "WARNING:matplotlib.font_manager:findfont: Font family ['Arial'] not found. Falling back to DejaVu Sans.\n"
          ]
        },
        {
          "output_type": "execute_result",
          "data": {
            "text/plain": [
              "<cirq.contrib.svg.svg.SVGCircuit at 0x7ff0aabffd50>"
            ],
            "image/svg+xml": "<svg xmlns=\"http://www.w3.org/2000/svg\" width=\"3156.3230859375008\" height=\"200.0\"><line x1=\"34.7588671875\" x2=\"3126.3230859375008\" y1=\"25.0\" y2=\"25.0\" stroke=\"#1967d2\" stroke-width=\"1\" /><line x1=\"34.7588671875\" x2=\"3126.3230859375008\" y1=\"75.0\" y2=\"75.0\" stroke=\"#1967d2\" stroke-width=\"1\" /><line x1=\"34.7588671875\" x2=\"3126.3230859375008\" y1=\"125.0\" y2=\"125.0\" stroke=\"#1967d2\" stroke-width=\"1\" /><line x1=\"34.7588671875\" x2=\"3126.3230859375008\" y1=\"175.0\" y2=\"175.0\" stroke=\"#1967d2\" stroke-width=\"1\" /><line x1=\"854.06779296875\" x2=\"854.06779296875\" y1=\"25.0\" y2=\"75.0\" stroke=\"black\" stroke-width=\"3\" /><line x1=\"1498.2754296875003\" x2=\"1498.2754296875003\" y1=\"125.0\" y2=\"175.0\" stroke=\"black\" stroke-width=\"3\" /><line x1=\"1558.2754296875003\" x2=\"1558.2754296875003\" y1=\"75.0\" y2=\"125.0\" stroke=\"black\" stroke-width=\"3\" /><line x1=\"2350.94015625\" x2=\"2350.94015625\" y1=\"25.0\" y2=\"75.0\" stroke=\"black\" stroke-width=\"3\" /><line x1=\"3026.3230859375008\" x2=\"3026.3230859375008\" y1=\"125.0\" y2=\"175.0\" stroke=\"black\" stroke-width=\"3\" /><line x1=\"3086.3230859375008\" x2=\"3086.3230859375008\" y1=\"75.0\" y2=\"125.0\" stroke=\"black\" stroke-width=\"3\" /><rect x=\"10.0\" y=\"5.0\" width=\"49.517734375\" height=\"40\" stroke=\"black\" fill=\"white\" stroke-width=\"0\" /><text x=\"34.7588671875\" y=\"25.0\" dominant-baseline=\"middle\" text-anchor=\"middle\" font-size=\"14px\" font-family=\"Arial\">(0, 0): </text><rect x=\"10.0\" y=\"55.0\" width=\"49.517734375\" height=\"40\" stroke=\"black\" fill=\"white\" stroke-width=\"0\" /><text x=\"34.7588671875\" y=\"75.0\" dominant-baseline=\"middle\" text-anchor=\"middle\" font-size=\"14px\" font-family=\"Arial\">(0, 1): </text><rect x=\"10.0\" y=\"105.0\" width=\"49.517734375\" height=\"40\" stroke=\"black\" fill=\"white\" stroke-width=\"0\" /><text x=\"34.7588671875\" y=\"125.0\" dominant-baseline=\"middle\" text-anchor=\"middle\" font-size=\"14px\" font-family=\"Arial\">(0, 2): </text><rect x=\"10.0\" y=\"155.0\" width=\"49.517734375\" height=\"40\" stroke=\"black\" fill=\"white\" stroke-width=\"0\" /><text x=\"34.7588671875\" y=\"175.0\" dominant-baseline=\"middle\" text-anchor=\"middle\" font-size=\"14px\" font-family=\"Arial\">(0, 3): </text><rect x=\"79.517734375\" y=\"5.0\" width=\"59.7823046875\" height=\"40\" stroke=\"black\" fill=\"white\" stroke-width=\"1\" /><text x=\"109.40888671875001\" y=\"25.0\" dominant-baseline=\"middle\" text-anchor=\"middle\" font-size=\"14px\" font-family=\"Arial\">Ry(x_0)</text><rect x=\"79.517734375\" y=\"55.0\" width=\"59.7823046875\" height=\"40\" stroke=\"black\" fill=\"white\" stroke-width=\"1\" /><text x=\"109.40888671875001\" y=\"75.0\" dominant-baseline=\"middle\" text-anchor=\"middle\" font-size=\"14px\" font-family=\"Arial\">Ry(x_1)</text><rect x=\"79.517734375\" y=\"105.0\" width=\"59.7823046875\" height=\"40\" stroke=\"black\" fill=\"white\" stroke-width=\"1\" /><text x=\"109.40888671875001\" y=\"125.0\" dominant-baseline=\"middle\" text-anchor=\"middle\" font-size=\"14px\" font-family=\"Arial\">Ry(x_2)</text><rect x=\"79.517734375\" y=\"155.0\" width=\"59.7823046875\" height=\"40\" stroke=\"black\" fill=\"white\" stroke-width=\"1\" /><text x=\"109.40888671875001\" y=\"175.0\" dominant-baseline=\"middle\" text-anchor=\"middle\" font-size=\"14px\" font-family=\"Arial\">Ry(x_3)</text><rect x=\"159.3000390625\" y=\"5.0\" width=\"88.37457031250001\" height=\"40\" stroke=\"black\" fill=\"white\" stroke-width=\"1\" /><text x=\"203.48732421875\" y=\"25.0\" dominant-baseline=\"middle\" text-anchor=\"middle\" font-size=\"14px\" font-family=\"Arial\">Rz(theta_0)</text><rect x=\"267.674609375\" y=\"5.0\" width=\"88.54109375\" height=\"40\" stroke=\"black\" fill=\"white\" stroke-width=\"1\" /><text x=\"311.94515624999997\" y=\"25.0\" dominant-baseline=\"middle\" text-anchor=\"middle\" font-size=\"14px\" font-family=\"Arial\">Ry(theta_1)</text><rect x=\"376.215703125\" y=\"5.0\" width=\"88.37457031250001\" height=\"40\" stroke=\"black\" fill=\"white\" stroke-width=\"1\" /><text x=\"420.40298828125003\" y=\"25.0\" dominant-baseline=\"middle\" text-anchor=\"middle\" font-size=\"14px\" font-family=\"Arial\">Rz(theta_2)</text><rect x=\"484.59027343749995\" y=\"55.0\" width=\"88.37457031250001\" height=\"40\" stroke=\"black\" fill=\"white\" stroke-width=\"1\" /><text x=\"528.77755859375\" y=\"75.0\" dominant-baseline=\"middle\" text-anchor=\"middle\" font-size=\"14px\" font-family=\"Arial\">Rz(theta_3)</text><rect x=\"592.96484375\" y=\"55.0\" width=\"88.54109375\" height=\"40\" stroke=\"black\" fill=\"white\" stroke-width=\"1\" /><text x=\"637.235390625\" y=\"75.0\" dominant-baseline=\"middle\" text-anchor=\"middle\" font-size=\"14px\" font-family=\"Arial\">Ry(theta_4)</text><rect x=\"701.5059375\" y=\"55.0\" width=\"88.37457031250001\" height=\"40\" stroke=\"black\" fill=\"white\" stroke-width=\"1\" /><text x=\"745.69322265625\" y=\"75.0\" dominant-baseline=\"middle\" text-anchor=\"middle\" font-size=\"14px\" font-family=\"Arial\">Rz(theta_5)</text><rect x=\"809.8805078125\" y=\"105.0\" width=\"88.37457031250001\" height=\"40\" stroke=\"black\" fill=\"white\" stroke-width=\"1\" /><text x=\"854.06779296875\" y=\"125.0\" dominant-baseline=\"middle\" text-anchor=\"middle\" font-size=\"14px\" font-family=\"Arial\">Rz(theta_6)</text><circle cx=\"854.06779296875\" cy=\"25.0\" r=\"10.0\" /><rect x=\"809.8805078125\" y=\"55.0\" width=\"88.37457031250001\" height=\"40\" stroke=\"black\" fill=\"white\" stroke-width=\"1\" /><text x=\"854.06779296875\" y=\"75.0\" dominant-baseline=\"middle\" text-anchor=\"middle\" font-size=\"18px\" font-family=\"Arial\">X</text><rect x=\"918.2550781250001\" y=\"105.0\" width=\"88.54109375\" height=\"40\" stroke=\"black\" fill=\"white\" stroke-width=\"1\" /><text x=\"962.5256250000001\" y=\"125.0\" dominant-baseline=\"middle\" text-anchor=\"middle\" font-size=\"14px\" font-family=\"Arial\">Ry(theta_7)</text><rect x=\"1026.796171875\" y=\"105.0\" width=\"88.37457031250001\" height=\"40\" stroke=\"black\" fill=\"white\" stroke-width=\"1\" /><text x=\"1070.98345703125\" y=\"125.0\" dominant-baseline=\"middle\" text-anchor=\"middle\" font-size=\"14px\" font-family=\"Arial\">Rz(theta_8)</text><rect x=\"1135.1707421875\" y=\"155.0\" width=\"88.37457031250001\" height=\"40\" stroke=\"black\" fill=\"white\" stroke-width=\"1\" /><text x=\"1179.35802734375\" y=\"175.0\" dominant-baseline=\"middle\" text-anchor=\"middle\" font-size=\"14px\" font-family=\"Arial\">Rz(theta_9)</text><rect x=\"1243.5453125000001\" y=\"155.0\" width=\"97.4483203125\" height=\"40\" stroke=\"black\" fill=\"white\" stroke-width=\"1\" /><text x=\"1292.2694726562502\" y=\"175.0\" dominant-baseline=\"middle\" text-anchor=\"middle\" font-size=\"14px\" font-family=\"Arial\">Ry(theta_10)</text><rect x=\"1360.9936328125002\" y=\"155.0\" width=\"97.28179687500001\" height=\"40\" stroke=\"black\" fill=\"white\" stroke-width=\"1\" /><text x=\"1409.6345312500002\" y=\"175.0\" dominant-baseline=\"middle\" text-anchor=\"middle\" font-size=\"14px\" font-family=\"Arial\">Rz(theta_11)</text><circle cx=\"1498.2754296875003\" cy=\"125.0\" r=\"10.0\" /><rect x=\"1478.2754296875003\" y=\"155.0\" width=\"40\" height=\"40\" stroke=\"black\" fill=\"white\" stroke-width=\"1\" /><text x=\"1498.2754296875003\" y=\"175.0\" dominant-baseline=\"middle\" text-anchor=\"middle\" font-size=\"18px\" font-family=\"Arial\">X</text><circle cx=\"1558.2754296875003\" cy=\"75.0\" r=\"10.0\" /><rect x=\"1538.2754296875003\" y=\"105.0\" width=\"40\" height=\"40\" stroke=\"black\" fill=\"white\" stroke-width=\"1\" /><text x=\"1558.2754296875003\" y=\"125.0\" dominant-baseline=\"middle\" text-anchor=\"middle\" font-size=\"18px\" font-family=\"Arial\">X</text><rect x=\"1598.2754296875003\" y=\"5.0\" width=\"97.28179687500001\" height=\"40\" stroke=\"black\" fill=\"white\" stroke-width=\"1\" /><text x=\"1646.9163281250003\" y=\"25.0\" dominant-baseline=\"middle\" text-anchor=\"middle\" font-size=\"14px\" font-family=\"Arial\">Rz(theta_12)</text><rect x=\"1715.5572265625003\" y=\"5.0\" width=\"97.4483203125\" height=\"40\" stroke=\"black\" fill=\"white\" stroke-width=\"1\" /><text x=\"1764.2813867187504\" y=\"25.0\" dominant-baseline=\"middle\" text-anchor=\"middle\" font-size=\"14px\" font-family=\"Arial\">Ry(theta_13)</text><rect x=\"1833.0055468750004\" y=\"5.0\" width=\"97.28179687500001\" height=\"40\" stroke=\"black\" fill=\"white\" stroke-width=\"1\" /><text x=\"1881.6464453125004\" y=\"25.0\" dominant-baseline=\"middle\" text-anchor=\"middle\" font-size=\"14px\" font-family=\"Arial\">Rz(theta_14)</text><rect x=\"1950.2873437500004\" y=\"55.0\" width=\"97.28179687500001\" height=\"40\" stroke=\"black\" fill=\"white\" stroke-width=\"1\" /><text x=\"1998.9282421875005\" y=\"75.0\" dominant-baseline=\"middle\" text-anchor=\"middle\" font-size=\"14px\" font-family=\"Arial\">Rz(theta_15)</text><rect x=\"2067.5691406250003\" y=\"55.0\" width=\"97.4483203125\" height=\"40\" stroke=\"black\" fill=\"white\" stroke-width=\"1\" /><text x=\"2116.2933007812503\" y=\"75.0\" dominant-baseline=\"middle\" text-anchor=\"middle\" font-size=\"14px\" font-family=\"Arial\">Ry(theta_16)</text><rect x=\"2185.0174609375003\" y=\"55.0\" width=\"97.28179687500001\" height=\"40\" stroke=\"black\" fill=\"white\" stroke-width=\"1\" /><text x=\"2233.658359375\" y=\"75.0\" dominant-baseline=\"middle\" text-anchor=\"middle\" font-size=\"14px\" font-family=\"Arial\">Rz(theta_17)</text><rect x=\"2302.2992578125004\" y=\"105.0\" width=\"97.28179687500001\" height=\"40\" stroke=\"black\" fill=\"white\" stroke-width=\"1\" /><text x=\"2350.94015625\" y=\"125.0\" dominant-baseline=\"middle\" text-anchor=\"middle\" font-size=\"14px\" font-family=\"Arial\">Rz(theta_18)</text><circle cx=\"2350.94015625\" cy=\"25.0\" r=\"10.0\" /><rect x=\"2302.2992578125004\" y=\"55.0\" width=\"97.28179687500001\" height=\"40\" stroke=\"black\" fill=\"white\" stroke-width=\"1\" /><text x=\"2350.94015625\" y=\"75.0\" dominant-baseline=\"middle\" text-anchor=\"middle\" font-size=\"18px\" font-family=\"Arial\">X</text><rect x=\"2419.5810546875005\" y=\"105.0\" width=\"97.4483203125\" height=\"40\" stroke=\"black\" fill=\"white\" stroke-width=\"1\" /><text x=\"2468.3052148437505\" y=\"125.0\" dominant-baseline=\"middle\" text-anchor=\"middle\" font-size=\"14px\" font-family=\"Arial\">Ry(theta_19)</text><rect x=\"2537.0293750000005\" y=\"105.0\" width=\"97.28179687500001\" height=\"40\" stroke=\"black\" fill=\"white\" stroke-width=\"1\" /><text x=\"2585.6702734375003\" y=\"125.0\" dominant-baseline=\"middle\" text-anchor=\"middle\" font-size=\"14px\" font-family=\"Arial\">Rz(theta_20)</text><rect x=\"2654.3111718750006\" y=\"155.0\" width=\"97.28179687500001\" height=\"40\" stroke=\"black\" fill=\"white\" stroke-width=\"1\" /><text x=\"2702.9520703125004\" y=\"175.0\" dominant-baseline=\"middle\" text-anchor=\"middle\" font-size=\"14px\" font-family=\"Arial\">Rz(theta_21)</text><rect x=\"2771.5929687500006\" y=\"155.0\" width=\"97.4483203125\" height=\"40\" stroke=\"black\" fill=\"white\" stroke-width=\"1\" /><text x=\"2820.3171289062507\" y=\"175.0\" dominant-baseline=\"middle\" text-anchor=\"middle\" font-size=\"14px\" font-family=\"Arial\">Ry(theta_22)</text><rect x=\"2889.0412890625007\" y=\"155.0\" width=\"97.28179687500001\" height=\"40\" stroke=\"black\" fill=\"white\" stroke-width=\"1\" /><text x=\"2937.6821875000005\" y=\"175.0\" dominant-baseline=\"middle\" text-anchor=\"middle\" font-size=\"14px\" font-family=\"Arial\">Rz(theta_23)</text><circle cx=\"3026.3230859375008\" cy=\"125.0\" r=\"10.0\" /><rect x=\"3006.3230859375008\" y=\"155.0\" width=\"40\" height=\"40\" stroke=\"black\" fill=\"white\" stroke-width=\"1\" /><text x=\"3026.3230859375008\" y=\"175.0\" dominant-baseline=\"middle\" text-anchor=\"middle\" font-size=\"18px\" font-family=\"Arial\">X</text><circle cx=\"3086.3230859375008\" cy=\"75.0\" r=\"10.0\" /><rect x=\"3066.3230859375008\" y=\"105.0\" width=\"40\" height=\"40\" stroke=\"black\" fill=\"white\" stroke-width=\"1\" /><text x=\"3086.3230859375008\" y=\"125.0\" dominant-baseline=\"middle\" text-anchor=\"middle\" font-size=\"18px\" font-family=\"Arial\">X</text></svg>"
          },
          "metadata": {},
          "execution_count": 11
        }
      ],
      "source": [
        "demo_circuit,i_symbols,p_symbols = pqc_circuit_for_conv(cirq.GridQubit.rect(1,4),layers=2)\n",
        "SVGCircuit(demo_circuit)"
      ]
    },
    {
      "cell_type": "code",
      "execution_count": null,
      "metadata": {
        "id": "AQa5KS94v3yo"
      },
      "outputs": [],
      "source": [
        "class QConvPQC(tf.keras.layers.Layer):\n",
        "   def __init__(self,n_qubits,layers,name='Quantum Convolutional layer'):\n",
        "     super(QConvPQC,self).__init__(name=name)\n",
        "     self.num_qubits = n_qubits\n",
        "    #  self.symbols = symbols\n",
        "     self.layers = layers\n",
        "     self.main_name = name\n",
        "     self.qubits = cirq.GridQubit.rect(1, n_qubits)\n",
        "     self.observables = cirq.Z(self.qubits[-1])\n",
        "     circuit, input_symbols, param_symbols = pqc_circuit_for_conv(self.qubits,layers=self.layers)\n",
        "     param_vals = tf.random_uniform_initializer(minval=-np.pi,maxval=np.pi)\n",
        "     self.params = tf.Variable(\n",
        "         initial_value=param_vals(shape=(1,len(param_symbols)),dtype='float32'),\n",
        "         trainable = True,\n",
        "         name = self.main_name + '-parameters'\n",
        "     ) \n",
        "     self.empty_circuit = tfq.convert_to_tensor([cirq.Circuit()])\n",
        "\n",
        "     self.computation_layer = tfq.layers.ControlledPQC(circuit, self.observables)\n",
        "    \n",
        "   def get_config(self):\n",
        "     config = super().get_config().copy()\n",
        "     config.update({\n",
        "         'qubit_count':self.num_qubits,\n",
        "        #  'symbols':self.symbols,\n",
        "         'layer_count':self.layers,\n",
        "         'layer_name':self.name\n",
        "     })\n",
        "     return config\n",
        "   def call(self,inputs):\n",
        "     batch_size = tf.shape(inputs)[0]\n",
        "     \n",
        "     inputs_flattened = tf.keras.layers.Flatten()(inputs)\n",
        "     quantum_inputs = tf.math.atan(inputs_flattened)\n",
        "     params_batch = tf.tile(self.params, multiples=[batch_size,1], name=self.main_name + '-tiled_up_parameters')\n",
        "     empty_circuits_batch = tf.repeat(self.empty_circuit, repeats = batch_size, name=self.main_name + '-empty_circuits')\n",
        "     \n",
        "     joined_params = tf.concat([quantum_inputs,params_batch],axis=-1)\n",
        "\n",
        "     return self.computation_layer([empty_circuits_batch,joined_params])"
      ]
    },
    {
      "cell_type": "code",
      "execution_count": null,
      "metadata": {
        "id": "h7K_vBLCwBAk"
      },
      "outputs": [],
      "source": [
        "def QConv_layer(inputs,layers,filter_size,stride,conv_id='',name='QConv_layer_'):\n",
        "  iter = int(1 + (inputs.shape[1]-filter_size)/stride)\n",
        "  n_qubits = filter_size*filter_size\n",
        "  pqc = QConvPQC(n_qubits=n_qubits,layers=layers,name=name+conv_id) # \n",
        "  conv = []\n",
        "  for i in range(iter):\n",
        "    for j in range(iter):\n",
        "      temp = pqc(inputs[:,stride*i:filter_size+i*stride,stride*i:filter_size+i*stride])\n",
        "      conv += [temp]\n",
        "  output_concat = tf.keras.layers.Concatenate(axis=1)(conv)\n",
        "  output_reshape = tf.keras.layers.Reshape((iter,iter,1))(output_concat)\n",
        "  return output_reshape"
      ]
    },
    {
      "cell_type": "code",
      "execution_count": null,
      "metadata": {
        "id": "zZmdlVntwET8"
      },
      "outputs": [],
      "source": [
        "layers = 3\n",
        "filter_size = [4,3,2]  \n",
        "stride = [1,1,1]       #for 16x16\n",
        "\n",
        "def create_discriminator_j():\n",
        "  data_inputs = tf.keras.Input(shape=(X_jet.shape[1], X_jet.shape[2],1, ),dtype=tf.dtypes.float32,name='Input_layer')\n",
        "  conv_1 = QConv_layer(inputs=data_inputs,layers=layers,filter_size=filter_size[0],stride=stride[0],conv_id='1') #\n",
        "  conv_2 = QConv_layer(inputs=conv_1,layers=layers,filter_size=filter_size[1],stride=stride[1],conv_id='2')  #\n",
        "  conv_3 = QConv_layer(inputs=conv_2,layers=layers,filter_size=filter_size[2],stride=stride[2],conv_id='3')  #\n",
        "  conv_output = tf.keras.layers.Flatten()(conv_3)\n",
        "  # normalized_conv_output = tf.keras.layers.BatchNormalization(trainable=True)(conv_output)\n",
        "  final_output = tf.keras.layers.Dense(1)(conv_output)\n",
        "  model = tf.keras.Model(inputs=[data_inputs],outputs=[final_output])\n",
        "  return model"
      ]
    },
    {
      "cell_type": "code",
      "execution_count": null,
      "metadata": {
        "id": "3guO4BzlwvJU"
      },
      "outputs": [],
      "source": [
        "def create_classical_discriminator():\n",
        "    model = tf.keras.Sequential()\n",
        "    model.add(tf.keras.layers.Conv2D(64, (3, 3), strides=(2, 2), padding='same', input_shape=[8, 8, 1]))\n",
        "    model.add(tf.keras.layers.LeakyReLU())\n",
        "    model.add(tf.keras.layers.Dropout(0.3))\n",
        "\n",
        "    model.add(tf.keras.layers.Conv2D(16, (2, 2), strides=(2, 2), padding='same'))\n",
        "    model.add(tf.keras.layers.LeakyReLU())\n",
        "    model.add(tf.keras.layers.Dropout(0.3))\n",
        "    \n",
        "    model.add(tf.keras.layers.Conv2D(8, (2, 2), strides=(2, 2), padding='same'))\n",
        "    model.add(tf.keras.layers.LeakyReLU())\n",
        "    model.add(tf.keras.layers.Dropout(0.3))\n",
        "\n",
        "    model.add(tf.keras.layers.Flatten())\n",
        "    model.add(tf.keras.layers.Dense(1))\n",
        "    return model"
      ]
    },
    {
      "cell_type": "code",
      "execution_count": null,
      "metadata": {
        "colab": {
          "base_uri": "https://localhost:8080/"
        },
        "id": "9Hycy8j_wInB",
        "outputId": "39de0c3f-a762-48d7-9b5b-0fcc09aa2c58"
      },
      "outputs": [
        {
          "name": "stdout",
          "output_type": "stream",
          "text": [
            "Model: \"model\"\n",
            "__________________________________________________________________________________________________\n",
            " Layer (type)                   Output Shape         Param #     Connected to                     \n",
            "==================================================================================================\n",
            " Input_layer (InputLayer)       [(None, 8, 8, 1)]    0           []                               \n",
            "                                                                                                  \n",
            " tf.__operators__.getitem (Slic  (None, 4, 4, 1)     0           ['Input_layer[0][0]']            \n",
            " ingOpLambda)                                                                                     \n",
            "                                                                                                  \n",
            " tf.__operators__.getitem_1 (Sl  (None, 4, 4, 1)     0           ['Input_layer[0][0]']            \n",
            " icingOpLambda)                                                                                   \n",
            "                                                                                                  \n",
            " tf.__operators__.getitem_2 (Sl  (None, 4, 4, 1)     0           ['Input_layer[0][0]']            \n",
            " icingOpLambda)                                                                                   \n",
            "                                                                                                  \n",
            " tf.__operators__.getitem_3 (Sl  (None, 4, 4, 1)     0           ['Input_layer[0][0]']            \n",
            " icingOpLambda)                                                                                   \n",
            "                                                                                                  \n",
            " tf.__operators__.getitem_4 (Sl  (None, 4, 4, 1)     0           ['Input_layer[0][0]']            \n",
            " icingOpLambda)                                                                                   \n",
            "                                                                                                  \n",
            " tf.__operators__.getitem_5 (Sl  (None, 4, 4, 1)     0           ['Input_layer[0][0]']            \n",
            " icingOpLambda)                                                                                   \n",
            "                                                                                                  \n",
            " tf.__operators__.getitem_6 (Sl  (None, 4, 4, 1)     0           ['Input_layer[0][0]']            \n",
            " icingOpLambda)                                                                                   \n",
            "                                                                                                  \n",
            " tf.__operators__.getitem_7 (Sl  (None, 4, 4, 1)     0           ['Input_layer[0][0]']            \n",
            " icingOpLambda)                                                                                   \n",
            "                                                                                                  \n",
            " tf.__operators__.getitem_8 (Sl  (None, 4, 4, 1)     0           ['Input_layer[0][0]']            \n",
            " icingOpLambda)                                                                                   \n",
            "                                                                                                  \n",
            " tf.__operators__.getitem_9 (Sl  (None, 4, 4, 1)     0           ['Input_layer[0][0]']            \n",
            " icingOpLambda)                                                                                   \n",
            "                                                                                                  \n",
            " tf.__operators__.getitem_10 (S  (None, 4, 4, 1)     0           ['Input_layer[0][0]']            \n",
            " licingOpLambda)                                                                                  \n",
            "                                                                                                  \n",
            " tf.__operators__.getitem_11 (S  (None, 4, 4, 1)     0           ['Input_layer[0][0]']            \n",
            " licingOpLambda)                                                                                  \n",
            "                                                                                                  \n",
            " tf.__operators__.getitem_12 (S  (None, 4, 4, 1)     0           ['Input_layer[0][0]']            \n",
            " licingOpLambda)                                                                                  \n",
            "                                                                                                  \n",
            " tf.__operators__.getitem_13 (S  (None, 4, 4, 1)     0           ['Input_layer[0][0]']            \n",
            " licingOpLambda)                                                                                  \n",
            "                                                                                                  \n",
            " tf.__operators__.getitem_14 (S  (None, 4, 4, 1)     0           ['Input_layer[0][0]']            \n",
            " licingOpLambda)                                                                                  \n",
            "                                                                                                  \n",
            " tf.__operators__.getitem_15 (S  (None, 4, 4, 1)     0           ['Input_layer[0][0]']            \n",
            " licingOpLambda)                                                                                  \n",
            "                                                                                                  \n",
            " tf.__operators__.getitem_16 (S  (None, 4, 4, 1)     0           ['Input_layer[0][0]']            \n",
            " licingOpLambda)                                                                                  \n",
            "                                                                                                  \n",
            " tf.__operators__.getitem_17 (S  (None, 4, 4, 1)     0           ['Input_layer[0][0]']            \n",
            " licingOpLambda)                                                                                  \n",
            "                                                                                                  \n",
            " tf.__operators__.getitem_18 (S  (None, 4, 4, 1)     0           ['Input_layer[0][0]']            \n",
            " licingOpLambda)                                                                                  \n",
            "                                                                                                  \n",
            " tf.__operators__.getitem_19 (S  (None, 4, 4, 1)     0           ['Input_layer[0][0]']            \n",
            " licingOpLambda)                                                                                  \n",
            "                                                                                                  \n",
            " tf.__operators__.getitem_20 (S  (None, 4, 4, 1)     0           ['Input_layer[0][0]']            \n",
            " licingOpLambda)                                                                                  \n",
            "                                                                                                  \n",
            " tf.__operators__.getitem_21 (S  (None, 4, 4, 1)     0           ['Input_layer[0][0]']            \n",
            " licingOpLambda)                                                                                  \n",
            "                                                                                                  \n",
            " tf.__operators__.getitem_22 (S  (None, 4, 4, 1)     0           ['Input_layer[0][0]']            \n",
            " licingOpLambda)                                                                                  \n",
            "                                                                                                  \n",
            " tf.__operators__.getitem_23 (S  (None, 4, 4, 1)     0           ['Input_layer[0][0]']            \n",
            " licingOpLambda)                                                                                  \n",
            "                                                                                                  \n",
            " tf.__operators__.getitem_24 (S  (None, 4, 4, 1)     0           ['Input_layer[0][0]']            \n",
            " licingOpLambda)                                                                                  \n",
            "                                                                                                  \n",
            " QConv_layer_1 (QConvPQC)       (None, 1)            144         ['tf.__operators__.getitem[0][0]'\n",
            "                                                                 , 'tf.__operators__.getitem_1[0][\n",
            "                                                                 0]',                             \n",
            "                                                                  'tf.__operators__.getitem_2[0][0\n",
            "                                                                 ]',                              \n",
            "                                                                  'tf.__operators__.getitem_3[0][0\n",
            "                                                                 ]',                              \n",
            "                                                                  'tf.__operators__.getitem_4[0][0\n",
            "                                                                 ]',                              \n",
            "                                                                  'tf.__operators__.getitem_5[0][0\n",
            "                                                                 ]',                              \n",
            "                                                                  'tf.__operators__.getitem_6[0][0\n",
            "                                                                 ]',                              \n",
            "                                                                  'tf.__operators__.getitem_7[0][0\n",
            "                                                                 ]',                              \n",
            "                                                                  'tf.__operators__.getitem_8[0][0\n",
            "                                                                 ]',                              \n",
            "                                                                  'tf.__operators__.getitem_9[0][0\n",
            "                                                                 ]',                              \n",
            "                                                                  'tf.__operators__.getitem_10[0][\n",
            "                                                                 0]',                             \n",
            "                                                                  'tf.__operators__.getitem_11[0][\n",
            "                                                                 0]',                             \n",
            "                                                                  'tf.__operators__.getitem_12[0][\n",
            "                                                                 0]',                             \n",
            "                                                                  'tf.__operators__.getitem_13[0][\n",
            "                                                                 0]',                             \n",
            "                                                                  'tf.__operators__.getitem_14[0][\n",
            "                                                                 0]',                             \n",
            "                                                                  'tf.__operators__.getitem_15[0][\n",
            "                                                                 0]',                             \n",
            "                                                                  'tf.__operators__.getitem_16[0][\n",
            "                                                                 0]',                             \n",
            "                                                                  'tf.__operators__.getitem_17[0][\n",
            "                                                                 0]',                             \n",
            "                                                                  'tf.__operators__.getitem_18[0][\n",
            "                                                                 0]',                             \n",
            "                                                                  'tf.__operators__.getitem_19[0][\n",
            "                                                                 0]',                             \n",
            "                                                                  'tf.__operators__.getitem_20[0][\n",
            "                                                                 0]',                             \n",
            "                                                                  'tf.__operators__.getitem_21[0][\n",
            "                                                                 0]',                             \n",
            "                                                                  'tf.__operators__.getitem_22[0][\n",
            "                                                                 0]',                             \n",
            "                                                                  'tf.__operators__.getitem_23[0][\n",
            "                                                                 0]',                             \n",
            "                                                                  'tf.__operators__.getitem_24[0][\n",
            "                                                                 0]']                             \n",
            "                                                                                                  \n",
            " concatenate (Concatenate)      (None, 25)           0           ['QConv_layer_1[0][0]',          \n",
            "                                                                  'QConv_layer_1[1][0]',          \n",
            "                                                                  'QConv_layer_1[2][0]',          \n",
            "                                                                  'QConv_layer_1[3][0]',          \n",
            "                                                                  'QConv_layer_1[4][0]',          \n",
            "                                                                  'QConv_layer_1[5][0]',          \n",
            "                                                                  'QConv_layer_1[6][0]',          \n",
            "                                                                  'QConv_layer_1[7][0]',          \n",
            "                                                                  'QConv_layer_1[8][0]',          \n",
            "                                                                  'QConv_layer_1[9][0]',          \n",
            "                                                                  'QConv_layer_1[10][0]',         \n",
            "                                                                  'QConv_layer_1[11][0]',         \n",
            "                                                                  'QConv_layer_1[12][0]',         \n",
            "                                                                  'QConv_layer_1[13][0]',         \n",
            "                                                                  'QConv_layer_1[14][0]',         \n",
            "                                                                  'QConv_layer_1[15][0]',         \n",
            "                                                                  'QConv_layer_1[16][0]',         \n",
            "                                                                  'QConv_layer_1[17][0]',         \n",
            "                                                                  'QConv_layer_1[18][0]',         \n",
            "                                                                  'QConv_layer_1[19][0]',         \n",
            "                                                                  'QConv_layer_1[20][0]',         \n",
            "                                                                  'QConv_layer_1[21][0]',         \n",
            "                                                                  'QConv_layer_1[22][0]',         \n",
            "                                                                  'QConv_layer_1[23][0]',         \n",
            "                                                                  'QConv_layer_1[24][0]']         \n",
            "                                                                                                  \n",
            " reshape (Reshape)              (None, 5, 5, 1)      0           ['concatenate[0][0]']            \n",
            "                                                                                                  \n",
            " tf.__operators__.getitem_25 (S  (None, 3, 3, 1)     0           ['reshape[0][0]']                \n",
            " licingOpLambda)                                                                                  \n",
            "                                                                                                  \n",
            " tf.__operators__.getitem_26 (S  (None, 3, 3, 1)     0           ['reshape[0][0]']                \n",
            " licingOpLambda)                                                                                  \n",
            "                                                                                                  \n",
            " tf.__operators__.getitem_27 (S  (None, 3, 3, 1)     0           ['reshape[0][0]']                \n",
            " licingOpLambda)                                                                                  \n",
            "                                                                                                  \n",
            " tf.__operators__.getitem_28 (S  (None, 3, 3, 1)     0           ['reshape[0][0]']                \n",
            " licingOpLambda)                                                                                  \n",
            "                                                                                                  \n",
            " tf.__operators__.getitem_29 (S  (None, 3, 3, 1)     0           ['reshape[0][0]']                \n",
            " licingOpLambda)                                                                                  \n",
            "                                                                                                  \n",
            " tf.__operators__.getitem_30 (S  (None, 3, 3, 1)     0           ['reshape[0][0]']                \n",
            " licingOpLambda)                                                                                  \n",
            "                                                                                                  \n",
            " tf.__operators__.getitem_31 (S  (None, 3, 3, 1)     0           ['reshape[0][0]']                \n",
            " licingOpLambda)                                                                                  \n",
            "                                                                                                  \n",
            " tf.__operators__.getitem_32 (S  (None, 3, 3, 1)     0           ['reshape[0][0]']                \n",
            " licingOpLambda)                                                                                  \n",
            "                                                                                                  \n",
            " tf.__operators__.getitem_33 (S  (None, 3, 3, 1)     0           ['reshape[0][0]']                \n",
            " licingOpLambda)                                                                                  \n",
            "                                                                                                  \n",
            " QConv_layer_2 (QConvPQC)       (None, 1)            81          ['tf.__operators__.getitem_25[0][\n",
            "                                                                 0]',                             \n",
            "                                                                  'tf.__operators__.getitem_26[0][\n",
            "                                                                 0]',                             \n",
            "                                                                  'tf.__operators__.getitem_27[0][\n",
            "                                                                 0]',                             \n",
            "                                                                  'tf.__operators__.getitem_28[0][\n",
            "                                                                 0]',                             \n",
            "                                                                  'tf.__operators__.getitem_29[0][\n",
            "                                                                 0]',                             \n",
            "                                                                  'tf.__operators__.getitem_30[0][\n",
            "                                                                 0]',                             \n",
            "                                                                  'tf.__operators__.getitem_31[0][\n",
            "                                                                 0]',                             \n",
            "                                                                  'tf.__operators__.getitem_32[0][\n",
            "                                                                 0]',                             \n",
            "                                                                  'tf.__operators__.getitem_33[0][\n",
            "                                                                 0]']                             \n",
            "                                                                                                  \n",
            " concatenate_1 (Concatenate)    (None, 9)            0           ['QConv_layer_2[0][0]',          \n",
            "                                                                  'QConv_layer_2[1][0]',          \n",
            "                                                                  'QConv_layer_2[2][0]',          \n",
            "                                                                  'QConv_layer_2[3][0]',          \n",
            "                                                                  'QConv_layer_2[4][0]',          \n",
            "                                                                  'QConv_layer_2[5][0]',          \n",
            "                                                                  'QConv_layer_2[6][0]',          \n",
            "                                                                  'QConv_layer_2[7][0]',          \n",
            "                                                                  'QConv_layer_2[8][0]']          \n",
            "                                                                                                  \n",
            " reshape_1 (Reshape)            (None, 3, 3, 1)      0           ['concatenate_1[0][0]']          \n",
            "                                                                                                  \n",
            " tf.__operators__.getitem_34 (S  (None, 2, 2, 1)     0           ['reshape_1[0][0]']              \n",
            " licingOpLambda)                                                                                  \n",
            "                                                                                                  \n",
            " tf.__operators__.getitem_35 (S  (None, 2, 2, 1)     0           ['reshape_1[0][0]']              \n",
            " licingOpLambda)                                                                                  \n",
            "                                                                                                  \n",
            " tf.__operators__.getitem_36 (S  (None, 2, 2, 1)     0           ['reshape_1[0][0]']              \n",
            " licingOpLambda)                                                                                  \n",
            "                                                                                                  \n",
            " tf.__operators__.getitem_37 (S  (None, 2, 2, 1)     0           ['reshape_1[0][0]']              \n",
            " licingOpLambda)                                                                                  \n",
            "                                                                                                  \n",
            " QConv_layer_3 (QConvPQC)       (None, 1)            36          ['tf.__operators__.getitem_34[0][\n",
            "                                                                 0]',                             \n",
            "                                                                  'tf.__operators__.getitem_35[0][\n",
            "                                                                 0]',                             \n",
            "                                                                  'tf.__operators__.getitem_36[0][\n",
            "                                                                 0]',                             \n",
            "                                                                  'tf.__operators__.getitem_37[0][\n",
            "                                                                 0]']                             \n",
            "                                                                                                  \n",
            " concatenate_2 (Concatenate)    (None, 4)            0           ['QConv_layer_3[0][0]',          \n",
            "                                                                  'QConv_layer_3[1][0]',          \n",
            "                                                                  'QConv_layer_3[2][0]',          \n",
            "                                                                  'QConv_layer_3[3][0]']          \n",
            "                                                                                                  \n",
            " reshape_2 (Reshape)            (None, 2, 2, 1)      0           ['concatenate_2[0][0]']          \n",
            "                                                                                                  \n",
            " flatten (Flatten)              (None, 4)            0           ['reshape_2[0][0]']              \n",
            "                                                                                                  \n",
            " dense (Dense)                  (None, 1)            5           ['flatten[0][0]']                \n",
            "                                                                                                  \n",
            "==================================================================================================\n",
            "Total params: 266\n",
            "Trainable params: 266\n",
            "Non-trainable params: 0\n",
            "__________________________________________________________________________________________________\n"
          ]
        }
      ],
      "source": [
        "# discriminator_model = create_classical_discriminator()\n",
        "discriminator_model = create_discriminator_j()\n",
        "discriminator_model.summary()"
      ]
    },
    {
      "cell_type": "code",
      "execution_count": null,
      "metadata": {
        "id": "GS3lrMYvwLCS"
      },
      "outputs": [],
      "source": [
        "def get_output_shape(input_shape,filter_shape,stride,padding='same'):\n",
        "  if (input_shape[0] % stride[0] == 0):\n",
        "    pad_along_height = max(filter_shape[0] - stride[0], 0)\n",
        "  else:\n",
        "    pad_along_height = max(filter_shape[0] - (input_shape[0] % stride[0]), 0)\n",
        "  if (input_shape[1] % stride[1] == 0):\n",
        "    pad_along_width = max(filter_shape[1] - stride[1], 0)\n",
        "  else:\n",
        "    pad_along_width = max(filter_shape[1] - (input_shape[1] % stride[1]), 0)\n",
        "  pad_top = pad_along_height // 2\n",
        "  pad_bottom = pad_along_height - pad_top\n",
        "  pad_left = pad_along_width // 2\n",
        "  pad_right = pad_along_width - pad_left\n",
        "  paddings = tf.constant([[pad_top,pad_bottom],[pad_left,pad_right]])\n",
        "  rows = input_shape[0]+paddings[0][0]+paddings[0][1]\n",
        "  cols = input_shape[1]+paddings[1][0]+paddings[1][1]\n",
        "  padded_shape = tf.TensorShape([rows,cols])\n",
        "  new_rows = np.ceil(float(padded_shape[0] - filter_shape[0] + 1) / float(stride[0]))\n",
        "  new_cols = np.ceil(float(padded_shape[1] - filter_shape[1] + 1) / float(stride[1]))\n",
        "  return tf.TensorShape([int(new_rows), int(new_cols)])"
      ]
    },
    {
      "cell_type": "code",
      "execution_count": null,
      "metadata": {
        "id": "Tb5-6zN5wOjn"
      },
      "outputs": [],
      "source": [
        "class QConv2D_layer(tf.keras.layers.Layer):\n",
        "  def __init__(self,layers,filters,filter_shape,stride,seed,parameter_sharing=True,padding='same',conv_id='',name='Quantum_Convolutional_Layer_with_padding'):\n",
        "    super(QConv2D_layer,self).__init__(name=name+conv_id)\n",
        "    self.layers = layers\n",
        "    self.filters = filters\n",
        "    self.parameter_sharing = parameter_sharing\n",
        "    self.filter_shape = filter_shape\n",
        "    self.stride = stride\n",
        "    self.padding = padding\n",
        "    self.main_name = name\n",
        "    self.qubits = cirq.GridQubit.rect(1, filter_shape[0]*filter_shape[1])\n",
        "    self.observables = tfq.convert_to_tensor([cirq.Z(self.qubits[-1])])\n",
        "    self.circuit, self.input_symbols, self.param_symbols = pqc_circuit_for_conv(self.qubits,layers=self.layers)\n",
        "    self.model_circuit = tfq.convert_to_tensor([self.circuit])\n",
        "    self.all_symbols = np.concatenate((self.input_symbols,self.param_symbols),axis=0)\n",
        "    self.initializer = tf.keras.initializers.RandomUniform(0, 2 * np.pi, seed=seed)\n",
        "    # self.param_symbols = tf.constant(self.param_symbols)\n",
        "  \n",
        "  def build(self,input_shape):\n",
        "    if len(input_shape) == 3:\n",
        "      self.input_rows = input_shape[1]\n",
        "      self.input_cols = input_shape[2]\n",
        "      self.input_channels = 1\n",
        "    else:\n",
        "      self.input_rows = input_shape[1]\n",
        "      self.input_cols = input_shape[2]\n",
        "      self.input_channels = input_shape[3]\n",
        "    output_shape = get_output_shape(input_shape[1:3], self.filter_shape, self.stride, self.padding)\n",
        "    self.output_rows = output_shape[0]\n",
        "    self.output_cols = output_shape[1]\n",
        "    if self.parameter_sharing:\n",
        "      self.kernel_shape = tf.TensorShape([self.filters, self.input_channels, len(self.param_symbols)])\n",
        "    else:\n",
        "      self.kernel_shape = tf.TensorShape([self.filters, self.input_channels, \n",
        "                                               self.output_rows,\n",
        "                                               self.output_cols,\n",
        "                                               len(self.param_symbols)])\n",
        "    self.symbol_names = tfq.util.get_circuit_symbols(tfq.from_tensor(self.model_circuit)[0])\n",
        "    self.kernel = self.add_weight(\n",
        "                        name='kernel',\n",
        "                        shape=self.kernel_shape,\n",
        "                        initializer=self.initializer,\n",
        "                        # regularizer=self.regularizer,\n",
        "                        # constraint=self.constraint,\n",
        "                        trainable=True,\n",
        "                        dtype=self.dtype)\n",
        "    self.inputs_preprocess_ = self.inputs_preprocess()\n",
        "  \n",
        "  def inputs_preprocess(self):\n",
        "      kernel_size = (1, 1) + self.filter_shape + (1,)\n",
        "      strides = (1, 1) + self.stride + (1,)\n",
        "      padding = self.padding.upper()\n",
        "      batchsize = lambda x: tf.gather(tf.shape(x), 0)\n",
        "      # planes = number of channels\n",
        "      planes = self.input_channels\n",
        "      rows = self.input_rows\n",
        "      cols = self.input_cols\n",
        "      depth = 1\n",
        "      reshaped_input_ = lambda x: tf.reshape(x, shape=(batchsize(x), rows, cols, planes))\n",
        "    # change input order to (batchsize, depth, rows, cols)\n",
        "      transposed_input = lambda x: tf.transpose(reshaped_input_(x), [0, 3, 1, 2])\n",
        "      reshaped_input = lambda x: tf.reshape(transposed_input(x), \n",
        "                                              shape=(batchsize(x), planes, rows, cols, depth))\n",
        "      input_patches = lambda x: tf.extract_volume_patches(reshaped_input(x),\n",
        "                                            ksizes=kernel_size, strides=strides, padding=padding)\n",
        "      return input_patches \n",
        "\n",
        "    \n",
        "  def call(self,inputs):\n",
        "    batchsize = tf.gather(tf.shape(inputs), 0)\n",
        "    depth = self.input_channels\n",
        "    rows = self.output_rows\n",
        "    cols = self.output_cols\n",
        "\n",
        "    input_patches = self.inputs_preprocess_(inputs)\n",
        "    # resolved_inputs__ = self._input_resolver(inputs)\n",
        "    inputs = tf.reshape(input_patches, [batchsize, depth, \n",
        "                                      self.output_rows, \n",
        "                                      self.output_cols,\n",
        "                                      len(self.input_symbols)])\n",
        "        # change to (depth, batchsize, rows, cols, symbols)\n",
        "    inputs = tf.transpose(inputs, [1, 0, 2, 3, 4])\n",
        "        # total number of circuit = filters*depth*batchsize*rows*cols\n",
        "    circuit_size = tf.reduce_prod([self.filters, batchsize, depth, rows, cols])\n",
        "        # tile inputs to (filters, depth, batchsize, rows, cols, symbols)\n",
        "    tiled_up_inputs = tf.tile([inputs], [self.filters, 1, 1, 1, 1, 1])\n",
        "        # reshape inputs to (circuit_size, symbols)\n",
        "    tiled_up_inputs = tf.reshape(tiled_up_inputs, (circuit_size, tf.shape(tiled_up_inputs)[-1]))\n",
        "    if self.parameter_sharing:\n",
        "      # tile size for weights = batchsize*rows*cols\n",
        "      tile_size = tf.reduce_prod([batchsize, rows, cols])\n",
        "      tiled_up_weights__ = tf.tile([self.kernel], [tile_size, 1, 1, 1])\n",
        "      # change to (filters, depth, batchsize*rows*cols, weight_symbols)\n",
        "      tiled_up_weights_ = tf.transpose(tiled_up_weights__, [1, 2, 0, 3])\n",
        "    else:\n",
        "      # tile size for weights = batchsize\n",
        "      # weight now has shape (batchsize, filters, depth, rows, cols, weight_symbols)\n",
        "      tiled_up_weights__ = tf.tile([self.kernel], [batchsize, 1, 1, 1, 1, 1])\n",
        "      # change to (filters, depth, batchsize, rows, cols, weight_symbols)\n",
        "      tiled_up_weights_ = tf.transpose(tiled_up_weights__, [1, 2, 0, 3, 4, 5])\n",
        "      # reshape to (circuit_size, weight_symbols)\n",
        "    tiled_up_weights = tf.reshape(tiled_up_weights_, (circuit_size, tf.shape(tiled_up_weights_)[-1]))\n",
        "    tiled_up_parameters = tf.concat([tiled_up_inputs, tiled_up_weights], 1)\n",
        "        \n",
        "    # tiled_up_data_circuit = tf.tile(self._data_circuit, [circuit_size])\n",
        "    tiled_up_circuits = tf.tile(self.model_circuit, [circuit_size])\n",
        "    # model_appended = self._append_layer(tiled_up_data_circuit, append=tiled_up_model)\n",
        "    tiled_up_operators = tf.tile([self.observables], [circuit_size, 1])\n",
        "    \n",
        "    result = tfq.layers.Expectation()(tiled_up_circuits,\n",
        "                                    symbol_names=self.symbol_names,\n",
        "                                    symbol_values=tiled_up_parameters,\n",
        "                                    operators=tiled_up_operators)\n",
        "\n",
        "    reshaped_output = tf.reshape(result,(self.filters, self.input_channels, batchsize, self.output_rows, self.output_cols))\n",
        "    summed_output = tf.reduce_mean(reshaped_output, axis=1)\n",
        "    final_output = tf.transpose(summed_output, [1, 2, 3, 0])\n",
        "    return tf.reshape(final_output, (batchsize, self.output_rows, self.output_cols, self.filters))"
      ]
    },
    {
      "cell_type": "code",
      "execution_count": null,
      "metadata": {
        "id": "nlBOTongwZKV"
      },
      "outputs": [],
      "source": [
        "def create_generator_j():\n",
        "  model = tf.keras.Sequential(name = 'Generator')\n",
        "  model.add(tf.keras.layers.Input(shape=(64), dtype=tf.float32))\n",
        "  model.add(tf.keras.layers.Reshape((8, 8, 1)))\n",
        "  model.add(QConv2D_layer(layers=1, filter_shape=(3, 3),conv_id ='1',\n",
        "                      filters=2, stride=(1, 1), padding=\"same\", parameter_sharing=False,seed=2021,\n",
        "                      ))\n",
        "  model.add(QConv2D_layer(layers=2, filter_shape=(2, 2),conv_id = '2',\n",
        "                      filters=1, stride=(1, 1), padding=\"same\", parameter_sharing=True,seed=2022,\n",
        "                      ))\n",
        "  return model"
      ]
    },
    {
      "cell_type": "code",
      "execution_count": null,
      "metadata": {
        "id": "xM0iSnpsuftz"
      },
      "outputs": [],
      "source": [
        "def create_classical_generator():\n",
        "    model = tf.keras.Sequential()\n",
        "    # foundation for 2x2 image\n",
        "    n_nodes = 64 * 2 * 2\n",
        "    model.add(tf.keras.layers.Dense(n_nodes, use_bias=False, input_shape=(70,)))\n",
        "    model.add(tf.keras.layers.BatchNormalization())\n",
        "    model.add(tf.keras.layers.LeakyReLU())\n",
        "    model.add(tf.keras.layers.Reshape((2, 2, 64)))\n",
        "\n",
        "    # model.add(tf.keras.layers.Conv2DTranspose(2, (2,2), strides=(1,1), padding=\"same\", use_bias=False))\n",
        "    # model.add(tf.keras.layers.BatchNormalization())\n",
        "    # model.add(tf.keras.layers.LeakyReLU())\n",
        "\n",
        "    model.add(tf.keras.layers.Conv2DTranspose(32, (2,2), strides=(1,1), padding=\"same\", use_bias=False))\n",
        "    model.add(tf.keras.layers.BatchNormalization())\n",
        "    model.add(tf.keras.layers.LeakyReLU())\n",
        "    \n",
        "    # upsample to 4x4\n",
        "    model.add(tf.keras.layers.Conv2DTranspose(32, (2,2), strides=(2,2), padding=\"same\", use_bias=False))\n",
        "    model.add(tf.keras.layers.BatchNormalization())\n",
        "    model.add(tf.keras.layers.LeakyReLU())    \n",
        "    # upsample to 8x8\n",
        "    model.add(tf.keras.layers.Conv2DTranspose(1, (3,3), strides=(2,2), padding=\"same\", use_bias=False))   #, activation='tanh'\n",
        "    return model"
      ]
    },
    {
      "cell_type": "code",
      "execution_count": null,
      "metadata": {
        "colab": {
          "base_uri": "https://localhost:8080/"
        },
        "id": "J0wjP-wLwZ47",
        "outputId": "dc17dc90-d5e3-4c2a-f2d6-4a98184f95a4"
      },
      "outputs": [
        {
          "output_type": "stream",
          "name": "stdout",
          "text": [
            "Model: \"sequential\"\n",
            "_________________________________________________________________\n",
            " Layer (type)                Output Shape              Param #   \n",
            "=================================================================\n",
            " dense (Dense)               (None, 256)               17920     \n",
            "                                                                 \n",
            " batch_normalization (BatchN  (None, 256)              1024      \n",
            " ormalization)                                                   \n",
            "                                                                 \n",
            " leaky_re_lu (LeakyReLU)     (None, 256)               0         \n",
            "                                                                 \n",
            " reshape (Reshape)           (None, 2, 2, 64)          0         \n",
            "                                                                 \n",
            " conv2d_transpose (Conv2DTra  (None, 2, 2, 32)         8192      \n",
            " nspose)                                                         \n",
            "                                                                 \n",
            " batch_normalization_1 (Batc  (None, 2, 2, 32)         128       \n",
            " hNormalization)                                                 \n",
            "                                                                 \n",
            " leaky_re_lu_1 (LeakyReLU)   (None, 2, 2, 32)          0         \n",
            "                                                                 \n",
            " conv2d_transpose_1 (Conv2DT  (None, 4, 4, 32)         4096      \n",
            " ranspose)                                                       \n",
            "                                                                 \n",
            " batch_normalization_2 (Batc  (None, 4, 4, 32)         128       \n",
            " hNormalization)                                                 \n",
            "                                                                 \n",
            " leaky_re_lu_2 (LeakyReLU)   (None, 4, 4, 32)          0         \n",
            "                                                                 \n",
            " conv2d_transpose_2 (Conv2DT  (None, 8, 8, 1)          288       \n",
            " ranspose)                                                       \n",
            "                                                                 \n",
            "=================================================================\n",
            "Total params: 31,776\n",
            "Trainable params: 31,136\n",
            "Non-trainable params: 640\n",
            "_________________________________________________________________\n"
          ]
        }
      ],
      "source": [
        "# generator_model = create_generator_j()\n",
        "generator_model = create_classical_generator()\n",
        "generator_model.summary()"
      ]
    },
    {
      "cell_type": "code",
      "execution_count": null,
      "metadata": {
        "id": "6ERBvUM_bW_5"
      },
      "outputs": [],
      "source": [
        "def create_discriminator_j_improved():\n",
        "  model = tf.keras.Sequential(name = 'Discriminator_Improved')\n",
        "  model.add(tf.keras.Input(shape=(8, 8, 1),dtype=tf.dtypes.float32,name='Input_layer'))\n",
        "  # model.add(tf.keras.layers.Reshape((8, 8, 1)))\n",
        "  model.add(QConv2D_layer(layers=2, filter_shape=(4, 4),conv_id = '1',\n",
        "                      filters=1, stride=(1, 1), padding=\"same\", parameter_sharing=False,seed=2022,\n",
        "                      )) \n",
        "  model.add(QConv2D_layer(layers=3, filter_shape=(3, 3),conv_id ='2',\n",
        "                      filters=2, stride=(2, 2), padding=\"same\", parameter_sharing=False,seed=2021,\n",
        "                      ))\n",
        "  model.add(QConv2D_layer(layers=2, filter_shape=(2, 2),conv_id = '3',\n",
        "                      filters=1, stride=(2, 2), padding=\"same\", parameter_sharing=False,seed=2022,\n",
        "                      )) \n",
        "  model.add(tf.keras.layers.Flatten())\n",
        "  model.add(tf.keras.layers.Dense(1))\n",
        "  return model"
      ]
    },
    {
      "cell_type": "code",
      "execution_count": null,
      "metadata": {
        "colab": {
          "base_uri": "https://localhost:8080/"
        },
        "id": "ttRuXVd5hXl1",
        "outputId": "2cd67a38-1a34-411c-a6fa-e615019080a1"
      },
      "outputs": [
        {
          "output_type": "stream",
          "name": "stdout",
          "text": [
            "Model: \"Discriminator_Improved\"\n",
            "_________________________________________________________________\n",
            " Layer (type)                Output Shape              Param #   \n",
            "=================================================================\n",
            " Quantum_Convolutional_Layer  (None, 4, 4, 2)          2592      \n",
            " _with_padding2 (QConv2D_lay                                     \n",
            " er)                                                             \n",
            "                                                                 \n",
            " Quantum_Convolutional_Layer  (None, 2, 2, 1)          192       \n",
            " _with_padding3 (QConv2D_lay                                     \n",
            " er)                                                             \n",
            "                                                                 \n",
            " flatten (Flatten)           (None, 4)                 0         \n",
            "                                                                 \n",
            " dense_1 (Dense)             (None, 1)                 5         \n",
            "                                                                 \n",
            "=================================================================\n",
            "Total params: 2,789\n",
            "Trainable params: 2,789\n",
            "Non-trainable params: 0\n",
            "_________________________________________________________________\n"
          ]
        }
      ],
      "source": [
        "discriminator_model = create_discriminator_j_improved()\n",
        "discriminator_model.summary()"
      ]
    },
    {
      "cell_type": "code",
      "execution_count": null,
      "metadata": {
        "id": "B13XZu9Ywdiq"
      },
      "outputs": [],
      "source": [
        "class QGAN():\n",
        "  def __init__(self,discriminator,generator,disc_optimizer,gen_optimizer):\n",
        "    self.generator_model = generator\n",
        "    self.discriminator_model = discriminator\n",
        "    self.d_opt = disc_optimizer\n",
        "    self.g_opt = gen_optimizer\n",
        "    # self.g_lr = gen_learning_rate\n",
        "    # self.d_lr = disc_learning_rate\n",
        "    self.loss = tf.keras.losses.BinaryCrossentropy(from_logits=True)\n",
        "    self.gen_loss_ = []\n",
        "    self.disc_loss_ = []\n",
        "    self.epochs_ = []\n",
        "    # self.d_opt = self.d_opt(self.d_lr)\n",
        "    # self.g_opt = self.g_opt(self.g_lr)\n",
        "\n",
        "  def prepare_dataset(self,data,batch_size,seed=None,drop_remainder=True,buffer_size=100):\n",
        "    buffer_size =len(data[0])\n",
        "    ds = tf.data.Dataset.from_tensor_slices(data)\n",
        "    ds = ds.shuffle(buffer_size=buffer_size,seed=seed,reshuffle_each_iteration=True)\n",
        "    ds = ds.batch(batch_size,drop_remainder)\n",
        "    ds = ds.prefetch(tf.data.AUTOTUNE)\n",
        "    return ds\n",
        "\n",
        "  def train_preprocess(self,random_state):\n",
        "    tf.random.set_seed(random_state)\n",
        "    np.random.seed(random_state)\n",
        "  \n",
        "  @tf.function\n",
        "  def generator_loss(self,fake_output):\n",
        "    # return self.loss(tf.ones_like(fake_output),fake_output)\n",
        "    return -self.loss(tf.zeros_like(fake_output),fake_output)\n",
        "\n",
        "  @tf.function\n",
        "  def discriminator_loss(self,real_output,fake_output):\n",
        "    real_loss = self.loss(tf.ones_like(real_output),real_output)\n",
        "    fake_loss = self.loss(tf.zeros_like(fake_output),fake_output)\n",
        "    return real_loss + fake_loss\n",
        "  \n",
        "  @tf.function\n",
        "  def train_step_1v1(self,x_real,batch_size):\n",
        "    \"\"\"Training step for one epoch with 1 generator step and 1 discriminator step\n",
        "        \"\"\"\n",
        "    fake_data_shape = (batch_size,) + self.generator_model.input_shape[1:]\n",
        "    z = tf.random.normal(shape=fake_data_shape)\n",
        "    with tf.GradientTape() as gen_tape, tf.GradientTape() as disc_tape:\n",
        "      x_fake_ = self.generator_model(z, training=True)\n",
        "      # x_fake = tf.reshape(x_fake_, tf.shape(x_real))\n",
        "      real_output = self.discriminator_model(x_real, training=True)\n",
        "      fake_output = self.discriminator_model(x_fake_, training=True)\n",
        "      gen_loss = self.generator_loss(fake_output)\n",
        "      disc_loss = self.discriminator_loss(real_output, fake_output)\n",
        "    grad_gen = gen_tape.gradient(gen_loss, self.generator_model.trainable_variables)\n",
        "    grad_disc = disc_tape.gradient(disc_loss, self.discriminator_model.trainable_variables)\n",
        "    self.g_opt.apply_gradients(zip(grad_gen, self.generator_model.trainable_variables))\n",
        "    self.d_opt.apply_gradients(zip(grad_disc, self.discriminator_model.trainable_variables))  \n",
        "    return gen_loss, disc_loss\n",
        "\n",
        "  @tf.function\n",
        "  def train_step_nv1(self,x_real,n_disc,batch_size):\n",
        "    for i in range(n_disc):\n",
        "      x_real_batch = tf.gather(x_real,i)\n",
        "      d_loss = self.discriminator_step(x_real_batch,batch_size)\n",
        "    g_loss = self.generator_step(batch_size)\n",
        "    return g_loss, d_loss\n",
        "\n",
        "  @tf.function\n",
        "  def train_step_1vn(self,x_real,n_gen,batch_size):\n",
        "    for i in range(n_gen):\n",
        "      g_loss = self.generator_step(batch_size)\n",
        "    d_loss = self.discriminator_step(x_real,batch_size)\n",
        "    return g_loss, d_loss \n",
        "\n",
        "  @tf.function\n",
        "  def discriminator_step(self,x_real,batch_size):\n",
        "    fake_data_shape = (batch_size,) + self.generator_model.input_shape[1:]\n",
        "    # x_real = tf.reshape(x_real,fake_data_shape)\n",
        "    z = tf.random.normal(shape=fake_data_shape)\n",
        "    with tf.GradientTape() as gradient_tape:\n",
        "      real_output = self.discriminator_model(x_real,training = True)\n",
        "      fake_input = self.generator_model(z, training = True) \n",
        "      # fake_input = tf.reshape(fake_input, tf.shape(x_real))\n",
        "      fake_output = self.discriminator_model(fake_input,training = True)\n",
        "      cost = self.discriminator_loss(real_output,fake_output)\n",
        "    grad = gradient_tape.gradient(cost,self.discriminator_model.trainable_variables)\n",
        "    self.d_opt.apply_gradients(zip(grad,self.discriminator_model.trainable_variables))\n",
        "    return cost\n",
        "\n",
        "  @tf.function\n",
        "  def generator_step(self,batch_size):\n",
        "    fake_data_shape = (batch_size,) + self.generator_model.input_shape[1:]\n",
        "    z = tf.random.normal(shape=fake_data_shape)\n",
        "    with tf.GradientTape() as gradient_tape:\n",
        "      fake_input = self.generator_model(z,training=True)\n",
        "      fake_output = self.discriminator_model(fake_input,training= True) #\n",
        "      loss = self.generator_loss(fake_output)\n",
        "    grad = gradient_tape.gradient(loss,self.generator_model.trainable_variables)\n",
        "    self.g_opt.apply_gradients(zip(grad,self.generator_model.trainable_variables))\n",
        "    return loss\n",
        "  \n",
        "  def train_qgans(self,x,epochs,batch_size,seed=1024,n_disc=1,n_gen=1):\n",
        "    input_shape = x.shape[1:]\n",
        "    self.train_preprocess(seed)\n",
        "    data = self.prepare_dataset(data=x,batch_size=batch_size*n_disc,seed=seed)\n",
        "    g_metric = tf.keras.metrics.Mean()\n",
        "    d_metric = tf.keras.metrics.Mean()\n",
        "    for epoch in range(epochs):\n",
        "      for step,training_batch_data_ in enumerate(data):\n",
        "        # training_batch_data = tf.reshape(training_batch_data_,input_batch_shape)\n",
        "        if( n_disc == 1 and n_gen == 1):\n",
        "          input_batch_shape = (batch_size,) + input_shape\n",
        "          training_batch_data = tf.reshape(training_batch_data_,input_batch_shape)\n",
        "          gen_loss,disc_loss = self.train_step_1v1(x_real=training_batch_data, batch_size=batch_size)\n",
        "        if n_disc > 1 and n_gen == 1:\n",
        "          input_batch_shape = (n_disc, batch_size) + input_shape\n",
        "          training_batch_data = tf.reshape(training_batch_data_,input_batch_shape)        \n",
        "          gen_loss,disc_loss = self.train_step_nv1(x_real=training_batch_data, batch_size=batch_size,n_disc=n_disc)\n",
        "        if n_gen > 1 and n_disc == 1:\n",
        "          input_batch_shape = (batch_size,) + input_shape\n",
        "          training_batch_data = tf.reshape(training_batch_data_,input_batch_shape)\n",
        "          gen_loss,disc_loss = self.train_step_1vn(x_real=training_batch_data, batch_size=batch_size,n_gen=n_gen)\n",
        "        g_metric(gen_loss)\n",
        "        d_metric(disc_loss)\n",
        "      self.gen_loss_.append(g_metric.result().numpy())\n",
        "      self.disc_loss_.append(d_metric.result().numpy())\n",
        "      self.epochs_.append(epoch)\n",
        "      print(\"Epoch:{} ;   generator_loss:{} ;   discriminator_loss:{}\".format(epoch,g_metric.result().numpy(),d_metric.result().numpy()))\n",
        "  \n",
        "      g_metric.reset_state()\n",
        "      d_metric.reset_state()\n",
        "    return self.gen_loss_,self.disc_loss_,self.epochs_\n",
        "\n",
        "  def generate_samples(self,batch_size, shape=None):\n",
        "    \"\"\"Generates sample using random inputs\n",
        "        \n",
        "            Arguments:\n",
        "                batch_size: int\n",
        "                    Number of samples to generate.\n",
        "                shape: (Optional) tuple of int\n",
        "                    Reshape the output to the given shape.\n",
        "        \"\"\"\n",
        "    z_batch_shape = (batch_size,) + self.generator_model.input_shape[1:]\n",
        "    z = tf.random.normal(z_batch_shape)\n",
        "    print(z.shape[0])\n",
        "    samples = self.generator_model(z,training = False)\n",
        "    # samples = generator_model\n",
        "    # if shape is not None:\n",
        "    #   shape = (batch_size,) + shape\n",
        "    #   samples = tf.reshape(samples, shape)\n",
        "    return samples\n",
        "\n",
        "  def predict(self, x):\n",
        "    return self.discriminator_model(x, training=False)"
      ]
    },
    {
      "cell_type": "code",
      "execution_count": null,
      "metadata": {
        "colab": {
          "base_uri": "https://localhost:8080/"
        },
        "id": "wPTEw3w0wrY4",
        "outputId": "679f8d06-e465-4b58-9c7e-c46dd309603f"
      },
      "outputs": [
        {
          "output_type": "stream",
          "name": "stdout",
          "text": [
            "(10000, 70)\n",
            "(None, 8, 8, 1)\n",
            "(None, 8, 8, 1)\n"
          ]
        }
      ],
      "source": [
        "fake_data_shape = (10000,) + generator_model.input_shape[1:]\n",
        "print(fake_data_shape)\n",
        "print(generator_model.output_shape)\n",
        "print(discriminator_model.input_shape)"
      ]
    },
    {
      "cell_type": "code",
      "execution_count": null,
      "metadata": {
        "id": "dg1IeTMrwuM2"
      },
      "outputs": [],
      "source": [
        "d_optimizer = tf.keras.optimizers.RMSprop(learning_rate=0.001)\n",
        "g_optimizer = tf.keras.optimizers.RMSprop(learning_rate=0.01)\n",
        "# d_optimizer = tf.keras.optimizers.Adam(learning_rate=0.001)\n",
        "# g_optimizer = tf.keras.optimizers.Adam(learning_rate=0.01)\n",
        "model = QGAN(generator=generator_model,discriminator=discriminator_model,disc_optimizer=d_optimizer,gen_optimizer=g_optimizer)"
      ]
    },
    {
      "cell_type": "code",
      "execution_count": null,
      "metadata": {
        "colab": {
          "base_uri": "https://localhost:8080/"
        },
        "id": "Z3sOAqwfwx0U",
        "outputId": "a592a172-9922-4569-98d9-a5774a07ca74"
      },
      "outputs": [
        {
          "output_type": "stream",
          "name": "stdout",
          "text": [
            "Epoch:0 ;   generator_loss:-0.8552355170249939 ;   discriminator_loss:1.436673641204834\n",
            "Epoch:1 ;   generator_loss:-0.8369002938270569 ;   discriminator_loss:1.436746597290039\n",
            "Epoch:2 ;   generator_loss:-0.814459502696991 ;   discriminator_loss:1.4291346073150635\n",
            "Epoch:3 ;   generator_loss:-0.7937597036361694 ;   discriminator_loss:1.4220902919769287\n",
            "Epoch:4 ;   generator_loss:-0.7742529511451721 ;   discriminator_loss:1.416100263595581\n",
            "Epoch:5 ;   generator_loss:-0.7563194036483765 ;   discriminator_loss:1.4111089706420898\n",
            "Epoch:6 ;   generator_loss:-0.7401642799377441 ;   discriminator_loss:1.4071135520935059\n",
            "Epoch:7 ;   generator_loss:-0.7264007329940796 ;   discriminator_loss:1.4039006233215332\n",
            "Epoch:8 ;   generator_loss:-0.7153952717781067 ;   discriminator_loss:1.401129961013794\n",
            "Epoch:9 ;   generator_loss:-0.7083373069763184 ;   discriminator_loss:1.3986567258834839\n",
            "Epoch:10 ;   generator_loss:-0.7031747102737427 ;   discriminator_loss:1.3968474864959717\n",
            "Epoch:11 ;   generator_loss:-0.6996801495552063 ;   discriminator_loss:1.39490807056427\n",
            "Epoch:12 ;   generator_loss:-0.6973176002502441 ;   discriminator_loss:1.3929340839385986\n",
            "Epoch:13 ;   generator_loss:-0.6975687742233276 ;   discriminator_loss:1.3937022686004639\n",
            "Epoch:14 ;   generator_loss:-0.6961315870285034 ;   discriminator_loss:1.3929338455200195\n",
            "Epoch:15 ;   generator_loss:-0.6951566338539124 ;   discriminator_loss:1.3913308382034302\n",
            "Epoch:16 ;   generator_loss:-0.69461989402771 ;   discriminator_loss:1.3900169134140015\n",
            "Epoch:17 ;   generator_loss:-0.6946359872817993 ;   discriminator_loss:1.3891350030899048\n",
            "Epoch:18 ;   generator_loss:-0.694033682346344 ;   discriminator_loss:1.3880236148834229\n",
            "Epoch:19 ;   generator_loss:-0.6941698789596558 ;   discriminator_loss:1.3880661725997925\n",
            "Epoch:20 ;   generator_loss:-0.6956924796104431 ;   discriminator_loss:1.3910572528839111\n",
            "Epoch:21 ;   generator_loss:-0.6950945258140564 ;   discriminator_loss:1.3900887966156006\n",
            "Epoch:22 ;   generator_loss:-0.6941102147102356 ;   discriminator_loss:1.3882635831832886\n",
            "Epoch:23 ;   generator_loss:-0.6934590935707092 ;   discriminator_loss:1.3869831562042236\n",
            "Epoch:24 ;   generator_loss:-0.692882776260376 ;   discriminator_loss:1.3861045837402344\n"
          ]
        }
      ],
      "source": [
        "X_jet_final = np.reshape(X_jet, (X_jet.shape[0], 8, 8, 1))\n",
        "gen_loss_,disc_loss_,epochs_ = model.train_qgans(X_jet,epochs=25,batch_size=180,seed=2021,n_gen=5)"
      ]
    },
    {
      "cell_type": "code",
      "execution_count": null,
      "metadata": {
        "id": "tmsASH4Xw12W"
      },
      "outputs": [],
      "source": [
        "import matplotlib.pyplot as plt\n",
        "import matplotlib.gridspec as gridspec\n",
        "\n",
        "def plot_loss(gen_loss,disc_loss,epochs):\n",
        "  fig = plt.figure(figsize=(16,9))\n",
        "  gs = gridspec.GridSpec(ncols=8, nrows=8, figure=fig)\n",
        "  epoch = epochs[-1]\n",
        "  # plot loss curve\n",
        "  ax_loss = plt.subplot(gs[:,:4])\n",
        "  ax_loss.set_xlim(0, 1.1*epoch)\n",
        "  ax_loss.plot(epochs, gen_loss, label=\"Generator\")\n",
        "  ax_loss.plot(epochs, disc_loss, label=\"Discriminator\")\n",
        "  ax_loss.set_xlabel('Epoch', fontsize=20)\n",
        "  ax_loss.set_ylabel('Loss', fontsize=20)\n",
        "  ax_loss.grid(True)\n",
        "  ax_loss.legend(fontsize=15)"
      ]
    },
    {
      "cell_type": "code",
      "execution_count": null,
      "metadata": {
        "id": "0u-cN4Jsw4jr",
        "colab": {
          "base_uri": "https://localhost:8080/",
          "height": 560
        },
        "outputId": "595a763c-7e39-4742-b5f4-314b6fe5ea1d"
      },
      "outputs": [
        {
          "output_type": "display_data",
          "data": {
            "text/plain": [
              "<Figure size 1152x648 with 1 Axes>"
            ],
            "image/png": "[encoded data removed]"
          },
          "metadata": {
            "needs_background": "light"
          }
        }
      ],
      "source": [
        "plot_loss(gen_loss_,disc_loss_,epochs_)"
      ]
    },
    {
      "cell_type": "code",
      "execution_count": null,
      "metadata": {
        "id": "-wJ3t8xmw-V9",
        "colab": {
          "base_uri": "https://localhost:8080/",
          "height": 295
        },
        "outputId": "8f799b25-48da-43be-987b-0c64b376bc43"
      },
      "outputs": [
        {
          "output_type": "stream",
          "name": "stdout",
          "text": [
            "8\n"
          ]
        },
        {
          "output_type": "display_data",
          "data": {
            "text/plain": [
              "<Figure size 1872x1296 with 8 Axes>"
            ],
            "image/png": "[encoded data removed]"
          },
          "metadata": {
            "needs_background": "light"
          }
        }
      ],
      "source": [
        "n_images = 8\n",
        "samples = np.reshape(np.array(model.generate_samples(batch_size=n_images,shape=(5,))),(n_images,8,8))\n",
        "fig = plt.figure(figsize=(26,18))\n",
        "gs = gridspec.GridSpec(ncols=8, nrows=8, figure=fig)\n",
        "for i in range(samples.shape[0]):\n",
        "  ax = plt.subplot(gs[i//4, 4 + i%4])\n",
        "  plt.imshow(samples[i])"
      ]
    },
    {
      "cell_type": "code",
      "execution_count": null,
      "metadata": {
        "id": "y8m78MD0VjJv"
      },
      "outputs": [],
      "source": []
    }
  ],
  "metadata": {
    "colab": {
      "collapsed_sections": [],
      "provenance": []
    },
    "gpuClass": "standard",
    "kernelspec": {
      "display_name": "Python 3",
      "name": "python3"
    },
    "language_info": {
      "name": "python"
    }
  },
  "nbformat": 4,
  "nbformat_minor": 0
}