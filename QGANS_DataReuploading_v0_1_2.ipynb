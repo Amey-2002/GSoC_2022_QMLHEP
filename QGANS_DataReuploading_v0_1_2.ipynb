{
  "nbformat": 4,
  "nbformat_minor": 0,
  "metadata": {
    "colab": {
      "name": "QGANS_DataReuploading_v0.1.2.ipynb",
      "provenance": [],
      "collapsed_sections": [],
      "authorship_tag": "ABX9TyMHSNecxszGd1Cn5vGdQiTZ"
    },
    "kernelspec": {
      "name": "python3",
      "display_name": "Python 3"
    },
    "language_info": {
      "name": "python"
    }
  },
  "cells": [
    {
      "cell_type": "code",
      "execution_count": null,
      "metadata": {
        "colab": {
          "base_uri": "https://localhost:8080/"
        },
        "id": "PJiDFzG28JJG",
        "outputId": "5726ad7c-2e08-492a-dca9-d6d7063c8f58"
      },
      "outputs": [
        {
          "output_type": "stream",
          "name": "stdout",
          "text": [
            "Looking in indexes: https://pypi.org/simple, https://us-python.pkg.dev/colab-wheels/public/simple/\n",
            "Collecting tensorflow==2.7.0\n",
            "  Downloading https://us-python.pkg.dev/colab-wheels/public/tensorflow/tensorflow-2.7.0%2Bzzzcolab20220506150900-cp37-cp37m-linux_x86_64.whl\n",
            "\u001b[K     | 665.5 MB 6.5 MB/s\n",
            "\u001b[?25hRequirement already satisfied: numpy>=1.14.5 in /usr/local/lib/python3.7/dist-packages (from tensorflow==2.7.0) (1.21.6)\n",
            "Requirement already satisfied: wheel<1.0,>=0.32.0 in /usr/local/lib/python3.7/dist-packages (from tensorflow==2.7.0) (0.37.1)\n",
            "Requirement already satisfied: absl-py>=0.4.0 in /usr/local/lib/python3.7/dist-packages (from tensorflow==2.7.0) (1.1.0)\n",
            "Requirement already satisfied: wrapt>=1.11.0 in /usr/local/lib/python3.7/dist-packages (from tensorflow==2.7.0) (1.14.1)\n",
            "Requirement already satisfied: protobuf>=3.9.2 in /usr/local/lib/python3.7/dist-packages (from tensorflow==2.7.0) (3.17.3)\n",
            "Requirement already satisfied: libclang>=9.0.1 in /usr/local/lib/python3.7/dist-packages (from tensorflow==2.7.0) (14.0.1)\n",
            "Requirement already satisfied: keras-preprocessing>=1.1.1 in /usr/local/lib/python3.7/dist-packages (from tensorflow==2.7.0) (1.1.2)\n",
            "Collecting keras<2.8,>=2.7.0rc0\n",
            "  Downloading keras-2.7.0-py2.py3-none-any.whl (1.3 MB)\n",
            "\u001b[K     |████████████████████████████████| 1.3 MB 7.1 MB/s \n",
            "\u001b[?25hRequirement already satisfied: astunparse>=1.6.0 in /usr/local/lib/python3.7/dist-packages (from tensorflow==2.7.0) (1.6.3)\n",
            "Requirement already satisfied: google-pasta>=0.1.1 in /usr/local/lib/python3.7/dist-packages (from tensorflow==2.7.0) (0.2.0)\n",
            "Requirement already satisfied: grpcio<2.0,>=1.24.3 in /usr/local/lib/python3.7/dist-packages (from tensorflow==2.7.0) (1.46.3)\n",
            "Requirement already satisfied: termcolor>=1.1.0 in /usr/local/lib/python3.7/dist-packages (from tensorflow==2.7.0) (1.1.0)\n",
            "Collecting tensorflow-estimator<2.8,~=2.7.0rc0\n",
            "  Downloading tensorflow_estimator-2.7.0-py2.py3-none-any.whl (463 kB)\n",
            "\u001b[K     |████████████████████████████████| 463 kB 54.7 MB/s \n",
            "\u001b[?25hCollecting gast<0.5.0,>=0.2.1\n",
            "  Downloading gast-0.4.0-py3-none-any.whl (9.8 kB)\n",
            "Requirement already satisfied: opt-einsum>=2.3.2 in /usr/local/lib/python3.7/dist-packages (from tensorflow==2.7.0) (3.3.0)\n",
            "Requirement already satisfied: flatbuffers<3.0,>=1.12 in /usr/local/lib/python3.7/dist-packages (from tensorflow==2.7.0) (2.0)\n",
            "Requirement already satisfied: h5py>=2.9.0 in /usr/local/lib/python3.7/dist-packages (from tensorflow==2.7.0) (3.1.0)\n",
            "Requirement already satisfied: tensorboard~=2.6 in /usr/local/lib/python3.7/dist-packages (from tensorflow==2.7.0) (2.8.0)\n",
            "Requirement already satisfied: tensorflow-io-gcs-filesystem>=0.21.0 in /usr/local/lib/python3.7/dist-packages (from tensorflow==2.7.0) (0.26.0)\n",
            "Requirement already satisfied: six>=1.12.0 in /usr/local/lib/python3.7/dist-packages (from tensorflow==2.7.0) (1.15.0)\n",
            "Requirement already satisfied: typing-extensions>=3.6.6 in /usr/local/lib/python3.7/dist-packages (from tensorflow==2.7.0) (4.1.1)\n",
            "Requirement already satisfied: cached-property in /usr/local/lib/python3.7/dist-packages (from h5py>=2.9.0->tensorflow==2.7.0) (1.5.2)\n",
            "Requirement already satisfied: google-auth<3,>=1.6.3 in /usr/local/lib/python3.7/dist-packages (from tensorboard~=2.6->tensorflow==2.7.0) (1.35.0)\n",
            "Requirement already satisfied: tensorboard-data-server<0.7.0,>=0.6.0 in /usr/local/lib/python3.7/dist-packages (from tensorboard~=2.6->tensorflow==2.7.0) (0.6.1)\n",
            "Requirement already satisfied: requests<3,>=2.21.0 in /usr/local/lib/python3.7/dist-packages (from tensorboard~=2.6->tensorflow==2.7.0) (2.23.0)\n",
            "Requirement already satisfied: tensorboard-plugin-wit>=1.6.0 in /usr/local/lib/python3.7/dist-packages (from tensorboard~=2.6->tensorflow==2.7.0) (1.8.1)\n",
            "Requirement already satisfied: setuptools>=41.0.0 in /usr/local/lib/python3.7/dist-packages (from tensorboard~=2.6->tensorflow==2.7.0) (57.4.0)\n",
            "Requirement already satisfied: werkzeug>=0.11.15 in /usr/local/lib/python3.7/dist-packages (from tensorboard~=2.6->tensorflow==2.7.0) (1.0.1)\n",
            "Requirement already satisfied: markdown>=2.6.8 in /usr/local/lib/python3.7/dist-packages (from tensorboard~=2.6->tensorflow==2.7.0) (3.3.7)\n",
            "Requirement already satisfied: google-auth-oauthlib<0.5,>=0.4.1 in /usr/local/lib/python3.7/dist-packages (from tensorboard~=2.6->tensorflow==2.7.0) (0.4.6)\n",
            "Requirement already satisfied: pyasn1-modules>=0.2.1 in /usr/local/lib/python3.7/dist-packages (from google-auth<3,>=1.6.3->tensorboard~=2.6->tensorflow==2.7.0) (0.2.8)\n",
            "Requirement already satisfied: cachetools<5.0,>=2.0.0 in /usr/local/lib/python3.7/dist-packages (from google-auth<3,>=1.6.3->tensorboard~=2.6->tensorflow==2.7.0) (4.2.4)\n",
            "Requirement already satisfied: rsa<5,>=3.1.4 in /usr/local/lib/python3.7/dist-packages (from google-auth<3,>=1.6.3->tensorboard~=2.6->tensorflow==2.7.0) (4.8)\n",
            "Requirement already satisfied: requests-oauthlib>=0.7.0 in /usr/local/lib/python3.7/dist-packages (from google-auth-oauthlib<0.5,>=0.4.1->tensorboard~=2.6->tensorflow==2.7.0) (1.3.1)\n",
            "Requirement already satisfied: importlib-metadata>=4.4 in /usr/local/lib/python3.7/dist-packages (from markdown>=2.6.8->tensorboard~=2.6->tensorflow==2.7.0) (4.11.4)\n",
            "Requirement already satisfied: zipp>=0.5 in /usr/local/lib/python3.7/dist-packages (from importlib-metadata>=4.4->markdown>=2.6.8->tensorboard~=2.6->tensorflow==2.7.0) (3.8.0)\n",
            "Requirement already satisfied: pyasn1<0.5.0,>=0.4.6 in /usr/local/lib/python3.7/dist-packages (from pyasn1-modules>=0.2.1->google-auth<3,>=1.6.3->tensorboard~=2.6->tensorflow==2.7.0) (0.4.8)\n",
            "Requirement already satisfied: idna<3,>=2.5 in /usr/local/lib/python3.7/dist-packages (from requests<3,>=2.21.0->tensorboard~=2.6->tensorflow==2.7.0) (2.10)\n",
            "Requirement already satisfied: urllib3!=1.25.0,!=1.25.1,<1.26,>=1.21.1 in /usr/local/lib/python3.7/dist-packages (from requests<3,>=2.21.0->tensorboard~=2.6->tensorflow==2.7.0) (1.24.3)\n",
            "Requirement already satisfied: chardet<4,>=3.0.2 in /usr/local/lib/python3.7/dist-packages (from requests<3,>=2.21.0->tensorboard~=2.6->tensorflow==2.7.0) (3.0.4)\n",
            "Requirement already satisfied: certifi>=2017.4.17 in /usr/local/lib/python3.7/dist-packages (from requests<3,>=2.21.0->tensorboard~=2.6->tensorflow==2.7.0) (2022.6.15)\n",
            "Requirement already satisfied: oauthlib>=3.0.0 in /usr/local/lib/python3.7/dist-packages (from requests-oauthlib>=0.7.0->google-auth-oauthlib<0.5,>=0.4.1->tensorboard~=2.6->tensorflow==2.7.0) (3.2.0)\n",
            "Installing collected packages: tensorflow-estimator, keras, gast, tensorflow\n",
            "  Attempting uninstall: tensorflow-estimator\n",
            "    Found existing installation: tensorflow-estimator 2.8.0\n",
            "    Uninstalling tensorflow-estimator-2.8.0:\n",
            "      Successfully uninstalled tensorflow-estimator-2.8.0\n",
            "  Attempting uninstall: keras\n",
            "    Found existing installation: keras 2.8.0\n",
            "    Uninstalling keras-2.8.0:\n",
            "      Successfully uninstalled keras-2.8.0\n",
            "  Attempting uninstall: gast\n",
            "    Found existing installation: gast 0.5.3\n",
            "    Uninstalling gast-0.5.3:\n",
            "      Successfully uninstalled gast-0.5.3\n",
            "  Attempting uninstall: tensorflow\n",
            "    Found existing installation: tensorflow 2.8.2+zzzcolab20220527125636\n",
            "    Uninstalling tensorflow-2.8.2+zzzcolab20220527125636:\n",
            "      Successfully uninstalled tensorflow-2.8.2+zzzcolab20220527125636\n",
            "Successfully installed gast-0.4.0 keras-2.7.0 tensorflow-2.7.0+zzzcolab20220506150900 tensorflow-estimator-2.7.0\n"
          ]
        }
      ],
      "source": [
        "pip install tensorflow==2.7.0"
      ]
    },
    {
      "cell_type": "code",
      "source": [
        "pip install tensorflow-quantum --use-deprecated=legacy-resolver"
      ],
      "metadata": {
        "colab": {
          "base_uri": "https://localhost:8080/",
          "height": 1000
        },
        "id": "63rPs6he8VNO",
        "outputId": "3e3188ea-744f-496a-854a-3cc4d8f94bbd"
      },
      "execution_count": null,
      "outputs": [
        {
          "output_type": "stream",
          "name": "stdout",
          "text": [
            "Looking in indexes: https://pypi.org/simple, https://us-python.pkg.dev/colab-wheels/public/simple/\n",
            "Collecting tensorflow-quantum\n",
            "  Downloading tensorflow_quantum-0.6.1-cp37-cp37m-manylinux_2_12_x86_64.manylinux2010_x86_64.whl (10.5 MB)\n",
            "\u001b[K     |████████████████████████████████| 10.5 MB 28.7 MB/s \n",
            "\u001b[?25hRequirement already satisfied: protobuf==3.17.3 in /usr/local/lib/python3.7/dist-packages (from tensorflow-quantum) (3.17.3)\n",
            "Collecting cirq-google>=0.13.1\n",
            "  Downloading cirq_google-1.0.0-py3-none-any.whl (576 kB)\n",
            "\u001b[K     |████████████████████████████████| 576 kB 53.3 MB/s \n",
            "\u001b[?25hCollecting cirq-core>=0.13.1\n",
            "  Downloading cirq_core-1.0.0-py3-none-any.whl (1.8 MB)\n",
            "\u001b[K     |████████████████████████████████| 1.8 MB 52.9 MB/s \n",
            "\u001b[?25hCollecting google-auth==1.18.0\n",
            "  Downloading google_auth-1.18.0-py2.py3-none-any.whl (90 kB)\n",
            "\u001b[K     |████████████████████████████████| 90 kB 10.4 MB/s \n",
            "\u001b[?25hCollecting sympy==1.8\n",
            "  Downloading sympy-1.8-py3-none-any.whl (6.1 MB)\n",
            "\u001b[K     |████████████████████████████████| 6.1 MB 58.0 MB/s \n",
            "\u001b[?25hCollecting googleapis-common-protos==1.52.0\n",
            "  Downloading googleapis_common_protos-1.52.0-py2.py3-none-any.whl (100 kB)\n",
            "\u001b[K     |████████████████████████████████| 100 kB 10.3 MB/s \n",
            "\u001b[?25hCollecting google-api-core==1.21.0\n",
            "  Downloading google_api_core-1.21.0-py2.py3-none-any.whl (90 kB)\n",
            "\u001b[K     |████████████████████████████████| 90 kB 10.8 MB/s \n",
            "\u001b[?25hRequirement already satisfied: six>=1.9 in /usr/local/lib/python3.7/dist-packages (from protobuf==3.17.3->tensorflow-quantum) (1.15.0)\n",
            "Collecting proto-plus>=1.20.0\n",
            "  Downloading proto_plus-1.20.6-py3-none-any.whl (46 kB)\n",
            "\u001b[K     |████████████████████████████████| 46 kB 4.0 MB/s \n",
            "\u001b[?25hCollecting backports.cached-property~=1.0.1; python_version < \"3.8\"\n",
            "  Downloading backports.cached_property-1.0.2-py3-none-any.whl (6.1 kB)\n",
            "Requirement already satisfied: sortedcontainers~=2.0 in /usr/local/lib/python3.7/dist-packages (from cirq-core>=0.13.1->tensorflow-quantum) (2.4.0)\n",
            "Requirement already satisfied: matplotlib~=3.0 in /usr/local/lib/python3.7/dist-packages (from cirq-core>=0.13.1->tensorflow-quantum) (3.2.2)\n",
            "Requirement already satisfied: tqdm in /usr/local/lib/python3.7/dist-packages (from cirq-core>=0.13.1->tensorflow-quantum) (4.64.0)\n",
            "Requirement already satisfied: scipy in /usr/local/lib/python3.7/dist-packages (from cirq-core>=0.13.1->tensorflow-quantum) (1.7.3)\n",
            "Requirement already satisfied: typing-extensions in /usr/local/lib/python3.7/dist-packages (from cirq-core>=0.13.1->tensorflow-quantum) (4.1.1)\n",
            "Requirement already satisfied: pandas in /usr/local/lib/python3.7/dist-packages (from cirq-core>=0.13.1->tensorflow-quantum) (1.3.5)\n",
            "Requirement already satisfied: networkx~=2.4 in /usr/local/lib/python3.7/dist-packages (from cirq-core>=0.13.1->tensorflow-quantum) (2.6.3)\n",
            "Requirement already satisfied: numpy~=1.16 in /usr/local/lib/python3.7/dist-packages (from cirq-core>=0.13.1->tensorflow-quantum) (1.21.6)\n",
            "Collecting duet~=0.2.7\n",
            "  Downloading duet-0.2.7-py3-none-any.whl (28 kB)\n",
            "Requirement already satisfied: pyasn1-modules>=0.2.1 in /usr/local/lib/python3.7/dist-packages (from google-auth==1.18.0->tensorflow-quantum) (0.2.8)\n",
            "Requirement already satisfied: cachetools<5.0,>=2.0.0 in /usr/local/lib/python3.7/dist-packages (from google-auth==1.18.0->tensorflow-quantum) (4.2.4)\n",
            "Requirement already satisfied: rsa<5,>=3.1.4; python_version >= \"3\" in /usr/local/lib/python3.7/dist-packages (from google-auth==1.18.0->tensorflow-quantum) (4.8)\n",
            "Requirement already satisfied: setuptools>=40.3.0 in /usr/local/lib/python3.7/dist-packages (from google-auth==1.18.0->tensorflow-quantum) (57.4.0)\n",
            "Requirement already satisfied: mpmath>=0.19 in /usr/local/lib/python3.7/dist-packages (from sympy==1.8->tensorflow-quantum) (1.2.1)\n",
            "Requirement already satisfied: pytz in /usr/local/lib/python3.7/dist-packages (from google-api-core==1.21.0->tensorflow-quantum) (2022.1)\n",
            "Requirement already satisfied: requests<3.0.0dev,>=2.18.0 in /usr/local/lib/python3.7/dist-packages (from google-api-core==1.21.0->tensorflow-quantum) (2.23.0)\n",
            "Requirement already satisfied: pyparsing!=2.0.4,!=2.1.2,!=2.1.6,>=2.0.1 in /usr/local/lib/python3.7/dist-packages (from matplotlib~=3.0->cirq-core>=0.13.1->tensorflow-quantum) (3.0.9)\n",
            "Requirement already satisfied: kiwisolver>=1.0.1 in /usr/local/lib/python3.7/dist-packages (from matplotlib~=3.0->cirq-core>=0.13.1->tensorflow-quantum) (1.4.4)\n",
            "Requirement already satisfied: python-dateutil>=2.1 in /usr/local/lib/python3.7/dist-packages (from matplotlib~=3.0->cirq-core>=0.13.1->tensorflow-quantum) (2.8.2)\n",
            "Requirement already satisfied: cycler>=0.10 in /usr/local/lib/python3.7/dist-packages (from matplotlib~=3.0->cirq-core>=0.13.1->tensorflow-quantum) (0.11.0)\n",
            "Requirement already satisfied: pyasn1<0.5.0,>=0.4.6 in /usr/local/lib/python3.7/dist-packages (from pyasn1-modules>=0.2.1->google-auth==1.18.0->tensorflow-quantum) (0.4.8)\n",
            "Requirement already satisfied: certifi>=2017.4.17 in /usr/local/lib/python3.7/dist-packages (from requests<3.0.0dev,>=2.18.0->google-api-core==1.21.0->tensorflow-quantum) (2022.6.15)\n",
            "Requirement already satisfied: chardet<4,>=3.0.2 in /usr/local/lib/python3.7/dist-packages (from requests<3.0.0dev,>=2.18.0->google-api-core==1.21.0->tensorflow-quantum) (3.0.4)\n",
            "Requirement already satisfied: idna<3,>=2.5 in /usr/local/lib/python3.7/dist-packages (from requests<3.0.0dev,>=2.18.0->google-api-core==1.21.0->tensorflow-quantum) (2.10)\n",
            "Requirement already satisfied: urllib3!=1.25.0,!=1.25.1,<1.26,>=1.21.1 in /usr/local/lib/python3.7/dist-packages (from requests<3.0.0dev,>=2.18.0->google-api-core==1.21.0->tensorflow-quantum) (1.24.3)\n",
            "Installing collected packages: proto-plus, backports.cached-property, sympy, duet, cirq-core, google-auth, googleapis-common-protos, google-api-core, cirq-google, tensorflow-quantum\n",
            "  Attempting uninstall: sympy\n",
            "    Found existing installation: sympy 1.7.1\n",
            "    Uninstalling sympy-1.7.1:\n",
            "      Successfully uninstalled sympy-1.7.1\n",
            "  Attempting uninstall: google-auth\n",
            "    Found existing installation: google-auth 1.35.0\n",
            "    Uninstalling google-auth-1.35.0:\n",
            "      Successfully uninstalled google-auth-1.35.0\n",
            "  Attempting uninstall: googleapis-common-protos\n",
            "    Found existing installation: googleapis-common-protos 1.56.4\n",
            "    Uninstalling googleapis-common-protos-1.56.4:\n",
            "      Successfully uninstalled googleapis-common-protos-1.56.4\n",
            "  Attempting uninstall: google-api-core\n",
            "    Found existing installation: google-api-core 1.31.6\n",
            "    Uninstalling google-api-core-1.31.6:\n",
            "      Successfully uninstalled google-api-core-1.31.6\n",
            "\u001b[31mERROR: pip's legacy dependency resolver does not consider dependency conflicts when selecting packages. This behaviour is the source of the following dependency conflicts.\n",
            "pydata-google-auth 1.4.0 requires google-auth<3.0dev,>=1.25.0; python_version >= \"3.6\", but you'll have google-auth 1.18.0 which is incompatible.\n",
            "google-cloud-bigquery-storage 1.1.2 requires google-api-core[grpc]!=2.0.*,!=2.1.*,!=2.2.*,!=2.3.0,<3.0.0dev,>=1.31.5, but you'll have google-api-core 1.21.0 which is incompatible.\n",
            "proto-plus 1.20.6 requires protobuf<5.0.0dev,>=3.19.0, but you'll have protobuf 3.17.3 which is incompatible.\n",
            "duet 0.2.7 requires typing-extensions==3.10.0; python_version <= \"3.7\", but you'll have typing-extensions 4.1.1 which is incompatible.\u001b[0m\n",
            "Successfully installed backports.cached-property-1.0.2 cirq-core-1.0.0 cirq-google-1.0.0 duet-0.2.7 google-api-core-1.21.0 google-auth-1.18.0 googleapis-common-protos-1.52.0 proto-plus-1.20.6 sympy-1.8 tensorflow-quantum-0.6.1\n"
          ]
        },
        {
          "output_type": "display_data",
          "data": {
            "application/vnd.colab-display-data+json": {
              "pip_warning": {
                "packages": [
                  "google"
                ]
              }
            }
          },
          "metadata": {}
        }
      ]
    },
    {
      "cell_type": "code",
      "source": [
        "import numpy as np \n",
        "import sympy as sp\n",
        "import pandas as pd\n",
        "import tensorflow as tf\n",
        "import tensorflow_quantum as tfq\n",
        "import cirq\n",
        "from tensorflow_quantum.python.layers.circuit_construction import elementary\n",
        "from cirq.contrib.svg import SVGCircuit\n",
        "# from quple import ParameterisedCircuit\n",
        "# import quple\n",
        "\n",
        "%matplotlib inline\n",
        "import matplotlib.pyplot as plt"
      ],
      "metadata": {
        "id": "yzR7r-YZ8_Ke"
      },
      "execution_count": null,
      "outputs": []
    },
    {
      "cell_type": "code",
      "source": [
        "from google.colab import files\n",
        "upload_file = files.upload()"
      ],
      "metadata": {
        "colab": {
          "resources": {
            "http://localhost:8080/nbextensions/google.colab/files.js": {
              "data": "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",
              "ok": true,
              "headers": [
                [
                  "content-type",
                  "application/javascript"
                ]
              ],
              "status": 200,
              "status_text": ""
            }
          },
          "base_uri": "https://localhost:8080/",
          "height": 74
        },
        "id": "AVZ6vXv09K2t",
        "outputId": "23601e02-a729-4394-cc84-41f938a120a5"
      },
      "execution_count": null,
      "outputs": [
        {
          "output_type": "display_data",
          "data": {
            "text/plain": [
              "<IPython.core.display.HTML object>"
            ],
            "text/html": [
              "\n",
              "     <input type=\"file\" id=\"files-4398307d-da3b-4dac-8794-b85091408019\" name=\"files[]\" multiple disabled\n",
              "        style=\"border:none\" />\n",
              "     <output id=\"result-4398307d-da3b-4dac-8794-b85091408019\">\n",
              "      Upload widget is only available when the cell has been executed in the\n",
              "      current browser session. Please rerun this cell to enable.\n",
              "      </output>\n",
              "      <script src=\"/nbextensions/google.colab/files.js\"></script> "
            ]
          },
          "metadata": {}
        },
        {
          "output_type": "stream",
          "name": "stdout",
          "text": [
            "Saving QIS_EXAM_200Events.npz to QIS_EXAM_200Events.npz\n"
          ]
        }
      ]
    },
    {
      "cell_type": "code",
      "source": [
        "data = np.load('./QIS_EXAM_200Events.npz',allow_pickle = True)\n",
        "X_train = data['training_input'].item()\n",
        "X_test = data['test_input'].item()\n",
        "# print(X_train['0'])\n",
        "X_train_0 = X_train['0']\n",
        "X_test_0 = X_test['0']\n",
        "X_train_1 = X_train['1']\n",
        "X_test_1 = X_test['1']\n",
        "\n",
        "\n",
        "X_train = np.concatenate((X_train_0,X_train_1),axis=0)\n",
        "X_test = np.concatenate((X_test_0,X_test_1),axis=0)\n",
        "\n",
        "y_train = np.zeros((len(X_train),1))\n",
        "y_test = np.zeros((len(X_test),1))\n",
        "y_train[len(X_train_0):] = 1\n",
        "y_test[len(X_test_0):] = 1\n",
        "# print([d.T for d in [X_train_1, X_train_0] ])\n",
        "\n",
        "print(X_train_0[0].shape)"
      ],
      "metadata": {
        "colab": {
          "base_uri": "https://localhost:8080/"
        },
        "id": "9Ulv1uZz9TH_",
        "outputId": "7d1935d9-2518-42ab-f3fb-7de009c182d0"
      },
      "execution_count": null,
      "outputs": [
        {
          "output_type": "stream",
          "name": "stdout",
          "text": [
            "(5,)\n"
          ]
        }
      ]
    },
    {
      "cell_type": "code",
      "source": [
        "def make_plots(data, labels, binning=20, columns=3):\n",
        "    X = [d.T for d in data]\n",
        "    fig=plt.figure(figsize=(20, 10))\n",
        "    rows =  1 + (X[0].shape[0] // columns)\n",
        "    bins = np.histogram(np.hstack(tuple(X)), bins=binning)[1]\n",
        "    plt.subplots_adjust(hspace=0.3)\n",
        "    for i in range(X[0].shape[0]):\n",
        "        ax = fig.add_subplot(rows, columns, i+1)\n",
        "        ax.set_title('Variable {}'.format(i+1), fontsize=15)\n",
        "        for j, x in enumerate(X):\n",
        "            ax.hist(x[i], bins=bins, alpha=.5, label=labels[j])\n",
        "        ax.legend(loc='lower center', bbox_to_anchor=(0.5, -.2), ncol=len(data), fontsize=10)\n",
        "    plt.show()"
      ],
      "metadata": {
        "id": "Zjal2-0E9cz_"
      },
      "execution_count": null,
      "outputs": []
    },
    {
      "cell_type": "code",
      "source": [
        "make_plots([X_train_1, X_train_0], ['signal', 'background'])"
      ],
      "metadata": {
        "colab": {
          "base_uri": "https://localhost:8080/",
          "height": 635
        },
        "id": "LOnXdebs9f6L",
        "outputId": "b5bfe536-20d6-40bd-f64d-939d9ef3e3d7"
      },
      "execution_count": null,
      "outputs": [
        {
          "output_type": "display_data",
          "data": {
            "text/plain": [
              "<Figure size 1440x720 with 5 Axes>"
            ],
            "image/png": "[encoded data removed]"
          },
          "metadata": {
            "needs_background": "light"
          }
        }
      ]
    },
    {
      "cell_type": "code",
      "source": [
        "def one_qubit_unitary(qubits,symbols) -> cirq.Circuit :\n",
        "  circuit = cirq.Circuit()\n",
        "  # num_qubits = len(qubits)\n",
        "  # k=0\n",
        "  # for i in range(num_qubits):\n",
        "  #   circuit.append(cirq.rx(symbols[k])(qubits[i]))\n",
        "  #   k+=1\n",
        "  # for i in range(num_qubits):\n",
        "  #   circuit.append(cirq.ry(symbols[k])(qubits[i]))\n",
        "  #   k+=1\n",
        "  # for i in range(num_qubits):\n",
        "  #   circuit.append(cirq.rz(symbols[k])(qubits[i]))\n",
        "  #   k+=1\n",
        "  circuit.append(cirq.rx(symbols[0])(qubits))\n",
        "  circuit.append(cirq.ry(symbols[1])(qubits))\n",
        "  circuit.append(cirq.rz(symbols[2])(qubits))\n",
        "  return circuit"
      ],
      "metadata": {
        "id": "wfH1Bvd99i78"
      },
      "execution_count": null,
      "outputs": []
    },
    {
      "cell_type": "code",
      "source": [
        "def two_qubit_unitary(qubits,symbols):\n",
        "  circuit = cirq.Circuit()\n",
        "  num_qubits = len(qubits)\n",
        "  k=0\n",
        "  for i in range(1,num_qubits,2):\n",
        "    circuit.append(cirq.CNOT(qubits[i-1],qubits[i]))\n",
        "    circuit.append(cirq.rz(symbols[k])(qubits[i]))\n",
        "    circuit.append(cirq.CNOT(qubits[i-1],qubits[i]))\n",
        "    k+=1\n",
        "  \n",
        "  return circuit"
      ],
      "metadata": {
        "id": "MXnevtz69lgK"
      },
      "execution_count": null,
      "outputs": []
    },
    {
      "cell_type": "code",
      "source": [
        "def entanglement_unitary(qubits,num_qubits):\n",
        "  circuit = cirq.Circuit()\n",
        "  for i in range(num_qubits):\n",
        "    if i<num_qubits-1:\n",
        "      circuit += cirq.CZ(qubits[i],qubits[i+1])\n",
        "  if num_qubits!=2 : \n",
        "    circuit += cirq.CZ(qubits[num_qubits-1],qubits[0])\n",
        "  return circuit"
      ],
      "metadata": {
        "id": "tBR5oFq49oPK"
      },
      "execution_count": null,
      "outputs": []
    },
    {
      "cell_type": "code",
      "source": [
        "def generator_drc_circuit(qubits,features_size,use_entanglement=False, layers=1):\n",
        "  circuit = cirq.Circuit()\n",
        "  num_qubits = len(qubits)\n",
        "  if(features_size % 3 != 0):\n",
        "    padding = (3-(features_size % 3)) % 3\n",
        "  else:\n",
        "    padding = 0\n",
        "\n",
        "  bias_symbols = sp.symbols('theta_:'+str((features_size + padding)*layers*num_qubits)) \n",
        "  bias_symbols = np.asarray(bias_symbols).reshape(layers,num_qubits,features_size+padding) \n",
        "  features_symbols = sp.symbols('x_:'+str((features_size + padding)*layers*num_qubits))\n",
        "  features_symbols = np.asarray(features_symbols).reshape(layers,num_qubits,features_size+padding)\n",
        "  gaussian_noise_shape = num_qubits\n",
        "  # gaussian_noise_shape = num_qubits*layers\n",
        "  z = np.random.normal(loc=0,scale=np.pi/4,size=gaussian_noise_shape)\n",
        "  # z = np.clip(z,-0.9,0.9) \n",
        "\n",
        "  for layer in range(layers):\n",
        "    for gate in range(int(np.ceil(features_size/3))):\n",
        "      # circuit += [cirq.ry(z[layer:(layer+1)])(q) for q in qubits]\n",
        "      circuit += [cirq.ry(z[i])(q) for i,q in enumerate(qubits)]\n",
        "      circuit += [one_qubit_unitary(q, features_symbols[layer,i,gate*3:(gate+1)*3]) for i,q in enumerate(qubits)]\n",
        "      circuit += [one_qubit_unitary(q, bias_symbols[layer,i,gate*3:(gate+1)*3]) for i,q in enumerate(qubits)]\n",
        "      # circuit += [cirq.ry(z[layer:(layer+1)])(q) for q in qubits]\n",
        "    if num_qubits>1 and (layer != layers-1 or layers == 1) and use_entanglement :\n",
        "      circuit += entanglement_unitary(qubits,num_qubits)\n",
        "  \n",
        "  return circuit  "
      ],
      "metadata": {
        "id": "eeSHPFTk9q4P"
      },
      "execution_count": null,
      "outputs": []
    },
    {
      "cell_type": "code",
      "source": [
        "SVGCircuit(generator_drc_circuit(cirq.GridQubit.rect(1,2),5,use_entanglement = True, layers=3))"
      ],
      "metadata": {
        "colab": {
          "base_uri": "https://localhost:8080/",
          "height": 159
        },
        "id": "J8fuHOqrAEHk",
        "outputId": "051acb63-a707-4c31-e5b9-a1c26ea63513"
      },
      "execution_count": null,
      "outputs": [
        {
          "output_type": "stream",
          "name": "stderr",
          "text": [
            "findfont: Font family ['Arial'] not found. Falling back to DejaVu Sans.\n"
          ]
        },
        {
          "output_type": "execute_result",
          "data": {
            "text/plain": [
              "<cirq.contrib.svg.svg.SVGCircuit at 0x7f862a530450>"
            ],
            "image/svg+xml": "<svg xmlns=\"http://www.w3.org/2000/svg\" width=\"8126.560976562493\" height=\"100.0\"><line x1=\"34.7588671875\" x2=\"8096.560976562493\" y1=\"25.0\" y2=\"25.0\" stroke=\"#1967d2\" stroke-width=\"1\" /><line x1=\"34.7588671875\" x2=\"8096.560976562493\" y1=\"75.0\" y2=\"75.0\" stroke=\"#1967d2\" stroke-width=\"1\" /><line x1=\"2613.102460937501\" x2=\"2613.102460937501\" y1=\"25.0\" y2=\"75.0\" stroke=\"black\" stroke-width=\"3\" /><line x1=\"5364.831718749999\" x2=\"5364.831718749999\" y1=\"25.0\" y2=\"75.0\" stroke=\"black\" stroke-width=\"3\" /><rect x=\"10.0\" y=\"5.0\" width=\"49.517734375\" height=\"40\" stroke=\"black\" fill=\"white\" stroke-width=\"0\" /><text x=\"34.7588671875\" y=\"25.0\" dominant-baseline=\"middle\" text-anchor=\"middle\" font-size=\"14px\" font-family=\"Arial\">(0, 0): </text><rect x=\"10.0\" y=\"55.0\" width=\"49.517734375\" height=\"40\" stroke=\"black\" fill=\"white\" stroke-width=\"0\" /><text x=\"34.7588671875\" y=\"75.0\" dominant-baseline=\"middle\" text-anchor=\"middle\" font-size=\"14px\" font-family=\"Arial\">(0, 1): </text><rect x=\"79.517734375\" y=\"5.0\" width=\"89.1494921875\" height=\"40\" stroke=\"black\" fill=\"white\" stroke-width=\"1\" /><text x=\"124.09248046875001\" y=\"25.0\" dominant-baseline=\"middle\" text-anchor=\"middle\" font-size=\"14px\" font-family=\"Arial\">Ry(-0.162π)</text><rect x=\"79.517734375\" y=\"55.0\" width=\"89.1494921875\" height=\"40\" stroke=\"black\" fill=\"white\" stroke-width=\"1\" /><text x=\"124.09248046875001\" y=\"75.0\" dominant-baseline=\"middle\" text-anchor=\"middle\" font-size=\"14px\" font-family=\"Arial\">Ry(0.209π)</text><rect x=\"188.6672265625\" y=\"5.0\" width=\"60.5523046875\" height=\"40\" stroke=\"black\" fill=\"white\" stroke-width=\"1\" /><text x=\"218.94337890625\" y=\"25.0\" dominant-baseline=\"middle\" text-anchor=\"middle\" font-size=\"14px\" font-family=\"Arial\">Rx(x_0)</text><rect x=\"269.21953125\" y=\"5.0\" width=\"59.7823046875\" height=\"40\" stroke=\"black\" fill=\"white\" stroke-width=\"1\" /><text x=\"299.11068359374997\" y=\"25.0\" dominant-baseline=\"middle\" text-anchor=\"middle\" font-size=\"14px\" font-family=\"Arial\">Ry(x_1)</text><rect x=\"349.0018359375\" y=\"5.0\" width=\"59.61578125\" height=\"40\" stroke=\"black\" fill=\"white\" stroke-width=\"1\" /><text x=\"378.80972656250003\" y=\"25.0\" dominant-baseline=\"middle\" text-anchor=\"middle\" font-size=\"14px\" font-family=\"Arial\">Rz(x_2)</text><rect x=\"428.61761718749995\" y=\"55.0\" width=\"60.5523046875\" height=\"40\" stroke=\"black\" fill=\"white\" stroke-width=\"1\" /><text x=\"458.89376953125\" y=\"75.0\" dominant-baseline=\"middle\" text-anchor=\"middle\" font-size=\"14px\" font-family=\"Arial\">Rx(x_6)</text><rect x=\"509.16992187500006\" y=\"55.0\" width=\"59.7823046875\" height=\"40\" stroke=\"black\" fill=\"white\" stroke-width=\"1\" /><text x=\"539.06107421875\" y=\"75.0\" dominant-baseline=\"middle\" text-anchor=\"middle\" font-size=\"14px\" font-family=\"Arial\">Ry(x_7)</text><rect x=\"588.9522265625\" y=\"55.0\" width=\"59.61578125\" height=\"40\" stroke=\"black\" fill=\"white\" stroke-width=\"1\" /><text x=\"618.7601171875\" y=\"75.0\" dominant-baseline=\"middle\" text-anchor=\"middle\" font-size=\"14px\" font-family=\"Arial\">Rz(x_8)</text><rect x=\"668.5680078124999\" y=\"5.0\" width=\"89.31109375000001\" height=\"40\" stroke=\"black\" fill=\"white\" stroke-width=\"1\" /><text x=\"713.2235546874999\" y=\"25.0\" dominant-baseline=\"middle\" text-anchor=\"middle\" font-size=\"14px\" font-family=\"Arial\">Rx(theta_0)</text><rect x=\"777.8791015625\" y=\"5.0\" width=\"88.54109375\" height=\"40\" stroke=\"black\" fill=\"white\" stroke-width=\"1\" /><text x=\"822.1496484375\" y=\"25.0\" dominant-baseline=\"middle\" text-anchor=\"middle\" font-size=\"14px\" font-family=\"Arial\">Ry(theta_1)</text><rect x=\"886.4201953124999\" y=\"5.0\" width=\"88.37457031250001\" height=\"40\" stroke=\"black\" fill=\"white\" stroke-width=\"1\" /><text x=\"930.6074804687499\" y=\"25.0\" dominant-baseline=\"middle\" text-anchor=\"middle\" font-size=\"14px\" font-family=\"Arial\">Rz(theta_2)</text><rect x=\"994.7947656249999\" y=\"55.0\" width=\"89.31109375000001\" height=\"40\" stroke=\"black\" fill=\"white\" stroke-width=\"1\" /><text x=\"1039.4503124999999\" y=\"75.0\" dominant-baseline=\"middle\" text-anchor=\"middle\" font-size=\"14px\" font-family=\"Arial\">Rx(theta_6)</text><rect x=\"994.7947656249999\" y=\"5.0\" width=\"89.31109375000001\" height=\"40\" stroke=\"black\" fill=\"white\" stroke-width=\"1\" /><text x=\"1039.4503124999999\" y=\"25.0\" dominant-baseline=\"middle\" text-anchor=\"middle\" font-size=\"14px\" font-family=\"Arial\">Ry(-0.162π)</text><rect x=\"1104.105859375\" y=\"55.0\" width=\"88.54109375\" height=\"40\" stroke=\"black\" fill=\"white\" stroke-width=\"1\" /><text x=\"1148.37640625\" y=\"75.0\" dominant-baseline=\"middle\" text-anchor=\"middle\" font-size=\"14px\" font-family=\"Arial\">Ry(theta_7)</text><rect x=\"1212.646953125\" y=\"55.0\" width=\"88.37457031250001\" height=\"40\" stroke=\"black\" fill=\"white\" stroke-width=\"1\" /><text x=\"1256.83423828125\" y=\"75.0\" dominant-baseline=\"middle\" text-anchor=\"middle\" font-size=\"14px\" font-family=\"Arial\">Rz(theta_8)</text><rect x=\"1321.0215234375\" y=\"55.0\" width=\"84.097734375\" height=\"40\" stroke=\"black\" fill=\"white\" stroke-width=\"1\" /><text x=\"1363.070390625\" y=\"75.0\" dominant-baseline=\"middle\" text-anchor=\"middle\" font-size=\"14px\" font-family=\"Arial\">Ry(0.209π)</text><rect x=\"1425.1192578125\" y=\"5.0\" width=\"60.5523046875\" height=\"40\" stroke=\"black\" fill=\"white\" stroke-width=\"1\" /><text x=\"1455.3954101562501\" y=\"25.0\" dominant-baseline=\"middle\" text-anchor=\"middle\" font-size=\"14px\" font-family=\"Arial\">Rx(x_3)</text><rect x=\"1505.6715625000002\" y=\"5.0\" width=\"59.7823046875\" height=\"40\" stroke=\"black\" fill=\"white\" stroke-width=\"1\" /><text x=\"1535.5627148437502\" y=\"25.0\" dominant-baseline=\"middle\" text-anchor=\"middle\" font-size=\"14px\" font-family=\"Arial\">Ry(x_4)</text><rect x=\"1585.4538671875002\" y=\"5.0\" width=\"59.61578125\" height=\"40\" stroke=\"black\" fill=\"white\" stroke-width=\"1\" /><text x=\"1615.2617578125003\" y=\"25.0\" dominant-baseline=\"middle\" text-anchor=\"middle\" font-size=\"14px\" font-family=\"Arial\">Rz(x_5)</text><rect x=\"1665.0696484375003\" y=\"55.0\" width=\"60.5523046875\" height=\"40\" stroke=\"black\" fill=\"white\" stroke-width=\"1\" /><text x=\"1695.3458007812503\" y=\"75.0\" dominant-baseline=\"middle\" text-anchor=\"middle\" font-size=\"14px\" font-family=\"Arial\">Rx(x_9)</text><rect x=\"1745.6219531250003\" y=\"55.0\" width=\"68.68953125\" height=\"40\" stroke=\"black\" fill=\"white\" stroke-width=\"1\" /><text x=\"1779.9667187500004\" y=\"75.0\" dominant-baseline=\"middle\" text-anchor=\"middle\" font-size=\"14px\" font-family=\"Arial\">Ry(x_10)</text><rect x=\"1834.3114843750004\" y=\"55.0\" width=\"68.5230078125\" height=\"40\" stroke=\"black\" fill=\"white\" stroke-width=\"1\" /><text x=\"1868.5729882812504\" y=\"75.0\" dominant-baseline=\"middle\" text-anchor=\"middle\" font-size=\"14px\" font-family=\"Arial\">Rz(x_11)</text><rect x=\"1922.8344921875005\" y=\"5.0\" width=\"89.31109375000001\" height=\"40\" stroke=\"black\" fill=\"white\" stroke-width=\"1\" /><text x=\"1967.4900390625005\" y=\"25.0\" dominant-baseline=\"middle\" text-anchor=\"middle\" font-size=\"14px\" font-family=\"Arial\">Rx(theta_3)</text><rect x=\"2032.1455859375005\" y=\"5.0\" width=\"88.54109375\" height=\"40\" stroke=\"black\" fill=\"white\" stroke-width=\"1\" /><text x=\"2076.4161328125006\" y=\"25.0\" dominant-baseline=\"middle\" text-anchor=\"middle\" font-size=\"14px\" font-family=\"Arial\">Ry(theta_4)</text><rect x=\"2140.6866796875006\" y=\"5.0\" width=\"88.37457031250001\" height=\"40\" stroke=\"black\" fill=\"white\" stroke-width=\"1\" /><text x=\"2184.8739648437504\" y=\"25.0\" dominant-baseline=\"middle\" text-anchor=\"middle\" font-size=\"14px\" font-family=\"Arial\">Rz(theta_5)</text><rect x=\"2249.0612500000007\" y=\"55.0\" width=\"89.31109375000001\" height=\"40\" stroke=\"black\" fill=\"white\" stroke-width=\"1\" /><text x=\"2293.7167968750005\" y=\"75.0\" dominant-baseline=\"middle\" text-anchor=\"middle\" font-size=\"14px\" font-family=\"Arial\">Rx(theta_9)</text><rect x=\"2358.3723437500007\" y=\"55.0\" width=\"97.4483203125\" height=\"40\" stroke=\"black\" fill=\"white\" stroke-width=\"1\" /><text x=\"2407.0965039062507\" y=\"75.0\" dominant-baseline=\"middle\" text-anchor=\"middle\" font-size=\"14px\" font-family=\"Arial\">Ry(theta_10)</text><rect x=\"2475.820664062501\" y=\"55.0\" width=\"97.28179687500001\" height=\"40\" stroke=\"black\" fill=\"white\" stroke-width=\"1\" /><text x=\"2524.4615625000006\" y=\"75.0\" dominant-baseline=\"middle\" text-anchor=\"middle\" font-size=\"14px\" font-family=\"Arial\">Rz(theta_11)</text><circle cx=\"2613.102460937501\" cy=\"25.0\" r=\"10.0\" /><circle cx=\"2613.102460937501\" cy=\"75.0\" r=\"10.0\" /><rect x=\"2653.102460937501\" y=\"5.0\" width=\"89.1494921875\" height=\"40\" stroke=\"black\" fill=\"white\" stroke-width=\"1\" /><text x=\"2697.677207031251\" y=\"25.0\" dominant-baseline=\"middle\" text-anchor=\"middle\" font-size=\"14px\" font-family=\"Arial\">Ry(-0.162π)</text><rect x=\"2653.102460937501\" y=\"55.0\" width=\"89.1494921875\" height=\"40\" stroke=\"black\" fill=\"white\" stroke-width=\"1\" /><text x=\"2697.677207031251\" y=\"75.0\" dominant-baseline=\"middle\" text-anchor=\"middle\" font-size=\"14px\" font-family=\"Arial\">Ry(0.209π)</text><rect x=\"2762.251953125001\" y=\"5.0\" width=\"69.45953125\" height=\"40\" stroke=\"black\" fill=\"white\" stroke-width=\"1\" /><text x=\"2796.9817187500007\" y=\"25.0\" dominant-baseline=\"middle\" text-anchor=\"middle\" font-size=\"14px\" font-family=\"Arial\">Rx(x_12)</text><rect x=\"2851.711484375001\" y=\"5.0\" width=\"68.68953125\" height=\"40\" stroke=\"black\" fill=\"white\" stroke-width=\"1\" /><text x=\"2886.056250000001\" y=\"25.0\" dominant-baseline=\"middle\" text-anchor=\"middle\" font-size=\"14px\" font-family=\"Arial\">Ry(x_13)</text><rect x=\"2940.401015625001\" y=\"5.0\" width=\"68.5230078125\" height=\"40\" stroke=\"black\" fill=\"white\" stroke-width=\"1\" /><text x=\"2974.662519531251\" y=\"25.0\" dominant-baseline=\"middle\" text-anchor=\"middle\" font-size=\"14px\" font-family=\"Arial\">Rz(x_14)</text><rect x=\"3028.924023437501\" y=\"55.0\" width=\"69.45953125\" height=\"40\" stroke=\"black\" fill=\"white\" stroke-width=\"1\" /><text x=\"3063.653789062501\" y=\"75.0\" dominant-baseline=\"middle\" text-anchor=\"middle\" font-size=\"14px\" font-family=\"Arial\">Rx(x_18)</text><rect x=\"3118.383554687501\" y=\"55.0\" width=\"68.68953125\" height=\"40\" stroke=\"black\" fill=\"white\" stroke-width=\"1\" /><text x=\"3152.728320312501\" y=\"75.0\" dominant-baseline=\"middle\" text-anchor=\"middle\" font-size=\"14px\" font-family=\"Arial\">Ry(x_19)</text><rect x=\"3207.073085937501\" y=\"55.0\" width=\"68.5230078125\" height=\"40\" stroke=\"black\" fill=\"white\" stroke-width=\"1\" /><text x=\"3241.334589843751\" y=\"75.0\" dominant-baseline=\"middle\" text-anchor=\"middle\" font-size=\"14px\" font-family=\"Arial\">Rz(x_20)</text><rect x=\"3295.5960937500013\" y=\"5.0\" width=\"98.21832031250001\" height=\"40\" stroke=\"black\" fill=\"white\" stroke-width=\"1\" /><text x=\"3344.705253906251\" y=\"25.0\" dominant-baseline=\"middle\" text-anchor=\"middle\" font-size=\"14px\" font-family=\"Arial\">Rx(theta_12)</text><rect x=\"3413.8144140625013\" y=\"5.0\" width=\"97.4483203125\" height=\"40\" stroke=\"black\" fill=\"white\" stroke-width=\"1\" /><text x=\"3462.5385742187514\" y=\"25.0\" dominant-baseline=\"middle\" text-anchor=\"middle\" font-size=\"14px\" font-family=\"Arial\">Ry(theta_13)</text><rect x=\"3531.2627343750014\" y=\"5.0\" width=\"97.28179687500001\" height=\"40\" stroke=\"black\" fill=\"white\" stroke-width=\"1\" /><text x=\"3579.903632812501\" y=\"25.0\" dominant-baseline=\"middle\" text-anchor=\"middle\" font-size=\"14px\" font-family=\"Arial\">Rz(theta_14)</text><rect x=\"3648.5445312500015\" y=\"55.0\" width=\"98.21832031250001\" height=\"40\" stroke=\"black\" fill=\"white\" stroke-width=\"1\" /><text x=\"3697.6536914062513\" y=\"75.0\" dominant-baseline=\"middle\" text-anchor=\"middle\" font-size=\"14px\" font-family=\"Arial\">Rx(theta_18)</text><rect x=\"3648.5445312500015\" y=\"5.0\" width=\"98.21832031250001\" height=\"40\" stroke=\"black\" fill=\"white\" stroke-width=\"1\" /><text x=\"3697.6536914062513\" y=\"25.0\" dominant-baseline=\"middle\" text-anchor=\"middle\" font-size=\"14px\" font-family=\"Arial\">Ry(-0.162π)</text><rect x=\"3766.7628515625015\" y=\"55.0\" width=\"97.4483203125\" height=\"40\" stroke=\"black\" fill=\"white\" stroke-width=\"1\" /><text x=\"3815.4870117187515\" y=\"75.0\" dominant-baseline=\"middle\" text-anchor=\"middle\" font-size=\"14px\" font-family=\"Arial\">Ry(theta_19)</text><rect x=\"3884.2111718750016\" y=\"55.0\" width=\"97.28179687500001\" height=\"40\" stroke=\"black\" fill=\"white\" stroke-width=\"1\" /><text x=\"3932.8520703125014\" y=\"75.0\" dominant-baseline=\"middle\" text-anchor=\"middle\" font-size=\"14px\" font-family=\"Arial\">Rz(theta_20)</text><rect x=\"4001.4929687500016\" y=\"55.0\" width=\"84.097734375\" height=\"40\" stroke=\"black\" fill=\"white\" stroke-width=\"1\" /><text x=\"4043.5418359375017\" y=\"75.0\" dominant-baseline=\"middle\" text-anchor=\"middle\" font-size=\"14px\" font-family=\"Arial\">Ry(0.209π)</text><rect x=\"4105.590703125002\" y=\"5.0\" width=\"69.45953125\" height=\"40\" stroke=\"black\" fill=\"white\" stroke-width=\"1\" /><text x=\"4140.320468750002\" y=\"25.0\" dominant-baseline=\"middle\" text-anchor=\"middle\" font-size=\"14px\" font-family=\"Arial\">Rx(x_15)</text><rect x=\"4195.050234375001\" y=\"5.0\" width=\"68.68953125\" height=\"40\" stroke=\"black\" fill=\"white\" stroke-width=\"1\" /><text x=\"4229.395000000001\" y=\"25.0\" dominant-baseline=\"middle\" text-anchor=\"middle\" font-size=\"14px\" font-family=\"Arial\">Ry(x_16)</text><rect x=\"4283.739765625001\" y=\"5.0\" width=\"68.5230078125\" height=\"40\" stroke=\"black\" fill=\"white\" stroke-width=\"1\" /><text x=\"4318.001269531252\" y=\"25.0\" dominant-baseline=\"middle\" text-anchor=\"middle\" font-size=\"14px\" font-family=\"Arial\">Rz(x_17)</text><rect x=\"4372.262773437501\" y=\"55.0\" width=\"69.45953125\" height=\"40\" stroke=\"black\" fill=\"white\" stroke-width=\"1\" /><text x=\"4406.992539062501\" y=\"75.0\" dominant-baseline=\"middle\" text-anchor=\"middle\" font-size=\"14px\" font-family=\"Arial\">Rx(x_21)</text><rect x=\"4461.722304687501\" y=\"55.0\" width=\"68.68953125\" height=\"40\" stroke=\"black\" fill=\"white\" stroke-width=\"1\" /><text x=\"4496.067070312501\" y=\"75.0\" dominant-baseline=\"middle\" text-anchor=\"middle\" font-size=\"14px\" font-family=\"Arial\">Ry(x_22)</text><rect x=\"4550.411835937501\" y=\"55.0\" width=\"68.5230078125\" height=\"40\" stroke=\"black\" fill=\"white\" stroke-width=\"1\" /><text x=\"4584.673339843751\" y=\"75.0\" dominant-baseline=\"middle\" text-anchor=\"middle\" font-size=\"14px\" font-family=\"Arial\">Rz(x_23)</text><rect x=\"4638.93484375\" y=\"5.0\" width=\"98.21832031250001\" height=\"40\" stroke=\"black\" fill=\"white\" stroke-width=\"1\" /><text x=\"4688.0440039062505\" y=\"25.0\" dominant-baseline=\"middle\" text-anchor=\"middle\" font-size=\"14px\" font-family=\"Arial\">Rx(theta_15)</text><rect x=\"4757.1531640625\" y=\"5.0\" width=\"97.4483203125\" height=\"40\" stroke=\"black\" fill=\"white\" stroke-width=\"1\" /><text x=\"4805.87732421875\" y=\"25.0\" dominant-baseline=\"middle\" text-anchor=\"middle\" font-size=\"14px\" font-family=\"Arial\">Ry(theta_16)</text><rect x=\"4874.601484375\" y=\"5.0\" width=\"97.28179687500001\" height=\"40\" stroke=\"black\" fill=\"white\" stroke-width=\"1\" /><text x=\"4923.2423828125\" y=\"25.0\" dominant-baseline=\"middle\" text-anchor=\"middle\" font-size=\"14px\" font-family=\"Arial\">Rz(theta_17)</text><rect x=\"4991.8832812499995\" y=\"55.0\" width=\"98.21832031250001\" height=\"40\" stroke=\"black\" fill=\"white\" stroke-width=\"1\" /><text x=\"5040.99244140625\" y=\"75.0\" dominant-baseline=\"middle\" text-anchor=\"middle\" font-size=\"14px\" font-family=\"Arial\">Rx(theta_21)</text><rect x=\"5110.101601562499\" y=\"55.0\" width=\"97.4483203125\" height=\"40\" stroke=\"black\" fill=\"white\" stroke-width=\"1\" /><text x=\"5158.825761718749\" y=\"75.0\" dominant-baseline=\"middle\" text-anchor=\"middle\" font-size=\"14px\" font-family=\"Arial\">Ry(theta_22)</text><rect x=\"5227.549921874999\" y=\"55.0\" width=\"97.28179687500001\" height=\"40\" stroke=\"black\" fill=\"white\" stroke-width=\"1\" /><text x=\"5276.190820312499\" y=\"75.0\" dominant-baseline=\"middle\" text-anchor=\"middle\" font-size=\"14px\" font-family=\"Arial\">Rz(theta_23)</text><circle cx=\"5364.831718749999\" cy=\"25.0\" r=\"10.0\" /><circle cx=\"5364.831718749999\" cy=\"75.0\" r=\"10.0\" /><rect x=\"5404.831718749999\" y=\"5.0\" width=\"89.1494921875\" height=\"40\" stroke=\"black\" fill=\"white\" stroke-width=\"1\" /><text x=\"5449.406464843749\" y=\"25.0\" dominant-baseline=\"middle\" text-anchor=\"middle\" font-size=\"14px\" font-family=\"Arial\">Ry(-0.162π)</text><rect x=\"5404.831718749999\" y=\"55.0\" width=\"89.1494921875\" height=\"40\" stroke=\"black\" fill=\"white\" stroke-width=\"1\" /><text x=\"5449.406464843749\" y=\"75.0\" dominant-baseline=\"middle\" text-anchor=\"middle\" font-size=\"14px\" font-family=\"Arial\">Ry(0.209π)</text><rect x=\"5513.981210937499\" y=\"5.0\" width=\"69.45953125\" height=\"40\" stroke=\"black\" fill=\"white\" stroke-width=\"1\" /><text x=\"5548.710976562499\" y=\"25.0\" dominant-baseline=\"middle\" text-anchor=\"middle\" font-size=\"14px\" font-family=\"Arial\">Rx(x_24)</text><rect x=\"5603.4407421874985\" y=\"5.0\" width=\"68.68953125\" height=\"40\" stroke=\"black\" fill=\"white\" stroke-width=\"1\" /><text x=\"5637.7855078124985\" y=\"25.0\" dominant-baseline=\"middle\" text-anchor=\"middle\" font-size=\"14px\" font-family=\"Arial\">Ry(x_25)</text><rect x=\"5692.1302734374985\" y=\"5.0\" width=\"68.5230078125\" height=\"40\" stroke=\"black\" fill=\"white\" stroke-width=\"1\" /><text x=\"5726.391777343749\" y=\"25.0\" dominant-baseline=\"middle\" text-anchor=\"middle\" font-size=\"14px\" font-family=\"Arial\">Rz(x_26)</text><rect x=\"5780.653281249998\" y=\"55.0\" width=\"69.45953125\" height=\"40\" stroke=\"black\" fill=\"white\" stroke-width=\"1\" /><text x=\"5815.383046874998\" y=\"75.0\" dominant-baseline=\"middle\" text-anchor=\"middle\" font-size=\"14px\" font-family=\"Arial\">Rx(x_30)</text><rect x=\"5870.112812499998\" y=\"55.0\" width=\"68.68953125\" height=\"40\" stroke=\"black\" fill=\"white\" stroke-width=\"1\" /><text x=\"5904.457578124998\" y=\"75.0\" dominant-baseline=\"middle\" text-anchor=\"middle\" font-size=\"14px\" font-family=\"Arial\">Ry(x_31)</text><rect x=\"5958.802343749998\" y=\"55.0\" width=\"68.5230078125\" height=\"40\" stroke=\"black\" fill=\"white\" stroke-width=\"1\" /><text x=\"5993.063847656248\" y=\"75.0\" dominant-baseline=\"middle\" text-anchor=\"middle\" font-size=\"14px\" font-family=\"Arial\">Rz(x_32)</text><rect x=\"6047.325351562497\" y=\"5.0\" width=\"98.21832031250001\" height=\"40\" stroke=\"black\" fill=\"white\" stroke-width=\"1\" /><text x=\"6096.434511718748\" y=\"25.0\" dominant-baseline=\"middle\" text-anchor=\"middle\" font-size=\"14px\" font-family=\"Arial\">Rx(theta_24)</text><rect x=\"6165.543671874997\" y=\"5.0\" width=\"97.4483203125\" height=\"40\" stroke=\"black\" fill=\"white\" stroke-width=\"1\" /><text x=\"6214.267832031247\" y=\"25.0\" dominant-baseline=\"middle\" text-anchor=\"middle\" font-size=\"14px\" font-family=\"Arial\">Ry(theta_25)</text><rect x=\"6282.991992187497\" y=\"5.0\" width=\"97.28179687500001\" height=\"40\" stroke=\"black\" fill=\"white\" stroke-width=\"1\" /><text x=\"6331.632890624997\" y=\"25.0\" dominant-baseline=\"middle\" text-anchor=\"middle\" font-size=\"14px\" font-family=\"Arial\">Rz(theta_26)</text><rect x=\"6400.273789062497\" y=\"55.0\" width=\"98.21832031250001\" height=\"40\" stroke=\"black\" fill=\"white\" stroke-width=\"1\" /><text x=\"6449.382949218747\" y=\"75.0\" dominant-baseline=\"middle\" text-anchor=\"middle\" font-size=\"14px\" font-family=\"Arial\">Rx(theta_30)</text><rect x=\"6400.273789062497\" y=\"5.0\" width=\"98.21832031250001\" height=\"40\" stroke=\"black\" fill=\"white\" stroke-width=\"1\" /><text x=\"6449.382949218747\" y=\"25.0\" dominant-baseline=\"middle\" text-anchor=\"middle\" font-size=\"14px\" font-family=\"Arial\">Ry(-0.162π)</text><rect x=\"6518.492109374996\" y=\"55.0\" width=\"97.4483203125\" height=\"40\" stroke=\"black\" fill=\"white\" stroke-width=\"1\" /><text x=\"6567.216269531246\" y=\"75.0\" dominant-baseline=\"middle\" text-anchor=\"middle\" font-size=\"14px\" font-family=\"Arial\">Ry(theta_31)</text><rect x=\"6635.940429687496\" y=\"55.0\" width=\"97.28179687500001\" height=\"40\" stroke=\"black\" fill=\"white\" stroke-width=\"1\" /><text x=\"6684.581328124997\" y=\"75.0\" dominant-baseline=\"middle\" text-anchor=\"middle\" font-size=\"14px\" font-family=\"Arial\">Rz(theta_32)</text><rect x=\"6753.222226562496\" y=\"55.0\" width=\"84.097734375\" height=\"40\" stroke=\"black\" fill=\"white\" stroke-width=\"1\" /><text x=\"6795.271093749996\" y=\"75.0\" dominant-baseline=\"middle\" text-anchor=\"middle\" font-size=\"14px\" font-family=\"Arial\">Ry(0.209π)</text><rect x=\"6857.319960937496\" y=\"5.0\" width=\"69.45953125\" height=\"40\" stroke=\"black\" fill=\"white\" stroke-width=\"1\" /><text x=\"6892.049726562496\" y=\"25.0\" dominant-baseline=\"middle\" text-anchor=\"middle\" font-size=\"14px\" font-family=\"Arial\">Rx(x_27)</text><rect x=\"6946.779492187496\" y=\"5.0\" width=\"68.68953125\" height=\"40\" stroke=\"black\" fill=\"white\" stroke-width=\"1\" /><text x=\"6981.124257812496\" y=\"25.0\" dominant-baseline=\"middle\" text-anchor=\"middle\" font-size=\"14px\" font-family=\"Arial\">Ry(x_28)</text><rect x=\"7035.469023437496\" y=\"5.0\" width=\"68.5230078125\" height=\"40\" stroke=\"black\" fill=\"white\" stroke-width=\"1\" /><text x=\"7069.730527343746\" y=\"25.0\" dominant-baseline=\"middle\" text-anchor=\"middle\" font-size=\"14px\" font-family=\"Arial\">Rz(x_29)</text><rect x=\"7123.992031249995\" y=\"55.0\" width=\"69.45953125\" height=\"40\" stroke=\"black\" fill=\"white\" stroke-width=\"1\" /><text x=\"7158.721796874996\" y=\"75.0\" dominant-baseline=\"middle\" text-anchor=\"middle\" font-size=\"14px\" font-family=\"Arial\">Rx(x_33)</text><rect x=\"7213.451562499995\" y=\"55.0\" width=\"68.68953125\" height=\"40\" stroke=\"black\" fill=\"white\" stroke-width=\"1\" /><text x=\"7247.796328124995\" y=\"75.0\" dominant-baseline=\"middle\" text-anchor=\"middle\" font-size=\"14px\" font-family=\"Arial\">Ry(x_34)</text><rect x=\"7302.141093749995\" y=\"55.0\" width=\"68.5230078125\" height=\"40\" stroke=\"black\" fill=\"white\" stroke-width=\"1\" /><text x=\"7336.402597656245\" y=\"75.0\" dominant-baseline=\"middle\" text-anchor=\"middle\" font-size=\"14px\" font-family=\"Arial\">Rz(x_35)</text><rect x=\"7390.664101562495\" y=\"5.0\" width=\"98.21832031250001\" height=\"40\" stroke=\"black\" fill=\"white\" stroke-width=\"1\" /><text x=\"7439.773261718745\" y=\"25.0\" dominant-baseline=\"middle\" text-anchor=\"middle\" font-size=\"14px\" font-family=\"Arial\">Rx(theta_27)</text><rect x=\"7508.882421874994\" y=\"5.0\" width=\"97.4483203125\" height=\"40\" stroke=\"black\" fill=\"white\" stroke-width=\"1\" /><text x=\"7557.606582031244\" y=\"25.0\" dominant-baseline=\"middle\" text-anchor=\"middle\" font-size=\"14px\" font-family=\"Arial\">Ry(theta_28)</text><rect x=\"7626.330742187494\" y=\"5.0\" width=\"97.28179687500001\" height=\"40\" stroke=\"black\" fill=\"white\" stroke-width=\"1\" /><text x=\"7674.9716406249945\" y=\"25.0\" dominant-baseline=\"middle\" text-anchor=\"middle\" font-size=\"14px\" font-family=\"Arial\">Rz(theta_29)</text><rect x=\"7743.612539062494\" y=\"55.0\" width=\"98.21832031250001\" height=\"40\" stroke=\"black\" fill=\"white\" stroke-width=\"1\" /><text x=\"7792.721699218744\" y=\"75.0\" dominant-baseline=\"middle\" text-anchor=\"middle\" font-size=\"14px\" font-family=\"Arial\">Rx(theta_33)</text><rect x=\"7861.830859374993\" y=\"55.0\" width=\"97.4483203125\" height=\"40\" stroke=\"black\" fill=\"white\" stroke-width=\"1\" /><text x=\"7910.5550195312435\" y=\"75.0\" dominant-baseline=\"middle\" text-anchor=\"middle\" font-size=\"14px\" font-family=\"Arial\">Ry(theta_34)</text><rect x=\"7979.2791796874935\" y=\"55.0\" width=\"97.28179687500001\" height=\"40\" stroke=\"black\" fill=\"white\" stroke-width=\"1\" /><text x=\"8027.920078124994\" y=\"75.0\" dominant-baseline=\"middle\" text-anchor=\"middle\" font-size=\"14px\" font-family=\"Arial\">Rz(theta_35)</text></svg>"
          },
          "metadata": {},
          "execution_count": 11
        }
      ]
    },
    {
      "cell_type": "code",
      "source": [
        "def discriminator_drc_circuit(qubits,features_size,use_entanglement=False, layers=1):\n",
        "  circuit = cirq.Circuit()\n",
        "  num_qubits = len(qubits)\n",
        "  if(features_size % 3 != 0):\n",
        "    padding = (3-(features_size % 3)) % 3\n",
        "  else:\n",
        "    padding = 0\n",
        "\n",
        "  bias_symbols = sp.symbols('theta_:'+str((features_size + padding)*layers*num_qubits)) \n",
        "  bias_symbols = np.asarray(bias_symbols).reshape(layers,num_qubits,features_size+padding) \n",
        "  features_symbols = sp.symbols('x_:'+str((features_size + padding)*layers*num_qubits))\n",
        "  features_symbols = np.asarray(features_symbols).reshape(layers,num_qubits,features_size+padding)\n",
        "  # gaussian_noise_shape = num_qubits\n",
        "  gaussian_noise_shape = num_qubits*layers\n",
        "  z = np.random.normal(loc=0,scale=np.pi/4,size=gaussian_noise_shape)\n",
        "  # z = np.clip(z,0,1)\n",
        "  \n",
        "  for layer in range(layers):\n",
        "    for gate in range(int(np.ceil(features_size/3))):\n",
        "      # circuit += [cirq.ry(z[layer:(layer+1)])(q) for q in qubits]\n",
        "      circuit += [cirq.ry(z[i])(q) for i,q in enumerate(qubits)]\n",
        "      circuit += [one_qubit_unitary(q, features_symbols[layer,i,gate*3:(gate+1)*3]) for i,q in enumerate(qubits)]\n",
        "      circuit += [one_qubit_unitary(q, bias_symbols[layer,i,gate*3:(gate+1)*3]) for i,q in enumerate(qubits)]\n",
        "      # circuit += [cirq.ry(z[layer:(layer+1)])(q) for q in qubits]\n",
        "    if num_qubits>1 and (layer != layers-1 or layers == 1) and use_entanglement :\n",
        "      circuit += entanglement_unitary(qubits,num_qubits)\n",
        "  \n",
        "  return circuit, list(bias_symbols.flat), list(features_symbols.flat)"
      ],
      "metadata": {
        "id": "f6uSjLAtAPO-"
      },
      "execution_count": null,
      "outputs": []
    },
    {
      "cell_type": "code",
      "source": [
        "class ReUploadingPQC(tf.keras.layers.Layer):\n",
        "    def __init__(self, n_qubits, n_layers,features_size , use_entanglement=True, name=\"re-uploading_PQC\"):     #filter_size\n",
        "        super(ReUploadingPQC, self).__init__(name=name)\n",
        "        self.n_layers = n_layers\n",
        "        self.n_qubits = n_qubits\n",
        "        # self.filter_size = filter_size\n",
        "        self.features_size = features_size\n",
        "        self.use_entanglement = use_entanglement\n",
        "        self.main_name = name\n",
        "\n",
        "        self.qubits = cirq.GridQubit.rect(1, n_qubits)\n",
        "        self.observables = [cirq.Z(self.qubits[-1])]  # Measure only the last qubit\n",
        "\n",
        "        # generate the data re-uploading circuit\n",
        "        # circuit, bias_symbols, input_symbols = generate_circuit(self.qubits, self.n_layers, self.filter_size, use_entanglement=self.use_entanglement)\n",
        "        circuit, bias_symbols, input_symbols = discriminator_drc_circuit(qubits=self.qubits,features_size = self.features_size,layers= self.n_layers, use_entanglement=self.use_entanglement)\n",
        "\n",
        "        # Define explicit symbol order.\n",
        "        symbols = [str(symb) for symb in bias_symbols + input_symbols]\n",
        "        self.indices = tf.constant([sorted(symbols).index(a) for a in symbols])\n",
        "\n",
        "        # thetas (bias) initialization\n",
        "        thetas_init = tf.random_uniform_initializer(minval=-1, maxval=1)\n",
        "        self.thetas = tf.Variable(\n",
        "            initial_value=thetas_init(shape=(1, len(bias_symbols)), dtype=\"float32\"),\n",
        "            trainable=True, name=self.main_name + \"-thetas\"\n",
        "        )\n",
        "        \n",
        "        # weights initialization\n",
        "        w_init = tf.random_uniform_initializer(minval=-1, maxval=1)\n",
        "        self.w = tf.Variable(\n",
        "            initial_value=w_init(shape=(1, len(input_symbols)), dtype=\"float32\"),\n",
        "            trainable=True, name=self.main_name + \"-weights\"\n",
        "        )\n",
        "\n",
        "        # dummy inputs initialization\n",
        "        # using the empty circuits as hacks for ControlledPQC\n",
        "        self.empty_circuit = tfq.convert_to_tensor([cirq.Circuit()])\n",
        "\n",
        "        self.computation_layer = tfq.layers.ControlledPQC(circuit, self.observables)\n",
        "    \n",
        "    def get_config(self):\n",
        "\n",
        "        config = super().get_config().copy()\n",
        "        config.update({\n",
        "            'n_qubits': self.n_qubits,\n",
        "            'n_layers': self.n_layers,\n",
        "            'features_size': self.features_size,\n",
        "            'use_entanglement': self.use_entanglement,\n",
        "            'name': self.main_name,\n",
        "        })\n",
        "        return config\n",
        "    \n",
        "    def call(self, inputs):\n",
        "        batch_size = tf.shape(inputs)[0]\n",
        "\n",
        "        # Flatten inputs (from 2D images to 1D array)\n",
        "        # inputs_flattened = tf.keras.layers.Flatten()(inputs)\n",
        "\n",
        "        # Pad the inputs if it is not a multiple of 3\n",
        "        # padding = 3 - inputs_flattened.shape[1]%3\n",
        "        # padding = 3 - inputs.shape[0]%3\n",
        "        padding = 3 - inputs.shape[1]%3\n",
        "        # padding = 1\n",
        "        if padding%3 != 0:\n",
        "            # inputs_flattened = tf.pad(inputs_flattened, tf.constant([[0, 0,], [0, padding]]))\n",
        "            inputs = tf.pad(inputs,tf.constant([[0,0],[0,padding]]),mode=\"CONSTANT\")\n",
        "        # Repeat the inputs for every layer and qubit\n",
        "        # inputs_flattened = tf.tile(inputs_flattened, tf.constant([1,self.n_layers*self.n_qubits]))\n",
        "        total_inputs = tf.tile(inputs, multiples=[1,self.n_layers*self.n_qubits])\n",
        "        # total_inputs = tf.tile(inputs, multiples=[1,self.n_layers])\n",
        "        # Weight the inputs\n",
        "        # inputs_weighted = tf.math.multiply(self.w, inputs_flattened, name=self.main_name + '-weighted_inputs')  \n",
        "        inputs_weighted = tf.math.multiply(self.w, total_inputs, name=self.main_name + '-weighted_inputs')\n",
        "        # Duplicate parameters and dummy inputs\n",
        "        # One for every batch\n",
        "        thetas_batch = tf.tile(self.thetas, multiples=[batch_size, 1], name=self.main_name + '-tiled_up_thetas')    \n",
        "        empty_circuit_batch = tf.repeat(self.empty_circuit, repeats=batch_size, name=self.main_name + '-tiled_up_empty_circuits')\n",
        "\n",
        "        joined_params = tf.concat([thetas_batch, inputs_weighted], axis=-1)               \n",
        "        # joined_params = tf.concat([self.thetas, inputs_weighted], axis=-1)\n",
        "        joined_params = tf.gather(joined_params, self.indices, axis=-1, name=self.main_name + '-joined_params')\n",
        "        \n",
        "        return self.computation_layer([empty_circuit_batch, joined_params])\n",
        "        # return self.computation_layer([self.empty_circuit, joined_params])"
      ],
      "metadata": {
        "id": "SQCWkGIaHSRh"
      },
      "execution_count": null,
      "outputs": []
    },
    {
      "cell_type": "code",
      "source": [
        "def discriminator_layer(n_qubits,features_size,inputs,use_entanglement=False,layers=1,name=\"discriminator_drc_layer\"):\n",
        "  # inputs_tensor = tf.keras.Input(shape=(features_size,),dtype=tf.dtypes.float32,name=\"inputs\")\n",
        "  # drc = data_reuploading(qubits,features_size,use_entanglement=True,layers=layers,inputs=inputs_tensor)\n",
        "  # model = tf.keras.Sequential()\n",
        "  # model.add(tf.keras.layers.Input(shape=(5),name=\"input\"))\n",
        "  # model.add(data_reuploading(qubits,features_size,use_entanglement=True,layers=layers,inputs=))\n",
        "  # model = tf.keras.Model(inputs=[inputs_tensor],outputs=[drc])\n",
        "  # return model\n",
        "  pqc = ReUploadingPQC(n_qubits=n_qubits,features_size=features_size,use_entanglement=use_entanglement,n_layers=layers,name= name)\n",
        "  computations = pqc(inputs)\n",
        "  return computations"
      ],
      "metadata": {
        "id": "1pWYOHayHphJ"
      },
      "execution_count": null,
      "outputs": []
    },
    {
      "cell_type": "code",
      "source": [
        "qubits = 2\n",
        "features=len(X_train_0[0])\n",
        "layers= 2\n",
        "inputs_tensor = tf.keras.Input(shape=(features,),dtype = tf.dtypes.float32,name='input')\n",
        "d_layer = discriminator_layer(n_qubits=qubits,features_size=features,inputs=inputs_tensor, use_entanglement=True,layers=layers)\n",
        "output_layer = tf.keras.layers.Dense(1, activation=tf.keras.layers.LeakyReLU(alpha=0.01))\n",
        "outputs = output_layer(d_layer)\n",
        "# discriminator_model = tf.keras.Model(inputs=[inputs_tensor], outputs=d_layer)\n",
        "discriminator_model = tf.keras.Model(inputs=[inputs_tensor], outputs=outputs)"
      ],
      "metadata": {
        "id": "iATRXoTlREBn"
      },
      "execution_count": null,
      "outputs": []
    },
    {
      "cell_type": "code",
      "source": [
        "discriminator_model.summary()"
      ],
      "metadata": {
        "id": "xsDOSDozRHcu",
        "colab": {
          "base_uri": "https://localhost:8080/"
        },
        "outputId": "84f3e2ad-c3a3-4586-a3e6-efcbb4632a20"
      },
      "execution_count": null,
      "outputs": [
        {
          "output_type": "stream",
          "name": "stdout",
          "text": [
            "Model: \"model\"\n",
            "_________________________________________________________________\n",
            " Layer (type)                Output Shape              Param #   \n",
            "=================================================================\n",
            " input (InputLayer)          [(None, 5)]               0         \n",
            "                                                                 \n",
            " discriminator_drc_layer (Re  (None, 1)                48        \n",
            " UploadingPQC)                                                   \n",
            "                                                                 \n",
            " dense (Dense)               (None, 1)                 2         \n",
            "                                                                 \n",
            "=================================================================\n",
            "Total params: 50\n",
            "Trainable params: 50\n",
            "Non-trainable params: 0\n",
            "_________________________________________________________________\n"
          ]
        }
      ]
    },
    {
      "cell_type": "code",
      "source": [
        "def one_qubit_unitary_pqc(qubits,symbols) -> cirq.Circuit :\n",
        "  num_qubits = len(qubits)\n",
        "  circuit = cirq.Circuit()\n",
        "  k=0\n",
        "  for i in range(num_qubits):\n",
        "    circuit.append(cirq.rx(symbols[k])(qubits[i]))\n",
        "    k+=1\n",
        "  for i in range(num_qubits):\n",
        "    circuit.append(cirq.rz(symbols[k])(qubits[i]))\n",
        "    k+=1\n",
        "  \n",
        "  return circuit"
      ],
      "metadata": {
        "id": "pLuue25xrUKY"
      },
      "execution_count": null,
      "outputs": []
    },
    {
      "cell_type": "code",
      "source": [
        "def two_qubit_unitary_pqc(qubits,symbols):\n",
        "  num_qubits = len(qubits)\n",
        "  circuit = cirq.Circuit()\n",
        "  k=0\n",
        "  for i in range(1,num_qubits,2):\n",
        "    circuit.append(cirq.CNOT(qubits[i-1],qubits[i]))\n",
        "    circuit.append(cirq.rz(symbols[k])(qubits[i]))\n",
        "    circuit.append(cirq.CNOT(qubits[i-1],qubits[i]))\n",
        "    k+=1\n",
        "  \n",
        "  for i in range(2,num_qubits,2):\n",
        "    circuit.append(cirq.CNOT(qubits[i-1],qubits[i]))\n",
        "    circuit.append(cirq.rz(symbols[k])(qubits[i]))\n",
        "    circuit.append(cirq.CNOT(qubits[i-1],qubits[i]))\n",
        "    k+=1\n",
        "  return circuit"
      ],
      "metadata": {
        "id": "HpAVZ6XDrZqs"
      },
      "execution_count": null,
      "outputs": []
    },
    {
      "cell_type": "code",
      "source": [
        "def generator_pqc_circuit(qubits,use_entanglement=True,layers=1):\n",
        "  circuit = cirq.Circuit()\n",
        "  num_qubits = len(qubits)\n",
        "  # num_data_qubits = int(num_qubits/2)\n",
        "  symbols = sp.symbols('G_theta1_:'+str(2*layers*num_qubits)) + sp.symbols('G_theta2_:'+str(layers*(num_qubits-1)))\n",
        "  symbols_one = symbols[:2*layers*num_qubits]\n",
        "  symbols_two = symbols[2*layers*num_qubits:]\n",
        "  # random_rotations = np.random.normal(loc=0.0,scale=np.pi/4,size=num_qubits)\n",
        "  # for i in range(num_qubits):\n",
        "  #   circuit.append(cirq.ry(random_rotations[i])(qubits[i]))\n",
        "  # k=0\n",
        "  for l in range(layers):\n",
        "    circuit += one_qubit_unitary_pqc(qubits,symbols_one[l*2*num_qubits:(l+1)*2*num_qubits])\n",
        "    if(use_entanglement):\n",
        "      circuit += two_qubit_unitary_pqc(qubits,symbols_two[l*(num_qubits-1):(l+1)*(num_qubits-1)])\n",
        "  \n",
        "  return circuit,symbols"
      ],
      "metadata": {
        "id": "U9gQZTaorcXk"
      },
      "execution_count": null,
      "outputs": []
    },
    {
      "cell_type": "code",
      "source": [
        "circ,symbols = generator_pqc_circuit(cirq.GridQubit.rect(5,1),layers=3)\n",
        "SVGCircuit(circ)"
      ],
      "metadata": {
        "colab": {
          "base_uri": "https://localhost:8080/",
          "height": 291
        },
        "id": "ikIO4pE1rebH",
        "outputId": "63561e29-8755-468c-be9b-187c9f0adc65"
      },
      "execution_count": null,
      "outputs": [
        {
          "output_type": "execute_result",
          "data": {
            "text/plain": [
              "<cirq.contrib.svg.svg.SVGCircuit at 0x7fdb98c240d0>"
            ],
            "image/svg+xml": "<svg xmlns=\"http://www.w3.org/2000/svg\" width=\"2498.4285937500003\" height=\"250.0\"><line x1=\"34.7588671875\" x2=\"2468.4285937500003\" y1=\"25.0\" y2=\"25.0\" stroke=\"#1967d2\" stroke-width=\"1\" /><line x1=\"34.7588671875\" x2=\"2468.4285937500003\" y1=\"75.0\" y2=\"75.0\" stroke=\"#1967d2\" stroke-width=\"1\" /><line x1=\"34.7588671875\" x2=\"2468.4285937500003\" y1=\"125.0\" y2=\"125.0\" stroke=\"#1967d2\" stroke-width=\"1\" /><line x1=\"34.7588671875\" x2=\"2468.4285937500003\" y1=\"175.0\" y2=\"175.0\" stroke=\"#1967d2\" stroke-width=\"1\" /><line x1=\"34.7588671875\" x2=\"2468.4285937500003\" y1=\"225.0\" y2=\"225.0\" stroke=\"#1967d2\" stroke-width=\"1\" /><line x1=\"370.7151171875\" x2=\"370.7151171875\" y1=\"25.0\" y2=\"75.0\" stroke=\"black\" stroke-width=\"3\" /><line x1=\"370.7151171875\" x2=\"370.7151171875\" y1=\"125.0\" y2=\"175.0\" stroke=\"black\" stroke-width=\"3\" /><line x1=\"565.8455468750001\" x2=\"565.8455468750001\" y1=\"25.0\" y2=\"75.0\" stroke=\"black\" stroke-width=\"3\" /><line x1=\"565.8455468750001\" x2=\"565.8455468750001\" y1=\"125.0\" y2=\"175.0\" stroke=\"black\" stroke-width=\"3\" /><line x1=\"625.8455468750001\" x2=\"625.8455468750001\" y1=\"75.0\" y2=\"125.0\" stroke=\"black\" stroke-width=\"3\" /><line x1=\"625.8455468750001\" x2=\"625.8455468750001\" y1=\"175.0\" y2=\"225.0\" stroke=\"black\" stroke-width=\"3\" /><line x1=\"820.9759765625001\" x2=\"820.9759765625001\" y1=\"75.0\" y2=\"125.0\" stroke=\"black\" stroke-width=\"3\" /><line x1=\"820.9759765625001\" x2=\"820.9759765625001\" y1=\"175.0\" y2=\"225.0\" stroke=\"black\" stroke-width=\"3\" /><line x1=\"1169.9878125000002\" x2=\"1169.9878125000002\" y1=\"25.0\" y2=\"75.0\" stroke=\"black\" stroke-width=\"3\" /><line x1=\"1169.9878125000002\" x2=\"1169.9878125000002\" y1=\"125.0\" y2=\"175.0\" stroke=\"black\" stroke-width=\"3\" /><line x1=\"1365.1182421875003\" x2=\"1365.1182421875003\" y1=\"25.0\" y2=\"75.0\" stroke=\"black\" stroke-width=\"3\" /><line x1=\"1365.1182421875003\" x2=\"1365.1182421875003\" y1=\"125.0\" y2=\"175.0\" stroke=\"black\" stroke-width=\"3\" /><line x1=\"1425.1182421875003\" x2=\"1425.1182421875003\" y1=\"75.0\" y2=\"125.0\" stroke=\"black\" stroke-width=\"3\" /><line x1=\"1425.1182421875003\" x2=\"1425.1182421875003\" y1=\"175.0\" y2=\"225.0\" stroke=\"black\" stroke-width=\"3\" /><line x1=\"1620.2486718750004\" x2=\"1620.2486718750004\" y1=\"75.0\" y2=\"125.0\" stroke=\"black\" stroke-width=\"3\" /><line x1=\"1620.2486718750004\" x2=\"1620.2486718750004\" y1=\"175.0\" y2=\"225.0\" stroke=\"black\" stroke-width=\"3\" /><line x1=\"1969.2605078125005\" x2=\"1969.2605078125005\" y1=\"25.0\" y2=\"75.0\" stroke=\"black\" stroke-width=\"3\" /><line x1=\"1969.2605078125005\" x2=\"1969.2605078125005\" y1=\"125.0\" y2=\"175.0\" stroke=\"black\" stroke-width=\"3\" /><line x1=\"2164.3909375000003\" x2=\"2164.3909375000003\" y1=\"25.0\" y2=\"75.0\" stroke=\"black\" stroke-width=\"3\" /><line x1=\"2164.3909375000003\" x2=\"2164.3909375000003\" y1=\"125.0\" y2=\"175.0\" stroke=\"black\" stroke-width=\"3\" /><line x1=\"2224.3909375000003\" x2=\"2224.3909375000003\" y1=\"75.0\" y2=\"125.0\" stroke=\"black\" stroke-width=\"3\" /><line x1=\"2224.3909375000003\" x2=\"2224.3909375000003\" y1=\"175.0\" y2=\"225.0\" stroke=\"black\" stroke-width=\"3\" /><line x1=\"2428.4285937500003\" x2=\"2428.4285937500003\" y1=\"75.0\" y2=\"125.0\" stroke=\"black\" stroke-width=\"3\" /><line x1=\"2428.4285937500003\" x2=\"2428.4285937500003\" y1=\"175.0\" y2=\"225.0\" stroke=\"black\" stroke-width=\"3\" /><rect x=\"10.0\" y=\"5.0\" width=\"49.517734375\" height=\"40\" stroke=\"black\" fill=\"white\" stroke-width=\"0\" /><text x=\"34.7588671875\" y=\"25.0\" dominant-baseline=\"middle\" text-anchor=\"middle\" font-size=\"14px\" font-family=\"Arial\">(0, 0): </text><rect x=\"10.0\" y=\"55.0\" width=\"49.517734375\" height=\"40\" stroke=\"black\" fill=\"white\" stroke-width=\"0\" /><text x=\"34.7588671875\" y=\"75.0\" dominant-baseline=\"middle\" text-anchor=\"middle\" font-size=\"14px\" font-family=\"Arial\">(1, 0): </text><rect x=\"10.0\" y=\"105.0\" width=\"49.517734375\" height=\"40\" stroke=\"black\" fill=\"white\" stroke-width=\"0\" /><text x=\"34.7588671875\" y=\"125.0\" dominant-baseline=\"middle\" text-anchor=\"middle\" font-size=\"14px\" font-family=\"Arial\">(2, 0): </text><rect x=\"10.0\" y=\"155.0\" width=\"49.517734375\" height=\"40\" stroke=\"black\" fill=\"white\" stroke-width=\"0\" /><text x=\"34.7588671875\" y=\"175.0\" dominant-baseline=\"middle\" text-anchor=\"middle\" font-size=\"14px\" font-family=\"Arial\">(3, 0): </text><rect x=\"10.0\" y=\"205.0\" width=\"49.517734375\" height=\"40\" stroke=\"black\" fill=\"white\" stroke-width=\"0\" /><text x=\"34.7588671875\" y=\"225.0\" dominant-baseline=\"middle\" text-anchor=\"middle\" font-size=\"14px\" font-family=\"Arial\">(4, 0): </text><rect x=\"79.517734375\" y=\"5.0\" width=\"116.066953125\" height=\"40\" stroke=\"black\" fill=\"white\" stroke-width=\"1\" /><text x=\"137.5512109375\" y=\"25.0\" dominant-baseline=\"middle\" text-anchor=\"middle\" font-size=\"14px\" font-family=\"Arial\">Rx(G_theta1_0)</text><rect x=\"79.517734375\" y=\"55.0\" width=\"116.066953125\" height=\"40\" stroke=\"black\" fill=\"white\" stroke-width=\"1\" /><text x=\"137.5512109375\" y=\"75.0\" dominant-baseline=\"middle\" text-anchor=\"middle\" font-size=\"14px\" font-family=\"Arial\">Rx(G_theta1_1)</text><rect x=\"79.517734375\" y=\"105.0\" width=\"116.066953125\" height=\"40\" stroke=\"black\" fill=\"white\" stroke-width=\"1\" /><text x=\"137.5512109375\" y=\"125.0\" dominant-baseline=\"middle\" text-anchor=\"middle\" font-size=\"14px\" font-family=\"Arial\">Rx(G_theta1_2)</text><rect x=\"79.517734375\" y=\"155.0\" width=\"116.066953125\" height=\"40\" stroke=\"black\" fill=\"white\" stroke-width=\"1\" /><text x=\"137.5512109375\" y=\"175.0\" dominant-baseline=\"middle\" text-anchor=\"middle\" font-size=\"14px\" font-family=\"Arial\">Rx(G_theta1_3)</text><rect x=\"79.517734375\" y=\"205.0\" width=\"116.066953125\" height=\"40\" stroke=\"black\" fill=\"white\" stroke-width=\"1\" /><text x=\"137.5512109375\" y=\"225.0\" dominant-baseline=\"middle\" text-anchor=\"middle\" font-size=\"14px\" font-family=\"Arial\">Rx(G_theta1_4)</text><rect x=\"215.5846875\" y=\"5.0\" width=\"115.1304296875\" height=\"40\" stroke=\"black\" fill=\"white\" stroke-width=\"1\" /><text x=\"273.14990234375\" y=\"25.0\" dominant-baseline=\"middle\" text-anchor=\"middle\" font-size=\"14px\" font-family=\"Arial\">Rz(G_theta1_5)</text><rect x=\"215.5846875\" y=\"55.0\" width=\"115.1304296875\" height=\"40\" stroke=\"black\" fill=\"white\" stroke-width=\"1\" /><text x=\"273.14990234375\" y=\"75.0\" dominant-baseline=\"middle\" text-anchor=\"middle\" font-size=\"14px\" font-family=\"Arial\">Rz(G_theta1_6)</text><rect x=\"215.5846875\" y=\"105.0\" width=\"115.1304296875\" height=\"40\" stroke=\"black\" fill=\"white\" stroke-width=\"1\" /><text x=\"273.14990234375\" y=\"125.0\" dominant-baseline=\"middle\" text-anchor=\"middle\" font-size=\"14px\" font-family=\"Arial\">Rz(G_theta1_7)</text><rect x=\"215.5846875\" y=\"155.0\" width=\"115.1304296875\" height=\"40\" stroke=\"black\" fill=\"white\" stroke-width=\"1\" /><text x=\"273.14990234375\" y=\"175.0\" dominant-baseline=\"middle\" text-anchor=\"middle\" font-size=\"14px\" font-family=\"Arial\">Rz(G_theta1_8)</text><rect x=\"215.5846875\" y=\"205.0\" width=\"115.1304296875\" height=\"40\" stroke=\"black\" fill=\"white\" stroke-width=\"1\" /><text x=\"273.14990234375\" y=\"225.0\" dominant-baseline=\"middle\" text-anchor=\"middle\" font-size=\"14px\" font-family=\"Arial\">Rz(G_theta1_9)</text><circle cx=\"370.7151171875\" cy=\"25.0\" r=\"10.0\" /><rect x=\"350.7151171875\" y=\"55.0\" width=\"40\" height=\"40\" stroke=\"black\" fill=\"white\" stroke-width=\"1\" /><text x=\"370.7151171875\" y=\"75.0\" dominant-baseline=\"middle\" text-anchor=\"middle\" font-size=\"18px\" font-family=\"Arial\">X</text><circle cx=\"370.7151171875\" cy=\"125.0\" r=\"10.0\" /><rect x=\"350.7151171875\" y=\"155.0\" width=\"40\" height=\"40\" stroke=\"black\" fill=\"white\" stroke-width=\"1\" /><text x=\"370.7151171875\" y=\"175.0\" dominant-baseline=\"middle\" text-anchor=\"middle\" font-size=\"18px\" font-family=\"Arial\">X</text><rect x=\"410.7151171875\" y=\"55.0\" width=\"115.1304296875\" height=\"40\" stroke=\"black\" fill=\"white\" stroke-width=\"1\" /><text x=\"468.28033203125005\" y=\"75.0\" dominant-baseline=\"middle\" text-anchor=\"middle\" font-size=\"14px\" font-family=\"Arial\">Rz(G_theta2_0)</text><rect x=\"410.7151171875\" y=\"155.0\" width=\"115.1304296875\" height=\"40\" stroke=\"black\" fill=\"white\" stroke-width=\"1\" /><text x=\"468.28033203125005\" y=\"175.0\" dominant-baseline=\"middle\" text-anchor=\"middle\" font-size=\"14px\" font-family=\"Arial\">Rz(G_theta2_1)</text><circle cx=\"565.8455468750001\" cy=\"25.0\" r=\"10.0\" /><rect x=\"545.8455468750001\" y=\"55.0\" width=\"40\" height=\"40\" stroke=\"black\" fill=\"white\" stroke-width=\"1\" /><text x=\"565.8455468750001\" y=\"75.0\" dominant-baseline=\"middle\" text-anchor=\"middle\" font-size=\"18px\" font-family=\"Arial\">X</text><circle cx=\"565.8455468750001\" cy=\"125.0\" r=\"10.0\" /><rect x=\"545.8455468750001\" y=\"155.0\" width=\"40\" height=\"40\" stroke=\"black\" fill=\"white\" stroke-width=\"1\" /><text x=\"565.8455468750001\" y=\"175.0\" dominant-baseline=\"middle\" text-anchor=\"middle\" font-size=\"18px\" font-family=\"Arial\">X</text><circle cx=\"625.8455468750001\" cy=\"75.0\" r=\"10.0\" /><rect x=\"605.8455468750001\" y=\"105.0\" width=\"40\" height=\"40\" stroke=\"black\" fill=\"white\" stroke-width=\"1\" /><text x=\"625.8455468750001\" y=\"125.0\" dominant-baseline=\"middle\" text-anchor=\"middle\" font-size=\"18px\" font-family=\"Arial\">X</text><circle cx=\"625.8455468750001\" cy=\"175.0\" r=\"10.0\" /><rect x=\"605.8455468750001\" y=\"205.0\" width=\"40\" height=\"40\" stroke=\"black\" fill=\"white\" stroke-width=\"1\" /><text x=\"625.8455468750001\" y=\"225.0\" dominant-baseline=\"middle\" text-anchor=\"middle\" font-size=\"18px\" font-family=\"Arial\">X</text><rect x=\"665.8455468750001\" y=\"105.0\" width=\"115.1304296875\" height=\"40\" stroke=\"black\" fill=\"white\" stroke-width=\"1\" /><text x=\"723.4107617187501\" y=\"125.0\" dominant-baseline=\"middle\" text-anchor=\"middle\" font-size=\"14px\" font-family=\"Arial\">Rz(G_theta2_2)</text><rect x=\"665.8455468750001\" y=\"205.0\" width=\"115.1304296875\" height=\"40\" stroke=\"black\" fill=\"white\" stroke-width=\"1\" /><text x=\"723.4107617187501\" y=\"225.0\" dominant-baseline=\"middle\" text-anchor=\"middle\" font-size=\"14px\" font-family=\"Arial\">Rz(G_theta2_3)</text><circle cx=\"820.9759765625001\" cy=\"75.0\" r=\"10.0\" /><rect x=\"800.9759765625001\" y=\"105.0\" width=\"40\" height=\"40\" stroke=\"black\" fill=\"white\" stroke-width=\"1\" /><text x=\"820.9759765625001\" y=\"125.0\" dominant-baseline=\"middle\" text-anchor=\"middle\" font-size=\"18px\" font-family=\"Arial\">X</text><circle cx=\"820.9759765625001\" cy=\"175.0\" r=\"10.0\" /><rect x=\"800.9759765625001\" y=\"205.0\" width=\"40\" height=\"40\" stroke=\"black\" fill=\"white\" stroke-width=\"1\" /><text x=\"820.9759765625001\" y=\"225.0\" dominant-baseline=\"middle\" text-anchor=\"middle\" font-size=\"18px\" font-family=\"Arial\">X</text><rect x=\"860.9759765625001\" y=\"5.0\" width=\"124.9741796875\" height=\"40\" stroke=\"black\" fill=\"white\" stroke-width=\"1\" /><text x=\"923.4630664062502\" y=\"25.0\" dominant-baseline=\"middle\" text-anchor=\"middle\" font-size=\"14px\" font-family=\"Arial\">Rx(G_theta1_10)</text><rect x=\"860.9759765625001\" y=\"55.0\" width=\"124.9741796875\" height=\"40\" stroke=\"black\" fill=\"white\" stroke-width=\"1\" /><text x=\"923.4630664062502\" y=\"75.0\" dominant-baseline=\"middle\" text-anchor=\"middle\" font-size=\"14px\" font-family=\"Arial\">Rx(G_theta1_11)</text><rect x=\"860.9759765625001\" y=\"105.0\" width=\"124.9741796875\" height=\"40\" stroke=\"black\" fill=\"white\" stroke-width=\"1\" /><text x=\"923.4630664062502\" y=\"125.0\" dominant-baseline=\"middle\" text-anchor=\"middle\" font-size=\"14px\" font-family=\"Arial\">Rx(G_theta1_12)</text><rect x=\"860.9759765625001\" y=\"155.0\" width=\"124.9741796875\" height=\"40\" stroke=\"black\" fill=\"white\" stroke-width=\"1\" /><text x=\"923.4630664062502\" y=\"175.0\" dominant-baseline=\"middle\" text-anchor=\"middle\" font-size=\"14px\" font-family=\"Arial\">Rx(G_theta1_13)</text><rect x=\"860.9759765625001\" y=\"205.0\" width=\"124.9741796875\" height=\"40\" stroke=\"black\" fill=\"white\" stroke-width=\"1\" /><text x=\"923.4630664062502\" y=\"225.0\" dominant-baseline=\"middle\" text-anchor=\"middle\" font-size=\"14px\" font-family=\"Arial\">Rx(G_theta1_14)</text><rect x=\"1005.9501562500002\" y=\"5.0\" width=\"124.03765625\" height=\"40\" stroke=\"black\" fill=\"white\" stroke-width=\"1\" /><text x=\"1067.9689843750002\" y=\"25.0\" dominant-baseline=\"middle\" text-anchor=\"middle\" font-size=\"14px\" font-family=\"Arial\">Rz(G_theta1_15)</text><rect x=\"1005.9501562500002\" y=\"55.0\" width=\"124.03765625\" height=\"40\" stroke=\"black\" fill=\"white\" stroke-width=\"1\" /><text x=\"1067.9689843750002\" y=\"75.0\" dominant-baseline=\"middle\" text-anchor=\"middle\" font-size=\"14px\" font-family=\"Arial\">Rz(G_theta1_16)</text><rect x=\"1005.9501562500002\" y=\"105.0\" width=\"124.03765625\" height=\"40\" stroke=\"black\" fill=\"white\" stroke-width=\"1\" /><text x=\"1067.9689843750002\" y=\"125.0\" dominant-baseline=\"middle\" text-anchor=\"middle\" font-size=\"14px\" font-family=\"Arial\">Rz(G_theta1_17)</text><rect x=\"1005.9501562500002\" y=\"155.0\" width=\"124.03765625\" height=\"40\" stroke=\"black\" fill=\"white\" stroke-width=\"1\" /><text x=\"1067.9689843750002\" y=\"175.0\" dominant-baseline=\"middle\" text-anchor=\"middle\" font-size=\"14px\" font-family=\"Arial\">Rz(G_theta1_18)</text><rect x=\"1005.9501562500002\" y=\"205.0\" width=\"124.03765625\" height=\"40\" stroke=\"black\" fill=\"white\" stroke-width=\"1\" /><text x=\"1067.9689843750002\" y=\"225.0\" dominant-baseline=\"middle\" text-anchor=\"middle\" font-size=\"14px\" font-family=\"Arial\">Rz(G_theta1_19)</text><circle cx=\"1169.9878125000002\" cy=\"25.0\" r=\"10.0\" /><rect x=\"1149.9878125000002\" y=\"55.0\" width=\"40\" height=\"40\" stroke=\"black\" fill=\"white\" stroke-width=\"1\" /><text x=\"1169.9878125000002\" y=\"75.0\" dominant-baseline=\"middle\" text-anchor=\"middle\" font-size=\"18px\" font-family=\"Arial\">X</text><circle cx=\"1169.9878125000002\" cy=\"125.0\" r=\"10.0\" /><rect x=\"1149.9878125000002\" y=\"155.0\" width=\"40\" height=\"40\" stroke=\"black\" fill=\"white\" stroke-width=\"1\" /><text x=\"1169.9878125000002\" y=\"175.0\" dominant-baseline=\"middle\" text-anchor=\"middle\" font-size=\"18px\" font-family=\"Arial\">X</text><rect x=\"1209.9878125000002\" y=\"55.0\" width=\"115.1304296875\" height=\"40\" stroke=\"black\" fill=\"white\" stroke-width=\"1\" /><text x=\"1267.5530273437503\" y=\"75.0\" dominant-baseline=\"middle\" text-anchor=\"middle\" font-size=\"14px\" font-family=\"Arial\">Rz(G_theta2_4)</text><rect x=\"1209.9878125000002\" y=\"155.0\" width=\"115.1304296875\" height=\"40\" stroke=\"black\" fill=\"white\" stroke-width=\"1\" /><text x=\"1267.5530273437503\" y=\"175.0\" dominant-baseline=\"middle\" text-anchor=\"middle\" font-size=\"14px\" font-family=\"Arial\">Rz(G_theta2_5)</text><circle cx=\"1365.1182421875003\" cy=\"25.0\" r=\"10.0\" /><rect x=\"1345.1182421875003\" y=\"55.0\" width=\"40\" height=\"40\" stroke=\"black\" fill=\"white\" stroke-width=\"1\" /><text x=\"1365.1182421875003\" y=\"75.0\" dominant-baseline=\"middle\" text-anchor=\"middle\" font-size=\"18px\" font-family=\"Arial\">X</text><circle cx=\"1365.1182421875003\" cy=\"125.0\" r=\"10.0\" /><rect x=\"1345.1182421875003\" y=\"155.0\" width=\"40\" height=\"40\" stroke=\"black\" fill=\"white\" stroke-width=\"1\" /><text x=\"1365.1182421875003\" y=\"175.0\" dominant-baseline=\"middle\" text-anchor=\"middle\" font-size=\"18px\" font-family=\"Arial\">X</text><circle cx=\"1425.1182421875003\" cy=\"75.0\" r=\"10.0\" /><rect x=\"1405.1182421875003\" y=\"105.0\" width=\"40\" height=\"40\" stroke=\"black\" fill=\"white\" stroke-width=\"1\" /><text x=\"1425.1182421875003\" y=\"125.0\" dominant-baseline=\"middle\" text-anchor=\"middle\" font-size=\"18px\" font-family=\"Arial\">X</text><circle cx=\"1425.1182421875003\" cy=\"175.0\" r=\"10.0\" /><rect x=\"1405.1182421875003\" y=\"205.0\" width=\"40\" height=\"40\" stroke=\"black\" fill=\"white\" stroke-width=\"1\" /><text x=\"1425.1182421875003\" y=\"225.0\" dominant-baseline=\"middle\" text-anchor=\"middle\" font-size=\"18px\" font-family=\"Arial\">X</text><rect x=\"1465.1182421875003\" y=\"105.0\" width=\"115.1304296875\" height=\"40\" stroke=\"black\" fill=\"white\" stroke-width=\"1\" /><text x=\"1522.6834570312503\" y=\"125.0\" dominant-baseline=\"middle\" text-anchor=\"middle\" font-size=\"14px\" font-family=\"Arial\">Rz(G_theta2_6)</text><rect x=\"1465.1182421875003\" y=\"205.0\" width=\"115.1304296875\" height=\"40\" stroke=\"black\" fill=\"white\" stroke-width=\"1\" /><text x=\"1522.6834570312503\" y=\"225.0\" dominant-baseline=\"middle\" text-anchor=\"middle\" font-size=\"14px\" font-family=\"Arial\">Rz(G_theta2_7)</text><circle cx=\"1620.2486718750004\" cy=\"75.0\" r=\"10.0\" /><rect x=\"1600.2486718750004\" y=\"105.0\" width=\"40\" height=\"40\" stroke=\"black\" fill=\"white\" stroke-width=\"1\" /><text x=\"1620.2486718750004\" y=\"125.0\" dominant-baseline=\"middle\" text-anchor=\"middle\" font-size=\"18px\" font-family=\"Arial\">X</text><circle cx=\"1620.2486718750004\" cy=\"175.0\" r=\"10.0\" /><rect x=\"1600.2486718750004\" y=\"205.0\" width=\"40\" height=\"40\" stroke=\"black\" fill=\"white\" stroke-width=\"1\" /><text x=\"1620.2486718750004\" y=\"225.0\" dominant-baseline=\"middle\" text-anchor=\"middle\" font-size=\"18px\" font-family=\"Arial\">X</text><rect x=\"1660.2486718750004\" y=\"5.0\" width=\"124.9741796875\" height=\"40\" stroke=\"black\" fill=\"white\" stroke-width=\"1\" /><text x=\"1722.7357617187504\" y=\"25.0\" dominant-baseline=\"middle\" text-anchor=\"middle\" font-size=\"14px\" font-family=\"Arial\">Rx(G_theta1_20)</text><rect x=\"1660.2486718750004\" y=\"55.0\" width=\"124.9741796875\" height=\"40\" stroke=\"black\" fill=\"white\" stroke-width=\"1\" /><text x=\"1722.7357617187504\" y=\"75.0\" dominant-baseline=\"middle\" text-anchor=\"middle\" font-size=\"14px\" font-family=\"Arial\">Rx(G_theta1_21)</text><rect x=\"1660.2486718750004\" y=\"105.0\" width=\"124.9741796875\" height=\"40\" stroke=\"black\" fill=\"white\" stroke-width=\"1\" /><text x=\"1722.7357617187504\" y=\"125.0\" dominant-baseline=\"middle\" text-anchor=\"middle\" font-size=\"14px\" font-family=\"Arial\">Rx(G_theta1_22)</text><rect x=\"1660.2486718750004\" y=\"155.0\" width=\"124.9741796875\" height=\"40\" stroke=\"black\" fill=\"white\" stroke-width=\"1\" /><text x=\"1722.7357617187504\" y=\"175.0\" dominant-baseline=\"middle\" text-anchor=\"middle\" font-size=\"14px\" font-family=\"Arial\">Rx(G_theta1_23)</text><rect x=\"1660.2486718750004\" y=\"205.0\" width=\"124.9741796875\" height=\"40\" stroke=\"black\" fill=\"white\" stroke-width=\"1\" /><text x=\"1722.7357617187504\" y=\"225.0\" dominant-baseline=\"middle\" text-anchor=\"middle\" font-size=\"14px\" font-family=\"Arial\">Rx(G_theta1_24)</text><rect x=\"1805.2228515625004\" y=\"5.0\" width=\"124.03765625\" height=\"40\" stroke=\"black\" fill=\"white\" stroke-width=\"1\" /><text x=\"1867.2416796875004\" y=\"25.0\" dominant-baseline=\"middle\" text-anchor=\"middle\" font-size=\"14px\" font-family=\"Arial\">Rz(G_theta1_25)</text><rect x=\"1805.2228515625004\" y=\"55.0\" width=\"124.03765625\" height=\"40\" stroke=\"black\" fill=\"white\" stroke-width=\"1\" /><text x=\"1867.2416796875004\" y=\"75.0\" dominant-baseline=\"middle\" text-anchor=\"middle\" font-size=\"14px\" font-family=\"Arial\">Rz(G_theta1_26)</text><rect x=\"1805.2228515625004\" y=\"105.0\" width=\"124.03765625\" height=\"40\" stroke=\"black\" fill=\"white\" stroke-width=\"1\" /><text x=\"1867.2416796875004\" y=\"125.0\" dominant-baseline=\"middle\" text-anchor=\"middle\" font-size=\"14px\" font-family=\"Arial\">Rz(G_theta1_27)</text><rect x=\"1805.2228515625004\" y=\"155.0\" width=\"124.03765625\" height=\"40\" stroke=\"black\" fill=\"white\" stroke-width=\"1\" /><text x=\"1867.2416796875004\" y=\"175.0\" dominant-baseline=\"middle\" text-anchor=\"middle\" font-size=\"14px\" font-family=\"Arial\">Rz(G_theta1_28)</text><rect x=\"1805.2228515625004\" y=\"205.0\" width=\"124.03765625\" height=\"40\" stroke=\"black\" fill=\"white\" stroke-width=\"1\" /><text x=\"1867.2416796875004\" y=\"225.0\" dominant-baseline=\"middle\" text-anchor=\"middle\" font-size=\"14px\" font-family=\"Arial\">Rz(G_theta1_29)</text><circle cx=\"1969.2605078125005\" cy=\"25.0\" r=\"10.0\" /><rect x=\"1949.2605078125005\" y=\"55.0\" width=\"40\" height=\"40\" stroke=\"black\" fill=\"white\" stroke-width=\"1\" /><text x=\"1969.2605078125005\" y=\"75.0\" dominant-baseline=\"middle\" text-anchor=\"middle\" font-size=\"18px\" font-family=\"Arial\">X</text><circle cx=\"1969.2605078125005\" cy=\"125.0\" r=\"10.0\" /><rect x=\"1949.2605078125005\" y=\"155.0\" width=\"40\" height=\"40\" stroke=\"black\" fill=\"white\" stroke-width=\"1\" /><text x=\"1969.2605078125005\" y=\"175.0\" dominant-baseline=\"middle\" text-anchor=\"middle\" font-size=\"18px\" font-family=\"Arial\">X</text><rect x=\"2009.2605078125005\" y=\"55.0\" width=\"115.1304296875\" height=\"40\" stroke=\"black\" fill=\"white\" stroke-width=\"1\" /><text x=\"2066.8257226562505\" y=\"75.0\" dominant-baseline=\"middle\" text-anchor=\"middle\" font-size=\"14px\" font-family=\"Arial\">Rz(G_theta2_8)</text><rect x=\"2009.2605078125005\" y=\"155.0\" width=\"115.1304296875\" height=\"40\" stroke=\"black\" fill=\"white\" stroke-width=\"1\" /><text x=\"2066.8257226562505\" y=\"175.0\" dominant-baseline=\"middle\" text-anchor=\"middle\" font-size=\"14px\" font-family=\"Arial\">Rz(G_theta2_9)</text><circle cx=\"2164.3909375000003\" cy=\"25.0\" r=\"10.0\" /><rect x=\"2144.3909375000003\" y=\"55.0\" width=\"40\" height=\"40\" stroke=\"black\" fill=\"white\" stroke-width=\"1\" /><text x=\"2164.3909375000003\" y=\"75.0\" dominant-baseline=\"middle\" text-anchor=\"middle\" font-size=\"18px\" font-family=\"Arial\">X</text><circle cx=\"2164.3909375000003\" cy=\"125.0\" r=\"10.0\" /><rect x=\"2144.3909375000003\" y=\"155.0\" width=\"40\" height=\"40\" stroke=\"black\" fill=\"white\" stroke-width=\"1\" /><text x=\"2164.3909375000003\" y=\"175.0\" dominant-baseline=\"middle\" text-anchor=\"middle\" font-size=\"18px\" font-family=\"Arial\">X</text><circle cx=\"2224.3909375000003\" cy=\"75.0\" r=\"10.0\" /><rect x=\"2204.3909375000003\" y=\"105.0\" width=\"40\" height=\"40\" stroke=\"black\" fill=\"white\" stroke-width=\"1\" /><text x=\"2224.3909375000003\" y=\"125.0\" dominant-baseline=\"middle\" text-anchor=\"middle\" font-size=\"18px\" font-family=\"Arial\">X</text><circle cx=\"2224.3909375000003\" cy=\"175.0\" r=\"10.0\" /><rect x=\"2204.3909375000003\" y=\"205.0\" width=\"40\" height=\"40\" stroke=\"black\" fill=\"white\" stroke-width=\"1\" /><text x=\"2224.3909375000003\" y=\"225.0\" dominant-baseline=\"middle\" text-anchor=\"middle\" font-size=\"18px\" font-family=\"Arial\">X</text><rect x=\"2264.3909375000003\" y=\"105.0\" width=\"124.03765625\" height=\"40\" stroke=\"black\" fill=\"white\" stroke-width=\"1\" /><text x=\"2326.409765625\" y=\"125.0\" dominant-baseline=\"middle\" text-anchor=\"middle\" font-size=\"14px\" font-family=\"Arial\">Rz(G_theta2_10)</text><rect x=\"2264.3909375000003\" y=\"205.0\" width=\"124.03765625\" height=\"40\" stroke=\"black\" fill=\"white\" stroke-width=\"1\" /><text x=\"2326.409765625\" y=\"225.0\" dominant-baseline=\"middle\" text-anchor=\"middle\" font-size=\"14px\" font-family=\"Arial\">Rz(G_theta2_11)</text><circle cx=\"2428.4285937500003\" cy=\"75.0\" r=\"10.0\" /><rect x=\"2408.4285937500003\" y=\"105.0\" width=\"40\" height=\"40\" stroke=\"black\" fill=\"white\" stroke-width=\"1\" /><text x=\"2428.4285937500003\" y=\"125.0\" dominant-baseline=\"middle\" text-anchor=\"middle\" font-size=\"18px\" font-family=\"Arial\">X</text><circle cx=\"2428.4285937500003\" cy=\"175.0\" r=\"10.0\" /><rect x=\"2408.4285937500003\" y=\"205.0\" width=\"40\" height=\"40\" stroke=\"black\" fill=\"white\" stroke-width=\"1\" /><text x=\"2428.4285937500003\" y=\"225.0\" dominant-baseline=\"middle\" text-anchor=\"middle\" font-size=\"18px\" font-family=\"Arial\">X</text></svg>"
          },
          "metadata": {},
          "execution_count": 20
        }
      ]
    },
    {
      "cell_type": "code",
      "source": [
        "def data_encoding_circuit(qubits):\n",
        "  circuit = cirq.Circuit()\n",
        "  input_symbols = sp.symbols('x_:'+str(len(qubits)))\n",
        "  for i,q in enumerate(qubits):\n",
        "    circuit += cirq.ry(input_symbols[i])(q)\n",
        "  return circuit,input_symbols"
      ],
      "metadata": {
        "id": "vJd8IQ4SSc3u"
      },
      "execution_count": null,
      "outputs": []
    },
    {
      "cell_type": "code",
      "source": [
        "SVGCircuit(data_encoding_circuit(cirq.GridQubit.rect(1,5))[0])"
      ],
      "metadata": {
        "colab": {
          "base_uri": "https://localhost:8080/",
          "height": 271
        },
        "id": "YAicn-aGSlbE",
        "outputId": "0eb17694-a041-4e0c-a1f2-afe02f2bea61"
      },
      "execution_count": null,
      "outputs": [
        {
          "output_type": "execute_result",
          "data": {
            "text/plain": [
              "<cirq.contrib.svg.svg.SVGCircuit at 0x7fdb98bd7850>"
            ],
            "image/svg+xml": "<svg xmlns=\"http://www.w3.org/2000/svg\" width=\"189.3000390625\" height=\"250.0\"><line x1=\"34.7588671875\" x2=\"159.3000390625\" y1=\"25.0\" y2=\"25.0\" stroke=\"#1967d2\" stroke-width=\"1\" /><line x1=\"34.7588671875\" x2=\"159.3000390625\" y1=\"75.0\" y2=\"75.0\" stroke=\"#1967d2\" stroke-width=\"1\" /><line x1=\"34.7588671875\" x2=\"159.3000390625\" y1=\"125.0\" y2=\"125.0\" stroke=\"#1967d2\" stroke-width=\"1\" /><line x1=\"34.7588671875\" x2=\"159.3000390625\" y1=\"175.0\" y2=\"175.0\" stroke=\"#1967d2\" stroke-width=\"1\" /><line x1=\"34.7588671875\" x2=\"159.3000390625\" y1=\"225.0\" y2=\"225.0\" stroke=\"#1967d2\" stroke-width=\"1\" /><rect x=\"10.0\" y=\"5.0\" width=\"49.517734375\" height=\"40\" stroke=\"black\" fill=\"white\" stroke-width=\"0\" /><text x=\"34.7588671875\" y=\"25.0\" dominant-baseline=\"middle\" text-anchor=\"middle\" font-size=\"14px\" font-family=\"Arial\">(0, 0): </text><rect x=\"10.0\" y=\"55.0\" width=\"49.517734375\" height=\"40\" stroke=\"black\" fill=\"white\" stroke-width=\"0\" /><text x=\"34.7588671875\" y=\"75.0\" dominant-baseline=\"middle\" text-anchor=\"middle\" font-size=\"14px\" font-family=\"Arial\">(0, 1): </text><rect x=\"10.0\" y=\"105.0\" width=\"49.517734375\" height=\"40\" stroke=\"black\" fill=\"white\" stroke-width=\"0\" /><text x=\"34.7588671875\" y=\"125.0\" dominant-baseline=\"middle\" text-anchor=\"middle\" font-size=\"14px\" font-family=\"Arial\">(0, 2): </text><rect x=\"10.0\" y=\"155.0\" width=\"49.517734375\" height=\"40\" stroke=\"black\" fill=\"white\" stroke-width=\"0\" /><text x=\"34.7588671875\" y=\"175.0\" dominant-baseline=\"middle\" text-anchor=\"middle\" font-size=\"14px\" font-family=\"Arial\">(0, 3): </text><rect x=\"10.0\" y=\"205.0\" width=\"49.517734375\" height=\"40\" stroke=\"black\" fill=\"white\" stroke-width=\"0\" /><text x=\"34.7588671875\" y=\"225.0\" dominant-baseline=\"middle\" text-anchor=\"middle\" font-size=\"14px\" font-family=\"Arial\">(0, 4): </text><rect x=\"79.517734375\" y=\"5.0\" width=\"59.7823046875\" height=\"40\" stroke=\"black\" fill=\"white\" stroke-width=\"1\" /><text x=\"109.40888671875001\" y=\"25.0\" dominant-baseline=\"middle\" text-anchor=\"middle\" font-size=\"14px\" font-family=\"Arial\">Ry(x_0)</text><rect x=\"79.517734375\" y=\"55.0\" width=\"59.7823046875\" height=\"40\" stroke=\"black\" fill=\"white\" stroke-width=\"1\" /><text x=\"109.40888671875001\" y=\"75.0\" dominant-baseline=\"middle\" text-anchor=\"middle\" font-size=\"14px\" font-family=\"Arial\">Ry(x_1)</text><rect x=\"79.517734375\" y=\"105.0\" width=\"59.7823046875\" height=\"40\" stroke=\"black\" fill=\"white\" stroke-width=\"1\" /><text x=\"109.40888671875001\" y=\"125.0\" dominant-baseline=\"middle\" text-anchor=\"middle\" font-size=\"14px\" font-family=\"Arial\">Ry(x_2)</text><rect x=\"79.517734375\" y=\"155.0\" width=\"59.7823046875\" height=\"40\" stroke=\"black\" fill=\"white\" stroke-width=\"1\" /><text x=\"109.40888671875001\" y=\"175.0\" dominant-baseline=\"middle\" text-anchor=\"middle\" font-size=\"14px\" font-family=\"Arial\">Ry(x_3)</text><rect x=\"79.517734375\" y=\"205.0\" width=\"59.7823046875\" height=\"40\" stroke=\"black\" fill=\"white\" stroke-width=\"1\" /><text x=\"109.40888671875001\" y=\"225.0\" dominant-baseline=\"middle\" text-anchor=\"middle\" font-size=\"14px\" font-family=\"Arial\">Ry(x_4)</text></svg>"
          },
          "metadata": {},
          "execution_count": 22
        }
      ]
    },
    {
      "cell_type": "code",
      "source": [
        "class GeneratorPQC(tf.keras.layers.Layer):\n",
        "  def __init__(self,data_circuit,variational_circuit,n_qubits,use_entanglement=True,name = \"GeneratorPQC\"):\n",
        "    super(GeneratorPQC,self).__init__(name=name)\n",
        "    self.n_qubits=n_qubits\n",
        "    # self.n_layers=n_layers\n",
        "    self.use_entanglement=use_entanglement\n",
        "    self.main_name = name\n",
        "    # self.empty_circuit = tfq.convert_to_tensor([cirq.Circuit()])\n",
        "    # self.qubits = cirq.GridQubit.rect(1, n_qubits)\n",
        "    # self.observables = [cirq.Z(q) for q in self.qubits]\n",
        "    self.append_layer = elementary.AddCircuit()\n",
        "    # circuit,symbols,input_symbols = generator_pqc_circuit(qubits=self.qubits,layers=self.n_layers)\n",
        "    self.encoding_circuit,self.input_symbols = data_circuit\n",
        "    self.encoding_circuit = tfq.convert_to_tensor([self.encoding_circuit])\n",
        "    # data_circuit = QuantumCircuit.from_cirq(data_circuit)\n",
        "    self.op_circuit,self.param_symbols = variational_circuit\n",
        "    self.op_circuit = tfq.convert_to_tensor([self.op_circuit])\n",
        "    # variational_circuit = QuantumCircuit.from_cirq(variational_circuit)\n",
        "    self.operators = [cirq.Z(q) for q in variational_circuit[0].all_qubits()]\n",
        "    self.parameters = self.add_weight('parameters',\n",
        "                                          shape=(1,len(self.param_symbols)),\n",
        "                                          # initializer=self.initializer,\n",
        "                                          # regularizer=self.regularizer,\n",
        "                                          # constraint=self.constraint,\n",
        "                                          dtype=tf.float32,\n",
        "                                          trainable=True)\n",
        "    self.demo_circuit = data_circuit[0] +variational_circuit[0]\n",
        "    symbols = [str(symb) for symb in self.input_symbols + self.param_symbols]\n",
        "    self.indices = tf.constant([sorted(symbols).index(a) for a in symbols])\n",
        "    # thetas_init = tf.random_uniform_initializer(minval=-np.pi/2, maxval=np.pi/2)\n",
        "    # self.params = tf.Variable(\n",
        "    #         initial_value=thetas_init(shape=(1, symbols), dtype=\"float32\"),\n",
        "    #         trainable=True, name=self.main_name + \"thetas\")\n",
        "    self.computation_layer = tfq.layers.ControlledPQC(self.demo_circuit,self.operators)\n",
        "    \n",
        "  def get_config(self):\n",
        "    config = super().get_config().copy()\n",
        "    config.update({\n",
        "            'n_qubits': self.n_qubits,\n",
        "            'n_layers': self.n_layers,\n",
        "            'use_entanglement': self.use_entanglement,\n",
        "            'name': self.main_name,\n",
        "    })\n",
        "    return config\n",
        "  \n",
        "  def call(self,inputs):\n",
        "    batch_size = tf.shape(inputs)[0]\n",
        "    tiled_encoding_circuit = tf.tile(self.encoding_circuit,[batch_size])\n",
        "    tiled_variational_circuit = tf.tile(self.op_circuit,[batch_size])\n",
        "    # full_circuit_batch = self.append_layer(tiled_encoding_circuit,tiled_variational_circuit)\n",
        "    full_circuit_batch = tfq.layers.AddCircuit()(tiled_encoding_circuit,append=tiled_variational_circuit)\n",
        "    # empty_circuit_batch = tf.repeat(self.empty_circuit, repeats=batch_size, name=self.main_name + '-tiled_up_empty_circuits') \n",
        "    tiled_parameters = tf.tile(self.parameters, multiples=[batch_size,1], name=self.main_name + '-tiled_up_empty_thetas') \n",
        "    joined_params = tf.concat([inputs,tiled_parameters],axis=-1)\n",
        "    \n",
        "    # joined_params = tf.gather(joined_params,self.indices,axis=-1,name=self.main_name + '-joined_parameters')\n",
        "    # tiled_operators = tf.tile(self.operators,[batch_size,1])\n",
        "    # return self.computation_layer([empty_circuit_batch,self.parameters])\n",
        "    return self.computation_layer([full_circuit_batch,joined_params])"
      ],
      "metadata": {
        "id": "qphibIX-rh0U"
      },
      "execution_count": null,
      "outputs": []
    },
    {
      "cell_type": "code",
      "source": [
        "n_gen_qubits = len(X_train_0[0])\n",
        "qubits = cirq.GridQubit.rect(n_gen_qubits,1)\n",
        "layers = 3\n",
        "observables = [cirq.Z(q) for q in qubits]\n",
        "inputs = tf.keras.Input(shape=(n_gen_qubits,))      #,dtype = tf.dtypes.float32\n",
        "gen_pqc = GeneratorPQC(data_circuit=data_encoding_circuit(cirq.GridQubit.rect(n_gen_qubits,1)),variational_circuit=generator_pqc_circuit(cirq.GridQubit.rect(n_gen_qubits,1),layers=layers),n_qubits=n_gen_qubits)\n",
        "gen_pqc_layer = gen_pqc(inputs)\n",
        "# g_layers = tfq.layers.ControlledPQC(generator_pqc_circuit(qubits,layers),observables)(inputs)\n",
        "generator_model = tf.keras.Model(inputs=[inputs],outputs=[gen_pqc_layer])"
      ],
      "metadata": {
        "id": "hfPLoQV8rnot"
      },
      "execution_count": null,
      "outputs": []
    },
    {
      "cell_type": "code",
      "source": [
        "generator_model.summary()"
      ],
      "metadata": {
        "colab": {
          "base_uri": "https://localhost:8080/"
        },
        "id": "SKjEMW4VrqRx",
        "outputId": "c1f94ef0-5b8e-4080-c436-02300dc7e8ea"
      },
      "execution_count": null,
      "outputs": [
        {
          "output_type": "stream",
          "name": "stdout",
          "text": [
            "Model: \"model_1\"\n",
            "_________________________________________________________________\n",
            " Layer (type)                Output Shape              Param #   \n",
            "=================================================================\n",
            " input_2 (InputLayer)        [(None, 5)]               0         \n",
            "                                                                 \n",
            " GeneratorPQC (GeneratorPQC)  (None, 5)                42        \n",
            "                                                                 \n",
            "=================================================================\n",
            "Total params: 42\n",
            "Trainable params: 42\n",
            "Non-trainable params: 0\n",
            "_________________________________________________________________\n"
          ]
        }
      ]
    },
    {
      "cell_type": "code",
      "source": [
        "def prepare_dataset(data,batch_size,seed=None,drop_remainder=True,buffer_size=100):\n",
        "  buffer_size =len(data[0])\n",
        "  ds = tf.data.Dataset.from_tensor_slices(data)\n",
        "  ds = ds.shuffle(buffer_size=buffer_size,seed=seed,reshuffle_each_iteration=True)\n",
        "  ds = ds.batch(batch_size,drop_remainder)\n",
        "  ds = ds.prefetch(tf.data.AUTOTUNE)\n",
        "  return ds"
      ],
      "metadata": {
        "id": "aDpz2PFNrsym"
      },
      "execution_count": null,
      "outputs": []
    },
    {
      "cell_type": "code",
      "source": [
        "def train_preprocess(random_state):\n",
        "  tf.random.set_seed(random_state)\n",
        "  np.random.seed(random_state)"
      ],
      "metadata": {
        "id": "zp0g-pNCrwFD"
      },
      "execution_count": null,
      "outputs": []
    },
    {
      "cell_type": "code",
      "source": [
        "loss = tf.keras.losses.BinaryCrossentropy(from_logits=True)\n",
        "\n",
        "@tf.function\n",
        "def generator_loss(fake_output):\n",
        "  return loss(tf.ones_like(fake_output),fake_output)\n",
        "\n",
        "@tf.function\n",
        "def discriminator_loss(real_output,fake_output):\n",
        "  real_loss = loss(tf.ones_like(real_output),real_output)\n",
        "  fake_loss = loss(tf.ones_like(fake_output),fake_output)\n",
        "  return real_loss + fake_loss"
      ],
      "metadata": {
        "id": "YwcDMrs6ryE5"
      },
      "execution_count": null,
      "outputs": []
    },
    {
      "cell_type": "code",
      "source": [
        "identifier = {\"class_name\": 'adam', \"config\": {\"learning_rate\": 1e-3}}\n",
        "discriminator_optimizer = tf.keras.optimizers.get(identifier)\n",
        "generator_optimizer = tf.keras.optimizers.get(identifier)"
      ],
      "metadata": {
        "id": "yUHm4qUjr1TY"
      },
      "execution_count": null,
      "outputs": []
    },
    {
      "cell_type": "code",
      "source": [
        "from tensorflow.python.eager.backprop import GradientTape\n",
        "@tf.function\n",
        "def discriminator_step(x_real,batch_size):\n",
        "  fake_data_shape = (batch_size,) + generator_model.input_shape[1:]\n",
        "  x_real = tf.reshape(x_real,fake_data_shape)\n",
        "  z = tf.random.normal(shape=fake_data_shape)\n",
        "  with tf.GradientTape() as gradient_tape:\n",
        "    real_output = discriminator_model(x_real,training = True)\n",
        "    fake_input = generator_model(z, training = True)\n",
        "    # fake_input = tf.reshape(fake_input, tf.shape(x_real))\n",
        "    fake_output = discriminator_model(fake_input,training = True)\n",
        "    cost = discriminator_loss(real_output,fake_output)\n",
        "  grad = gradient_tape.gradient(cost,discriminator_model.trainable_variables)\n",
        "  discriminator_optimizer.apply_gradients(zip(grad,discriminator_model.trainable_variables))\n",
        "  return cost"
      ],
      "metadata": {
        "id": "i3R0rXPHr36c"
      },
      "execution_count": null,
      "outputs": []
    },
    {
      "cell_type": "code",
      "source": [
        "@tf.function\n",
        "def generator_step(batch_size):\n",
        "  fake_data_shape = (batch_size,) + generator_model.input_shape[1:]\n",
        "  z = tf.random.normal(shape=fake_data_shape)\n",
        "  with tf.GradientTape() as gradient_tape:\n",
        "    fake_input = generator_model(z,training=True)\n",
        "    fake_output = discriminator_model(fake_input,training= True) \n",
        "    loss = generator_loss(fake_output)\n",
        "  grad = gradient_tape.gradient(loss,generator_model.trainable_variables)\n",
        "  generator_optimizer.apply_gradients(zip(grad,generator_model.trainable_variables))\n",
        "  return loss"
      ],
      "metadata": {
        "id": "4Q7eGYAjr6JQ"
      },
      "execution_count": null,
      "outputs": []
    },
    {
      "cell_type": "code",
      "source": [
        "@tf.function\n",
        "def train_step_1v1(x_real,batch_size):\n",
        "  \n",
        "  \"\"\"Training step for one epoch with 1 generator step and 1 discriminator step\n",
        "        \"\"\"\n",
        "  fake_data_shape = (batch_size,) + generator_model.input_shape[1:]\n",
        "  z = tf.random.normal(shape=fake_data_shape)\n",
        "  with tf.GradientTape() as gen_tape, tf.GradientTape() as disc_tape:\n",
        "    x_fake_ = generator_model(z, training=True)\n",
        "    # x_fake = tf.reshape(x_fake_, tf.shape(x_real))\n",
        "    real_output = discriminator_model(x_real, training=True)\n",
        "    fake_output = discriminator_model(x_fake_, training=True)\n",
        "    gen_loss = generator_loss(fake_output)\n",
        "    disc_loss = discriminator_loss(real_output, fake_output)\n",
        "  grad_gen = gen_tape.gradient(gen_loss, generator_model.trainable_variables)\n",
        "  grad_disc = disc_tape.gradient(disc_loss, discriminator_model.trainable_variables)\n",
        "  generator_optimizer.apply_gradients(zip(grad_gen, generator_model.trainable_variables))\n",
        "  discriminator_optimizer.apply_gradients(zip(grad_disc, discriminator_model.trainable_variables))  \n",
        "  return gen_loss, disc_loss"
      ],
      "metadata": {
        "id": "uNgLvZZxr8LT"
      },
      "execution_count": null,
      "outputs": []
    },
    {
      "cell_type": "code",
      "source": [
        "@tf.function\n",
        "def train_step_nv1(x_real,n_disc,batch_size):\n",
        "  for i in range(n_disc):\n",
        "    x_real_batch = tf.gather(x_real,i)\n",
        "    d_loss = discriminator_step(x_real_batch,batch_size)\n",
        "  g_loss = generator_step(batch_size)\n",
        "  return g_loss, d_loss"
      ],
      "metadata": {
        "id": "WB51lANMr-zZ"
      },
      "execution_count": null,
      "outputs": []
    },
    {
      "cell_type": "code",
      "source": [
        "@tf.function\n",
        "def train_step_1vn(x_real,n_gen,batch_size):\n",
        "  for i in range(n_gen):\n",
        "    g_loss = generator_step(batch_size)\n",
        "  d_loss = discriminator_step(x_real,batch_size)\n",
        "  return g_loss, d_loss "
      ],
      "metadata": {
        "id": "gb6rPW_NsBPu"
      },
      "execution_count": null,
      "outputs": []
    },
    {
      "cell_type": "code",
      "source": [
        "gen_loss_ = []\n",
        "disc_loss_ = []\n",
        "epochs_ = []"
      ],
      "metadata": {
        "id": "yG_h8h0hsDk8"
      },
      "execution_count": null,
      "outputs": []
    },
    {
      "cell_type": "code",
      "source": [
        "def train_qgans(x,epochs,batch_size,seed=1024,n_disc=1,n_gen=1):\n",
        "  input_shape = x.shape[1:]\n",
        "  train_preprocess(seed)\n",
        "  data = prepare_dataset(data=x,batch_size=batch_size*n_disc,seed=seed)\n",
        "  g_metric = tf.keras.metrics.Mean()\n",
        "  d_metric = tf.keras.metrics.Mean()\n",
        "  for epoch in range(epochs):\n",
        "    for step,training_batch_data_ in enumerate(data):\n",
        "      # training_batch_data = tf.reshape(training_batch_data_,input_batch_shape)\n",
        "      if( n_disc == 1 and n_gen == 1):\n",
        "        input_batch_shape = (batch_size,) + input_shape\n",
        "        training_batch_data = tf.reshape(training_batch_data_,input_batch_shape)\n",
        "        gen_loss,disc_loss = train_step_1v1(x_real=training_batch_data, batch_size=batch_size)\n",
        "      if n_disc > 1 and n_gen == 1:\n",
        "        input_batch_shape = (n_disc, batch_size) + input_shape\n",
        "        training_batch_data = tf.reshape(training_batch_data_,input_batch_shape)        \n",
        "        gen_loss,disc_loss = train_step_nv1(x_real=training_batch_data, batch_size=batch_size,n_disc=n_disc)\n",
        "      if n_gen > 1 and n_disc == 1:\n",
        "        input_batch_shape = (batch_size,) + input_shape\n",
        "        training_batch_data = tf.reshape(training_batch_data_,input_batch_shape)\n",
        "        gen_loss,disc_loss = train_step_1vn(x_real=training_batch_data, batch_size=batch_size,n_gen=n_gen)\n",
        "      g_metric(gen_loss)\n",
        "      d_metric(disc_loss)\n",
        "    gen_loss_.append(g_metric.result().numpy())\n",
        "    disc_loss_.append(d_metric.result().numpy())\n",
        "    epochs_.append(epoch)\n",
        "    print(\"Epoch:{} ;   generator_loss:{} ;   discriminator_loss:{}\".format(epoch,g_metric.result().numpy(),d_metric.result().numpy()))\n",
        "  \n",
        "    g_metric.reset_state()\n",
        "    d_metric.reset_state()\n",
        "  # samples = generate_samples(batch_size=50).numpy()\n",
        "  # make_plots([X_train_1, samples], ['true signal', 'fake signal']) "
      ],
      "metadata": {
        "id": "AvHpqhexsFbU"
      },
      "execution_count": null,
      "outputs": []
    },
    {
      "cell_type": "code",
      "source": [
        "train_qgans(X_train_1,epochs=500,batch_size=20,n=10)"
      ],
      "metadata": {
        "colab": {
          "base_uri": "https://localhost:8080/"
        },
        "id": "crpjX03PsI1y",
        "outputId": "3f4a3e9c-b809-4cc5-85cb-98e6cbad5f98"
      },
      "execution_count": null,
      "outputs": [
        {
          "output_type": "stream",
          "name": "stdout",
          "text": [
            "Epoch:0 ;   generator_loss:0.6735678911209106 ;   discriminator_loss:1.3211990594863892\n",
            "Epoch:1 ;   generator_loss:0.6710531115531921 ;   discriminator_loss:1.3188714981079102\n",
            "Epoch:2 ;   generator_loss:0.6738495826721191 ;   discriminator_loss:1.316637635231018\n",
            "Epoch:3 ;   generator_loss:0.6675851345062256 ;   discriminator_loss:1.3094195127487183\n",
            "Epoch:4 ;   generator_loss:0.6687020063400269 ;   discriminator_loss:1.31049644947052\n",
            "Epoch:5 ;   generator_loss:0.6703146696090698 ;   discriminator_loss:1.3103537559509277\n",
            "Epoch:6 ;   generator_loss:0.6582307815551758 ;   discriminator_loss:1.2953500747680664\n",
            "Epoch:7 ;   generator_loss:0.6614802479743958 ;   discriminator_loss:1.2969048023223877\n",
            "Epoch:8 ;   generator_loss:0.6626696586608887 ;   discriminator_loss:1.293489694595337\n",
            "Epoch:9 ;   generator_loss:0.6541621685028076 ;   discriminator_loss:1.282070279121399\n",
            "Epoch:10 ;   generator_loss:0.6557226181030273 ;   discriminator_loss:1.2800331115722656\n",
            "Epoch:11 ;   generator_loss:0.6582655906677246 ;   discriminator_loss:1.2821216583251953\n",
            "Epoch:12 ;   generator_loss:0.6603977680206299 ;   discriminator_loss:1.284243106842041\n",
            "Epoch:13 ;   generator_loss:0.6509162187576294 ;   discriminator_loss:1.2700692415237427\n",
            "Epoch:14 ;   generator_loss:0.6486561298370361 ;   discriminator_loss:1.261937141418457\n",
            "Epoch:15 ;   generator_loss:0.6369979381561279 ;   discriminator_loss:1.2526540756225586\n",
            "Epoch:16 ;   generator_loss:0.6369717121124268 ;   discriminator_loss:1.2475054264068604\n",
            "Epoch:17 ;   generator_loss:0.6452301740646362 ;   discriminator_loss:1.2533069849014282\n",
            "Epoch:18 ;   generator_loss:0.6452085971832275 ;   discriminator_loss:1.2527987957000732\n",
            "Epoch:19 ;   generator_loss:0.6448565721511841 ;   discriminator_loss:1.2524253129959106\n",
            "Epoch:20 ;   generator_loss:0.6457599997520447 ;   discriminator_loss:1.2485045194625854\n",
            "Epoch:21 ;   generator_loss:0.6314853429794312 ;   discriminator_loss:1.2326006889343262\n",
            "Epoch:22 ;   generator_loss:0.6366183757781982 ;   discriminator_loss:1.236689567565918\n",
            "Epoch:23 ;   generator_loss:0.6338735818862915 ;   discriminator_loss:1.2292048931121826\n",
            "Epoch:24 ;   generator_loss:0.6259514689445496 ;   discriminator_loss:1.2175133228302002\n",
            "Epoch:25 ;   generator_loss:0.6210364103317261 ;   discriminator_loss:1.2102577686309814\n",
            "Epoch:26 ;   generator_loss:0.6164400577545166 ;   discriminator_loss:1.2016571760177612\n",
            "Epoch:27 ;   generator_loss:0.6140648722648621 ;   discriminator_loss:1.1983997821807861\n",
            "Epoch:28 ;   generator_loss:0.6244175434112549 ;   discriminator_loss:1.2089766263961792\n",
            "Epoch:29 ;   generator_loss:0.6256019473075867 ;   discriminator_loss:1.2077765464782715\n",
            "Epoch:30 ;   generator_loss:0.6121785640716553 ;   discriminator_loss:1.190420150756836\n",
            "Epoch:31 ;   generator_loss:0.6033937931060791 ;   discriminator_loss:1.1821684837341309\n",
            "Epoch:32 ;   generator_loss:0.6154699921607971 ;   discriminator_loss:1.1905944347381592\n",
            "Epoch:33 ;   generator_loss:0.6043086051940918 ;   discriminator_loss:1.1783370971679688\n",
            "Epoch:34 ;   generator_loss:0.58286052942276 ;   discriminator_loss:1.154564380645752\n",
            "Epoch:35 ;   generator_loss:0.5800580978393555 ;   discriminator_loss:1.1452109813690186\n",
            "Epoch:36 ;   generator_loss:0.5959169864654541 ;   discriminator_loss:1.1610157489776611\n",
            "Epoch:37 ;   generator_loss:0.6035521030426025 ;   discriminator_loss:1.1661405563354492\n",
            "Epoch:38 ;   generator_loss:0.5740525722503662 ;   discriminator_loss:1.1304619312286377\n",
            "Epoch:39 ;   generator_loss:0.5876074433326721 ;   discriminator_loss:1.1431145668029785\n",
            "Epoch:40 ;   generator_loss:0.5761497020721436 ;   discriminator_loss:1.1313848495483398\n",
            "Epoch:41 ;   generator_loss:0.5687967538833618 ;   discriminator_loss:1.1193935871124268\n",
            "Epoch:42 ;   generator_loss:0.5621816515922546 ;   discriminator_loss:1.1115305423736572\n",
            "Epoch:43 ;   generator_loss:0.5695961713790894 ;   discriminator_loss:1.117499589920044\n",
            "Epoch:44 ;   generator_loss:0.5677260160446167 ;   discriminator_loss:1.1121151447296143\n",
            "Epoch:45 ;   generator_loss:0.5600478053092957 ;   discriminator_loss:1.1020653247833252\n",
            "Epoch:46 ;   generator_loss:0.5587689876556396 ;   discriminator_loss:1.1002843379974365\n",
            "Epoch:47 ;   generator_loss:0.5550621747970581 ;   discriminator_loss:1.092982292175293\n",
            "Epoch:48 ;   generator_loss:0.5490292310714722 ;   discriminator_loss:1.0854949951171875\n",
            "Epoch:49 ;   generator_loss:0.5588881969451904 ;   discriminator_loss:1.0907230377197266\n",
            "Epoch:50 ;   generator_loss:0.5430961847305298 ;   discriminator_loss:1.072258472442627\n",
            "Epoch:51 ;   generator_loss:0.560444712638855 ;   discriminator_loss:1.085827350616455\n",
            "Epoch:52 ;   generator_loss:0.5400369763374329 ;   discriminator_loss:1.0640490055084229\n",
            "Epoch:53 ;   generator_loss:0.5288628339767456 ;   discriminator_loss:1.0502904653549194\n",
            "Epoch:54 ;   generator_loss:0.5422790050506592 ;   discriminator_loss:1.0613744258880615\n",
            "Epoch:55 ;   generator_loss:0.5344350934028625 ;   discriminator_loss:1.0521550178527832\n",
            "Epoch:56 ;   generator_loss:0.5390454530715942 ;   discriminator_loss:1.052294135093689\n",
            "Epoch:57 ;   generator_loss:0.5347023010253906 ;   discriminator_loss:1.0458824634552002\n",
            "Epoch:58 ;   generator_loss:0.5106455683708191 ;   discriminator_loss:1.0186488628387451\n",
            "Epoch:59 ;   generator_loss:0.5224021673202515 ;   discriminator_loss:1.0286953449249268\n",
            "Epoch:60 ;   generator_loss:0.5169724225997925 ;   discriminator_loss:1.0209622383117676\n",
            "Epoch:61 ;   generator_loss:0.5134502649307251 ;   discriminator_loss:1.0155271291732788\n",
            "Epoch:62 ;   generator_loss:0.5080090761184692 ;   discriminator_loss:1.0068448781967163\n",
            "Epoch:63 ;   generator_loss:0.5079208612442017 ;   discriminator_loss:1.0048962831497192\n",
            "Epoch:64 ;   generator_loss:0.502059817314148 ;   discriminator_loss:0.9961830377578735\n",
            "Epoch:65 ;   generator_loss:0.49402809143066406 ;   discriminator_loss:0.9856197834014893\n",
            "Epoch:66 ;   generator_loss:0.49913305044174194 ;   discriminator_loss:0.987126886844635\n",
            "Epoch:67 ;   generator_loss:0.4948418140411377 ;   discriminator_loss:0.979507327079773\n",
            "Epoch:68 ;   generator_loss:0.4907221794128418 ;   discriminator_loss:0.9747158288955688\n",
            "Epoch:69 ;   generator_loss:0.48836761713027954 ;   discriminator_loss:0.9720244407653809\n",
            "Epoch:70 ;   generator_loss:0.4858684539794922 ;   discriminator_loss:0.9664212465286255\n",
            "Epoch:71 ;   generator_loss:0.4852203130722046 ;   discriminator_loss:0.9611731767654419\n",
            "Epoch:72 ;   generator_loss:0.48524031043052673 ;   discriminator_loss:0.9605371952056885\n",
            "Epoch:73 ;   generator_loss:0.48239272832870483 ;   discriminator_loss:0.9556774497032166\n",
            "Epoch:74 ;   generator_loss:0.47618621587753296 ;   discriminator_loss:0.9481707811355591\n",
            "Epoch:75 ;   generator_loss:0.47744619846343994 ;   discriminator_loss:0.9476553797721863\n",
            "Epoch:76 ;   generator_loss:0.47958123683929443 ;   discriminator_loss:0.9454312324523926\n",
            "Epoch:77 ;   generator_loss:0.46434739232063293 ;   discriminator_loss:0.9295355081558228\n",
            "Epoch:78 ;   generator_loss:0.4690094590187073 ;   discriminator_loss:0.9324262142181396\n",
            "Epoch:79 ;   generator_loss:0.4635918438434601 ;   discriminator_loss:0.9249618649482727\n",
            "Epoch:80 ;   generator_loss:0.46226149797439575 ;   discriminator_loss:0.9204047918319702\n",
            "Epoch:81 ;   generator_loss:0.45939165353775024 ;   discriminator_loss:0.9166016578674316\n",
            "Epoch:82 ;   generator_loss:0.46057820320129395 ;   discriminator_loss:0.9147002696990967\n",
            "Epoch:83 ;   generator_loss:0.45464473962783813 ;   discriminator_loss:0.9058620929718018\n",
            "Epoch:84 ;   generator_loss:0.45139533281326294 ;   discriminator_loss:0.9014347791671753\n",
            "Epoch:85 ;   generator_loss:0.45311039686203003 ;   discriminator_loss:0.9023832082748413\n",
            "Epoch:86 ;   generator_loss:0.4486272931098938 ;   discriminator_loss:0.895749568939209\n",
            "Epoch:87 ;   generator_loss:0.4465840458869934 ;   discriminator_loss:0.8916741609573364\n",
            "Epoch:88 ;   generator_loss:0.43911266326904297 ;   discriminator_loss:0.8815062642097473\n",
            "Epoch:89 ;   generator_loss:0.4434930086135864 ;   discriminator_loss:0.8848929405212402\n",
            "Epoch:90 ;   generator_loss:0.4411783814430237 ;   discriminator_loss:0.8796148896217346\n",
            "Epoch:91 ;   generator_loss:0.4414100646972656 ;   discriminator_loss:0.8781094551086426\n",
            "Epoch:92 ;   generator_loss:0.43647146224975586 ;   discriminator_loss:0.8715397715568542\n",
            "Epoch:93 ;   generator_loss:0.4316403865814209 ;   discriminator_loss:0.8656890988349915\n",
            "Epoch:94 ;   generator_loss:0.4338783025741577 ;   discriminator_loss:0.8644036054611206\n",
            "Epoch:95 ;   generator_loss:0.42734402418136597 ;   discriminator_loss:0.856590211391449\n",
            "Epoch:96 ;   generator_loss:0.4260520339012146 ;   discriminator_loss:0.8546402454376221\n",
            "Epoch:97 ;   generator_loss:0.42598873376846313 ;   discriminator_loss:0.85123610496521\n",
            "Epoch:98 ;   generator_loss:0.42724865674972534 ;   discriminator_loss:0.8513498902320862\n",
            "Epoch:99 ;   generator_loss:0.4237680435180664 ;   discriminator_loss:0.8471182584762573\n",
            "Epoch:100 ;   generator_loss:0.4194895625114441 ;   discriminator_loss:0.8393316268920898\n",
            "Epoch:101 ;   generator_loss:0.4197327792644501 ;   discriminator_loss:0.8396098017692566\n",
            "Epoch:102 ;   generator_loss:0.41847166419029236 ;   discriminator_loss:0.8360235691070557\n",
            "Epoch:103 ;   generator_loss:0.4179375469684601 ;   discriminator_loss:0.8348942399024963\n",
            "Epoch:104 ;   generator_loss:0.4156160056591034 ;   discriminator_loss:0.830119252204895\n",
            "Epoch:105 ;   generator_loss:0.4160795211791992 ;   discriminator_loss:0.8285208940505981\n",
            "Epoch:106 ;   generator_loss:0.4096173048019409 ;   discriminator_loss:0.8198472857475281\n",
            "Epoch:107 ;   generator_loss:0.4068697392940521 ;   discriminator_loss:0.815625011920929\n",
            "Epoch:108 ;   generator_loss:0.4089059829711914 ;   discriminator_loss:0.8160795569419861\n",
            "Epoch:109 ;   generator_loss:0.40574413537979126 ;   discriminator_loss:0.8119206428527832\n",
            "Epoch:110 ;   generator_loss:0.40250664949417114 ;   discriminator_loss:0.8079761266708374\n",
            "Epoch:111 ;   generator_loss:0.4041958451271057 ;   discriminator_loss:0.808228075504303\n",
            "Epoch:112 ;   generator_loss:0.40223318338394165 ;   discriminator_loss:0.8049251437187195\n",
            "Epoch:113 ;   generator_loss:0.3996753692626953 ;   discriminator_loss:0.7997714281082153\n",
            "Epoch:114 ;   generator_loss:0.39964914321899414 ;   discriminator_loss:0.7986347675323486\n",
            "Epoch:115 ;   generator_loss:0.3969348073005676 ;   discriminator_loss:0.7939999103546143\n",
            "Epoch:116 ;   generator_loss:0.3935648798942566 ;   discriminator_loss:0.7884718775749207\n",
            "Epoch:117 ;   generator_loss:0.39704430103302 ;   discriminator_loss:0.7910858392715454\n",
            "Epoch:118 ;   generator_loss:0.38852715492248535 ;   discriminator_loss:0.7818787097930908\n",
            "Epoch:119 ;   generator_loss:0.39039742946624756 ;   discriminator_loss:0.7815122604370117\n",
            "Epoch:120 ;   generator_loss:0.3911459445953369 ;   discriminator_loss:0.7807910442352295\n",
            "Epoch:121 ;   generator_loss:0.3882656693458557 ;   discriminator_loss:0.7763751745223999\n",
            "Epoch:122 ;   generator_loss:0.38409724831581116 ;   discriminator_loss:0.7702141404151917\n",
            "Epoch:123 ;   generator_loss:0.38321658968925476 ;   discriminator_loss:0.7683063745498657\n",
            "Epoch:124 ;   generator_loss:0.3842892050743103 ;   discriminator_loss:0.7680720090866089\n",
            "Epoch:125 ;   generator_loss:0.3831481337547302 ;   discriminator_loss:0.765072762966156\n",
            "Epoch:126 ;   generator_loss:0.3804835081100464 ;   discriminator_loss:0.762022852897644\n",
            "Epoch:127 ;   generator_loss:0.3804296851158142 ;   discriminator_loss:0.7610594630241394\n",
            "Epoch:128 ;   generator_loss:0.37730273604393005 ;   discriminator_loss:0.7567785382270813\n",
            "Epoch:129 ;   generator_loss:0.3753199577331543 ;   discriminator_loss:0.753296971321106\n",
            "Epoch:130 ;   generator_loss:0.37799251079559326 ;   discriminator_loss:0.753576397895813\n",
            "Epoch:131 ;   generator_loss:0.37249547243118286 ;   discriminator_loss:0.7469191551208496\n",
            "Epoch:132 ;   generator_loss:0.37137436866760254 ;   discriminator_loss:0.743914783000946\n",
            "Epoch:133 ;   generator_loss:0.3704758286476135 ;   discriminator_loss:0.742494523525238\n",
            "Epoch:134 ;   generator_loss:0.36955416202545166 ;   discriminator_loss:0.7398240566253662\n",
            "Epoch:135 ;   generator_loss:0.36796724796295166 ;   discriminator_loss:0.7378533482551575\n",
            "Epoch:136 ;   generator_loss:0.3661631941795349 ;   discriminator_loss:0.7348638772964478\n",
            "Epoch:137 ;   generator_loss:0.3683152496814728 ;   discriminator_loss:0.7347356081008911\n",
            "Epoch:138 ;   generator_loss:0.36391717195510864 ;   discriminator_loss:0.7294683456420898\n",
            "Epoch:139 ;   generator_loss:0.36191925406455994 ;   discriminator_loss:0.725749135017395\n",
            "Epoch:140 ;   generator_loss:0.36067062616348267 ;   discriminator_loss:0.7243435978889465\n",
            "Epoch:141 ;   generator_loss:0.36404985189437866 ;   discriminator_loss:0.7253607511520386\n",
            "Epoch:142 ;   generator_loss:0.3588749170303345 ;   discriminator_loss:0.720140814781189\n",
            "Epoch:143 ;   generator_loss:0.3595650792121887 ;   discriminator_loss:0.718457043170929\n",
            "Epoch:144 ;   generator_loss:0.35577327013015747 ;   discriminator_loss:0.7144981026649475\n",
            "Epoch:145 ;   generator_loss:0.3554760217666626 ;   discriminator_loss:0.7120025157928467\n",
            "Epoch:146 ;   generator_loss:0.35363978147506714 ;   discriminator_loss:0.7089416980743408\n",
            "Epoch:147 ;   generator_loss:0.35302701592445374 ;   discriminator_loss:0.7066906690597534\n",
            "Epoch:148 ;   generator_loss:0.34959930181503296 ;   discriminator_loss:0.7033432722091675\n",
            "Epoch:149 ;   generator_loss:0.3490593433380127 ;   discriminator_loss:0.7006952166557312\n",
            "Epoch:150 ;   generator_loss:0.34867244958877563 ;   discriminator_loss:0.7000682950019836\n",
            "Epoch:151 ;   generator_loss:0.3493238687515259 ;   discriminator_loss:0.6995248198509216\n",
            "Epoch:152 ;   generator_loss:0.34577661752700806 ;   discriminator_loss:0.6942692399024963\n",
            "Epoch:153 ;   generator_loss:0.3456689715385437 ;   discriminator_loss:0.6924475431442261\n",
            "Epoch:154 ;   generator_loss:0.34421342611312866 ;   discriminator_loss:0.6899144649505615\n",
            "Epoch:155 ;   generator_loss:0.344903826713562 ;   discriminator_loss:0.6890615224838257\n",
            "Epoch:156 ;   generator_loss:0.34227263927459717 ;   discriminator_loss:0.686542272567749\n",
            "Epoch:157 ;   generator_loss:0.33976808190345764 ;   discriminator_loss:0.6820409893989563\n",
            "Epoch:158 ;   generator_loss:0.3392624258995056 ;   discriminator_loss:0.6813364624977112\n",
            "Epoch:159 ;   generator_loss:0.3402453362941742 ;   discriminator_loss:0.6802209615707397\n",
            "Epoch:160 ;   generator_loss:0.3379162847995758 ;   discriminator_loss:0.6766082048416138\n",
            "Epoch:161 ;   generator_loss:0.33483389019966125 ;   discriminator_loss:0.6724395751953125\n",
            "Epoch:162 ;   generator_loss:0.3362296223640442 ;   discriminator_loss:0.6728611588478088\n",
            "Epoch:163 ;   generator_loss:0.33475685119628906 ;   discriminator_loss:0.6702547669410706\n",
            "Epoch:164 ;   generator_loss:0.3323124647140503 ;   discriminator_loss:0.6666755080223083\n",
            "Epoch:165 ;   generator_loss:0.33536189794540405 ;   discriminator_loss:0.6686287522315979\n",
            "Epoch:166 ;   generator_loss:0.3298395872116089 ;   discriminator_loss:0.6628907918930054\n",
            "Epoch:167 ;   generator_loss:0.3299534320831299 ;   discriminator_loss:0.6609889268875122\n",
            "Epoch:168 ;   generator_loss:0.32923251390457153 ;   discriminator_loss:0.659263014793396\n",
            "Epoch:169 ;   generator_loss:0.3302004933357239 ;   discriminator_loss:0.6592223048210144\n",
            "Epoch:170 ;   generator_loss:0.3286494016647339 ;   discriminator_loss:0.6575310230255127\n",
            "Epoch:171 ;   generator_loss:0.3245174288749695 ;   discriminator_loss:0.6510679125785828\n",
            "Epoch:172 ;   generator_loss:0.32417604327201843 ;   discriminator_loss:0.6508710384368896\n",
            "Epoch:173 ;   generator_loss:0.3218163251876831 ;   discriminator_loss:0.64747154712677\n",
            "Epoch:174 ;   generator_loss:0.3230106830596924 ;   discriminator_loss:0.6468302607536316\n",
            "Epoch:175 ;   generator_loss:0.3221217095851898 ;   discriminator_loss:0.6444966197013855\n",
            "Epoch:176 ;   generator_loss:0.31969988346099854 ;   discriminator_loss:0.6422404050827026\n",
            "Epoch:177 ;   generator_loss:0.31920957565307617 ;   discriminator_loss:0.6398914456367493\n",
            "Epoch:178 ;   generator_loss:0.31870460510253906 ;   discriminator_loss:0.6389427185058594\n",
            "Epoch:179 ;   generator_loss:0.3186982274055481 ;   discriminator_loss:0.6370497941970825\n",
            "Epoch:180 ;   generator_loss:0.3159182667732239 ;   discriminator_loss:0.6335848569869995\n",
            "Epoch:181 ;   generator_loss:0.31388458609580994 ;   discriminator_loss:0.6304948329925537\n",
            "Epoch:182 ;   generator_loss:0.31401875615119934 ;   discriminator_loss:0.6296383738517761\n",
            "Epoch:183 ;   generator_loss:0.3126091957092285 ;   discriminator_loss:0.6281192898750305\n",
            "Epoch:184 ;   generator_loss:0.31310194730758667 ;   discriminator_loss:0.6273679733276367\n",
            "Epoch:185 ;   generator_loss:0.30998873710632324 ;   discriminator_loss:0.6234321594238281\n",
            "Epoch:186 ;   generator_loss:0.30902066826820374 ;   discriminator_loss:0.6215001344680786\n",
            "Epoch:187 ;   generator_loss:0.3078525960445404 ;   discriminator_loss:0.6192658543586731\n",
            "Epoch:188 ;   generator_loss:0.3075931668281555 ;   discriminator_loss:0.6180074214935303\n",
            "Epoch:189 ;   generator_loss:0.3067946434020996 ;   discriminator_loss:0.6162245273590088\n",
            "Epoch:190 ;   generator_loss:0.306893527507782 ;   discriminator_loss:0.6153532862663269\n",
            "Epoch:191 ;   generator_loss:0.30479931831359863 ;   discriminator_loss:0.6122760772705078\n",
            "Epoch:192 ;   generator_loss:0.3028673529624939 ;   discriminator_loss:0.6085431575775146\n",
            "Epoch:193 ;   generator_loss:0.3026719093322754 ;   discriminator_loss:0.6072925329208374\n",
            "Epoch:194 ;   generator_loss:0.3032309412956238 ;   discriminator_loss:0.6070259809494019\n",
            "Epoch:195 ;   generator_loss:0.30119913816452026 ;   discriminator_loss:0.604637861251831\n",
            "Epoch:196 ;   generator_loss:0.3025391697883606 ;   discriminator_loss:0.6044714450836182\n",
            "Epoch:197 ;   generator_loss:0.2998364567756653 ;   discriminator_loss:0.6007755994796753\n",
            "Epoch:198 ;   generator_loss:0.29783564805984497 ;   discriminator_loss:0.5987637042999268\n",
            "Epoch:199 ;   generator_loss:0.29693859815597534 ;   discriminator_loss:0.5959765315055847\n",
            "Epoch:200 ;   generator_loss:0.29789263010025024 ;   discriminator_loss:0.596045732498169\n",
            "Epoch:201 ;   generator_loss:0.29437094926834106 ;   discriminator_loss:0.5916945934295654\n",
            "Epoch:202 ;   generator_loss:0.29477375745773315 ;   discriminator_loss:0.5910754799842834\n",
            "Epoch:203 ;   generator_loss:0.2935118079185486 ;   discriminator_loss:0.5889178514480591\n",
            "Epoch:204 ;   generator_loss:0.2927839756011963 ;   discriminator_loss:0.5872753858566284\n",
            "Epoch:205 ;   generator_loss:0.2920694351196289 ;   discriminator_loss:0.5865220427513123\n",
            "Epoch:206 ;   generator_loss:0.2915264368057251 ;   discriminator_loss:0.5842892527580261\n",
            "Epoch:207 ;   generator_loss:0.2894483804702759 ;   discriminator_loss:0.5817978978157043\n",
            "Epoch:208 ;   generator_loss:0.288848876953125 ;   discriminator_loss:0.580345869064331\n",
            "Epoch:209 ;   generator_loss:0.28960269689559937 ;   discriminator_loss:0.5796489119529724\n",
            "Epoch:210 ;   generator_loss:0.2894632816314697 ;   discriminator_loss:0.5793680548667908\n",
            "Epoch:211 ;   generator_loss:0.2875211834907532 ;   discriminator_loss:0.5755503177642822\n",
            "Epoch:212 ;   generator_loss:0.2858636975288391 ;   discriminator_loss:0.5739046931266785\n",
            "Epoch:213 ;   generator_loss:0.2847698926925659 ;   discriminator_loss:0.5712612867355347\n",
            "Epoch:214 ;   generator_loss:0.2843123972415924 ;   discriminator_loss:0.569939911365509\n",
            "Epoch:215 ;   generator_loss:0.28257811069488525 ;   discriminator_loss:0.5673442482948303\n",
            "Epoch:216 ;   generator_loss:0.2836098074913025 ;   discriminator_loss:0.5681787133216858\n",
            "Epoch:217 ;   generator_loss:0.281355082988739 ;   discriminator_loss:0.56528639793396\n",
            "Epoch:218 ;   generator_loss:0.2811472713947296 ;   discriminator_loss:0.5634317994117737\n",
            "Epoch:219 ;   generator_loss:0.2799132168292999 ;   discriminator_loss:0.5619148015975952\n",
            "Epoch:220 ;   generator_loss:0.2798462212085724 ;   discriminator_loss:0.5611668825149536\n",
            "Epoch:221 ;   generator_loss:0.27906325459480286 ;   discriminator_loss:0.559656023979187\n",
            "Epoch:222 ;   generator_loss:0.27739715576171875 ;   discriminator_loss:0.5562914609909058\n",
            "Epoch:223 ;   generator_loss:0.27628812193870544 ;   discriminator_loss:0.5543049573898315\n",
            "Epoch:224 ;   generator_loss:0.27528929710388184 ;   discriminator_loss:0.5525668263435364\n",
            "Epoch:225 ;   generator_loss:0.2749181091785431 ;   discriminator_loss:0.5513442754745483\n",
            "Epoch:226 ;   generator_loss:0.27682599425315857 ;   discriminator_loss:0.552215576171875\n",
            "Epoch:227 ;   generator_loss:0.27304673194885254 ;   discriminator_loss:0.5486359000205994\n",
            "Epoch:228 ;   generator_loss:0.2723503112792969 ;   discriminator_loss:0.5469250679016113\n",
            "Epoch:229 ;   generator_loss:0.2716335654258728 ;   discriminator_loss:0.5453323721885681\n",
            "Epoch:230 ;   generator_loss:0.2704147696495056 ;   discriminator_loss:0.5425399541854858\n",
            "Epoch:231 ;   generator_loss:0.27021586894989014 ;   discriminator_loss:0.5417191982269287\n",
            "Epoch:232 ;   generator_loss:0.2688221335411072 ;   discriminator_loss:0.5401080846786499\n",
            "Epoch:233 ;   generator_loss:0.26812463998794556 ;   discriminator_loss:0.5384921431541443\n",
            "Epoch:234 ;   generator_loss:0.26764315366744995 ;   discriminator_loss:0.5367867350578308\n",
            "Epoch:235 ;   generator_loss:0.2670043110847473 ;   discriminator_loss:0.5353329181671143\n",
            "Epoch:236 ;   generator_loss:0.2662416696548462 ;   discriminator_loss:0.533801257610321\n",
            "Epoch:237 ;   generator_loss:0.26549357175827026 ;   discriminator_loss:0.5323000550270081\n",
            "Epoch:238 ;   generator_loss:0.26510757207870483 ;   discriminator_loss:0.531919002532959\n",
            "Epoch:239 ;   generator_loss:0.26435819268226624 ;   discriminator_loss:0.5296096801757812\n",
            "Epoch:240 ;   generator_loss:0.2627676725387573 ;   discriminator_loss:0.527978777885437\n",
            "Epoch:241 ;   generator_loss:0.26192188262939453 ;   discriminator_loss:0.5263751149177551\n",
            "Epoch:242 ;   generator_loss:0.26124221086502075 ;   discriminator_loss:0.5241268873214722\n",
            "Epoch:243 ;   generator_loss:0.2610735297203064 ;   discriminator_loss:0.5238129496574402\n",
            "Epoch:244 ;   generator_loss:0.26043859124183655 ;   discriminator_loss:0.5218120813369751\n",
            "Epoch:245 ;   generator_loss:0.2592986822128296 ;   discriminator_loss:0.5205912590026855\n",
            "Epoch:246 ;   generator_loss:0.25740039348602295 ;   discriminator_loss:0.5172306299209595\n",
            "Epoch:247 ;   generator_loss:0.25745123624801636 ;   discriminator_loss:0.5173428654670715\n",
            "Epoch:248 ;   generator_loss:0.25698840618133545 ;   discriminator_loss:0.516049861907959\n",
            "Epoch:249 ;   generator_loss:0.256708562374115 ;   discriminator_loss:0.5150091052055359\n",
            "Epoch:250 ;   generator_loss:0.255656361579895 ;   discriminator_loss:0.5125043988227844\n",
            "Epoch:251 ;   generator_loss:0.2537906765937805 ;   discriminator_loss:0.5099149942398071\n",
            "Epoch:252 ;   generator_loss:0.2533952593803406 ;   discriminator_loss:0.5094245672225952\n",
            "Epoch:253 ;   generator_loss:0.25342345237731934 ;   discriminator_loss:0.5087955594062805\n",
            "Epoch:254 ;   generator_loss:0.25193503499031067 ;   discriminator_loss:0.5064443349838257\n",
            "Epoch:255 ;   generator_loss:0.2517067790031433 ;   discriminator_loss:0.5049011707305908\n",
            "Epoch:256 ;   generator_loss:0.25113949179649353 ;   discriminator_loss:0.5035266876220703\n",
            "Epoch:257 ;   generator_loss:0.2507792115211487 ;   discriminator_loss:0.5030986666679382\n",
            "Epoch:258 ;   generator_loss:0.24988040328025818 ;   discriminator_loss:0.5008843541145325\n",
            "Epoch:259 ;   generator_loss:0.24884718656539917 ;   discriminator_loss:0.4991647005081177\n",
            "Epoch:260 ;   generator_loss:0.2479892075061798 ;   discriminator_loss:0.49829286336898804\n",
            "Epoch:261 ;   generator_loss:0.2472386658191681 ;   discriminator_loss:0.4961693286895752\n",
            "Epoch:262 ;   generator_loss:0.24694935977458954 ;   discriminator_loss:0.4957928955554962\n",
            "Epoch:263 ;   generator_loss:0.24612632393836975 ;   discriminator_loss:0.4942708909511566\n",
            "Epoch:264 ;   generator_loss:0.24474641680717468 ;   discriminator_loss:0.4915209114551544\n",
            "Epoch:265 ;   generator_loss:0.2444244921207428 ;   discriminator_loss:0.49102070927619934\n",
            "Epoch:266 ;   generator_loss:0.24387481808662415 ;   discriminator_loss:0.4892357587814331\n",
            "Epoch:267 ;   generator_loss:0.24307796359062195 ;   discriminator_loss:0.48777276277542114\n",
            "Epoch:268 ;   generator_loss:0.242294579744339 ;   discriminator_loss:0.48695093393325806\n",
            "Epoch:269 ;   generator_loss:0.24193483591079712 ;   discriminator_loss:0.48526903986930847\n",
            "Epoch:270 ;   generator_loss:0.24135428667068481 ;   discriminator_loss:0.4839990735054016\n",
            "Epoch:271 ;   generator_loss:0.24154388904571533 ;   discriminator_loss:0.48350781202316284\n",
            "Epoch:272 ;   generator_loss:0.2392740547657013 ;   discriminator_loss:0.48116612434387207\n",
            "Epoch:273 ;   generator_loss:0.23904907703399658 ;   discriminator_loss:0.48035985231399536\n",
            "Epoch:274 ;   generator_loss:0.23926913738250732 ;   discriminator_loss:0.47988927364349365\n",
            "Epoch:275 ;   generator_loss:0.23787382245063782 ;   discriminator_loss:0.47715163230895996\n",
            "Epoch:276 ;   generator_loss:0.23699884116649628 ;   discriminator_loss:0.47550004720687866\n",
            "Epoch:277 ;   generator_loss:0.23636479675769806 ;   discriminator_loss:0.4742250442504883\n",
            "Epoch:278 ;   generator_loss:0.23579047620296478 ;   discriminator_loss:0.47312337160110474\n",
            "Epoch:279 ;   generator_loss:0.23617248237133026 ;   discriminator_loss:0.47337234020233154\n",
            "Epoch:280 ;   generator_loss:0.23463863134384155 ;   discriminator_loss:0.4705834984779358\n",
            "Epoch:281 ;   generator_loss:0.23344293236732483 ;   discriminator_loss:0.46941304206848145\n",
            "Epoch:282 ;   generator_loss:0.23326052725315094 ;   discriminator_loss:0.46779659390449524\n",
            "Epoch:283 ;   generator_loss:0.23377126455307007 ;   discriminator_loss:0.46769100427627563\n",
            "Epoch:284 ;   generator_loss:0.23242521286010742 ;   discriminator_loss:0.4658051133155823\n",
            "Epoch:285 ;   generator_loss:0.2311796247959137 ;   discriminator_loss:0.4637768268585205\n",
            "Epoch:286 ;   generator_loss:0.23054558038711548 ;   discriminator_loss:0.463194876909256\n",
            "Epoch:287 ;   generator_loss:0.2306162714958191 ;   discriminator_loss:0.4620259404182434\n",
            "Epoch:288 ;   generator_loss:0.22991183400154114 ;   discriminator_loss:0.46129369735717773\n",
            "Epoch:289 ;   generator_loss:0.22908803820610046 ;   discriminator_loss:0.45977166295051575\n",
            "Epoch:290 ;   generator_loss:0.22857460379600525 ;   discriminator_loss:0.45870089530944824\n",
            "Epoch:291 ;   generator_loss:0.22709517180919647 ;   discriminator_loss:0.4565856456756592\n",
            "Epoch:292 ;   generator_loss:0.22724121809005737 ;   discriminator_loss:0.45613807439804077\n",
            "Epoch:293 ;   generator_loss:0.2263464331626892 ;   discriminator_loss:0.4539988934993744\n",
            "Epoch:294 ;   generator_loss:0.22608423233032227 ;   discriminator_loss:0.4537855088710785\n",
            "Epoch:295 ;   generator_loss:0.2252228558063507 ;   discriminator_loss:0.45226866006851196\n",
            "Epoch:296 ;   generator_loss:0.22410176694393158 ;   discriminator_loss:0.45040374994277954\n",
            "Epoch:297 ;   generator_loss:0.2247018963098526 ;   discriminator_loss:0.44979023933410645\n",
            "Epoch:298 ;   generator_loss:0.22346457839012146 ;   discriminator_loss:0.4485182762145996\n",
            "Epoch:299 ;   generator_loss:0.2230534851551056 ;   discriminator_loss:0.447561115026474\n"
          ]
        }
      ]
    },
    {
      "cell_type": "code",
      "source": [
        "import matplotlib.pyplot as plt\n",
        "import matplotlib.gridspec as gridspec\n",
        "\n",
        "def plot_loss(gen_loss,disc_loss,epochs):\n",
        "  fig = plt.figure(figsize=(16,9))\n",
        "  gs = gridspec.GridSpec(ncols=8, nrows=8, figure=fig)\n",
        "  epoch = epochs[-1]\n",
        "  # plot loss curve\n",
        "  ax_loss = plt.subplot(gs[:,:4])\n",
        "  ax_loss.set_xlim(0, 1.1*epoch)\n",
        "  ax_loss.plot(epochs, gen_loss, label=\"Generator\")\n",
        "  ax_loss.plot(epochs, disc_loss, label=\"Discriminator\")\n",
        "  ax_loss.set_xlabel('Epoch', fontsize=20)\n",
        "  ax_loss.set_ylabel('Loss', fontsize=20)\n",
        "  ax_loss.grid(True)\n",
        "  ax_loss.legend(fontsize=15)"
      ],
      "metadata": {
        "id": "dIoZUUnvsNiC"
      },
      "execution_count": null,
      "outputs": []
    },
    {
      "cell_type": "code",
      "source": [
        "plot_loss(gen_loss_,disc_loss_,epochs_)"
      ],
      "metadata": {
        "colab": {
          "base_uri": "https://localhost:8080/",
          "height": 560
        },
        "id": "PjDQdbIbvuNL",
        "outputId": "becdff1a-ca8e-488b-f497-b73642df19a5"
      },
      "execution_count": null,
      "outputs": [
        {
          "output_type": "display_data",
          "data": {
            "text/plain": [
              "<Figure size 1152x648 with 1 Axes>"
            ],
            "image/png": "[encoded data removed]"
          },
          "metadata": {
            "needs_background": "light"
          }
        }
      ]
    },
    {
      "cell_type": "code",
      "source": [
        "def generate_samples( batch_size, shape=None):\n",
        "\n",
        "  \"\"\"Generates sample using random inputs\n",
        "        \n",
        "            Arguments:\n",
        "                batch_size: int\n",
        "                    Number of samples to generate.\n",
        "                shape: (Optional) tuple of int\n",
        "                    Reshape the output to the given shape.\n",
        "        \"\"\"\n",
        "  z_batch_shape = (batch_size,) + generator_model.input_shape[1:]\n",
        "  z = tf.random.normal(z_batch_shape)\n",
        "  print(z.shape)\n",
        "  samples = generator_model(z,training=False)\n",
        "  print(samples)\n",
        "  # samples = generator_model\n",
        "  if shape is not None:\n",
        "    shape = (batch_size,) + shape\n",
        "    samples = tf.reshape(samples, shape)\n",
        "  return samples\n"
      ],
      "metadata": {
        "id": "qfA38dYNwmt6"
      },
      "execution_count": null,
      "outputs": []
    },
    {
      "cell_type": "code",
      "source": [
        "def predict_gans(x):\n",
        "  return discriminator_model(x,training=False)"
      ],
      "metadata": {
        "id": "YmWaAX20wrhJ"
      },
      "execution_count": null,
      "outputs": []
    },
    {
      "cell_type": "code",
      "source": [
        "def plot_roc_curve(fpr_list,tpr_list,name='QGANS',title='ROC Curve', with_auc=True,labels=''):\n",
        "  n = len(fpr_list)\n",
        "  if labels =='':\n",
        "    labels = ['']*n\n",
        "\n",
        "  plt.clf()\n",
        "  plt.rcParams[\"font.weight\"] = \"bold\"\n",
        "  plt.xlabel(\"Signal Efficiency\", fontsize=18,fontweight='bold')\n",
        "  plt.ylabel(\"Background Rejection\", fontsize=18,fontweight='bold')\n",
        "  plt.title(title, fontsize=16,fontweight='bold')\n",
        "  plt.xlim(0.0, 1.0)\n",
        "  plt.ylim(0.0, 1.0)\n",
        "  plt.grid(color='gray', linestyle='--', linewidth=1)  \n",
        "  for fpr,tpr,label in zip(fpr_list, tpr_list, labels):\n",
        "    if with_auc:\n",
        "      roc_auc = auc(fpr, tpr)\n",
        "      label += ', AUC={:.4f}'.format(roc_auc)\n",
        "    plt.plot(tpr,1-fpr, linestyle='-',label=label,linewidth=2)\n",
        "  plt.plot([0, 1], [1, 0], linestyle='--', color='black', label=' AUC= 0.5')\n",
        "  plt.legend(loc='best',prop={'size': 8})    \n",
        "  return plt "
      ],
      "metadata": {
        "id": "s17w7LBpxYw9"
      },
      "execution_count": null,
      "outputs": []
    },
    {
      "cell_type": "code",
      "source": [
        "samples = generate_samples(batch_size=50,shape=(5,)).numpy()\n",
        "make_plots([X_train_1, samples], ['true signal', 'fake signal'])\n",
        "# print(type(samples))\n",
        "# print(samples)"
      ],
      "metadata": {
        "colab": {
          "base_uri": "https://localhost:8080/",
          "height": 1000
        },
        "id": "A6n2v6RLxoFU",
        "outputId": "ea7b1dc4-7616-4096-d73c-e14e7cddb4db"
      },
      "execution_count": null,
      "outputs": [
        {
          "output_type": "stream",
          "name": "stdout",
          "text": [
            "(50, 5)\n",
            "tf.Tensor(\n",
            "[[-0.81226027  0.8624389   0.9774055  -0.06278701 -0.3300127 ]\n",
            " [ 0.8904578   0.54037905  0.97818065 -0.06492607 -0.32998618]\n",
            " [ 0.7185987  -0.22303994  0.9654237  -0.7365783  -0.3288512 ]\n",
            " [ 0.6840622   0.3310917   0.97180784 -0.60596687 -0.3297837 ]\n",
            " [-0.06091264 -0.17406318  0.9635396  -0.4364689  -0.32800663]\n",
            " [-0.42624098 -0.144428    0.9733298  -0.3119309  -0.3297571 ]\n",
            " [ 0.19640777  0.45132473  0.97174805 -0.38568747 -0.32961288]\n",
            " [ 0.38297847  0.16277027  0.96235675 -0.8515135  -0.32910874]\n",
            " [ 0.34387422 -0.22703765  0.9700827  -0.5521591  -0.32968736]\n",
            " [-0.41307068  0.33314526  0.97722465 -0.11103152 -0.3299328 ]\n",
            " [-0.5573306   0.41039115  0.962413   -0.85040677 -0.32914233]\n",
            " [-0.22946897  0.29155982  0.97329503 -0.3451093  -0.32977355]\n",
            " [-0.8431724   0.8276117   0.96346885 -0.88325495 -0.32925144]\n",
            " [ 0.33439064 -0.03358981  0.97183007 -0.38850114 -0.32961655]\n",
            " [ 0.1458024  -0.15569378  0.9602019  -0.746092   -0.3287665 ]\n",
            " [-0.46094006 -0.3240499   0.9775459  -0.16072917 -0.33000508]\n",
            " [ 0.05379308  0.94396645  0.9759     -0.15465531 -0.32988927]\n",
            " [ 0.12586808 -0.2363728   0.97737706 -0.11510664 -0.3299742 ]\n",
            " [ 0.6992985   0.84121495  0.9708657   0.76771635 -0.32737476]\n",
            " [ 0.0086638   0.6821643   0.9754321  -0.31198904 -0.3299501 ]\n",
            " [-0.41058794  0.4161109   0.9690955  -0.6544248  -0.32962713]\n",
            " [ 0.8881655   0.05272215  0.9594873  -0.35103017 -0.32819074]\n",
            " [-0.41211158  0.00902163  0.9755603  -0.15363972 -0.32987946]\n",
            " [-0.47102353  0.15916818  0.9605079  -0.9416522  -0.3286974 ]\n",
            " [-0.42797115  0.79168427  0.96424216  0.38734263 -0.3276838 ]\n",
            " [-0.89047605  0.67072487  0.96443117 -0.6681497  -0.32851362]\n",
            " [-0.9422035  -0.09220494  0.97663933 -0.17151944 -0.32992005]\n",
            " [ 0.00905549 -0.5931683   0.9729933  -0.47008663 -0.3298507 ]\n",
            " [ 0.90908647  0.16633609  0.96679235 -0.6085354  -0.3289457 ]\n",
            " [ 0.20051946  0.19402526  0.9734807  -0.44814375 -0.32986772]\n",
            " [-0.20975533  0.6997298   0.9733212  -0.35971105 -0.32975173]\n",
            " [-0.21787654 -0.28365618  0.9766795  -0.228408   -0.32998827]\n",
            " [-0.5246429   0.8280401   0.9641988  -0.7922339  -0.32903153]\n",
            " [ 0.7602414  -0.5098637   0.9648433  -0.74117684 -0.32880336]\n",
            " [-0.18286261  0.23663989  0.9713562  -0.43328384 -0.32955596]\n",
            " [-0.188778    0.84755486  0.9767174  -0.23114263 -0.3299963 ]\n",
            " [ 0.81479293  0.52726156  0.97141963 -0.57955074 -0.32973623]\n",
            " [ 0.07453103 -0.05028261  0.97730577 -0.12785193 -0.32998273]\n",
            " [-0.21725824  0.24901819  0.97625595 -0.12965126 -0.32991242]\n",
            " [ 0.3173645   0.17730856  0.9674644  -0.528634   -0.32941186]\n",
            " [ 0.11794949 -0.01904543  0.9617292  -0.8361246  -0.32905528]\n",
            " [-0.77090394  0.67801905  0.97773075 -0.1119261  -0.33000877]\n",
            " [-0.61766994 -0.2518081   0.9638862  -0.6717353  -0.32845804]\n",
            " [-0.56150055  0.8213521   0.97755563 -0.14978024 -0.32999983]\n",
            " [ 0.12617786 -0.08029623  0.97717965 -0.11754178 -0.33000067]\n",
            " [ 0.3915628   0.51522934  0.97613794 -0.26921538 -0.32997707]\n",
            " [-0.5966829   0.4306505   0.966803   -0.77079153 -0.3295672 ]\n",
            " [-0.68031687  0.835961    0.96677214 -0.68790364 -0.32920343]\n",
            " [-0.24191342 -0.22696832  0.9682566  -0.67012596 -0.32955408]\n",
            " [ 0.02543429 -0.19559865  0.97447264 -0.22587937 -0.3297897 ]], shape=(50, 5), dtype=float32)\n"
          ]
        },
        {
          "output_type": "display_data",
          "data": {
            "text/plain": [
              "<Figure size 1440x720 with 5 Axes>"
            ],
            "image/png": "[encoded data removed]"
          },
          "metadata": {
            "needs_background": "light"
          }
        }
      ]
    },
    {
      "cell_type": "code",
      "source": [
        "from sklearn.metrics import roc_curve, auc, roc_auc_score\n",
        "def test_gans( x, y, plot=True):\n",
        "  score = predict_gans(x)\n",
        "  # print(y)\n",
        "  print(score)\n",
        "  fpr, tpr, thresholds = roc_curve(y, score)\n",
        "  roc_auc = auc(fpr, tpr)\n",
        "  print(\"AUC = \",roc_auc)\n",
        "  if plot:\n",
        "    return plot_roc_curve(fpr_list=[fpr],tpr_list=[tpr], name='QGAN_with_DataReuploading')\n",
        "  else:\n",
        "    return roc_auc"
      ],
      "metadata": {
        "id": "Lv_aKprOxcXY"
      },
      "execution_count": null,
      "outputs": []
    },
    {
      "cell_type": "code",
      "source": [
        "test_gans(X_test,y_test)"
      ],
      "metadata": {
        "colab": {
          "base_uri": "https://localhost:8080/",
          "height": 1000
        },
        "id": "pBt7Etabxe1b",
        "outputId": "14226db5-ea4f-4ccc-8ce9-063dfcdae67c"
      },
      "execution_count": null,
      "outputs": [
        {
          "output_type": "stream",
          "name": "stdout",
          "text": [
            "tf.Tensor(\n",
            "[[1.3892895]\n",
            " [1.3833108]\n",
            " [1.3949049]\n",
            " [1.3724158]\n",
            " [1.3910756]\n",
            " [1.3640913]\n",
            " [1.269513 ]\n",
            " [1.3664634]\n",
            " [1.3605893]\n",
            " [1.3625238]\n",
            " [1.3904614]\n",
            " [1.3660349]\n",
            " [1.387258 ]\n",
            " [1.3715743]\n",
            " [1.3671527]\n",
            " [1.386703 ]\n",
            " [1.3628014]\n",
            " [1.3591697]\n",
            " [1.3652322]\n",
            " [1.3947616]\n",
            " [1.3611407]\n",
            " [1.3889325]\n",
            " [1.3682   ]\n",
            " [1.3871996]\n",
            " [1.3890157]\n",
            " [1.3881744]\n",
            " [1.3877985]\n",
            " [1.3889545]\n",
            " [1.367337 ]\n",
            " [1.3871913]\n",
            " [1.3880565]\n",
            " [1.3713751]\n",
            " [1.3936913]\n",
            " [1.3857458]\n",
            " [1.385315 ]\n",
            " [1.3902643]\n",
            " [1.3727388]\n",
            " [1.3725808]\n",
            " [1.3882776]\n",
            " [1.3612968]\n",
            " [1.3612089]\n",
            " [1.3645227]\n",
            " [1.3875012]\n",
            " [1.38417  ]\n",
            " [1.3813746]\n",
            " [1.3898242]\n",
            " [1.3896041]\n",
            " [1.3729116]\n",
            " [1.3664906]\n",
            " [1.395444 ]\n",
            " [1.394079 ]\n",
            " [1.3870087]\n",
            " [1.3940129]\n",
            " [1.388085 ]\n",
            " [1.3936936]\n",
            " [1.3904469]\n",
            " [1.3949616]\n",
            " [1.3878057]\n",
            " [1.3890924]\n",
            " [1.3932552]\n",
            " [1.3899676]\n",
            " [1.3879116]\n",
            " [1.3902423]\n",
            " [1.39174  ]\n",
            " [1.380449 ]\n",
            " [1.3732774]\n",
            " [1.3903222]\n",
            " [1.3815582]\n",
            " [1.3856387]\n",
            " [1.3903351]\n",
            " [1.3912585]\n",
            " [1.3949137]\n",
            " [1.3828332]\n",
            " [1.3930992]\n",
            " [1.388989 ]\n",
            " [1.3899611]\n",
            " [1.3802795]\n",
            " [1.3871965]\n",
            " [1.3681864]\n",
            " [1.3793534]\n",
            " [1.395638 ]\n",
            " [1.3870087]\n",
            " [1.3934665]\n",
            " [1.3877988]\n",
            " [1.3705761]\n",
            " [1.3674711]\n",
            " [1.3549979]\n",
            " [1.3940847]\n",
            " [1.3946979]\n",
            " [1.3930528]\n",
            " [1.38663  ]\n",
            " [1.393326 ]\n",
            " [1.3918083]\n",
            " [1.299545 ]\n",
            " [1.3838964]\n",
            " [1.3894509]\n",
            " [1.3779953]\n",
            " [1.3926013]\n",
            " [1.394741 ]\n",
            " [1.3830125]], shape=(100, 1), dtype=float32)\n",
            "AUC =  0.7072\n"
          ]
        },
        {
          "output_type": "execute_result",
          "data": {
            "text/plain": [
              "<module 'matplotlib.pyplot' from '/usr/local/lib/python3.7/dist-packages/matplotlib/pyplot.py'>"
            ]
          },
          "metadata": {},
          "execution_count": 48
        },
        {
          "output_type": "display_data",
          "data": {
            "text/plain": [
              "<Figure size 432x288 with 1 Axes>"
            ],
            "image/png": "[encoded data removed]"
          },
          "metadata": {
            "needs_background": "light"
          }
        }
      ]
    },
    {
      "cell_type": "code",
      "source": [
        ""
      ],
      "metadata": {
        "id": "woQjmqcXxhO7"
      },
      "execution_count": null,
      "outputs": []
    }
  ]
}