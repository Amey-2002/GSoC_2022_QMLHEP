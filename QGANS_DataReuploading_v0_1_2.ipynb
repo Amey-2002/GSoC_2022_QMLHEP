{
  "nbformat": 4,
  "nbformat_minor": 0,
  "metadata": {
    "colab": {
      "name": "QGANS_DataReuploading_v0.1.2.ipynb",
      "provenance": [],
      "collapsed_sections": [],
      "authorship_tag": "ABX9TyOzsNaAKVW8jQfugDBm9nEd"
    },
    "kernelspec": {
      "name": "python3",
      "display_name": "Python 3"
    },
    "language_info": {
      "name": "python"
    }
  },
  "cells": [
    {
      "cell_type": "code",
      "execution_count": null,
      "metadata": {
        "colab": {
          "base_uri": "https://localhost:8080/",
          "height": 1000
        },
        "id": "PJiDFzG28JJG",
        "outputId": "e4bf85a5-73aa-4c58-f341-248ff02d5a30"
      },
      "outputs": [
        {
          "output_type": "stream",
          "name": "stdout",
          "text": [
            "Looking in indexes: https://pypi.org/simple, https://us-python.pkg.dev/colab-wheels/public/simple/\n",
            "Collecting tensorflow==2.7.0\n",
            "  Downloading https://us-python.pkg.dev/colab-wheels/public/tensorflow/tensorflow-2.7.0%2Bzzzcolab20220506150900-cp37-cp37m-linux_x86_64.whl (665.5 MB)\n",
            "\u001b[K     |████████████████████████████████| 665.5 MB 10 kB/s \n",
            "\u001b[?25hRequirement already satisfied: typing-extensions>=3.6.6 in /usr/local/lib/python3.7/dist-packages (from tensorflow==2.7.0) (4.1.1)\n",
            "Requirement already satisfied: grpcio<2.0,>=1.24.3 in /usr/local/lib/python3.7/dist-packages (from tensorflow==2.7.0) (1.47.0)\n",
            "Collecting tensorflow-estimator<2.8,~=2.7.0rc0\n",
            "  Downloading tensorflow_estimator-2.7.0-py2.py3-none-any.whl (463 kB)\n",
            "\u001b[K     |████████████████████████████████| 463 kB 7.6 MB/s \n",
            "\u001b[?25hRequirement already satisfied: astunparse>=1.6.0 in /usr/local/lib/python3.7/dist-packages (from tensorflow==2.7.0) (1.6.3)\n",
            "Requirement already satisfied: opt-einsum>=2.3.2 in /usr/local/lib/python3.7/dist-packages (from tensorflow==2.7.0) (3.3.0)\n",
            "Requirement already satisfied: numpy>=1.14.5 in /usr/local/lib/python3.7/dist-packages (from tensorflow==2.7.0) (1.21.6)\n",
            "Requirement already satisfied: tensorflow-io-gcs-filesystem>=0.21.0 in /usr/local/lib/python3.7/dist-packages (from tensorflow==2.7.0) (0.26.0)\n",
            "Requirement already satisfied: libclang>=9.0.1 in /usr/local/lib/python3.7/dist-packages (from tensorflow==2.7.0) (14.0.1)\n",
            "Requirement already satisfied: flatbuffers<3.0,>=1.12 in /usr/local/lib/python3.7/dist-packages (from tensorflow==2.7.0) (2.0)\n",
            "Requirement already satisfied: termcolor>=1.1.0 in /usr/local/lib/python3.7/dist-packages (from tensorflow==2.7.0) (1.1.0)\n",
            "Requirement already satisfied: six>=1.12.0 in /usr/local/lib/python3.7/dist-packages (from tensorflow==2.7.0) (1.15.0)\n",
            "Requirement already satisfied: tensorboard~=2.6 in /usr/local/lib/python3.7/dist-packages (from tensorflow==2.7.0) (2.8.0)\n",
            "Requirement already satisfied: keras-preprocessing>=1.1.1 in /usr/local/lib/python3.7/dist-packages (from tensorflow==2.7.0) (1.1.2)\n",
            "Requirement already satisfied: wrapt>=1.11.0 in /usr/local/lib/python3.7/dist-packages (from tensorflow==2.7.0) (1.14.1)\n",
            "Requirement already satisfied: h5py>=2.9.0 in /usr/local/lib/python3.7/dist-packages (from tensorflow==2.7.0) (3.1.0)\n",
            "Requirement already satisfied: wheel<1.0,>=0.32.0 in /usr/local/lib/python3.7/dist-packages (from tensorflow==2.7.0) (0.37.1)\n",
            "Collecting gast<0.5.0,>=0.2.1\n",
            "  Downloading gast-0.4.0-py3-none-any.whl (9.8 kB)\n",
            "Collecting keras<2.8,>=2.7.0rc0\n",
            "  Downloading keras-2.7.0-py2.py3-none-any.whl (1.3 MB)\n",
            "\u001b[K     |████████████████████████████████| 1.3 MB 33.5 MB/s \n",
            "\u001b[?25hRequirement already satisfied: google-pasta>=0.1.1 in /usr/local/lib/python3.7/dist-packages (from tensorflow==2.7.0) (0.2.0)\n",
            "Requirement already satisfied: protobuf>=3.9.2 in /usr/local/lib/python3.7/dist-packages (from tensorflow==2.7.0) (3.17.3)\n",
            "Requirement already satisfied: absl-py>=0.4.0 in /usr/local/lib/python3.7/dist-packages (from tensorflow==2.7.0) (1.2.0)\n",
            "Requirement already satisfied: cached-property in /usr/local/lib/python3.7/dist-packages (from h5py>=2.9.0->tensorflow==2.7.0) (1.5.2)\n",
            "Requirement already satisfied: markdown>=2.6.8 in /usr/local/lib/python3.7/dist-packages (from tensorboard~=2.6->tensorflow==2.7.0) (3.4.1)\n",
            "Requirement already satisfied: requests<3,>=2.21.0 in /usr/local/lib/python3.7/dist-packages (from tensorboard~=2.6->tensorflow==2.7.0) (2.23.0)\n",
            "Requirement already satisfied: setuptools>=41.0.0 in /usr/local/lib/python3.7/dist-packages (from tensorboard~=2.6->tensorflow==2.7.0) (57.4.0)\n",
            "Requirement already satisfied: tensorboard-data-server<0.7.0,>=0.6.0 in /usr/local/lib/python3.7/dist-packages (from tensorboard~=2.6->tensorflow==2.7.0) (0.6.1)\n",
            "Requirement already satisfied: werkzeug>=0.11.15 in /usr/local/lib/python3.7/dist-packages (from tensorboard~=2.6->tensorflow==2.7.0) (1.0.1)\n",
            "Requirement already satisfied: tensorboard-plugin-wit>=1.6.0 in /usr/local/lib/python3.7/dist-packages (from tensorboard~=2.6->tensorflow==2.7.0) (1.8.1)\n",
            "Requirement already satisfied: google-auth-oauthlib<0.5,>=0.4.1 in /usr/local/lib/python3.7/dist-packages (from tensorboard~=2.6->tensorflow==2.7.0) (0.4.6)\n",
            "Requirement already satisfied: google-auth<3,>=1.6.3 in /usr/local/lib/python3.7/dist-packages (from tensorboard~=2.6->tensorflow==2.7.0) (1.18.0)\n",
            "Requirement already satisfied: pyasn1-modules>=0.2.1 in /usr/local/lib/python3.7/dist-packages (from google-auth<3,>=1.6.3->tensorboard~=2.6->tensorflow==2.7.0) (0.2.8)\n",
            "Requirement already satisfied: cachetools<5.0,>=2.0.0 in /usr/local/lib/python3.7/dist-packages (from google-auth<3,>=1.6.3->tensorboard~=2.6->tensorflow==2.7.0) (4.2.4)\n",
            "Requirement already satisfied: rsa<5,>=3.1.4 in /usr/local/lib/python3.7/dist-packages (from google-auth<3,>=1.6.3->tensorboard~=2.6->tensorflow==2.7.0) (4.9)\n",
            "Requirement already satisfied: requests-oauthlib>=0.7.0 in /usr/local/lib/python3.7/dist-packages (from google-auth-oauthlib<0.5,>=0.4.1->tensorboard~=2.6->tensorflow==2.7.0) (1.3.1)\n",
            "Requirement already satisfied: importlib-metadata>=4.4 in /usr/local/lib/python3.7/dist-packages (from markdown>=2.6.8->tensorboard~=2.6->tensorflow==2.7.0) (4.12.0)\n",
            "Requirement already satisfied: zipp>=0.5 in /usr/local/lib/python3.7/dist-packages (from importlib-metadata>=4.4->markdown>=2.6.8->tensorboard~=2.6->tensorflow==2.7.0) (3.8.1)\n",
            "Requirement already satisfied: pyasn1<0.5.0,>=0.4.6 in /usr/local/lib/python3.7/dist-packages (from pyasn1-modules>=0.2.1->google-auth<3,>=1.6.3->tensorboard~=2.6->tensorflow==2.7.0) (0.4.8)\n",
            "Requirement already satisfied: chardet<4,>=3.0.2 in /usr/local/lib/python3.7/dist-packages (from requests<3,>=2.21.0->tensorboard~=2.6->tensorflow==2.7.0) (3.0.4)\n",
            "Requirement already satisfied: idna<3,>=2.5 in /usr/local/lib/python3.7/dist-packages (from requests<3,>=2.21.0->tensorboard~=2.6->tensorflow==2.7.0) (2.10)\n",
            "Requirement already satisfied: urllib3!=1.25.0,!=1.25.1,<1.26,>=1.21.1 in /usr/local/lib/python3.7/dist-packages (from requests<3,>=2.21.0->tensorboard~=2.6->tensorflow==2.7.0) (1.24.3)\n",
            "Requirement already satisfied: certifi>=2017.4.17 in /usr/local/lib/python3.7/dist-packages (from requests<3,>=2.21.0->tensorboard~=2.6->tensorflow==2.7.0) (2022.6.15)\n",
            "Requirement already satisfied: oauthlib>=3.0.0 in /usr/local/lib/python3.7/dist-packages (from requests-oauthlib>=0.7.0->google-auth-oauthlib<0.5,>=0.4.1->tensorboard~=2.6->tensorflow==2.7.0) (3.2.0)\n",
            "Installing collected packages: tensorflow-estimator, keras, gast, tensorflow\n",
            "  Attempting uninstall: tensorflow-estimator\n",
            "    Found existing installation: tensorflow-estimator 2.8.0\n",
            "    Uninstalling tensorflow-estimator-2.8.0:\n",
            "      Successfully uninstalled tensorflow-estimator-2.8.0\n",
            "  Attempting uninstall: keras\n",
            "    Found existing installation: keras 2.8.0\n",
            "    Uninstalling keras-2.8.0:\n",
            "      Successfully uninstalled keras-2.8.0\n",
            "  Attempting uninstall: gast\n",
            "    Found existing installation: gast 0.5.3\n",
            "    Uninstalling gast-0.5.3:\n",
            "      Successfully uninstalled gast-0.5.3\n",
            "  Attempting uninstall: tensorflow\n",
            "    Found existing installation: tensorflow 2.8.2+zzzcolab20220719082949\n",
            "    Uninstalling tensorflow-2.8.2+zzzcolab20220719082949:\n",
            "      Successfully uninstalled tensorflow-2.8.2+zzzcolab20220719082949\n",
            "Successfully installed gast-0.4.0 keras-2.7.0 tensorflow-2.7.0+zzzcolab20220506150900 tensorflow-estimator-2.7.0\n"
          ]
        },
        {
          "output_type": "display_data",
          "data": {
            "application/vnd.colab-display-data+json": {
              "pip_warning": {
                "packages": [
                  "gast",
                  "keras",
                  "tensorflow"
                ]
              }
            }
          },
          "metadata": {}
        }
      ],
      "source": [
        "pip install tensorflow==2.7.0"
      ]
    },
    {
      "cell_type": "code",
      "source": [
        "pip install tensorflow-quantum==0.6.0 --use-deprecated=legacy-resolver"
      ],
      "metadata": {
        "colab": {
          "base_uri": "https://localhost:8080/"
        },
        "id": "63rPs6he8VNO",
        "outputId": "76785a73-1583-4109-ad04-004f7630914b"
      },
      "execution_count": 1,
      "outputs": [
        {
          "output_type": "stream",
          "name": "stdout",
          "text": [
            "Looking in indexes: https://pypi.org/simple, https://us-python.pkg.dev/colab-wheels/public/simple/\n",
            "Requirement already satisfied: tensorflow-quantum==0.6.0 in /usr/local/lib/python3.7/dist-packages (0.6.0)\n",
            "Requirement already satisfied: protobuf==3.17.3 in /usr/local/lib/python3.7/dist-packages (from tensorflow-quantum==0.6.0) (3.17.3)\n",
            "Requirement already satisfied: cirq-google>=0.13.1 in /usr/local/lib/python3.7/dist-packages (from tensorflow-quantum==0.6.0) (1.0.0)\n",
            "Requirement already satisfied: sympy==1.8 in /usr/local/lib/python3.7/dist-packages (from tensorflow-quantum==0.6.0) (1.8)\n",
            "Requirement already satisfied: google-api-core==1.21.0 in /usr/local/lib/python3.7/dist-packages (from tensorflow-quantum==0.6.0) (1.21.0)\n",
            "Requirement already satisfied: google-auth==1.18.0 in /usr/local/lib/python3.7/dist-packages (from tensorflow-quantum==0.6.0) (1.18.0)\n",
            "Requirement already satisfied: googleapis-common-protos==1.52.0 in /usr/local/lib/python3.7/dist-packages (from tensorflow-quantum==0.6.0) (1.52.0)\n",
            "Requirement already satisfied: cirq-core>=0.13.1 in /usr/local/lib/python3.7/dist-packages (from tensorflow-quantum==0.6.0) (1.0.0)\n",
            "Requirement already satisfied: six>=1.9 in /usr/local/lib/python3.7/dist-packages (from protobuf==3.17.3->tensorflow-quantum==0.6.0) (1.15.0)\n",
            "Requirement already satisfied: proto-plus>=1.20.0 in /usr/local/lib/python3.7/dist-packages (from cirq-google>=0.13.1->tensorflow-quantum==0.6.0) (1.20.6)\n",
            "Requirement already satisfied: mpmath>=0.19 in /usr/local/lib/python3.7/dist-packages (from sympy==1.8->tensorflow-quantum==0.6.0) (1.2.1)\n",
            "Requirement already satisfied: pytz in /usr/local/lib/python3.7/dist-packages (from google-api-core==1.21.0->tensorflow-quantum==0.6.0) (2022.1)\n",
            "Requirement already satisfied: requests<3.0.0dev,>=2.18.0 in /usr/local/lib/python3.7/dist-packages (from google-api-core==1.21.0->tensorflow-quantum==0.6.0) (2.23.0)\n",
            "Requirement already satisfied: setuptools>=34.0.0 in /usr/local/lib/python3.7/dist-packages (from google-api-core==1.21.0->tensorflow-quantum==0.6.0) (57.4.0)\n",
            "Requirement already satisfied: rsa<5,>=3.1.4; python_version >= \"3\" in /usr/local/lib/python3.7/dist-packages (from google-auth==1.18.0->tensorflow-quantum==0.6.0) (4.9)\n",
            "Requirement already satisfied: pyasn1-modules>=0.2.1 in /usr/local/lib/python3.7/dist-packages (from google-auth==1.18.0->tensorflow-quantum==0.6.0) (0.2.8)\n",
            "Requirement already satisfied: cachetools<5.0,>=2.0.0 in /usr/local/lib/python3.7/dist-packages (from google-auth==1.18.0->tensorflow-quantum==0.6.0) (4.2.4)\n",
            "Requirement already satisfied: sortedcontainers~=2.0 in /usr/local/lib/python3.7/dist-packages (from cirq-core>=0.13.1->tensorflow-quantum==0.6.0) (2.4.0)\n",
            "Requirement already satisfied: networkx~=2.4 in /usr/local/lib/python3.7/dist-packages (from cirq-core>=0.13.1->tensorflow-quantum==0.6.0) (2.6.3)\n",
            "Requirement already satisfied: scipy in /usr/local/lib/python3.7/dist-packages (from cirq-core>=0.13.1->tensorflow-quantum==0.6.0) (1.7.3)\n",
            "Requirement already satisfied: matplotlib~=3.0 in /usr/local/lib/python3.7/dist-packages (from cirq-core>=0.13.1->tensorflow-quantum==0.6.0) (3.2.2)\n",
            "Requirement already satisfied: backports.cached-property~=1.0.1; python_version < \"3.8\" in /usr/local/lib/python3.7/dist-packages (from cirq-core>=0.13.1->tensorflow-quantum==0.6.0) (1.0.2)\n",
            "Requirement already satisfied: typing-extensions in /usr/local/lib/python3.7/dist-packages (from cirq-core>=0.13.1->tensorflow-quantum==0.6.0) (4.1.1)\n",
            "Requirement already satisfied: duet~=0.2.7 in /usr/local/lib/python3.7/dist-packages (from cirq-core>=0.13.1->tensorflow-quantum==0.6.0) (0.2.7)\n",
            "Requirement already satisfied: tqdm in /usr/local/lib/python3.7/dist-packages (from cirq-core>=0.13.1->tensorflow-quantum==0.6.0) (4.64.0)\n",
            "Requirement already satisfied: numpy~=1.16 in /usr/local/lib/python3.7/dist-packages (from cirq-core>=0.13.1->tensorflow-quantum==0.6.0) (1.21.6)\n",
            "Requirement already satisfied: pandas in /usr/local/lib/python3.7/dist-packages (from cirq-core>=0.13.1->tensorflow-quantum==0.6.0) (1.3.5)\n",
            "Requirement already satisfied: urllib3!=1.25.0,!=1.25.1,<1.26,>=1.21.1 in /usr/local/lib/python3.7/dist-packages (from requests<3.0.0dev,>=2.18.0->google-api-core==1.21.0->tensorflow-quantum==0.6.0) (1.24.3)\n",
            "Requirement already satisfied: certifi>=2017.4.17 in /usr/local/lib/python3.7/dist-packages (from requests<3.0.0dev,>=2.18.0->google-api-core==1.21.0->tensorflow-quantum==0.6.0) (2022.6.15)\n",
            "Requirement already satisfied: idna<3,>=2.5 in /usr/local/lib/python3.7/dist-packages (from requests<3.0.0dev,>=2.18.0->google-api-core==1.21.0->tensorflow-quantum==0.6.0) (2.10)\n",
            "Requirement already satisfied: chardet<4,>=3.0.2 in /usr/local/lib/python3.7/dist-packages (from requests<3.0.0dev,>=2.18.0->google-api-core==1.21.0->tensorflow-quantum==0.6.0) (3.0.4)\n",
            "Requirement already satisfied: pyasn1>=0.1.3 in /usr/local/lib/python3.7/dist-packages (from rsa<5,>=3.1.4; python_version >= \"3\"->google-auth==1.18.0->tensorflow-quantum==0.6.0) (0.4.8)\n",
            "Requirement already satisfied: cycler>=0.10 in /usr/local/lib/python3.7/dist-packages (from matplotlib~=3.0->cirq-core>=0.13.1->tensorflow-quantum==0.6.0) (0.11.0)\n",
            "Requirement already satisfied: python-dateutil>=2.1 in /usr/local/lib/python3.7/dist-packages (from matplotlib~=3.0->cirq-core>=0.13.1->tensorflow-quantum==0.6.0) (2.8.2)\n",
            "Requirement already satisfied: kiwisolver>=1.0.1 in /usr/local/lib/python3.7/dist-packages (from matplotlib~=3.0->cirq-core>=0.13.1->tensorflow-quantum==0.6.0) (1.4.4)\n",
            "Requirement already satisfied: pyparsing!=2.0.4,!=2.1.2,!=2.1.6,>=2.0.1 in /usr/local/lib/python3.7/dist-packages (from matplotlib~=3.0->cirq-core>=0.13.1->tensorflow-quantum==0.6.0) (3.0.9)\n"
          ]
        }
      ]
    },
    {
      "cell_type": "code",
      "source": [
        "import numpy as np \n",
        "import sympy as sp\n",
        "import pandas as pd\n",
        "import tensorflow as tf\n",
        "import tensorflow_quantum as tfq\n",
        "import cirq\n",
        "from tensorflow_quantum.python.layers.circuit_construction import elementary\n",
        "from cirq.contrib.svg import SVGCircuit\n",
        "# from quple import ParameterisedCircuit\n",
        "# import quple\n",
        "\n",
        "%matplotlib inline\n",
        "import matplotlib.pyplot as plt"
      ],
      "metadata": {
        "id": "yzR7r-YZ8_Ke"
      },
      "execution_count": 2,
      "outputs": []
    },
    {
      "cell_type": "code",
      "source": [
        "from google.colab import files\n",
        "upload_file = files.upload()"
      ],
      "metadata": {
        "colab": {
          "resources": {
            "http://localhost:8080/nbextensions/google.colab/files.js": {
              "data": "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",
              "ok": true,
              "headers": [
                [
                  "content-type",
                  "application/javascript"
                ]
              ],
              "status": 200,
              "status_text": ""
            }
          },
          "base_uri": "https://localhost:8080/",
          "height": 74
        },
        "id": "AVZ6vXv09K2t",
        "outputId": "893e7ff9-5164-49e6-f1af-f7206cc271d2"
      },
      "execution_count": 3,
      "outputs": [
        {
          "output_type": "display_data",
          "data": {
            "text/plain": [
              "<IPython.core.display.HTML object>"
            ],
            "text/html": [
              "\n",
              "     <input type=\"file\" id=\"files-57d3ccbc-22f5-42e4-9f14-05a4d4370010\" name=\"files[]\" multiple disabled\n",
              "        style=\"border:none\" />\n",
              "     <output id=\"result-57d3ccbc-22f5-42e4-9f14-05a4d4370010\">\n",
              "      Upload widget is only available when the cell has been executed in the\n",
              "      current browser session. Please rerun this cell to enable.\n",
              "      </output>\n",
              "      <script src=\"/nbextensions/google.colab/files.js\"></script> "
            ]
          },
          "metadata": {}
        },
        {
          "output_type": "stream",
          "name": "stdout",
          "text": [
            "Saving QIS_EXAM_200Events.npz to QIS_EXAM_200Events (4).npz\n"
          ]
        }
      ]
    },
    {
      "cell_type": "code",
      "source": [
        "data = np.load('./QIS_EXAM_200Events.npz',allow_pickle = True)\n",
        "X_train = data['training_input'].item()\n",
        "X_test = data['test_input'].item()\n",
        "# print(X_train['0'])\n",
        "X_train_0 = X_train['0']\n",
        "X_test_0 = X_test['0']\n",
        "X_train_1 = X_train['1']\n",
        "X_test_1 = X_test['1']\n",
        "\n",
        "\n",
        "X_train = np.concatenate((X_train_0,X_train_1),axis=0)\n",
        "X_test = np.concatenate((X_test_0,X_test_1),axis=0)\n",
        "\n",
        "y_train = np.zeros((len(X_train),1))\n",
        "y_test = np.zeros((len(X_test),1))\n",
        "y_train[len(X_train_0):] = 1\n",
        "y_test[len(X_test_0):] = 1\n",
        "# print([d.T for d in [X_train_1, X_train_0] ])\n",
        "\n",
        "print(X_train_0[0].shape)"
      ],
      "metadata": {
        "colab": {
          "base_uri": "https://localhost:8080/"
        },
        "id": "9Ulv1uZz9TH_",
        "outputId": "3100da11-cc45-4c9f-a25b-5ce4bfb193e1"
      },
      "execution_count": 4,
      "outputs": [
        {
          "output_type": "stream",
          "name": "stdout",
          "text": [
            "(5,)\n"
          ]
        }
      ]
    },
    {
      "cell_type": "code",
      "source": [
        "def make_plots(data, labels, binning=20, columns=3):\n",
        "    X = [d.T for d in data]\n",
        "    fig=plt.figure(figsize=(20, 10))\n",
        "    rows =  1 + (X[0].shape[0] // columns)\n",
        "    bins = np.histogram(np.hstack(tuple(X)), bins=binning)[1]\n",
        "    plt.subplots_adjust(hspace=0.3)\n",
        "    for i in range(X[0].shape[0]):\n",
        "        ax = fig.add_subplot(rows, columns, i+1)\n",
        "        ax.set_title('Variable {}'.format(i+1), fontsize=15)\n",
        "        for j, x in enumerate(X):\n",
        "            ax.hist(x[i], bins=bins, alpha=.5, label=labels[j])\n",
        "        ax.legend(loc='lower center', bbox_to_anchor=(0.5, -.2), ncol=len(data), fontsize=10)\n",
        "    plt.show()"
      ],
      "metadata": {
        "id": "Zjal2-0E9cz_"
      },
      "execution_count": 5,
      "outputs": []
    },
    {
      "cell_type": "code",
      "source": [
        "make_plots([X_train_1, X_train_0], ['signal', 'background'])"
      ],
      "metadata": {
        "colab": {
          "base_uri": "https://localhost:8080/",
          "height": 635
        },
        "id": "LOnXdebs9f6L",
        "outputId": "7a62fb75-872d-4af0-d16d-e79cc8f38d21"
      },
      "execution_count": 6,
      "outputs": [
        {
          "output_type": "display_data",
          "data": {
            "text/plain": [
              "<Figure size 1440x720 with 5 Axes>"
            ],
            "image/png": "[encoded data removed]"
          },
          "metadata": {
            "needs_background": "light"
          }
        }
      ]
    },
    {
      "cell_type": "code",
      "source": [
        "def one_qubit_unitary(qubits,symbols) -> cirq.Circuit :\n",
        "  circuit = cirq.Circuit()\n",
        "  # num_qubits = len(qubits)\n",
        "  # k=0\n",
        "  # for i in range(num_qubits):\n",
        "  #   circuit.append(cirq.rx(symbols[k])(qubits[i]))\n",
        "  #   k+=1\n",
        "  # for i in range(num_qubits):\n",
        "  #   circuit.append(cirq.ry(symbols[k])(qubits[i]))\n",
        "  #   k+=1\n",
        "  # for i in range(num_qubits):\n",
        "  #   circuit.append(cirq.rz(symbols[k])(qubits[i]))\n",
        "  #   k+=1\n",
        "  circuit.append(cirq.rx(symbols[0])(qubits))\n",
        "  circuit.append(cirq.ry(symbols[1])(qubits))\n",
        "  circuit.append(cirq.rz(symbols[2])(qubits))\n",
        "  return circuit"
      ],
      "metadata": {
        "id": "wfH1Bvd99i78"
      },
      "execution_count": 7,
      "outputs": []
    },
    {
      "cell_type": "code",
      "source": [
        "def two_qubit_unitary(qubits,symbols):\n",
        "  circuit = cirq.Circuit()\n",
        "  num_qubits = len(qubits)\n",
        "  k=0\n",
        "  for i in range(1,num_qubits,2):\n",
        "    circuit.append(cirq.CNOT(qubits[i-1],qubits[i]))\n",
        "    circuit.append(cirq.rz(symbols[k])(qubits[i]))\n",
        "    circuit.append(cirq.CNOT(qubits[i-1],qubits[i]))\n",
        "    k+=1\n",
        "  \n",
        "  return circuit"
      ],
      "metadata": {
        "id": "MXnevtz69lgK"
      },
      "execution_count": 8,
      "outputs": []
    },
    {
      "cell_type": "code",
      "source": [
        "def entanglement_unitary(qubits,num_qubits):\n",
        "  circuit = cirq.Circuit()\n",
        "  for i in range(num_qubits):\n",
        "    if i<num_qubits-1:\n",
        "      circuit += cirq.CZ(qubits[i],qubits[i+1])\n",
        "  if num_qubits!=2 : \n",
        "    circuit += cirq.CZ(qubits[num_qubits-1],qubits[0])\n",
        "  return circuit"
      ],
      "metadata": {
        "id": "tBR5oFq49oPK"
      },
      "execution_count": 9,
      "outputs": []
    },
    {
      "cell_type": "code",
      "source": [
        "def generator_drc_circuit(qubits,features_size,use_entanglement=False, layers=1):\n",
        "  circuit = cirq.Circuit()\n",
        "  num_qubits = len(qubits)\n",
        "  if(features_size % 3 != 0):\n",
        "    padding = (3-(features_size % 3)) % 3\n",
        "  else:\n",
        "    padding = 0\n",
        "\n",
        "  bias_symbols = sp.symbols('theta_:'+str((features_size + padding)*layers*num_qubits)) \n",
        "  bias_symbols = np.asarray(bias_symbols).reshape(layers,num_qubits,features_size+padding) \n",
        "  features_symbols = sp.symbols('x_:'+str((features_size + padding)*layers*num_qubits))\n",
        "  features_symbols = np.asarray(features_symbols).reshape(layers,num_qubits,features_size+padding)\n",
        "  gaussian_noise_shape = num_qubits\n",
        "  # gaussian_noise_shape = num_qubits*layers\n",
        "  z = np.random.normal(loc=0,scale=np.pi/4,size=gaussian_noise_shape)\n",
        "  # z = np.clip(z,-0.9,0.9) \n",
        "\n",
        "  for layer in range(layers):\n",
        "    for gate in range(int(np.ceil(features_size/3))):\n",
        "      # circuit += [cirq.ry(z[layer:(layer+1)])(q) for q in qubits]\n",
        "      circuit += [cirq.ry(z[i])(q) for i,q in enumerate(qubits)]\n",
        "      circuit += [one_qubit_unitary(q, features_symbols[layer,i,gate*3:(gate+1)*3]) for i,q in enumerate(qubits)]\n",
        "      circuit += [one_qubit_unitary(q, bias_symbols[layer,i,gate*3:(gate+1)*3]) for i,q in enumerate(qubits)]\n",
        "      # circuit += [cirq.ry(z[layer:(layer+1)])(q) for q in qubits]\n",
        "    if num_qubits>1 and (layer != layers-1 or layers == 1) and use_entanglement :\n",
        "      circuit += entanglement_unitary(qubits,num_qubits)\n",
        "  \n",
        "  return circuit  "
      ],
      "metadata": {
        "id": "eeSHPFTk9q4P"
      },
      "execution_count": 10,
      "outputs": []
    },
    {
      "cell_type": "code",
      "source": [
        "SVGCircuit(generator_drc_circuit(cirq.GridQubit.rect(1,2),5,use_entanglement = True, layers=3))"
      ],
      "metadata": {
        "colab": {
          "base_uri": "https://localhost:8080/",
          "height": 159
        },
        "id": "J8fuHOqrAEHk",
        "outputId": "80c13e0f-12da-4add-9f3d-9e4e82fb49be"
      },
      "execution_count": 11,
      "outputs": [
        {
          "output_type": "stream",
          "name": "stderr",
          "text": [
            "findfont: Font family ['Arial'] not found. Falling back to DejaVu Sans.\n"
          ]
        },
        {
          "output_type": "execute_result",
          "data": {
            "text/plain": [
              "<cirq.contrib.svg.svg.SVGCircuit at 0x7f3e436f8090>"
            ],
            "image/svg+xml": "<svg xmlns=\"http://www.w3.org/2000/svg\" width=\"8141.716249999993\" height=\"100.0\"><line x1=\"34.7588671875\" x2=\"8111.716249999993\" y1=\"25.0\" y2=\"25.0\" stroke=\"#1967d2\" stroke-width=\"1\" /><line x1=\"34.7588671875\" x2=\"8111.716249999993\" y1=\"75.0\" y2=\"75.0\" stroke=\"#1967d2\" stroke-width=\"1\" /><line x1=\"2618.154218750001\" x2=\"2618.154218750001\" y1=\"25.0\" y2=\"75.0\" stroke=\"black\" stroke-width=\"3\" /><line x1=\"5374.935234374999\" x2=\"5374.935234374999\" y1=\"25.0\" y2=\"75.0\" stroke=\"black\" stroke-width=\"3\" /><rect x=\"10.0\" y=\"5.0\" width=\"49.517734375\" height=\"40\" stroke=\"black\" fill=\"white\" stroke-width=\"0\" /><text x=\"34.7588671875\" y=\"25.0\" dominant-baseline=\"middle\" text-anchor=\"middle\" font-size=\"14px\" font-family=\"Arial\">(0, 0): </text><rect x=\"10.0\" y=\"55.0\" width=\"49.517734375\" height=\"40\" stroke=\"black\" fill=\"white\" stroke-width=\"0\" /><text x=\"34.7588671875\" y=\"75.0\" dominant-baseline=\"middle\" text-anchor=\"middle\" font-size=\"14px\" font-family=\"Arial\">(0, 1): </text><rect x=\"79.517734375\" y=\"5.0\" width=\"89.1494921875\" height=\"40\" stroke=\"black\" fill=\"white\" stroke-width=\"1\" /><text x=\"124.09248046875001\" y=\"25.0\" dominant-baseline=\"middle\" text-anchor=\"middle\" font-size=\"14px\" font-family=\"Arial\">Ry(-0.214π)</text><rect x=\"79.517734375\" y=\"55.0\" width=\"89.1494921875\" height=\"40\" stroke=\"black\" fill=\"white\" stroke-width=\"1\" /><text x=\"124.09248046875001\" y=\"75.0\" dominant-baseline=\"middle\" text-anchor=\"middle\" font-size=\"14px\" font-family=\"Arial\">Ry(-0.285π)</text><rect x=\"188.6672265625\" y=\"5.0\" width=\"60.5523046875\" height=\"40\" stroke=\"black\" fill=\"white\" stroke-width=\"1\" /><text x=\"218.94337890625\" y=\"25.0\" dominant-baseline=\"middle\" text-anchor=\"middle\" font-size=\"14px\" font-family=\"Arial\">Rx(x_0)</text><rect x=\"269.21953125\" y=\"5.0\" width=\"59.7823046875\" height=\"40\" stroke=\"black\" fill=\"white\" stroke-width=\"1\" /><text x=\"299.11068359374997\" y=\"25.0\" dominant-baseline=\"middle\" text-anchor=\"middle\" font-size=\"14px\" font-family=\"Arial\">Ry(x_1)</text><rect x=\"349.0018359375\" y=\"5.0\" width=\"59.61578125\" height=\"40\" stroke=\"black\" fill=\"white\" stroke-width=\"1\" /><text x=\"378.80972656250003\" y=\"25.0\" dominant-baseline=\"middle\" text-anchor=\"middle\" font-size=\"14px\" font-family=\"Arial\">Rz(x_2)</text><rect x=\"428.61761718749995\" y=\"55.0\" width=\"60.5523046875\" height=\"40\" stroke=\"black\" fill=\"white\" stroke-width=\"1\" /><text x=\"458.89376953125\" y=\"75.0\" dominant-baseline=\"middle\" text-anchor=\"middle\" font-size=\"14px\" font-family=\"Arial\">Rx(x_6)</text><rect x=\"509.16992187500006\" y=\"55.0\" width=\"59.7823046875\" height=\"40\" stroke=\"black\" fill=\"white\" stroke-width=\"1\" /><text x=\"539.06107421875\" y=\"75.0\" dominant-baseline=\"middle\" text-anchor=\"middle\" font-size=\"14px\" font-family=\"Arial\">Ry(x_7)</text><rect x=\"588.9522265625\" y=\"55.0\" width=\"59.61578125\" height=\"40\" stroke=\"black\" fill=\"white\" stroke-width=\"1\" /><text x=\"618.7601171875\" y=\"75.0\" dominant-baseline=\"middle\" text-anchor=\"middle\" font-size=\"14px\" font-family=\"Arial\">Rz(x_8)</text><rect x=\"668.5680078124999\" y=\"5.0\" width=\"89.31109375000001\" height=\"40\" stroke=\"black\" fill=\"white\" stroke-width=\"1\" /><text x=\"713.2235546874999\" y=\"25.0\" dominant-baseline=\"middle\" text-anchor=\"middle\" font-size=\"14px\" font-family=\"Arial\">Rx(theta_0)</text><rect x=\"777.8791015625\" y=\"5.0\" width=\"88.54109375\" height=\"40\" stroke=\"black\" fill=\"white\" stroke-width=\"1\" /><text x=\"822.1496484375\" y=\"25.0\" dominant-baseline=\"middle\" text-anchor=\"middle\" font-size=\"14px\" font-family=\"Arial\">Ry(theta_1)</text><rect x=\"886.4201953124999\" y=\"5.0\" width=\"88.37457031250001\" height=\"40\" stroke=\"black\" fill=\"white\" stroke-width=\"1\" /><text x=\"930.6074804687499\" y=\"25.0\" dominant-baseline=\"middle\" text-anchor=\"middle\" font-size=\"14px\" font-family=\"Arial\">Rz(theta_2)</text><rect x=\"994.7947656249999\" y=\"55.0\" width=\"89.31109375000001\" height=\"40\" stroke=\"black\" fill=\"white\" stroke-width=\"1\" /><text x=\"1039.4503124999999\" y=\"75.0\" dominant-baseline=\"middle\" text-anchor=\"middle\" font-size=\"14px\" font-family=\"Arial\">Rx(theta_6)</text><rect x=\"994.7947656249999\" y=\"5.0\" width=\"89.31109375000001\" height=\"40\" stroke=\"black\" fill=\"white\" stroke-width=\"1\" /><text x=\"1039.4503124999999\" y=\"25.0\" dominant-baseline=\"middle\" text-anchor=\"middle\" font-size=\"14px\" font-family=\"Arial\">Ry(-0.214π)</text><rect x=\"1104.105859375\" y=\"55.0\" width=\"88.54109375\" height=\"40\" stroke=\"black\" fill=\"white\" stroke-width=\"1\" /><text x=\"1148.37640625\" y=\"75.0\" dominant-baseline=\"middle\" text-anchor=\"middle\" font-size=\"14px\" font-family=\"Arial\">Ry(theta_7)</text><rect x=\"1212.646953125\" y=\"55.0\" width=\"88.37457031250001\" height=\"40\" stroke=\"black\" fill=\"white\" stroke-width=\"1\" /><text x=\"1256.83423828125\" y=\"75.0\" dominant-baseline=\"middle\" text-anchor=\"middle\" font-size=\"14px\" font-family=\"Arial\">Rz(theta_8)</text><rect x=\"1321.0215234375\" y=\"55.0\" width=\"89.1494921875\" height=\"40\" stroke=\"black\" fill=\"white\" stroke-width=\"1\" /><text x=\"1365.59626953125\" y=\"75.0\" dominant-baseline=\"middle\" text-anchor=\"middle\" font-size=\"14px\" font-family=\"Arial\">Ry(-0.285π)</text><rect x=\"1430.171015625\" y=\"5.0\" width=\"60.5523046875\" height=\"40\" stroke=\"black\" fill=\"white\" stroke-width=\"1\" /><text x=\"1460.4471679687501\" y=\"25.0\" dominant-baseline=\"middle\" text-anchor=\"middle\" font-size=\"14px\" font-family=\"Arial\">Rx(x_3)</text><rect x=\"1510.7233203125002\" y=\"5.0\" width=\"59.7823046875\" height=\"40\" stroke=\"black\" fill=\"white\" stroke-width=\"1\" /><text x=\"1540.6144726562502\" y=\"25.0\" dominant-baseline=\"middle\" text-anchor=\"middle\" font-size=\"14px\" font-family=\"Arial\">Ry(x_4)</text><rect x=\"1590.5056250000002\" y=\"5.0\" width=\"59.61578125\" height=\"40\" stroke=\"black\" fill=\"white\" stroke-width=\"1\" /><text x=\"1620.3135156250003\" y=\"25.0\" dominant-baseline=\"middle\" text-anchor=\"middle\" font-size=\"14px\" font-family=\"Arial\">Rz(x_5)</text><rect x=\"1670.1214062500003\" y=\"55.0\" width=\"60.5523046875\" height=\"40\" stroke=\"black\" fill=\"white\" stroke-width=\"1\" /><text x=\"1700.3975585937503\" y=\"75.0\" dominant-baseline=\"middle\" text-anchor=\"middle\" font-size=\"14px\" font-family=\"Arial\">Rx(x_9)</text><rect x=\"1750.6737109375003\" y=\"55.0\" width=\"68.68953125\" height=\"40\" stroke=\"black\" fill=\"white\" stroke-width=\"1\" /><text x=\"1785.0184765625004\" y=\"75.0\" dominant-baseline=\"middle\" text-anchor=\"middle\" font-size=\"14px\" font-family=\"Arial\">Ry(x_10)</text><rect x=\"1839.3632421875004\" y=\"55.0\" width=\"68.5230078125\" height=\"40\" stroke=\"black\" fill=\"white\" stroke-width=\"1\" /><text x=\"1873.6247460937504\" y=\"75.0\" dominant-baseline=\"middle\" text-anchor=\"middle\" font-size=\"14px\" font-family=\"Arial\">Rz(x_11)</text><rect x=\"1927.8862500000005\" y=\"5.0\" width=\"89.31109375000001\" height=\"40\" stroke=\"black\" fill=\"white\" stroke-width=\"1\" /><text x=\"1972.5417968750005\" y=\"25.0\" dominant-baseline=\"middle\" text-anchor=\"middle\" font-size=\"14px\" font-family=\"Arial\">Rx(theta_3)</text><rect x=\"2037.1973437500005\" y=\"5.0\" width=\"88.54109375\" height=\"40\" stroke=\"black\" fill=\"white\" stroke-width=\"1\" /><text x=\"2081.4678906250006\" y=\"25.0\" dominant-baseline=\"middle\" text-anchor=\"middle\" font-size=\"14px\" font-family=\"Arial\">Ry(theta_4)</text><rect x=\"2145.7384375000006\" y=\"5.0\" width=\"88.37457031250001\" height=\"40\" stroke=\"black\" fill=\"white\" stroke-width=\"1\" /><text x=\"2189.9257226562504\" y=\"25.0\" dominant-baseline=\"middle\" text-anchor=\"middle\" font-size=\"14px\" font-family=\"Arial\">Rz(theta_5)</text><rect x=\"2254.1130078125007\" y=\"55.0\" width=\"89.31109375000001\" height=\"40\" stroke=\"black\" fill=\"white\" stroke-width=\"1\" /><text x=\"2298.7685546875005\" y=\"75.0\" dominant-baseline=\"middle\" text-anchor=\"middle\" font-size=\"14px\" font-family=\"Arial\">Rx(theta_9)</text><rect x=\"2363.4241015625007\" y=\"55.0\" width=\"97.4483203125\" height=\"40\" stroke=\"black\" fill=\"white\" stroke-width=\"1\" /><text x=\"2412.1482617187507\" y=\"75.0\" dominant-baseline=\"middle\" text-anchor=\"middle\" font-size=\"14px\" font-family=\"Arial\">Ry(theta_10)</text><rect x=\"2480.872421875001\" y=\"55.0\" width=\"97.28179687500001\" height=\"40\" stroke=\"black\" fill=\"white\" stroke-width=\"1\" /><text x=\"2529.5133203125006\" y=\"75.0\" dominant-baseline=\"middle\" text-anchor=\"middle\" font-size=\"14px\" font-family=\"Arial\">Rz(theta_11)</text><circle cx=\"2618.154218750001\" cy=\"25.0\" r=\"10.0\" /><circle cx=\"2618.154218750001\" cy=\"75.0\" r=\"10.0\" /><rect x=\"2658.154218750001\" y=\"5.0\" width=\"89.1494921875\" height=\"40\" stroke=\"black\" fill=\"white\" stroke-width=\"1\" /><text x=\"2702.728964843751\" y=\"25.0\" dominant-baseline=\"middle\" text-anchor=\"middle\" font-size=\"14px\" font-family=\"Arial\">Ry(-0.214π)</text><rect x=\"2658.154218750001\" y=\"55.0\" width=\"89.1494921875\" height=\"40\" stroke=\"black\" fill=\"white\" stroke-width=\"1\" /><text x=\"2702.728964843751\" y=\"75.0\" dominant-baseline=\"middle\" text-anchor=\"middle\" font-size=\"14px\" font-family=\"Arial\">Ry(-0.285π)</text><rect x=\"2767.303710937501\" y=\"5.0\" width=\"69.45953125\" height=\"40\" stroke=\"black\" fill=\"white\" stroke-width=\"1\" /><text x=\"2802.0334765625007\" y=\"25.0\" dominant-baseline=\"middle\" text-anchor=\"middle\" font-size=\"14px\" font-family=\"Arial\">Rx(x_12)</text><rect x=\"2856.763242187501\" y=\"5.0\" width=\"68.68953125\" height=\"40\" stroke=\"black\" fill=\"white\" stroke-width=\"1\" /><text x=\"2891.108007812501\" y=\"25.0\" dominant-baseline=\"middle\" text-anchor=\"middle\" font-size=\"14px\" font-family=\"Arial\">Ry(x_13)</text><rect x=\"2945.452773437501\" y=\"5.0\" width=\"68.5230078125\" height=\"40\" stroke=\"black\" fill=\"white\" stroke-width=\"1\" /><text x=\"2979.714277343751\" y=\"25.0\" dominant-baseline=\"middle\" text-anchor=\"middle\" font-size=\"14px\" font-family=\"Arial\">Rz(x_14)</text><rect x=\"3033.975781250001\" y=\"55.0\" width=\"69.45953125\" height=\"40\" stroke=\"black\" fill=\"white\" stroke-width=\"1\" /><text x=\"3068.705546875001\" y=\"75.0\" dominant-baseline=\"middle\" text-anchor=\"middle\" font-size=\"14px\" font-family=\"Arial\">Rx(x_18)</text><rect x=\"3123.435312500001\" y=\"55.0\" width=\"68.68953125\" height=\"40\" stroke=\"black\" fill=\"white\" stroke-width=\"1\" /><text x=\"3157.780078125001\" y=\"75.0\" dominant-baseline=\"middle\" text-anchor=\"middle\" font-size=\"14px\" font-family=\"Arial\">Ry(x_19)</text><rect x=\"3212.124843750001\" y=\"55.0\" width=\"68.5230078125\" height=\"40\" stroke=\"black\" fill=\"white\" stroke-width=\"1\" /><text x=\"3246.386347656251\" y=\"75.0\" dominant-baseline=\"middle\" text-anchor=\"middle\" font-size=\"14px\" font-family=\"Arial\">Rz(x_20)</text><rect x=\"3300.6478515625013\" y=\"5.0\" width=\"98.21832031250001\" height=\"40\" stroke=\"black\" fill=\"white\" stroke-width=\"1\" /><text x=\"3349.757011718751\" y=\"25.0\" dominant-baseline=\"middle\" text-anchor=\"middle\" font-size=\"14px\" font-family=\"Arial\">Rx(theta_12)</text><rect x=\"3418.8661718750013\" y=\"5.0\" width=\"97.4483203125\" height=\"40\" stroke=\"black\" fill=\"white\" stroke-width=\"1\" /><text x=\"3467.5903320312514\" y=\"25.0\" dominant-baseline=\"middle\" text-anchor=\"middle\" font-size=\"14px\" font-family=\"Arial\">Ry(theta_13)</text><rect x=\"3536.3144921875014\" y=\"5.0\" width=\"97.28179687500001\" height=\"40\" stroke=\"black\" fill=\"white\" stroke-width=\"1\" /><text x=\"3584.955390625001\" y=\"25.0\" dominant-baseline=\"middle\" text-anchor=\"middle\" font-size=\"14px\" font-family=\"Arial\">Rz(theta_14)</text><rect x=\"3653.5962890625015\" y=\"55.0\" width=\"98.21832031250001\" height=\"40\" stroke=\"black\" fill=\"white\" stroke-width=\"1\" /><text x=\"3702.7054492187513\" y=\"75.0\" dominant-baseline=\"middle\" text-anchor=\"middle\" font-size=\"14px\" font-family=\"Arial\">Rx(theta_18)</text><rect x=\"3653.5962890625015\" y=\"5.0\" width=\"98.21832031250001\" height=\"40\" stroke=\"black\" fill=\"white\" stroke-width=\"1\" /><text x=\"3702.7054492187513\" y=\"25.0\" dominant-baseline=\"middle\" text-anchor=\"middle\" font-size=\"14px\" font-family=\"Arial\">Ry(-0.214π)</text><rect x=\"3771.8146093750015\" y=\"55.0\" width=\"97.4483203125\" height=\"40\" stroke=\"black\" fill=\"white\" stroke-width=\"1\" /><text x=\"3820.5387695312515\" y=\"75.0\" dominant-baseline=\"middle\" text-anchor=\"middle\" font-size=\"14px\" font-family=\"Arial\">Ry(theta_19)</text><rect x=\"3889.2629296875016\" y=\"55.0\" width=\"97.28179687500001\" height=\"40\" stroke=\"black\" fill=\"white\" stroke-width=\"1\" /><text x=\"3937.9038281250014\" y=\"75.0\" dominant-baseline=\"middle\" text-anchor=\"middle\" font-size=\"14px\" font-family=\"Arial\">Rz(theta_20)</text><rect x=\"4006.5447265625016\" y=\"55.0\" width=\"89.1494921875\" height=\"40\" stroke=\"black\" fill=\"white\" stroke-width=\"1\" /><text x=\"4051.1194726562517\" y=\"75.0\" dominant-baseline=\"middle\" text-anchor=\"middle\" font-size=\"14px\" font-family=\"Arial\">Ry(-0.285π)</text><rect x=\"4115.694218750002\" y=\"5.0\" width=\"69.45953125\" height=\"40\" stroke=\"black\" fill=\"white\" stroke-width=\"1\" /><text x=\"4150.423984375002\" y=\"25.0\" dominant-baseline=\"middle\" text-anchor=\"middle\" font-size=\"14px\" font-family=\"Arial\">Rx(x_15)</text><rect x=\"4205.153750000001\" y=\"5.0\" width=\"68.68953125\" height=\"40\" stroke=\"black\" fill=\"white\" stroke-width=\"1\" /><text x=\"4239.498515625001\" y=\"25.0\" dominant-baseline=\"middle\" text-anchor=\"middle\" font-size=\"14px\" font-family=\"Arial\">Ry(x_16)</text><rect x=\"4293.843281250001\" y=\"5.0\" width=\"68.5230078125\" height=\"40\" stroke=\"black\" fill=\"white\" stroke-width=\"1\" /><text x=\"4328.104785156252\" y=\"25.0\" dominant-baseline=\"middle\" text-anchor=\"middle\" font-size=\"14px\" font-family=\"Arial\">Rz(x_17)</text><rect x=\"4382.366289062501\" y=\"55.0\" width=\"69.45953125\" height=\"40\" stroke=\"black\" fill=\"white\" stroke-width=\"1\" /><text x=\"4417.096054687501\" y=\"75.0\" dominant-baseline=\"middle\" text-anchor=\"middle\" font-size=\"14px\" font-family=\"Arial\">Rx(x_21)</text><rect x=\"4471.825820312501\" y=\"55.0\" width=\"68.68953125\" height=\"40\" stroke=\"black\" fill=\"white\" stroke-width=\"1\" /><text x=\"4506.170585937501\" y=\"75.0\" dominant-baseline=\"middle\" text-anchor=\"middle\" font-size=\"14px\" font-family=\"Arial\">Ry(x_22)</text><rect x=\"4560.515351562501\" y=\"55.0\" width=\"68.5230078125\" height=\"40\" stroke=\"black\" fill=\"white\" stroke-width=\"1\" /><text x=\"4594.776855468751\" y=\"75.0\" dominant-baseline=\"middle\" text-anchor=\"middle\" font-size=\"14px\" font-family=\"Arial\">Rz(x_23)</text><rect x=\"4649.038359375\" y=\"5.0\" width=\"98.21832031250001\" height=\"40\" stroke=\"black\" fill=\"white\" stroke-width=\"1\" /><text x=\"4698.1475195312505\" y=\"25.0\" dominant-baseline=\"middle\" text-anchor=\"middle\" font-size=\"14px\" font-family=\"Arial\">Rx(theta_15)</text><rect x=\"4767.2566796875\" y=\"5.0\" width=\"97.4483203125\" height=\"40\" stroke=\"black\" fill=\"white\" stroke-width=\"1\" /><text x=\"4815.98083984375\" y=\"25.0\" dominant-baseline=\"middle\" text-anchor=\"middle\" font-size=\"14px\" font-family=\"Arial\">Ry(theta_16)</text><rect x=\"4884.705\" y=\"5.0\" width=\"97.28179687500001\" height=\"40\" stroke=\"black\" fill=\"white\" stroke-width=\"1\" /><text x=\"4933.3458984375\" y=\"25.0\" dominant-baseline=\"middle\" text-anchor=\"middle\" font-size=\"14px\" font-family=\"Arial\">Rz(theta_17)</text><rect x=\"5001.9867968749995\" y=\"55.0\" width=\"98.21832031250001\" height=\"40\" stroke=\"black\" fill=\"white\" stroke-width=\"1\" /><text x=\"5051.09595703125\" y=\"75.0\" dominant-baseline=\"middle\" text-anchor=\"middle\" font-size=\"14px\" font-family=\"Arial\">Rx(theta_21)</text><rect x=\"5120.205117187499\" y=\"55.0\" width=\"97.4483203125\" height=\"40\" stroke=\"black\" fill=\"white\" stroke-width=\"1\" /><text x=\"5168.929277343749\" y=\"75.0\" dominant-baseline=\"middle\" text-anchor=\"middle\" font-size=\"14px\" font-family=\"Arial\">Ry(theta_22)</text><rect x=\"5237.653437499999\" y=\"55.0\" width=\"97.28179687500001\" height=\"40\" stroke=\"black\" fill=\"white\" stroke-width=\"1\" /><text x=\"5286.294335937499\" y=\"75.0\" dominant-baseline=\"middle\" text-anchor=\"middle\" font-size=\"14px\" font-family=\"Arial\">Rz(theta_23)</text><circle cx=\"5374.935234374999\" cy=\"25.0\" r=\"10.0\" /><circle cx=\"5374.935234374999\" cy=\"75.0\" r=\"10.0\" /><rect x=\"5414.935234374999\" y=\"5.0\" width=\"89.1494921875\" height=\"40\" stroke=\"black\" fill=\"white\" stroke-width=\"1\" /><text x=\"5459.509980468749\" y=\"25.0\" dominant-baseline=\"middle\" text-anchor=\"middle\" font-size=\"14px\" font-family=\"Arial\">Ry(-0.214π)</text><rect x=\"5414.935234374999\" y=\"55.0\" width=\"89.1494921875\" height=\"40\" stroke=\"black\" fill=\"white\" stroke-width=\"1\" /><text x=\"5459.509980468749\" y=\"75.0\" dominant-baseline=\"middle\" text-anchor=\"middle\" font-size=\"14px\" font-family=\"Arial\">Ry(-0.285π)</text><rect x=\"5524.084726562499\" y=\"5.0\" width=\"69.45953125\" height=\"40\" stroke=\"black\" fill=\"white\" stroke-width=\"1\" /><text x=\"5558.814492187499\" y=\"25.0\" dominant-baseline=\"middle\" text-anchor=\"middle\" font-size=\"14px\" font-family=\"Arial\">Rx(x_24)</text><rect x=\"5613.5442578124985\" y=\"5.0\" width=\"68.68953125\" height=\"40\" stroke=\"black\" fill=\"white\" stroke-width=\"1\" /><text x=\"5647.8890234374985\" y=\"25.0\" dominant-baseline=\"middle\" text-anchor=\"middle\" font-size=\"14px\" font-family=\"Arial\">Ry(x_25)</text><rect x=\"5702.2337890624985\" y=\"5.0\" width=\"68.5230078125\" height=\"40\" stroke=\"black\" fill=\"white\" stroke-width=\"1\" /><text x=\"5736.495292968749\" y=\"25.0\" dominant-baseline=\"middle\" text-anchor=\"middle\" font-size=\"14px\" font-family=\"Arial\">Rz(x_26)</text><rect x=\"5790.756796874998\" y=\"55.0\" width=\"69.45953125\" height=\"40\" stroke=\"black\" fill=\"white\" stroke-width=\"1\" /><text x=\"5825.486562499998\" y=\"75.0\" dominant-baseline=\"middle\" text-anchor=\"middle\" font-size=\"14px\" font-family=\"Arial\">Rx(x_30)</text><rect x=\"5880.216328124998\" y=\"55.0\" width=\"68.68953125\" height=\"40\" stroke=\"black\" fill=\"white\" stroke-width=\"1\" /><text x=\"5914.561093749998\" y=\"75.0\" dominant-baseline=\"middle\" text-anchor=\"middle\" font-size=\"14px\" font-family=\"Arial\">Ry(x_31)</text><rect x=\"5968.905859374998\" y=\"55.0\" width=\"68.5230078125\" height=\"40\" stroke=\"black\" fill=\"white\" stroke-width=\"1\" /><text x=\"6003.167363281248\" y=\"75.0\" dominant-baseline=\"middle\" text-anchor=\"middle\" font-size=\"14px\" font-family=\"Arial\">Rz(x_32)</text><rect x=\"6057.428867187497\" y=\"5.0\" width=\"98.21832031250001\" height=\"40\" stroke=\"black\" fill=\"white\" stroke-width=\"1\" /><text x=\"6106.538027343748\" y=\"25.0\" dominant-baseline=\"middle\" text-anchor=\"middle\" font-size=\"14px\" font-family=\"Arial\">Rx(theta_24)</text><rect x=\"6175.647187499997\" y=\"5.0\" width=\"97.4483203125\" height=\"40\" stroke=\"black\" fill=\"white\" stroke-width=\"1\" /><text x=\"6224.371347656247\" y=\"25.0\" dominant-baseline=\"middle\" text-anchor=\"middle\" font-size=\"14px\" font-family=\"Arial\">Ry(theta_25)</text><rect x=\"6293.095507812497\" y=\"5.0\" width=\"97.28179687500001\" height=\"40\" stroke=\"black\" fill=\"white\" stroke-width=\"1\" /><text x=\"6341.736406249997\" y=\"25.0\" dominant-baseline=\"middle\" text-anchor=\"middle\" font-size=\"14px\" font-family=\"Arial\">Rz(theta_26)</text><rect x=\"6410.377304687497\" y=\"55.0\" width=\"98.21832031250001\" height=\"40\" stroke=\"black\" fill=\"white\" stroke-width=\"1\" /><text x=\"6459.486464843747\" y=\"75.0\" dominant-baseline=\"middle\" text-anchor=\"middle\" font-size=\"14px\" font-family=\"Arial\">Rx(theta_30)</text><rect x=\"6410.377304687497\" y=\"5.0\" width=\"98.21832031250001\" height=\"40\" stroke=\"black\" fill=\"white\" stroke-width=\"1\" /><text x=\"6459.486464843747\" y=\"25.0\" dominant-baseline=\"middle\" text-anchor=\"middle\" font-size=\"14px\" font-family=\"Arial\">Ry(-0.214π)</text><rect x=\"6528.595624999996\" y=\"55.0\" width=\"97.4483203125\" height=\"40\" stroke=\"black\" fill=\"white\" stroke-width=\"1\" /><text x=\"6577.319785156246\" y=\"75.0\" dominant-baseline=\"middle\" text-anchor=\"middle\" font-size=\"14px\" font-family=\"Arial\">Ry(theta_31)</text><rect x=\"6646.043945312496\" y=\"55.0\" width=\"97.28179687500001\" height=\"40\" stroke=\"black\" fill=\"white\" stroke-width=\"1\" /><text x=\"6694.684843749997\" y=\"75.0\" dominant-baseline=\"middle\" text-anchor=\"middle\" font-size=\"14px\" font-family=\"Arial\">Rz(theta_32)</text><rect x=\"6763.325742187496\" y=\"55.0\" width=\"89.1494921875\" height=\"40\" stroke=\"black\" fill=\"white\" stroke-width=\"1\" /><text x=\"6807.900488281246\" y=\"75.0\" dominant-baseline=\"middle\" text-anchor=\"middle\" font-size=\"14px\" font-family=\"Arial\">Ry(-0.285π)</text><rect x=\"6872.475234374996\" y=\"5.0\" width=\"69.45953125\" height=\"40\" stroke=\"black\" fill=\"white\" stroke-width=\"1\" /><text x=\"6907.204999999996\" y=\"25.0\" dominant-baseline=\"middle\" text-anchor=\"middle\" font-size=\"14px\" font-family=\"Arial\">Rx(x_27)</text><rect x=\"6961.934765624996\" y=\"5.0\" width=\"68.68953125\" height=\"40\" stroke=\"black\" fill=\"white\" stroke-width=\"1\" /><text x=\"6996.279531249996\" y=\"25.0\" dominant-baseline=\"middle\" text-anchor=\"middle\" font-size=\"14px\" font-family=\"Arial\">Ry(x_28)</text><rect x=\"7050.624296874996\" y=\"5.0\" width=\"68.5230078125\" height=\"40\" stroke=\"black\" fill=\"white\" stroke-width=\"1\" /><text x=\"7084.885800781246\" y=\"25.0\" dominant-baseline=\"middle\" text-anchor=\"middle\" font-size=\"14px\" font-family=\"Arial\">Rz(x_29)</text><rect x=\"7139.147304687495\" y=\"55.0\" width=\"69.45953125\" height=\"40\" stroke=\"black\" fill=\"white\" stroke-width=\"1\" /><text x=\"7173.877070312496\" y=\"75.0\" dominant-baseline=\"middle\" text-anchor=\"middle\" font-size=\"14px\" font-family=\"Arial\">Rx(x_33)</text><rect x=\"7228.606835937495\" y=\"55.0\" width=\"68.68953125\" height=\"40\" stroke=\"black\" fill=\"white\" stroke-width=\"1\" /><text x=\"7262.951601562495\" y=\"75.0\" dominant-baseline=\"middle\" text-anchor=\"middle\" font-size=\"14px\" font-family=\"Arial\">Ry(x_34)</text><rect x=\"7317.296367187495\" y=\"55.0\" width=\"68.5230078125\" height=\"40\" stroke=\"black\" fill=\"white\" stroke-width=\"1\" /><text x=\"7351.557871093745\" y=\"75.0\" dominant-baseline=\"middle\" text-anchor=\"middle\" font-size=\"14px\" font-family=\"Arial\">Rz(x_35)</text><rect x=\"7405.819374999995\" y=\"5.0\" width=\"98.21832031250001\" height=\"40\" stroke=\"black\" fill=\"white\" stroke-width=\"1\" /><text x=\"7454.928535156245\" y=\"25.0\" dominant-baseline=\"middle\" text-anchor=\"middle\" font-size=\"14px\" font-family=\"Arial\">Rx(theta_27)</text><rect x=\"7524.037695312494\" y=\"5.0\" width=\"97.4483203125\" height=\"40\" stroke=\"black\" fill=\"white\" stroke-width=\"1\" /><text x=\"7572.761855468744\" y=\"25.0\" dominant-baseline=\"middle\" text-anchor=\"middle\" font-size=\"14px\" font-family=\"Arial\">Ry(theta_28)</text><rect x=\"7641.486015624994\" y=\"5.0\" width=\"97.28179687500001\" height=\"40\" stroke=\"black\" fill=\"white\" stroke-width=\"1\" /><text x=\"7690.1269140624945\" y=\"25.0\" dominant-baseline=\"middle\" text-anchor=\"middle\" font-size=\"14px\" font-family=\"Arial\">Rz(theta_29)</text><rect x=\"7758.767812499994\" y=\"55.0\" width=\"98.21832031250001\" height=\"40\" stroke=\"black\" fill=\"white\" stroke-width=\"1\" /><text x=\"7807.876972656244\" y=\"75.0\" dominant-baseline=\"middle\" text-anchor=\"middle\" font-size=\"14px\" font-family=\"Arial\">Rx(theta_33)</text><rect x=\"7876.986132812493\" y=\"55.0\" width=\"97.4483203125\" height=\"40\" stroke=\"black\" fill=\"white\" stroke-width=\"1\" /><text x=\"7925.7102929687435\" y=\"75.0\" dominant-baseline=\"middle\" text-anchor=\"middle\" font-size=\"14px\" font-family=\"Arial\">Ry(theta_34)</text><rect x=\"7994.4344531249935\" y=\"55.0\" width=\"97.28179687500001\" height=\"40\" stroke=\"black\" fill=\"white\" stroke-width=\"1\" /><text x=\"8043.075351562494\" y=\"75.0\" dominant-baseline=\"middle\" text-anchor=\"middle\" font-size=\"14px\" font-family=\"Arial\">Rz(theta_35)</text></svg>"
          },
          "metadata": {},
          "execution_count": 11
        }
      ]
    },
    {
      "cell_type": "code",
      "source": [
        "def discriminator_drc_circuit(qubits,features_size,use_entanglement=False, layers=1):\n",
        "  circuit = cirq.Circuit()\n",
        "  num_qubits = len(qubits)\n",
        "  if(features_size % 3 != 0):\n",
        "    padding = (3-(features_size % 3)) % 3\n",
        "  else:\n",
        "    padding = 0\n",
        "\n",
        "  bias_symbols = sp.symbols('theta_:'+str((features_size + padding)*layers*num_qubits)) \n",
        "  bias_symbols = np.asarray(bias_symbols).reshape(layers,num_qubits,features_size+padding) \n",
        "  features_symbols = sp.symbols('x_:'+str((features_size + padding)*layers*num_qubits))\n",
        "  features_symbols = np.asarray(features_symbols).reshape(layers,num_qubits,features_size+padding)\n",
        "  # gaussian_noise_shape = num_qubits\n",
        "  gaussian_noise_shape = num_qubits*layers\n",
        "  z = np.random.normal(loc=0,scale=np.pi/4,size=gaussian_noise_shape)\n",
        "  # z = np.clip(z,0,1)\n",
        "  \n",
        "  for layer in range(layers):\n",
        "    for gate in range(int(np.ceil(features_size/3))):\n",
        "      # circuit += [cirq.ry(z[layer:(layer+1)])(q) for q in qubits]\n",
        "      circuit += [cirq.ry(z[i])(q) for i,q in enumerate(qubits)]\n",
        "      circuit += [one_qubit_unitary(q, features_symbols[layer,i,gate*3:(gate+1)*3]) for i,q in enumerate(qubits)]\n",
        "      circuit += [one_qubit_unitary(q, bias_symbols[layer,i,gate*3:(gate+1)*3]) for i,q in enumerate(qubits)]\n",
        "      # circuit += [cirq.ry(z[layer:(layer+1)])(q) for q in qubits]\n",
        "    if num_qubits>1 and (layer != layers-1 or layers == 1) and use_entanglement :\n",
        "      circuit += entanglement_unitary(qubits,num_qubits)\n",
        "  \n",
        "  return circuit, list(bias_symbols.flat), list(features_symbols.flat)"
      ],
      "metadata": {
        "id": "f6uSjLAtAPO-"
      },
      "execution_count": 12,
      "outputs": []
    },
    {
      "cell_type": "code",
      "source": [
        "class ReUploadingPQC(tf.keras.layers.Layer):\n",
        "    def __init__(self, n_qubits, n_layers,features_size , use_entanglement=True, name=\"re-uploading_PQC\"):     #filter_size\n",
        "        super(ReUploadingPQC, self).__init__(name=name)\n",
        "        self.n_layers = n_layers\n",
        "        self.n_qubits = n_qubits\n",
        "        # self.filter_size = filter_size\n",
        "        self.features_size = features_size\n",
        "        self.use_entanglement = use_entanglement\n",
        "        self.main_name = name\n",
        "\n",
        "        self.qubits = cirq.GridQubit.rect(1, n_qubits)\n",
        "        self.observables = [cirq.Z(self.qubits[-1])]  # Measure only the last qubit\n",
        "\n",
        "        # generate the data re-uploading circuit\n",
        "        # circuit, bias_symbols, input_symbols = generate_circuit(self.qubits, self.n_layers, self.filter_size, use_entanglement=self.use_entanglement)\n",
        "        circuit, bias_symbols, input_symbols = discriminator_drc_circuit(qubits=self.qubits,features_size = self.features_size,layers= self.n_layers, use_entanglement=self.use_entanglement)\n",
        "\n",
        "        # Define explicit symbol order.\n",
        "        symbols = [str(symb) for symb in bias_symbols + input_symbols]\n",
        "        self.indices = tf.constant([sorted(symbols).index(a) for a in symbols])\n",
        "\n",
        "        # thetas (bias) initialization\n",
        "        thetas_init = tf.random_uniform_initializer(minval=-1, maxval=1)\n",
        "        self.thetas = tf.Variable(\n",
        "            initial_value=thetas_init(shape=(1, len(bias_symbols)), dtype=\"float32\"),\n",
        "            trainable=True, name=self.main_name + \"-thetas\"\n",
        "        )\n",
        "        \n",
        "        # weights initialization\n",
        "        w_init = tf.random_uniform_initializer(minval=-1, maxval=1)\n",
        "        self.w = tf.Variable(\n",
        "            initial_value=w_init(shape=(1, len(input_symbols)), dtype=\"float32\"),\n",
        "            trainable=True, name=self.main_name + \"-weights\"\n",
        "        )\n",
        "\n",
        "        # dummy inputs initialization\n",
        "        # using the empty circuits as hacks for ControlledPQC\n",
        "        self.empty_circuit = tfq.convert_to_tensor([cirq.Circuit()])\n",
        "\n",
        "        self.computation_layer = tfq.layers.ControlledPQC(circuit, self.observables)\n",
        "    \n",
        "    def get_config(self):\n",
        "\n",
        "        config = super().get_config().copy()\n",
        "        config.update({\n",
        "            'n_qubits': self.n_qubits,\n",
        "            'n_layers': self.n_layers,\n",
        "            'features_size': self.features_size,\n",
        "            'use_entanglement': self.use_entanglement,\n",
        "            'name': self.main_name,\n",
        "        })\n",
        "        return config\n",
        "    \n",
        "    def call(self, inputs):\n",
        "        batch_size = tf.shape(inputs)[0]\n",
        "\n",
        "        # Flatten inputs (from 2D images to 1D array)\n",
        "        # inputs_flattened = tf.keras.layers.Flatten()(inputs)\n",
        "\n",
        "        # Pad the inputs if it is not a multiple of 3\n",
        "        # padding = 3 - inputs_flattened.shape[1]%3\n",
        "        # padding = 3 - inputs.shape[0]%3\n",
        "        padding = 3 - inputs.shape[1]%3\n",
        "        # padding = 1\n",
        "        if padding%3 != 0:\n",
        "            # inputs_flattened = tf.pad(inputs_flattened, tf.constant([[0, 0,], [0, padding]]))\n",
        "            inputs = tf.pad(inputs,tf.constant([[0,0],[0,padding]]),mode=\"CONSTANT\")\n",
        "        # Repeat the inputs for every layer and qubit\n",
        "        # inputs_flattened = tf.tile(inputs_flattened, tf.constant([1,self.n_layers*self.n_qubits]))\n",
        "        total_inputs = tf.tile(inputs, multiples=[1,self.n_layers*self.n_qubits])\n",
        "        # total_inputs = tf.tile(inputs, multiples=[1,self.n_layers])\n",
        "        # Weight the inputs\n",
        "        # inputs_weighted = tf.math.multiply(self.w, inputs_flattened, name=self.main_name + '-weighted_inputs')  \n",
        "        inputs_weighted = tf.math.multiply(self.w, total_inputs, name=self.main_name + '-weighted_inputs')\n",
        "        # Duplicate parameters and dummy inputs\n",
        "        # One for every batch\n",
        "        thetas_batch = tf.tile(self.thetas, multiples=[batch_size, 1], name=self.main_name + '-tiled_up_thetas')    \n",
        "        empty_circuit_batch = tf.repeat(self.empty_circuit, repeats=batch_size, name=self.main_name + '-tiled_up_empty_circuits')\n",
        "\n",
        "        joined_params = tf.concat([thetas_batch, inputs_weighted], axis=-1)               \n",
        "        # joined_params = tf.concat([self.thetas, inputs_weighted], axis=-1)\n",
        "        joined_params = tf.gather(joined_params, self.indices, axis=-1, name=self.main_name + '-joined_params')\n",
        "        \n",
        "        return self.computation_layer([empty_circuit_batch, joined_params])\n",
        "        # return self.computation_layer([self.empty_circuit, joined_params])"
      ],
      "metadata": {
        "id": "SQCWkGIaHSRh"
      },
      "execution_count": 13,
      "outputs": []
    },
    {
      "cell_type": "code",
      "source": [
        "def discriminator_layer(n_qubits,features_size,inputs,use_entanglement=False,layers=1,name=\"discriminator_drc_layer\"):\n",
        "  # inputs_tensor = tf.keras.Input(shape=(features_size,),dtype=tf.dtypes.float32,name=\"inputs\")\n",
        "  # drc = data_reuploading(qubits,features_size,use_entanglement=True,layers=layers,inputs=inputs_tensor)\n",
        "  # model = tf.keras.Sequential()\n",
        "  # model.add(tf.keras.layers.Input(shape=(5),name=\"input\"))\n",
        "  # model.add(data_reuploading(qubits,features_size,use_entanglement=True,layers=layers,inputs=))\n",
        "  # model = tf.keras.Model(inputs=[inputs_tensor],outputs=[drc])\n",
        "  # return model\n",
        "  pqc = ReUploadingPQC(n_qubits=n_qubits,features_size=features_size,use_entanglement=use_entanglement,n_layers=layers,name= name)\n",
        "  computations = pqc(inputs)\n",
        "  return computations"
      ],
      "metadata": {
        "id": "1pWYOHayHphJ"
      },
      "execution_count": 14,
      "outputs": []
    },
    {
      "cell_type": "code",
      "source": [
        "\n",
        "qubits = 2\n",
        "features=len(X_train_0[0])\n",
        "layers= 3\n",
        "inputs_tensor = tf.keras.Input(shape=(features,),dtype = tf.dtypes.float32,name='input')\n",
        "d_layer = discriminator_layer(n_qubits=qubits,features_size=features,inputs=inputs_tensor, use_entanglement=True,layers=layers)\n",
        "output_layer = tf.keras.layers.Dense(1, activation=tf.keras.layers.LeakyReLU(alpha=0.01))\n",
        "outputs = output_layer(d_layer)\n",
        "# discriminator_model = tf.keras.Model(inputs=[inputs_tensor], outputs=d_layer)\n",
        "discriminator_model = tf.keras.Model(inputs=[inputs_tensor], outputs=outputs)"
      ],
      "metadata": {
        "id": "iATRXoTlREBn"
      },
      "execution_count": 15,
      "outputs": []
    },
    {
      "cell_type": "code",
      "source": [
        "discriminator_model.summary()"
      ],
      "metadata": {
        "id": "xsDOSDozRHcu",
        "colab": {
          "base_uri": "https://localhost:8080/"
        },
        "outputId": "d3ec1071-da25-42d9-ae58-d1370541bc88"
      },
      "execution_count": 16,
      "outputs": [
        {
          "output_type": "stream",
          "name": "stdout",
          "text": [
            "Model: \"model\"\n",
            "_________________________________________________________________\n",
            " Layer (type)                Output Shape              Param #   \n",
            "=================================================================\n",
            " input (InputLayer)          [(None, 5)]               0         \n",
            "                                                                 \n",
            " discriminator_drc_layer (Re  (None, 1)                72        \n",
            " UploadingPQC)                                                   \n",
            "                                                                 \n",
            " dense (Dense)               (None, 1)                 2         \n",
            "                                                                 \n",
            "=================================================================\n",
            "Total params: 74\n",
            "Trainable params: 74\n",
            "Non-trainable params: 0\n",
            "_________________________________________________________________\n"
          ]
        }
      ]
    },
    {
      "cell_type": "code",
      "source": [
        "def one_qubit_unitary_pqc(qubits,symbols) -> cirq.Circuit :\n",
        "  num_qubits = len(qubits)\n",
        "  circuit = cirq.Circuit()\n",
        "  k=0\n",
        "  for i in range(num_qubits):\n",
        "    circuit.append(cirq.rx(symbols[k])(qubits[i]))\n",
        "    k+=1\n",
        "  for i in range(num_qubits):\n",
        "    circuit.append(cirq.rz(symbols[k])(qubits[i]))\n",
        "    k+=1\n",
        "  \n",
        "  return circuit"
      ],
      "metadata": {
        "id": "pLuue25xrUKY"
      },
      "execution_count": 17,
      "outputs": []
    },
    {
      "cell_type": "code",
      "source": [
        "def two_qubit_unitary_pqc(qubits,symbols):\n",
        "  num_qubits = len(qubits)\n",
        "  circuit = cirq.Circuit()\n",
        "  k=0\n",
        "  for i in range(1,num_qubits,2):\n",
        "    circuit.append(cirq.CNOT(qubits[i-1],qubits[i]))\n",
        "    circuit.append(cirq.rz(symbols[k])(qubits[i]))\n",
        "    circuit.append(cirq.CNOT(qubits[i-1],qubits[i]))\n",
        "    k+=1\n",
        "  \n",
        "  for i in range(2,num_qubits,2):\n",
        "    circuit.append(cirq.CNOT(qubits[i-1],qubits[i]))\n",
        "    circuit.append(cirq.rz(symbols[k])(qubits[i]))\n",
        "    circuit.append(cirq.CNOT(qubits[i-1],qubits[i]))\n",
        "    k+=1\n",
        "  return circuit"
      ],
      "metadata": {
        "id": "HpAVZ6XDrZqs"
      },
      "execution_count": 18,
      "outputs": []
    },
    {
      "cell_type": "code",
      "source": [
        "def generator_pqc_circuit(qubits,use_entanglement=True,layers=1):\n",
        "  circuit = cirq.Circuit()\n",
        "  num_qubits = len(qubits)\n",
        "  # num_data_qubits = int(num_qubits/2)\n",
        "  symbols = sp.symbols('G_theta1_:'+str(2*layers*num_qubits)) + sp.symbols('G_theta2_:'+str(layers*(num_qubits-1)))\n",
        "  symbols_one = symbols[:2*layers*num_qubits]\n",
        "  symbols_two = symbols[2*layers*num_qubits:]\n",
        "  # random_rotations = np.random.normal(loc=0.0,scale=np.pi/4,size=num_qubits)\n",
        "  # for i in range(num_qubits):\n",
        "  #   circuit.append(cirq.ry(random_rotations[i])(qubits[i]))\n",
        "  # k=0\n",
        "  for l in range(layers):\n",
        "    circuit += one_qubit_unitary_pqc(qubits,symbols_one[l*2*num_qubits:(l+1)*2*num_qubits])\n",
        "    if(use_entanglement):\n",
        "      circuit += two_qubit_unitary_pqc(qubits,symbols_two[l*(num_qubits-1):(l+1)*(num_qubits-1)])\n",
        "  \n",
        "  return circuit,symbols"
      ],
      "metadata": {
        "id": "U9gQZTaorcXk"
      },
      "execution_count": 19,
      "outputs": []
    },
    {
      "cell_type": "code",
      "source": [
        "circ,symbols = generator_pqc_circuit(cirq.GridQubit.rect(5,1),layers=3)\n",
        "SVGCircuit(circ)"
      ],
      "metadata": {
        "colab": {
          "base_uri": "https://localhost:8080/",
          "height": 291
        },
        "id": "ikIO4pE1rebH",
        "outputId": "29ce0ee6-ba0f-4713-a8c6-6f32b5c89499"
      },
      "execution_count": 20,
      "outputs": [
        {
          "output_type": "execute_result",
          "data": {
            "text/plain": [
              "<cirq.contrib.svg.svg.SVGCircuit at 0x7f3e43f4bf50>"
            ],
            "image/svg+xml": "<svg xmlns=\"http://www.w3.org/2000/svg\" width=\"2498.4285937500003\" height=\"250.0\"><line x1=\"34.7588671875\" x2=\"2468.4285937500003\" y1=\"25.0\" y2=\"25.0\" stroke=\"#1967d2\" stroke-width=\"1\" /><line x1=\"34.7588671875\" x2=\"2468.4285937500003\" y1=\"75.0\" y2=\"75.0\" stroke=\"#1967d2\" stroke-width=\"1\" /><line x1=\"34.7588671875\" x2=\"2468.4285937500003\" y1=\"125.0\" y2=\"125.0\" stroke=\"#1967d2\" stroke-width=\"1\" /><line x1=\"34.7588671875\" x2=\"2468.4285937500003\" y1=\"175.0\" y2=\"175.0\" stroke=\"#1967d2\" stroke-width=\"1\" /><line x1=\"34.7588671875\" x2=\"2468.4285937500003\" y1=\"225.0\" y2=\"225.0\" stroke=\"#1967d2\" stroke-width=\"1\" /><line x1=\"370.7151171875\" x2=\"370.7151171875\" y1=\"25.0\" y2=\"75.0\" stroke=\"black\" stroke-width=\"3\" /><line x1=\"370.7151171875\" x2=\"370.7151171875\" y1=\"125.0\" y2=\"175.0\" stroke=\"black\" stroke-width=\"3\" /><line x1=\"565.8455468750001\" x2=\"565.8455468750001\" y1=\"25.0\" y2=\"75.0\" stroke=\"black\" stroke-width=\"3\" /><line x1=\"565.8455468750001\" x2=\"565.8455468750001\" y1=\"125.0\" y2=\"175.0\" stroke=\"black\" stroke-width=\"3\" /><line x1=\"625.8455468750001\" x2=\"625.8455468750001\" y1=\"75.0\" y2=\"125.0\" stroke=\"black\" stroke-width=\"3\" /><line x1=\"625.8455468750001\" x2=\"625.8455468750001\" y1=\"175.0\" y2=\"225.0\" stroke=\"black\" stroke-width=\"3\" /><line x1=\"820.9759765625001\" x2=\"820.9759765625001\" y1=\"75.0\" y2=\"125.0\" stroke=\"black\" stroke-width=\"3\" /><line x1=\"820.9759765625001\" x2=\"820.9759765625001\" y1=\"175.0\" y2=\"225.0\" stroke=\"black\" stroke-width=\"3\" /><line x1=\"1169.9878125000002\" x2=\"1169.9878125000002\" y1=\"25.0\" y2=\"75.0\" stroke=\"black\" stroke-width=\"3\" /><line x1=\"1169.9878125000002\" x2=\"1169.9878125000002\" y1=\"125.0\" y2=\"175.0\" stroke=\"black\" stroke-width=\"3\" /><line x1=\"1365.1182421875003\" x2=\"1365.1182421875003\" y1=\"25.0\" y2=\"75.0\" stroke=\"black\" stroke-width=\"3\" /><line x1=\"1365.1182421875003\" x2=\"1365.1182421875003\" y1=\"125.0\" y2=\"175.0\" stroke=\"black\" stroke-width=\"3\" /><line x1=\"1425.1182421875003\" x2=\"1425.1182421875003\" y1=\"75.0\" y2=\"125.0\" stroke=\"black\" stroke-width=\"3\" /><line x1=\"1425.1182421875003\" x2=\"1425.1182421875003\" y1=\"175.0\" y2=\"225.0\" stroke=\"black\" stroke-width=\"3\" /><line x1=\"1620.2486718750004\" x2=\"1620.2486718750004\" y1=\"75.0\" y2=\"125.0\" stroke=\"black\" stroke-width=\"3\" /><line x1=\"1620.2486718750004\" x2=\"1620.2486718750004\" y1=\"175.0\" y2=\"225.0\" stroke=\"black\" stroke-width=\"3\" /><line x1=\"1969.2605078125005\" x2=\"1969.2605078125005\" y1=\"25.0\" y2=\"75.0\" stroke=\"black\" stroke-width=\"3\" /><line x1=\"1969.2605078125005\" x2=\"1969.2605078125005\" y1=\"125.0\" y2=\"175.0\" stroke=\"black\" stroke-width=\"3\" /><line x1=\"2164.3909375000003\" x2=\"2164.3909375000003\" y1=\"25.0\" y2=\"75.0\" stroke=\"black\" stroke-width=\"3\" /><line x1=\"2164.3909375000003\" x2=\"2164.3909375000003\" y1=\"125.0\" y2=\"175.0\" stroke=\"black\" stroke-width=\"3\" /><line x1=\"2224.3909375000003\" x2=\"2224.3909375000003\" y1=\"75.0\" y2=\"125.0\" stroke=\"black\" stroke-width=\"3\" /><line x1=\"2224.3909375000003\" x2=\"2224.3909375000003\" y1=\"175.0\" y2=\"225.0\" stroke=\"black\" stroke-width=\"3\" /><line x1=\"2428.4285937500003\" x2=\"2428.4285937500003\" y1=\"75.0\" y2=\"125.0\" stroke=\"black\" stroke-width=\"3\" /><line x1=\"2428.4285937500003\" x2=\"2428.4285937500003\" y1=\"175.0\" y2=\"225.0\" stroke=\"black\" stroke-width=\"3\" /><rect x=\"10.0\" y=\"5.0\" width=\"49.517734375\" height=\"40\" stroke=\"black\" fill=\"white\" stroke-width=\"0\" /><text x=\"34.7588671875\" y=\"25.0\" dominant-baseline=\"middle\" text-anchor=\"middle\" font-size=\"14px\" font-family=\"Arial\">(0, 0): </text><rect x=\"10.0\" y=\"55.0\" width=\"49.517734375\" height=\"40\" stroke=\"black\" fill=\"white\" stroke-width=\"0\" /><text x=\"34.7588671875\" y=\"75.0\" dominant-baseline=\"middle\" text-anchor=\"middle\" font-size=\"14px\" font-family=\"Arial\">(1, 0): </text><rect x=\"10.0\" y=\"105.0\" width=\"49.517734375\" height=\"40\" stroke=\"black\" fill=\"white\" stroke-width=\"0\" /><text x=\"34.7588671875\" y=\"125.0\" dominant-baseline=\"middle\" text-anchor=\"middle\" font-size=\"14px\" font-family=\"Arial\">(2, 0): </text><rect x=\"10.0\" y=\"155.0\" width=\"49.517734375\" height=\"40\" stroke=\"black\" fill=\"white\" stroke-width=\"0\" /><text x=\"34.7588671875\" y=\"175.0\" dominant-baseline=\"middle\" text-anchor=\"middle\" font-size=\"14px\" font-family=\"Arial\">(3, 0): </text><rect x=\"10.0\" y=\"205.0\" width=\"49.517734375\" height=\"40\" stroke=\"black\" fill=\"white\" stroke-width=\"0\" /><text x=\"34.7588671875\" y=\"225.0\" dominant-baseline=\"middle\" text-anchor=\"middle\" font-size=\"14px\" font-family=\"Arial\">(4, 0): </text><rect x=\"79.517734375\" y=\"5.0\" width=\"116.066953125\" height=\"40\" stroke=\"black\" fill=\"white\" stroke-width=\"1\" /><text x=\"137.5512109375\" y=\"25.0\" dominant-baseline=\"middle\" text-anchor=\"middle\" font-size=\"14px\" font-family=\"Arial\">Rx(G_theta1_0)</text><rect x=\"79.517734375\" y=\"55.0\" width=\"116.066953125\" height=\"40\" stroke=\"black\" fill=\"white\" stroke-width=\"1\" /><text x=\"137.5512109375\" y=\"75.0\" dominant-baseline=\"middle\" text-anchor=\"middle\" font-size=\"14px\" font-family=\"Arial\">Rx(G_theta1_1)</text><rect x=\"79.517734375\" y=\"105.0\" width=\"116.066953125\" height=\"40\" stroke=\"black\" fill=\"white\" stroke-width=\"1\" /><text x=\"137.5512109375\" y=\"125.0\" dominant-baseline=\"middle\" text-anchor=\"middle\" font-size=\"14px\" font-family=\"Arial\">Rx(G_theta1_2)</text><rect x=\"79.517734375\" y=\"155.0\" width=\"116.066953125\" height=\"40\" stroke=\"black\" fill=\"white\" stroke-width=\"1\" /><text x=\"137.5512109375\" y=\"175.0\" dominant-baseline=\"middle\" text-anchor=\"middle\" font-size=\"14px\" font-family=\"Arial\">Rx(G_theta1_3)</text><rect x=\"79.517734375\" y=\"205.0\" width=\"116.066953125\" height=\"40\" stroke=\"black\" fill=\"white\" stroke-width=\"1\" /><text x=\"137.5512109375\" y=\"225.0\" dominant-baseline=\"middle\" text-anchor=\"middle\" font-size=\"14px\" font-family=\"Arial\">Rx(G_theta1_4)</text><rect x=\"215.5846875\" y=\"5.0\" width=\"115.1304296875\" height=\"40\" stroke=\"black\" fill=\"white\" stroke-width=\"1\" /><text x=\"273.14990234375\" y=\"25.0\" dominant-baseline=\"middle\" text-anchor=\"middle\" font-size=\"14px\" font-family=\"Arial\">Rz(G_theta1_5)</text><rect x=\"215.5846875\" y=\"55.0\" width=\"115.1304296875\" height=\"40\" stroke=\"black\" fill=\"white\" stroke-width=\"1\" /><text x=\"273.14990234375\" y=\"75.0\" dominant-baseline=\"middle\" text-anchor=\"middle\" font-size=\"14px\" font-family=\"Arial\">Rz(G_theta1_6)</text><rect x=\"215.5846875\" y=\"105.0\" width=\"115.1304296875\" height=\"40\" stroke=\"black\" fill=\"white\" stroke-width=\"1\" /><text x=\"273.14990234375\" y=\"125.0\" dominant-baseline=\"middle\" text-anchor=\"middle\" font-size=\"14px\" font-family=\"Arial\">Rz(G_theta1_7)</text><rect x=\"215.5846875\" y=\"155.0\" width=\"115.1304296875\" height=\"40\" stroke=\"black\" fill=\"white\" stroke-width=\"1\" /><text x=\"273.14990234375\" y=\"175.0\" dominant-baseline=\"middle\" text-anchor=\"middle\" font-size=\"14px\" font-family=\"Arial\">Rz(G_theta1_8)</text><rect x=\"215.5846875\" y=\"205.0\" width=\"115.1304296875\" height=\"40\" stroke=\"black\" fill=\"white\" stroke-width=\"1\" /><text x=\"273.14990234375\" y=\"225.0\" dominant-baseline=\"middle\" text-anchor=\"middle\" font-size=\"14px\" font-family=\"Arial\">Rz(G_theta1_9)</text><circle cx=\"370.7151171875\" cy=\"25.0\" r=\"10.0\" /><rect x=\"350.7151171875\" y=\"55.0\" width=\"40\" height=\"40\" stroke=\"black\" fill=\"white\" stroke-width=\"1\" /><text x=\"370.7151171875\" y=\"75.0\" dominant-baseline=\"middle\" text-anchor=\"middle\" font-size=\"18px\" font-family=\"Arial\">X</text><circle cx=\"370.7151171875\" cy=\"125.0\" r=\"10.0\" /><rect x=\"350.7151171875\" y=\"155.0\" width=\"40\" height=\"40\" stroke=\"black\" fill=\"white\" stroke-width=\"1\" /><text x=\"370.7151171875\" y=\"175.0\" dominant-baseline=\"middle\" text-anchor=\"middle\" font-size=\"18px\" font-family=\"Arial\">X</text><rect x=\"410.7151171875\" y=\"55.0\" width=\"115.1304296875\" height=\"40\" stroke=\"black\" fill=\"white\" stroke-width=\"1\" /><text x=\"468.28033203125005\" y=\"75.0\" dominant-baseline=\"middle\" text-anchor=\"middle\" font-size=\"14px\" font-family=\"Arial\">Rz(G_theta2_0)</text><rect x=\"410.7151171875\" y=\"155.0\" width=\"115.1304296875\" height=\"40\" stroke=\"black\" fill=\"white\" stroke-width=\"1\" /><text x=\"468.28033203125005\" y=\"175.0\" dominant-baseline=\"middle\" text-anchor=\"middle\" font-size=\"14px\" font-family=\"Arial\">Rz(G_theta2_1)</text><circle cx=\"565.8455468750001\" cy=\"25.0\" r=\"10.0\" /><rect x=\"545.8455468750001\" y=\"55.0\" width=\"40\" height=\"40\" stroke=\"black\" fill=\"white\" stroke-width=\"1\" /><text x=\"565.8455468750001\" y=\"75.0\" dominant-baseline=\"middle\" text-anchor=\"middle\" font-size=\"18px\" font-family=\"Arial\">X</text><circle cx=\"565.8455468750001\" cy=\"125.0\" r=\"10.0\" /><rect x=\"545.8455468750001\" y=\"155.0\" width=\"40\" height=\"40\" stroke=\"black\" fill=\"white\" stroke-width=\"1\" /><text x=\"565.8455468750001\" y=\"175.0\" dominant-baseline=\"middle\" text-anchor=\"middle\" font-size=\"18px\" font-family=\"Arial\">X</text><circle cx=\"625.8455468750001\" cy=\"75.0\" r=\"10.0\" /><rect x=\"605.8455468750001\" y=\"105.0\" width=\"40\" height=\"40\" stroke=\"black\" fill=\"white\" stroke-width=\"1\" /><text x=\"625.8455468750001\" y=\"125.0\" dominant-baseline=\"middle\" text-anchor=\"middle\" font-size=\"18px\" font-family=\"Arial\">X</text><circle cx=\"625.8455468750001\" cy=\"175.0\" r=\"10.0\" /><rect x=\"605.8455468750001\" y=\"205.0\" width=\"40\" height=\"40\" stroke=\"black\" fill=\"white\" stroke-width=\"1\" /><text x=\"625.8455468750001\" y=\"225.0\" dominant-baseline=\"middle\" text-anchor=\"middle\" font-size=\"18px\" font-family=\"Arial\">X</text><rect x=\"665.8455468750001\" y=\"105.0\" width=\"115.1304296875\" height=\"40\" stroke=\"black\" fill=\"white\" stroke-width=\"1\" /><text x=\"723.4107617187501\" y=\"125.0\" dominant-baseline=\"middle\" text-anchor=\"middle\" font-size=\"14px\" font-family=\"Arial\">Rz(G_theta2_2)</text><rect x=\"665.8455468750001\" y=\"205.0\" width=\"115.1304296875\" height=\"40\" stroke=\"black\" fill=\"white\" stroke-width=\"1\" /><text x=\"723.4107617187501\" y=\"225.0\" dominant-baseline=\"middle\" text-anchor=\"middle\" font-size=\"14px\" font-family=\"Arial\">Rz(G_theta2_3)</text><circle cx=\"820.9759765625001\" cy=\"75.0\" r=\"10.0\" /><rect x=\"800.9759765625001\" y=\"105.0\" width=\"40\" height=\"40\" stroke=\"black\" fill=\"white\" stroke-width=\"1\" /><text x=\"820.9759765625001\" y=\"125.0\" dominant-baseline=\"middle\" text-anchor=\"middle\" font-size=\"18px\" font-family=\"Arial\">X</text><circle cx=\"820.9759765625001\" cy=\"175.0\" r=\"10.0\" /><rect x=\"800.9759765625001\" y=\"205.0\" width=\"40\" height=\"40\" stroke=\"black\" fill=\"white\" stroke-width=\"1\" /><text x=\"820.9759765625001\" y=\"225.0\" dominant-baseline=\"middle\" text-anchor=\"middle\" font-size=\"18px\" font-family=\"Arial\">X</text><rect x=\"860.9759765625001\" y=\"5.0\" width=\"124.9741796875\" height=\"40\" stroke=\"black\" fill=\"white\" stroke-width=\"1\" /><text x=\"923.4630664062502\" y=\"25.0\" dominant-baseline=\"middle\" text-anchor=\"middle\" font-size=\"14px\" font-family=\"Arial\">Rx(G_theta1_10)</text><rect x=\"860.9759765625001\" y=\"55.0\" width=\"124.9741796875\" height=\"40\" stroke=\"black\" fill=\"white\" stroke-width=\"1\" /><text x=\"923.4630664062502\" y=\"75.0\" dominant-baseline=\"middle\" text-anchor=\"middle\" font-size=\"14px\" font-family=\"Arial\">Rx(G_theta1_11)</text><rect x=\"860.9759765625001\" y=\"105.0\" width=\"124.9741796875\" height=\"40\" stroke=\"black\" fill=\"white\" stroke-width=\"1\" /><text x=\"923.4630664062502\" y=\"125.0\" dominant-baseline=\"middle\" text-anchor=\"middle\" font-size=\"14px\" font-family=\"Arial\">Rx(G_theta1_12)</text><rect x=\"860.9759765625001\" y=\"155.0\" width=\"124.9741796875\" height=\"40\" stroke=\"black\" fill=\"white\" stroke-width=\"1\" /><text x=\"923.4630664062502\" y=\"175.0\" dominant-baseline=\"middle\" text-anchor=\"middle\" font-size=\"14px\" font-family=\"Arial\">Rx(G_theta1_13)</text><rect x=\"860.9759765625001\" y=\"205.0\" width=\"124.9741796875\" height=\"40\" stroke=\"black\" fill=\"white\" stroke-width=\"1\" /><text x=\"923.4630664062502\" y=\"225.0\" dominant-baseline=\"middle\" text-anchor=\"middle\" font-size=\"14px\" font-family=\"Arial\">Rx(G_theta1_14)</text><rect x=\"1005.9501562500002\" y=\"5.0\" width=\"124.03765625\" height=\"40\" stroke=\"black\" fill=\"white\" stroke-width=\"1\" /><text x=\"1067.9689843750002\" y=\"25.0\" dominant-baseline=\"middle\" text-anchor=\"middle\" font-size=\"14px\" font-family=\"Arial\">Rz(G_theta1_15)</text><rect x=\"1005.9501562500002\" y=\"55.0\" width=\"124.03765625\" height=\"40\" stroke=\"black\" fill=\"white\" stroke-width=\"1\" /><text x=\"1067.9689843750002\" y=\"75.0\" dominant-baseline=\"middle\" text-anchor=\"middle\" font-size=\"14px\" font-family=\"Arial\">Rz(G_theta1_16)</text><rect x=\"1005.9501562500002\" y=\"105.0\" width=\"124.03765625\" height=\"40\" stroke=\"black\" fill=\"white\" stroke-width=\"1\" /><text x=\"1067.9689843750002\" y=\"125.0\" dominant-baseline=\"middle\" text-anchor=\"middle\" font-size=\"14px\" font-family=\"Arial\">Rz(G_theta1_17)</text><rect x=\"1005.9501562500002\" y=\"155.0\" width=\"124.03765625\" height=\"40\" stroke=\"black\" fill=\"white\" stroke-width=\"1\" /><text x=\"1067.9689843750002\" y=\"175.0\" dominant-baseline=\"middle\" text-anchor=\"middle\" font-size=\"14px\" font-family=\"Arial\">Rz(G_theta1_18)</text><rect x=\"1005.9501562500002\" y=\"205.0\" width=\"124.03765625\" height=\"40\" stroke=\"black\" fill=\"white\" stroke-width=\"1\" /><text x=\"1067.9689843750002\" y=\"225.0\" dominant-baseline=\"middle\" text-anchor=\"middle\" font-size=\"14px\" font-family=\"Arial\">Rz(G_theta1_19)</text><circle cx=\"1169.9878125000002\" cy=\"25.0\" r=\"10.0\" /><rect x=\"1149.9878125000002\" y=\"55.0\" width=\"40\" height=\"40\" stroke=\"black\" fill=\"white\" stroke-width=\"1\" /><text x=\"1169.9878125000002\" y=\"75.0\" dominant-baseline=\"middle\" text-anchor=\"middle\" font-size=\"18px\" font-family=\"Arial\">X</text><circle cx=\"1169.9878125000002\" cy=\"125.0\" r=\"10.0\" /><rect x=\"1149.9878125000002\" y=\"155.0\" width=\"40\" height=\"40\" stroke=\"black\" fill=\"white\" stroke-width=\"1\" /><text x=\"1169.9878125000002\" y=\"175.0\" dominant-baseline=\"middle\" text-anchor=\"middle\" font-size=\"18px\" font-family=\"Arial\">X</text><rect x=\"1209.9878125000002\" y=\"55.0\" width=\"115.1304296875\" height=\"40\" stroke=\"black\" fill=\"white\" stroke-width=\"1\" /><text x=\"1267.5530273437503\" y=\"75.0\" dominant-baseline=\"middle\" text-anchor=\"middle\" font-size=\"14px\" font-family=\"Arial\">Rz(G_theta2_4)</text><rect x=\"1209.9878125000002\" y=\"155.0\" width=\"115.1304296875\" height=\"40\" stroke=\"black\" fill=\"white\" stroke-width=\"1\" /><text x=\"1267.5530273437503\" y=\"175.0\" dominant-baseline=\"middle\" text-anchor=\"middle\" font-size=\"14px\" font-family=\"Arial\">Rz(G_theta2_5)</text><circle cx=\"1365.1182421875003\" cy=\"25.0\" r=\"10.0\" /><rect x=\"1345.1182421875003\" y=\"55.0\" width=\"40\" height=\"40\" stroke=\"black\" fill=\"white\" stroke-width=\"1\" /><text x=\"1365.1182421875003\" y=\"75.0\" dominant-baseline=\"middle\" text-anchor=\"middle\" font-size=\"18px\" font-family=\"Arial\">X</text><circle cx=\"1365.1182421875003\" cy=\"125.0\" r=\"10.0\" /><rect x=\"1345.1182421875003\" y=\"155.0\" width=\"40\" height=\"40\" stroke=\"black\" fill=\"white\" stroke-width=\"1\" /><text x=\"1365.1182421875003\" y=\"175.0\" dominant-baseline=\"middle\" text-anchor=\"middle\" font-size=\"18px\" font-family=\"Arial\">X</text><circle cx=\"1425.1182421875003\" cy=\"75.0\" r=\"10.0\" /><rect x=\"1405.1182421875003\" y=\"105.0\" width=\"40\" height=\"40\" stroke=\"black\" fill=\"white\" stroke-width=\"1\" /><text x=\"1425.1182421875003\" y=\"125.0\" dominant-baseline=\"middle\" text-anchor=\"middle\" font-size=\"18px\" font-family=\"Arial\">X</text><circle cx=\"1425.1182421875003\" cy=\"175.0\" r=\"10.0\" /><rect x=\"1405.1182421875003\" y=\"205.0\" width=\"40\" height=\"40\" stroke=\"black\" fill=\"white\" stroke-width=\"1\" /><text x=\"1425.1182421875003\" y=\"225.0\" dominant-baseline=\"middle\" text-anchor=\"middle\" font-size=\"18px\" font-family=\"Arial\">X</text><rect x=\"1465.1182421875003\" y=\"105.0\" width=\"115.1304296875\" height=\"40\" stroke=\"black\" fill=\"white\" stroke-width=\"1\" /><text x=\"1522.6834570312503\" y=\"125.0\" dominant-baseline=\"middle\" text-anchor=\"middle\" font-size=\"14px\" font-family=\"Arial\">Rz(G_theta2_6)</text><rect x=\"1465.1182421875003\" y=\"205.0\" width=\"115.1304296875\" height=\"40\" stroke=\"black\" fill=\"white\" stroke-width=\"1\" /><text x=\"1522.6834570312503\" y=\"225.0\" dominant-baseline=\"middle\" text-anchor=\"middle\" font-size=\"14px\" font-family=\"Arial\">Rz(G_theta2_7)</text><circle cx=\"1620.2486718750004\" cy=\"75.0\" r=\"10.0\" /><rect x=\"1600.2486718750004\" y=\"105.0\" width=\"40\" height=\"40\" stroke=\"black\" fill=\"white\" stroke-width=\"1\" /><text x=\"1620.2486718750004\" y=\"125.0\" dominant-baseline=\"middle\" text-anchor=\"middle\" font-size=\"18px\" font-family=\"Arial\">X</text><circle cx=\"1620.2486718750004\" cy=\"175.0\" r=\"10.0\" /><rect x=\"1600.2486718750004\" y=\"205.0\" width=\"40\" height=\"40\" stroke=\"black\" fill=\"white\" stroke-width=\"1\" /><text x=\"1620.2486718750004\" y=\"225.0\" dominant-baseline=\"middle\" text-anchor=\"middle\" font-size=\"18px\" font-family=\"Arial\">X</text><rect x=\"1660.2486718750004\" y=\"5.0\" width=\"124.9741796875\" height=\"40\" stroke=\"black\" fill=\"white\" stroke-width=\"1\" /><text x=\"1722.7357617187504\" y=\"25.0\" dominant-baseline=\"middle\" text-anchor=\"middle\" font-size=\"14px\" font-family=\"Arial\">Rx(G_theta1_20)</text><rect x=\"1660.2486718750004\" y=\"55.0\" width=\"124.9741796875\" height=\"40\" stroke=\"black\" fill=\"white\" stroke-width=\"1\" /><text x=\"1722.7357617187504\" y=\"75.0\" dominant-baseline=\"middle\" text-anchor=\"middle\" font-size=\"14px\" font-family=\"Arial\">Rx(G_theta1_21)</text><rect x=\"1660.2486718750004\" y=\"105.0\" width=\"124.9741796875\" height=\"40\" stroke=\"black\" fill=\"white\" stroke-width=\"1\" /><text x=\"1722.7357617187504\" y=\"125.0\" dominant-baseline=\"middle\" text-anchor=\"middle\" font-size=\"14px\" font-family=\"Arial\">Rx(G_theta1_22)</text><rect x=\"1660.2486718750004\" y=\"155.0\" width=\"124.9741796875\" height=\"40\" stroke=\"black\" fill=\"white\" stroke-width=\"1\" /><text x=\"1722.7357617187504\" y=\"175.0\" dominant-baseline=\"middle\" text-anchor=\"middle\" font-size=\"14px\" font-family=\"Arial\">Rx(G_theta1_23)</text><rect x=\"1660.2486718750004\" y=\"205.0\" width=\"124.9741796875\" height=\"40\" stroke=\"black\" fill=\"white\" stroke-width=\"1\" /><text x=\"1722.7357617187504\" y=\"225.0\" dominant-baseline=\"middle\" text-anchor=\"middle\" font-size=\"14px\" font-family=\"Arial\">Rx(G_theta1_24)</text><rect x=\"1805.2228515625004\" y=\"5.0\" width=\"124.03765625\" height=\"40\" stroke=\"black\" fill=\"white\" stroke-width=\"1\" /><text x=\"1867.2416796875004\" y=\"25.0\" dominant-baseline=\"middle\" text-anchor=\"middle\" font-size=\"14px\" font-family=\"Arial\">Rz(G_theta1_25)</text><rect x=\"1805.2228515625004\" y=\"55.0\" width=\"124.03765625\" height=\"40\" stroke=\"black\" fill=\"white\" stroke-width=\"1\" /><text x=\"1867.2416796875004\" y=\"75.0\" dominant-baseline=\"middle\" text-anchor=\"middle\" font-size=\"14px\" font-family=\"Arial\">Rz(G_theta1_26)</text><rect x=\"1805.2228515625004\" y=\"105.0\" width=\"124.03765625\" height=\"40\" stroke=\"black\" fill=\"white\" stroke-width=\"1\" /><text x=\"1867.2416796875004\" y=\"125.0\" dominant-baseline=\"middle\" text-anchor=\"middle\" font-size=\"14px\" font-family=\"Arial\">Rz(G_theta1_27)</text><rect x=\"1805.2228515625004\" y=\"155.0\" width=\"124.03765625\" height=\"40\" stroke=\"black\" fill=\"white\" stroke-width=\"1\" /><text x=\"1867.2416796875004\" y=\"175.0\" dominant-baseline=\"middle\" text-anchor=\"middle\" font-size=\"14px\" font-family=\"Arial\">Rz(G_theta1_28)</text><rect x=\"1805.2228515625004\" y=\"205.0\" width=\"124.03765625\" height=\"40\" stroke=\"black\" fill=\"white\" stroke-width=\"1\" /><text x=\"1867.2416796875004\" y=\"225.0\" dominant-baseline=\"middle\" text-anchor=\"middle\" font-size=\"14px\" font-family=\"Arial\">Rz(G_theta1_29)</text><circle cx=\"1969.2605078125005\" cy=\"25.0\" r=\"10.0\" /><rect x=\"1949.2605078125005\" y=\"55.0\" width=\"40\" height=\"40\" stroke=\"black\" fill=\"white\" stroke-width=\"1\" /><text x=\"1969.2605078125005\" y=\"75.0\" dominant-baseline=\"middle\" text-anchor=\"middle\" font-size=\"18px\" font-family=\"Arial\">X</text><circle cx=\"1969.2605078125005\" cy=\"125.0\" r=\"10.0\" /><rect x=\"1949.2605078125005\" y=\"155.0\" width=\"40\" height=\"40\" stroke=\"black\" fill=\"white\" stroke-width=\"1\" /><text x=\"1969.2605078125005\" y=\"175.0\" dominant-baseline=\"middle\" text-anchor=\"middle\" font-size=\"18px\" font-family=\"Arial\">X</text><rect x=\"2009.2605078125005\" y=\"55.0\" width=\"115.1304296875\" height=\"40\" stroke=\"black\" fill=\"white\" stroke-width=\"1\" /><text x=\"2066.8257226562505\" y=\"75.0\" dominant-baseline=\"middle\" text-anchor=\"middle\" font-size=\"14px\" font-family=\"Arial\">Rz(G_theta2_8)</text><rect x=\"2009.2605078125005\" y=\"155.0\" width=\"115.1304296875\" height=\"40\" stroke=\"black\" fill=\"white\" stroke-width=\"1\" /><text x=\"2066.8257226562505\" y=\"175.0\" dominant-baseline=\"middle\" text-anchor=\"middle\" font-size=\"14px\" font-family=\"Arial\">Rz(G_theta2_9)</text><circle cx=\"2164.3909375000003\" cy=\"25.0\" r=\"10.0\" /><rect x=\"2144.3909375000003\" y=\"55.0\" width=\"40\" height=\"40\" stroke=\"black\" fill=\"white\" stroke-width=\"1\" /><text x=\"2164.3909375000003\" y=\"75.0\" dominant-baseline=\"middle\" text-anchor=\"middle\" font-size=\"18px\" font-family=\"Arial\">X</text><circle cx=\"2164.3909375000003\" cy=\"125.0\" r=\"10.0\" /><rect x=\"2144.3909375000003\" y=\"155.0\" width=\"40\" height=\"40\" stroke=\"black\" fill=\"white\" stroke-width=\"1\" /><text x=\"2164.3909375000003\" y=\"175.0\" dominant-baseline=\"middle\" text-anchor=\"middle\" font-size=\"18px\" font-family=\"Arial\">X</text><circle cx=\"2224.3909375000003\" cy=\"75.0\" r=\"10.0\" /><rect x=\"2204.3909375000003\" y=\"105.0\" width=\"40\" height=\"40\" stroke=\"black\" fill=\"white\" stroke-width=\"1\" /><text x=\"2224.3909375000003\" y=\"125.0\" dominant-baseline=\"middle\" text-anchor=\"middle\" font-size=\"18px\" font-family=\"Arial\">X</text><circle cx=\"2224.3909375000003\" cy=\"175.0\" r=\"10.0\" /><rect x=\"2204.3909375000003\" y=\"205.0\" width=\"40\" height=\"40\" stroke=\"black\" fill=\"white\" stroke-width=\"1\" /><text x=\"2224.3909375000003\" y=\"225.0\" dominant-baseline=\"middle\" text-anchor=\"middle\" font-size=\"18px\" font-family=\"Arial\">X</text><rect x=\"2264.3909375000003\" y=\"105.0\" width=\"124.03765625\" height=\"40\" stroke=\"black\" fill=\"white\" stroke-width=\"1\" /><text x=\"2326.409765625\" y=\"125.0\" dominant-baseline=\"middle\" text-anchor=\"middle\" font-size=\"14px\" font-family=\"Arial\">Rz(G_theta2_10)</text><rect x=\"2264.3909375000003\" y=\"205.0\" width=\"124.03765625\" height=\"40\" stroke=\"black\" fill=\"white\" stroke-width=\"1\" /><text x=\"2326.409765625\" y=\"225.0\" dominant-baseline=\"middle\" text-anchor=\"middle\" font-size=\"14px\" font-family=\"Arial\">Rz(G_theta2_11)</text><circle cx=\"2428.4285937500003\" cy=\"75.0\" r=\"10.0\" /><rect x=\"2408.4285937500003\" y=\"105.0\" width=\"40\" height=\"40\" stroke=\"black\" fill=\"white\" stroke-width=\"1\" /><text x=\"2428.4285937500003\" y=\"125.0\" dominant-baseline=\"middle\" text-anchor=\"middle\" font-size=\"18px\" font-family=\"Arial\">X</text><circle cx=\"2428.4285937500003\" cy=\"175.0\" r=\"10.0\" /><rect x=\"2408.4285937500003\" y=\"205.0\" width=\"40\" height=\"40\" stroke=\"black\" fill=\"white\" stroke-width=\"1\" /><text x=\"2428.4285937500003\" y=\"225.0\" dominant-baseline=\"middle\" text-anchor=\"middle\" font-size=\"18px\" font-family=\"Arial\">X</text></svg>"
          },
          "metadata": {},
          "execution_count": 20
        }
      ]
    },
    {
      "cell_type": "code",
      "source": [
        "def data_encoding_circuit(qubits):\n",
        "  circuit = cirq.Circuit()\n",
        "  input_symbols = sp.symbols('x_:'+str(len(qubits)))\n",
        "  for i,q in enumerate(qubits):\n",
        "    circuit += cirq.ry(input_symbols[i])(q)\n",
        "  return circuit,input_symbols"
      ],
      "metadata": {
        "id": "vJd8IQ4SSc3u"
      },
      "execution_count": 21,
      "outputs": []
    },
    {
      "cell_type": "code",
      "source": [
        "SVGCircuit(data_encoding_circuit(cirq.GridQubit.rect(1,5))[0])"
      ],
      "metadata": {
        "colab": {
          "base_uri": "https://localhost:8080/",
          "height": 271
        },
        "id": "YAicn-aGSlbE",
        "outputId": "ddaf7f74-1c6c-4c5e-e21a-01343a702f44"
      },
      "execution_count": 22,
      "outputs": [
        {
          "output_type": "execute_result",
          "data": {
            "text/plain": [
              "<cirq.contrib.svg.svg.SVGCircuit at 0x7f3e4354e990>"
            ],
            "image/svg+xml": "<svg xmlns=\"http://www.w3.org/2000/svg\" width=\"189.3000390625\" height=\"250.0\"><line x1=\"34.7588671875\" x2=\"159.3000390625\" y1=\"25.0\" y2=\"25.0\" stroke=\"#1967d2\" stroke-width=\"1\" /><line x1=\"34.7588671875\" x2=\"159.3000390625\" y1=\"75.0\" y2=\"75.0\" stroke=\"#1967d2\" stroke-width=\"1\" /><line x1=\"34.7588671875\" x2=\"159.3000390625\" y1=\"125.0\" y2=\"125.0\" stroke=\"#1967d2\" stroke-width=\"1\" /><line x1=\"34.7588671875\" x2=\"159.3000390625\" y1=\"175.0\" y2=\"175.0\" stroke=\"#1967d2\" stroke-width=\"1\" /><line x1=\"34.7588671875\" x2=\"159.3000390625\" y1=\"225.0\" y2=\"225.0\" stroke=\"#1967d2\" stroke-width=\"1\" /><rect x=\"10.0\" y=\"5.0\" width=\"49.517734375\" height=\"40\" stroke=\"black\" fill=\"white\" stroke-width=\"0\" /><text x=\"34.7588671875\" y=\"25.0\" dominant-baseline=\"middle\" text-anchor=\"middle\" font-size=\"14px\" font-family=\"Arial\">(0, 0): </text><rect x=\"10.0\" y=\"55.0\" width=\"49.517734375\" height=\"40\" stroke=\"black\" fill=\"white\" stroke-width=\"0\" /><text x=\"34.7588671875\" y=\"75.0\" dominant-baseline=\"middle\" text-anchor=\"middle\" font-size=\"14px\" font-family=\"Arial\">(0, 1): </text><rect x=\"10.0\" y=\"105.0\" width=\"49.517734375\" height=\"40\" stroke=\"black\" fill=\"white\" stroke-width=\"0\" /><text x=\"34.7588671875\" y=\"125.0\" dominant-baseline=\"middle\" text-anchor=\"middle\" font-size=\"14px\" font-family=\"Arial\">(0, 2): </text><rect x=\"10.0\" y=\"155.0\" width=\"49.517734375\" height=\"40\" stroke=\"black\" fill=\"white\" stroke-width=\"0\" /><text x=\"34.7588671875\" y=\"175.0\" dominant-baseline=\"middle\" text-anchor=\"middle\" font-size=\"14px\" font-family=\"Arial\">(0, 3): </text><rect x=\"10.0\" y=\"205.0\" width=\"49.517734375\" height=\"40\" stroke=\"black\" fill=\"white\" stroke-width=\"0\" /><text x=\"34.7588671875\" y=\"225.0\" dominant-baseline=\"middle\" text-anchor=\"middle\" font-size=\"14px\" font-family=\"Arial\">(0, 4): </text><rect x=\"79.517734375\" y=\"5.0\" width=\"59.7823046875\" height=\"40\" stroke=\"black\" fill=\"white\" stroke-width=\"1\" /><text x=\"109.40888671875001\" y=\"25.0\" dominant-baseline=\"middle\" text-anchor=\"middle\" font-size=\"14px\" font-family=\"Arial\">Ry(x_0)</text><rect x=\"79.517734375\" y=\"55.0\" width=\"59.7823046875\" height=\"40\" stroke=\"black\" fill=\"white\" stroke-width=\"1\" /><text x=\"109.40888671875001\" y=\"75.0\" dominant-baseline=\"middle\" text-anchor=\"middle\" font-size=\"14px\" font-family=\"Arial\">Ry(x_1)</text><rect x=\"79.517734375\" y=\"105.0\" width=\"59.7823046875\" height=\"40\" stroke=\"black\" fill=\"white\" stroke-width=\"1\" /><text x=\"109.40888671875001\" y=\"125.0\" dominant-baseline=\"middle\" text-anchor=\"middle\" font-size=\"14px\" font-family=\"Arial\">Ry(x_2)</text><rect x=\"79.517734375\" y=\"155.0\" width=\"59.7823046875\" height=\"40\" stroke=\"black\" fill=\"white\" stroke-width=\"1\" /><text x=\"109.40888671875001\" y=\"175.0\" dominant-baseline=\"middle\" text-anchor=\"middle\" font-size=\"14px\" font-family=\"Arial\">Ry(x_3)</text><rect x=\"79.517734375\" y=\"205.0\" width=\"59.7823046875\" height=\"40\" stroke=\"black\" fill=\"white\" stroke-width=\"1\" /><text x=\"109.40888671875001\" y=\"225.0\" dominant-baseline=\"middle\" text-anchor=\"middle\" font-size=\"14px\" font-family=\"Arial\">Ry(x_4)</text></svg>"
          },
          "metadata": {},
          "execution_count": 22
        }
      ]
    },
    {
      "cell_type": "code",
      "source": [
        "class GeneratorPQC(tf.keras.layers.Layer):\n",
        "  def __init__(self,data_circuit,variational_circuit,n_qubits,use_entanglement=True,name = \"GeneratorPQC\"):\n",
        "    super(GeneratorPQC,self).__init__(name=name)\n",
        "    self.n_qubits=n_qubits\n",
        "    # self.n_layers=n_layers\n",
        "    self.use_entanglement=use_entanglement\n",
        "    self.main_name = name\n",
        "    # self.empty_circuit = tfq.convert_to_tensor([cirq.Circuit()])\n",
        "    # self.qubits = cirq.GridQubit.rect(1, n_qubits)\n",
        "    # self.observables = [cirq.Z(q) for q in self.qubits]\n",
        "    self.append_layer = elementary.AddCircuit()\n",
        "    # circuit,symbols,input_symbols = generator_pqc_circuit(qubits=self.qubits,layers=self.n_layers)\n",
        "    self.encoding_circuit,self.input_symbols = data_circuit\n",
        "    self.encoding_circuit = tfq.convert_to_tensor([self.encoding_circuit])\n",
        "    # data_circuit = QuantumCircuit.from_cirq(data_circuit)\n",
        "    self.op_circuit,self.param_symbols = variational_circuit\n",
        "    self.op_circuit = tfq.convert_to_tensor([self.op_circuit])\n",
        "    # variational_circuit = QuantumCircuit.from_cirq(variational_circuit)\n",
        "    self.operators = [cirq.Z(q) for q in variational_circuit[0].all_qubits()]\n",
        "    self.parameters = self.add_weight('parameters',\n",
        "                                          shape=(1,len(self.param_symbols)),\n",
        "                                          # initializer=self.initializer,\n",
        "                                          # regularizer=self.regularizer,\n",
        "                                          # constraint=self.constraint,\n",
        "                                          dtype=tf.float32,\n",
        "                                          trainable=True)\n",
        "    self.demo_circuit = data_circuit[0] +variational_circuit[0]\n",
        "    symbols = [str(symb) for symb in self.input_symbols + self.param_symbols]\n",
        "    self.indices = tf.constant([sorted(symbols).index(a) for a in symbols])\n",
        "    # thetas_init = tf.random_uniform_initializer(minval=-np.pi/2, maxval=np.pi/2)\n",
        "    # self.params = tf.Variable(\n",
        "    #         initial_value=thetas_init(shape=(1, symbols), dtype=\"float32\"),\n",
        "    #         trainable=True, name=self.main_name + \"thetas\")\n",
        "    self.computation_layer = tfq.layers.ControlledPQC(self.demo_circuit,self.operators)\n",
        "    \n",
        "  def get_config(self):\n",
        "    config = super().get_config().copy()\n",
        "    config.update({\n",
        "            'n_qubits': self.n_qubits,\n",
        "            'n_layers': self.n_layers,\n",
        "            'use_entanglement': self.use_entanglement,\n",
        "            'name': self.main_name,\n",
        "    })\n",
        "    return config\n",
        "  \n",
        "  def call(self,inputs):\n",
        "    batch_size = tf.shape(inputs)[0]\n",
        "    tiled_encoding_circuit = tf.tile(self.encoding_circuit,[batch_size])\n",
        "    tiled_variational_circuit = tf.tile(self.op_circuit,[batch_size])\n",
        "    # full_circuit_batch = self.append_layer(tiled_encoding_circuit,tiled_variational_circuit)\n",
        "    full_circuit_batch = tfq.layers.AddCircuit()(tiled_encoding_circuit,append=tiled_variational_circuit)\n",
        "    # empty_circuit_batch = tf.repeat(self.empty_circuit, repeats=batch_size, name=self.main_name + '-tiled_up_empty_circuits') \n",
        "    tiled_parameters = tf.tile(self.parameters, multiples=[batch_size,1], name=self.main_name + '-tiled_up_empty_thetas') \n",
        "    joined_params = tf.concat([inputs,tiled_parameters],axis=-1)\n",
        "    \n",
        "    # joined_params = tf.gather(joined_params,self.indices,axis=-1,name=self.main_name + '-joined_parameters')\n",
        "    # tiled_operators = tf.tile(self.operators,[batch_size,1])\n",
        "    # return self.computation_layer([empty_circuit_batch,self.parameters])\n",
        "    return self.computation_layer([full_circuit_batch,joined_params])"
      ],
      "metadata": {
        "id": "qphibIX-rh0U"
      },
      "execution_count": 23,
      "outputs": []
    },
    {
      "cell_type": "code",
      "source": [
        "n_gen_qubits = len(X_train_0[0])\n",
        "qubits = cirq.GridQubit.rect(n_gen_qubits,1)\n",
        "layers = 5\n",
        "observables = [cirq.Z(q) for q in qubits]\n",
        "inputs = tf.keras.Input(shape=(n_gen_qubits,))      #,dtype = tf.dtypes.float32\n",
        "gen_pqc = GeneratorPQC(data_circuit=data_encoding_circuit(cirq.GridQubit.rect(n_gen_qubits,1)),variational_circuit=generator_pqc_circuit(cirq.GridQubit.rect(n_gen_qubits,1),layers=layers),n_qubits=n_gen_qubits)\n",
        "gen_pqc_layer = gen_pqc(inputs)\n",
        "# g_layers = tfq.layers.ControlledPQC(generator_pqc_circuit(qubits,layers),observables)(inputs)\n",
        "generator_model = tf.keras.Model(inputs=[inputs],outputs=[gen_pqc_layer])"
      ],
      "metadata": {
        "id": "hfPLoQV8rnot"
      },
      "execution_count": 24,
      "outputs": []
    },
    {
      "cell_type": "code",
      "source": [
        "generator_model.summary()"
      ],
      "metadata": {
        "colab": {
          "base_uri": "https://localhost:8080/"
        },
        "id": "SKjEMW4VrqRx",
        "outputId": "2f9ec0b3-1973-4859-c9f3-054686906cb5"
      },
      "execution_count": 25,
      "outputs": [
        {
          "output_type": "stream",
          "name": "stdout",
          "text": [
            "Model: \"model_1\"\n",
            "_________________________________________________________________\n",
            " Layer (type)                Output Shape              Param #   \n",
            "=================================================================\n",
            " input_1 (InputLayer)        [(None, 5)]               0         \n",
            "                                                                 \n",
            " GeneratorPQC (GeneratorPQC)  (None, 5)                70        \n",
            "                                                                 \n",
            "=================================================================\n",
            "Total params: 70\n",
            "Trainable params: 70\n",
            "Non-trainable params: 0\n",
            "_________________________________________________________________\n"
          ]
        }
      ]
    },
    {
      "cell_type": "code",
      "source": [
        "def prepare_dataset(data,batch_size,seed=None,drop_remainder=True,buffer_size=100):\n",
        "  buffer_size =len(data[0])\n",
        "  ds = tf.data.Dataset.from_tensor_slices(data)\n",
        "  ds = ds.shuffle(buffer_size=buffer_size,seed=seed,reshuffle_each_iteration=True)\n",
        "  ds = ds.batch(batch_size,drop_remainder)\n",
        "  ds = ds.prefetch(tf.data.AUTOTUNE)\n",
        "  return ds"
      ],
      "metadata": {
        "id": "aDpz2PFNrsym"
      },
      "execution_count": 26,
      "outputs": []
    },
    {
      "cell_type": "code",
      "source": [
        "def train_preprocess(random_state):\n",
        "  tf.random.set_seed(random_state)\n",
        "  np.random.seed(random_state)"
      ],
      "metadata": {
        "id": "zp0g-pNCrwFD"
      },
      "execution_count": 27,
      "outputs": []
    },
    {
      "cell_type": "code",
      "source": [
        "loss = tf.keras.losses.BinaryCrossentropy(from_logits=True)\n",
        "\n",
        "@tf.function\n",
        "def generator_loss(fake_output):\n",
        "  return loss(tf.ones_like(fake_output),fake_output)\n",
        "\n",
        "@tf.function\n",
        "def discriminator_loss(real_output,fake_output):\n",
        "  real_loss = loss(tf.ones_like(real_output),real_output)\n",
        "  fake_loss = loss(tf.zeros_like(fake_output),fake_output)\n",
        "  return real_loss + fake_loss"
      ],
      "metadata": {
        "id": "YwcDMrs6ryE5"
      },
      "execution_count": 28,
      "outputs": []
    },
    {
      "cell_type": "code",
      "source": [
        "identifier_d = {\"class_name\": 'adam', \"config\": {\"learning_rate\": 1e-4}}\n",
        "identifier_g = {\"class_name\": 'adam', \"config\": {\"learning_rate\": 5e-4}}\n",
        "discriminator_optimizer = tf.keras.optimizers.get(identifier_d)\n",
        "generator_optimizer = tf.keras.optimizers.get(identifier_g)"
      ],
      "metadata": {
        "id": "yUHm4qUjr1TY"
      },
      "execution_count": 29,
      "outputs": []
    },
    {
      "cell_type": "code",
      "source": [
        "from tensorflow.python.eager.backprop import GradientTape\n",
        "@tf.function\n",
        "def discriminator_step(x_real,batch_size):\n",
        "  fake_data_shape = (batch_size,) + generator_model.input_shape[1:]\n",
        "  x_real = tf.reshape(x_real,fake_data_shape)\n",
        "  z = tf.random.normal(shape=fake_data_shape)\n",
        "  with tf.GradientTape() as gradient_tape:\n",
        "    real_output = discriminator_model(x_real,training = True)\n",
        "    fake_input = generator_model(z, training = True)\n",
        "    # fake_input = tf.reshape(fake_input, tf.shape(x_real))\n",
        "    fake_output = discriminator_model(fake_input,training = True)\n",
        "    cost = discriminator_loss(real_output,fake_output)\n",
        "  grad = gradient_tape.gradient(cost,discriminator_model.trainable_variables)\n",
        "  discriminator_optimizer.apply_gradients(zip(grad,discriminator_model.trainable_variables))\n",
        "  return cost"
      ],
      "metadata": {
        "id": "i3R0rXPHr36c"
      },
      "execution_count": 30,
      "outputs": []
    },
    {
      "cell_type": "code",
      "source": [
        "@tf.function\n",
        "def generator_step(batch_size):\n",
        "  fake_data_shape = (batch_size,) + generator_model.input_shape[1:]\n",
        "  z = tf.random.normal(shape=fake_data_shape)\n",
        "  with tf.GradientTape() as gradient_tape:\n",
        "    fake_input = generator_model(z,training=True)\n",
        "    fake_output = discriminator_model(fake_input,training= True) \n",
        "    loss = generator_loss(fake_output)\n",
        "  grad = gradient_tape.gradient(loss,generator_model.trainable_variables)\n",
        "  generator_optimizer.apply_gradients(zip(grad,generator_model.trainable_variables))\n",
        "  return loss"
      ],
      "metadata": {
        "id": "4Q7eGYAjr6JQ"
      },
      "execution_count": 31,
      "outputs": []
    },
    {
      "cell_type": "code",
      "source": [
        "@tf.function\n",
        "def train_step_1v1(x_real,batch_size):\n",
        "  \n",
        "  \"\"\"Training step for one epoch with 1 generator step and 1 discriminator step\n",
        "        \"\"\"\n",
        "  fake_data_shape = (batch_size,) + generator_model.input_shape[1:]\n",
        "  z = tf.random.normal(shape=fake_data_shape)\n",
        "  with tf.GradientTape() as gen_tape, tf.GradientTape() as disc_tape:\n",
        "    x_fake_ = generator_model(z, training=True)\n",
        "    # x_fake = tf.reshape(x_fake_, tf.shape(x_real))\n",
        "    real_output = discriminator_model(x_real, training=True)\n",
        "    fake_output = discriminator_model(x_fake_, training=True)\n",
        "    gen_loss = generator_loss(fake_output)\n",
        "    disc_loss = discriminator_loss(real_output, fake_output)\n",
        "  grad_gen = gen_tape.gradient(gen_loss, generator_model.trainable_variables)\n",
        "  grad_disc = disc_tape.gradient(disc_loss, discriminator_model.trainable_variables)\n",
        "  generator_optimizer.apply_gradients(zip(grad_gen, generator_model.trainable_variables))\n",
        "  discriminator_optimizer.apply_gradients(zip(grad_disc, discriminator_model.trainable_variables))  \n",
        "  return gen_loss, disc_loss"
      ],
      "metadata": {
        "id": "uNgLvZZxr8LT"
      },
      "execution_count": 32,
      "outputs": []
    },
    {
      "cell_type": "code",
      "source": [
        "@tf.function\n",
        "def train_step_nv1(x_real,n_disc,batch_size):\n",
        "  for i in range(n_disc):\n",
        "    x_real_batch = tf.gather(x_real,i)\n",
        "    d_loss = discriminator_step(x_real_batch,batch_size)\n",
        "  g_loss = generator_step(batch_size)\n",
        "  return g_loss, d_loss"
      ],
      "metadata": {
        "id": "WB51lANMr-zZ"
      },
      "execution_count": 33,
      "outputs": []
    },
    {
      "cell_type": "code",
      "source": [
        "@tf.function\n",
        "def train_step_1vn(x_real,n_gen,batch_size):\n",
        "  for i in range(n_gen):\n",
        "    g_loss = generator_step(batch_size)\n",
        "  d_loss = discriminator_step(x_real,batch_size)\n",
        "  return g_loss, d_loss "
      ],
      "metadata": {
        "id": "gb6rPW_NsBPu"
      },
      "execution_count": 34,
      "outputs": []
    },
    {
      "cell_type": "code",
      "source": [
        "gen_loss_ = []\n",
        "disc_loss_ = []\n",
        "epochs_ = []"
      ],
      "metadata": {
        "id": "yG_h8h0hsDk8"
      },
      "execution_count": 35,
      "outputs": []
    },
    {
      "cell_type": "code",
      "source": [
        "def train_qgans(x,epochs,batch_size,seed=1024,n_disc=1,n_gen=1):\n",
        "  input_shape = x.shape[1:]\n",
        "  train_preprocess(seed)\n",
        "  data = prepare_dataset(data=x,batch_size=batch_size*n_disc,seed=seed)\n",
        "  g_metric = tf.keras.metrics.Mean()\n",
        "  d_metric = tf.keras.metrics.Mean()\n",
        "  for epoch in range(epochs):\n",
        "    for step,training_batch_data_ in enumerate(data):\n",
        "      # training_batch_data = tf.reshape(training_batch_data_,input_batch_shape)\n",
        "      if( n_disc == 1 and n_gen == 1):\n",
        "        input_batch_shape = (batch_size,) + input_shape\n",
        "        training_batch_data = tf.reshape(training_batch_data_,input_batch_shape)\n",
        "        gen_loss,disc_loss = train_step_1v1(x_real=training_batch_data, batch_size=batch_size)\n",
        "      if n_disc > 1 and n_gen == 1:\n",
        "        input_batch_shape = (n_disc, batch_size) + input_shape\n",
        "        training_batch_data = tf.reshape(training_batch_data_,input_batch_shape)        \n",
        "        gen_loss,disc_loss = train_step_nv1(x_real=training_batch_data, batch_size=batch_size,n_disc=n_disc)\n",
        "      if n_gen > 1 and n_disc == 1:\n",
        "        input_batch_shape = (batch_size,) + input_shape\n",
        "        training_batch_data = tf.reshape(training_batch_data_,input_batch_shape)\n",
        "        gen_loss,disc_loss = train_step_1vn(x_real=training_batch_data, batch_size=batch_size,n_gen=n_gen)\n",
        "      g_metric(gen_loss)\n",
        "      d_metric(disc_loss)\n",
        "    gen_loss_.append(g_metric.result().numpy())\n",
        "    disc_loss_.append(d_metric.result().numpy())\n",
        "    epochs_.append(epoch)\n",
        "    print(\"Epoch:{} ;   generator_loss:{} ;   discriminator_loss:{}\".format(epoch,g_metric.result().numpy(),d_metric.result().numpy()))\n",
        "  \n",
        "    g_metric.reset_state()\n",
        "    d_metric.reset_state()\n",
        "  # samples = generate_samples(batch_size=50).numpy()\n",
        "  # make_plots([X_train_1, samples], ['true signal', 'fake signal']) "
      ],
      "metadata": {
        "id": "AvHpqhexsFbU"
      },
      "execution_count": 36,
      "outputs": []
    },
    {
      "cell_type": "code",
      "source": [
        "train_qgans(X_train_1,epochs=300,batch_size=20)"
      ],
      "metadata": {
        "colab": {
          "base_uri": "https://localhost:8080/"
        },
        "id": "crpjX03PsI1y",
        "outputId": "a555b46b-2d0c-4712-bf22-7008450ac556"
      },
      "execution_count": 37,
      "outputs": [
        {
          "output_type": "stream",
          "name": "stdout",
          "text": [
            "Epoch:0 ;   generator_loss:0.6415725946426392 ;   discriminator_loss:1.4427769184112549\n",
            "Epoch:1 ;   generator_loss:0.6494735479354858 ;   discriminator_loss:1.433481216430664\n",
            "Epoch:2 ;   generator_loss:0.656690776348114 ;   discriminator_loss:1.42535400390625\n",
            "Epoch:3 ;   generator_loss:0.6474345326423645 ;   discriminator_loss:1.4354829788208008\n",
            "Epoch:4 ;   generator_loss:0.6481415033340454 ;   discriminator_loss:1.4347610473632812\n",
            "Epoch:5 ;   generator_loss:0.6434640288352966 ;   discriminator_loss:1.4403531551361084\n",
            "Epoch:6 ;   generator_loss:0.6530282497406006 ;   discriminator_loss:1.430044412612915\n",
            "Epoch:7 ;   generator_loss:0.6223798990249634 ;   discriminator_loss:1.464001178741455\n",
            "Epoch:8 ;   generator_loss:0.6437609195709229 ;   discriminator_loss:1.4401063919067383\n",
            "Epoch:9 ;   generator_loss:0.6388633251190186 ;   discriminator_loss:1.445211410522461\n",
            "Epoch:10 ;   generator_loss:0.6422757506370544 ;   discriminator_loss:1.4414525032043457\n",
            "Epoch:11 ;   generator_loss:0.6445922255516052 ;   discriminator_loss:1.4392585754394531\n",
            "Epoch:12 ;   generator_loss:0.648137092590332 ;   discriminator_loss:1.4349936246871948\n",
            "Epoch:13 ;   generator_loss:0.6421433687210083 ;   discriminator_loss:1.4422372579574585\n",
            "Epoch:14 ;   generator_loss:0.6462629437446594 ;   discriminator_loss:1.4370505809783936\n",
            "Epoch:15 ;   generator_loss:0.6516231894493103 ;   discriminator_loss:1.4308578968048096\n",
            "Epoch:16 ;   generator_loss:0.6505422592163086 ;   discriminator_loss:1.4323606491088867\n",
            "Epoch:17 ;   generator_loss:0.6487295627593994 ;   discriminator_loss:1.4349417686462402\n",
            "Epoch:18 ;   generator_loss:0.6426299214363098 ;   discriminator_loss:1.4415538311004639\n",
            "Epoch:19 ;   generator_loss:0.6469919681549072 ;   discriminator_loss:1.4362716674804688\n",
            "Epoch:20 ;   generator_loss:0.6370676159858704 ;   discriminator_loss:1.4481141567230225\n",
            "Epoch:21 ;   generator_loss:0.6407440304756165 ;   discriminator_loss:1.443408727645874\n",
            "Epoch:22 ;   generator_loss:0.6402985453605652 ;   discriminator_loss:1.444287657737732\n",
            "Epoch:23 ;   generator_loss:0.6400727033615112 ;   discriminator_loss:1.4437249898910522\n",
            "Epoch:24 ;   generator_loss:0.647492527961731 ;   discriminator_loss:1.4361472129821777\n",
            "Epoch:25 ;   generator_loss:0.6415172815322876 ;   discriminator_loss:1.4430540800094604\n",
            "Epoch:26 ;   generator_loss:0.6533892154693604 ;   discriminator_loss:1.429274320602417\n",
            "Epoch:27 ;   generator_loss:0.644515872001648 ;   discriminator_loss:1.4392809867858887\n",
            "Epoch:28 ;   generator_loss:0.6403747797012329 ;   discriminator_loss:1.4435654878616333\n",
            "Epoch:29 ;   generator_loss:0.6417041420936584 ;   discriminator_loss:1.442579746246338\n",
            "Epoch:30 ;   generator_loss:0.6394535303115845 ;   discriminator_loss:1.4449360370635986\n",
            "Epoch:31 ;   generator_loss:0.6466888785362244 ;   discriminator_loss:1.4370181560516357\n",
            "Epoch:32 ;   generator_loss:0.6331977844238281 ;   discriminator_loss:1.4517278671264648\n",
            "Epoch:33 ;   generator_loss:0.6438707113265991 ;   discriminator_loss:1.4399443864822388\n",
            "Epoch:34 ;   generator_loss:0.6460316181182861 ;   discriminator_loss:1.4377517700195312\n",
            "Epoch:35 ;   generator_loss:0.6328787207603455 ;   discriminator_loss:1.4526053667068481\n",
            "Epoch:36 ;   generator_loss:0.6361983418464661 ;   discriminator_loss:1.4487446546554565\n",
            "Epoch:37 ;   generator_loss:0.6496961116790771 ;   discriminator_loss:1.4336719512939453\n",
            "Epoch:38 ;   generator_loss:0.6373798847198486 ;   discriminator_loss:1.4472129344940186\n",
            "Epoch:39 ;   generator_loss:0.6368746161460876 ;   discriminator_loss:1.4477005004882812\n",
            "Epoch:40 ;   generator_loss:0.6422661542892456 ;   discriminator_loss:1.4420194625854492\n",
            "Epoch:41 ;   generator_loss:0.6319580674171448 ;   discriminator_loss:1.4536668062210083\n",
            "Epoch:42 ;   generator_loss:0.6421613693237305 ;   discriminator_loss:1.4419816732406616\n",
            "Epoch:43 ;   generator_loss:0.6333199143409729 ;   discriminator_loss:1.4520021677017212\n",
            "Epoch:44 ;   generator_loss:0.6380043029785156 ;   discriminator_loss:1.4470746517181396\n",
            "Epoch:45 ;   generator_loss:0.6272896528244019 ;   discriminator_loss:1.4591000080108643\n",
            "Epoch:46 ;   generator_loss:0.6293097734451294 ;   discriminator_loss:1.4566562175750732\n",
            "Epoch:47 ;   generator_loss:0.634967565536499 ;   discriminator_loss:1.450021505355835\n",
            "Epoch:48 ;   generator_loss:0.6508710384368896 ;   discriminator_loss:1.4322867393493652\n",
            "Epoch:49 ;   generator_loss:0.6389060020446777 ;   discriminator_loss:1.445899248123169\n",
            "Epoch:50 ;   generator_loss:0.6334977149963379 ;   discriminator_loss:1.4528331756591797\n",
            "Epoch:51 ;   generator_loss:0.6360695362091064 ;   discriminator_loss:1.448697566986084\n",
            "Epoch:52 ;   generator_loss:0.6386411190032959 ;   discriminator_loss:1.4462225437164307\n",
            "Epoch:53 ;   generator_loss:0.6354814767837524 ;   discriminator_loss:1.4496612548828125\n",
            "Epoch:54 ;   generator_loss:0.628806471824646 ;   discriminator_loss:1.4578897953033447\n",
            "Epoch:55 ;   generator_loss:0.6306076645851135 ;   discriminator_loss:1.4549099206924438\n",
            "Epoch:56 ;   generator_loss:0.633233904838562 ;   discriminator_loss:1.4526734352111816\n",
            "Epoch:57 ;   generator_loss:0.6233218908309937 ;   discriminator_loss:1.463331699371338\n",
            "Epoch:58 ;   generator_loss:0.6305991411209106 ;   discriminator_loss:1.4556381702423096\n",
            "Epoch:59 ;   generator_loss:0.6387071013450623 ;   discriminator_loss:1.4459209442138672\n",
            "Epoch:60 ;   generator_loss:0.6235056519508362 ;   discriminator_loss:1.4630894660949707\n",
            "Epoch:61 ;   generator_loss:0.6437513828277588 ;   discriminator_loss:1.4401006698608398\n",
            "Epoch:62 ;   generator_loss:0.6311441659927368 ;   discriminator_loss:1.4547781944274902\n",
            "Epoch:63 ;   generator_loss:0.6177064180374146 ;   discriminator_loss:1.4699878692626953\n",
            "Epoch:64 ;   generator_loss:0.6232466697692871 ;   discriminator_loss:1.4637246131896973\n",
            "Epoch:65 ;   generator_loss:0.6128033399581909 ;   discriminator_loss:1.4758166074752808\n",
            "Epoch:66 ;   generator_loss:0.624995231628418 ;   discriminator_loss:1.461794376373291\n",
            "Epoch:67 ;   generator_loss:0.624627947807312 ;   discriminator_loss:1.46181058883667\n",
            "Epoch:68 ;   generator_loss:0.6302835941314697 ;   discriminator_loss:1.455669641494751\n",
            "Epoch:69 ;   generator_loss:0.6302099823951721 ;   discriminator_loss:1.4553102254867554\n",
            "Epoch:70 ;   generator_loss:0.6231106519699097 ;   discriminator_loss:1.4634394645690918\n",
            "Epoch:71 ;   generator_loss:0.6290349960327148 ;   discriminator_loss:1.456781268119812\n",
            "Epoch:72 ;   generator_loss:0.6206626892089844 ;   discriminator_loss:1.466862440109253\n",
            "Epoch:73 ;   generator_loss:0.6135637760162354 ;   discriminator_loss:1.4748615026474\n",
            "Epoch:74 ;   generator_loss:0.6152598857879639 ;   discriminator_loss:1.4725691080093384\n",
            "Epoch:75 ;   generator_loss:0.6202535629272461 ;   discriminator_loss:1.4672046899795532\n",
            "Epoch:76 ;   generator_loss:0.6298127174377441 ;   discriminator_loss:1.4562833309173584\n",
            "Epoch:77 ;   generator_loss:0.6298341751098633 ;   discriminator_loss:1.4567854404449463\n",
            "Epoch:78 ;   generator_loss:0.61525559425354 ;   discriminator_loss:1.473628282546997\n",
            "Epoch:79 ;   generator_loss:0.6158085465431213 ;   discriminator_loss:1.4725217819213867\n",
            "Epoch:80 ;   generator_loss:0.6321463584899902 ;   discriminator_loss:1.4532318115234375\n",
            "Epoch:81 ;   generator_loss:0.6107991337776184 ;   discriminator_loss:1.4780828952789307\n",
            "Epoch:82 ;   generator_loss:0.6085447072982788 ;   discriminator_loss:1.4810094833374023\n",
            "Epoch:83 ;   generator_loss:0.6219910383224487 ;   discriminator_loss:1.4651002883911133\n",
            "Epoch:84 ;   generator_loss:0.6191693544387817 ;   discriminator_loss:1.4686213731765747\n",
            "Epoch:85 ;   generator_loss:0.6152299642562866 ;   discriminator_loss:1.4731026887893677\n",
            "Epoch:86 ;   generator_loss:0.6109168529510498 ;   discriminator_loss:1.4781742095947266\n",
            "Epoch:87 ;   generator_loss:0.6107544898986816 ;   discriminator_loss:1.4779651165008545\n",
            "Epoch:88 ;   generator_loss:0.6137337684631348 ;   discriminator_loss:1.4746724367141724\n",
            "Epoch:89 ;   generator_loss:0.6122199296951294 ;   discriminator_loss:1.476352334022522\n",
            "Epoch:90 ;   generator_loss:0.605277419090271 ;   discriminator_loss:1.4838931560516357\n",
            "Epoch:91 ;   generator_loss:0.6172093749046326 ;   discriminator_loss:1.4701430797576904\n",
            "Epoch:92 ;   generator_loss:0.6098630428314209 ;   discriminator_loss:1.479157567024231\n",
            "Epoch:93 ;   generator_loss:0.618349552154541 ;   discriminator_loss:1.469064474105835\n",
            "Epoch:94 ;   generator_loss:0.603370189666748 ;   discriminator_loss:1.4867539405822754\n",
            "Epoch:95 ;   generator_loss:0.619801938533783 ;   discriminator_loss:1.4678586721420288\n",
            "Epoch:96 ;   generator_loss:0.618541955947876 ;   discriminator_loss:1.4688411951065063\n",
            "Epoch:97 ;   generator_loss:0.5986741781234741 ;   discriminator_loss:1.492308497428894\n",
            "Epoch:98 ;   generator_loss:0.6097699403762817 ;   discriminator_loss:1.4787713289260864\n",
            "Epoch:99 ;   generator_loss:0.6157779693603516 ;   discriminator_loss:1.4718856811523438\n",
            "Epoch:100 ;   generator_loss:0.6109674572944641 ;   discriminator_loss:1.4774352312088013\n",
            "Epoch:101 ;   generator_loss:0.6165409684181213 ;   discriminator_loss:1.4709162712097168\n",
            "Epoch:102 ;   generator_loss:0.609117329120636 ;   discriminator_loss:1.4799071550369263\n",
            "Epoch:103 ;   generator_loss:0.6055216193199158 ;   discriminator_loss:1.4840517044067383\n",
            "Epoch:104 ;   generator_loss:0.6149668097496033 ;   discriminator_loss:1.4726967811584473\n",
            "Epoch:105 ;   generator_loss:0.603582501411438 ;   discriminator_loss:1.4865145683288574\n",
            "Epoch:106 ;   generator_loss:0.6018998622894287 ;   discriminator_loss:1.4882981777191162\n",
            "Epoch:107 ;   generator_loss:0.6025243997573853 ;   discriminator_loss:1.4877036809921265\n",
            "Epoch:108 ;   generator_loss:0.6053574085235596 ;   discriminator_loss:1.4838653802871704\n",
            "Epoch:109 ;   generator_loss:0.6050937175750732 ;   discriminator_loss:1.4847874641418457\n",
            "Epoch:110 ;   generator_loss:0.6022390127182007 ;   discriminator_loss:1.4876763820648193\n",
            "Epoch:111 ;   generator_loss:0.598188579082489 ;   discriminator_loss:1.492875576019287\n",
            "Epoch:112 ;   generator_loss:0.597407341003418 ;   discriminator_loss:1.4934144020080566\n",
            "Epoch:113 ;   generator_loss:0.6009509563446045 ;   discriminator_loss:1.4892542362213135\n",
            "Epoch:114 ;   generator_loss:0.5964150428771973 ;   discriminator_loss:1.49479341506958\n",
            "Epoch:115 ;   generator_loss:0.6085887551307678 ;   discriminator_loss:1.4802114963531494\n",
            "Epoch:116 ;   generator_loss:0.5998608469963074 ;   discriminator_loss:1.4904780387878418\n",
            "Epoch:117 ;   generator_loss:0.6007643938064575 ;   discriminator_loss:1.4896240234375\n",
            "Epoch:118 ;   generator_loss:0.5945934057235718 ;   discriminator_loss:1.4970022439956665\n",
            "Epoch:119 ;   generator_loss:0.5987156629562378 ;   discriminator_loss:1.4919984340667725\n",
            "Epoch:120 ;   generator_loss:0.5999352931976318 ;   discriminator_loss:1.4903576374053955\n",
            "Epoch:121 ;   generator_loss:0.5966799259185791 ;   discriminator_loss:1.494316577911377\n",
            "Epoch:122 ;   generator_loss:0.5949059128761292 ;   discriminator_loss:1.4963865280151367\n",
            "Epoch:123 ;   generator_loss:0.5965701341629028 ;   discriminator_loss:1.494408369064331\n",
            "Epoch:124 ;   generator_loss:0.6040195822715759 ;   discriminator_loss:1.4856443405151367\n",
            "Epoch:125 ;   generator_loss:0.6018860340118408 ;   discriminator_loss:1.4881393909454346\n",
            "Epoch:126 ;   generator_loss:0.597986102104187 ;   discriminator_loss:1.4927878379821777\n",
            "Epoch:127 ;   generator_loss:0.6004065275192261 ;   discriminator_loss:1.4900588989257812\n",
            "Epoch:128 ;   generator_loss:0.6019760370254517 ;   discriminator_loss:1.488215446472168\n",
            "Epoch:129 ;   generator_loss:0.6099276542663574 ;   discriminator_loss:1.478602409362793\n",
            "Epoch:130 ;   generator_loss:0.6022735834121704 ;   discriminator_loss:1.4879392385482788\n",
            "Epoch:131 ;   generator_loss:0.6005523204803467 ;   discriminator_loss:1.4898687601089478\n",
            "Epoch:132 ;   generator_loss:0.6031885147094727 ;   discriminator_loss:1.4864835739135742\n",
            "Epoch:133 ;   generator_loss:0.5956004858016968 ;   discriminator_loss:1.495773196220398\n",
            "Epoch:134 ;   generator_loss:0.6032702922821045 ;   discriminator_loss:1.4868865013122559\n",
            "Epoch:135 ;   generator_loss:0.6028870344161987 ;   discriminator_loss:1.4871567487716675\n",
            "Epoch:136 ;   generator_loss:0.5996370315551758 ;   discriminator_loss:1.4906481504440308\n",
            "Epoch:137 ;   generator_loss:0.6066305637359619 ;   discriminator_loss:1.482558012008667\n",
            "Epoch:138 ;   generator_loss:0.5969196557998657 ;   discriminator_loss:1.4939485788345337\n",
            "Epoch:139 ;   generator_loss:0.6002014875411987 ;   discriminator_loss:1.49005925655365\n",
            "Epoch:140 ;   generator_loss:0.5961605310440063 ;   discriminator_loss:1.4949036836624146\n",
            "Epoch:141 ;   generator_loss:0.6013654470443726 ;   discriminator_loss:1.4887824058532715\n",
            "Epoch:142 ;   generator_loss:0.5993562936782837 ;   discriminator_loss:1.4910645484924316\n",
            "Epoch:143 ;   generator_loss:0.5983438491821289 ;   discriminator_loss:1.4920576810836792\n",
            "Epoch:144 ;   generator_loss:0.5962038040161133 ;   discriminator_loss:1.494883418083191\n",
            "Epoch:145 ;   generator_loss:0.5962693095207214 ;   discriminator_loss:1.4947494268417358\n",
            "Epoch:146 ;   generator_loss:0.5951550006866455 ;   discriminator_loss:1.4961315393447876\n",
            "Epoch:147 ;   generator_loss:0.5972909331321716 ;   discriminator_loss:1.4934942722320557\n",
            "Epoch:148 ;   generator_loss:0.5942820310592651 ;   discriminator_loss:1.4971718788146973\n",
            "Epoch:149 ;   generator_loss:0.5940103530883789 ;   discriminator_loss:1.4976247549057007\n",
            "Epoch:150 ;   generator_loss:0.5961896181106567 ;   discriminator_loss:1.4947389364242554\n",
            "Epoch:151 ;   generator_loss:0.5958868265151978 ;   discriminator_loss:1.4954560995101929\n",
            "Epoch:152 ;   generator_loss:0.5989264249801636 ;   discriminator_loss:1.4912607669830322\n",
            "Epoch:153 ;   generator_loss:0.5941449403762817 ;   discriminator_loss:1.4973344802856445\n",
            "Epoch:154 ;   generator_loss:0.596855103969574 ;   discriminator_loss:1.4942338466644287\n",
            "Epoch:155 ;   generator_loss:0.5908858776092529 ;   discriminator_loss:1.5011340379714966\n",
            "Epoch:156 ;   generator_loss:0.5987573862075806 ;   discriminator_loss:1.492272138595581\n",
            "Epoch:157 ;   generator_loss:0.59334397315979 ;   discriminator_loss:1.4982953071594238\n",
            "Epoch:158 ;   generator_loss:0.5924922227859497 ;   discriminator_loss:1.4994096755981445\n",
            "Epoch:159 ;   generator_loss:0.5987553000450134 ;   discriminator_loss:1.4917445182800293\n",
            "Epoch:160 ;   generator_loss:0.593993067741394 ;   discriminator_loss:1.4975333213806152\n",
            "Epoch:161 ;   generator_loss:0.5961846113204956 ;   discriminator_loss:1.494991421699524\n",
            "Epoch:162 ;   generator_loss:0.5966145992279053 ;   discriminator_loss:1.4943759441375732\n",
            "Epoch:163 ;   generator_loss:0.6018171906471252 ;   discriminator_loss:1.4880716800689697\n",
            "Epoch:164 ;   generator_loss:0.5929273366928101 ;   discriminator_loss:1.498702883720398\n",
            "Epoch:165 ;   generator_loss:0.5992672443389893 ;   discriminator_loss:1.4910686016082764\n",
            "Epoch:166 ;   generator_loss:0.6004980802536011 ;   discriminator_loss:1.489872694015503\n",
            "Epoch:167 ;   generator_loss:0.5890576839447021 ;   discriminator_loss:1.5034501552581787\n",
            "Epoch:168 ;   generator_loss:0.5975251197814941 ;   discriminator_loss:1.4934539794921875\n",
            "Epoch:169 ;   generator_loss:0.600212812423706 ;   discriminator_loss:1.490234136581421\n",
            "Epoch:170 ;   generator_loss:0.598709225654602 ;   discriminator_loss:1.4918463230133057\n",
            "Epoch:171 ;   generator_loss:0.5973323583602905 ;   discriminator_loss:1.4932281970977783\n",
            "Epoch:172 ;   generator_loss:0.6030982732772827 ;   discriminator_loss:1.4867721796035767\n",
            "Epoch:173 ;   generator_loss:0.5999602675437927 ;   discriminator_loss:1.4905633926391602\n",
            "Epoch:174 ;   generator_loss:0.5943242311477661 ;   discriminator_loss:1.496808648109436\n",
            "Epoch:175 ;   generator_loss:0.6013648509979248 ;   discriminator_loss:1.4886226654052734\n",
            "Epoch:176 ;   generator_loss:0.600757360458374 ;   discriminator_loss:1.4892418384552002\n",
            "Epoch:177 ;   generator_loss:0.6025300025939941 ;   discriminator_loss:1.487143635749817\n",
            "Epoch:178 ;   generator_loss:0.5993480682373047 ;   discriminator_loss:1.4911062717437744\n",
            "Epoch:179 ;   generator_loss:0.6028982400894165 ;   discriminator_loss:1.4869694709777832\n",
            "Epoch:180 ;   generator_loss:0.6003745198249817 ;   discriminator_loss:1.4899479150772095\n",
            "Epoch:181 ;   generator_loss:0.6020875573158264 ;   discriminator_loss:1.4878466129302979\n",
            "Epoch:182 ;   generator_loss:0.6005080938339233 ;   discriminator_loss:1.4893999099731445\n",
            "Epoch:183 ;   generator_loss:0.5977080464363098 ;   discriminator_loss:1.4931516647338867\n",
            "Epoch:184 ;   generator_loss:0.6035664081573486 ;   discriminator_loss:1.4860047101974487\n",
            "Epoch:185 ;   generator_loss:0.6082461476325989 ;   discriminator_loss:1.48064386844635\n",
            "Epoch:186 ;   generator_loss:0.5966018438339233 ;   discriminator_loss:1.4943140745162964\n",
            "Epoch:187 ;   generator_loss:0.5999899506568909 ;   discriminator_loss:1.4899615049362183\n",
            "Epoch:188 ;   generator_loss:0.606560230255127 ;   discriminator_loss:1.4830516576766968\n",
            "Epoch:189 ;   generator_loss:0.6026710271835327 ;   discriminator_loss:1.487208604812622\n",
            "Epoch:190 ;   generator_loss:0.6008807420730591 ;   discriminator_loss:1.4891111850738525\n",
            "Epoch:191 ;   generator_loss:0.5984756946563721 ;   discriminator_loss:1.4919129610061646\n",
            "Epoch:192 ;   generator_loss:0.6079875230789185 ;   discriminator_loss:1.4808173179626465\n",
            "Epoch:193 ;   generator_loss:0.595644474029541 ;   discriminator_loss:1.4951887130737305\n",
            "Epoch:194 ;   generator_loss:0.600614070892334 ;   discriminator_loss:1.48940908908844\n",
            "Epoch:195 ;   generator_loss:0.6041609644889832 ;   discriminator_loss:1.4851515293121338\n",
            "Epoch:196 ;   generator_loss:0.6025402545928955 ;   discriminator_loss:1.487015962600708\n",
            "Epoch:197 ;   generator_loss:0.6055105328559875 ;   discriminator_loss:1.4836119413375854\n",
            "Epoch:198 ;   generator_loss:0.6012440919876099 ;   discriminator_loss:1.488521933555603\n",
            "Epoch:199 ;   generator_loss:0.5976628065109253 ;   discriminator_loss:1.4926857948303223\n",
            "Epoch:200 ;   generator_loss:0.6066237688064575 ;   discriminator_loss:1.4822410345077515\n",
            "Epoch:201 ;   generator_loss:0.6046164035797119 ;   discriminator_loss:1.48451566696167\n",
            "Epoch:202 ;   generator_loss:0.6010134816169739 ;   discriminator_loss:1.4886970520019531\n",
            "Epoch:203 ;   generator_loss:0.6046087741851807 ;   discriminator_loss:1.4844841957092285\n",
            "Epoch:204 ;   generator_loss:0.6008462905883789 ;   discriminator_loss:1.4889217615127563\n",
            "Epoch:205 ;   generator_loss:0.6063876152038574 ;   discriminator_loss:1.4822919368743896\n",
            "Epoch:206 ;   generator_loss:0.6041862964630127 ;   discriminator_loss:1.4850521087646484\n",
            "Epoch:207 ;   generator_loss:0.6015963554382324 ;   discriminator_loss:1.4880592823028564\n",
            "Epoch:208 ;   generator_loss:0.6017969250679016 ;   discriminator_loss:1.4876909255981445\n",
            "Epoch:209 ;   generator_loss:0.6031554341316223 ;   discriminator_loss:1.4862730503082275\n",
            "Epoch:210 ;   generator_loss:0.6055973768234253 ;   discriminator_loss:1.4834153652191162\n",
            "Epoch:211 ;   generator_loss:0.6038517951965332 ;   discriminator_loss:1.485560655593872\n",
            "Epoch:212 ;   generator_loss:0.6043981313705444 ;   discriminator_loss:1.4846718311309814\n",
            "Epoch:213 ;   generator_loss:0.6112281084060669 ;   discriminator_loss:1.4770587682724\n",
            "Epoch:214 ;   generator_loss:0.6088805198669434 ;   discriminator_loss:1.479449987411499\n",
            "Epoch:215 ;   generator_loss:0.604302167892456 ;   discriminator_loss:1.4848148822784424\n",
            "Epoch:216 ;   generator_loss:0.6147395968437195 ;   discriminator_loss:1.4731051921844482\n",
            "Epoch:217 ;   generator_loss:0.6091063022613525 ;   discriminator_loss:1.4794214963912964\n",
            "Epoch:218 ;   generator_loss:0.6076815128326416 ;   discriminator_loss:1.4808664321899414\n",
            "Epoch:219 ;   generator_loss:0.6110306978225708 ;   discriminator_loss:1.4769411087036133\n",
            "Epoch:220 ;   generator_loss:0.6076406240463257 ;   discriminator_loss:1.481060266494751\n",
            "Epoch:221 ;   generator_loss:0.6063960790634155 ;   discriminator_loss:1.48209547996521\n",
            "Epoch:222 ;   generator_loss:0.6073316335678101 ;   discriminator_loss:1.4810845851898193\n",
            "Epoch:223 ;   generator_loss:0.6057596206665039 ;   discriminator_loss:1.4830265045166016\n",
            "Epoch:224 ;   generator_loss:0.6083673238754272 ;   discriminator_loss:1.4802278280258179\n",
            "Epoch:225 ;   generator_loss:0.6087772846221924 ;   discriminator_loss:1.479428768157959\n",
            "Epoch:226 ;   generator_loss:0.6104910373687744 ;   discriminator_loss:1.4775197505950928\n",
            "Epoch:227 ;   generator_loss:0.6080783009529114 ;   discriminator_loss:1.4802279472351074\n",
            "Epoch:228 ;   generator_loss:0.6072100400924683 ;   discriminator_loss:1.481085181236267\n",
            "Epoch:229 ;   generator_loss:0.6127669811248779 ;   discriminator_loss:1.47495436668396\n",
            "Epoch:230 ;   generator_loss:0.6114516854286194 ;   discriminator_loss:1.4763838052749634\n",
            "Epoch:231 ;   generator_loss:0.6117796897888184 ;   discriminator_loss:1.475996732711792\n",
            "Epoch:232 ;   generator_loss:0.6087100505828857 ;   discriminator_loss:1.4793503284454346\n",
            "Epoch:233 ;   generator_loss:0.6111432909965515 ;   discriminator_loss:1.476487636566162\n",
            "Epoch:234 ;   generator_loss:0.6125801801681519 ;   discriminator_loss:1.4749248027801514\n",
            "Epoch:235 ;   generator_loss:0.6143717765808105 ;   discriminator_loss:1.4729588031768799\n",
            "Epoch:236 ;   generator_loss:0.611801028251648 ;   discriminator_loss:1.475809931755066\n",
            "Epoch:237 ;   generator_loss:0.6157814264297485 ;   discriminator_loss:1.4714057445526123\n",
            "Epoch:238 ;   generator_loss:0.6133284568786621 ;   discriminator_loss:1.4739859104156494\n",
            "Epoch:239 ;   generator_loss:0.6101449728012085 ;   discriminator_loss:1.4777100086212158\n",
            "Epoch:240 ;   generator_loss:0.6174482107162476 ;   discriminator_loss:1.4693517684936523\n",
            "Epoch:241 ;   generator_loss:0.6130198240280151 ;   discriminator_loss:1.474440574645996\n",
            "Epoch:242 ;   generator_loss:0.6138973832130432 ;   discriminator_loss:1.4732260704040527\n",
            "Epoch:243 ;   generator_loss:0.6099762916564941 ;   discriminator_loss:1.477971076965332\n",
            "Epoch:244 ;   generator_loss:0.6188720464706421 ;   discriminator_loss:1.467896819114685\n",
            "Epoch:245 ;   generator_loss:0.6180895566940308 ;   discriminator_loss:1.4686429500579834\n",
            "Epoch:246 ;   generator_loss:0.6075531840324402 ;   discriminator_loss:1.4806244373321533\n",
            "Epoch:247 ;   generator_loss:0.6117806434631348 ;   discriminator_loss:1.4756624698638916\n",
            "Epoch:248 ;   generator_loss:0.6131396293640137 ;   discriminator_loss:1.4741427898406982\n",
            "Epoch:249 ;   generator_loss:0.6152682304382324 ;   discriminator_loss:1.4716801643371582\n",
            "Epoch:250 ;   generator_loss:0.6194340586662292 ;   discriminator_loss:1.4669758081436157\n",
            "Epoch:251 ;   generator_loss:0.6130698919296265 ;   discriminator_loss:1.4742894172668457\n",
            "Epoch:252 ;   generator_loss:0.6146470308303833 ;   discriminator_loss:1.472428560256958\n",
            "Epoch:253 ;   generator_loss:0.617150068283081 ;   discriminator_loss:1.4695286750793457\n",
            "Epoch:254 ;   generator_loss:0.6145244836807251 ;   discriminator_loss:1.4725641012191772\n",
            "Epoch:255 ;   generator_loss:0.6181731820106506 ;   discriminator_loss:1.468209981918335\n",
            "Epoch:256 ;   generator_loss:0.6188962459564209 ;   discriminator_loss:1.4675607681274414\n",
            "Epoch:257 ;   generator_loss:0.6186720132827759 ;   discriminator_loss:1.4679009914398193\n",
            "Epoch:258 ;   generator_loss:0.6151446104049683 ;   discriminator_loss:1.4717469215393066\n",
            "Epoch:259 ;   generator_loss:0.6197323799133301 ;   discriminator_loss:1.4666392803192139\n",
            "Epoch:260 ;   generator_loss:0.614262580871582 ;   discriminator_loss:1.4727022647857666\n",
            "Epoch:261 ;   generator_loss:0.6203722953796387 ;   discriminator_loss:1.4658963680267334\n",
            "Epoch:262 ;   generator_loss:0.6183414459228516 ;   discriminator_loss:1.4679667949676514\n",
            "Epoch:263 ;   generator_loss:0.6197055578231812 ;   discriminator_loss:1.4665254354476929\n",
            "Epoch:264 ;   generator_loss:0.6236052513122559 ;   discriminator_loss:1.4622251987457275\n",
            "Epoch:265 ;   generator_loss:0.6203036904335022 ;   discriminator_loss:1.4658117294311523\n",
            "Epoch:266 ;   generator_loss:0.6179931163787842 ;   discriminator_loss:1.4684958457946777\n",
            "Epoch:267 ;   generator_loss:0.6225123405456543 ;   discriminator_loss:1.4633033275604248\n",
            "Epoch:268 ;   generator_loss:0.6248763203620911 ;   discriminator_loss:1.4605721235275269\n",
            "Epoch:269 ;   generator_loss:0.620705246925354 ;   discriminator_loss:1.4652018547058105\n",
            "Epoch:270 ;   generator_loss:0.6268022060394287 ;   discriminator_loss:1.4582860469818115\n",
            "Epoch:271 ;   generator_loss:0.6230556964874268 ;   discriminator_loss:1.4625662565231323\n",
            "Epoch:272 ;   generator_loss:0.6255278587341309 ;   discriminator_loss:1.459813117980957\n",
            "Epoch:273 ;   generator_loss:0.6239446997642517 ;   discriminator_loss:1.4616824388504028\n",
            "Epoch:274 ;   generator_loss:0.6265534162521362 ;   discriminator_loss:1.4585552215576172\n",
            "Epoch:275 ;   generator_loss:0.6287426948547363 ;   discriminator_loss:1.456274390220642\n",
            "Epoch:276 ;   generator_loss:0.6319990754127502 ;   discriminator_loss:1.4527366161346436\n",
            "Epoch:277 ;   generator_loss:0.6244246959686279 ;   discriminator_loss:1.461020827293396\n",
            "Epoch:278 ;   generator_loss:0.6223886013031006 ;   discriminator_loss:1.4632196426391602\n",
            "Epoch:279 ;   generator_loss:0.6302047967910767 ;   discriminator_loss:1.4546712636947632\n",
            "Epoch:280 ;   generator_loss:0.6275908946990967 ;   discriminator_loss:1.45753014087677\n",
            "Epoch:281 ;   generator_loss:0.6261126399040222 ;   discriminator_loss:1.4590709209442139\n",
            "Epoch:282 ;   generator_loss:0.6299535036087036 ;   discriminator_loss:1.4547860622406006\n",
            "Epoch:283 ;   generator_loss:0.6271170973777771 ;   discriminator_loss:1.4578206539154053\n",
            "Epoch:284 ;   generator_loss:0.6257743835449219 ;   discriminator_loss:1.4593379497528076\n",
            "Epoch:285 ;   generator_loss:0.6245933771133423 ;   discriminator_loss:1.4607107639312744\n",
            "Epoch:286 ;   generator_loss:0.6314263343811035 ;   discriminator_loss:1.4532861709594727\n",
            "Epoch:287 ;   generator_loss:0.6329013109207153 ;   discriminator_loss:1.4514267444610596\n",
            "Epoch:288 ;   generator_loss:0.6308190822601318 ;   discriminator_loss:1.4537935256958008\n",
            "Epoch:289 ;   generator_loss:0.6271674633026123 ;   discriminator_loss:1.4577102661132812\n",
            "Epoch:290 ;   generator_loss:0.6290593147277832 ;   discriminator_loss:1.4556137323379517\n",
            "Epoch:291 ;   generator_loss:0.6303425431251526 ;   discriminator_loss:1.4542012214660645\n",
            "Epoch:292 ;   generator_loss:0.6318323612213135 ;   discriminator_loss:1.4525035619735718\n",
            "Epoch:293 ;   generator_loss:0.6303820610046387 ;   discriminator_loss:1.4541442394256592\n",
            "Epoch:294 ;   generator_loss:0.6318094730377197 ;   discriminator_loss:1.4526127576828003\n",
            "Epoch:295 ;   generator_loss:0.6300886273384094 ;   discriminator_loss:1.4544873237609863\n",
            "Epoch:296 ;   generator_loss:0.6330425143241882 ;   discriminator_loss:1.4511725902557373\n",
            "Epoch:297 ;   generator_loss:0.6361955404281616 ;   discriminator_loss:1.4477101564407349\n",
            "Epoch:298 ;   generator_loss:0.6359513998031616 ;   discriminator_loss:1.4479374885559082\n",
            "Epoch:299 ;   generator_loss:0.6378870010375977 ;   discriminator_loss:1.445852518081665\n"
          ]
        }
      ]
    },
    {
      "cell_type": "code",
      "source": [
        "import matplotlib.pyplot as plt\n",
        "import matplotlib.gridspec as gridspec\n",
        "\n",
        "def plot_loss(gen_loss,disc_loss,epochs):\n",
        "  fig = plt.figure(figsize=(16,9))\n",
        "  gs = gridspec.GridSpec(ncols=8, nrows=8, figure=fig)\n",
        "  epoch = epochs[-1]\n",
        "  # plot loss curve\n",
        "  ax_loss = plt.subplot(gs[:,:4])\n",
        "  ax_loss.set_xlim(0, 1.1*epoch)\n",
        "  ax_loss.plot(epochs, gen_loss, label=\"Generator\")\n",
        "  ax_loss.plot(epochs, disc_loss, label=\"Discriminator\")\n",
        "  ax_loss.set_xlabel('Epoch', fontsize=20)\n",
        "  ax_loss.set_ylabel('Loss', fontsize=20)\n",
        "  ax_loss.grid(True)\n",
        "  ax_loss.legend(fontsize=15)"
      ],
      "metadata": {
        "id": "dIoZUUnvsNiC"
      },
      "execution_count": 38,
      "outputs": []
    },
    {
      "cell_type": "code",
      "source": [
        "plot_loss(gen_loss_,disc_loss_,epochs_)"
      ],
      "metadata": {
        "colab": {
          "base_uri": "https://localhost:8080/",
          "height": 560
        },
        "id": "PjDQdbIbvuNL",
        "outputId": "3f306034-9aac-4294-e4e1-7c0a80e071e7"
      },
      "execution_count": 39,
      "outputs": [
        {
          "output_type": "display_data",
          "data": {
            "text/plain": [
              "<Figure size 1152x648 with 1 Axes>"
            ],
            "image/png": "[encoded data removed]"
          },
          "metadata": {
            "needs_background": "light"
          }
        }
      ]
    },
    {
      "cell_type": "code",
      "source": [
        "def generate_samples( batch_size, shape=None):\n",
        "\n",
        "  \"\"\"Generates sample using random inputs\n",
        "        \n",
        "            Arguments:\n",
        "                batch_size: int\n",
        "                    Number of samples to generate.\n",
        "                shape: (Optional) tuple of int\n",
        "                    Reshape the output to the given shape.\n",
        "        \"\"\"\n",
        "  z_batch_shape = (batch_size,) + generator_model.input_shape[1:]\n",
        "  z = tf.random.normal(z_batch_shape)\n",
        "  print(z.shape)\n",
        "  samples = generator_model(z,training=False)\n",
        "  print(samples)\n",
        "  # samples = generator_model\n",
        "  if shape is not None:\n",
        "    shape = (batch_size,) + shape\n",
        "    samples = tf.reshape(samples, shape)\n",
        "  return samples\n"
      ],
      "metadata": {
        "id": "qfA38dYNwmt6"
      },
      "execution_count": 40,
      "outputs": []
    },
    {
      "cell_type": "code",
      "source": [
        "def predict_gans(x):\n",
        "  return discriminator_model(x,training=False)"
      ],
      "metadata": {
        "id": "YmWaAX20wrhJ"
      },
      "execution_count": 41,
      "outputs": []
    },
    {
      "cell_type": "code",
      "source": [
        "def plot_roc_curve(fpr_list,tpr_list,name='QGANS',title='ROC Curve', with_auc=True,labels=''):\n",
        "  n = len(fpr_list)\n",
        "  if labels =='':\n",
        "    labels = ['']*n\n",
        "\n",
        "  plt.clf()\n",
        "  plt.rcParams[\"font.weight\"] = \"bold\"\n",
        "  plt.xlabel(\"Signal Efficiency\", fontsize=18,fontweight='bold')\n",
        "  plt.ylabel(\"Background Rejection\", fontsize=18,fontweight='bold')\n",
        "  plt.title(title, fontsize=16,fontweight='bold')\n",
        "  plt.xlim(0.0, 1.0)\n",
        "  plt.ylim(0.0, 1.0)\n",
        "  plt.grid(color='gray', linestyle='--', linewidth=1)  \n",
        "  for fpr,tpr,label in zip(fpr_list, tpr_list, labels):\n",
        "    if with_auc:\n",
        "      roc_auc = auc(fpr, tpr)\n",
        "      label += ', AUC={:.4f}'.format(roc_auc)\n",
        "    plt.plot(tpr,1-fpr, linestyle='-',label=label,linewidth=2)\n",
        "  plt.plot([0, 1], [1, 0], linestyle='--', color='black', label=' AUC= 0.5')\n",
        "  plt.legend(loc='best',prop={'size': 8})    \n",
        "  return plt "
      ],
      "metadata": {
        "id": "s17w7LBpxYw9"
      },
      "execution_count": 42,
      "outputs": []
    },
    {
      "cell_type": "code",
      "source": [
        "samples = generate_samples(batch_size=50,shape=(5,)).numpy()\n",
        "make_plots([X_train_1, samples], ['true signal', 'fake signal'])\n",
        "# print(type(samples))\n",
        "# print(samples)"
      ],
      "metadata": {
        "colab": {
          "base_uri": "https://localhost:8080/",
          "height": 1000
        },
        "id": "A6n2v6RLxoFU",
        "outputId": "7df6ede3-7613-4d30-eeff-a73d64bd2929"
      },
      "execution_count": 43,
      "outputs": [
        {
          "output_type": "stream",
          "name": "stdout",
          "text": [
            "(50, 5)\n",
            "tf.Tensor(\n",
            "[[-0.9091258   0.3013943   0.64887714  0.3879328   0.42643782]\n",
            " [-0.90910476  0.29914206  0.60063344  0.58380353  0.33600628]\n",
            " [-0.9088734   0.26301703 -0.7744225   0.6525768  -0.45186618]\n",
            " [-0.9091069   0.30058286  0.38526592  0.5242065   0.84616196]\n",
            " [-0.90869933  0.2379158  -0.14911741  0.8875369   0.43750066]\n",
            " [-0.909003    0.29366666  0.06070904 -0.1916327   0.8963473 ]\n",
            " [-0.9089673   0.2871497   0.14394878  0.11873573 -0.02762513]\n",
            " [-0.90910214  0.2815028  -0.0837004   0.4147977   0.19475392]\n",
            " [-0.9091575   0.29158717  0.5190649   0.5647564   0.5995541 ]\n",
            " [-0.90905726  0.3001228   0.64772576 -0.10774976  0.93104154]\n",
            " [-0.9091028   0.27425462  0.4617133   0.24453399  0.8324689 ]\n",
            " [-0.9090357   0.29028776  0.17502147  0.32646576  0.5560749 ]\n",
            " [-0.9091313   0.28568667  0.65495026  0.3490313   0.91993517]\n",
            " [-0.9089638   0.2873082  -0.0991048   0.04198976  0.08493397]\n",
            " [-0.9090885   0.27208477  0.07214075  0.0656357   0.7971817 ]\n",
            " [-0.90912217  0.3036718  -0.47692612  0.49155802  0.3921088 ]\n",
            " [-0.9090559   0.29747704  0.923667    0.26229733 -0.08494494]\n",
            " [-0.90907294  0.30164397 -0.07968645 -0.09262379  0.7749761 ]\n",
            " [-0.9086737   0.2278864   0.7242508   0.46562558 -0.05980906]\n",
            " [-0.9091411   0.30244225  0.65777284  0.35554692  0.8347814 ]\n",
            " [-0.90913033  0.29437566 -0.19959772  0.66752595 -0.1225896 ]\n",
            " [-0.90887773  0.26375505 -0.5608129   0.27007598  0.43515015]\n",
            " [-0.9090771   0.29854015 -0.3322419   0.3317643   0.01880068]\n",
            " [-0.9088234   0.26177904 -0.05791321  0.4737644   0.8272058 ]\n",
            " [-0.9088285   0.24349633  0.68686837 -0.0763766  -0.19275323]\n",
            " [-0.9087678   0.25047338  0.5969758   0.6470244   0.39614257]\n",
            " [-0.9090532   0.29816398 -0.00454397 -0.02625661  0.78412515]\n",
            " [-0.90915275  0.2993092  -0.08407364  0.5217935   0.392135  ]\n",
            " [-0.9089356   0.2711988   0.44303596  0.52294785  0.80893165]\n",
            " [-0.9091479   0.30127442  0.23571318  0.45768237  0.69747925]\n",
            " [-0.90902686  0.28907967  0.7443129   0.48854643 -0.6510401 ]\n",
            " [-0.9091312   0.30274534 -0.09223345  0.47896725 -0.22517352]\n",
            " [-0.90888643  0.27071995  0.67766666  0.25791317  0.5433413 ]\n",
            " [-0.90889233  0.26431158  0.1240943   0.64923775  0.1512539 ]\n",
            " [-0.90896416  0.28325647 -0.09421209  0.27691334  0.16700467]\n",
            " [-0.9091261   0.3033401   0.65773714  0.17640913  0.96526736]\n",
            " [-0.90910405  0.29923055 -0.13297991  0.63354474  0.06065161]\n",
            " [-0.9090822   0.30145222  0.54593956  0.0646403   0.6379782 ]\n",
            " [-0.9090707   0.3004672   0.53547657 -0.00887148  0.8759215 ]\n",
            " [-0.9089623   0.28773403 -0.32282344  0.12948796  0.38406253]\n",
            " [-0.90910804  0.27700922  0.3568541   0.3328802   0.56640804]\n",
            " [-0.9091199   0.30287385  0.58556914  0.23097402  0.8737203 ]\n",
            " [-0.90874577  0.24813183  0.190971    0.75453204  0.9529659 ]\n",
            " [-0.90912473  0.30411562  0.51650965  0.42908338  0.8137654 ]\n",
            " [-0.9091099   0.30347824 -0.02323555  0.1219007   0.6269133 ]\n",
            " [-0.9091337   0.30355507  0.57191503  0.2964355   0.7966043 ]\n",
            " [-0.9091087   0.2839968  -0.45745474  0.60591865 -0.08726108]\n",
            " [-0.90887296  0.2725111   0.6716872   0.12603174  0.9448754 ]\n",
            " [-0.90910125  0.29519218 -0.62755257  0.5626759   0.50964487]\n",
            " [-0.9090198   0.2948678  -0.12990388 -0.05222256  0.47325188]], shape=(50, 5), dtype=float32)\n"
          ]
        },
        {
          "output_type": "display_data",
          "data": {
            "text/plain": [
              "<Figure size 1440x720 with 5 Axes>"
            ],
            "image/png": "[encoded data removed]"
          },
          "metadata": {
            "needs_background": "light"
          }
        }
      ]
    },
    {
      "cell_type": "code",
      "source": [
        "from sklearn.metrics import roc_curve, auc, roc_auc_score\n",
        "def test_gans( x, y, plot=True):\n",
        "  score = predict_gans(x)\n",
        "  # print(y)\n",
        "  print(score)\n",
        "  fpr, tpr, thresholds = roc_curve(y, score)\n",
        "  roc_auc = auc(fpr, tpr)\n",
        "  print(\"AUC = \",roc_auc)\n",
        "  if plot:\n",
        "    return plot_roc_curve(fpr_list=[fpr],tpr_list=[tpr], name='QGAN_with_DataReuploading')\n",
        "  else:\n",
        "    return roc_auc"
      ],
      "metadata": {
        "id": "Lv_aKprOxcXY"
      },
      "execution_count": 44,
      "outputs": []
    },
    {
      "cell_type": "code",
      "source": [
        "test_gans(X_test,y_test)"
      ],
      "metadata": {
        "colab": {
          "base_uri": "https://localhost:8080/",
          "height": 1000
        },
        "id": "pBt7Etabxe1b",
        "outputId": "ff36806e-17eb-4912-9e9e-aa402fe4f08a"
      },
      "execution_count": 45,
      "outputs": [
        {
          "output_type": "stream",
          "name": "stdout",
          "text": [
            "tf.Tensor(\n",
            "[[-0.00110205]\n",
            " [-0.00088959]\n",
            " [-0.00161676]\n",
            " [-0.00161347]\n",
            " [-0.0010171 ]\n",
            " [-0.00166563]\n",
            " [-0.00221297]\n",
            " [-0.00164824]\n",
            " [-0.00166688]\n",
            " [-0.00165928]\n",
            " [-0.00106111]\n",
            " [-0.00164802]\n",
            " [-0.00077655]\n",
            " [-0.00160868]\n",
            " [-0.00164097]\n",
            " [-0.00094002]\n",
            " [-0.00161552]\n",
            " [-0.00120948]\n",
            " [-0.00165291]\n",
            " [-0.00164697]\n",
            " [-0.0016607 ]\n",
            " [-0.00110745]\n",
            " [-0.00164882]\n",
            " [-0.00115324]\n",
            " [-0.00118246]\n",
            " [-0.00118715]\n",
            " [-0.00104029]\n",
            " [-0.00116442]\n",
            " [-0.00161617]\n",
            " [-0.00116127]\n",
            " [-0.00114279]\n",
            " [-0.00156236]\n",
            " [-0.00153522]\n",
            " [-0.0011351 ]\n",
            " [-0.00092797]\n",
            " [-0.00110611]\n",
            " [-0.00159373]\n",
            " [-0.00159707]\n",
            " [-0.00119156]\n",
            " [-0.00164763]\n",
            " [-0.00167102]\n",
            " [-0.00163678]\n",
            " [-0.00115126]\n",
            " [-0.00107827]\n",
            " [-0.00089822]\n",
            " [-0.00113206]\n",
            " [-0.00114685]\n",
            " [-0.00153108]\n",
            " [-0.00164586]\n",
            " [-0.00151614]\n",
            " [-0.00174786]\n",
            " [-0.00122554]\n",
            " [-0.00135675]\n",
            " [-0.00115302]\n",
            " [-0.00102452]\n",
            " [-0.00109492]\n",
            " [-0.00168227]\n",
            " [-0.00096589]\n",
            " [-0.00105694]\n",
            " [-0.00161244]\n",
            " [-0.00108349]\n",
            " [-0.00120223]\n",
            " [-0.00107887]\n",
            " [-0.00106524]\n",
            " [-0.00089606]\n",
            " [-0.001524  ]\n",
            " [-0.00110422]\n",
            " [-0.00091912]\n",
            " [-0.00094504]\n",
            " [-0.00109519]\n",
            " [-0.00178981]\n",
            " [-0.00163059]\n",
            " [-0.0022243 ]\n",
            " [-0.00159678]\n",
            " [-0.00117933]\n",
            " [-0.00100996]\n",
            " [-0.00145147]\n",
            " [-0.00120393]\n",
            " [-0.00162171]\n",
            " [-0.00121496]\n",
            " [-0.0011896 ]\n",
            " [-0.00122554]\n",
            " [-0.0015807 ]\n",
            " [-0.00111901]\n",
            " [-0.00155253]\n",
            " [-0.00165392]\n",
            " [-0.00165346]\n",
            " [-0.00149998]\n",
            " [-0.00169809]\n",
            " [-0.00150946]\n",
            " [-0.00091898]\n",
            " [-0.00177204]\n",
            " [-0.00103271]\n",
            " [ 0.011841  ]\n",
            " [-0.0009736 ]\n",
            " [-0.00113127]\n",
            " [-0.00088596]\n",
            " [-0.0015824 ]\n",
            " [-0.00163237]\n",
            " [-0.00092838]], shape=(100, 1), dtype=float32)\n",
            "AUC =  0.5764\n"
          ]
        },
        {
          "output_type": "execute_result",
          "data": {
            "text/plain": [
              "<module 'matplotlib.pyplot' from '/usr/local/lib/python3.7/dist-packages/matplotlib/pyplot.py'>"
            ]
          },
          "metadata": {},
          "execution_count": 45
        },
        {
          "output_type": "display_data",
          "data": {
            "text/plain": [
              "<Figure size 432x288 with 1 Axes>"
            ],
            "image/png": "[encoded data removed]"
          },
          "metadata": {
            "needs_background": "light"
          }
        }
      ]
    },
    {
      "cell_type": "code",
      "source": [
        ""
      ],
      "metadata": {
        "id": "woQjmqcXxhO7"
      },
      "execution_count": null,
      "outputs": []
    }
  ]
}