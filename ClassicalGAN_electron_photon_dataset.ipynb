{
  "nbformat": 4,
  "nbformat_minor": 0,
  "metadata": {
    "colab": {
      "name": "ClassicalGAN_electron_photon_dataset.ipynb",
      "provenance": [],
      "collapsed_sections": [],
      "authorship_tag": "ABX9TyPz6aZYTcJIigayqnzcfT9y"
    },
    "kernelspec": {
      "name": "python3",
      "display_name": "Python 3"
    },
    "language_info": {
      "name": "python"
    },
    "accelerator": "GPU",
    "gpuClass": "standard"
  },
  "cells": [
    {
      "cell_type": "code",
      "execution_count": null,
      "metadata": {
        "colab": {
          "base_uri": "https://localhost:8080/"
        },
        "id": "u1gYtmNERj3H",
        "outputId": "9dad4469-eecb-4a7a-a5f4-5f8a523065bb"
      },
      "outputs": [
        {
          "output_type": "stream",
          "name": "stdout",
          "text": [
            "Looking in indexes: https://pypi.org/simple, https://us-python.pkg.dev/colab-wheels/public/simple/\n",
            "Collecting tensorflow==2.7.0\n",
            "  Downloading https://us-python.pkg.dev/colab-wheels/public/tensorflow/tensorflow-2.7.0%2Bzzzcolab20220506150900-cp37-cp37m-linux_x86_64.whl (665.5 MB)\n",
            "\u001b[K     |████████████████████████████████| 665.5 MB 23 kB/s \n",
            "\u001b[?25hRequirement already satisfied: numpy>=1.14.5 in /usr/local/lib/python3.7/dist-packages (from tensorflow==2.7.0) (1.21.6)\n",
            "Requirement already satisfied: tensorflow-io-gcs-filesystem>=0.21.0 in /usr/local/lib/python3.7/dist-packages (from tensorflow==2.7.0) (0.26.0)\n",
            "Requirement already satisfied: opt-einsum>=2.3.2 in /usr/local/lib/python3.7/dist-packages (from tensorflow==2.7.0) (3.3.0)\n",
            "Requirement already satisfied: protobuf>=3.9.2 in /usr/local/lib/python3.7/dist-packages (from tensorflow==2.7.0) (3.17.3)\n",
            "Requirement already satisfied: libclang>=9.0.1 in /usr/local/lib/python3.7/dist-packages (from tensorflow==2.7.0) (14.0.1)\n",
            "Collecting keras<2.8,>=2.7.0rc0\n",
            "  Downloading keras-2.7.0-py2.py3-none-any.whl (1.3 MB)\n",
            "\u001b[K     |████████████████████████████████| 1.3 MB 8.8 MB/s \n",
            "\u001b[?25hRequirement already satisfied: wrapt>=1.11.0 in /usr/local/lib/python3.7/dist-packages (from tensorflow==2.7.0) (1.14.1)\n",
            "Requirement already satisfied: flatbuffers<3.0,>=1.12 in /usr/local/lib/python3.7/dist-packages (from tensorflow==2.7.0) (2.0)\n",
            "Requirement already satisfied: absl-py>=0.4.0 in /usr/local/lib/python3.7/dist-packages (from tensorflow==2.7.0) (1.1.0)\n",
            "Requirement already satisfied: wheel<1.0,>=0.32.0 in /usr/local/lib/python3.7/dist-packages (from tensorflow==2.7.0) (0.37.1)\n",
            "Requirement already satisfied: h5py>=2.9.0 in /usr/local/lib/python3.7/dist-packages (from tensorflow==2.7.0) (3.1.0)\n",
            "Requirement already satisfied: grpcio<2.0,>=1.24.3 in /usr/local/lib/python3.7/dist-packages (from tensorflow==2.7.0) (1.47.0)\n",
            "Requirement already satisfied: termcolor>=1.1.0 in /usr/local/lib/python3.7/dist-packages (from tensorflow==2.7.0) (1.1.0)\n",
            "Requirement already satisfied: typing-extensions>=3.6.6 in /usr/local/lib/python3.7/dist-packages (from tensorflow==2.7.0) (4.1.1)\n",
            "Requirement already satisfied: keras-preprocessing>=1.1.1 in /usr/local/lib/python3.7/dist-packages (from tensorflow==2.7.0) (1.1.2)\n",
            "Collecting gast<0.5.0,>=0.2.1\n",
            "  Downloading gast-0.4.0-py3-none-any.whl (9.8 kB)\n",
            "Requirement already satisfied: tensorboard~=2.6 in /usr/local/lib/python3.7/dist-packages (from tensorflow==2.7.0) (2.8.0)\n",
            "Requirement already satisfied: astunparse>=1.6.0 in /usr/local/lib/python3.7/dist-packages (from tensorflow==2.7.0) (1.6.3)\n",
            "Requirement already satisfied: six>=1.12.0 in /usr/local/lib/python3.7/dist-packages (from tensorflow==2.7.0) (1.15.0)\n",
            "Requirement already satisfied: google-pasta>=0.1.1 in /usr/local/lib/python3.7/dist-packages (from tensorflow==2.7.0) (0.2.0)\n",
            "Collecting tensorflow-estimator<2.8,~=2.7.0rc0\n",
            "  Downloading tensorflow_estimator-2.7.0-py2.py3-none-any.whl (463 kB)\n",
            "\u001b[K     |████████████████████████████████| 463 kB 49.6 MB/s \n",
            "\u001b[?25hRequirement already satisfied: cached-property in /usr/local/lib/python3.7/dist-packages (from h5py>=2.9.0->tensorflow==2.7.0) (1.5.2)\n",
            "Requirement already satisfied: tensorboard-plugin-wit>=1.6.0 in /usr/local/lib/python3.7/dist-packages (from tensorboard~=2.6->tensorflow==2.7.0) (1.8.1)\n",
            "Requirement already satisfied: markdown>=2.6.8 in /usr/local/lib/python3.7/dist-packages (from tensorboard~=2.6->tensorflow==2.7.0) (3.3.7)\n",
            "Requirement already satisfied: werkzeug>=0.11.15 in /usr/local/lib/python3.7/dist-packages (from tensorboard~=2.6->tensorflow==2.7.0) (1.0.1)\n",
            "Requirement already satisfied: requests<3,>=2.21.0 in /usr/local/lib/python3.7/dist-packages (from tensorboard~=2.6->tensorflow==2.7.0) (2.23.0)\n",
            "Requirement already satisfied: setuptools>=41.0.0 in /usr/local/lib/python3.7/dist-packages (from tensorboard~=2.6->tensorflow==2.7.0) (57.4.0)\n",
            "Requirement already satisfied: tensorboard-data-server<0.7.0,>=0.6.0 in /usr/local/lib/python3.7/dist-packages (from tensorboard~=2.6->tensorflow==2.7.0) (0.6.1)\n",
            "Requirement already satisfied: google-auth<3,>=1.6.3 in /usr/local/lib/python3.7/dist-packages (from tensorboard~=2.6->tensorflow==2.7.0) (1.35.0)\n",
            "Requirement already satisfied: google-auth-oauthlib<0.5,>=0.4.1 in /usr/local/lib/python3.7/dist-packages (from tensorboard~=2.6->tensorflow==2.7.0) (0.4.6)\n",
            "Requirement already satisfied: rsa<5,>=3.1.4 in /usr/local/lib/python3.7/dist-packages (from google-auth<3,>=1.6.3->tensorboard~=2.6->tensorflow==2.7.0) (4.8)\n",
            "Requirement already satisfied: pyasn1-modules>=0.2.1 in /usr/local/lib/python3.7/dist-packages (from google-auth<3,>=1.6.3->tensorboard~=2.6->tensorflow==2.7.0) (0.2.8)\n",
            "Requirement already satisfied: cachetools<5.0,>=2.0.0 in /usr/local/lib/python3.7/dist-packages (from google-auth<3,>=1.6.3->tensorboard~=2.6->tensorflow==2.7.0) (4.2.4)\n",
            "Requirement already satisfied: requests-oauthlib>=0.7.0 in /usr/local/lib/python3.7/dist-packages (from google-auth-oauthlib<0.5,>=0.4.1->tensorboard~=2.6->tensorflow==2.7.0) (1.3.1)\n",
            "Requirement already satisfied: importlib-metadata>=4.4 in /usr/local/lib/python3.7/dist-packages (from markdown>=2.6.8->tensorboard~=2.6->tensorflow==2.7.0) (4.12.0)\n",
            "Requirement already satisfied: zipp>=0.5 in /usr/local/lib/python3.7/dist-packages (from importlib-metadata>=4.4->markdown>=2.6.8->tensorboard~=2.6->tensorflow==2.7.0) (3.8.0)\n",
            "Requirement already satisfied: pyasn1<0.5.0,>=0.4.6 in /usr/local/lib/python3.7/dist-packages (from pyasn1-modules>=0.2.1->google-auth<3,>=1.6.3->tensorboard~=2.6->tensorflow==2.7.0) (0.4.8)\n",
            "Requirement already satisfied: idna<3,>=2.5 in /usr/local/lib/python3.7/dist-packages (from requests<3,>=2.21.0->tensorboard~=2.6->tensorflow==2.7.0) (2.10)\n",
            "Requirement already satisfied: certifi>=2017.4.17 in /usr/local/lib/python3.7/dist-packages (from requests<3,>=2.21.0->tensorboard~=2.6->tensorflow==2.7.0) (2022.6.15)\n",
            "Requirement already satisfied: chardet<4,>=3.0.2 in /usr/local/lib/python3.7/dist-packages (from requests<3,>=2.21.0->tensorboard~=2.6->tensorflow==2.7.0) (3.0.4)\n",
            "Requirement already satisfied: urllib3!=1.25.0,!=1.25.1,<1.26,>=1.21.1 in /usr/local/lib/python3.7/dist-packages (from requests<3,>=2.21.0->tensorboard~=2.6->tensorflow==2.7.0) (1.24.3)\n",
            "Requirement already satisfied: oauthlib>=3.0.0 in /usr/local/lib/python3.7/dist-packages (from requests-oauthlib>=0.7.0->google-auth-oauthlib<0.5,>=0.4.1->tensorboard~=2.6->tensorflow==2.7.0) (3.2.0)\n",
            "Installing collected packages: tensorflow-estimator, keras, gast, tensorflow\n",
            "  Attempting uninstall: tensorflow-estimator\n",
            "    Found existing installation: tensorflow-estimator 2.8.0\n",
            "    Uninstalling tensorflow-estimator-2.8.0:\n",
            "      Successfully uninstalled tensorflow-estimator-2.8.0\n",
            "  Attempting uninstall: keras\n",
            "    Found existing installation: keras 2.8.0\n",
            "    Uninstalling keras-2.8.0:\n",
            "      Successfully uninstalled keras-2.8.0\n",
            "  Attempting uninstall: gast\n",
            "    Found existing installation: gast 0.5.3\n",
            "    Uninstalling gast-0.5.3:\n",
            "      Successfully uninstalled gast-0.5.3\n",
            "  Attempting uninstall: tensorflow\n",
            "    Found existing installation: tensorflow 2.8.2+zzzcolab20220527125636\n",
            "    Uninstalling tensorflow-2.8.2+zzzcolab20220527125636:\n",
            "      Successfully uninstalled tensorflow-2.8.2+zzzcolab20220527125636\n",
            "Successfully installed gast-0.4.0 keras-2.7.0 tensorflow-2.7.0+zzzcolab20220506150900 tensorflow-estimator-2.7.0\n"
          ]
        }
      ],
      "source": [
        "pip install tensorflow==2.7.0"
      ]
    },
    {
      "cell_type": "code",
      "source": [
        "pip install tensorflow-quantum --use-deprecated=legacy-resolver"
      ],
      "metadata": {
        "colab": {
          "base_uri": "https://localhost:8080/"
        },
        "id": "aj8KhCBzaljR",
        "outputId": "24ef39d1-bbe3-45c6-d723-12e15ee121dc"
      },
      "execution_count": null,
      "outputs": [
        {
          "output_type": "stream",
          "name": "stdout",
          "text": [
            "Looking in indexes: https://pypi.org/simple, https://us-python.pkg.dev/colab-wheels/public/simple/\n",
            "Requirement already satisfied: tensorflow-quantum in /usr/local/lib/python3.7/dist-packages (0.7.2)\n",
            "Requirement already satisfied: google-auth==1.18.0 in /usr/local/lib/python3.7/dist-packages (from tensorflow-quantum) (1.18.0)\n",
            "Requirement already satisfied: cirq-google>=0.13.1 in /usr/local/lib/python3.7/dist-packages (from tensorflow-quantum) (1.0.0)\n",
            "Requirement already satisfied: protobuf==3.17.3 in /usr/local/lib/python3.7/dist-packages (from tensorflow-quantum) (3.17.3)\n",
            "Requirement already satisfied: googleapis-common-protos==1.52.0 in /usr/local/lib/python3.7/dist-packages (from tensorflow-quantum) (1.52.0)\n",
            "Requirement already satisfied: cirq-core==0.13.1 in /usr/local/lib/python3.7/dist-packages (from tensorflow-quantum) (0.13.1)\n",
            "Requirement already satisfied: google-api-core==1.21.0 in /usr/local/lib/python3.7/dist-packages (from tensorflow-quantum) (1.21.0)\n",
            "Requirement already satisfied: sympy==1.8 in /usr/local/lib/python3.7/dist-packages (from tensorflow-quantum) (1.8)\n",
            "Requirement already satisfied: rsa<5,>=3.1.4; python_version >= \"3\" in /usr/local/lib/python3.7/dist-packages (from google-auth==1.18.0->tensorflow-quantum) (4.9)\n",
            "Requirement already satisfied: cachetools<5.0,>=2.0.0 in /usr/local/lib/python3.7/dist-packages (from google-auth==1.18.0->tensorflow-quantum) (4.2.4)\n",
            "Requirement already satisfied: pyasn1-modules>=0.2.1 in /usr/local/lib/python3.7/dist-packages (from google-auth==1.18.0->tensorflow-quantum) (0.2.8)\n",
            "Requirement already satisfied: setuptools>=40.3.0 in /usr/local/lib/python3.7/dist-packages (from google-auth==1.18.0->tensorflow-quantum) (57.4.0)\n",
            "Requirement already satisfied: six>=1.9.0 in /usr/local/lib/python3.7/dist-packages (from google-auth==1.18.0->tensorflow-quantum) (1.15.0)\n",
            "Requirement already satisfied: proto-plus>=1.20.0 in /usr/local/lib/python3.7/dist-packages (from cirq-google>=0.13.1->tensorflow-quantum) (1.20.6)\n",
            "Requirement already satisfied: matplotlib~=3.0 in /usr/local/lib/python3.7/dist-packages (from cirq-core==0.13.1->tensorflow-quantum) (3.2.2)\n",
            "Requirement already satisfied: scipy in /usr/local/lib/python3.7/dist-packages (from cirq-core==0.13.1->tensorflow-quantum) (1.7.3)\n",
            "Requirement already satisfied: networkx~=2.4 in /usr/local/lib/python3.7/dist-packages (from cirq-core==0.13.1->tensorflow-quantum) (2.6.3)\n",
            "Requirement already satisfied: pandas in /usr/local/lib/python3.7/dist-packages (from cirq-core==0.13.1->tensorflow-quantum) (1.3.5)\n",
            "Requirement already satisfied: tqdm in /usr/local/lib/python3.7/dist-packages (from cirq-core==0.13.1->tensorflow-quantum) (4.64.0)\n",
            "Requirement already satisfied: duet~=0.2.0 in /usr/local/lib/python3.7/dist-packages (from cirq-core==0.13.1->tensorflow-quantum) (0.2.7)\n",
            "Requirement already satisfied: sortedcontainers~=2.0 in /usr/local/lib/python3.7/dist-packages (from cirq-core==0.13.1->tensorflow-quantum) (2.4.0)\n",
            "Requirement already satisfied: numpy~=1.16 in /usr/local/lib/python3.7/dist-packages (from cirq-core==0.13.1->tensorflow-quantum) (1.21.6)\n",
            "Requirement already satisfied: typing-extensions in /usr/local/lib/python3.7/dist-packages (from cirq-core==0.13.1->tensorflow-quantum) (4.1.1)\n",
            "Requirement already satisfied: requests<3.0.0dev,>=2.18.0 in /usr/local/lib/python3.7/dist-packages (from google-api-core==1.21.0->tensorflow-quantum) (2.23.0)\n",
            "Requirement already satisfied: pytz in /usr/local/lib/python3.7/dist-packages (from google-api-core==1.21.0->tensorflow-quantum) (2022.1)\n",
            "Requirement already satisfied: mpmath>=0.19 in /usr/local/lib/python3.7/dist-packages (from sympy==1.8->tensorflow-quantum) (1.2.1)\n",
            "Requirement already satisfied: pyasn1>=0.1.3 in /usr/local/lib/python3.7/dist-packages (from rsa<5,>=3.1.4; python_version >= \"3\"->google-auth==1.18.0->tensorflow-quantum) (0.4.8)\n",
            "Requirement already satisfied: kiwisolver>=1.0.1 in /usr/local/lib/python3.7/dist-packages (from matplotlib~=3.0->cirq-core==0.13.1->tensorflow-quantum) (1.4.4)\n",
            "Requirement already satisfied: python-dateutil>=2.1 in /usr/local/lib/python3.7/dist-packages (from matplotlib~=3.0->cirq-core==0.13.1->tensorflow-quantum) (2.8.2)\n",
            "Requirement already satisfied: pyparsing!=2.0.4,!=2.1.2,!=2.1.6,>=2.0.1 in /usr/local/lib/python3.7/dist-packages (from matplotlib~=3.0->cirq-core==0.13.1->tensorflow-quantum) (3.0.9)\n",
            "Requirement already satisfied: cycler>=0.10 in /usr/local/lib/python3.7/dist-packages (from matplotlib~=3.0->cirq-core==0.13.1->tensorflow-quantum) (0.11.0)\n",
            "Requirement already satisfied: certifi>=2017.4.17 in /usr/local/lib/python3.7/dist-packages (from requests<3.0.0dev,>=2.18.0->google-api-core==1.21.0->tensorflow-quantum) (2022.6.15)\n",
            "Requirement already satisfied: idna<3,>=2.5 in /usr/local/lib/python3.7/dist-packages (from requests<3.0.0dev,>=2.18.0->google-api-core==1.21.0->tensorflow-quantum) (2.10)\n",
            "Requirement already satisfied: chardet<4,>=3.0.2 in /usr/local/lib/python3.7/dist-packages (from requests<3.0.0dev,>=2.18.0->google-api-core==1.21.0->tensorflow-quantum) (3.0.4)\n",
            "Requirement already satisfied: urllib3!=1.25.0,!=1.25.1,<1.26,>=1.21.1 in /usr/local/lib/python3.7/dist-packages (from requests<3.0.0dev,>=2.18.0->google-api-core==1.21.0->tensorflow-quantum) (1.24.3)\n"
          ]
        }
      ]
    },
    {
      "cell_type": "code",
      "source": [
        "import numpy as np \n",
        "import sympy as sp\n",
        "import pandas as pd\n",
        "import tensorflow as tf\n",
        "# import tensorflow_quantum as tfq\n",
        "# import cirq\n",
        "# from cirq.contrib.svg import SVGCircuit\n",
        "from numpy import cov\n",
        "from numpy import trace\n",
        "from numpy import iscomplexobj\n",
        "from numpy import asarray\n",
        "from scipy.linalg import sqrtm\n",
        "from keras.applications.inception_v3 import InceptionV3, preprocess_input\n",
        "from skimage.transform import resize\n",
        "from tensorflow.python.eager.backprop import GradientTape\n",
        "from PIL import Image\n",
        "import matplotlib.cm as cm\n",
        "from matplotlib.colors import LogNorm, Normalize\n",
        "import glob\n",
        "import imageio\n",
        "from IPython import display\n",
        "\n",
        "from h5py import File as HDF5File\n",
        "%matplotlib inline\n",
        "import matplotlib.pyplot as plt"
      ],
      "metadata": {
        "id": "FzBQ0Q2xaqOq"
      },
      "execution_count": null,
      "outputs": []
    },
    {
      "cell_type": "code",
      "source": [
        "(X_train,y_train),(X_test,y_test) = tf.keras.datasets.mnist.load_data()"
      ],
      "metadata": {
        "id": "1HkGk5sXXYYk"
      },
      "execution_count": null,
      "outputs": []
    },
    {
      "cell_type": "code",
      "source": [
        "print(X_train.shape)"
      ],
      "metadata": {
        "colab": {
          "base_uri": "https://localhost:8080/"
        },
        "id": "MSK3cmPtZ4hx",
        "outputId": "b86af5c6-01a1-4676-c65a-0fab1a0c2481"
      },
      "execution_count": null,
      "outputs": [
        {
          "output_type": "stream",
          "name": "stdout",
          "text": [
            "(60000, 28, 28)\n"
          ]
        }
      ]
    },
    {
      "cell_type": "code",
      "source": [
        "plt.imshow(X_train[0,:,:])"
      ],
      "metadata": {
        "colab": {
          "base_uri": "https://localhost:8080/",
          "height": 283
        },
        "id": "0YH09s8WZu76",
        "outputId": "f6c1fa2d-b181-4308-81ba-93db0295999a"
      },
      "execution_count": null,
      "outputs": [
        {
          "output_type": "execute_result",
          "data": {
            "text/plain": [
              "<matplotlib.image.AxesImage at 0x7f0f3d28fc10>"
            ]
          },
          "metadata": {},
          "execution_count": 5
        },
        {
          "output_type": "display_data",
          "data": {
            "text/plain": [
              "<Figure size 432x288 with 1 Axes>"
            ],
            "image/png": "[encoded data removed]"
          },
          "metadata": {
            "needs_background": "light"
          }
        }
      ]
    },
    {
      "cell_type": "code",
      "source": [
        "X_train = (X_train-127.5)/127.5"
      ],
      "metadata": {
        "id": "t57Sh4Y-KkTD"
      },
      "execution_count": null,
      "outputs": []
    },
    {
      "cell_type": "code",
      "source": [
        "from google.colab import drive\n",
        "\n",
        "drive.mount('/content/gdrive/', force_remount=True)"
      ],
      "metadata": {
        "id": "pjXcmtyYbox5",
        "colab": {
          "base_uri": "https://localhost:8080/"
        },
        "outputId": "cefc47d2-fd7f-4d58-9213-deb30ea0befc"
      },
      "execution_count": null,
      "outputs": [
        {
          "output_type": "stream",
          "name": "stdout",
          "text": [
            "Mounted at /content/gdrive/\n"
          ]
        }
      ]
    },
    {
      "cell_type": "code",
      "source": [
        "electron_datafile = '/content/gdrive/MyDrive//electron.hdf5'\n",
        "photon_datafile = '/content/gdrive/MyDrive//photon.hdf5'"
      ],
      "metadata": {
        "id": "-XYYbnaJbwIJ"
      },
      "execution_count": null,
      "outputs": []
    },
    {
      "cell_type": "code",
      "source": [
        "electron_data = HDF5File(electron_datafile, 'r')\n",
        "photon_data = HDF5File(photon_datafile, 'r')"
      ],
      "metadata": {
        "id": "cgCgUtejcXC1"
      },
      "execution_count": null,
      "outputs": []
    },
    {
      "cell_type": "code",
      "source": [
        "X_e, y_e = electron_data['X'], electron_data['y']\n",
        "X_e_0 = X_e[:,:,:,0]\n",
        "X_e_1 = X_e[:,:,:,1]\n",
        "print(X_e_0.shape)"
      ],
      "metadata": {
        "colab": {
          "base_uri": "https://localhost:8080/"
        },
        "id": "GgbUOm5KcJmf",
        "outputId": "d06dfe35-87ee-4868-940e-b73ac63bb6f5"
      },
      "execution_count": null,
      "outputs": [
        {
          "output_type": "stream",
          "name": "stdout",
          "text": [
            "(249000, 32, 32)\n"
          ]
        }
      ]
    },
    {
      "cell_type": "code",
      "source": [
        "plt.imshow(X_e_0[0,:,:])"
      ],
      "metadata": {
        "colab": {
          "base_uri": "https://localhost:8080/",
          "height": 284
        },
        "id": "W9rEAfOicM72",
        "outputId": "2c8bd454-9b6c-46ee-d01d-4a2adc567488"
      },
      "execution_count": null,
      "outputs": [
        {
          "output_type": "execute_result",
          "data": {
            "text/plain": [
              "<matplotlib.image.AxesImage at 0x7fba57ea5110>"
            ]
          },
          "metadata": {},
          "execution_count": 7
        },
        {
          "output_type": "display_data",
          "data": {
            "text/plain": [
              "<Figure size 432x288 with 1 Axes>"
            ],
            "image/png": "[encoded data removed]"
          },
          "metadata": {
            "needs_background": "light"
          }
        }
      ]
    },
    {
      "cell_type": "code",
      "source": [
        "X_p, y_p = photon_data['X'], photon_data['y']\n",
        "X_p_0 = X_p[:,:,:,0]\n",
        "X_p_1 = X_p[:,:,:,1]\n",
        "print(X_p_0.shape)\n",
        "print(y_p.shape)"
      ],
      "metadata": {
        "colab": {
          "base_uri": "https://localhost:8080/"
        },
        "id": "CIqAOuN8cqng",
        "outputId": "87f611de-75d5-439a-cc01-43745ef1fc79"
      },
      "execution_count": null,
      "outputs": [
        {
          "output_type": "stream",
          "name": "stdout",
          "text": [
            "(249000, 32, 32)\n",
            "(249000,)\n"
          ]
        }
      ]
    },
    {
      "cell_type": "code",
      "source": [
        "plt.imshow(X_p_0[0,:,:])"
      ],
      "metadata": {
        "colab": {
          "base_uri": "https://localhost:8080/",
          "height": 284
        },
        "id": "LcQQv3pjctZb",
        "outputId": "d8e1ab01-3ff4-4100-dce6-2fbdc2b6dc19"
      },
      "execution_count": null,
      "outputs": [
        {
          "output_type": "execute_result",
          "data": {
            "text/plain": [
              "<matplotlib.image.AxesImage at 0x7fba579a7310>"
            ]
          },
          "metadata": {},
          "execution_count": 9
        },
        {
          "output_type": "display_data",
          "data": {
            "text/plain": [
              "<Figure size 432x288 with 1 Axes>"
            ],
            "image/png": "[encoded data removed]"
          },
          "metadata": {
            "needs_background": "light"
          }
        }
      ]
    },
    {
      "cell_type": "code",
      "source": [
        "center = [int(528/32), 528%32]\n",
        "\n",
        "img_size = 8\n",
        "X_e_0 = X_e_0[:, (center[0]-int(img_size/2)):(center[0]+int(img_size/2)), (center[1]-int(img_size/2)):(center[1]+int(img_size/2))]\n",
        "X_p_0 = X_p_0[:, (center[0]-int(img_size/2)):(center[0]+int(img_size/2)), (center[1]-int(img_size/2)):(center[1]+int(img_size/2))]\n",
        "\n",
        "print(X_e_0.shape,X_p_0.shape)"
      ],
      "metadata": {
        "id": "sLZ6G9lmc0-n",
        "colab": {
          "base_uri": "https://localhost:8080/"
        },
        "outputId": "cdbdbc35-6be4-4aef-e809-51ec9fab864a"
      },
      "execution_count": null,
      "outputs": [
        {
          "output_type": "stream",
          "name": "stdout",
          "text": [
            "(249000, 8, 8) (249000, 8, 8)\n"
          ]
        }
      ]
    },
    {
      "cell_type": "code",
      "source": [
        "z = np.random.normal(size=X_e_0.shape)\n",
        "print(z.shape)"
      ],
      "metadata": {
        "colab": {
          "base_uri": "https://localhost:8080/"
        },
        "id": "OCbQ9XVtc15r",
        "outputId": "6857f463-fb82-4145-f234-684137294672"
      },
      "execution_count": null,
      "outputs": [
        {
          "output_type": "stream",
          "name": "stdout",
          "text": [
            "(249000, 8, 8)\n"
          ]
        }
      ]
    },
    {
      "cell_type": "code",
      "source": [
        "plt.imshow(z[0])"
      ],
      "metadata": {
        "colab": {
          "base_uri": "https://localhost:8080/",
          "height": 283
        },
        "id": "y2KEs4V0dvqU",
        "outputId": "c2172415-70c5-4c29-d23d-c6bc10771920"
      },
      "execution_count": null,
      "outputs": [
        {
          "output_type": "execute_result",
          "data": {
            "text/plain": [
              "<matplotlib.image.AxesImage at 0x7fba57919e90>"
            ]
          },
          "metadata": {},
          "execution_count": 12
        },
        {
          "output_type": "display_data",
          "data": {
            "text/plain": [
              "<Figure size 432x288 with 1 Axes>"
            ],
            "image/png": "[encoded data removed]"
          },
          "metadata": {
            "needs_background": "light"
          }
        }
      ]
    },
    {
      "cell_type": "code",
      "source": [
        "def FID(model,images_1,images_2):\n",
        "  images_1 = preprocess_input(images_1)\n",
        "  images_2 = preprocess_input(images_2)\n",
        "  \n",
        "  act1 = model.predict(images_1)\n",
        "  act2 = model.predict(images_2)\n",
        "  mu1, sigma1 = act1.mean(axis=0), cov(act1, rowvar=False)\n",
        "  mu2, sigma2 = act2.mean(axis=0), cov(act2, rowvar=False)\n",
        "  ssdiff = np.sum((mu1-mu2)**2)\n",
        "  covmean = sqrtm(sigma1.dot(sigma2))\n",
        "  if iscomplexobj(covmean):\n",
        "    covmean =covmean.real\n",
        "  \n",
        "  fid = ssdiff + trace(sigma1 + sigma2 - 2.0*covmean)\n",
        "  return fid"
      ],
      "metadata": {
        "id": "2w_PDCuJd-FP"
      },
      "execution_count": null,
      "outputs": []
    },
    {
      "cell_type": "code",
      "source": [
        "def scale_images(images,size):\n",
        "  images_list = []\n",
        "  for image in images:\n",
        "    new_image = resize(image,size,0)\n",
        "    images_list.append(new_image)\n",
        "  return asarray(images_list)"
      ],
      "metadata": {
        "id": "No2btvjcje0n"
      },
      "execution_count": null,
      "outputs": []
    },
    {
      "cell_type": "code",
      "source": [
        "inc_model = InceptionV3(include_top=False, pooling='avg', input_shape=(299,299,3))"
      ],
      "metadata": {
        "id": "-VZqUfAcizJq",
        "colab": {
          "base_uri": "https://localhost:8080/"
        },
        "outputId": "e4e98110-e6c1-427f-b74f-16abbcfeba95"
      },
      "execution_count": null,
      "outputs": [
        {
          "output_type": "stream",
          "name": "stdout",
          "text": [
            "Downloading data from https://storage.googleapis.com/tensorflow/keras-applications/inception_v3/inception_v3_weights_tf_dim_ordering_tf_kernels_notop.h5\n",
            "87916544/87910968 [==============================] - 1s 0us/step\n",
            "87924736/87910968 [==============================] - 1s 0us/step\n"
          ]
        }
      ]
    },
    {
      "cell_type": "code",
      "source": [
        "new_images_e = scale_images(X_e_0[:500],(299,299,3))\n",
        "new_images_p = scale_images(X_p_0[:500],(299,299,3))\n",
        "new_images_z = scale_images(z[:500],(299,299,3))\n",
        "FID(inc_model,new_images_e,new_images_p)"
      ],
      "metadata": {
        "id": "KFTFxMHPi5pa"
      },
      "execution_count": null,
      "outputs": []
    },
    {
      "cell_type": "code",
      "source": [
        "def create_classical_generator():\n",
        "    model = tf.keras.Sequential()\n",
        "    # foundation for 2x2 image\n",
        "    n_nodes = 64 * 2 * 2\n",
        "    model.add(tf.keras.layers.Dense(n_nodes, use_bias=False, input_shape=(100,)))\n",
        "    model.add(tf.keras.layers.BatchNormalization())\n",
        "    model.add(tf.keras.layers.LeakyReLU())\n",
        "    model.add(tf.keras.layers.Reshape((2, 2, 64)))\n",
        "\n",
        "    model.add(tf.keras.layers.Conv2DTranspose(32, (2,2), strides=(1,1), padding=\"same\", use_bias=False))\n",
        "    model.add(tf.keras.layers.BatchNormalization())\n",
        "    model.add(tf.keras.layers.LeakyReLU())\n",
        "\n",
        "    # model.add(tf.keras.layers.Conv2DTranspose(16, (2,2), strides=(1,1), padding=\"same\", use_bias=False))\n",
        "    # model.add(tf.keras.layers.BatchNormalization())\n",
        "    # model.add(tf.keras.layers.LeakyReLU())\n",
        "    \n",
        "    # upsample to 4x4\n",
        "    model.add(tf.keras.layers.Conv2DTranspose(16, (2,2), strides=(2,2), padding=\"same\", use_bias=False))\n",
        "    model.add(tf.keras.layers.BatchNormalization())\n",
        "    model.add(tf.keras.layers.LeakyReLU())    \n",
        "    # upsample to 8x8\n",
        "    model.add(tf.keras.layers.Conv2DTranspose(1, (3,3), strides=(2,2), padding=\"same\", use_bias=False, activation='tanh'))\n",
        "    return model\n",
        "\n",
        "def create_classical_discriminator():\n",
        "    model = tf.keras.Sequential()\n",
        "    model.add(tf.keras.layers.Conv2D(64, (3, 3), strides=(2, 2), padding='same', input_shape=[8, 8, 1]))\n",
        "    model.add(tf.keras.layers.LeakyReLU())\n",
        "    model.add(tf.keras.layers.Dropout(0.3))\n",
        "\n",
        "    model.add(tf.keras.layers.Conv2D(128, (2, 2), strides=(2, 2), padding='same'))\n",
        "    model.add(tf.keras.layers.LeakyReLU())\n",
        "    model.add(tf.keras.layers.Dropout(0.3))\n",
        "    \n",
        "    model.add(tf.keras.layers.Conv2D(64, (2, 2), strides=(2, 2), padding='same'))\n",
        "    model.add(tf.keras.layers.LeakyReLU())\n",
        "    model.add(tf.keras.layers.Dropout(0.3))\n",
        "\n",
        "    model.add(tf.keras.layers.Flatten())\n",
        "    model.add(tf.keras.layers.Dense(1))\n",
        "    return model"
      ],
      "metadata": {
        "id": "t5f54Qw2jGHf"
      },
      "execution_count": null,
      "outputs": []
    },
    {
      "cell_type": "code",
      "source": [
        "# def train_qgan(real_data,):\n",
        "generator_model = create_classical_generator()\n",
        "discriminator_model = create_classical_discriminator()"
      ],
      "metadata": {
        "id": "DNy598fYamme"
      },
      "execution_count": null,
      "outputs": []
    },
    {
      "cell_type": "code",
      "source": [
        "generator_model.summary()\n",
        "discriminator_model.summary()"
      ],
      "metadata": {
        "colab": {
          "base_uri": "https://localhost:8080/"
        },
        "id": "oafJsEd3hLXL",
        "outputId": "09e93531-bc4c-4707-e0e0-8cd42c766f37"
      },
      "execution_count": null,
      "outputs": [
        {
          "output_type": "stream",
          "name": "stdout",
          "text": [
            "Model: \"sequential\"\n",
            "_________________________________________________________________\n",
            " Layer (type)                Output Shape              Param #   \n",
            "=================================================================\n",
            " dense (Dense)               (None, 256)               25600     \n",
            "                                                                 \n",
            " batch_normalization_94 (Bat  (None, 256)              1024      \n",
            " chNormalization)                                                \n",
            "                                                                 \n",
            " leaky_re_lu (LeakyReLU)     (None, 256)               0         \n",
            "                                                                 \n",
            " reshape (Reshape)           (None, 2, 2, 64)          0         \n",
            "                                                                 \n",
            " conv2d_transpose (Conv2DTra  (None, 2, 2, 32)         8192      \n",
            " nspose)                                                         \n",
            "                                                                 \n",
            " batch_normalization_95 (Bat  (None, 2, 2, 32)         128       \n",
            " chNormalization)                                                \n",
            "                                                                 \n",
            " leaky_re_lu_1 (LeakyReLU)   (None, 2, 2, 32)          0         \n",
            "                                                                 \n",
            " conv2d_transpose_1 (Conv2DT  (None, 4, 4, 16)         2048      \n",
            " ranspose)                                                       \n",
            "                                                                 \n",
            " batch_normalization_96 (Bat  (None, 4, 4, 16)         64        \n",
            " chNormalization)                                                \n",
            "                                                                 \n",
            " leaky_re_lu_2 (LeakyReLU)   (None, 4, 4, 16)          0         \n",
            "                                                                 \n",
            " conv2d_transpose_2 (Conv2DT  (None, 8, 8, 1)          144       \n",
            " ranspose)                                                       \n",
            "                                                                 \n",
            "=================================================================\n",
            "Total params: 37,200\n",
            "Trainable params: 36,592\n",
            "Non-trainable params: 608\n",
            "_________________________________________________________________\n",
            "Model: \"sequential_1\"\n",
            "_________________________________________________________________\n",
            " Layer (type)                Output Shape              Param #   \n",
            "=================================================================\n",
            " conv2d_94 (Conv2D)          (None, 4, 4, 64)          640       \n",
            "                                                                 \n",
            " leaky_re_lu_3 (LeakyReLU)   (None, 4, 4, 64)          0         \n",
            "                                                                 \n",
            " dropout (Dropout)           (None, 4, 4, 64)          0         \n",
            "                                                                 \n",
            " conv2d_95 (Conv2D)          (None, 2, 2, 128)         32896     \n",
            "                                                                 \n",
            " leaky_re_lu_4 (LeakyReLU)   (None, 2, 2, 128)         0         \n",
            "                                                                 \n",
            " dropout_1 (Dropout)         (None, 2, 2, 128)         0         \n",
            "                                                                 \n",
            " conv2d_96 (Conv2D)          (None, 1, 1, 64)          32832     \n",
            "                                                                 \n",
            " leaky_re_lu_5 (LeakyReLU)   (None, 1, 1, 64)          0         \n",
            "                                                                 \n",
            " dropout_2 (Dropout)         (None, 1, 1, 64)          0         \n",
            "                                                                 \n",
            " flatten (Flatten)           (None, 64)                0         \n",
            "                                                                 \n",
            " dense_1 (Dense)             (None, 1)                 65        \n",
            "                                                                 \n",
            "=================================================================\n",
            "Total params: 66,433\n",
            "Trainable params: 66,433\n",
            "Non-trainable params: 0\n",
            "_________________________________________________________________\n"
          ]
        }
      ]
    },
    {
      "cell_type": "code",
      "source": [
        "# def prepare_dataset(data,batch_size,seed=None,drop_remainder=True,buffer_size=100):\n",
        "#   buffer_size =len(data[0])\n",
        "#   ds = tf.data.Dataset.from_tensor_slices(data)\n",
        "#   ds = ds.shuffle(buffer_size=buffer_size,seed=seed,reshuffle_each_iteration=True)\n",
        "#   ds = ds.batch(batch_size,drop_remainder)\n",
        "#   # ds = ds.prefetch(tf.data.AUTOTUNE)\n",
        "#   return ds\n",
        "\n",
        "# def train_preprocess(random_state):\n",
        "#   tf.random.set_seed(random_state)\n",
        "#   np.random.seed(random_state)"
      ],
      "metadata": {
        "id": "a6cb4CSghORp"
      },
      "execution_count": null,
      "outputs": []
    },
    {
      "cell_type": "code",
      "source": [
        "class QGAN():\n",
        "  def __init__(self,discriminator,generator,disc_optimizer,gen_optimizer):\n",
        "    self.generator_model = generator\n",
        "    self.discriminator_model = discriminator\n",
        "    self.d_opt = disc_optimizer\n",
        "    self.g_opt = gen_optimizer\n",
        "    # self.g_lr = gen_learning_rate\n",
        "    # self.d_lr = disc_learning_rate\n",
        "    self.loss = tf.keras.losses.BinaryCrossentropy(from_logits=True)\n",
        "    self.gen_loss_ = []\n",
        "    self.disc_loss_ = []\n",
        "    self.epochs_ = []\n",
        "    # self.d_opt = self.d_opt(self.d_lr)\n",
        "    # self.g_opt = self.g_opt(self.g_lr)\n",
        "\n",
        "  def prepare_dataset(self,data,batch_size,seed=None,drop_remainder=True,buffer_size=100):\n",
        "    buffer_size =len(data[0])\n",
        "    ds = tf.data.Dataset.from_tensor_slices(data)\n",
        "    ds = ds.shuffle(buffer_size=buffer_size,seed=seed,reshuffle_each_iteration=True)\n",
        "    ds = ds.batch(batch_size,drop_remainder)\n",
        "    ds = ds.prefetch(tf.data.AUTOTUNE)\n",
        "    return ds\n",
        "\n",
        "  def train_preprocess(self,random_state):\n",
        "    tf.random.set_seed(random_state)\n",
        "    np.random.seed(random_state)\n",
        "  \n",
        "  @tf.function\n",
        "  def generator_loss(self,fake_output):\n",
        "    return self.loss(tf.ones_like(fake_output),fake_output)\n",
        "\n",
        "  @tf.function\n",
        "  def discriminator_loss(self,real_output,fake_output):\n",
        "    real_loss = self.loss(tf.ones_like(real_output),real_output)\n",
        "    fake_loss = self.loss(tf.zeros_like(fake_output),fake_output)\n",
        "    return real_loss + fake_loss\n",
        "  \n",
        "  @tf.function\n",
        "  def train_step_1v1(self,x_real,batch_size):\n",
        "    \"\"\"Training step for one epoch with 1 generator step and 1 discriminator step\n",
        "        \"\"\"\n",
        "    fake_data_shape = (batch_size,) + self.generator_model.input_shape[1:]\n",
        "    z = tf.random.normal(shape=fake_data_shape)\n",
        "    with tf.GradientTape() as gen_tape, tf.GradientTape() as disc_tape:\n",
        "      x_fake_ = self.generator_model(z, training=True)\n",
        "      # x_fake = tf.reshape(x_fake_, tf.shape(x_real))\n",
        "      real_output = self.discriminator_model(x_real, training=True)\n",
        "      fake_output = self.discriminator_model(x_fake_, training=True)\n",
        "      gen_loss = self.generator_loss(fake_output)\n",
        "      disc_loss = self.discriminator_loss(real_output, fake_output)\n",
        "    grad_gen = gen_tape.gradient(gen_loss, self.generator_model.trainable_variables)\n",
        "    grad_disc = disc_tape.gradient(disc_loss, self.discriminator_model.trainable_variables)\n",
        "    self.g_opt.apply_gradients(zip(grad_gen, self.generator_model.trainable_variables))\n",
        "    self.d_opt.apply_gradients(zip(grad_disc, self.discriminator_model.trainable_variables))  \n",
        "    return gen_loss, disc_loss\n",
        "\n",
        "  @tf.function\n",
        "  def train_step_nv1(self,x_real,n_disc,batch_size):\n",
        "    for i in range(n_disc):\n",
        "      x_real_batch = tf.gather(x_real,i)\n",
        "      d_loss = self.discriminator_step(x_real_batch,batch_size)\n",
        "    g_loss = self.generator_step(batch_size)\n",
        "    return g_loss, d_loss\n",
        "\n",
        "  @tf.function\n",
        "  def train_step_1vn(self,x_real,n_gen,batch_size):\n",
        "    for i in range(n_gen):\n",
        "      g_loss = self.generator_step(batch_size)\n",
        "    d_loss = self.discriminator_step(x_real,batch_size)\n",
        "    return g_loss, d_loss \n",
        "\n",
        "  @tf.function\n",
        "  def discriminator_step(self,x_real,batch_size):\n",
        "    fake_data_shape = (batch_size,) + self.generator_model.input_shape[1:]\n",
        "    # x_real = tf.reshape(x_real,fake_data_shape)\n",
        "    z = tf.random.normal(shape=fake_data_shape)\n",
        "    with tf.GradientTape() as gradient_tape:\n",
        "      real_output = self.discriminator_model(x_real,training = True)\n",
        "      fake_input = self.generator_model(z, training = True) \n",
        "      # fake_input = tf.reshape(fake_input, tf.shape(x_real))\n",
        "      fake_output = self.discriminator_model(fake_input,training = True)\n",
        "      cost = self.discriminator_loss(real_output,fake_output)\n",
        "    grad = gradient_tape.gradient(cost,self.discriminator_model.trainable_variables)\n",
        "    self.d_opt.apply_gradients(zip(grad,self.discriminator_model.trainable_variables))\n",
        "    return cost\n",
        "\n",
        "  @tf.function\n",
        "  def generator_step(self,batch_size):\n",
        "    fake_data_shape = (batch_size,) + self.generator_model.input_shape[1:]\n",
        "    z = tf.random.normal(shape=fake_data_shape)\n",
        "    with tf.GradientTape() as gradient_tape:\n",
        "      fake_input = self.generator_model(z,training=True)\n",
        "      fake_output = self.discriminator_model(fake_input,training= True) #\n",
        "      loss = self.generator_loss(fake_output)\n",
        "    grad = gradient_tape.gradient(loss,self.generator_model.trainable_variables)\n",
        "    self.g_opt.apply_gradients(zip(grad,self.generator_model.trainable_variables))\n",
        "    return loss\n",
        "  \n",
        "  def train_qgans(self,x,epochs,batch_size,seed=1024,n_disc=1,n_gen=1):\n",
        "    input_shape = x.shape[1:]\n",
        "    self.train_preprocess(seed)\n",
        "    data = self.prepare_dataset(data=x,batch_size=batch_size*n_disc,seed=seed)\n",
        "    g_metric = tf.keras.metrics.Mean()\n",
        "    d_metric = tf.keras.metrics.Mean()\n",
        "    for epoch in range(epochs):\n",
        "      for step,training_batch_data_ in enumerate(data):\n",
        "        # training_batch_data = tf.reshape(training_batch_data_,input_batch_shape)\n",
        "        if( n_disc == 1 and n_gen == 1):\n",
        "          input_batch_shape = (batch_size,) + input_shape\n",
        "          training_batch_data = tf.reshape(training_batch_data_,input_batch_shape)\n",
        "          gen_loss,disc_loss = self.train_step_1v1(x_real=training_batch_data, batch_size=batch_size)\n",
        "          display.clear_output(wait=True)\n",
        "          generate_and_save_images(self.generator_model,epoch + 1,batch_size)\n",
        "        if n_disc > 1 and n_gen == 1:\n",
        "          input_batch_shape = (n_disc, batch_size) + input_shape\n",
        "          training_batch_data = tf.reshape(training_batch_data_,input_batch_shape)        \n",
        "          gen_loss,disc_loss = self.train_step_nv1(x_real=training_batch_data, batch_size=batch_size,n_disc=n_disc)\n",
        "          display.clear_output(wait=True)\n",
        "          generate_and_save_images(self.generator_model,epoch + 1,batch_size)\n",
        "        if n_gen > 1 and n_disc == 1:\n",
        "          input_batch_shape = (batch_size,) + input_shape\n",
        "          training_batch_data = tf.reshape(training_batch_data_,input_batch_shape)\n",
        "          gen_loss,disc_loss = self.train_step_1vn(x_real=training_batch_data, batch_size=batch_size,n_gen=n_gen)\n",
        "          display.clear_output(wait=True)\n",
        "          generate_and_save_images(self.generator_model,epoch + 1,batch_size)\n",
        "        g_metric(gen_loss)\n",
        "        d_metric(disc_loss)\n",
        "      self.gen_loss_.append(g_metric.result().numpy())\n",
        "      self.disc_loss_.append(d_metric.result().numpy())\n",
        "      self.epochs_.append(epoch)\n",
        "      print(\"Epoch:{} ;   generator_loss:{} ;   discriminator_loss:{}\".format(epoch,g_metric.result().numpy(),d_metric.result().numpy()))\n",
        "  \n",
        "      g_metric.reset_state()\n",
        "      d_metric.reset_state()\n",
        "      display.clear_output(wait=True)\n",
        "    return self.gen_loss_,self.disc_loss_,self.epochs_\n",
        "\n",
        "  def generate_samples(self,batch_size, shape=None):\n",
        "    \"\"\"Generates sample using random inputs\n",
        "        \n",
        "            Arguments:\n",
        "                batch_size: int\n",
        "                    Number of samples to generate.\n",
        "                shape: (Optional) tuple of int\n",
        "                    Reshape the output to the given shape.\n",
        "        \"\"\"\n",
        "    z_batch_shape = (batch_size,) + self.generator_model.input_shape[1:]\n",
        "    z = tf.random.normal(z_batch_shape)\n",
        "    print(z.shape[0])\n",
        "    samples = self.generator_model(z,training = False)\n",
        "    # samples = generator_model\n",
        "    # if shape is not None:\n",
        "    #   shape = (batch_size,) + shape\n",
        "    #   samples = tf.reshape(samples, shape)\n",
        "    return samples\n",
        "\n",
        "  def predict(self, x):\n",
        "    return self.discriminator_model(x, training=False)\n"
      ],
      "metadata": {
        "id": "XH-hgv1fzX9k"
      },
      "execution_count": null,
      "outputs": []
    },
    {
      "cell_type": "code",
      "source": [
        "def generate_and_save_images(model, epoch, batch_size):\n",
        "  # Notice `training` is set to False.\n",
        "  # This is so all layers run in inference mode (batchnorm).\n",
        "  z_batch_shape = (batch_size,) + model.input_shape[1:]\n",
        "  z = tf.random.normal(z_batch_shape) \n",
        "  predictions = model(z, training=False)\n",
        "\n",
        "  fig = plt.figure(figsize=(4, 4))\n",
        "\n",
        "  for i in range(4):\n",
        "      plt.subplot(2, 2, i+1)\n",
        "      plt.imshow(predictions[i, :, :, 0])\n",
        "      plt.axis('off')\n",
        "\n",
        "  plt.savefig('image_at_epoch_{:04d}.png'.format(epoch))\n",
        "  plt.show()"
      ],
      "metadata": {
        "id": "B6GbnLye7pW6"
      },
      "execution_count": null,
      "outputs": []
    },
    {
      "cell_type": "code",
      "source": [
        "#@title\n",
        "# loss = tf.keras.losses.BinaryCrossentropy(from_logits=True)\n",
        "\n",
        "# @tf.function\n",
        "# def generator_loss(fake_output):\n",
        "#   return loss(tf.ones_like(fake_output),fake_output)\n",
        "\n",
        "# @tf.function\n",
        "# def discriminator_loss(real_output,fake_output):\n",
        "#   real_loss = loss(tf.ones_like(real_output),real_output)\n",
        "#   fake_loss = loss(tf.ones_like(fake_output),fake_output)\n",
        "#   return real_loss + fake_loss\n",
        "\n",
        "# discriminator_optimizer = tf.keras.optimizers.Adam(learning_rate=5e-4)\n",
        "# generator_optimizer = tf.keras.optimizers.Adam(learning_rate=5e-4)"
      ],
      "metadata": {
        "id": "oCg2_R8XF9Df"
      },
      "execution_count": null,
      "outputs": []
    },
    {
      "cell_type": "code",
      "source": [
        "#@title\n",
        "# @tf.function\n",
        "# def discriminator_step(x_real,batch_size):\n",
        "#   fake_data_shape = (batch_size,) + generator_model.input_shape[1:]\n",
        "#   # x_real = tf.reshape(x_real,fake_data_shape)\n",
        "#   z = tf.random.normal(shape=fake_data_shape)\n",
        "#   with tf.GradientTape() as gradient_tape:\n",
        "#     real_output = discriminator_model(x_real,training = True)\n",
        "#     fake_input = generator_model(z, training = True)\n",
        "#     # fake_input = tf.reshape(fake_input, tf.shape(x_real))\n",
        "#     fake_output = discriminator_model(fake_input,training = True)\n",
        "#     cost = discriminator_loss(real_output,fake_output)\n",
        "#   grad = gradient_tape.gradient(cost,discriminator_model.trainable_variables)\n",
        "#   discriminator_optimizer.apply_gradients(zip(grad,discriminator_model.trainable_variables))\n",
        "#   return cost\n",
        "\n",
        "# @tf.function\n",
        "# def generator_step(batch_size):\n",
        "#   fake_data_shape = (batch_size,) + generator_model.input_shape[1:]\n",
        "#   z = tf.random.normal(shape=fake_data_shape)\n",
        "#   with tf.GradientTape() as gradient_tape:\n",
        "#     fake_input = generator_model(z,training=True)\n",
        "#     fake_output = discriminator_model(fake_input,training= True) \n",
        "#     loss = generator_loss(fake_output)\n",
        "#   grad = gradient_tape.gradient(loss,generator_model.trainable_variables)\n",
        "#   generator_optimizer.apply_gradients(zip(grad,generator_model.trainable_variables))\n",
        "#   return loss"
      ],
      "metadata": {
        "id": "Q4WpMi4AGO9v"
      },
      "execution_count": null,
      "outputs": []
    },
    {
      "cell_type": "code",
      "source": [
        "#@title\n",
        "# @tf.function\n",
        "# def train_step_1v1(x_real,batch_size):\n",
        "  \n",
        "#   \"\"\"Training step for one epoch with 1 generator step and 1 discriminator step\n",
        "#         \"\"\"\n",
        "#   fake_data_shape = (batch_size,) + generator_model.input_shape[1:]\n",
        "#   z = tf.random.normal(shape=fake_data_shape)\n",
        "#   with tf.GradientTape() as gen_tape, tf.GradientTape() as disc_tape:\n",
        "#     x_fake_ = generator_model(z, training=True)\n",
        "#     # x_fake = tf.reshape(x_fake_, tf.shape(x_real))\n",
        "#     real_output = discriminator_model(x_real, training=True)\n",
        "#     fake_output = discriminator_model(x_fake_, training=True)\n",
        "#     gen_loss = generator_loss(fake_output)\n",
        "#     disc_loss = discriminator_loss(real_output, fake_output)\n",
        "#   grad_gen = gen_tape.gradient(gen_loss, generator_model.trainable_variables)\n",
        "#   grad_disc = disc_tape.gradient(disc_loss, discriminator_model.trainable_variables)\n",
        "#   generator_optimizer.apply_gradients(zip(grad_gen, generator_model.trainable_variables))\n",
        "#   discriminator_optimizer.apply_gradients(zip(grad_disc, discriminator_model.trainable_variables))  \n",
        "#   return gen_loss, disc_loss\n",
        "\n",
        "# @tf.function\n",
        "# def train_step_nv1(x_real,n_disc,batch_size):\n",
        "#   for i in range(n_disc):\n",
        "#     x_real_batch = tf.gather(x_real,i)\n",
        "#     d_loss = discriminator_step(x_real_batch,batch_size)\n",
        "#   g_loss = generator_step(batch_size)\n",
        "#   return g_loss, d_loss\n",
        "\n",
        "# @tf.function\n",
        "# def train_step_1vn(x_real,n_gen,batch_size):\n",
        "#   for i in range(n_gen):\n",
        "#     g_loss = generator_step(batch_size)\n",
        "#   d_loss = discriminator_step(x_real,batch_size)\n",
        "#   return g_loss, d_loss "
      ],
      "metadata": {
        "id": "ItCL1EvZGTdf"
      },
      "execution_count": null,
      "outputs": []
    },
    {
      "cell_type": "code",
      "source": [
        "fake_data_shape = (10000,) + generator_model.input_shape[1:]\n",
        "print(fake_data_shape)\n",
        "print(generator_model.output_shape)\n",
        "print(discriminator_model.input_shape)"
      ],
      "metadata": {
        "colab": {
          "base_uri": "https://localhost:8080/"
        },
        "id": "F-nltoPoNjLK",
        "outputId": "90986fe9-a9d8-41c4-9362-bbf0280c310d"
      },
      "execution_count": null,
      "outputs": [
        {
          "output_type": "stream",
          "name": "stdout",
          "text": [
            "(10000, 100)\n",
            "(None, 8, 8, 1)\n",
            "(None, 8, 8, 1)\n"
          ]
        }
      ]
    },
    {
      "cell_type": "code",
      "source": [
        "# gen_loss_ = []\n",
        "# disc_loss_ = []\n",
        "# epochs_ = []"
      ],
      "metadata": {
        "id": "00AKlhiFG4-i"
      },
      "execution_count": null,
      "outputs": []
    },
    {
      "cell_type": "code",
      "source": [
        "# def train_qgans(x,epochs,batch_size,seed=1024,n_disc=1,n_gen=1):\n",
        "#   input_shape = x.shape[1:]\n",
        "#   train_preprocess(seed)\n",
        "#   data = prepare_dataset(data=x,batch_size=batch_size*n_disc,seed=seed)\n",
        "#   g_metric = tf.keras.metrics.Mean()\n",
        "#   d_metric = tf.keras.metrics.Mean()\n",
        "#   for epoch in range(epochs):\n",
        "#     for step,training_batch_data_ in enumerate(data):\n",
        "#       # training_batch_data = tf.reshape(training_batch_data_,input_batch_shape)\n",
        "#       if( n_disc == 1 and n_gen == 1):\n",
        "#         input_batch_shape = (batch_size,) + input_shape\n",
        "#         training_batch_data = tf.reshape(training_batch_data_,input_batch_shape)\n",
        "#         gen_loss,disc_loss = train_step_1v1(x_real=training_batch_data, batch_size=batch_size)\n",
        "#       if n_disc > 1 and n_gen == 1:\n",
        "#         input_batch_shape = (n_disc, batch_size) + input_shape\n",
        "#         training_batch_data = tf.reshape(training_batch_data_,input_batch_shape)        \n",
        "#         gen_loss,disc_loss = train_step_nv1(x_real=training_batch_data, batch_size=batch_size,n_disc=n_disc)\n",
        "#       if n_gen > 1 and n_disc == 1:\n",
        "#         input_batch_shape = (batch_size,) + input_shape\n",
        "#         training_batch_data = tf.reshape(training_batch_data_,input_batch_shape)\n",
        "#         gen_loss,disc_loss = train_step_1vn(x_real=training_batch_data, batch_size=batch_size,n_gen=n_gen)\n",
        "#       g_metric(gen_loss)\n",
        "#       d_metric(disc_loss)\n",
        "#     gen_loss_.append(g_metric.result().numpy())\n",
        "#     disc_loss_.append(d_metric.result().numpy())\n",
        "#     epochs_.append(epoch)\n",
        "#     print(\"Epoch:{} ;   generator_loss:{} ;   discriminator_loss:{}\".format(epoch,g_metric.result().numpy(),d_metric.result().numpy()))\n",
        "  \n",
        "#     g_metric.reset_state()\n",
        "#     d_metric.reset_state()"
      ],
      "metadata": {
        "id": "1EGp8b6hISHO"
      },
      "execution_count": null,
      "outputs": []
    },
    {
      "cell_type": "code",
      "source": [
        "# print(X_e_0.shape[1:])"
      ],
      "metadata": {
        "id": "jOchrnuJUh08"
      },
      "execution_count": null,
      "outputs": []
    },
    {
      "cell_type": "code",
      "source": [
        "d_optimizer = tf.keras.optimizers.Adam(learning_rate=0.00001)\n",
        "g_optimizer = tf.keras.optimizers.Adam(learning_rate=0.00005)\n",
        "model = QGAN(generator=generator_model,discriminator=discriminator_model,disc_optimizer=d_optimizer,gen_optimizer=g_optimizer)"
      ],
      "metadata": {
        "id": "PnD4j-UfrmWo"
      },
      "execution_count": null,
      "outputs": []
    },
    {
      "cell_type": "code",
      "source": [
        "X_e_0_final = np.reshape(X_e_0, (X_e_0.shape[0], 8, 8, 1))\n",
        "gen_loss_,disc_loss_,epochs_ = model.train_qgans(X_e_0_final,epochs=140,batch_size=40000,seed=2021,n_gen=10)"
      ],
      "metadata": {
        "colab": {
          "base_uri": "https://localhost:8080/",
          "height": 266
        },
        "id": "f9FJJpl1G9rT",
        "outputId": "974c06a9-ee80-4f72-ad07-99d58a2d056d"
      },
      "execution_count": null,
      "outputs": [
        {
          "output_type": "display_data",
          "data": {
            "text/plain": [
              "<Figure size 288x288 with 4 Axes>"
            ],
            "image/png": "[encoded data removed]"
          },
          "metadata": {
            "needs_background": "light"
          }
        },
        {
          "output_type": "stream",
          "name": "stdout",
          "text": [
            "Epoch:139 ;   generator_loss:0.6916466355323792 ;   discriminator_loss:1.3871264457702637\n"
          ]
        }
      ]
    },
    {
      "cell_type": "code",
      "source": [
        "import matplotlib.pyplot as plt\n",
        "import matplotlib.gridspec as gridspec\n",
        "\n",
        "def plot_loss(gen_loss,disc_loss,epochs):\n",
        "  fig = plt.figure(figsize=(16,9))\n",
        "  gs = gridspec.GridSpec(ncols=8, nrows=8, figure=fig)\n",
        "  epoch = epochs[-1]\n",
        "  # plot loss curve\n",
        "  ax_loss = plt.subplot(gs[:,:4])\n",
        "  ax_loss.set_xlim(0, 1.1*epoch)\n",
        "  ax_loss.plot(epochs, gen_loss, label=\"Generator\")\n",
        "  ax_loss.plot(epochs, disc_loss, label=\"Discriminator\")\n",
        "  ax_loss.set_xlabel('Epoch', fontsize=20)\n",
        "  ax_loss.set_ylabel('Loss', fontsize=20)\n",
        "  ax_loss.grid(True)\n",
        "  ax_loss.legend(fontsize=15)"
      ],
      "metadata": {
        "id": "mF3Ua857IJ4z"
      },
      "execution_count": null,
      "outputs": []
    },
    {
      "cell_type": "code",
      "source": [
        "plot_loss(gen_loss_,disc_loss_,epochs_)"
      ],
      "metadata": {
        "colab": {
          "base_uri": "https://localhost:8080/",
          "height": 560
        },
        "id": "eQ0ZFrNWIjoI",
        "outputId": "87cff9dd-8bcf-4377-a7e1-c1d84a7fa830"
      },
      "execution_count": null,
      "outputs": [
        {
          "output_type": "display_data",
          "data": {
            "text/plain": [
              "<Figure size 1152x648 with 1 Axes>"
            ],
            "image/png": "[encoded data removed]"
          },
          "metadata": {
            "needs_background": "light"
          }
        }
      ]
    },
    {
      "cell_type": "code",
      "source": [
        "# def generate_samples( batch_size, shape=None):\n",
        "\n",
        "#   \"\"\"Generates sample using random inputs\n",
        "        \n",
        "#             Arguments:\n",
        "#                 batch_size: int\n",
        "#                     Number of samples to generate.\n",
        "#                 shape: (Optional) tuple of int\n",
        "#                     Reshape the output to the given shape.\n",
        "#         \"\"\"\n",
        "#   z_batch_shape = (batch_size,) + generator_model.input_shape[1:]\n",
        "#   z = tf.random.normal(z_batch_shape)\n",
        "#   print(z.shape[0])\n",
        "#   samples = generator_model(z,training = False)\n",
        "#   # samples = generator_model\n",
        "#   # if shape is not None:\n",
        "#   #   shape = (batch_size,) + shape\n",
        "#   #   samples = tf.reshape(samples, shape)\n",
        "#   return samples"
      ],
      "metadata": {
        "id": "V7MRhk-FInBc"
      },
      "execution_count": null,
      "outputs": []
    },
    {
      "cell_type": "code",
      "source": [
        "n_images = 8\n",
        "samples = np.reshape(np.array(model.generate_samples(batch_size=n_images,shape=(5,))),(n_images,8,8))\n",
        "fig = plt.figure(figsize=(26,18))\n",
        "gs = gridspec.GridSpec(ncols=8, nrows=8, figure=fig)\n",
        "for i in range(samples.shape[0]):\n",
        "  ax = plt.subplot(gs[i//4, 4 + i%4])\n",
        "  plt.imshow(samples[i])"
      ],
      "metadata": {
        "colab": {
          "base_uri": "https://localhost:8080/",
          "height": 295
        },
        "id": "D5MtDPB-ja3l",
        "outputId": "8798596d-4014-4ec5-af1f-33ded0728a07"
      },
      "execution_count": null,
      "outputs": [
        {
          "output_type": "stream",
          "name": "stdout",
          "text": [
            "8\n"
          ]
        },
        {
          "output_type": "display_data",
          "data": {
            "text/plain": [
              "<Figure size 1872x1296 with 8 Axes>"
            ],
            "image/png": "[encoded data removed]"
          },
          "metadata": {
            "needs_background": "light"
          }
        }
      ]
    },
    {
      "cell_type": "code",
      "source": [
        "def display_image(epoch_no):\n",
        "  return Image.open('image_at_epoch_{:04d}.png'.format(epoch_no))"
      ],
      "metadata": {
        "id": "U-nCVrQ18V_D"
      },
      "execution_count": null,
      "outputs": []
    },
    {
      "cell_type": "code",
      "source": [
        "display_image(100)"
      ],
      "metadata": {
        "colab": {
          "base_uri": "https://localhost:8080/",
          "height": 305
        },
        "id": "7VnEb8JE8WqS",
        "outputId": "deb68cf1-cbfc-43ec-de25-d1fe56f4cd42"
      },
      "execution_count": null,
      "outputs": [
        {
          "output_type": "execute_result",
          "data": {
            "text/plain": [
              "<PIL.PngImagePlugin.PngImageFile image mode=RGBA size=288x288 at 0x7FB9B331E150>"
            ],
            "image/png": "[encoded data removed]"
          },
          "metadata": {},
          "execution_count": 52
        }
      ]
    },
    {
      "cell_type": "code",
      "source": [
        "anim_file = 'dcgan.gif'\n",
        "\n",
        "with imageio.get_writer(anim_file, mode='I') as writer:\n",
        "  filenames = glob.glob('image*.png')\n",
        "  filenames = sorted(filenames)\n",
        "  for filename in filenames:\n",
        "    image = imageio.imread(filename)\n",
        "    writer.append_data(image)\n",
        "#   image = imageio.imread(filename)\n",
        "#   writer.append_data(image)\n",
        "print(type(anim_file))"
      ],
      "metadata": {
        "colab": {
          "base_uri": "https://localhost:8080/"
        },
        "id": "I7noq8X68cgU",
        "outputId": "a06aa3e5-8e85-48b3-f0c9-1543b83d613b"
      },
      "execution_count": null,
      "outputs": [
        {
          "output_type": "stream",
          "name": "stdout",
          "text": [
            "<class 'str'>\n"
          ]
        }
      ]
    },
    {
      "cell_type": "code",
      "source": [
        "# import matplotlib.image as mpimg\n",
        "\n",
        "# img = mpimg.imread(\"./dcgan.gif\")\n",
        "# plt.imshow(img)"
      ],
      "metadata": {
        "id": "GKl9cCAGMykR"
      },
      "execution_count": null,
      "outputs": []
    },
    {
      "cell_type": "code",
      "source": [
        "# from IPython.display import HTML\n",
        "\n",
        "# HTML('<img src=\"./dcgan.gif\" />')"
      ],
      "metadata": {
        "colab": {
          "resources": {
            "http://localhost:8080/dcgan.gif": {
              "data": "CjwhRE9DVFlQRSBodG1sPgo8aHRtbCBsYW5nPWVuPgogIDxtZXRhIGNoYXJzZXQ9dXRmLTg+CiAgPG1ldGEgbmFtZT12aWV3cG9ydCBjb250ZW50PSJpbml0aWFsLXNjYWxlPTEsIG1pbmltdW0tc2NhbGU9MSwgd2lkdGg9ZGV2aWNlLXdpZHRoIj4KICA8dGl0bGU+RXJyb3IgNDA0IChOb3QgRm91bmQpISExPC90aXRsZT4KICA8c3R5bGU+CiAgICAqe21hcmdpbjowO3BhZGRpbmc6MH1odG1sLGNvZGV7Zm9udDoxNXB4LzIycHggYXJpYWwsc2Fucy1zZXJpZn1odG1se2JhY2tncm91bmQ6I2ZmZjtjb2xvcjojMjIyO3BhZGRpbmc6MTVweH1ib2R5e21hcmdpbjo3JSBhdXRvIDA7bWF4LXdpZHRoOjM5MHB4O21pbi1oZWlnaHQ6MTgwcHg7cGFkZGluZzozMHB4IDAgMTVweH0qID4gYm9keXtiYWNrZ3JvdW5kOnVybCgvL3d3dy5nb29nbGUuY29tL2ltYWdlcy9lcnJvcnMvcm9ib3QucG5nKSAxMDAlIDVweCBuby1yZXBlYXQ7cGFkZGluZy1yaWdodDoyMDVweH1we21hcmdpbjoxMXB4IDAgMjJweDtvdmVyZmxvdzpoaWRkZW59aW5ze2NvbG9yOiM3Nzc7dGV4dC1kZWNvcmF0aW9uOm5vbmV9YSBpbWd7Ym9yZGVyOjB9QG1lZGlhIHNjcmVlbiBhbmQgKG1heC13aWR0aDo3NzJweCl7Ym9keXtiYWNrZ3JvdW5kOm5vbmU7bWFyZ2luLXRvcDowO21heC13aWR0aDpub25lO3BhZGRpbmctcmlnaHQ6MH19I2xvZ297YmFja2dyb3VuZDp1cmwoLy93d3cuZ29vZ2xlLmNvbS9pbWFnZXMvbG9nb3MvZXJyb3JwYWdlL2Vycm9yX2xvZ28tMTUweDU0LnBuZykgbm8tcmVwZWF0O21hcmdpbi1sZWZ0Oi01cHh9QG1lZGlhIG9ubHkgc2NyZWVuIGFuZCAobWluLXJlc29sdXRpb246MTkyZHBpKXsjbG9nb3tiYWNrZ3JvdW5kOnVybCgvL3d3dy5nb29nbGUuY29tL2ltYWdlcy9sb2dvcy9lcnJvcnBhZ2UvZXJyb3JfbG9nby0xNTB4NTQtMngucG5nKSBuby1yZXBlYXQgMCUgMCUvMTAwJSAxMDAlOy1tb3otYm9yZGVyLWltYWdlOnVybCgvL3d3dy5nb29nbGUuY29tL2ltYWdlcy9sb2dvcy9lcnJvcnBhZ2UvZXJyb3JfbG9nby0xNTB4NTQtMngucG5nKSAwfX1AbWVkaWEgb25seSBzY3JlZW4gYW5kICgtd2Via2l0LW1pbi1kZXZpY2UtcGl4ZWwtcmF0aW86Mil7I2xvZ297YmFja2dyb3VuZDp1cmwoLy93d3cuZ29vZ2xlLmNvbS9pbWFnZXMvbG9nb3MvZXJyb3JwYWdlL2Vycm9yX2xvZ28tMTUweDU0LTJ4LnBuZykgbm8tcmVwZWF0Oy13ZWJraXQtYmFja2dyb3VuZC1zaXplOjEwMCUgMTAwJX19I2xvZ297ZGlzcGxheTppbmxpbmUtYmxvY2s7aGVpZ2h0OjU0cHg7d2lkdGg6MTUwcHh9CiAgPC9zdHlsZT4KICA8YSBocmVmPS8vd3d3Lmdvb2dsZS5jb20vPjxzcGFuIGlkPWxvZ28gYXJpYS1sYWJlbD1Hb29nbGU+PC9zcGFuPjwvYT4KICA8cD48Yj40MDQuPC9iPiA8aW5zPlRoYXTigJlzIGFuIGVycm9yLjwvaW5zPgogIDxwPiAgPGlucz5UaGF04oCZcyBhbGwgd2Uga25vdy48L2lucz4K",
              "ok": false,
              "headers": [
                [
                  "content-length",
                  "1449"
                ],
                [
                  "content-type",
                  "text/html; charset=utf-8"
                ]
              ],
              "status": 404,
              "status_text": ""
            }
          },
          "base_uri": "https://localhost:8080/",
          "height": 37
        },
        "id": "QP-L9YOL8hl5",
        "outputId": "e19be092-e1d1-4f0f-bf5e-d5041766dc0d"
      },
      "execution_count": null,
      "outputs": [
        {
          "output_type": "execute_result",
          "data": {
            "text/plain": [
              "<IPython.core.display.HTML object>"
            ],
            "text/html": [
              "<img src=\"./dcgan.gif\" />"
            ]
          },
          "metadata": {},
          "execution_count": 59
        }
      ]
    },
    {
      "cell_type": "markdown",
      "source": [
        "<!-- ![sample output](./dcgan.gif) -->\n",
        "<!-- <img src=\"./dcgan.gif\" width=\"1000\" align=\"left\"> -->\n",
        " markdown trial"
      ],
      "metadata": {
        "id": "dMUkjKRmGyHQ"
      }
    },
    {
      "cell_type": "code",
      "source": [
        "# pip install git+https://github.com/tensorflow/docs"
      ],
      "metadata": {
        "id": "iRa-mPYDG_Nx"
      },
      "execution_count": null,
      "outputs": []
    },
    {
      "cell_type": "code",
      "source": [
        "# import tensorflow_docs.vis.embed as embed\n",
        "# embed.embed_file(anim_file)"
      ],
      "metadata": {
        "id": "2JVOEgctHE4W"
      },
      "execution_count": null,
      "outputs": []
    },
    {
      "cell_type": "code",
      "source": [
        "# from IPython import display\n",
        "# display.Image (\"./dcgan.gif\")"
      ],
      "metadata": {
        "id": "-5USI3L9HjSx"
      },
      "execution_count": null,
      "outputs": []
    },
    {
      "cell_type": "code",
      "source": [
        "# def create_gif(epochs):\n",
        "#   for epoch_no in range(epochs):\n",
        "#     Image.open('image_at_epoch_{:04d}.png'.format(epoch_no+1))"
      ],
      "metadata": {
        "id": "0Kuh0J3AJMKY"
      },
      "execution_count": null,
      "outputs": []
    },
    {
      "cell_type": "code",
      "source": [
        "# create_gif(140)"
      ],
      "metadata": {
        "id": "fPBmyg_lKfD1"
      },
      "execution_count": null,
      "outputs": []
    },
    {
      "cell_type": "code",
      "source": [
        "new_images_e = scale_images(X_e_0[:8],(299,299,3))\n",
        "new_images_samples = scale_images(samples,(299,299,3))\n",
        "FID(inc_model,new_images_e,new_images_samples)"
      ],
      "metadata": {
        "id": "YQrExVdHlPbO",
        "colab": {
          "base_uri": "https://localhost:8080/"
        },
        "outputId": "7452ce03-e69c-4e50-b842-75c885096311"
      },
      "execution_count": null,
      "outputs": [
        {
          "output_type": "execute_result",
          "data": {
            "text/plain": [
              "1.5097777698019326"
            ]
          },
          "metadata": {},
          "execution_count": 38
        }
      ]
    },
    {
      "cell_type": "code",
      "source": [
        ""
      ],
      "metadata": {
        "id": "1zu_AnES26sB"
      },
      "execution_count": null,
      "outputs": []
    }
  ]
}